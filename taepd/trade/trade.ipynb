{
 "cells": [
  {
   "cell_type": "code",
   "execution_count": null,
   "id": "23e75f7a-efa4-4f8f-ae2b-9f146df29ce6",
   "metadata": {},
   "outputs": [],
   "source": [
    "#pip install prettyprinter"
   ]
  },
  {
   "cell_type": "code",
   "execution_count": null,
   "id": "a5480165-e5e6-40b2-be60-06ca8e46e2f1",
   "metadata": {},
   "outputs": [],
   "source": [
    "#pip install ruamel.yaml"
   ]
  },
  {
   "cell_type": "code",
   "execution_count": 1,
   "id": "3863f74a-cbc9-48f2-ac06-e8a61d6ea7af",
   "metadata": {},
   "outputs": [],
   "source": [
    "import argparse\n",
    "import json\n",
    "import os\n",
    "import pickle\n",
    "import random\n",
    "import numpy as np\n",
    "\n",
    "import torch\n",
    "import torch.nn as nn\n",
    "\n",
    "from torch.utils.data import DataLoader, RandomSampler, SequentialSampler\n",
    "from tqdm import tqdm\n",
    "from transformers import AdamW, get_linear_schedule_with_warmup, AutoTokenizer, AutoConfig\n",
    "\n",
    "from data_utils import (YamlConfigManager, WOSDataset, get_examples_from_dialogues, load_dataset,\n",
    "                        set_seed, custom_to_mask, custom_get_examples_from_dialogues, custom_load_dataset)\n",
    "\n",
    "from evaluation import _evaluation\n",
    "from inference import inference\n",
    "from model import TRADE, masked_cross_entropy_for_value\n",
    "from preprocessor import TRADEPreprocessor\n",
    "from prettyprinter import cpprint\n",
    "\n",
    "from pathlib import Path\n",
    "import glob\n",
    "import re\n",
    "\n",
    "import wandb\n",
    "import time\n",
    "\n",
    "from torch.cuda.amp import GradScaler, autocast"
   ]
  },
  {
   "cell_type": "code",
   "execution_count": 2,
   "id": "ea76b50d-a9c5-47cd-b2e7-95c3cc7e670e",
   "metadata": {},
   "outputs": [],
   "source": [
    "device = torch.device(\"cuda\" if torch.cuda.is_available() else \"cpu\")"
   ]
  },
  {
   "cell_type": "code",
   "execution_count": 3,
   "id": "a70e2376-5bc5-403e-8a7f-186098cc0b87",
   "metadata": {},
   "outputs": [
    {
     "name": "stdout",
     "output_type": "stream",
     "text": [
      "easydict.EasyDict({\n",
      "    'data_dir': '../input/data/train_dataset',\n",
      "    'model_dir': 'results',\n",
      "    'train_batch_size': 4,\n",
      "    'eval_batch_size': 8,\n",
      "    'learning_rate': 3e-05,\n",
      "    'adam_epsilon': 1e-08,\n",
      "    'max_grad_norm': 1.0,\n",
      "    'num_train_epochs': 30,\n",
      "    'warmup_ratio': 0.0,\n",
      "    'random_seed': 42,\n",
      "    'n_gate': 5,\n",
      "    'teacher_forcing_ratio': 0.5,\n",
      "    'model_name_or_path': 'dsksd/bert-ko-small-minimal',\n",
      "    'proj_dim': 'None',\n",
      "    'tag': ['trade'],\n",
      "    'use_kfold': False,\n",
      "    'num_k': 0,\n",
      "    'val_ratio': 0.1,\n",
      "    'scheduler': 'Linear',\n",
      "    'mask': True\n",
      "})\n"
     ]
    }
   ],
   "source": [
    "cfg = YamlConfigManager('./config.yml', 'base').values\n",
    "cpprint(cfg)"
   ]
  },
  {
   "cell_type": "code",
   "execution_count": 4,
   "id": "00ac08d8-410a-4892-b1c5-f511005bc770",
   "metadata": {},
   "outputs": [],
   "source": [
    "# Get current learning rate\n",
    "def get_lr(scheduler):\n",
    "    return scheduler.get_last_lr()[0]"
   ]
  },
  {
   "cell_type": "code",
   "execution_count": 5,
   "id": "6ebb526d-d6f0-4a16-bdfa-600edb5fb019",
   "metadata": {},
   "outputs": [
    {
     "name": "stderr",
     "output_type": "stream",
     "text": [
      " 17%|█▋        | 1086/6300 [00:00<00:00, 10859.75it/s]"
     ]
    },
    {
     "name": "stdout",
     "output_type": "stream",
     "text": [
      "k  8\n",
      "[ 149 4765 4335 2340 4677 6176 5227 6556 5449  657]\n"
     ]
    },
    {
     "name": "stderr",
     "output_type": "stream",
     "text": [
      "100%|██████████| 6300/6300 [00:00<00:00, 8423.36it/s] \n",
      "100%|██████████| 700/700 [00:00<00:00, 2595.12it/s]\n"
     ]
    }
   ],
   "source": [
    "# random seed 고정\n",
    "set_seed(cfg.random_seed)\n",
    "\n",
    "# Data Loading\n",
    "train_data_file = f\"{cfg.data_dir}/train_dials.json\"\n",
    "slot_meta = json.load(open(f\"{cfg.data_dir}/slot_meta.json\"))\n",
    "# train_data, dev_data, dev_labels = load_dataset(train_data_file, cfg.val_ratio)\n",
    "train_data, dev_data, dev_labels = custom_load_dataset(train_data_file, cfg.val_ratio, k=8)\n",
    "\n",
    "train_examples = custom_get_examples_from_dialogues(\n",
    "    train_data, user_first=False, dialogue_level=False\n",
    ")\n",
    "dev_examples = custom_get_examples_from_dialogues(\n",
    "    dev_data, user_first=False, dialogue_level=False\n",
    ")"
   ]
  },
  {
   "cell_type": "code",
   "execution_count": 6,
   "id": "c99340d3-9a2c-4fa9-9061-915f61dd5743",
   "metadata": {},
   "outputs": [
    {
     "data": {
      "text/plain": [
       "DSTInputExample(guid='snowy-hat-8324:관광_식당_11-0', context_turns=[], current_turn=['', ' # ', '서울 중앙에 있는 박물관을 찾아주세요', ' * '], label=['관광-종류-박물관', '관광-지역-서울 중앙'])"
      ]
     },
     "execution_count": 6,
     "metadata": {},
     "output_type": "execute_result"
    }
   ],
   "source": [
    "train_examples[0]"
   ]
  },
  {
   "cell_type": "code",
   "execution_count": 7,
   "id": "07631841-706c-4b78-933f-5d32bde5fa3b",
   "metadata": {},
   "outputs": [],
   "source": [
    "# Define Preprocessor\n",
    "tokenizer = AutoTokenizer.from_pretrained(cfg.model_name_or_path)\n",
    "\n",
    "# Dealing with long texts The maximum sequence length of BERT is 512.\n",
    "processor = TRADEPreprocessor(slot_meta, tokenizer, max_seq_length=512, n_gate=cfg.n_gate)"
   ]
  },
  {
   "cell_type": "code",
   "execution_count": 8,
   "id": "69681250-741e-467b-9179-b799e53f5a10",
   "metadata": {
    "tags": []
   },
   "outputs": [],
   "source": [
    "# Extracting Featrues\n",
    "# cpprint('Extracting Features...')\n",
    "# train_features = processor.sep_custom_convert_examples_to_features(train_examples)\n",
    "# dev_features = processor.sep_custom_convert_examples_to_features(dev_examples)"
   ]
  },
  {
   "cell_type": "code",
   "execution_count": 9,
   "id": "60162a83-bd1c-4fe1-8270-406f11549317",
   "metadata": {},
   "outputs": [],
   "source": [
    "# # 전체 train data InputFeatur 저장\n",
    "# with open('custom_train_features.txt', 'wb') as f:\n",
    "#     pickle.dump(train_features, f)\n",
    "# with open('custom_dev_features.txt', 'wb') as f:\n",
    "#     pickle.dump(dev_features, f)"
   ]
  },
  {
   "cell_type": "code",
   "execution_count": 10,
   "id": "211b7774-b447-4d87-973d-2ecd124b4d14",
   "metadata": {},
   "outputs": [],
   "source": [
    "# 저장된 파일 사용\n",
    "with open('custom_train_features.txt', 'rb') as f:\n",
    "    train_features = pickle.load(f)\n",
    "with open('custom_dev_features.txt', 'rb') as f:\n",
    "    dev_features = pickle.load(f)"
   ]
  },
  {
   "cell_type": "code",
   "execution_count": 11,
   "id": "93ac70ca-510c-40a5-b2bd-845a246ba6b5",
   "metadata": {},
   "outputs": [],
   "source": [
    "# Slot Meta tokenizing for the decoder initial inputs\n",
    "tokenized_slot_meta = []\n",
    "for slot in slot_meta:\n",
    "    tokenized_slot_meta.append(\n",
    "        tokenizer.encode(slot.replace(\"-\", \" \"), add_special_tokens=False)\n",
    "    )"
   ]
  },
  {
   "cell_type": "code",
   "execution_count": 12,
   "id": "ec392330-ac93-499b-9d20-15370366ceb2",
   "metadata": {},
   "outputs": [
    {
     "name": "stderr",
     "output_type": "stream",
     "text": [
      "/opt/conda/lib/python3.7/site-packages/torch/nn/modules/rnn.py:61: UserWarning: dropout option adds dropout after all but last recurrent layer, so non-zero dropout expects num_layers greater than 1, but got dropout=0.1 and num_layers=1\n",
      "  \"num_layers={}\".format(dropout, num_layers))\n"
     ]
    },
    {
     "name": "stdout",
     "output_type": "stream",
     "text": [
      "Model is initialized\n"
     ]
    }
   ],
   "source": [
    "# Model 선언\n",
    "config = AutoConfig.from_pretrained('dsksd/bert-ko-small-minimal')\n",
    "config.model_name_or_path = 'dsksd/bert-ko-small-minimal'\n",
    "config.n_gate = cfg.n_gate\n",
    "config.proj_dim = None\n",
    "\n",
    "model = TRADE(config, tokenized_slot_meta)\n",
    "\n",
    "model.to(device)\n",
    "print(\"Model is initialized\")"
   ]
  },
  {
   "cell_type": "code",
   "execution_count": 13,
   "id": "126758aa-9a0e-4eff-9a95-b1f35ca00a75",
   "metadata": {},
   "outputs": [
    {
     "name": "stderr",
     "output_type": "stream",
     "text": [
      "\u001b[34m\u001b[1mwandb\u001b[0m: Currently logged in as: \u001b[33mtaepd\u001b[0m (use `wandb login --relogin` to force relogin)\n",
      "\u001b[34m\u001b[1mwandb\u001b[0m: wandb version 0.10.30 is available!  To upgrade, please run:\n",
      "\u001b[34m\u001b[1mwandb\u001b[0m:  $ pip install wandb --upgrade\n"
     ]
    },
    {
     "data": {
      "text/html": [
       "\n",
       "                Tracking run with wandb version 0.10.28<br/>\n",
       "                Syncing run <strong style=\"color:#cdcd00\">iconic-mountain-34</strong> to <a href=\"https://wandb.ai\" target=\"_blank\">Weights & Biases</a> <a href=\"https://docs.wandb.com/integrations/jupyter.html\" target=\"_blank\">(Documentation)</a>.<br/>\n",
       "                Project page: <a href=\"https://wandb.ai/taepd/DST\" target=\"_blank\">https://wandb.ai/taepd/DST</a><br/>\n",
       "                Run page: <a href=\"https://wandb.ai/taepd/DST/runs/1bydb7fq\" target=\"_blank\">https://wandb.ai/taepd/DST/runs/1bydb7fq</a><br/>\n",
       "                Run data is saved locally in <code>/opt/ml/repo/taepd/trade/wandb/run-20210518_173757-1bydb7fq</code><br/><br/>\n",
       "            "
      ],
      "text/plain": [
       "<IPython.core.display.HTML object>"
      ]
     },
     "metadata": {},
     "output_type": "display_data"
    },
    {
     "data": {
      "text/html": [
       "<h1>Run(1bydb7fq)</h1><iframe src=\"https://wandb.ai/taepd/DST/runs/1bydb7fq\" style=\"border:none;width:100%;height:400px\"></iframe>"
      ],
      "text/plain": [
       "<wandb.sdk.wandb_run.Run at 0x7fd118e85a10>"
      ]
     },
     "execution_count": 13,
     "metadata": {},
     "output_type": "execute_result"
    }
   ],
   "source": [
    "# --wandb initialize with configuration\n",
    "wandb.init(project='DST', tags=cfg.tag, config=cfg)"
   ]
  },
  {
   "cell_type": "code",
   "execution_count": 14,
   "id": "68e51a0d-f3d2-4a71-8e58-37dbafbb4130",
   "metadata": {},
   "outputs": [
    {
     "name": "stdout",
     "output_type": "stream",
     "text": [
      "# train: 46127\n",
      "# dev: 5118\n"
     ]
    }
   ],
   "source": [
    "train_data = WOSDataset(train_features)\n",
    "train_sampler = RandomSampler(train_data)\n",
    "train_loader = DataLoader(\n",
    "    train_data,\n",
    "    batch_size=cfg.train_batch_size,\n",
    "    sampler=train_sampler,\n",
    "    collate_fn=processor.collate_fn,\n",
    "    num_workers=4,  # num_worker = 4 * num_GPU\n",
    "    pin_memory=True,\n",
    ")\n",
    "print(\"# train:\", len(train_data))\n",
    "\n",
    "dev_data = WOSDataset(dev_features)\n",
    "dev_sampler = SequentialSampler(dev_data)\n",
    "dev_loader = DataLoader(\n",
    "    dev_data,\n",
    "    batch_size=cfg.eval_batch_size,\n",
    "    sampler=dev_sampler,\n",
    "    collate_fn=processor.collate_fn,\n",
    "    num_workers=4,\n",
    "    pin_memory=True,\n",
    ")\n",
    "print(\"# dev:\", len(dev_data))\n",
    "\n",
    "\n"
   ]
  },
  {
   "cell_type": "code",
   "execution_count": 15,
   "id": "e32a5559-d31a-4937-8825-997da97673ac",
   "metadata": {},
   "outputs": [],
   "source": [
    "# Optimizer 및 Scheduler 선언\n",
    "n_epochs = cfg.num_train_epochs\n",
    "\n",
    "no_decay = [\"bias\", \"LayerNorm.weight\"]\n",
    "optimizer_grouped_parameters = [\n",
    "    {\n",
    "        \"params\": [p for n, p in model.named_parameters() if not any(nd in n for nd in no_decay)],\n",
    "        \"weight_decay\": 0.01,\n",
    "    },\n",
    "    {\n",
    "        \"params\": [p for n, p in model.named_parameters() if any(nd in n for nd in no_decay)],\n",
    "        \"weight_decay\": 0.0,\n",
    "    },\n",
    "]\n",
    "\n",
    "t_total = len(train_loader) * n_epochs\n",
    "optimizer = AdamW(optimizer_grouped_parameters, lr=cfg.learning_rate, eps=cfg.adam_epsilon)\n",
    "warmup_steps = int(t_total * cfg.warmup_ratio)\n",
    "# learning rate decreases linearly from the initial lr set in the optimizer to 0\n",
    "scheduler = get_linear_schedule_with_warmup(\n",
    "    optimizer, num_warmup_steps=warmup_steps, num_training_steps=t_total\n",
    ")\n",
    "teacher_forcing = cfg.teacher_forcing_ratio\n",
    "\n",
    "loss_fnc_1 = masked_cross_entropy_for_value  # generation\n",
    "loss_fnc_2 = nn.CrossEntropyLoss()  # gating\n",
    "loss_fnc_pretrain = nn.CrossEntropyLoss()  # MLM pretrain"
   ]
  },
  {
   "cell_type": "code",
   "execution_count": 16,
   "id": "8bdb7b28-a37c-49f3-ad41-8c949ab5ea9e",
   "metadata": {},
   "outputs": [],
   "source": [
    "# 모델 저장될 파일 위치 생성\n",
    "if not os.path.exists(f\"{cfg.model_dir}\"):\n",
    "    os.mkdir(f\"{cfg.model_dir}\")\n",
    "if not os.path.exists(f\"{cfg.model_dir}/{wandb.run.name}\"):\n",
    "    os.mkdir(f\"{cfg.model_dir}/{wandb.run.name}\")"
   ]
  },
  {
   "cell_type": "code",
   "execution_count": 17,
   "id": "2ef705d3-5aa4-44a8-a169-34f2c7afcb1d",
   "metadata": {},
   "outputs": [],
   "source": [
    "json.dump(\n",
    "    vars(cfg),\n",
    "    open(f\"{cfg.model_dir}/{wandb.run.name}/exp_config.json\", \"w\"),\n",
    "    indent=2,\n",
    "    ensure_ascii=False,\n",
    ")\n",
    "json.dump(\n",
    "    slot_meta,\n",
    "    open(f\"{cfg.model_dir}/slot_meta.json\", \"w\"),\n",
    "    indent=2,\n",
    "    ensure_ascii=False,\n",
    ")"
   ]
  },
  {
   "cell_type": "markdown",
   "id": "5910b61e-bcfe-45ae-a050-94d300be0ea0",
   "metadata": {},
   "source": [
    "### Pretraining"
   ]
  },
  {
   "cell_type": "code",
   "execution_count": 18,
   "id": "b0a7cff0-4c9d-429b-8547-1b3ff44fca71",
   "metadata": {},
   "outputs": [
    {
     "name": "stderr",
     "output_type": "stream",
     "text": [
      "100%|██████████| 2000/2000 [00:00<00:00, 15715.12it/s]\n",
      "Token indices sequence length is longer than the specified maximum sequence length for this model (539 > 512). Running this sequence through the model will result in indexing errors\n"
     ]
    }
   ],
   "source": [
    "eval_data = json.load(open(f\"../input/data/eval_dataset/eval_dials.json\", \"r\"))\n",
    "\n",
    "eval_examples = get_examples_from_dialogues(\n",
    "    eval_data, user_first=False, dialogue_level=False\n",
    ")\n",
    "\n",
    "# Extracting Featrues\n",
    "eval_features = processor.convert_examples_to_features(eval_examples)\n",
    "eval_data = WOSDataset(eval_features)\n",
    "eval_sampler = SequentialSampler(eval_data)\n",
    "eval_loader = DataLoader(\n",
    "    eval_data,\n",
    "    batch_size=8,\n",
    "    sampler=eval_sampler,\n",
    "    collate_fn=processor.collate_fn,\n",
    ")"
   ]
  },
  {
   "cell_type": "code",
   "execution_count": 19,
   "id": "48019bdd-182f-44ab-987c-52074b8f4af2",
   "metadata": {
    "collapsed": true,
    "jupyter": {
     "outputs_hidden": true
    },
    "tags": []
   },
   "outputs": [
    {
     "name": "stderr",
     "output_type": "stream",
     "text": [
      "  0%|          | 2/1847 [00:00<02:37, 11.70it/s]"
     ]
    },
    {
     "name": "stdout",
     "output_type": "stream",
     "text": [
      "[0/10] [0/1847] 10.665379\n"
     ]
    },
    {
     "name": "stderr",
     "output_type": "stream",
     "text": [
      "  6%|▌         | 102/1847 [00:08<02:21, 12.36it/s]"
     ]
    },
    {
     "name": "stdout",
     "output_type": "stream",
     "text": [
      "[0/10] [100/1847] 9.335777\n"
     ]
    },
    {
     "name": "stderr",
     "output_type": "stream",
     "text": [
      " 11%|█         | 202/1847 [00:16<02:17, 12.00it/s]"
     ]
    },
    {
     "name": "stdout",
     "output_type": "stream",
     "text": [
      "[0/10] [200/1847] 8.538736\n"
     ]
    },
    {
     "name": "stderr",
     "output_type": "stream",
     "text": [
      " 16%|█▋        | 302/1847 [00:24<02:19, 11.11it/s]"
     ]
    },
    {
     "name": "stdout",
     "output_type": "stream",
     "text": [
      "[0/10] [300/1847] 7.021785\n"
     ]
    },
    {
     "name": "stderr",
     "output_type": "stream",
     "text": [
      " 22%|██▏       | 402/1847 [00:32<02:05, 11.48it/s]"
     ]
    },
    {
     "name": "stdout",
     "output_type": "stream",
     "text": [
      "[0/10] [400/1847] 6.846267\n"
     ]
    },
    {
     "name": "stderr",
     "output_type": "stream",
     "text": [
      " 27%|██▋       | 502/1847 [00:41<01:53, 11.85it/s]"
     ]
    },
    {
     "name": "stdout",
     "output_type": "stream",
     "text": [
      "[0/10] [500/1847] 5.674328\n"
     ]
    },
    {
     "name": "stderr",
     "output_type": "stream",
     "text": [
      " 33%|███▎      | 602/1847 [00:49<01:39, 12.52it/s]"
     ]
    },
    {
     "name": "stdout",
     "output_type": "stream",
     "text": [
      "[0/10] [600/1847] 6.264143\n"
     ]
    },
    {
     "name": "stderr",
     "output_type": "stream",
     "text": [
      " 38%|███▊      | 702/1847 [00:57<01:31, 12.45it/s]"
     ]
    },
    {
     "name": "stdout",
     "output_type": "stream",
     "text": [
      "[0/10] [700/1847] 4.851836\n"
     ]
    },
    {
     "name": "stderr",
     "output_type": "stream",
     "text": [
      " 43%|████▎     | 802/1847 [01:05<01:35, 10.92it/s]"
     ]
    },
    {
     "name": "stdout",
     "output_type": "stream",
     "text": [
      "[0/10] [800/1847] 4.647188\n"
     ]
    },
    {
     "name": "stderr",
     "output_type": "stream",
     "text": [
      " 49%|████▉     | 902/1847 [01:13<01:13, 12.92it/s]"
     ]
    },
    {
     "name": "stdout",
     "output_type": "stream",
     "text": [
      "[0/10] [900/1847] 4.425786\n"
     ]
    },
    {
     "name": "stderr",
     "output_type": "stream",
     "text": [
      " 54%|█████▍    | 1002/1847 [01:21<01:10, 12.00it/s]"
     ]
    },
    {
     "name": "stdout",
     "output_type": "stream",
     "text": [
      "[0/10] [1000/1847] 4.906311\n"
     ]
    },
    {
     "name": "stderr",
     "output_type": "stream",
     "text": [
      " 60%|█████▉    | 1102/1847 [01:29<01:05, 11.40it/s]"
     ]
    },
    {
     "name": "stdout",
     "output_type": "stream",
     "text": [
      "[0/10] [1100/1847] 4.086486\n"
     ]
    },
    {
     "name": "stderr",
     "output_type": "stream",
     "text": [
      " 65%|██████▌   | 1202/1847 [01:38<00:53, 12.12it/s]"
     ]
    },
    {
     "name": "stdout",
     "output_type": "stream",
     "text": [
      "[0/10] [1200/1847] 4.000368\n"
     ]
    },
    {
     "name": "stderr",
     "output_type": "stream",
     "text": [
      " 70%|███████   | 1302/1847 [01:46<00:45, 11.97it/s]"
     ]
    },
    {
     "name": "stdout",
     "output_type": "stream",
     "text": [
      "[0/10] [1300/1847] 3.090740\n"
     ]
    },
    {
     "name": "stderr",
     "output_type": "stream",
     "text": [
      " 76%|███████▌  | 1404/1847 [01:54<00:31, 14.14it/s]"
     ]
    },
    {
     "name": "stdout",
     "output_type": "stream",
     "text": [
      "[0/10] [1400/1847] 3.678691\n"
     ]
    },
    {
     "name": "stderr",
     "output_type": "stream",
     "text": [
      " 81%|████████▏ | 1502/1847 [02:02<00:27, 12.54it/s]"
     ]
    },
    {
     "name": "stdout",
     "output_type": "stream",
     "text": [
      "[0/10] [1500/1847] 3.257125\n"
     ]
    },
    {
     "name": "stderr",
     "output_type": "stream",
     "text": [
      " 87%|████████▋ | 1602/1847 [02:10<00:19, 12.38it/s]"
     ]
    },
    {
     "name": "stdout",
     "output_type": "stream",
     "text": [
      "[0/10] [1600/1847] 3.567274\n"
     ]
    },
    {
     "name": "stderr",
     "output_type": "stream",
     "text": [
      " 92%|█████████▏| 1702/1847 [02:18<00:11, 12.91it/s]"
     ]
    },
    {
     "name": "stdout",
     "output_type": "stream",
     "text": [
      "[0/10] [1700/1847] 3.341910\n"
     ]
    },
    {
     "name": "stderr",
     "output_type": "stream",
     "text": [
      " 98%|█████████▊| 1802/1847 [02:27<00:03, 12.96it/s]"
     ]
    },
    {
     "name": "stdout",
     "output_type": "stream",
     "text": [
      "[0/10] [1800/1847] 3.799031\n"
     ]
    },
    {
     "name": "stderr",
     "output_type": "stream",
     "text": [
      "100%|██████████| 1847/1847 [02:30<00:00, 12.25it/s]\n",
      "  0%|          | 2/1847 [00:00<02:16, 13.54it/s]"
     ]
    },
    {
     "name": "stdout",
     "output_type": "stream",
     "text": [
      "[1/10] [0/1847] 2.596624\n"
     ]
    },
    {
     "name": "stderr",
     "output_type": "stream",
     "text": [
      "  6%|▌         | 102/1847 [00:08<02:19, 12.55it/s]"
     ]
    },
    {
     "name": "stdout",
     "output_type": "stream",
     "text": [
      "[1/10] [100/1847] 2.063027\n"
     ]
    },
    {
     "name": "stderr",
     "output_type": "stream",
     "text": [
      " 11%|█         | 204/1847 [00:16<02:06, 12.98it/s]"
     ]
    },
    {
     "name": "stdout",
     "output_type": "stream",
     "text": [
      "[1/10] [200/1847] 3.133280\n"
     ]
    },
    {
     "name": "stderr",
     "output_type": "stream",
     "text": [
      " 16%|█▋        | 302/1847 [00:24<02:18, 11.18it/s]"
     ]
    },
    {
     "name": "stdout",
     "output_type": "stream",
     "text": [
      "[1/10] [300/1847] 3.293401\n"
     ]
    },
    {
     "name": "stderr",
     "output_type": "stream",
     "text": [
      " 22%|██▏       | 402/1847 [00:32<02:05, 11.50it/s]"
     ]
    },
    {
     "name": "stdout",
     "output_type": "stream",
     "text": [
      "[1/10] [400/1847] 3.286769\n"
     ]
    },
    {
     "name": "stderr",
     "output_type": "stream",
     "text": [
      " 27%|██▋       | 502/1847 [00:40<01:52, 12.01it/s]"
     ]
    },
    {
     "name": "stdout",
     "output_type": "stream",
     "text": [
      "[1/10] [500/1847] 2.455362\n"
     ]
    },
    {
     "name": "stderr",
     "output_type": "stream",
     "text": [
      " 33%|███▎      | 602/1847 [00:49<01:51, 11.13it/s]"
     ]
    },
    {
     "name": "stdout",
     "output_type": "stream",
     "text": [
      "[1/10] [600/1847] 2.783832\n"
     ]
    },
    {
     "name": "stderr",
     "output_type": "stream",
     "text": [
      " 38%|███▊      | 702/1847 [00:57<01:30, 12.62it/s]"
     ]
    },
    {
     "name": "stdout",
     "output_type": "stream",
     "text": [
      "[1/10] [700/1847] 2.380018\n"
     ]
    },
    {
     "name": "stderr",
     "output_type": "stream",
     "text": [
      " 43%|████▎     | 802/1847 [01:05<01:33, 11.12it/s]"
     ]
    },
    {
     "name": "stdout",
     "output_type": "stream",
     "text": [
      "[1/10] [800/1847] 2.640423\n"
     ]
    },
    {
     "name": "stderr",
     "output_type": "stream",
     "text": [
      " 49%|████▉     | 902/1847 [01:13<01:12, 13.03it/s]"
     ]
    },
    {
     "name": "stdout",
     "output_type": "stream",
     "text": [
      "[1/10] [900/1847] 2.031015\n"
     ]
    },
    {
     "name": "stderr",
     "output_type": "stream",
     "text": [
      " 54%|█████▍    | 1004/1847 [01:21<01:06, 12.67it/s]"
     ]
    },
    {
     "name": "stdout",
     "output_type": "stream",
     "text": [
      "[1/10] [1000/1847] 2.957128\n"
     ]
    },
    {
     "name": "stderr",
     "output_type": "stream",
     "text": [
      " 60%|█████▉    | 1102/1847 [01:30<01:12, 10.32it/s]"
     ]
    },
    {
     "name": "stdout",
     "output_type": "stream",
     "text": [
      "[1/10] [1100/1847] 2.324261\n"
     ]
    },
    {
     "name": "stderr",
     "output_type": "stream",
     "text": [
      " 65%|██████▌   | 1202/1847 [01:38<00:52, 12.22it/s]"
     ]
    },
    {
     "name": "stdout",
     "output_type": "stream",
     "text": [
      "[1/10] [1200/1847] 2.474546\n"
     ]
    },
    {
     "name": "stderr",
     "output_type": "stream",
     "text": [
      " 70%|███████   | 1302/1847 [01:46<00:45, 12.08it/s]"
     ]
    },
    {
     "name": "stdout",
     "output_type": "stream",
     "text": [
      "[1/10] [1300/1847] 1.785127\n"
     ]
    },
    {
     "name": "stderr",
     "output_type": "stream",
     "text": [
      " 76%|███████▌  | 1404/1847 [01:54<00:31, 14.07it/s]"
     ]
    },
    {
     "name": "stdout",
     "output_type": "stream",
     "text": [
      "[1/10] [1400/1847] 2.714947\n"
     ]
    },
    {
     "name": "stderr",
     "output_type": "stream",
     "text": [
      " 81%|████████▏ | 1502/1847 [02:02<00:27, 12.65it/s]"
     ]
    },
    {
     "name": "stdout",
     "output_type": "stream",
     "text": [
      "[1/10] [1500/1847] 2.519907\n"
     ]
    },
    {
     "name": "stderr",
     "output_type": "stream",
     "text": [
      " 87%|████████▋ | 1602/1847 [02:10<00:19, 12.46it/s]"
     ]
    },
    {
     "name": "stdout",
     "output_type": "stream",
     "text": [
      "[1/10] [1600/1847] 2.657184\n"
     ]
    },
    {
     "name": "stderr",
     "output_type": "stream",
     "text": [
      " 92%|█████████▏| 1702/1847 [02:18<00:11, 12.80it/s]"
     ]
    },
    {
     "name": "stdout",
     "output_type": "stream",
     "text": [
      "[1/10] [1700/1847] 2.265561\n"
     ]
    },
    {
     "name": "stderr",
     "output_type": "stream",
     "text": [
      " 98%|█████████▊| 1802/1847 [02:26<00:03, 12.97it/s]"
     ]
    },
    {
     "name": "stdout",
     "output_type": "stream",
     "text": [
      "[1/10] [1800/1847] 2.479088\n"
     ]
    },
    {
     "name": "stderr",
     "output_type": "stream",
     "text": [
      "100%|██████████| 1847/1847 [02:30<00:00, 12.27it/s]\n",
      "  0%|          | 2/1847 [00:00<02:17, 13.38it/s]"
     ]
    },
    {
     "name": "stdout",
     "output_type": "stream",
     "text": [
      "[2/10] [0/1847] 1.355536\n"
     ]
    },
    {
     "name": "stderr",
     "output_type": "stream",
     "text": [
      "  6%|▌         | 102/1847 [00:08<02:18, 12.58it/s]"
     ]
    },
    {
     "name": "stdout",
     "output_type": "stream",
     "text": [
      "[2/10] [100/1847] 1.829472\n"
     ]
    },
    {
     "name": "stderr",
     "output_type": "stream",
     "text": [
      " 11%|█         | 204/1847 [00:16<02:06, 12.97it/s]"
     ]
    },
    {
     "name": "stdout",
     "output_type": "stream",
     "text": [
      "[2/10] [200/1847] 3.072183\n"
     ]
    },
    {
     "name": "stderr",
     "output_type": "stream",
     "text": [
      " 16%|█▋        | 302/1847 [00:24<02:17, 11.20it/s]"
     ]
    },
    {
     "name": "stdout",
     "output_type": "stream",
     "text": [
      "[2/10] [300/1847] 2.776514\n"
     ]
    },
    {
     "name": "stderr",
     "output_type": "stream",
     "text": [
      " 22%|██▏       | 402/1847 [00:32<02:04, 11.58it/s]"
     ]
    },
    {
     "name": "stdout",
     "output_type": "stream",
     "text": [
      "[2/10] [400/1847] 2.509109\n"
     ]
    },
    {
     "name": "stderr",
     "output_type": "stream",
     "text": [
      " 27%|██▋       | 502/1847 [00:40<01:52, 12.00it/s]"
     ]
    },
    {
     "name": "stdout",
     "output_type": "stream",
     "text": [
      "[2/10] [500/1847] 2.494088\n"
     ]
    },
    {
     "name": "stderr",
     "output_type": "stream",
     "text": [
      " 33%|███▎      | 602/1847 [00:48<01:39, 12.58it/s]"
     ]
    },
    {
     "name": "stdout",
     "output_type": "stream",
     "text": [
      "[2/10] [600/1847] 2.614070\n"
     ]
    },
    {
     "name": "stderr",
     "output_type": "stream",
     "text": [
      " 38%|███▊      | 702/1847 [00:56<01:30, 12.59it/s]"
     ]
    },
    {
     "name": "stdout",
     "output_type": "stream",
     "text": [
      "[2/10] [700/1847] 2.153256\n"
     ]
    },
    {
     "name": "stderr",
     "output_type": "stream",
     "text": [
      " 43%|████▎     | 802/1847 [01:05<01:34, 11.04it/s]"
     ]
    },
    {
     "name": "stdout",
     "output_type": "stream",
     "text": [
      "[2/10] [800/1847] 2.136165\n"
     ]
    },
    {
     "name": "stderr",
     "output_type": "stream",
     "text": [
      " 49%|████▉     | 902/1847 [01:13<01:12, 13.04it/s]"
     ]
    },
    {
     "name": "stdout",
     "output_type": "stream",
     "text": [
      "[2/10] [900/1847] 1.631295\n"
     ]
    },
    {
     "name": "stderr",
     "output_type": "stream",
     "text": [
      " 54%|█████▍    | 1002/1847 [01:20<01:09, 12.16it/s]"
     ]
    },
    {
     "name": "stdout",
     "output_type": "stream",
     "text": [
      "[2/10] [1000/1847] 2.528520\n"
     ]
    },
    {
     "name": "stderr",
     "output_type": "stream",
     "text": [
      " 60%|█████▉    | 1102/1847 [01:29<01:05, 11.33it/s]"
     ]
    },
    {
     "name": "stdout",
     "output_type": "stream",
     "text": [
      "[2/10] [1100/1847] 2.466581\n"
     ]
    },
    {
     "name": "stderr",
     "output_type": "stream",
     "text": [
      " 65%|██████▌   | 1202/1847 [01:37<00:52, 12.25it/s]"
     ]
    },
    {
     "name": "stdout",
     "output_type": "stream",
     "text": [
      "[2/10] [1200/1847] 2.268657\n"
     ]
    },
    {
     "name": "stderr",
     "output_type": "stream",
     "text": [
      " 70%|███████   | 1302/1847 [01:45<00:45, 12.11it/s]"
     ]
    },
    {
     "name": "stdout",
     "output_type": "stream",
     "text": [
      "[2/10] [1300/1847] 1.461890\n"
     ]
    },
    {
     "name": "stderr",
     "output_type": "stream",
     "text": [
      " 76%|███████▌  | 1404/1847 [01:53<00:31, 14.12it/s]"
     ]
    },
    {
     "name": "stdout",
     "output_type": "stream",
     "text": [
      "[2/10] [1400/1847] 2.195203\n"
     ]
    },
    {
     "name": "stderr",
     "output_type": "stream",
     "text": [
      " 81%|████████▏ | 1502/1847 [02:01<00:27, 12.71it/s]"
     ]
    },
    {
     "name": "stdout",
     "output_type": "stream",
     "text": [
      "[2/10] [1500/1847] 1.952316\n"
     ]
    },
    {
     "name": "stderr",
     "output_type": "stream",
     "text": [
      " 87%|████████▋ | 1604/1847 [02:09<00:18, 13.31it/s]"
     ]
    },
    {
     "name": "stdout",
     "output_type": "stream",
     "text": [
      "[2/10] [1600/1847] 2.421629\n"
     ]
    },
    {
     "name": "stderr",
     "output_type": "stream",
     "text": [
      " 92%|█████████▏| 1702/1847 [02:17<00:11, 13.00it/s]"
     ]
    },
    {
     "name": "stdout",
     "output_type": "stream",
     "text": [
      "[2/10] [1700/1847] 2.228364\n"
     ]
    },
    {
     "name": "stderr",
     "output_type": "stream",
     "text": [
      " 98%|█████████▊| 1802/1847 [02:25<00:03, 13.03it/s]"
     ]
    },
    {
     "name": "stdout",
     "output_type": "stream",
     "text": [
      "[2/10] [1800/1847] 2.585068\n"
     ]
    },
    {
     "name": "stderr",
     "output_type": "stream",
     "text": [
      "100%|██████████| 1847/1847 [02:29<00:00, 12.36it/s]\n",
      "  0%|          | 2/1847 [00:00<02:16, 13.48it/s]"
     ]
    },
    {
     "name": "stdout",
     "output_type": "stream",
     "text": [
      "[3/10] [0/1847] 1.229987\n"
     ]
    },
    {
     "name": "stderr",
     "output_type": "stream",
     "text": [
      "  6%|▌         | 102/1847 [00:08<02:18, 12.62it/s]"
     ]
    },
    {
     "name": "stdout",
     "output_type": "stream",
     "text": [
      "[3/10] [100/1847] 1.617241\n"
     ]
    },
    {
     "name": "stderr",
     "output_type": "stream",
     "text": [
      " 11%|█         | 204/1847 [00:16<02:07, 12.93it/s]"
     ]
    },
    {
     "name": "stdout",
     "output_type": "stream",
     "text": [
      "[3/10] [200/1847] 2.109239\n"
     ]
    },
    {
     "name": "stderr",
     "output_type": "stream",
     "text": [
      " 16%|█▋        | 302/1847 [00:24<02:17, 11.25it/s]"
     ]
    },
    {
     "name": "stdout",
     "output_type": "stream",
     "text": [
      "[3/10] [300/1847] 2.617620\n"
     ]
    },
    {
     "name": "stderr",
     "output_type": "stream",
     "text": [
      " 22%|██▏       | 402/1847 [00:32<02:05, 11.49it/s]"
     ]
    },
    {
     "name": "stdout",
     "output_type": "stream",
     "text": [
      "[3/10] [400/1847] 2.407933\n"
     ]
    },
    {
     "name": "stderr",
     "output_type": "stream",
     "text": [
      " 27%|██▋       | 502/1847 [00:40<01:52, 11.97it/s]"
     ]
    },
    {
     "name": "stdout",
     "output_type": "stream",
     "text": [
      "[3/10] [500/1847] 1.823072\n"
     ]
    },
    {
     "name": "stderr",
     "output_type": "stream",
     "text": [
      " 33%|███▎      | 602/1847 [00:48<01:38, 12.58it/s]"
     ]
    },
    {
     "name": "stdout",
     "output_type": "stream",
     "text": [
      "[3/10] [600/1847] 2.416474\n"
     ]
    },
    {
     "name": "stderr",
     "output_type": "stream",
     "text": [
      " 38%|███▊      | 702/1847 [00:56<01:30, 12.61it/s]"
     ]
    },
    {
     "name": "stdout",
     "output_type": "stream",
     "text": [
      "[3/10] [700/1847] 1.905880\n"
     ]
    },
    {
     "name": "stderr",
     "output_type": "stream",
     "text": [
      " 43%|████▎     | 802/1847 [01:05<01:34, 11.08it/s]"
     ]
    },
    {
     "name": "stdout",
     "output_type": "stream",
     "text": [
      "[3/10] [800/1847] 1.844514\n"
     ]
    },
    {
     "name": "stderr",
     "output_type": "stream",
     "text": [
      " 49%|████▉     | 902/1847 [01:12<01:12, 13.00it/s]"
     ]
    },
    {
     "name": "stdout",
     "output_type": "stream",
     "text": [
      "[3/10] [900/1847] 1.378018\n"
     ]
    },
    {
     "name": "stderr",
     "output_type": "stream",
     "text": [
      " 54%|█████▍    | 1002/1847 [01:20<01:09, 12.14it/s]"
     ]
    },
    {
     "name": "stdout",
     "output_type": "stream",
     "text": [
      "[3/10] [1000/1847] 2.200979\n"
     ]
    },
    {
     "name": "stderr",
     "output_type": "stream",
     "text": [
      " 60%|█████▉    | 1102/1847 [01:29<01:04, 11.55it/s]"
     ]
    },
    {
     "name": "stdout",
     "output_type": "stream",
     "text": [
      "[3/10] [1100/1847] 1.725828\n"
     ]
    },
    {
     "name": "stderr",
     "output_type": "stream",
     "text": [
      " 65%|██████▌   | 1202/1847 [01:37<00:52, 12.19it/s]"
     ]
    },
    {
     "name": "stdout",
     "output_type": "stream",
     "text": [
      "[3/10] [1200/1847] 1.494859\n"
     ]
    },
    {
     "name": "stderr",
     "output_type": "stream",
     "text": [
      " 70%|███████   | 1302/1847 [01:45<00:45, 12.05it/s]"
     ]
    },
    {
     "name": "stdout",
     "output_type": "stream",
     "text": [
      "[3/10] [1300/1847] 1.143719\n"
     ]
    },
    {
     "name": "stderr",
     "output_type": "stream",
     "text": [
      " 76%|███████▌  | 1404/1847 [01:53<00:31, 14.11it/s]"
     ]
    },
    {
     "name": "stdout",
     "output_type": "stream",
     "text": [
      "[3/10] [1400/1847] 1.735090\n"
     ]
    },
    {
     "name": "stderr",
     "output_type": "stream",
     "text": [
      " 81%|████████▏ | 1502/1847 [02:01<00:27, 12.71it/s]"
     ]
    },
    {
     "name": "stdout",
     "output_type": "stream",
     "text": [
      "[3/10] [1500/1847] 1.646793\n"
     ]
    },
    {
     "name": "stderr",
     "output_type": "stream",
     "text": [
      " 87%|████████▋ | 1604/1847 [02:09<00:18, 13.29it/s]"
     ]
    },
    {
     "name": "stdout",
     "output_type": "stream",
     "text": [
      "[3/10] [1600/1847] 1.577593\n"
     ]
    },
    {
     "name": "stderr",
     "output_type": "stream",
     "text": [
      " 92%|█████████▏| 1702/1847 [02:17<00:11, 13.04it/s]"
     ]
    },
    {
     "name": "stdout",
     "output_type": "stream",
     "text": [
      "[3/10] [1700/1847] 1.652744\n"
     ]
    },
    {
     "name": "stderr",
     "output_type": "stream",
     "text": [
      " 98%|█████████▊| 1802/1847 [02:25<00:03, 13.01it/s]"
     ]
    },
    {
     "name": "stdout",
     "output_type": "stream",
     "text": [
      "[3/10] [1800/1847] 1.953696\n"
     ]
    },
    {
     "name": "stderr",
     "output_type": "stream",
     "text": [
      "100%|██████████| 1847/1847 [02:29<00:00, 12.36it/s]\n",
      "  0%|          | 2/1847 [00:00<02:15, 13.64it/s]"
     ]
    },
    {
     "name": "stdout",
     "output_type": "stream",
     "text": [
      "[4/10] [0/1847] 0.749555\n"
     ]
    },
    {
     "name": "stderr",
     "output_type": "stream",
     "text": [
      "  6%|▌         | 102/1847 [00:08<02:18, 12.60it/s]"
     ]
    },
    {
     "name": "stdout",
     "output_type": "stream",
     "text": [
      "[4/10] [100/1847] 1.342145\n"
     ]
    },
    {
     "name": "stderr",
     "output_type": "stream",
     "text": [
      " 11%|█         | 204/1847 [00:16<02:05, 13.09it/s]"
     ]
    },
    {
     "name": "stdout",
     "output_type": "stream",
     "text": [
      "[4/10] [200/1847] 1.947136\n"
     ]
    },
    {
     "name": "stderr",
     "output_type": "stream",
     "text": [
      " 16%|█▋        | 302/1847 [00:24<02:17, 11.27it/s]"
     ]
    },
    {
     "name": "stdout",
     "output_type": "stream",
     "text": [
      "[4/10] [300/1847] 1.758126\n"
     ]
    },
    {
     "name": "stderr",
     "output_type": "stream",
     "text": [
      " 22%|██▏       | 402/1847 [00:32<02:04, 11.63it/s]"
     ]
    },
    {
     "name": "stdout",
     "output_type": "stream",
     "text": [
      "[4/10] [400/1847] 1.888599\n"
     ]
    },
    {
     "name": "stderr",
     "output_type": "stream",
     "text": [
      " 27%|██▋       | 502/1847 [00:40<01:51, 12.03it/s]"
     ]
    },
    {
     "name": "stdout",
     "output_type": "stream",
     "text": [
      "[4/10] [500/1847] 1.453396\n"
     ]
    },
    {
     "name": "stderr",
     "output_type": "stream",
     "text": [
      " 33%|███▎      | 602/1847 [00:48<01:38, 12.58it/s]"
     ]
    },
    {
     "name": "stdout",
     "output_type": "stream",
     "text": [
      "[4/10] [600/1847] 1.770952\n"
     ]
    },
    {
     "name": "stderr",
     "output_type": "stream",
     "text": [
      " 38%|███▊      | 702/1847 [00:56<01:31, 12.58it/s]"
     ]
    },
    {
     "name": "stdout",
     "output_type": "stream",
     "text": [
      "[4/10] [700/1847] 1.651220\n"
     ]
    },
    {
     "name": "stderr",
     "output_type": "stream",
     "text": [
      " 43%|████▎     | 802/1847 [01:05<01:33, 11.13it/s]"
     ]
    },
    {
     "name": "stdout",
     "output_type": "stream",
     "text": [
      "[4/10] [800/1847] 1.634023\n"
     ]
    },
    {
     "name": "stderr",
     "output_type": "stream",
     "text": [
      " 49%|████▉     | 902/1847 [01:12<01:12, 13.02it/s]"
     ]
    },
    {
     "name": "stdout",
     "output_type": "stream",
     "text": [
      "[4/10] [900/1847] 1.487540\n"
     ]
    },
    {
     "name": "stderr",
     "output_type": "stream",
     "text": [
      " 54%|█████▍    | 1002/1847 [01:20<01:09, 12.14it/s]"
     ]
    },
    {
     "name": "stdout",
     "output_type": "stream",
     "text": [
      "[4/10] [1000/1847] 1.730968\n"
     ]
    },
    {
     "name": "stderr",
     "output_type": "stream",
     "text": [
      " 60%|█████▉    | 1102/1847 [01:28<01:04, 11.57it/s]"
     ]
    },
    {
     "name": "stdout",
     "output_type": "stream",
     "text": [
      "[4/10] [1100/1847] 1.625255\n"
     ]
    },
    {
     "name": "stderr",
     "output_type": "stream",
     "text": [
      " 65%|██████▌   | 1202/1847 [01:37<00:52, 12.23it/s]"
     ]
    },
    {
     "name": "stdout",
     "output_type": "stream",
     "text": [
      "[4/10] [1200/1847] 1.150649\n"
     ]
    },
    {
     "name": "stderr",
     "output_type": "stream",
     "text": [
      " 70%|███████   | 1302/1847 [01:45<00:45, 12.05it/s]"
     ]
    },
    {
     "name": "stdout",
     "output_type": "stream",
     "text": [
      "[4/10] [1300/1847] 0.925997\n"
     ]
    },
    {
     "name": "stderr",
     "output_type": "stream",
     "text": [
      " 76%|███████▌  | 1404/1847 [01:53<00:31, 14.17it/s]"
     ]
    },
    {
     "name": "stdout",
     "output_type": "stream",
     "text": [
      "[4/10] [1400/1847] 1.388767\n"
     ]
    },
    {
     "name": "stderr",
     "output_type": "stream",
     "text": [
      " 81%|████████▏ | 1502/1847 [02:01<00:26, 12.95it/s]"
     ]
    },
    {
     "name": "stdout",
     "output_type": "stream",
     "text": [
      "[4/10] [1500/1847] 1.447459\n"
     ]
    },
    {
     "name": "stderr",
     "output_type": "stream",
     "text": [
      " 87%|████████▋ | 1602/1847 [02:09<00:19, 12.40it/s]"
     ]
    },
    {
     "name": "stdout",
     "output_type": "stream",
     "text": [
      "[4/10] [1600/1847] 1.389138\n"
     ]
    },
    {
     "name": "stderr",
     "output_type": "stream",
     "text": [
      " 92%|█████████▏| 1702/1847 [02:17<00:11, 13.07it/s]"
     ]
    },
    {
     "name": "stdout",
     "output_type": "stream",
     "text": [
      "[4/10] [1700/1847] 1.678451\n"
     ]
    },
    {
     "name": "stderr",
     "output_type": "stream",
     "text": [
      " 98%|█████████▊| 1802/1847 [02:25<00:03, 13.03it/s]"
     ]
    },
    {
     "name": "stdout",
     "output_type": "stream",
     "text": [
      "[4/10] [1800/1847] 1.781510\n"
     ]
    },
    {
     "name": "stderr",
     "output_type": "stream",
     "text": [
      "100%|██████████| 1847/1847 [02:29<00:00, 12.38it/s]\n",
      "  0%|          | 2/1847 [00:00<02:15, 13.62it/s]"
     ]
    },
    {
     "name": "stdout",
     "output_type": "stream",
     "text": [
      "[5/10] [0/1847] 1.074857\n"
     ]
    },
    {
     "name": "stderr",
     "output_type": "stream",
     "text": [
      "  6%|▌         | 102/1847 [00:08<02:18, 12.61it/s]"
     ]
    },
    {
     "name": "stdout",
     "output_type": "stream",
     "text": [
      "[5/10] [100/1847] 0.999336\n"
     ]
    },
    {
     "name": "stderr",
     "output_type": "stream",
     "text": [
      " 11%|█         | 204/1847 [00:16<02:06, 13.04it/s]"
     ]
    },
    {
     "name": "stdout",
     "output_type": "stream",
     "text": [
      "[5/10] [200/1847] 1.949517\n"
     ]
    },
    {
     "name": "stderr",
     "output_type": "stream",
     "text": [
      " 16%|█▋        | 302/1847 [00:24<02:17, 11.23it/s]"
     ]
    },
    {
     "name": "stdout",
     "output_type": "stream",
     "text": [
      "[5/10] [300/1847] 1.735719\n"
     ]
    },
    {
     "name": "stderr",
     "output_type": "stream",
     "text": [
      " 22%|██▏       | 402/1847 [00:32<02:03, 11.67it/s]"
     ]
    },
    {
     "name": "stdout",
     "output_type": "stream",
     "text": [
      "[5/10] [400/1847] 1.537054\n"
     ]
    },
    {
     "name": "stderr",
     "output_type": "stream",
     "text": [
      " 27%|██▋       | 502/1847 [00:40<01:51, 12.06it/s]"
     ]
    },
    {
     "name": "stdout",
     "output_type": "stream",
     "text": [
      "[5/10] [500/1847] 1.257279\n"
     ]
    },
    {
     "name": "stderr",
     "output_type": "stream",
     "text": [
      " 33%|███▎      | 602/1847 [00:48<01:38, 12.63it/s]"
     ]
    },
    {
     "name": "stdout",
     "output_type": "stream",
     "text": [
      "[5/10] [600/1847] 1.858058\n"
     ]
    },
    {
     "name": "stderr",
     "output_type": "stream",
     "text": [
      " 38%|███▊      | 702/1847 [00:56<01:31, 12.49it/s]"
     ]
    },
    {
     "name": "stdout",
     "output_type": "stream",
     "text": [
      "[5/10] [700/1847] 1.386567\n"
     ]
    },
    {
     "name": "stderr",
     "output_type": "stream",
     "text": [
      " 43%|████▎     | 802/1847 [01:04<01:33, 11.12it/s]"
     ]
    },
    {
     "name": "stdout",
     "output_type": "stream",
     "text": [
      "[5/10] [800/1847] 1.534361\n"
     ]
    },
    {
     "name": "stderr",
     "output_type": "stream",
     "text": [
      " 49%|████▉     | 902/1847 [01:12<01:12, 13.03it/s]"
     ]
    },
    {
     "name": "stdout",
     "output_type": "stream",
     "text": [
      "[5/10] [900/1847] 1.056734\n"
     ]
    },
    {
     "name": "stderr",
     "output_type": "stream",
     "text": [
      " 54%|█████▍    | 1004/1847 [01:20<01:06, 12.67it/s]"
     ]
    },
    {
     "name": "stdout",
     "output_type": "stream",
     "text": [
      "[5/10] [1000/1847] 1.532127\n"
     ]
    },
    {
     "name": "stderr",
     "output_type": "stream",
     "text": [
      " 60%|█████▉    | 1102/1847 [01:28<01:04, 11.48it/s]"
     ]
    },
    {
     "name": "stdout",
     "output_type": "stream",
     "text": [
      "[5/10] [1100/1847] 1.204298\n"
     ]
    },
    {
     "name": "stderr",
     "output_type": "stream",
     "text": [
      " 65%|██████▌   | 1202/1847 [01:36<00:52, 12.25it/s]"
     ]
    },
    {
     "name": "stdout",
     "output_type": "stream",
     "text": [
      "[5/10] [1200/1847] 1.055848\n"
     ]
    },
    {
     "name": "stderr",
     "output_type": "stream",
     "text": [
      " 70%|███████   | 1302/1847 [01:45<00:45, 12.08it/s]"
     ]
    },
    {
     "name": "stdout",
     "output_type": "stream",
     "text": [
      "[5/10] [1300/1847] 0.812912\n"
     ]
    },
    {
     "name": "stderr",
     "output_type": "stream",
     "text": [
      " 76%|███████▌  | 1404/1847 [01:53<00:31, 14.00it/s]"
     ]
    },
    {
     "name": "stdout",
     "output_type": "stream",
     "text": [
      "[5/10] [1400/1847] 1.283862\n"
     ]
    },
    {
     "name": "stderr",
     "output_type": "stream",
     "text": [
      " 81%|████████▏ | 1502/1847 [02:01<00:27, 12.61it/s]"
     ]
    },
    {
     "name": "stdout",
     "output_type": "stream",
     "text": [
      "[5/10] [1500/1847] 0.910932\n"
     ]
    },
    {
     "name": "stderr",
     "output_type": "stream",
     "text": [
      " 87%|████████▋ | 1602/1847 [02:09<00:19, 12.43it/s]"
     ]
    },
    {
     "name": "stdout",
     "output_type": "stream",
     "text": [
      "[5/10] [1600/1847] 1.296483\n"
     ]
    },
    {
     "name": "stderr",
     "output_type": "stream",
     "text": [
      " 92%|█████████▏| 1702/1847 [02:17<00:11, 13.01it/s]"
     ]
    },
    {
     "name": "stdout",
     "output_type": "stream",
     "text": [
      "[5/10] [1700/1847] 1.444272\n"
     ]
    },
    {
     "name": "stderr",
     "output_type": "stream",
     "text": [
      " 98%|█████████▊| 1802/1847 [02:25<00:03, 13.06it/s]"
     ]
    },
    {
     "name": "stdout",
     "output_type": "stream",
     "text": [
      "[5/10] [1800/1847] 1.708743\n"
     ]
    },
    {
     "name": "stderr",
     "output_type": "stream",
     "text": [
      "100%|██████████| 1847/1847 [02:29<00:00, 12.38it/s]\n",
      "  0%|          | 2/1847 [00:00<02:18, 13.30it/s]"
     ]
    },
    {
     "name": "stdout",
     "output_type": "stream",
     "text": [
      "[6/10] [0/1847] 0.853365\n"
     ]
    },
    {
     "name": "stderr",
     "output_type": "stream",
     "text": [
      "  6%|▌         | 102/1847 [00:08<02:20, 12.43it/s]"
     ]
    },
    {
     "name": "stdout",
     "output_type": "stream",
     "text": [
      "[6/10] [100/1847] 1.096057\n"
     ]
    },
    {
     "name": "stderr",
     "output_type": "stream",
     "text": [
      " 11%|█         | 202/1847 [00:16<02:15, 12.16it/s]"
     ]
    },
    {
     "name": "stdout",
     "output_type": "stream",
     "text": [
      "[6/10] [200/1847] 1.667867\n"
     ]
    },
    {
     "name": "stderr",
     "output_type": "stream",
     "text": [
      " 16%|█▋        | 302/1847 [00:24<02:18, 11.18it/s]"
     ]
    },
    {
     "name": "stdout",
     "output_type": "stream",
     "text": [
      "[6/10] [300/1847] 1.372652\n"
     ]
    },
    {
     "name": "stderr",
     "output_type": "stream",
     "text": [
      " 22%|██▏       | 402/1847 [00:32<02:08, 11.28it/s]"
     ]
    },
    {
     "name": "stdout",
     "output_type": "stream",
     "text": [
      "[6/10] [400/1847] 1.459770\n"
     ]
    },
    {
     "name": "stderr",
     "output_type": "stream",
     "text": [
      " 27%|██▋       | 502/1847 [00:41<01:53, 11.83it/s]"
     ]
    },
    {
     "name": "stdout",
     "output_type": "stream",
     "text": [
      "[6/10] [500/1847] 0.669698\n"
     ]
    },
    {
     "name": "stderr",
     "output_type": "stream",
     "text": [
      " 33%|███▎      | 602/1847 [00:49<01:39, 12.48it/s]"
     ]
    },
    {
     "name": "stdout",
     "output_type": "stream",
     "text": [
      "[6/10] [600/1847] 1.673789\n"
     ]
    },
    {
     "name": "stderr",
     "output_type": "stream",
     "text": [
      " 38%|███▊      | 702/1847 [00:57<01:31, 12.47it/s]"
     ]
    },
    {
     "name": "stdout",
     "output_type": "stream",
     "text": [
      "[6/10] [700/1847] 1.068219\n"
     ]
    },
    {
     "name": "stderr",
     "output_type": "stream",
     "text": [
      " 43%|████▎     | 802/1847 [01:05<01:35, 10.91it/s]"
     ]
    },
    {
     "name": "stdout",
     "output_type": "stream",
     "text": [
      "[6/10] [800/1847] 1.259984\n"
     ]
    },
    {
     "name": "stderr",
     "output_type": "stream",
     "text": [
      " 49%|████▉     | 902/1847 [01:13<01:13, 12.82it/s]"
     ]
    },
    {
     "name": "stdout",
     "output_type": "stream",
     "text": [
      "[6/10] [900/1847] 0.763822\n"
     ]
    },
    {
     "name": "stderr",
     "output_type": "stream",
     "text": [
      " 54%|█████▍    | 1002/1847 [01:21<01:10, 11.97it/s]"
     ]
    },
    {
     "name": "stdout",
     "output_type": "stream",
     "text": [
      "[6/10] [1000/1847] 1.203903\n"
     ]
    },
    {
     "name": "stderr",
     "output_type": "stream",
     "text": [
      " 60%|█████▉    | 1102/1847 [01:30<01:05, 11.42it/s]"
     ]
    },
    {
     "name": "stdout",
     "output_type": "stream",
     "text": [
      "[6/10] [1100/1847] 1.279786\n"
     ]
    },
    {
     "name": "stderr",
     "output_type": "stream",
     "text": [
      " 65%|██████▌   | 1202/1847 [01:38<00:53, 12.14it/s]"
     ]
    },
    {
     "name": "stdout",
     "output_type": "stream",
     "text": [
      "[6/10] [1200/1847] 0.747877\n"
     ]
    },
    {
     "name": "stderr",
     "output_type": "stream",
     "text": [
      " 70%|███████   | 1302/1847 [01:46<00:45, 11.93it/s]"
     ]
    },
    {
     "name": "stdout",
     "output_type": "stream",
     "text": [
      "[6/10] [1300/1847] 0.628024\n"
     ]
    },
    {
     "name": "stderr",
     "output_type": "stream",
     "text": [
      " 76%|███████▌  | 1404/1847 [01:54<00:31, 14.05it/s]"
     ]
    },
    {
     "name": "stdout",
     "output_type": "stream",
     "text": [
      "[6/10] [1400/1847] 0.961440\n"
     ]
    },
    {
     "name": "stderr",
     "output_type": "stream",
     "text": [
      " 81%|████████▏ | 1502/1847 [02:02<00:27, 12.67it/s]"
     ]
    },
    {
     "name": "stdout",
     "output_type": "stream",
     "text": [
      "[6/10] [1500/1847] 0.892373\n"
     ]
    },
    {
     "name": "stderr",
     "output_type": "stream",
     "text": [
      " 87%|████████▋ | 1602/1847 [02:10<00:19, 12.46it/s]"
     ]
    },
    {
     "name": "stdout",
     "output_type": "stream",
     "text": [
      "[6/10] [1600/1847] 1.175471\n"
     ]
    },
    {
     "name": "stderr",
     "output_type": "stream",
     "text": [
      " 92%|█████████▏| 1702/1847 [02:19<00:11, 12.89it/s]"
     ]
    },
    {
     "name": "stdout",
     "output_type": "stream",
     "text": [
      "[6/10] [1700/1847] 0.922353\n"
     ]
    },
    {
     "name": "stderr",
     "output_type": "stream",
     "text": [
      " 98%|█████████▊| 1802/1847 [02:27<00:03, 12.84it/s]"
     ]
    },
    {
     "name": "stdout",
     "output_type": "stream",
     "text": [
      "[6/10] [1800/1847] 1.079594\n"
     ]
    },
    {
     "name": "stderr",
     "output_type": "stream",
     "text": [
      "100%|██████████| 1847/1847 [02:30<00:00, 12.24it/s]\n",
      "  0%|          | 2/1847 [00:00<02:19, 13.22it/s]"
     ]
    },
    {
     "name": "stdout",
     "output_type": "stream",
     "text": [
      "[7/10] [0/1847] 0.665298\n"
     ]
    },
    {
     "name": "stderr",
     "output_type": "stream",
     "text": [
      "  6%|▌         | 102/1847 [00:08<02:19, 12.48it/s]"
     ]
    },
    {
     "name": "stdout",
     "output_type": "stream",
     "text": [
      "[7/10] [100/1847] 0.780562\n"
     ]
    },
    {
     "name": "stderr",
     "output_type": "stream",
     "text": [
      " 11%|█         | 204/1847 [00:16<02:07, 12.85it/s]"
     ]
    },
    {
     "name": "stdout",
     "output_type": "stream",
     "text": [
      "[7/10] [200/1847] 1.690113\n"
     ]
    },
    {
     "name": "stderr",
     "output_type": "stream",
     "text": [
      " 16%|█▋        | 302/1847 [00:24<02:18, 11.13it/s]"
     ]
    },
    {
     "name": "stdout",
     "output_type": "stream",
     "text": [
      "[7/10] [300/1847] 0.937351\n"
     ]
    },
    {
     "name": "stderr",
     "output_type": "stream",
     "text": [
      " 22%|██▏       | 402/1847 [00:32<02:05, 11.52it/s]"
     ]
    },
    {
     "name": "stdout",
     "output_type": "stream",
     "text": [
      "[7/10] [400/1847] 1.477572\n"
     ]
    },
    {
     "name": "stderr",
     "output_type": "stream",
     "text": [
      " 27%|██▋       | 502/1847 [00:41<01:53, 11.86it/s]"
     ]
    },
    {
     "name": "stdout",
     "output_type": "stream",
     "text": [
      "[7/10] [500/1847] 1.191249\n"
     ]
    },
    {
     "name": "stderr",
     "output_type": "stream",
     "text": [
      " 33%|███▎      | 602/1847 [00:49<01:40, 12.42it/s]"
     ]
    },
    {
     "name": "stdout",
     "output_type": "stream",
     "text": [
      "[7/10] [600/1847] 1.432845\n"
     ]
    },
    {
     "name": "stderr",
     "output_type": "stream",
     "text": [
      " 38%|███▊      | 702/1847 [00:57<01:31, 12.47it/s]"
     ]
    },
    {
     "name": "stdout",
     "output_type": "stream",
     "text": [
      "[7/10] [700/1847] 1.101409\n"
     ]
    },
    {
     "name": "stderr",
     "output_type": "stream",
     "text": [
      " 43%|████▎     | 802/1847 [01:05<01:35, 10.97it/s]"
     ]
    },
    {
     "name": "stdout",
     "output_type": "stream",
     "text": [
      "[7/10] [800/1847] 1.167340\n"
     ]
    },
    {
     "name": "stderr",
     "output_type": "stream",
     "text": [
      " 49%|████▉     | 902/1847 [01:13<01:13, 12.81it/s]"
     ]
    },
    {
     "name": "stdout",
     "output_type": "stream",
     "text": [
      "[7/10] [900/1847] 1.023558\n"
     ]
    },
    {
     "name": "stderr",
     "output_type": "stream",
     "text": [
      " 54%|█████▍    | 1002/1847 [01:21<01:10, 12.03it/s]"
     ]
    },
    {
     "name": "stdout",
     "output_type": "stream",
     "text": [
      "[7/10] [1000/1847] 1.202716\n"
     ]
    },
    {
     "name": "stderr",
     "output_type": "stream",
     "text": [
      " 60%|█████▉    | 1102/1847 [01:30<01:05, 11.40it/s]"
     ]
    },
    {
     "name": "stdout",
     "output_type": "stream",
     "text": [
      "[7/10] [1100/1847] 1.064623\n"
     ]
    },
    {
     "name": "stderr",
     "output_type": "stream",
     "text": [
      " 65%|██████▌   | 1202/1847 [01:38<00:53, 12.11it/s]"
     ]
    },
    {
     "name": "stdout",
     "output_type": "stream",
     "text": [
      "[7/10] [1200/1847] 0.643183\n"
     ]
    },
    {
     "name": "stderr",
     "output_type": "stream",
     "text": [
      " 70%|███████   | 1302/1847 [01:46<00:45, 12.02it/s]"
     ]
    },
    {
     "name": "stdout",
     "output_type": "stream",
     "text": [
      "[7/10] [1300/1847] 0.653715\n"
     ]
    },
    {
     "name": "stderr",
     "output_type": "stream",
     "text": [
      " 76%|███████▌  | 1404/1847 [01:54<00:31, 13.88it/s]"
     ]
    },
    {
     "name": "stdout",
     "output_type": "stream",
     "text": [
      "[7/10] [1400/1847] 1.171494\n"
     ]
    },
    {
     "name": "stderr",
     "output_type": "stream",
     "text": [
      " 81%|████████▏ | 1502/1847 [02:03<00:27, 12.58it/s]"
     ]
    },
    {
     "name": "stdout",
     "output_type": "stream",
     "text": [
      "[7/10] [1500/1847] 0.792394\n"
     ]
    },
    {
     "name": "stderr",
     "output_type": "stream",
     "text": [
      " 87%|████████▋ | 1604/1847 [02:11<00:18, 13.22it/s]"
     ]
    },
    {
     "name": "stdout",
     "output_type": "stream",
     "text": [
      "[7/10] [1600/1847] 1.078761\n"
     ]
    },
    {
     "name": "stderr",
     "output_type": "stream",
     "text": [
      " 92%|█████████▏| 1702/1847 [02:19<00:11, 12.30it/s]"
     ]
    },
    {
     "name": "stdout",
     "output_type": "stream",
     "text": [
      "[7/10] [1700/1847] 1.202161\n"
     ]
    },
    {
     "name": "stderr",
     "output_type": "stream",
     "text": [
      " 98%|█████████▊| 1802/1847 [02:27<00:03, 12.90it/s]"
     ]
    },
    {
     "name": "stdout",
     "output_type": "stream",
     "text": [
      "[7/10] [1800/1847] 1.181513\n"
     ]
    },
    {
     "name": "stderr",
     "output_type": "stream",
     "text": [
      "100%|██████████| 1847/1847 [02:31<00:00, 12.20it/s]\n",
      "  0%|          | 2/1847 [00:00<02:16, 13.50it/s]"
     ]
    },
    {
     "name": "stdout",
     "output_type": "stream",
     "text": [
      "[8/10] [0/1847] 0.864137\n"
     ]
    },
    {
     "name": "stderr",
     "output_type": "stream",
     "text": [
      "  6%|▌         | 102/1847 [00:08<02:19, 12.51it/s]"
     ]
    },
    {
     "name": "stdout",
     "output_type": "stream",
     "text": [
      "[8/10] [100/1847] 0.625619\n"
     ]
    },
    {
     "name": "stderr",
     "output_type": "stream",
     "text": [
      " 11%|█         | 204/1847 [00:16<02:08, 12.83it/s]"
     ]
    },
    {
     "name": "stdout",
     "output_type": "stream",
     "text": [
      "[8/10] [200/1847] 1.453105\n"
     ]
    },
    {
     "name": "stderr",
     "output_type": "stream",
     "text": [
      " 16%|█▋        | 302/1847 [00:24<02:19, 11.11it/s]"
     ]
    },
    {
     "name": "stdout",
     "output_type": "stream",
     "text": [
      "[8/10] [300/1847] 1.169810\n"
     ]
    },
    {
     "name": "stderr",
     "output_type": "stream",
     "text": [
      " 22%|██▏       | 402/1847 [00:32<02:05, 11.49it/s]"
     ]
    },
    {
     "name": "stdout",
     "output_type": "stream",
     "text": [
      "[8/10] [400/1847] 0.953350\n"
     ]
    },
    {
     "name": "stderr",
     "output_type": "stream",
     "text": [
      " 27%|██▋       | 502/1847 [00:41<01:53, 11.86it/s]"
     ]
    },
    {
     "name": "stdout",
     "output_type": "stream",
     "text": [
      "[8/10] [500/1847] 1.155094\n"
     ]
    },
    {
     "name": "stderr",
     "output_type": "stream",
     "text": [
      " 33%|███▎      | 602/1847 [00:49<01:40, 12.42it/s]"
     ]
    },
    {
     "name": "stdout",
     "output_type": "stream",
     "text": [
      "[8/10] [600/1847] 1.418007\n"
     ]
    },
    {
     "name": "stderr",
     "output_type": "stream",
     "text": [
      " 38%|███▊      | 702/1847 [00:57<01:32, 12.34it/s]"
     ]
    },
    {
     "name": "stdout",
     "output_type": "stream",
     "text": [
      "[8/10] [700/1847] 1.042644\n"
     ]
    },
    {
     "name": "stderr",
     "output_type": "stream",
     "text": [
      " 43%|████▎     | 802/1847 [01:06<01:34, 11.00it/s]"
     ]
    },
    {
     "name": "stdout",
     "output_type": "stream",
     "text": [
      "[8/10] [800/1847] 1.212447\n"
     ]
    },
    {
     "name": "stderr",
     "output_type": "stream",
     "text": [
      " 49%|████▉     | 902/1847 [01:14<01:13, 12.88it/s]"
     ]
    },
    {
     "name": "stdout",
     "output_type": "stream",
     "text": [
      "[8/10] [900/1847] 1.010972\n"
     ]
    },
    {
     "name": "stderr",
     "output_type": "stream",
     "text": [
      " 54%|█████▍    | 1002/1847 [01:22<01:10, 11.96it/s]"
     ]
    },
    {
     "name": "stdout",
     "output_type": "stream",
     "text": [
      "[8/10] [1000/1847] 0.947098\n"
     ]
    },
    {
     "name": "stderr",
     "output_type": "stream",
     "text": [
      " 60%|█████▉    | 1102/1847 [01:30<01:05, 11.35it/s]"
     ]
    },
    {
     "name": "stdout",
     "output_type": "stream",
     "text": [
      "[8/10] [1100/1847] 0.985352\n"
     ]
    },
    {
     "name": "stderr",
     "output_type": "stream",
     "text": [
      " 65%|██████▌   | 1202/1847 [01:38<00:53, 12.00it/s]"
     ]
    },
    {
     "name": "stdout",
     "output_type": "stream",
     "text": [
      "[8/10] [1200/1847] 0.572532\n"
     ]
    },
    {
     "name": "stderr",
     "output_type": "stream",
     "text": [
      " 70%|███████   | 1302/1847 [01:46<00:45, 11.95it/s]"
     ]
    },
    {
     "name": "stdout",
     "output_type": "stream",
     "text": [
      "[8/10] [1300/1847] 0.737755\n"
     ]
    },
    {
     "name": "stderr",
     "output_type": "stream",
     "text": [
      " 76%|███████▌  | 1404/1847 [01:55<00:31, 13.98it/s]"
     ]
    },
    {
     "name": "stdout",
     "output_type": "stream",
     "text": [
      "[8/10] [1400/1847] 0.878077\n"
     ]
    },
    {
     "name": "stderr",
     "output_type": "stream",
     "text": [
      " 81%|████████▏ | 1502/1847 [02:03<00:27, 12.61it/s]"
     ]
    },
    {
     "name": "stdout",
     "output_type": "stream",
     "text": [
      "[8/10] [1500/1847] 0.618264\n"
     ]
    },
    {
     "name": "stderr",
     "output_type": "stream",
     "text": [
      " 87%|████████▋ | 1602/1847 [02:11<00:19, 12.38it/s]"
     ]
    },
    {
     "name": "stdout",
     "output_type": "stream",
     "text": [
      "[8/10] [1600/1847] 1.442960\n"
     ]
    },
    {
     "name": "stderr",
     "output_type": "stream",
     "text": [
      " 92%|█████████▏| 1702/1847 [02:19<00:11, 12.91it/s]"
     ]
    },
    {
     "name": "stdout",
     "output_type": "stream",
     "text": [
      "[8/10] [1700/1847] 1.156918\n"
     ]
    },
    {
     "name": "stderr",
     "output_type": "stream",
     "text": [
      " 98%|█████████▊| 1802/1847 [02:27<00:03, 12.89it/s]"
     ]
    },
    {
     "name": "stdout",
     "output_type": "stream",
     "text": [
      "[8/10] [1800/1847] 1.475024\n"
     ]
    },
    {
     "name": "stderr",
     "output_type": "stream",
     "text": [
      "100%|██████████| 1847/1847 [02:31<00:00, 12.19it/s]\n",
      "  0%|          | 2/1847 [00:00<02:19, 13.19it/s]"
     ]
    },
    {
     "name": "stdout",
     "output_type": "stream",
     "text": [
      "[9/10] [0/1847] 0.731225\n"
     ]
    },
    {
     "name": "stderr",
     "output_type": "stream",
     "text": [
      "  6%|▌         | 102/1847 [00:08<02:18, 12.56it/s]"
     ]
    },
    {
     "name": "stdout",
     "output_type": "stream",
     "text": [
      "[9/10] [100/1847] 0.597182\n"
     ]
    },
    {
     "name": "stderr",
     "output_type": "stream",
     "text": [
      " 11%|█         | 204/1847 [00:16<02:06, 12.98it/s]"
     ]
    },
    {
     "name": "stdout",
     "output_type": "stream",
     "text": [
      "[9/10] [200/1847] 1.378540\n"
     ]
    },
    {
     "name": "stderr",
     "output_type": "stream",
     "text": [
      " 16%|█▋        | 302/1847 [00:24<02:17, 11.23it/s]"
     ]
    },
    {
     "name": "stdout",
     "output_type": "stream",
     "text": [
      "[9/10] [300/1847] 0.948219\n"
     ]
    },
    {
     "name": "stderr",
     "output_type": "stream",
     "text": [
      " 22%|██▏       | 402/1847 [00:32<02:05, 11.52it/s]"
     ]
    },
    {
     "name": "stdout",
     "output_type": "stream",
     "text": [
      "[9/10] [400/1847] 1.230427\n"
     ]
    },
    {
     "name": "stderr",
     "output_type": "stream",
     "text": [
      " 27%|██▋       | 502/1847 [00:40<01:52, 11.95it/s]"
     ]
    },
    {
     "name": "stdout",
     "output_type": "stream",
     "text": [
      "[9/10] [500/1847] 0.830818\n"
     ]
    },
    {
     "name": "stderr",
     "output_type": "stream",
     "text": [
      " 33%|███▎      | 602/1847 [00:49<01:39, 12.51it/s]"
     ]
    },
    {
     "name": "stdout",
     "output_type": "stream",
     "text": [
      "[9/10] [600/1847] 1.252064\n"
     ]
    },
    {
     "name": "stderr",
     "output_type": "stream",
     "text": [
      " 38%|███▊      | 702/1847 [00:57<01:32, 12.39it/s]"
     ]
    },
    {
     "name": "stdout",
     "output_type": "stream",
     "text": [
      "[9/10] [700/1847] 1.209735\n"
     ]
    },
    {
     "name": "stderr",
     "output_type": "stream",
     "text": [
      " 43%|████▎     | 802/1847 [01:05<01:35, 11.00it/s]"
     ]
    },
    {
     "name": "stdout",
     "output_type": "stream",
     "text": [
      "[9/10] [800/1847] 1.149152\n"
     ]
    },
    {
     "name": "stderr",
     "output_type": "stream",
     "text": [
      " 49%|████▉     | 902/1847 [01:13<01:13, 12.88it/s]"
     ]
    },
    {
     "name": "stdout",
     "output_type": "stream",
     "text": [
      "[9/10] [900/1847] 0.662149\n"
     ]
    },
    {
     "name": "stderr",
     "output_type": "stream",
     "text": [
      " 54%|█████▍    | 1004/1847 [01:21<01:06, 12.62it/s]"
     ]
    },
    {
     "name": "stdout",
     "output_type": "stream",
     "text": [
      "[9/10] [1000/1847] 0.806920\n"
     ]
    },
    {
     "name": "stderr",
     "output_type": "stream",
     "text": [
      " 60%|█████▉    | 1102/1847 [01:29<01:04, 11.51it/s]"
     ]
    },
    {
     "name": "stdout",
     "output_type": "stream",
     "text": [
      "[9/10] [1100/1847] 1.013276\n"
     ]
    },
    {
     "name": "stderr",
     "output_type": "stream",
     "text": [
      " 65%|██████▌   | 1202/1847 [01:37<00:53, 12.15it/s]"
     ]
    },
    {
     "name": "stdout",
     "output_type": "stream",
     "text": [
      "[9/10] [1200/1847] 0.583889\n"
     ]
    },
    {
     "name": "stderr",
     "output_type": "stream",
     "text": [
      " 70%|███████   | 1302/1847 [01:45<00:45, 11.96it/s]"
     ]
    },
    {
     "name": "stdout",
     "output_type": "stream",
     "text": [
      "[9/10] [1300/1847] 0.620404\n"
     ]
    },
    {
     "name": "stderr",
     "output_type": "stream",
     "text": [
      " 76%|███████▌  | 1402/1847 [01:53<00:32, 13.60it/s]"
     ]
    },
    {
     "name": "stdout",
     "output_type": "stream",
     "text": [
      "[9/10] [1400/1847] 0.735287\n"
     ]
    },
    {
     "name": "stderr",
     "output_type": "stream",
     "text": [
      " 81%|████████▏ | 1502/1847 [02:02<00:27, 12.56it/s]"
     ]
    },
    {
     "name": "stdout",
     "output_type": "stream",
     "text": [
      "[9/10] [1500/1847] 0.667326\n"
     ]
    },
    {
     "name": "stderr",
     "output_type": "stream",
     "text": [
      " 87%|████████▋ | 1604/1847 [02:10<00:18, 13.22it/s]"
     ]
    },
    {
     "name": "stdout",
     "output_type": "stream",
     "text": [
      "[9/10] [1600/1847] 1.082116\n"
     ]
    },
    {
     "name": "stderr",
     "output_type": "stream",
     "text": [
      " 92%|█████████▏| 1702/1847 [02:18<00:11, 12.83it/s]"
     ]
    },
    {
     "name": "stdout",
     "output_type": "stream",
     "text": [
      "[9/10] [1700/1847] 0.832226\n"
     ]
    },
    {
     "name": "stderr",
     "output_type": "stream",
     "text": [
      " 98%|█████████▊| 1802/1847 [02:26<00:03, 12.96it/s]"
     ]
    },
    {
     "name": "stdout",
     "output_type": "stream",
     "text": [
      "[9/10] [1800/1847] 1.297751\n"
     ]
    },
    {
     "name": "stderr",
     "output_type": "stream",
     "text": [
      "100%|██████████| 1847/1847 [02:30<00:00, 12.27it/s]\n"
     ]
    }
   ],
   "source": [
    "MLM_PRE = True\n",
    "\n",
    "scaler = GradScaler()\n",
    "n_pretrain_epochs = 10\n",
    "\n",
    "def mlm_pretrain(loader, n_epochs):\n",
    "    model.train()\n",
    "    for step, batch in enumerate(tqdm(loader)):\n",
    "        input_ids, segment_ids, input_masks, gating_ids, target_ids, guids = [b.to(device) if not isinstance(b, list) else b for b in batch]\n",
    "        \n",
    "        with autocast(): # 밑에 해당하는 코드를 자동으로 mixed precision으로 변환시켜서 실행\n",
    "            logits, labels = model.forward_pretrain(input_ids, tokenizer)\n",
    "            loss = loss_fnc_pretrain(logits.view(-1, config.vocab_size), labels.view(-1))\n",
    "\n",
    "        scaler.scale(loss).backward()\n",
    "        nn.utils.clip_grad_norm_(model.parameters(), 1.0)\n",
    "        scaler.step(optimizer)\n",
    "        scaler.update()\n",
    "        scheduler.step()\n",
    "        optimizer.zero_grad()\n",
    "\n",
    "        if step % 100 == 0:\n",
    "            print('[%d/%d] [%d/%d] %f' % (epoch, n_epochs, step, len(loader), loss.item()))\n",
    "\n",
    "if MLM_PRE:\n",
    "    for epoch in range(n_pretrain_epochs):\n",
    "        mlm_pretrain(eval_loader, n_pretrain_epochs)"
   ]
  },
  {
   "cell_type": "markdown",
   "id": "6eeda079-8a8c-4d60-93bc-bc84d376c6f3",
   "metadata": {},
   "source": [
    "### Training"
   ]
  },
  {
   "cell_type": "code",
   "execution_count": 20,
   "id": "66a0db76-2c8d-4e4d-98cc-33b2f29be7a4",
   "metadata": {
    "tags": []
   },
   "outputs": [
    {
     "name": "stdout",
     "output_type": "stream",
     "text": [
      "[0/30] [0/11532] loss: 11.108061790466309 gen: 9.425432205200195 gate: 1.6826297044754028\n",
      "[0/30] [100/11532] loss: 2.7578675746917725 gen: 2.32616925239563 gate: 0.4316982626914978\n",
      "[0/30] [200/11532] loss: 2.347721815109253 gen: 1.716150164604187 gate: 0.6315717101097107\n",
      "[0/30] [300/11532] loss: 2.3156487941741943 gen: 1.7092682123184204 gate: 0.6063806414604187\n",
      "[0/30] [400/11532] loss: 2.379779577255249 gen: 1.5815484523773193 gate: 0.7982310652732849\n",
      "[0/30] [500/11532] loss: 1.5391714572906494 gen: 1.0021620988845825 gate: 0.5370092988014221\n",
      "[0/30] [600/11532] loss: 1.3581907749176025 gen: 0.846183717250824 gate: 0.5120069980621338\n",
      "[0/30] [700/11532] loss: 1.8442423343658447 gen: 1.2138514518737793 gate: 0.6303908228874207\n",
      "[0/30] [800/11532] loss: 1.0953497886657715 gen: 0.7124114036560059 gate: 0.382938414812088\n",
      "[0/30] [900/11532] loss: 1.4426168203353882 gen: 0.9204893708229065 gate: 0.5221274495124817\n",
      "[0/30] [1000/11532] loss: 1.4483888149261475 gen: 0.9628758430480957 gate: 0.48551297187805176\n",
      "[0/30] [1100/11532] loss: 1.6963233947753906 gen: 1.1152018308639526 gate: 0.5811215043067932\n",
      "[0/30] [1200/11532] loss: 1.2793121337890625 gen: 0.8561007976531982 gate: 0.4232112765312195\n",
      "[0/30] [1300/11532] loss: 0.7695357799530029 gen: 0.4369157552719116 gate: 0.3326200544834137\n",
      "[0/30] [1400/11532] loss: 1.2390427589416504 gen: 0.7321104407310486 gate: 0.506932258605957\n",
      "[0/30] [1500/11532] loss: 1.0238476991653442 gen: 0.7030972242355347 gate: 0.32075050473213196\n",
      "[0/30] [1600/11532] loss: 1.392526626586914 gen: 0.9384765625 gate: 0.4540500342845917\n",
      "[0/30] [1700/11532] loss: 1.1735988855361938 gen: 0.7598524689674377 gate: 0.4137463867664337\n",
      "[0/30] [1800/11532] loss: 0.7411371469497681 gen: 0.43073445558547974 gate: 0.3104027211666107\n",
      "[0/30] [1900/11532] loss: 0.9555354118347168 gen: 0.617601215839386 gate: 0.3379341661930084\n",
      "[0/30] [2000/11532] loss: 1.1694283485412598 gen: 0.7774018049240112 gate: 0.3920266032218933\n",
      "[0/30] [2100/11532] loss: 0.9862178564071655 gen: 0.5785062909126282 gate: 0.40771153569221497\n",
      "[0/30] [2200/11532] loss: 0.8930909633636475 gen: 0.5929760336875916 gate: 0.3001148998737335\n",
      "[0/30] [2300/11532] loss: 0.9521418809890747 gen: 0.5276116728782654 gate: 0.4245302081108093\n",
      "[0/30] [2400/11532] loss: 1.2076431512832642 gen: 0.7400299310684204 gate: 0.46761325001716614\n",
      "[0/30] [2500/11532] loss: 0.8745392560958862 gen: 0.5619629621505737 gate: 0.3125763237476349\n",
      "[0/30] [2600/11532] loss: 1.232022762298584 gen: 0.7040056586265564 gate: 0.5280171632766724\n",
      "[0/30] [2700/11532] loss: 1.1985324621200562 gen: 0.7230772376060486 gate: 0.47545525431632996\n",
      "[0/30] [2800/11532] loss: 1.107704997062683 gen: 0.7453758120536804 gate: 0.3623292148113251\n",
      "[0/30] [2900/11532] loss: 0.7763729095458984 gen: 0.4673769474029541 gate: 0.30899596214294434\n",
      "[0/30] [3000/11532] loss: 1.189227819442749 gen: 0.7325044274330139 gate: 0.4567234516143799\n",
      "[0/30] [3100/11532] loss: 0.906488299369812 gen: 0.5968145728111267 gate: 0.3096736967563629\n",
      "[0/30] [3200/11532] loss: 1.1342158317565918 gen: 0.6940503120422363 gate: 0.4401654899120331\n",
      "[0/30] [3300/11532] loss: 0.6400259733200073 gen: 0.36991429328918457 gate: 0.27011170983314514\n",
      "[0/30] [3400/11532] loss: 0.6962172985076904 gen: 0.39617225527763367 gate: 0.30004507303237915\n",
      "[0/30] [3500/11532] loss: 0.7904987931251526 gen: 0.5090970396995544 gate: 0.28140175342559814\n",
      "[0/30] [3600/11532] loss: 1.0694432258605957 gen: 0.6926817893981934 gate: 0.37676137685775757\n",
      "[0/30] [3700/11532] loss: 0.6970356106758118 gen: 0.38982489705085754 gate: 0.3072107136249542\n",
      "[0/30] [3800/11532] loss: 0.8131598234176636 gen: 0.5058333277702332 gate: 0.3073264956474304\n",
      "[0/30] [3900/11532] loss: 0.8445793986320496 gen: 0.60569828748703 gate: 0.23888111114501953\n",
      "[0/30] [4000/11532] loss: 0.539226770401001 gen: 0.3023974895477295 gate: 0.2368292659521103\n",
      "[0/30] [4100/11532] loss: 0.903393030166626 gen: 0.5907931923866272 gate: 0.3125998079776764\n",
      "[0/30] [4200/11532] loss: 0.7256155610084534 gen: 0.46088871359825134 gate: 0.264726847410202\n",
      "[0/30] [4300/11532] loss: 0.48770570755004883 gen: 0.3196936249732971 gate: 0.1680120825767517\n",
      "[0/30] [4400/11532] loss: 0.8018577098846436 gen: 0.47433754801750183 gate: 0.3275201618671417\n",
      "[0/30] [4500/11532] loss: 0.5244882106781006 gen: 0.33661049604415894 gate: 0.18787774443626404\n",
      "[0/30] [4600/11532] loss: 0.8822671175003052 gen: 0.5533756613731384 gate: 0.32889145612716675\n",
      "[0/30] [4700/11532] loss: 0.949333906173706 gen: 0.6212120056152344 gate: 0.3281218707561493\n",
      "[0/30] [4800/11532] loss: 0.8372015953063965 gen: 0.5978937745094299 gate: 0.23930782079696655\n",
      "[0/30] [4900/11532] loss: 0.5729325413703918 gen: 0.38064736127853394 gate: 0.1922851949930191\n",
      "[0/30] [5000/11532] loss: 0.5478564500808716 gen: 0.3817001283168793 gate: 0.16615630686283112\n",
      "[0/30] [5100/11532] loss: 0.7398800849914551 gen: 0.498556911945343 gate: 0.24132320284843445\n",
      "[0/30] [5200/11532] loss: 0.47177690267562866 gen: 0.25242647528648376 gate: 0.2193504273891449\n",
      "[0/30] [5300/11532] loss: 0.6536542177200317 gen: 0.44606664776802063 gate: 0.20758754014968872\n",
      "[0/30] [5400/11532] loss: 0.6575207710266113 gen: 0.4100732207298279 gate: 0.24744755029678345\n",
      "[0/30] [5500/11532] loss: 0.27076178789138794 gen: 0.18707072734832764 gate: 0.0836910605430603\n",
      "[0/30] [5600/11532] loss: 0.769978940486908 gen: 0.6010055541992188 gate: 0.16897337138652802\n",
      "[0/30] [5700/11532] loss: 0.6471070051193237 gen: 0.42927441000938416 gate: 0.21783261001110077\n",
      "[0/30] [5800/11532] loss: 0.7288222908973694 gen: 0.5555381178855896 gate: 0.17328418791294098\n",
      "[0/30] [5900/11532] loss: 0.7145980596542358 gen: 0.4949384331703186 gate: 0.21965965628623962\n",
      "[0/30] [6000/11532] loss: 0.3553099036216736 gen: 0.2705172896385193 gate: 0.0847926065325737\n",
      "[0/30] [6100/11532] loss: 0.5757128000259399 gen: 0.38349649310112 gate: 0.19221633672714233\n",
      "[0/30] [6200/11532] loss: 0.3996065557003021 gen: 0.2953020930290222 gate: 0.1043044701218605\n",
      "[0/30] [6300/11532] loss: 0.3308325409889221 gen: 0.28082671761512756 gate: 0.05000583827495575\n",
      "[0/30] [6400/11532] loss: 0.5883036851882935 gen: 0.42742159962654114 gate: 0.1608821004629135\n",
      "[0/30] [6500/11532] loss: 0.33524221181869507 gen: 0.2406327873468399 gate: 0.09460943192243576\n",
      "[0/30] [6600/11532] loss: 0.7809869050979614 gen: 0.42812588810920715 gate: 0.3528610169887543\n",
      "[0/30] [6700/11532] loss: 0.8972175121307373 gen: 0.5452800393104553 gate: 0.35193750262260437\n",
      "[0/30] [6800/11532] loss: 0.7930786609649658 gen: 0.5539406538009644 gate: 0.23913800716400146\n",
      "[0/30] [6900/11532] loss: 0.7018742561340332 gen: 0.5434519052505493 gate: 0.1584223359823227\n",
      "[0/30] [7000/11532] loss: 0.9314554333686829 gen: 0.7454605102539062 gate: 0.1859949380159378\n",
      "[0/30] [7100/11532] loss: 0.48827189207077026 gen: 0.39504048228263855 gate: 0.09323139488697052\n",
      "[0/30] [7200/11532] loss: 0.5845522284507751 gen: 0.4286077916622162 gate: 0.15594442188739777\n",
      "[0/30] [7300/11532] loss: 0.4930838346481323 gen: 0.34080684185028076 gate: 0.15227697789669037\n",
      "[0/30] [7400/11532] loss: 0.3957178592681885 gen: 0.2711200416088104 gate: 0.12459783256053925\n",
      "[0/30] [7500/11532] loss: 0.8057882189750671 gen: 0.59867924451828 gate: 0.2071089893579483\n",
      "[0/30] [7600/11532] loss: 0.7497994899749756 gen: 0.5831745862960815 gate: 0.16662488877773285\n",
      "[0/30] [7700/11532] loss: 0.5041833519935608 gen: 0.38165098428726196 gate: 0.12253239005804062\n",
      "[0/30] [7800/11532] loss: 0.4722929894924164 gen: 0.3181588649749756 gate: 0.1541341245174408\n",
      "[0/30] [7900/11532] loss: 0.18741892278194427 gen: 0.1375279575586319 gate: 0.049890968948602676\n",
      "[0/30] [8000/11532] loss: 0.5811344385147095 gen: 0.41146180033683777 gate: 0.1696726679801941\n",
      "[0/30] [8100/11532] loss: 0.3510969281196594 gen: 0.2599019408226013 gate: 0.09119497984647751\n",
      "[0/30] [8200/11532] loss: 0.7585582137107849 gen: 0.46267005801200867 gate: 0.29588815569877625\n",
      "[0/30] [8300/11532] loss: 0.37835556268692017 gen: 0.29292523860931396 gate: 0.0854303389787674\n",
      "[0/30] [8400/11532] loss: 0.30398041009902954 gen: 0.22643698751926422 gate: 0.07754343003034592\n",
      "[0/30] [8500/11532] loss: 0.2877466678619385 gen: 0.1992226392030716 gate: 0.08852402865886688\n",
      "[0/30] [8600/11532] loss: 0.35576701164245605 gen: 0.28118857741355896 gate: 0.0745784267783165\n",
      "[0/30] [8700/11532] loss: 0.4278731942176819 gen: 0.2858947813510895 gate: 0.1419784277677536\n",
      "[0/30] [8800/11532] loss: 0.2711065709590912 gen: 0.19927498698234558 gate: 0.0718315914273262\n",
      "[0/30] [8900/11532] loss: 0.1960224062204361 gen: 0.142591655254364 gate: 0.05343075469136238\n",
      "[0/30] [9000/11532] loss: 0.32799607515335083 gen: 0.22149382531642914 gate: 0.10650224983692169\n",
      "[0/30] [9100/11532] loss: 0.2945236563682556 gen: 0.22397266328334808 gate: 0.07055100053548813\n",
      "[0/30] [9200/11532] loss: 0.2528322637081146 gen: 0.19431833922863007 gate: 0.05851391330361366\n",
      "[0/30] [9300/11532] loss: 0.3835519254207611 gen: 0.30504706501960754 gate: 0.07850485295057297\n",
      "[0/30] [9400/11532] loss: 0.3488177955150604 gen: 0.23759421706199646 gate: 0.11122357845306396\n",
      "[0/30] [9500/11532] loss: 0.15805254876613617 gen: 0.10807981342077255 gate: 0.04997273534536362\n",
      "[0/30] [9600/11532] loss: 0.28965702652931213 gen: 0.18388262391090393 gate: 0.1057744026184082\n",
      "[0/30] [9700/11532] loss: 0.21805886924266815 gen: 0.18865349888801575 gate: 0.029405366629362106\n",
      "[0/30] [9800/11532] loss: 0.3516334593296051 gen: 0.28145015239715576 gate: 0.07018330693244934\n",
      "[0/30] [9900/11532] loss: 0.38248634338378906 gen: 0.3041841387748718 gate: 0.07830220460891724\n",
      "[0/30] [10000/11532] loss: 0.23155060410499573 gen: 0.13945086300373077 gate: 0.09209974110126495\n",
      "[0/30] [10100/11532] loss: 0.20892509818077087 gen: 0.17669178545475006 gate: 0.03223331645131111\n",
      "[0/30] [10200/11532] loss: 0.21323519945144653 gen: 0.1298626959323883 gate: 0.08337249606847763\n",
      "[0/30] [10300/11532] loss: 0.1323220282793045 gen: 0.0906328409910202 gate: 0.0416891872882843\n",
      "[0/30] [10400/11532] loss: 0.2671622037887573 gen: 0.21572038531303406 gate: 0.05144180729985237\n",
      "[0/30] [10500/11532] loss: 0.3723066449165344 gen: 0.2997860312461853 gate: 0.07252061367034912\n",
      "[0/30] [10600/11532] loss: 0.25252437591552734 gen: 0.20994418859481812 gate: 0.04258017987012863\n",
      "[0/30] [10700/11532] loss: 0.19079875946044922 gen: 0.12901464104652405 gate: 0.06178411468863487\n",
      "[0/30] [10800/11532] loss: 0.37958064675331116 gen: 0.3072890639305115 gate: 0.07229159027338028\n",
      "[0/30] [10900/11532] loss: 0.3510003983974457 gen: 0.25095388293266296 gate: 0.10004650801420212\n",
      "[0/30] [11000/11532] loss: 0.36731380224227905 gen: 0.2766491174697876 gate: 0.09066469222307205\n",
      "[0/30] [11100/11532] loss: 0.12818172574043274 gen: 0.10519983619451523 gate: 0.02298188954591751\n",
      "[0/30] [11200/11532] loss: 0.18862973153591156 gen: 0.11726687103509903 gate: 0.07136286050081253\n",
      "[0/30] [11300/11532] loss: 0.2081076055765152 gen: 0.16510413587093353 gate: 0.043003469705581665\n",
      "[0/30] [11400/11532] loss: 0.33562391996383667 gen: 0.2701197862625122 gate: 0.06550411880016327\n",
      "[0/30] [11500/11532] loss: 0.21011929214000702 gen: 0.16575655341148376 gate: 0.044362738728523254\n"
     ]
    },
    {
     "name": "stderr",
     "output_type": "stream",
     "text": [
      "100%|██████████| 640/640 [02:01<00:00,  5.28it/s]\n"
     ]
    },
    {
     "name": "stdout",
     "output_type": "stream",
     "text": [
      "{'joint_goal_accuracy': 0.30656506447831183, 'turn_slot_accuracy': 0.9659024792670887, 'turn_slot_f1': 0.8526494571044264}\n",
      "joint_goal_accuracy: 0.30656506447831183\n",
      "turn_slot_accuracy: 0.9659024792670887\n",
      "turn_slot_f1: 0.8526494571044264\n",
      "'--Update Best checkpoint!, epoch: 1'\n",
      "--Saving best model checkpoint\n"
     ]
    },
    {
     "name": "stderr",
     "output_type": "stream",
     "text": [
      "/opt/conda/lib/python3.7/site-packages/torch/optim/lr_scheduler.py:216: UserWarning: Please also save or load the state of the optimizer when saving or loading the scheduler.\n",
      "  warnings.warn(SAVE_STATE_WARNING, UserWarning)\n"
     ]
    },
    {
     "name": "stdout",
     "output_type": "stream",
     "text": [
      "time for 1 epoch: 2073.628895998001\n",
      "[1/30] [0/11532] loss: 0.09361106157302856 gen: 0.06249314546585083 gate: 0.031117917969822884\n",
      "[1/30] [100/11532] loss: 0.20754575729370117 gen: 0.15954691171646118 gate: 0.04799885302782059\n",
      "[1/30] [200/11532] loss: 0.22125911712646484 gen: 0.15587329864501953 gate: 0.06538582593202591\n",
      "[1/30] [300/11532] loss: 0.20811662077903748 gen: 0.18028445541858673 gate: 0.027832161635160446\n",
      "[1/30] [400/11532] loss: 0.4564060568809509 gen: 0.2856338322162628 gate: 0.1707722246646881\n",
      "[1/30] [500/11532] loss: 0.1410551518201828 gen: 0.12343443930149078 gate: 0.017620714381337166\n",
      "[1/30] [600/11532] loss: 0.16064515709877014 gen: 0.1015995666384697 gate: 0.05904558673501015\n",
      "[1/30] [700/11532] loss: 0.2400299608707428 gen: 0.22909818589687347 gate: 0.010931774973869324\n",
      "[1/30] [800/11532] loss: 0.13029824197292328 gen: 0.10959453135728836 gate: 0.020703714340925217\n",
      "[1/30] [900/11532] loss: 0.20407912135124207 gen: 0.1551753580570221 gate: 0.04890377074480057\n",
      "[1/30] [1000/11532] loss: 0.10777425765991211 gen: 0.09827343374490738 gate: 0.009500822983682156\n",
      "[1/30] [1100/11532] loss: 0.10682648420333862 gen: 0.10347238928079605 gate: 0.0033540953882038593\n",
      "[1/30] [1200/11532] loss: 0.08349531888961792 gen: 0.06511934101581573 gate: 0.018375977873802185\n",
      "[1/30] [1300/11532] loss: 0.14603844285011292 gen: 0.13956397771835327 gate: 0.0064744711853563786\n",
      "[1/30] [1400/11532] loss: 0.1194339394569397 gen: 0.10667731612920761 gate: 0.01275662425905466\n",
      "[1/30] [1500/11532] loss: 0.22555336356163025 gen: 0.18939445912837982 gate: 0.03615889698266983\n",
      "[1/30] [1600/11532] loss: 0.15672874450683594 gen: 0.147733673453331 gate: 0.00899506825953722\n",
      "[1/30] [1700/11532] loss: 0.15418396890163422 gen: 0.12391820549964905 gate: 0.03026576340198517\n",
      "[1/30] [1800/11532] loss: 0.15350496768951416 gen: 0.13339179754257202 gate: 0.02011316828429699\n",
      "[1/30] [1900/11532] loss: 0.08664555102586746 gen: 0.0657922700047493 gate: 0.020853281021118164\n",
      "[1/30] [2000/11532] loss: 0.23817047476768494 gen: 0.2232433259487152 gate: 0.01492715161293745\n",
      "[1/30] [2100/11532] loss: 0.10195130854845047 gen: 0.09983134269714355 gate: 0.002119963988661766\n",
      "[1/30] [2200/11532] loss: 0.11736325919628143 gen: 0.09200041741132736 gate: 0.02536284364759922\n",
      "[1/30] [2300/11532] loss: 0.13700616359710693 gen: 0.1351250559091568 gate: 0.0018811053596436977\n",
      "[1/30] [2400/11532] loss: 0.299682080745697 gen: 0.2809673547744751 gate: 0.018714740872383118\n",
      "[1/30] [2500/11532] loss: 0.14591731131076813 gen: 0.11779939383268356 gate: 0.028117919340729713\n",
      "[1/30] [2600/11532] loss: 0.25678306818008423 gen: 0.16217046976089478 gate: 0.09461259096860886\n",
      "[1/30] [2700/11532] loss: 0.19663843512535095 gen: 0.14168721437454224 gate: 0.054951224476099014\n",
      "[1/30] [2800/11532] loss: 0.2657674252986908 gen: 0.25342148542404175 gate: 0.01234594825655222\n",
      "[1/30] [2900/11532] loss: 0.23335987329483032 gen: 0.19878797233104706 gate: 0.034571900963783264\n",
      "[1/30] [3000/11532] loss: 0.10461056232452393 gen: 0.0989920124411583 gate: 0.00561855174601078\n",
      "[1/30] [3100/11532] loss: 0.09560181945562363 gen: 0.0843513011932373 gate: 0.011250521056354046\n",
      "[1/30] [3200/11532] loss: 0.11320005357265472 gen: 0.10729148983955383 gate: 0.0059085628017783165\n",
      "[1/30] [3300/11532] loss: 0.13594983518123627 gen: 0.11564793437719345 gate: 0.020301898941397667\n",
      "[1/30] [3400/11532] loss: 0.06232693791389465 gen: 0.0476062074303627 gate: 0.014720732346177101\n",
      "[1/30] [3500/11532] loss: 0.024098433554172516 gen: 0.02250947430729866 gate: 0.0015889586647972465\n",
      "[1/30] [3600/11532] loss: 0.07773839682340622 gen: 0.06513679772615433 gate: 0.012601598165929317\n",
      "[1/30] [3700/11532] loss: 0.19573485851287842 gen: 0.1615821123123169 gate: 0.034152738749980927\n",
      "[1/30] [3800/11532] loss: 0.0839722752571106 gen: 0.062018148601055145 gate: 0.02195413038134575\n",
      "[1/30] [3900/11532] loss: 0.06498882919549942 gen: 0.05462075024843216 gate: 0.010368077084422112\n",
      "[1/30] [4000/11532] loss: 0.15178468823432922 gen: 0.14100958406925201 gate: 0.010775100439786911\n",
      "[1/30] [4100/11532] loss: 0.13028289377689362 gen: 0.09459248930215836 gate: 0.03569040820002556\n",
      "[1/30] [4200/11532] loss: 0.18313372135162354 gen: 0.15753304958343506 gate: 0.025600673630833626\n",
      "[1/30] [4300/11532] loss: 0.010723929852247238 gen: 0.010297996923327446 gate: 0.0004259331035427749\n",
      "[1/30] [4400/11532] loss: 0.112762950360775 gen: 0.09208660572767258 gate: 0.020676344633102417\n",
      "[1/30] [4500/11532] loss: 0.12070010602474213 gen: 0.11799632757902145 gate: 0.002703781006857753\n",
      "[1/30] [4600/11532] loss: 0.058003298938274384 gen: 0.05561264231801033 gate: 0.0023906566202640533\n",
      "[1/30] [4700/11532] loss: 0.11574210226535797 gen: 0.09739194065332413 gate: 0.018350161612033844\n",
      "[1/30] [4800/11532] loss: 0.13418984413146973 gen: 0.10693136602640152 gate: 0.02725847251713276\n",
      "[1/30] [4900/11532] loss: 0.16957420110702515 gen: 0.09927072376012802 gate: 0.07030348479747772\n",
      "[1/30] [5000/11532] loss: 0.15709306299686432 gen: 0.12929005920886993 gate: 0.027803007513284683\n",
      "[1/30] [5100/11532] loss: 0.07326729595661163 gen: 0.052358340471982956 gate: 0.020908957347273827\n",
      "[1/30] [5200/11532] loss: 0.14377233386039734 gen: 0.11616108566522598 gate: 0.027611250057816505\n",
      "[1/30] [5300/11532] loss: 0.147787407040596 gen: 0.1231384128332138 gate: 0.0246489979326725\n",
      "[1/30] [5400/11532] loss: 0.07410376518964767 gen: 0.06736960262060165 gate: 0.00673416443169117\n",
      "[1/30] [5500/11532] loss: 0.16943463683128357 gen: 0.14792943000793457 gate: 0.021505206823349\n",
      "[1/30] [5600/11532] loss: 0.2652406096458435 gen: 0.2108907252550125 gate: 0.054349884390830994\n",
      "[1/30] [5700/11532] loss: 0.2952158451080322 gen: 0.22688697278499603 gate: 0.06832887977361679\n",
      "[1/30] [5800/11532] loss: 0.2132963389158249 gen: 0.18795742094516754 gate: 0.025338919833302498\n",
      "[1/30] [5900/11532] loss: 0.09974199533462524 gen: 0.08528519421815872 gate: 0.014456798322498798\n",
      "[1/30] [6000/11532] loss: 0.1599537432193756 gen: 0.10357976704835892 gate: 0.056373972445726395\n",
      "[1/30] [6100/11532] loss: 0.1107524037361145 gen: 0.06562817841768265 gate: 0.04512422904372215\n",
      "[1/30] [6200/11532] loss: 0.08893740922212601 gen: 0.06389427930116653 gate: 0.025043129920959473\n",
      "[1/30] [6300/11532] loss: 0.15624302625656128 gen: 0.10989653319120407 gate: 0.04634648561477661\n",
      "[1/30] [6400/11532] loss: 0.09073124080896378 gen: 0.08659756183624268 gate: 0.0041336785070598125\n",
      "[1/30] [6500/11532] loss: 0.0711391344666481 gen: 0.06497024744749069 gate: 0.0061688851565122604\n",
      "[1/30] [6600/11532] loss: 0.08319896459579468 gen: 0.08090615272521973 gate: 0.002292812103405595\n",
      "[1/30] [6700/11532] loss: 0.1397082805633545 gen: 0.10204321891069412 gate: 0.03766505420207977\n",
      "[1/30] [6800/11532] loss: 0.2157750427722931 gen: 0.13526040315628052 gate: 0.08051463216543198\n",
      "[1/30] [6900/11532] loss: 0.10347722470760345 gen: 0.09735671430826187 gate: 0.0061205108650028706\n",
      "[1/30] [7000/11532] loss: 0.24390314519405365 gen: 0.17758959531784058 gate: 0.06631354987621307\n",
      "[1/30] [7100/11532] loss: 0.09593771398067474 gen: 0.09396496415138245 gate: 0.001972746104001999\n",
      "[1/30] [7200/11532] loss: 0.04260915145277977 gen: 0.03488296642899513 gate: 0.007726186420768499\n",
      "[1/30] [7300/11532] loss: 0.16996163129806519 gen: 0.10280496627092361 gate: 0.06715667247772217\n",
      "[1/30] [7400/11532] loss: 0.10712869465351105 gen: 0.10321830213069916 gate: 0.003910389728844166\n",
      "[1/30] [7500/11532] loss: 0.080809086561203 gen: 0.07146037369966507 gate: 0.009348712861537933\n",
      "[1/30] [7600/11532] loss: 0.11521392315626144 gen: 0.1105092391371727 gate: 0.004704684484750032\n",
      "[1/30] [7700/11532] loss: 0.24254003167152405 gen: 0.1808750033378601 gate: 0.061665020883083344\n",
      "[1/30] [7800/11532] loss: 0.16765844821929932 gen: 0.14494431018829346 gate: 0.02271413989365101\n",
      "[1/30] [7900/11532] loss: 0.14024312794208527 gen: 0.11949294060468674 gate: 0.02075018920004368\n",
      "[1/30] [8000/11532] loss: 0.10672865808010101 gen: 0.10597486048936844 gate: 0.0007537943893112242\n",
      "[1/30] [8100/11532] loss: 0.03915857896208763 gen: 0.037967126816511154 gate: 0.0011914531933143735\n",
      "[1/30] [8200/11532] loss: 0.23541219532489777 gen: 0.19126977026462555 gate: 0.04414242506027222\n",
      "[1/30] [8300/11532] loss: 0.3521973192691803 gen: 0.19681283831596375 gate: 0.15538448095321655\n",
      "[1/30] [8400/11532] loss: 0.07780595868825912 gen: 0.07692500203847885 gate: 0.0008809545543044806\n",
      "[1/30] [8500/11532] loss: 0.2049790769815445 gen: 0.10916342586278915 gate: 0.09581565111875534\n",
      "[1/30] [8600/11532] loss: 0.0780225321650505 gen: 0.0761384665966034 gate: 0.0018840645207092166\n",
      "[1/30] [8700/11532] loss: 0.13408087193965912 gen: 0.0974239930510521 gate: 0.03665687516331673\n",
      "[1/30] [8800/11532] loss: 0.1177123561501503 gen: 0.11325007677078247 gate: 0.0044622826389968395\n",
      "[1/30] [8900/11532] loss: 0.043750979006290436 gen: 0.03126108646392822 gate: 0.012489892542362213\n",
      "[1/30] [9000/11532] loss: 0.08502663671970367 gen: 0.07753457874059677 gate: 0.0074920570477843285\n",
      "[1/30] [9100/11532] loss: 0.06833936274051666 gen: 0.059351690113544464 gate: 0.0089876689016819\n",
      "[1/30] [9200/11532] loss: 0.13608555495738983 gen: 0.09990987926721573 gate: 0.0361756756901741\n",
      "[1/30] [9300/11532] loss: 0.22512929141521454 gen: 0.20515300333499908 gate: 0.019976282492280006\n",
      "[1/30] [9400/11532] loss: 0.16523148119449615 gen: 0.16008515655994415 gate: 0.005146325100213289\n",
      "[1/30] [9500/11532] loss: 0.12895771861076355 gen: 0.10775242745876312 gate: 0.021205294877290726\n",
      "[1/30] [9600/11532] loss: 0.1422039270401001 gen: 0.11265755444765091 gate: 0.029546372592449188\n",
      "[1/30] [9700/11532] loss: 0.1489677131175995 gen: 0.10899881273508072 gate: 0.039968907833099365\n",
      "[1/30] [9800/11532] loss: 0.12035367637872696 gen: 0.11144877970218658 gate: 0.008904896676540375\n",
      "[1/30] [9900/11532] loss: 0.05389519780874252 gen: 0.05209360271692276 gate: 0.0018015955574810505\n",
      "[1/30] [10000/11532] loss: 0.10046171396970749 gen: 0.0827869102358818 gate: 0.017674801871180534\n",
      "[1/30] [10100/11532] loss: 0.16919825971126556 gen: 0.141660675406456 gate: 0.02753758616745472\n",
      "[1/30] [10200/11532] loss: 0.13024704158306122 gen: 0.08645555377006531 gate: 0.04379148408770561\n",
      "[1/30] [10300/11532] loss: 0.08478894829750061 gen: 0.08215591311454773 gate: 0.0026330372784286737\n",
      "[1/30] [10400/11532] loss: 0.08067464083433151 gen: 0.07540794461965561 gate: 0.005266699008643627\n",
      "[1/30] [10500/11532] loss: 0.14551785588264465 gen: 0.12082774192094803 gate: 0.024690117686986923\n",
      "[1/30] [10600/11532] loss: 0.06548184901475906 gen: 0.04796023666858673 gate: 0.017521612346172333\n",
      "[1/30] [10700/11532] loss: 0.18235665559768677 gen: 0.1430036425590515 gate: 0.039353009313344955\n",
      "[1/30] [10800/11532] loss: 0.048044364899396896 gen: 0.04293401539325714 gate: 0.0051103499718010426\n",
      "[1/30] [10900/11532] loss: 0.1492019146680832 gen: 0.13541662693023682 gate: 0.013785287737846375\n",
      "[1/30] [11000/11532] loss: 0.17029139399528503 gen: 0.12268898636102676 gate: 0.04760241135954857\n",
      "[1/30] [11100/11532] loss: 0.049175363034009933 gen: 0.04716089740395546 gate: 0.0020144658628851175\n",
      "[1/30] [11200/11532] loss: 0.1337035745382309 gen: 0.12395206838846207 gate: 0.009751511737704277\n",
      "[1/30] [11300/11532] loss: 0.07852432131767273 gen: 0.05907369777560234 gate: 0.019450625404715538\n",
      "[1/30] [11400/11532] loss: 0.10684418678283691 gen: 0.07892319560050964 gate: 0.027920987457036972\n",
      "[1/30] [11500/11532] loss: 0.06414002925157547 gen: 0.06201101839542389 gate: 0.002129009924829006\n"
     ]
    },
    {
     "name": "stderr",
     "output_type": "stream",
     "text": [
      "100%|██████████| 640/640 [01:59<00:00,  5.34it/s]\n"
     ]
    },
    {
     "name": "stdout",
     "output_type": "stream",
     "text": [
      "{'joint_goal_accuracy': 0.5341930441578742, 'turn_slot_accuracy': 0.9830749858885974, 'turn_slot_f1': 0.9208502338396105}\n",
      "joint_goal_accuracy: 0.5341930441578742\n",
      "turn_slot_accuracy: 0.9830749858885974\n",
      "turn_slot_f1: 0.9208502338396105\n",
      "'--Update Best checkpoint!, epoch: 2'\n",
      "--Saving best model checkpoint\n",
      "time for 1 epoch: 2014.5532901287079\n",
      "[2/30] [0/11532] loss: 0.06734965741634369 gen: 0.033441610634326935 gate: 0.033908046782016754\n",
      "[2/30] [100/11532] loss: 0.1004311665892601 gen: 0.09774937480688095 gate: 0.00268178922124207\n",
      "[2/30] [200/11532] loss: 0.07389026880264282 gen: 0.07244566082954407 gate: 0.0014446059940382838\n",
      "[2/30] [300/11532] loss: 0.15821059048175812 gen: 0.11706220358610153 gate: 0.041148390620946884\n",
      "[2/30] [400/11532] loss: 0.07149287313222885 gen: 0.07047785818576813 gate: 0.0010150144807994366\n",
      "[2/30] [500/11532] loss: 0.01769321970641613 gen: 0.017462829127907753 gate: 0.00023038990912027657\n",
      "[2/30] [600/11532] loss: 0.06118971109390259 gen: 0.06071899086236954 gate: 0.00047071895096451044\n",
      "[2/30] [700/11532] loss: 0.26285475492477417 gen: 0.1653505563735962 gate: 0.09750418365001678\n",
      "[2/30] [800/11532] loss: 0.18864871561527252 gen: 0.15385720133781433 gate: 0.03479151055216789\n",
      "[2/30] [900/11532] loss: 0.14499811828136444 gen: 0.08534271270036697 gate: 0.05965540185570717\n",
      "[2/30] [1000/11532] loss: 0.14050602912902832 gen: 0.11237958818674088 gate: 0.028126433491706848\n",
      "[2/30] [1100/11532] loss: 0.06119657680392265 gen: 0.060157012194395065 gate: 0.0010395642602816224\n",
      "[2/30] [1200/11532] loss: 0.12256523221731186 gen: 0.1200765073299408 gate: 0.0024887260515242815\n",
      "[2/30] [1300/11532] loss: 0.040518149733543396 gen: 0.03846094384789467 gate: 0.0020572058856487274\n",
      "[2/30] [1400/11532] loss: 0.09064384549856186 gen: 0.07231049984693527 gate: 0.018333343788981438\n",
      "[2/30] [1500/11532] loss: 0.12197244167327881 gen: 0.08539401739835739 gate: 0.03657842054963112\n",
      "[2/30] [1600/11532] loss: 0.05854727327823639 gen: 0.05741599574685097 gate: 0.00113127869553864\n",
      "[2/30] [1700/11532] loss: 0.07363107800483704 gen: 0.051038648933172226 gate: 0.02259243279695511\n",
      "[2/30] [1800/11532] loss: 0.04017910733819008 gen: 0.039432451128959656 gate: 0.000746657548006624\n",
      "[2/30] [1900/11532] loss: 0.08318354189395905 gen: 0.05880922079086304 gate: 0.02437432110309601\n",
      "[2/30] [2000/11532] loss: 0.055538326501846313 gen: 0.046368543058633804 gate: 0.009169782511889935\n",
      "[2/30] [2100/11532] loss: 0.08459426462650299 gen: 0.08326201140880585 gate: 0.0013322520535439253\n",
      "[2/30] [2200/11532] loss: 0.043598074465990067 gen: 0.0420808345079422 gate: 0.001517241238616407\n",
      "[2/30] [2300/11532] loss: 0.12707865238189697 gen: 0.0892491564154625 gate: 0.03782949596643448\n",
      "[2/30] [2400/11532] loss: 0.04148901253938675 gen: 0.040469612926244736 gate: 0.0010193987982347608\n",
      "[2/30] [2500/11532] loss: 0.07140016555786133 gen: 0.054073963314294815 gate: 0.017326202243566513\n",
      "[2/30] [2600/11532] loss: 0.05838705599308014 gen: 0.057416658848524094 gate: 0.0009703989489935338\n",
      "[2/30] [2700/11532] loss: 0.06260332465171814 gen: 0.060331594198942184 gate: 0.002271728590130806\n",
      "[2/30] [2800/11532] loss: 0.07329782843589783 gen: 0.04278375208377838 gate: 0.030514076352119446\n",
      "[2/30] [2900/11532] loss: 0.04117821902036667 gen: 0.024563319981098175 gate: 0.016614897176623344\n",
      "[2/30] [3000/11532] loss: 0.04683351144194603 gen: 0.046399861574172974 gate: 0.00043364858720451593\n",
      "[2/30] [3100/11532] loss: 0.0763731598854065 gen: 0.07586356997489929 gate: 0.0005095907254144549\n",
      "[2/30] [3200/11532] loss: 0.04300636425614357 gen: 0.04248550534248352 gate: 0.000520859204698354\n",
      "[2/30] [3300/11532] loss: 0.022549381479620934 gen: 0.02116711437702179 gate: 0.0013822665205225348\n",
      "[2/30] [3400/11532] loss: 0.03452703356742859 gen: 0.03403054177761078 gate: 0.0004964931285940111\n",
      "[2/30] [3500/11532] loss: 0.016907524317502975 gen: 0.016441326588392258 gate: 0.0004661979910451919\n",
      "[2/30] [3600/11532] loss: 0.04064550995826721 gen: 0.03901441767811775 gate: 0.0016310920473188162\n",
      "[2/30] [3700/11532] loss: 0.0890255868434906 gen: 0.05830289423465729 gate: 0.030722688883543015\n",
      "[2/30] [3800/11532] loss: 0.10574571788311005 gen: 0.06234664469957352 gate: 0.04339907690882683\n",
      "[2/30] [3900/11532] loss: 0.01866018958389759 gen: 0.017705827951431274 gate: 0.0009543611668050289\n",
      "[2/30] [4000/11532] loss: 0.14917609095573425 gen: 0.1397043615579605 gate: 0.009471734054386616\n",
      "[2/30] [4100/11532] loss: 0.11069667339324951 gen: 0.07993040233850479 gate: 0.03076626919209957\n",
      "[2/30] [4200/11532] loss: 0.22751371562480927 gen: 0.18103598058223724 gate: 0.04647773131728172\n",
      "[2/30] [4300/11532] loss: 0.1469665914773941 gen: 0.11149847507476807 gate: 0.03546811640262604\n",
      "[2/30] [4400/11532] loss: 0.21364760398864746 gen: 0.14206743240356445 gate: 0.07158016413450241\n",
      "[2/30] [4500/11532] loss: 0.03752586245536804 gen: 0.030421769246459007 gate: 0.0071040913462638855\n",
      "[2/30] [4600/11532] loss: 0.08238005638122559 gen: 0.08148442953824997 gate: 0.0008956249221228063\n",
      "[2/30] [4700/11532] loss: 0.18768373131752014 gen: 0.09721257537603378 gate: 0.09047114849090576\n",
      "[2/30] [4800/11532] loss: 0.11633211374282837 gen: 0.08038213849067688 gate: 0.03594997525215149\n",
      "[2/30] [4900/11532] loss: 0.043268248438835144 gen: 0.040642429143190384 gate: 0.0026258202269673347\n",
      "[2/30] [5000/11532] loss: 0.03761652857065201 gen: 0.0364697091281414 gate: 0.0011468204902485013\n",
      "[2/30] [5100/11532] loss: 0.10013414174318314 gen: 0.0791533887386322 gate: 0.020980754867196083\n",
      "[2/30] [5200/11532] loss: 0.06152615696191788 gen: 0.03653077781200409 gate: 0.024995379149913788\n",
      "[2/30] [5300/11532] loss: 0.05152025818824768 gen: 0.05069267749786377 gate: 0.0008275791187770665\n",
      "[2/30] [5400/11532] loss: 0.062330182641744614 gen: 0.06062256917357445 gate: 0.0017076126532629132\n",
      "[2/30] [5500/11532] loss: 0.08478022366762161 gen: 0.08366521447896957 gate: 0.0011150058126077056\n",
      "[2/30] [5600/11532] loss: 0.04302578791975975 gen: 0.04117954522371292 gate: 0.0018462409498170018\n",
      "[2/30] [5700/11532] loss: 0.05128920078277588 gen: 0.04826213791966438 gate: 0.0030270626302808523\n",
      "[2/30] [5800/11532] loss: 0.15502768754959106 gen: 0.15405569970607758 gate: 0.0009719925583340228\n",
      "[2/30] [5900/11532] loss: 0.015902142971754074 gen: 0.01516643911600113 gate: 0.000735703855752945\n",
      "[2/30] [6000/11532] loss: 0.04255044460296631 gen: 0.04194790869951248 gate: 0.0006025349139235914\n",
      "[2/30] [6100/11532] loss: 0.19563597440719604 gen: 0.16152670979499817 gate: 0.03410925716161728\n",
      "[2/30] [6200/11532] loss: 0.07448053359985352 gen: 0.04789603501558304 gate: 0.026584498584270477\n",
      "[2/30] [6300/11532] loss: 0.087575264275074 gen: 0.07711242884397507 gate: 0.010462837293744087\n",
      "[2/30] [6400/11532] loss: 0.09566428512334824 gen: 0.09513521194458008 gate: 0.0005290699773468077\n",
      "[2/30] [6500/11532] loss: 0.11896885931491852 gen: 0.08737219125032425 gate: 0.03159666433930397\n",
      "[2/30] [6600/11532] loss: 0.13152636587619781 gen: 0.09369564801454544 gate: 0.037830714136362076\n",
      "[2/30] [6700/11532] loss: 0.025542328134179115 gen: 0.025120891630649567 gate: 0.00042143568862229586\n",
      "[2/30] [6800/11532] loss: 0.0328194685280323 gen: 0.032195013016462326 gate: 0.0006244542892090976\n",
      "[2/30] [6900/11532] loss: 0.08549746870994568 gen: 0.07501617074012756 gate: 0.010481294244527817\n",
      "[2/30] [7000/11532] loss: 0.019627906382083893 gen: 0.018575148656964302 gate: 0.0010527573758736253\n",
      "[2/30] [7100/11532] loss: 0.02781992405653 gen: 0.02649153769016266 gate: 0.0013283867156133056\n",
      "[2/30] [7200/11532] loss: 0.029040120542049408 gen: 0.028091318905353546 gate: 0.0009488016949035227\n",
      "[2/30] [7300/11532] loss: 0.09317676723003387 gen: 0.06974299997091293 gate: 0.02343377098441124\n",
      "[2/30] [7400/11532] loss: 0.1488451063632965 gen: 0.10331898182630539 gate: 0.04552612826228142\n",
      "[2/30] [7500/11532] loss: 0.026522114872932434 gen: 0.026256408542394638 gate: 0.00026570551563054323\n",
      "[2/30] [7600/11532] loss: 0.08951126039028168 gen: 0.046273328363895416 gate: 0.04323792830109596\n",
      "[2/30] [7700/11532] loss: 0.02765398845076561 gen: 0.02419559471309185 gate: 0.003458393272012472\n",
      "[2/30] [7800/11532] loss: 0.033957142382860184 gen: 0.03277213126420975 gate: 0.0011850103037431836\n",
      "[2/30] [7900/11532] loss: 0.4954018294811249 gen: 0.25746551156044006 gate: 0.23793631792068481\n",
      "[2/30] [8000/11532] loss: 0.13901665806770325 gen: 0.12879212200641632 gate: 0.0102245407178998\n",
      "[2/30] [8100/11532] loss: 0.0730324313044548 gen: 0.07237576693296432 gate: 0.0006566637312062085\n",
      "[2/30] [8200/11532] loss: 0.13922005891799927 gen: 0.125936821103096 gate: 0.01328323595225811\n",
      "[2/30] [8300/11532] loss: 0.05049676075577736 gen: 0.048639535903930664 gate: 0.0018572231056168675\n",
      "[2/30] [8400/11532] loss: 0.026436707004904747 gen: 0.02613609842956066 gate: 0.0003006088372785598\n",
      "[2/30] [8500/11532] loss: 0.0263725146651268 gen: 0.02615179866552353 gate: 0.0002207155921496451\n",
      "[2/30] [8600/11532] loss: 0.06845441460609436 gen: 0.0677180290222168 gate: 0.0007363836630247533\n",
      "[2/30] [8700/11532] loss: 0.083095483481884 gen: 0.08279915153980255 gate: 0.00029632882797159255\n",
      "[2/30] [8800/11532] loss: 0.0312904492020607 gen: 0.029499979689717293 gate: 0.0017904705600813031\n",
      "[2/30] [8900/11532] loss: 0.04896076023578644 gen: 0.04741668328642845 gate: 0.001544077997095883\n",
      "[2/30] [9000/11532] loss: 0.165376216173172 gen: 0.09085342288017273 gate: 0.07452280074357986\n",
      "[2/30] [9100/11532] loss: 0.07537612318992615 gen: 0.07520674914121628 gate: 0.000169371283845976\n",
      "[2/30] [9200/11532] loss: 0.10840403288602829 gen: 0.07738593965768814 gate: 0.031018095090985298\n",
      "[2/30] [9300/11532] loss: 0.040433257818222046 gen: 0.040217529982328415 gate: 0.00021572934929281473\n",
      "[2/30] [9400/11532] loss: 0.11427362263202667 gen: 0.053845666348934174 gate: 0.0604279525578022\n",
      "[2/30] [9500/11532] loss: 0.039085231721401215 gen: 0.02872050181031227 gate: 0.010364728979766369\n",
      "[2/30] [9600/11532] loss: 0.058525554835796356 gen: 0.01950898952782154 gate: 0.039016567170619965\n",
      "[2/30] [9700/11532] loss: 0.052667271345853806 gen: 0.052066415548324585 gate: 0.0006008554482832551\n",
      "[2/30] [9800/11532] loss: 0.03538098186254501 gen: 0.033757440745830536 gate: 0.0016235427465289831\n",
      "[2/30] [9900/11532] loss: 0.059169620275497437 gen: 0.05572385713458061 gate: 0.0034457631409168243\n",
      "[2/30] [10000/11532] loss: 0.07563918828964233 gen: 0.0750616043806076 gate: 0.0005775817553512752\n",
      "[2/30] [10100/11532] loss: 0.0929071307182312 gen: 0.045505039393901825 gate: 0.047402095049619675\n",
      "[2/30] [10200/11532] loss: 0.06376208364963531 gen: 0.04825081676244736 gate: 0.015511270612478256\n",
      "[2/30] [10300/11532] loss: 0.2491755187511444 gen: 0.11015275120735168 gate: 0.13902276754379272\n",
      "[2/30] [10400/11532] loss: 0.052493687719106674 gen: 0.05209248140454292 gate: 0.00040120602352544665\n",
      "[2/30] [10500/11532] loss: 0.029074084013700485 gen: 0.028827102854847908 gate: 0.0002469807513989508\n",
      "[2/30] [10600/11532] loss: 0.07436148077249527 gen: 0.07405474781990051 gate: 0.00030673472792841494\n",
      "[2/30] [10700/11532] loss: 0.027688348665833473 gen: 0.02723444439470768 gate: 0.00045390400919131935\n",
      "[2/30] [10800/11532] loss: 0.08967083692550659 gen: 0.08804204314947128 gate: 0.0016287919133901596\n",
      "[2/30] [10900/11532] loss: 0.03173470497131348 gen: 0.02713893912732601 gate: 0.004595767240971327\n",
      "[2/30] [11000/11532] loss: 0.042953673750162125 gen: 0.04278646782040596 gate: 0.00016720479470677674\n",
      "[2/30] [11100/11532] loss: 0.050926435738801956 gen: 0.05068574845790863 gate: 0.00024068636412266642\n",
      "[2/30] [11200/11532] loss: 0.025655759498476982 gen: 0.02541627176105976 gate: 0.00023948730085976422\n",
      "[2/30] [11300/11532] loss: 0.04939588904380798 gen: 0.048165902495384216 gate: 0.001229987246915698\n",
      "[2/30] [11400/11532] loss: 0.06555907428264618 gen: 0.06462690234184265 gate: 0.0009321740944869816\n",
      "[2/30] [11500/11532] loss: 0.013529440388083458 gen: 0.013228364288806915 gate: 0.00030107569182291627\n"
     ]
    },
    {
     "name": "stderr",
     "output_type": "stream",
     "text": [
      "100%|██████████| 640/640 [02:08<00:00,  4.97it/s]\n"
     ]
    },
    {
     "name": "stdout",
     "output_type": "stream",
     "text": [
      "{'joint_goal_accuracy': 0.5726846424384525, 'turn_slot_accuracy': 0.9852372888715322, 'turn_slot_f1': 0.9324274957224725}\n",
      "joint_goal_accuracy: 0.5726846424384525\n",
      "turn_slot_accuracy: 0.9852372888715322\n",
      "turn_slot_f1: 0.9324274957224725\n",
      "'--Update Best checkpoint!, epoch: 3'\n",
      "--Saving best model checkpoint\n",
      "time for 1 epoch: 2021.0467655658722\n",
      "[3/30] [0/11532] loss: 0.029385985806584358 gen: 0.028227413073182106 gate: 0.0011585726169869304\n",
      "[3/30] [100/11532] loss: 0.084633007645607 gen: 0.05609429255127907 gate: 0.028538716956973076\n",
      "[3/30] [200/11532] loss: 0.05198601260781288 gen: 0.03538653999567032 gate: 0.016599472612142563\n",
      "[3/30] [300/11532] loss: 0.020681306719779968 gen: 0.020358925685286522 gate: 0.00032238088897429407\n",
      "[3/30] [400/11532] loss: 0.049501948058605194 gen: 0.04915971681475639 gate: 0.0003422326117288321\n",
      "[3/30] [500/11532] loss: 0.026569433510303497 gen: 0.02637084759771824 gate: 0.0001985859271371737\n",
      "[3/30] [600/11532] loss: 0.014844677411019802 gen: 0.013720237649977207 gate: 0.001124439761042595\n",
      "[3/30] [700/11532] loss: 0.042792245745658875 gen: 0.02288806438446045 gate: 0.019904183223843575\n",
      "[3/30] [800/11532] loss: 0.007241913583129644 gen: 0.006940103136003017 gate: 0.0003018105053342879\n",
      "[3/30] [900/11532] loss: 0.03907269239425659 gen: 0.03766099736094475 gate: 0.0014116932870820165\n",
      "[3/30] [1000/11532] loss: 0.02673429623246193 gen: 0.02654377557337284 gate: 0.0001905209937831387\n",
      "[3/30] [1100/11532] loss: 0.042788177728652954 gen: 0.028782973065972328 gate: 0.014005206525325775\n",
      "[3/30] [1200/11532] loss: 0.02152165398001671 gen: 0.021061858162283897 gate: 0.0004597964871209115\n",
      "[3/30] [1300/11532] loss: 0.031770478934049606 gen: 0.02874717302620411 gate: 0.0030233075376600027\n",
      "[3/30] [1400/11532] loss: 0.03017917275428772 gen: 0.0183729138225317 gate: 0.011806258000433445\n",
      "[3/30] [1500/11532] loss: 0.03634125366806984 gen: 0.035849492996931076 gate: 0.0004917593323625624\n",
      "[3/30] [1600/11532] loss: 0.1519370675086975 gen: 0.09723326563835144 gate: 0.05470380187034607\n",
      "[3/30] [1700/11532] loss: 0.023467013612389565 gen: 0.022708510980010033 gate: 0.0007585023995488882\n",
      "[3/30] [1800/11532] loss: 0.05292714014649391 gen: 0.04922883212566376 gate: 0.003698306391015649\n",
      "[3/30] [1900/11532] loss: 0.259233295917511 gen: 0.16928474605083466 gate: 0.08994854986667633\n",
      "[3/30] [2000/11532] loss: 0.0037391693331301212 gen: 0.0031883115880191326 gate: 0.0005508577451109886\n",
      "[3/30] [2100/11532] loss: 0.2306099236011505 gen: 0.13192330300807953 gate: 0.09868662804365158\n",
      "[3/30] [2200/11532] loss: 0.2328968346118927 gen: 0.17271080613136292 gate: 0.06018602475523949\n",
      "[3/30] [2300/11532] loss: 0.030577169731259346 gen: 0.029454374685883522 gate: 0.0011227953946217895\n",
      "[3/30] [2400/11532] loss: 0.08796161413192749 gen: 0.08246511965990067 gate: 0.005496495869010687\n",
      "[3/30] [2500/11532] loss: 0.05705076456069946 gen: 0.03306317701935768 gate: 0.02398758754134178\n",
      "[3/30] [2600/11532] loss: 0.012915469706058502 gen: 0.012554286979138851 gate: 0.00036118298885412514\n",
      "[3/30] [2700/11532] loss: 0.08466430753469467 gen: 0.06301021575927734 gate: 0.021654093638062477\n",
      "[3/30] [2800/11532] loss: 0.05917494744062424 gen: 0.03540060669183731 gate: 0.023774342611432076\n",
      "[3/30] [2900/11532] loss: 0.038379088044166565 gen: 0.03659280389547348 gate: 0.001786285312846303\n",
      "[3/30] [3000/11532] loss: 0.05956162512302399 gen: 0.059206265956163406 gate: 0.00035535942879505455\n",
      "[3/30] [3100/11532] loss: 0.15846458077430725 gen: 0.06943409889936447 gate: 0.08903048932552338\n",
      "[3/30] [3200/11532] loss: 0.01992262899875641 gen: 0.018107397481799126 gate: 0.0018152320990338922\n",
      "[3/30] [3300/11532] loss: 0.00927640963345766 gen: 0.008760595694184303 gate: 0.0005158143467269838\n",
      "[3/30] [3400/11532] loss: 0.11610054224729538 gen: 0.05417951941490173 gate: 0.061921022832393646\n",
      "[3/30] [3500/11532] loss: 0.058319009840488434 gen: 0.04930717498064041 gate: 0.009011832997202873\n",
      "[3/30] [3600/11532] loss: 0.041123371571302414 gen: 0.04075923189520836 gate: 0.00036414095666259527\n",
      "[3/30] [3700/11532] loss: 0.08649720251560211 gen: 0.04211924597620964 gate: 0.04437795281410217\n",
      "[3/30] [3800/11532] loss: 0.04744456708431244 gen: 0.047236353158950806 gate: 0.00020821559883188456\n",
      "[3/30] [3900/11532] loss: 0.07039155811071396 gen: 0.07006164640188217 gate: 0.00032991389161907136\n",
      "[3/30] [4000/11532] loss: 0.04154292121529579 gen: 0.04146037623286247 gate: 8.254341082647443e-05\n",
      "[3/30] [4100/11532] loss: 0.02054164744913578 gen: 0.020254597067832947 gate: 0.0002870507596526295\n",
      "[3/30] [4200/11532] loss: 0.021909436210989952 gen: 0.021761756390333176 gate: 0.00014767982065677643\n",
      "[3/30] [4300/11532] loss: 0.014698609709739685 gen: 0.013962727971374989 gate: 0.0007358816801570356\n",
      "[3/30] [4400/11532] loss: 0.02337872050702572 gen: 0.023036720231175423 gate: 0.0003420011780690402\n",
      "[3/30] [4500/11532] loss: 0.03309902548789978 gen: 0.02266085334122181 gate: 0.010438173078000546\n",
      "[3/30] [4600/11532] loss: 0.009378829039633274 gen: 0.009259689599275589 gate: 0.00011913984053535387\n",
      "[3/30] [4700/11532] loss: 0.08241850882768631 gen: 0.06227071210741997 gate: 0.020147796720266342\n",
      "[3/30] [4800/11532] loss: 0.03788783773779869 gen: 0.023517604917287827 gate: 0.014370233751833439\n",
      "[3/30] [4900/11532] loss: 0.007495269179344177 gen: 0.005121718160808086 gate: 0.0023735512513667345\n",
      "[3/30] [5000/11532] loss: 0.053178153932094574 gen: 0.053073056042194366 gate: 0.00010509676940273494\n",
      "[3/30] [5100/11532] loss: 0.04836291819810867 gen: 0.0342092402279377 gate: 0.014153676107525826\n",
      "[3/30] [5200/11532] loss: 0.09265589714050293 gen: 0.054815735667943954 gate: 0.037840161472558975\n",
      "[3/30] [5300/11532] loss: 0.028965024277567863 gen: 0.028707517310976982 gate: 0.0002575070830062032\n",
      "[3/30] [5400/11532] loss: 0.20990897715091705 gen: 0.11153940856456757 gate: 0.09836956858634949\n",
      "[3/30] [5500/11532] loss: 0.05121888592839241 gen: 0.04790124297142029 gate: 0.0033176422584801912\n",
      "[3/30] [5600/11532] loss: 0.4325374364852905 gen: 0.18384967744350433 gate: 0.2486877590417862\n",
      "[3/30] [5700/11532] loss: 0.04528481885790825 gen: 0.033997002989053726 gate: 0.011287816800177097\n",
      "[3/30] [5800/11532] loss: 0.02681569941341877 gen: 0.02656353823840618 gate: 0.00025216100038960576\n",
      "[3/30] [5900/11532] loss: 0.005089644808322191 gen: 0.004683471750468016 gate: 0.0004061731160618365\n",
      "[3/30] [6000/11532] loss: 0.11725764721632004 gen: 0.08937381953001022 gate: 0.027883825823664665\n",
      "[3/30] [6100/11532] loss: 0.09775243699550629 gen: 0.050146572291851044 gate: 0.04760586842894554\n",
      "[3/30] [6200/11532] loss: 0.08689418435096741 gen: 0.07158073037862778 gate: 0.015313452109694481\n",
      "[3/30] [6300/11532] loss: 0.09310708940029144 gen: 0.060166142880916595 gate: 0.03294094279408455\n",
      "[3/30] [6400/11532] loss: 0.14265382289886475 gen: 0.09957057982683182 gate: 0.04308324307203293\n",
      "[3/30] [6500/11532] loss: 0.07852143049240112 gen: 0.06683552265167236 gate: 0.011685911566019058\n",
      "[3/30] [6600/11532] loss: 0.026065006852149963 gen: 0.02581881731748581 gate: 0.00024618912721052766\n",
      "[3/30] [6700/11532] loss: 0.015215031802654266 gen: 0.009106066077947617 gate: 0.006108966190367937\n",
      "[3/30] [6800/11532] loss: 0.02430296130478382 gen: 0.024041783064603806 gate: 0.00026117873494513333\n",
      "[3/30] [6900/11532] loss: 0.045684728771448135 gen: 0.041654884815216064 gate: 0.004029843024909496\n",
      "[3/30] [7000/11532] loss: 0.03107563965022564 gen: 0.030192075297236443 gate: 0.0008835640037432313\n",
      "[3/30] [7100/11532] loss: 0.05100290849804878 gen: 0.049618229269981384 gate: 0.0013846808578819036\n",
      "[3/30] [7200/11532] loss: 0.08330244570970535 gen: 0.04702983424067497 gate: 0.03627261146903038\n",
      "[3/30] [7300/11532] loss: 0.010953894816339016 gen: 0.010800947435200214 gate: 0.00015294762852136046\n",
      "[3/30] [7400/11532] loss: 0.029901064932346344 gen: 0.028933558613061905 gate: 0.0009675065521150827\n",
      "[3/30] [7500/11532] loss: 0.18920913338661194 gen: 0.06624244153499603 gate: 0.1229666993021965\n",
      "[3/30] [7600/11532] loss: 0.15487012267112732 gen: 0.1041470542550087 gate: 0.05072307586669922\n",
      "[3/30] [7700/11532] loss: 0.021692920476198196 gen: 0.02020905911922455 gate: 0.001483862055465579\n",
      "[3/30] [7800/11532] loss: 0.08611536771059036 gen: 0.06599834561347961 gate: 0.020117023959755898\n",
      "[3/30] [7900/11532] loss: 0.06648414582014084 gen: 0.05544101074337959 gate: 0.011043134145438671\n",
      "[3/30] [8000/11532] loss: 0.05308104306459427 gen: 0.05221026390790939 gate: 0.0008707785746082664\n",
      "[3/30] [8100/11532] loss: 0.08155655115842819 gen: 0.051530804485082626 gate: 0.030025746673345566\n",
      "[3/30] [8200/11532] loss: 0.037053950130939484 gen: 0.02652106247842312 gate: 0.01053288858383894\n",
      "[3/30] [8300/11532] loss: 0.09605936706066132 gen: 0.046870049089193344 gate: 0.04918931424617767\n",
      "[3/30] [8400/11532] loss: 0.05359487235546112 gen: 0.05268988385796547 gate: 0.0009049903019331396\n",
      "[3/30] [8500/11532] loss: 0.008373918943107128 gen: 0.007817229256033897 gate: 0.0005566899199038744\n",
      "[3/30] [8600/11532] loss: 0.014436163008213043 gen: 0.014031837694346905 gate: 0.0004043251683469862\n",
      "[3/30] [8700/11532] loss: 0.023650355637073517 gen: 0.02286774106323719 gate: 0.0007826149230822921\n",
      "[3/30] [8800/11532] loss: 0.006833383347839117 gen: 0.006412978749722242 gate: 0.0004204043943900615\n",
      "[3/30] [8900/11532] loss: 0.006966313347220421 gen: 0.005502568557858467 gate: 0.0014637450221925974\n",
      "[3/30] [9000/11532] loss: 0.06266286969184875 gen: 0.05976814776659012 gate: 0.0028947193641215563\n",
      "[3/30] [9100/11532] loss: 0.030169710516929626 gen: 0.029919907450675964 gate: 0.00024980318266898394\n",
      "[3/30] [9200/11532] loss: 0.04890693724155426 gen: 0.048734571784734726 gate: 0.0001723667373880744\n",
      "[3/30] [9300/11532] loss: 0.0018851516069844365 gen: 0.0017080142861232162 gate: 0.00017713734996505082\n",
      "[3/30] [9400/11532] loss: 0.02829078398644924 gen: 0.028161296620965004 gate: 0.00012948806397616863\n",
      "[3/30] [9500/11532] loss: 0.04525002837181091 gen: 0.04403079301118851 gate: 0.0012192354770377278\n",
      "[3/30] [9600/11532] loss: 0.09379438310861588 gen: 0.060419682413339615 gate: 0.03337470069527626\n",
      "[3/30] [9700/11532] loss: 0.0167626291513443 gen: 0.016406357288360596 gate: 0.0003562715428415686\n",
      "[3/30] [9800/11532] loss: 0.031347569078207016 gen: 0.020157204940915108 gate: 0.011190365068614483\n",
      "[3/30] [9900/11532] loss: 0.014763854444026947 gen: 0.01453439425677061 gate: 0.00022946062381379306\n",
      "[3/30] [10000/11532] loss: 0.027578817680478096 gen: 0.02745976485311985 gate: 0.00011905360588571057\n",
      "[3/30] [10100/11532] loss: 0.05704919993877411 gen: 0.034850601106882095 gate: 0.022198598831892014\n",
      "[3/30] [10200/11532] loss: 0.01063658855855465 gen: 0.010434526950120926 gate: 0.00020206121553201228\n",
      "[3/30] [10300/11532] loss: 0.011304829269647598 gen: 0.01026343647390604 gate: 0.0010413925629109144\n",
      "[3/30] [10400/11532] loss: 0.09019418060779572 gen: 0.059894535690546036 gate: 0.03029964677989483\n",
      "[3/30] [10500/11532] loss: 0.04724965989589691 gen: 0.04691373556852341 gate: 0.00033592552063055336\n",
      "[3/30] [10600/11532] loss: 0.004891867283731699 gen: 0.004580195061862469 gate: 0.00031167204724624753\n",
      "[3/30] [10700/11532] loss: 0.011858130805194378 gen: 0.011703667230904102 gate: 0.00015446392353624105\n",
      "[3/30] [10800/11532] loss: 0.011286280117928982 gen: 0.010930526070296764 gate: 0.0003557541349437088\n",
      "[3/30] [10900/11532] loss: 0.11047708243131638 gen: 0.07569291442632675 gate: 0.034784168004989624\n",
      "[3/30] [11000/11532] loss: 0.015222695656120777 gen: 0.0151492515578866 gate: 7.344422920141369e-05\n",
      "[3/30] [11100/11532] loss: 0.054319582879543304 gen: 0.05401010066270828 gate: 0.00030948183848522604\n",
      "[3/30] [11200/11532] loss: 0.01621011272072792 gen: 0.01606486737728119 gate: 0.0001452447468182072\n",
      "[3/30] [11300/11532] loss: 0.012851512990891933 gen: 0.012754060328006744 gate: 9.745288116391748e-05\n",
      "[3/30] [11400/11532] loss: 0.00478142686188221 gen: 0.004698595497757196 gate: 8.283158967969939e-05\n",
      "[3/30] [11500/11532] loss: 0.00767899863421917 gen: 0.007564751897007227 gate: 0.00011424686090322211\n"
     ]
    },
    {
     "name": "stderr",
     "output_type": "stream",
     "text": [
      "100%|██████████| 640/640 [02:03<00:00,  5.18it/s]\n"
     ]
    },
    {
     "name": "stdout",
     "output_type": "stream",
     "text": [
      "{'joint_goal_accuracy': 0.6016021883548262, 'turn_slot_accuracy': 0.9865138291867598, 'turn_slot_f1': 0.9384114234690889}\n",
      "joint_goal_accuracy: 0.6016021883548262\n",
      "turn_slot_accuracy: 0.9865138291867598\n",
      "turn_slot_f1: 0.9384114234690889\n",
      "'--Update Best checkpoint!, epoch: 4'\n",
      "--Saving best model checkpoint\n",
      "time for 1 epoch: 2008.4485597610474\n",
      "[4/30] [0/11532] loss: 0.023678027093410492 gen: 0.02345253899693489 gate: 0.00022548857668880373\n",
      "[4/30] [100/11532] loss: 0.009143614210188389 gen: 0.008843515999615192 gate: 0.0003000978904310614\n",
      "[4/30] [200/11532] loss: 0.017038311809301376 gen: 0.016969460994005203 gate: 6.885123730171472e-05\n",
      "[4/30] [300/11532] loss: 0.059454675763845444 gen: 0.04054412245750427 gate: 0.01891055330634117\n",
      "[4/30] [400/11532] loss: 0.017412766814231873 gen: 0.017315365374088287 gate: 9.740069799590856e-05\n",
      "[4/30] [500/11532] loss: 0.002851261757314205 gen: 0.0021231130231171846 gate: 0.0007281487341970205\n",
      "[4/30] [600/11532] loss: 0.08145368099212646 gen: 0.07540025562047958 gate: 0.006053423974663019\n",
      "[4/30] [700/11532] loss: 0.009364967234432697 gen: 0.009247677400708199 gate: 0.0001172898628283292\n",
      "[4/30] [800/11532] loss: 0.00635883491486311 gen: 0.0034550363197922707 gate: 0.0029037988279014826\n",
      "[4/30] [900/11532] loss: 0.06378316134214401 gen: 0.06332004070281982 gate: 0.0004631203773897141\n",
      "[4/30] [1000/11532] loss: 0.023712191730737686 gen: 0.023507140576839447 gate: 0.00020505116845015436\n",
      "[4/30] [1100/11532] loss: 0.027484100311994553 gen: 0.027387473732233047 gate: 9.662709635449573e-05\n",
      "[4/30] [1200/11532] loss: 0.011022604070603848 gen: 0.010851355269551277 gate: 0.00017124874284490943\n",
      "[4/30] [1300/11532] loss: 0.06598469614982605 gen: 0.06569413840770721 gate: 0.00029055544291622937\n",
      "[4/30] [1400/11532] loss: 0.01770815998315811 gen: 0.017516497522592545 gate: 0.00019166308629792184\n",
      "[4/30] [1500/11532] loss: 0.011916904710233212 gen: 0.011283383704721928 gate: 0.0006335213547572494\n",
      "[4/30] [1600/11532] loss: 0.07188831269741058 gen: 0.03640512377023697 gate: 0.03548319265246391\n",
      "[4/30] [1700/11532] loss: 0.026929298415780067 gen: 0.02668081223964691 gate: 0.00024848664179444313\n",
      "[4/30] [1800/11532] loss: 0.010852533392608166 gen: 0.00880866963416338 gate: 0.002043863758444786\n",
      "[4/30] [1900/11532] loss: 0.017807936295866966 gen: 0.017740759998559952 gate: 6.717578071402386e-05\n",
      "[4/30] [2000/11532] loss: 0.014997982420027256 gen: 0.014865408651530743 gate: 0.00013257369573693722\n",
      "[4/30] [2100/11532] loss: 0.013614308089017868 gen: 0.01312272995710373 gate: 0.0004915777826681733\n",
      "[4/30] [2200/11532] loss: 0.06562703102827072 gen: 0.06535462290048599 gate: 0.00027240911731496453\n",
      "[4/30] [2300/11532] loss: 0.009695741347968578 gen: 0.009593873284757137 gate: 0.00010186843428527936\n",
      "[4/30] [2400/11532] loss: 0.14465665817260742 gen: 0.09578514099121094 gate: 0.048871517181396484\n",
      "[4/30] [2500/11532] loss: 0.015782887116074562 gen: 0.013616901822388172 gate: 0.0021659848280251026\n",
      "[4/30] [2600/11532] loss: 0.0022765726316720247 gen: 0.002221061382442713 gate: 5.551131471293047e-05\n",
      "[4/30] [2700/11532] loss: 0.03191589564085007 gen: 0.019667720422148705 gate: 0.012248175218701363\n",
      "[4/30] [2800/11532] loss: 0.021891823038458824 gen: 0.02180660329759121 gate: 8.521899144398049e-05\n",
      "[4/30] [2900/11532] loss: 0.021170342341065407 gen: 0.020611310377717018 gate: 0.000559031730517745\n",
      "[4/30] [3000/11532] loss: 0.00040697254007682204 gen: 0.00038195852539502084 gate: 2.5014001948875375e-05\n",
      "[4/30] [3100/11532] loss: 0.03171693906188011 gen: 0.03167889639735222 gate: 3.804349762503989e-05\n",
      "[4/30] [3200/11532] loss: 0.04878561198711395 gen: 0.04707053676247597 gate: 0.001715074758976698\n",
      "[4/30] [3300/11532] loss: 0.007888528518378735 gen: 0.007815547287464142 gate: 7.298158016055822e-05\n",
      "[4/30] [3400/11532] loss: 0.08114898204803467 gen: 0.08068781346082687 gate: 0.00046116652083583176\n",
      "[4/30] [3500/11532] loss: 0.10510337352752686 gen: 0.061900556087493896 gate: 0.04320282116532326\n",
      "[4/30] [3600/11532] loss: 0.009154732339084148 gen: 0.008950079791247845 gate: 0.00020465215493459255\n",
      "[4/30] [3700/11532] loss: 0.12547269463539124 gen: 0.11380458623170853 gate: 0.011668101884424686\n",
      "[4/30] [3800/11532] loss: 0.04688209295272827 gen: 0.046422943472862244 gate: 0.00045915122609585524\n",
      "[4/30] [3900/11532] loss: 0.0501055046916008 gen: 0.047477129846811295 gate: 0.0026283739134669304\n",
      "[4/30] [4000/11532] loss: 0.025287523865699768 gen: 0.02373582124710083 gate: 0.0015517025021836162\n",
      "[4/30] [4100/11532] loss: 0.05577349662780762 gen: 0.04895395413041115 gate: 0.006819541100412607\n",
      "[4/30] [4200/11532] loss: 0.0043983543291687965 gen: 0.003798786085098982 gate: 0.0005995681858621538\n",
      "[4/30] [4300/11532] loss: 0.03720669448375702 gen: 0.03654637560248375 gate: 0.0006603180663660169\n",
      "[4/30] [4400/11532] loss: 0.02660422772169113 gen: 0.026285413652658463 gate: 0.00031881334143690765\n",
      "[4/30] [4500/11532] loss: 0.08452238887548447 gen: 0.08309314399957657 gate: 0.0014292453415691853\n",
      "[4/30] [4600/11532] loss: 0.01209524180740118 gen: 0.012040003202855587 gate: 5.523899380932562e-05\n",
      "[4/30] [4700/11532] loss: 0.01024408545345068 gen: 0.01010046899318695 gate: 0.00014361669309437275\n",
      "[4/30] [4800/11532] loss: 0.021619386970996857 gen: 0.021094975993037224 gate: 0.0005244116182439029\n",
      "[4/30] [4900/11532] loss: 0.10313425213098526 gen: 0.08986012637615204 gate: 0.013274124823510647\n",
      "[4/30] [5000/11532] loss: 0.03233249485492706 gen: 0.03199199587106705 gate: 0.0003405003226362169\n",
      "[4/30] [5100/11532] loss: 0.0007356879068538547 gen: 0.000667580112349242 gate: 6.810780905652791e-05\n",
      "[4/30] [5200/11532] loss: 0.00665555614978075 gen: 0.00587961170822382 gate: 0.0007759444997645915\n",
      "[4/30] [5300/11532] loss: 0.005700845271348953 gen: 0.0055437227711081505 gate: 0.00015712228196207434\n",
      "[4/30] [5400/11532] loss: 0.044076330959796906 gen: 0.016832023859024048 gate: 0.02724430523812771\n",
      "[4/30] [5500/11532] loss: 0.009298962540924549 gen: 0.0092393783852458 gate: 5.958396286587231e-05\n",
      "[4/30] [5600/11532] loss: 0.06196427717804909 gen: 0.05736489221453667 gate: 0.004599384032189846\n",
      "[4/30] [5700/11532] loss: 0.0858531966805458 gen: 0.043945349752902985 gate: 0.04190784692764282\n",
      "[4/30] [5800/11532] loss: 0.07266249507665634 gen: 0.04171027988195419 gate: 0.030952213332057\n",
      "[4/30] [5900/11532] loss: 0.01652776263654232 gen: 0.01632237620651722 gate: 0.00020538618264254183\n",
      "[4/30] [6000/11532] loss: 0.02126818522810936 gen: 0.021186092868447304 gate: 8.20923742139712e-05\n",
      "[4/30] [6100/11532] loss: 0.06150828301906586 gen: 0.0468190498650074 gate: 0.014689235016703606\n",
      "[4/30] [6200/11532] loss: 0.03135259822010994 gen: 0.031237078830599785 gate: 0.00011551885108929127\n",
      "[4/30] [6300/11532] loss: 0.017058800905942917 gen: 0.016911039128899574 gate: 0.0001477618789067492\n",
      "[4/30] [6400/11532] loss: 0.014090810902416706 gen: 0.01372008491307497 gate: 0.00037072610575705767\n",
      "[4/30] [6500/11532] loss: 0.03108168952167034 gen: 0.030969364568591118 gate: 0.00011232409451622516\n",
      "[4/30] [6600/11532] loss: 0.11396779119968414 gen: 0.0901770144701004 gate: 0.023790773004293442\n",
      "[4/30] [6700/11532] loss: 0.025022873654961586 gen: 0.02496960759162903 gate: 5.326552491169423e-05\n",
      "[4/30] [6800/11532] loss: 0.019045405089855194 gen: 0.018911413848400116 gate: 0.00013399208546616137\n",
      "[4/30] [6900/11532] loss: 0.027395766228437424 gen: 0.02723494917154312 gate: 0.00016081628564279526\n",
      "[4/30] [7000/11532] loss: 0.02815631590783596 gen: 0.028065169230103493 gate: 9.114714339375496e-05\n",
      "[4/30] [7100/11532] loss: 0.13049505650997162 gen: 0.06289064139127731 gate: 0.0676044151186943\n",
      "[4/30] [7200/11532] loss: 0.01637706719338894 gen: 0.016314754262566566 gate: 6.231329462025315e-05\n",
      "[4/30] [7300/11532] loss: 0.020243890583515167 gen: 0.01980120874941349 gate: 0.00044268101919442415\n",
      "[4/30] [7400/11532] loss: 0.017526235431432724 gen: 0.017432136461138725 gate: 9.409903577761725e-05\n",
      "[4/30] [7500/11532] loss: 0.05641309916973114 gen: 0.019176678732037544 gate: 0.03723641857504845\n",
      "[4/30] [7600/11532] loss: 0.0012727866414934397 gen: 0.0012137277517467737 gate: 5.9058849728899077e-05\n",
      "[4/30] [7700/11532] loss: 0.06419773399829865 gen: 0.06390327960252762 gate: 0.0002944576262962073\n",
      "[4/30] [7800/11532] loss: 0.08777979016304016 gen: 0.04049554839730263 gate: 0.047284241765737534\n",
      "[4/30] [7900/11532] loss: 0.03267122060060501 gen: 0.03256655111908913 gate: 0.00010467036190675572\n",
      "[4/30] [8000/11532] loss: 0.007481453940272331 gen: 0.00745962280780077 gate: 2.1831052436027676e-05\n",
      "[4/30] [8100/11532] loss: 0.0054993885569274426 gen: 0.0054314350709319115 gate: 6.79533914080821e-05\n",
      "[4/30] [8200/11532] loss: 0.0021444305311888456 gen: 0.0020995072554796934 gate: 4.49232138635125e-05\n",
      "[4/30] [8300/11532] loss: 0.07200630009174347 gen: 0.04789353534579277 gate: 0.024112768471240997\n",
      "[4/30] [8400/11532] loss: 0.00813454668968916 gen: 0.008017241023480892 gate: 0.00011730552068911493\n",
      "[4/30] [8500/11532] loss: 0.042261406779289246 gen: 0.013741327449679375 gate: 0.02852007746696472\n",
      "[4/30] [8600/11532] loss: 0.10332334041595459 gen: 0.045234132558107376 gate: 0.058089204132556915\n",
      "[4/30] [8700/11532] loss: 0.03146050497889519 gen: 0.03140237554907799 gate: 5.813000461785123e-05\n",
      "[4/30] [8800/11532] loss: 0.03503405302762985 gen: 0.021939754486083984 gate: 0.013094297610223293\n",
      "[4/30] [8900/11532] loss: 0.015933500602841377 gen: 0.01585085503757 gate: 8.264627831522375e-05\n",
      "[4/30] [9000/11532] loss: 0.007908126339316368 gen: 0.00784005131572485 gate: 6.807506724726409e-05\n",
      "[4/30] [9100/11532] loss: 0.003540138714015484 gen: 0.0029086130671203136 gate: 0.000631525763310492\n",
      "[4/30] [9200/11532] loss: 0.012316981330513954 gen: 0.012190594337880611 gate: 0.00012638710904866457\n",
      "[4/30] [9300/11532] loss: 0.0046269395388662815 gen: 0.004542300943285227 gate: 8.463840640615672e-05\n",
      "[4/30] [9400/11532] loss: 0.15795807540416718 gen: 0.09854225069284439 gate: 0.05941582843661308\n",
      "[4/30] [9500/11532] loss: 0.040578994899988174 gen: 0.0402059368789196 gate: 0.0003730578173417598\n",
      "[4/30] [9600/11532] loss: 0.022490007802844048 gen: 0.022199135273694992 gate: 0.0002908733149524778\n",
      "[4/30] [9700/11532] loss: 0.05467616766691208 gen: 0.03390232101082802 gate: 0.02077384851872921\n",
      "[4/30] [9800/11532] loss: 0.006969435140490532 gen: 0.006781327072530985 gate: 0.00018810795154422522\n",
      "[4/30] [9900/11532] loss: 0.062062304466962814 gen: 0.061088308691978455 gate: 0.0009739945526234806\n",
      "[4/30] [10000/11532] loss: 0.007114549167454243 gen: 0.006997277494519949 gate: 0.00011727145465556532\n",
      "[4/30] [10100/11532] loss: 0.0068459277972579 gen: 0.00679844431579113 gate: 4.748332503368147e-05\n",
      "[4/30] [10200/11532] loss: 0.05994695425033569 gen: 0.059836819767951965 gate: 0.00011013409675797448\n",
      "[4/30] [10300/11532] loss: 0.007682567462325096 gen: 0.007627720013260841 gate: 5.484742359840311e-05\n",
      "[4/30] [10400/11532] loss: 0.09558969736099243 gen: 0.04543803259730339 gate: 0.05015166103839874\n",
      "[4/30] [10500/11532] loss: 0.08968117833137512 gen: 0.062289975583553314 gate: 0.02739120088517666\n",
      "[4/30] [10600/11532] loss: 0.033498018980026245 gen: 0.0287359319627285 gate: 0.004762085620313883\n",
      "[4/30] [10700/11532] loss: 0.0003511988034006208 gen: 0.00029029903816990554 gate: 6.089975795475766e-05\n",
      "[4/30] [10800/11532] loss: 0.020927194505929947 gen: 0.018860312178730965 gate: 0.0020668813958764076\n",
      "[4/30] [10900/11532] loss: 0.023108944296836853 gen: 0.02278444729745388 gate: 0.0003244974068365991\n",
      "[4/30] [11000/11532] loss: 0.025712808594107628 gen: 0.025620073080062866 gate: 9.273597243009135e-05\n",
      "[4/30] [11100/11532] loss: 0.06531787663698196 gen: 0.015048111788928509 gate: 0.05026976764202118\n",
      "[4/30] [11200/11532] loss: 0.005288069602102041 gen: 0.005223135929554701 gate: 6.493370165117085e-05\n",
      "[4/30] [11300/11532] loss: 0.030381979420781136 gen: 0.028135478496551514 gate: 0.0022465011570602655\n",
      "[4/30] [11400/11532] loss: 0.0601038932800293 gen: 0.056370630860328674 gate: 0.003733261488378048\n",
      "[4/30] [11500/11532] loss: 0.01586914248764515 gen: 0.01548551581799984 gate: 0.00038362605846486986\n"
     ]
    },
    {
     "name": "stderr",
     "output_type": "stream",
     "text": [
      "100%|██████████| 640/640 [02:08<00:00,  4.98it/s]\n"
     ]
    },
    {
     "name": "stdout",
     "output_type": "stream",
     "text": [
      "{'joint_goal_accuracy': 0.6324736225087925, 'turn_slot_accuracy': 0.9875602448873364, 'turn_slot_f1': 0.943029939673893}\n",
      "joint_goal_accuracy: 0.6324736225087925\n",
      "turn_slot_accuracy: 0.9875602448873364\n",
      "turn_slot_f1: 0.943029939673893\n",
      "'--Update Best checkpoint!, epoch: 5'\n",
      "--Saving best model checkpoint\n",
      "time for 1 epoch: 2008.9846594333649\n",
      "[5/30] [0/11532] loss: 0.03273043781518936 gen: 0.031737715005874634 gate: 0.0009927229257300496\n",
      "[5/30] [100/11532] loss: 0.038450051099061966 gen: 0.021898755803704262 gate: 0.016551295295357704\n",
      "[5/30] [200/11532] loss: 0.06076347827911377 gen: 0.05023500323295593 gate: 0.010528476908802986\n",
      "[5/30] [300/11532] loss: 0.0210843738168478 gen: 0.020620200783014297 gate: 0.00046417213161475956\n",
      "[5/30] [400/11532] loss: 0.009211939759552479 gen: 0.008962114341557026 gate: 0.0002498255344107747\n",
      "[5/30] [500/11532] loss: 0.07514254748821259 gen: 0.06244382634758949 gate: 0.012698722071945667\n",
      "[5/30] [600/11532] loss: 0.014777335338294506 gen: 0.014735832810401917 gate: 4.150229142396711e-05\n",
      "[5/30] [700/11532] loss: 0.009047924540936947 gen: 0.00888094399124384 gate: 0.0001669803896220401\n",
      "[5/30] [800/11532] loss: 0.03757703676819801 gen: 0.03746815025806427 gate: 0.00010888827091548592\n",
      "[5/30] [900/11532] loss: 0.033613573759794235 gen: 0.033399518579244614 gate: 0.00021405384177342057\n",
      "[5/30] [1000/11532] loss: 0.009899196214973927 gen: 0.009673631750047207 gate: 0.00022556487238034606\n",
      "[5/30] [1100/11532] loss: 0.06863383948802948 gen: 0.041270386427640915 gate: 0.027363453060388565\n",
      "[5/30] [1200/11532] loss: 0.02475656010210514 gen: 0.02465490996837616 gate: 0.00010164978448301554\n",
      "[5/30] [1300/11532] loss: 0.0002445728168822825 gen: 0.00019664231513161212 gate: 4.7930512664606795e-05\n",
      "[5/30] [1400/11532] loss: 0.10130666196346283 gen: 0.07589734345674515 gate: 0.02540932223200798\n",
      "[5/30] [1500/11532] loss: 0.00066941644763574 gen: 0.0006262018578127027 gate: 4.321457527112216e-05\n",
      "[5/30] [1600/11532] loss: 0.010540049523115158 gen: 0.010412527248263359 gate: 0.00012752253678627312\n",
      "[5/30] [1700/11532] loss: 0.011389683000743389 gen: 0.011118839494884014 gate: 0.0002708436222746968\n",
      "[5/30] [1800/11532] loss: 0.011909423395991325 gen: 0.01179253589361906 gate: 0.00011688711674651131\n",
      "[5/30] [1900/11532] loss: 0.028017275035381317 gen: 0.027571510523557663 gate: 0.000445764628238976\n",
      "[5/30] [2000/11532] loss: 0.08940860629081726 gen: 0.0426025465130806 gate: 0.04680606350302696\n",
      "[5/30] [2100/11532] loss: 0.04703226312994957 gen: 0.040817078202962875 gate: 0.006215183530002832\n",
      "[5/30] [2200/11532] loss: 0.03176908567547798 gen: 0.03171088546514511 gate: 5.8200610510539263e-05\n",
      "[5/30] [2300/11532] loss: 0.023373106494545937 gen: 0.023349734023213387 gate: 2.337250225536991e-05\n",
      "[5/30] [2400/11532] loss: 0.005386905744671822 gen: 0.005303503945469856 gate: 8.340192289324477e-05\n",
      "[5/30] [2500/11532] loss: 0.014742350205779076 gen: 0.014651753008365631 gate: 9.059747389983386e-05\n",
      "[5/30] [2600/11532] loss: 0.00848987977951765 gen: 0.008346395567059517 gate: 0.0001434845180483535\n",
      "[5/30] [2700/11532] loss: 0.03586240112781525 gen: 0.03574639931321144 gate: 0.00011600166908465326\n",
      "[5/30] [2800/11532] loss: 0.08543482422828674 gen: 0.04997226595878601 gate: 0.03546255826950073\n",
      "[5/30] [2900/11532] loss: 0.06303608417510986 gen: 0.06047571823000908 gate: 0.002560368273407221\n",
      "[5/30] [3000/11532] loss: 0.04174170270562172 gen: 0.020518004894256592 gate: 0.021223697811365128\n",
      "[5/30] [3100/11532] loss: 0.018315546214580536 gen: 0.01813589595258236 gate: 0.0001796508440747857\n",
      "[5/30] [3200/11532] loss: 0.015314867720007896 gen: 0.015116801485419273 gate: 0.00019806607451755553\n",
      "[5/30] [3300/11532] loss: 0.012250164523720741 gen: 0.011846756562590599 gate: 0.00040340778650715947\n",
      "[5/30] [3400/11532] loss: 0.004780284594744444 gen: 0.004732013680040836 gate: 4.827113662031479e-05\n",
      "[5/30] [3500/11532] loss: 0.050730057060718536 gen: 0.050498995929956436 gate: 0.00023106185835786164\n",
      "[5/30] [3600/11532] loss: 0.08239738643169403 gen: 0.08215049654245377 gate: 0.00024689064593985677\n",
      "[5/30] [3700/11532] loss: 0.07398422062397003 gen: 0.06927142292261124 gate: 0.004712795838713646\n",
      "[5/30] [3800/11532] loss: 0.01840308867394924 gen: 0.01785614900290966 gate: 0.0005469394382089376\n",
      "[5/30] [3900/11532] loss: 0.01612439937889576 gen: 0.015911061316728592 gate: 0.00021333810582291335\n",
      "[5/30] [4000/11532] loss: 0.023658422753214836 gen: 0.02312551997601986 gate: 0.0005329032428562641\n",
      "[5/30] [4100/11532] loss: 0.028694812208414078 gen: 0.028517521917819977 gate: 0.00017728951934259385\n",
      "[5/30] [4200/11532] loss: 0.011285222135484219 gen: 0.009722265414893627 gate: 0.0015629564877599478\n",
      "[5/30] [4300/11532] loss: 8.736630843486637e-05 gen: 5.009305459680036e-05 gate: 3.7273250200087205e-05\n",
      "[5/30] [4400/11532] loss: 0.05706518888473511 gen: 0.056726887822151184 gate: 0.0003382996073924005\n",
      "[5/30] [4500/11532] loss: 0.022980138659477234 gen: 0.022502955049276352 gate: 0.00047718436690047383\n",
      "[5/30] [4600/11532] loss: 0.006336657330393791 gen: 0.006142353173345327 gate: 0.00019430406973697245\n",
      "[5/30] [4700/11532] loss: 0.03640731796622276 gen: 0.03565208241343498 gate: 0.0007552372990176082\n",
      "[5/30] [4800/11532] loss: 0.006387991830706596 gen: 0.0061137136071920395 gate: 0.0002742783399298787\n",
      "[5/30] [4900/11532] loss: 0.015501308254897594 gen: 0.015276662074029446 gate: 0.00022464588982984424\n",
      "[5/30] [5000/11532] loss: 0.03331463783979416 gen: 0.033199064433574677 gate: 0.00011557353718671948\n",
      "[5/30] [5100/11532] loss: 0.012326616793870926 gen: 0.012188734486699104 gate: 0.00013788214710075408\n",
      "[5/30] [5200/11532] loss: 0.01816321164369583 gen: 0.017727011814713478 gate: 0.0004362001200206578\n",
      "[5/30] [5300/11532] loss: 0.04955451190471649 gen: 0.04022572189569473 gate: 0.009328790009021759\n",
      "[5/30] [5400/11532] loss: 0.008622335270047188 gen: 0.007903642021119595 gate: 0.0007186930160969496\n",
      "[5/30] [5500/11532] loss: 0.2178889513015747 gen: 0.10917007178068161 gate: 0.1087188795208931\n",
      "[5/30] [5600/11532] loss: 0.06212683394551277 gen: 0.06199423223733902 gate: 0.0001326022611465305\n",
      "[5/30] [5700/11532] loss: 0.004088230896741152 gen: 0.0039110006764531136 gate: 0.00017723001656122506\n",
      "[5/30] [5800/11532] loss: 0.0292198546230793 gen: 0.015019772574305534 gate: 0.014200082048773766\n",
      "[5/30] [5900/11532] loss: 0.048658788204193115 gen: 0.027767239138484 gate: 0.020891549065709114\n",
      "[5/30] [6000/11532] loss: 0.029503997415304184 gen: 0.02890971675515175 gate: 0.0005942799034528434\n",
      "[5/30] [6100/11532] loss: 0.06557327508926392 gen: 0.06516403704881668 gate: 0.00040924138738773763\n",
      "[5/30] [6200/11532] loss: 0.012488170526921749 gen: 0.012403639033436775 gate: 8.453112241113558e-05\n",
      "[5/30] [6300/11532] loss: 0.03288792073726654 gen: 0.03269628807902336 gate: 0.00019163363322149962\n",
      "[5/30] [6400/11532] loss: 0.015396698378026485 gen: 0.015230709686875343 gate: 0.000165988429216668\n",
      "[5/30] [6500/11532] loss: 0.06276116520166397 gen: 0.04789767414331436 gate: 0.014863491989672184\n",
      "[5/30] [6600/11532] loss: 0.0631180927157402 gen: 0.06287340819835663 gate: 0.00024468707852065563\n",
      "[5/30] [6700/11532] loss: 0.007405759301036596 gen: 0.0071781394071877 gate: 0.00022761973377782851\n",
      "[5/30] [6800/11532] loss: 0.09412066638469696 gen: 0.06292511522769928 gate: 0.031195547431707382\n",
      "[5/30] [6900/11532] loss: 0.07354556769132614 gen: 0.07289447635412216 gate: 0.000651093025226146\n",
      "[5/30] [7000/11532] loss: 0.02713526040315628 gen: 0.02388785034418106 gate: 0.0032474100589752197\n",
      "[5/30] [7100/11532] loss: 0.010047385469079018 gen: 0.008477207273244858 gate: 0.0015701781958341599\n",
      "[5/30] [7200/11532] loss: 0.02815920300781727 gen: 0.024972135201096535 gate: 0.0031870680395513773\n",
      "[5/30] [7300/11532] loss: 0.015090479515492916 gen: 0.014820092357695103 gate: 0.00027038718690164387\n",
      "[5/30] [7400/11532] loss: 0.02316790260374546 gen: 0.022878268733620644 gate: 0.0002896339283324778\n",
      "[5/30] [7500/11532] loss: 0.024768048897385597 gen: 0.023922817781567574 gate: 0.0008452314650639892\n",
      "[5/30] [7600/11532] loss: 0.07253406196832657 gen: 0.06393878906965256 gate: 0.008595272898674011\n",
      "[5/30] [7700/11532] loss: 0.01796889677643776 gen: 0.017806632444262505 gate: 0.00016226523439399898\n",
      "[5/30] [7800/11532] loss: 0.010099770501255989 gen: 0.00955135840922594 gate: 0.0005484116263687611\n",
      "[5/30] [7900/11532] loss: 0.016549697145819664 gen: 0.016176044940948486 gate: 0.0003736525832209736\n",
      "[5/30] [8000/11532] loss: 0.013663683086633682 gen: 0.013415353372693062 gate: 0.0002483293937984854\n",
      "[5/30] [8100/11532] loss: 0.007437857799232006 gen: 0.00685611879453063 gate: 0.0005817392375320196\n",
      "[5/30] [8200/11532] loss: 0.0050300899893045425 gen: 0.004627632908523083 gate: 0.00040245710988529027\n",
      "[5/30] [8300/11532] loss: 0.036941301077604294 gen: 0.036441486328840256 gate: 0.0004998159129172564\n",
      "[5/30] [8400/11532] loss: 0.012761503458023071 gen: 0.009265679866075516 gate: 0.0034958231262862682\n",
      "[5/30] [8500/11532] loss: 0.015448121353983879 gen: 0.014947332441806793 gate: 0.0005007889121770859\n",
      "[5/30] [8600/11532] loss: 0.0829484611749649 gen: 0.051462799310684204 gate: 0.031485665589571\n",
      "[5/30] [8700/11532] loss: 0.07100546360015869 gen: 0.039239902049303055 gate: 0.03176556155085564\n",
      "[5/30] [8800/11532] loss: 0.030802875757217407 gen: 0.03043031133711338 gate: 0.00037256479845382273\n",
      "[5/30] [8900/11532] loss: 0.047117553651332855 gen: 0.04398800805211067 gate: 0.0031295439694076777\n",
      "[5/30] [9000/11532] loss: 0.0668623149394989 gen: 0.03897576779127121 gate: 0.02788654714822769\n",
      "[5/30] [9100/11532] loss: 0.14146046340465546 gen: 0.06367994844913483 gate: 0.07778051495552063\n",
      "[5/30] [9200/11532] loss: 0.13722054660320282 gen: 0.09314151853322983 gate: 0.044079024344682693\n",
      "[5/30] [9300/11532] loss: 0.08024194836616516 gen: 0.0776403471827507 gate: 0.002601600717753172\n",
      "[5/30] [9400/11532] loss: 0.007522341795265675 gen: 0.006896288599818945 gate: 0.0006260533700697124\n",
      "[5/30] [9500/11532] loss: 0.39745035767555237 gen: 0.18850374221801758 gate: 0.2089466154575348\n",
      "[5/30] [9600/11532] loss: 0.021211843937635422 gen: 0.020871654152870178 gate: 0.00034019004669971764\n",
      "[5/30] [9700/11532] loss: 0.1547859013080597 gen: 0.09404255449771881 gate: 0.06074334308505058\n",
      "[5/30] [9800/11532] loss: 0.016183272004127502 gen: 0.0150550976395607 gate: 0.0011281751794740558\n",
      "[5/30] [9900/11532] loss: 0.03095545805990696 gen: 0.0145698431879282 gate: 0.01638561487197876\n",
      "[5/30] [10000/11532] loss: 0.031220218166708946 gen: 0.029729636386036873 gate: 0.0014905811985954642\n",
      "[5/30] [10100/11532] loss: 0.058739073574543 gen: 0.021420104429125786 gate: 0.037318967282772064\n",
      "[5/30] [10200/11532] loss: 0.01985134184360504 gen: 0.0193429384380579 gate: 0.0005084029398858547\n",
      "[5/30] [10300/11532] loss: 0.019830748438835144 gen: 0.01835409365594387 gate: 0.0014766550157219172\n",
      "[5/30] [10400/11532] loss: 0.023748314008116722 gen: 0.023112419992685318 gate: 0.0006358936661854386\n",
      "[5/30] [10500/11532] loss: 0.08547224849462509 gen: 0.04599030688405037 gate: 0.03948194161057472\n",
      "[5/30] [10600/11532] loss: 0.02423138916492462 gen: 0.023683488368988037 gate: 0.0005479005631059408\n",
      "[5/30] [10700/11532] loss: 0.016548117622733116 gen: 0.01590399630367756 gate: 0.0006441219593398273\n",
      "[5/30] [10800/11532] loss: 0.0205964557826519 gen: 0.01829722337424755 gate: 0.0022992321755737066\n",
      "[5/30] [10900/11532] loss: 0.1703418493270874 gen: 0.14615903794765472 gate: 0.02418280765414238\n",
      "[5/30] [11000/11532] loss: 0.005932772997766733 gen: 0.005780643317848444 gate: 0.00015212954895105213\n",
      "[5/30] [11100/11532] loss: 0.03800935670733452 gen: 0.037523943930864334 gate: 0.00048541356227360666\n",
      "[5/30] [11200/11532] loss: 0.035355307161808014 gen: 0.03499946370720863 gate: 0.00035584470606409013\n",
      "[5/30] [11300/11532] loss: 0.06451671570539474 gen: 0.023706968873739243 gate: 0.0408097468316555\n",
      "[5/30] [11400/11532] loss: 0.017559047788381577 gen: 0.017451629042625427 gate: 0.0001074193132808432\n",
      "[5/30] [11500/11532] loss: 0.1371999979019165 gen: 0.06726229935884476 gate: 0.06993769854307175\n"
     ]
    },
    {
     "name": "stderr",
     "output_type": "stream",
     "text": [
      "100%|██████████| 640/640 [01:57<00:00,  5.47it/s]\n"
     ]
    },
    {
     "name": "stdout",
     "output_type": "stream",
     "text": [
      "{'joint_goal_accuracy': 0.6483001172332943, 'turn_slot_accuracy': 0.9883808779471245, 'turn_slot_f1': 0.9470401107793761}\n",
      "joint_goal_accuracy: 0.6483001172332943\n",
      "turn_slot_accuracy: 0.9883808779471245\n",
      "turn_slot_f1: 0.9470401107793761\n",
      "'--Update Best checkpoint!, epoch: 6'\n",
      "--Saving best model checkpoint\n",
      "time for 1 epoch: 1977.2742235660553\n",
      "[6/30] [0/11532] loss: 0.02199436165392399 gen: 0.021661851555109024 gate: 0.0003325092839077115\n",
      "[6/30] [100/11532] loss: 0.005162607878446579 gen: 0.00494813546538353 gate: 0.0002144725585822016\n",
      "[6/30] [200/11532] loss: 0.005406362470239401 gen: 0.0051657031290233135 gate: 0.00024065923935268074\n",
      "[6/30] [300/11532] loss: 0.0504966638982296 gen: 0.018211327493190765 gate: 0.032285336405038834\n",
      "[6/30] [400/11532] loss: 0.02641472965478897 gen: 0.021930547431111336 gate: 0.004484181758016348\n",
      "[6/30] [500/11532] loss: 0.047193560749292374 gen: 0.037473272532224655 gate: 0.009720289148390293\n",
      "[6/30] [600/11532] loss: 0.01963650994002819 gen: 0.019314272329211235 gate: 0.0003222379891667515\n",
      "[6/30] [700/11532] loss: 0.011272912845015526 gen: 0.011111976578831673 gate: 0.00016093652811832726\n",
      "[6/30] [800/11532] loss: 0.00031698262318968773 gen: 0.00018917160923592746 gate: 0.00012781099940184504\n",
      "[6/30] [900/11532] loss: 0.0075370920822024345 gen: 0.005980121903121471 gate: 0.0015569701790809631\n",
      "[6/30] [1000/11532] loss: 0.013677751645445824 gen: 0.013560941442847252 gate: 0.00011681019532261416\n",
      "[6/30] [1100/11532] loss: 0.004641680512577295 gen: 0.004529742058366537 gate: 0.00011193835234735161\n",
      "[6/30] [1200/11532] loss: 0.20236141979694366 gen: 0.16382351517677307 gate: 0.03853790462017059\n",
      "[6/30] [1300/11532] loss: 0.02886394038796425 gen: 0.02874247543513775 gate: 0.00012146588414907455\n",
      "[6/30] [1400/11532] loss: 0.016879109665751457 gen: 0.016548607498407364 gate: 0.000330503040459007\n",
      "[6/30] [1500/11532] loss: 0.006922825239598751 gen: 0.006233877502381802 gate: 0.0006889476790092885\n",
      "[6/30] [1600/11532] loss: 0.0027707787230610847 gen: 0.00025016680592671037 gate: 0.0025206119753420353\n",
      "[6/30] [1700/11532] loss: 0.03699279576539993 gen: 0.03321392461657524 gate: 0.0037788692861795425\n",
      "[6/30] [1800/11532] loss: 0.000556791084818542 gen: 0.0004502871888689697 gate: 0.00010650391777744517\n",
      "[6/30] [1900/11532] loss: 0.07480687648057938 gen: 0.039490699768066406 gate: 0.03531617671251297\n",
      "[6/30] [2000/11532] loss: 0.02520625852048397 gen: 0.025087257847189903 gate: 0.00011900038225576282\n",
      "[6/30] [2100/11532] loss: 0.05201585218310356 gen: 0.04449055716395378 gate: 0.00752529501914978\n",
      "[6/30] [2200/11532] loss: 0.03543023392558098 gen: 0.00961801502853632 gate: 0.025812217965722084\n",
      "[6/30] [2300/11532] loss: 0.05192403495311737 gen: 0.03772067651152611 gate: 0.014203359372913837\n",
      "[6/30] [2400/11532] loss: 0.0324343740940094 gen: 0.032115865498781204 gate: 0.0003185083041898906\n",
      "[6/30] [2500/11532] loss: 0.014010273851454258 gen: 0.013721166178584099 gate: 0.00028910808032378554\n",
      "[6/30] [2600/11532] loss: 0.011846568435430527 gen: 0.011795724742114544 gate: 5.084386430098675e-05\n",
      "[6/30] [2700/11532] loss: 0.0030577697325497866 gen: 0.0029332409612834454 gate: 0.00012452874216251075\n",
      "[6/30] [2800/11532] loss: 0.03667494282126427 gen: 0.03654620423913002 gate: 0.00012873965897597373\n",
      "[6/30] [2900/11532] loss: 0.017250822857022285 gen: 0.017130250111222267 gate: 0.00012057223648298532\n",
      "[6/30] [3000/11532] loss: 0.008077199570834637 gen: 0.0034998038318008184 gate: 0.004577395506203175\n",
      "[6/30] [3100/11532] loss: 0.02497960813343525 gen: 0.024938547983765602 gate: 4.105929474462755e-05\n",
      "[6/30] [3200/11532] loss: 0.028559794649481773 gen: 0.026599597185850143 gate: 0.0019601976964622736\n",
      "[6/30] [3300/11532] loss: 0.013745306059718132 gen: 0.013623250648379326 gate: 0.00012205504026496783\n",
      "[6/30] [3400/11532] loss: 0.014246083796024323 gen: 0.014080837368965149 gate: 0.0001652460196055472\n",
      "[6/30] [3500/11532] loss: 0.003574624890461564 gen: 0.003523343475535512 gate: 5.128151678945869e-05\n",
      "[6/30] [3600/11532] loss: 0.007999967783689499 gen: 0.00795790646225214 gate: 4.206176890875213e-05\n",
      "[6/30] [3700/11532] loss: 0.04086948186159134 gen: 0.04083595424890518 gate: 3.3528503990964964e-05\n",
      "[6/30] [3800/11532] loss: 0.024537183344364166 gen: 0.024496709927916527 gate: 4.047402035212144e-05\n",
      "[6/30] [3900/11532] loss: 0.016549155116081238 gen: 0.016514690592885017 gate: 3.4464563213987276e-05\n",
      "[6/30] [4000/11532] loss: 0.0006699911318719387 gen: 0.0006129055400379002 gate: 5.708559910999611e-05\n",
      "[6/30] [4100/11532] loss: 0.01059674471616745 gen: 0.0102867865934968 gate: 0.000309957773424685\n",
      "[6/30] [4200/11532] loss: 0.011562412604689598 gen: 0.01101662963628769 gate: 0.000545782910194248\n",
      "[6/30] [4300/11532] loss: 0.058042388409376144 gen: 0.0365905724465847 gate: 0.021451815962791443\n",
      "[6/30] [4400/11532] loss: 0.012438597157597542 gen: 0.012379374355077744 gate: 5.9222780691925436e-05\n",
      "[6/30] [4500/11532] loss: 0.0608188733458519 gen: 0.04252021014690399 gate: 0.018298663198947906\n",
      "[6/30] [4600/11532] loss: 0.011628064326941967 gen: 0.011587247252464294 gate: 4.0816765249473974e-05\n",
      "[6/30] [4700/11532] loss: 0.020202646031975746 gen: 0.0200680922716856 gate: 0.0001345543860225007\n",
      "[6/30] [4800/11532] loss: 0.010090800933539867 gen: 0.00994918029755354 gate: 0.00014162040315568447\n",
      "[6/30] [4900/11532] loss: 0.03050973452627659 gen: 0.030337154865264893 gate: 0.0001725789625197649\n",
      "[6/30] [5000/11532] loss: 0.018360445275902748 gen: 0.01797568053007126 gate: 0.00038476416375488043\n",
      "[6/30] [5100/11532] loss: 0.012918696738779545 gen: 0.012886558659374714 gate: 3.213833406334743e-05\n",
      "[6/30] [5200/11532] loss: 0.008881979621946812 gen: 0.008756423369050026 gate: 0.00012555651483125985\n",
      "[6/30] [5300/11532] loss: 0.01615634188055992 gen: 0.016136188060045242 gate: 2.0153671357547864e-05\n",
      "[6/30] [5400/11532] loss: 0.09104157984256744 gen: 0.05494088679552078 gate: 0.03610069304704666\n",
      "[6/30] [5500/11532] loss: 0.024407977238297462 gen: 0.024343905970454216 gate: 6.407099863281474e-05\n",
      "[6/30] [5600/11532] loss: 0.019550492987036705 gen: 0.019368451088666916 gate: 0.0001820410689106211\n",
      "[6/30] [5700/11532] loss: 0.012682453729212284 gen: 0.012645754031836987 gate: 3.669950820039958e-05\n",
      "[6/30] [5800/11532] loss: 0.0034507988020777702 gen: 0.0034336717799305916 gate: 1.7127118553617038e-05\n",
      "[6/30] [5900/11532] loss: 0.0002582574961706996 gen: 0.0001970745506696403 gate: 6.118296005297452e-05\n",
      "[6/30] [6000/11532] loss: 0.021662890911102295 gen: 0.0215451717376709 gate: 0.00011771934077842161\n",
      "[6/30] [6100/11532] loss: 0.05298904329538345 gen: 0.030666975304484367 gate: 0.022322069853544235\n",
      "[6/30] [6200/11532] loss: 0.003139507956802845 gen: 0.003114874241873622 gate: 2.4633713110233657e-05\n",
      "[6/30] [6300/11532] loss: 0.015589774586260319 gen: 0.01550894696265459 gate: 8.08280092314817e-05\n",
      "[6/30] [6400/11532] loss: 0.02258874475955963 gen: 0.02256283164024353 gate: 2.5912839191732928e-05\n",
      "[6/30] [6500/11532] loss: 0.02577705681324005 gen: 0.025747619569301605 gate: 2.9436314434860833e-05\n",
      "[6/30] [6600/11532] loss: 0.009769372642040253 gen: 0.009720872156322002 gate: 4.8500471166335046e-05\n",
      "[6/30] [6700/11532] loss: 0.019633961841464043 gen: 0.018991367891430855 gate: 0.0006425947067327797\n",
      "[6/30] [6800/11532] loss: 0.013038760051131248 gen: 0.012973514385521412 gate: 6.524553464259952e-05\n",
      "[6/30] [6900/11532] loss: 0.01221882551908493 gen: 0.012191570363938808 gate: 2.7255584427621216e-05\n",
      "[6/30] [7000/11532] loss: 0.009830484166741371 gen: 0.009528233669698238 gate: 0.0003022506134584546\n",
      "[6/30] [7100/11532] loss: 0.0029848814010620117 gen: 0.0029626283794641495 gate: 2.2252948838286102e-05\n",
      "[6/30] [7200/11532] loss: 0.03352346271276474 gen: 0.031215133145451546 gate: 0.002308330498635769\n",
      "[6/30] [7300/11532] loss: 0.0191621333360672 gen: 0.019092144444584846 gate: 6.998972094152123e-05\n",
      "[6/30] [7400/11532] loss: 0.027655785903334618 gen: 0.027256881818175316 gate: 0.0003989048709627241\n",
      "[6/30] [7500/11532] loss: 0.003634619526565075 gen: 0.0015167266828939319 gate: 0.002117892960086465\n",
      "[6/30] [7600/11532] loss: 0.10810349881649017 gen: 0.0652751550078392 gate: 0.04282834380865097\n",
      "[6/30] [7700/11532] loss: 0.0043758065439760685 gen: 0.004204255994409323 gate: 0.00017155044770333916\n",
      "[6/30] [7800/11532] loss: 0.13161464035511017 gen: 0.04720650613307953 gate: 0.08440813422203064\n",
      "[6/30] [7900/11532] loss: 0.01373211294412613 gen: 0.012183152139186859 gate: 0.0015489609213545918\n",
      "[6/30] [8000/11532] loss: 0.02722427435219288 gen: 0.02708173356950283 gate: 0.0001425408700015396\n",
      "[6/30] [8100/11532] loss: 0.003147370647639036 gen: 0.003113573882728815 gate: 3.3796834031818435e-05\n",
      "[6/30] [8200/11532] loss: 0.0003669785219244659 gen: 0.0002454457280691713 gate: 0.00012153278657933697\n",
      "[6/30] [8300/11532] loss: 0.05771184340119362 gen: 0.05763090029358864 gate: 8.094326767604798e-05\n",
      "[6/30] [8400/11532] loss: 0.011334643699228764 gen: 0.011282963678240776 gate: 5.167976632947102e-05\n",
      "[6/30] [8500/11532] loss: 0.11073321104049683 gen: 0.05791885778307915 gate: 0.05281434953212738\n",
      "[6/30] [8600/11532] loss: 0.017999636009335518 gen: 0.0179539006203413 gate: 4.5734919694950804e-05\n",
      "[6/30] [8700/11532] loss: 0.02716243825852871 gen: 0.02699628844857216 gate: 0.00016614975174888968\n",
      "[6/30] [8800/11532] loss: 0.0013558095088228583 gen: 0.0013341421727091074 gate: 2.1667347027687356e-05\n",
      "[6/30] [8900/11532] loss: 0.01021414902061224 gen: 0.009953162632882595 gate: 0.0002609868242871016\n",
      "[6/30] [9000/11532] loss: 0.010012139566242695 gen: 0.009976452216506004 gate: 3.568721149349585e-05\n",
      "[6/30] [9100/11532] loss: 0.037800565361976624 gen: 0.024151727557182312 gate: 0.013648836873471737\n",
      "[6/30] [9200/11532] loss: 0.031394291669130325 gen: 0.031311504542827606 gate: 8.27878902782686e-05\n",
      "[6/30] [9300/11532] loss: 0.0008099661208689213 gen: 0.0006477192509919405 gate: 0.00016224684077315032\n",
      "[6/30] [9400/11532] loss: 0.011237851344048977 gen: 0.011125574819743633 gate: 0.00011227672803215683\n",
      "[6/30] [9500/11532] loss: 0.03853394091129303 gen: 0.031920984387397766 gate: 0.0066129546612501144\n",
      "[6/30] [9600/11532] loss: 0.020783500745892525 gen: 0.020515918731689453 gate: 0.0002675816649571061\n",
      "[6/30] [9700/11532] loss: 0.0009400449926033616 gen: 0.000899100792594254 gate: 4.094418909517117e-05\n",
      "[6/30] [9800/11532] loss: 0.016606049612164497 gen: 0.016532255336642265 gate: 7.379336602753028e-05\n",
      "[6/30] [9900/11532] loss: 0.0507400780916214 gen: 0.03306787461042404 gate: 0.017672201618552208\n",
      "[6/30] [10000/11532] loss: 0.0001811632828321308 gen: 0.0001457642501918599 gate: 3.53990399162285e-05\n",
      "[6/30] [10100/11532] loss: 0.010184315964579582 gen: 0.010136207565665245 gate: 4.810876271221787e-05\n",
      "[6/30] [10200/11532] loss: 0.010282021947205067 gen: 0.010265354067087173 gate: 1.666801472310908e-05\n",
      "[6/30] [10300/11532] loss: 0.04213849455118179 gen: 0.04141470044851303 gate: 0.0007237957324832678\n",
      "[6/30] [10400/11532] loss: 0.04688512161374092 gen: 0.03403564170002937 gate: 0.012849480845034122\n",
      "[6/30] [10500/11532] loss: 0.027172869071364403 gen: 0.026939237490296364 gate: 0.0002336308971280232\n",
      "[6/30] [10600/11532] loss: 0.010049928911030293 gen: 0.010007769800722599 gate: 4.215905937599018e-05\n",
      "[6/30] [10700/11532] loss: 0.003583482699468732 gen: 0.0034886449575424194 gate: 9.483778558205813e-05\n",
      "[6/30] [10800/11532] loss: 0.01968395709991455 gen: 0.01964609883725643 gate: 3.785749868256971e-05\n",
      "[6/30] [10900/11532] loss: 0.017432967200875282 gen: 0.013654734008014202 gate: 0.003778233891353011\n",
      "[6/30] [11000/11532] loss: 0.024442167952656746 gen: 0.024388829246163368 gate: 5.3339343139668927e-05\n",
      "[6/30] [11100/11532] loss: 0.04369291663169861 gen: 0.0436009056866169 gate: 9.201065404340625e-05\n",
      "[6/30] [11200/11532] loss: 0.025939548388123512 gen: 0.02589917927980423 gate: 4.036962491227314e-05\n",
      "[6/30] [11300/11532] loss: 0.005670363083481789 gen: 0.005547133274376392 gate: 0.00012322973634582013\n",
      "[6/30] [11400/11532] loss: 0.07941445708274841 gen: 0.03495781123638153 gate: 0.044456642121076584\n",
      "[6/30] [11500/11532] loss: 0.003156771417707205 gen: 0.0031190612353384495 gate: 3.771025876631029e-05\n"
     ]
    },
    {
     "name": "stderr",
     "output_type": "stream",
     "text": [
      "100%|██████████| 640/640 [02:03<00:00,  5.19it/s]\n"
     ]
    },
    {
     "name": "stdout",
     "output_type": "stream",
     "text": [
      "{'joint_goal_accuracy': 0.6604142243063696, 'turn_slot_accuracy': 0.9889800703399866, 'turn_slot_f1': 0.9497509843280312}\n",
      "joint_goal_accuracy: 0.6604142243063696\n",
      "turn_slot_accuracy: 0.9889800703399866\n",
      "turn_slot_f1: 0.9497509843280312\n",
      "'--Update Best checkpoint!, epoch: 7'\n",
      "--Saving best model checkpoint\n",
      "time for 1 epoch: 2016.9318068027496\n",
      "[7/30] [0/11532] loss: 0.01290210336446762 gen: 0.012819147668778896 gate: 8.295550651382655e-05\n",
      "[7/30] [100/11532] loss: 0.029746131971478462 gen: 0.028667930513620377 gate: 0.0010782015742734075\n",
      "[7/30] [200/11532] loss: 0.001558623742312193 gen: 0.0015254704048857093 gate: 3.315329013275914e-05\n",
      "[7/30] [300/11532] loss: 0.017276136204600334 gen: 0.017193207517266273 gate: 8.292892744066194e-05\n",
      "[7/30] [400/11532] loss: 0.019255371764302254 gen: 0.01919250749051571 gate: 6.286500138230622e-05\n",
      "[7/30] [500/11532] loss: 0.013023057952523232 gen: 0.013000217266380787 gate: 2.284087531734258e-05\n",
      "[7/30] [600/11532] loss: 0.007248000241816044 gen: 0.007152491714805365 gate: 9.550843242323026e-05\n",
      "[7/30] [700/11532] loss: 0.1276792585849762 gen: 0.061971571296453476 gate: 0.06570768356323242\n",
      "[7/30] [800/11532] loss: 0.0007725551840849221 gen: 0.0007212502532638609 gate: 5.1304941734997556e-05\n",
      "[7/30] [900/11532] loss: 0.009237563237547874 gen: 0.009206407703459263 gate: 3.115566505584866e-05\n",
      "[7/30] [1000/11532] loss: 0.08131532371044159 gen: 0.025670472532510757 gate: 0.05564485490322113\n",
      "[7/30] [1100/11532] loss: 0.009277073666453362 gen: 0.008884591050446033 gate: 0.0003924821794498712\n",
      "[7/30] [1200/11532] loss: 0.0008770454442128539 gen: 0.0008228235528804362 gate: 5.422189860837534e-05\n",
      "[7/30] [1300/11532] loss: 0.004128820262849331 gen: 0.0033770091831684113 gate: 0.0007518110214732587\n",
      "[7/30] [1400/11532] loss: 0.019069988280534744 gen: 0.019019190222024918 gate: 5.079810944152996e-05\n",
      "[7/30] [1500/11532] loss: 0.05935444310307503 gen: 0.02064792439341545 gate: 0.038706518709659576\n",
      "[7/30] [1600/11532] loss: 0.01079963892698288 gen: 0.010684790089726448 gate: 0.00011484911374282092\n",
      "[7/30] [1700/11532] loss: 0.03254636749625206 gen: 0.03238123282790184 gate: 0.00016513597802259028\n",
      "[7/30] [1800/11532] loss: 0.012691287323832512 gen: 0.012227929197251797 gate: 0.00046335835941135883\n",
      "[7/30] [1900/11532] loss: 0.00872486736625433 gen: 0.008510679937899113 gate: 0.0002141873410437256\n",
      "[7/30] [2000/11532] loss: 0.04185637831687927 gen: 0.04001373052597046 gate: 0.001842646161094308\n",
      "[7/30] [2100/11532] loss: 0.004518408793956041 gen: 0.0043896217830479145 gate: 0.00012878698180429637\n",
      "[7/30] [2200/11532] loss: 0.06898585706949234 gen: 0.03816591948270798 gate: 0.030819935724139214\n",
      "[7/30] [2300/11532] loss: 0.020708048716187477 gen: 0.020430773496627808 gate: 0.0002772746083792299\n",
      "[7/30] [2400/11532] loss: 0.00022416342108044773 gen: 0.0001461823412682861 gate: 7.798107981216162e-05\n",
      "[7/30] [2500/11532] loss: 0.06489397585391998 gen: 0.03530503436923027 gate: 0.029588943347334862\n",
      "[7/30] [2600/11532] loss: 0.0026868802960962057 gen: 0.002151886932551861 gate: 0.0005349934217520058\n",
      "[7/30] [2700/11532] loss: 0.03940625488758087 gen: 0.039170920848846436 gate: 0.00023533265630248934\n",
      "[7/30] [2800/11532] loss: 0.049213144928216934 gen: 0.04882683977484703 gate: 0.0003863061429001391\n",
      "[7/30] [2900/11532] loss: 0.012236976996064186 gen: 0.012168748304247856 gate: 6.82289683027193e-05\n",
      "[7/30] [3000/11532] loss: 0.010172493755817413 gen: 0.009948431514203548 gate: 0.0002240622998215258\n",
      "[7/30] [3100/11532] loss: 0.2075936496257782 gen: 0.18243275582790375 gate: 0.025160888209939003\n",
      "[7/30] [3200/11532] loss: 0.021262256428599358 gen: 0.017687639221549034 gate: 0.00357461697421968\n",
      "[7/30] [3300/11532] loss: 0.07137072086334229 gen: 0.06355570256710052 gate: 0.007815016433596611\n",
      "[7/30] [3400/11532] loss: 0.02827676571905613 gen: 0.02823764830827713 gate: 3.911654494004324e-05\n",
      "[7/30] [3500/11532] loss: 0.023449935019016266 gen: 0.02328515239059925 gate: 0.00016478275938425213\n",
      "[7/30] [3600/11532] loss: 0.01654672808945179 gen: 0.016476918011903763 gate: 6.980976468184963e-05\n",
      "[7/30] [3700/11532] loss: 0.009150693193078041 gen: 0.009066653437912464 gate: 8.403950778301805e-05\n",
      "[7/30] [3800/11532] loss: 0.0002326538524357602 gen: 0.00017699126328807324 gate: 5.566258550970815e-05\n",
      "[7/30] [3900/11532] loss: 0.022274570539593697 gen: 0.02219025045633316 gate: 8.431961032329127e-05\n",
      "[7/30] [4000/11532] loss: 0.09824937582015991 gen: 0.0654243677854538 gate: 0.032825008034706116\n",
      "[7/30] [4100/11532] loss: 0.028089290484786034 gen: 0.027364784851670265 gate: 0.000724505225662142\n",
      "[7/30] [4200/11532] loss: 0.08120281249284744 gen: 0.025469982996582985 gate: 0.05573283135890961\n",
      "[7/30] [4300/11532] loss: 0.029891710728406906 gen: 0.029351091012358665 gate: 0.0005406202981248498\n",
      "[7/30] [4400/11532] loss: 0.008187802508473396 gen: 0.008130454458296299 gate: 5.7348221162101254e-05\n",
      "[7/30] [4500/11532] loss: 0.021353859454393387 gen: 0.0210017878562212 gate: 0.00035207229666411877\n",
      "[7/30] [4600/11532] loss: 0.0076726628467440605 gen: 0.0075838943012058735 gate: 8.876844367478043e-05\n",
      "[7/30] [4700/11532] loss: 0.07054465264081955 gen: 0.027992742136120796 gate: 0.042551908642053604\n",
      "[7/30] [4800/11532] loss: 0.01734519563615322 gen: 0.01731238327920437 gate: 3.2813088182592764e-05\n",
      "[7/30] [4900/11532] loss: 0.029708892107009888 gen: 0.029595229774713516 gate: 0.00011366186663508415\n",
      "[7/30] [5000/11532] loss: 0.004724342375993729 gen: 0.0045653823763132095 gate: 0.0001589602034073323\n",
      "[7/30] [5100/11532] loss: 0.04985614866018295 gen: 0.03955177590250969 gate: 0.010304372757673264\n",
      "[7/30] [5200/11532] loss: 0.00012080932356184348 gen: 9.899123688228428e-05 gate: 2.1818088498548605e-05\n",
      "[7/30] [5300/11532] loss: 0.001631908118724823 gen: 0.0016137631610035896 gate: 1.8144983187085018e-05\n",
      "[7/30] [5400/11532] loss: 0.11461237072944641 gen: 0.04756147414445877 gate: 0.06705089658498764\n",
      "[7/30] [5500/11532] loss: 0.003823226550593972 gen: 0.003806364256888628 gate: 1.686230461928062e-05\n",
      "[7/30] [5600/11532] loss: 0.13331034779548645 gen: 0.07888346910476685 gate: 0.05442687124013901\n",
      "[7/30] [5700/11532] loss: 0.013351228088140488 gen: 0.005894801579415798 gate: 0.007456426043063402\n",
      "[7/30] [5800/11532] loss: 0.02129889652132988 gen: 0.021260913461446762 gate: 3.798382749664597e-05\n",
      "[7/30] [5900/11532] loss: 0.0033964980393648148 gen: 0.0032958376687020063 gate: 0.0001006603633868508\n",
      "[7/30] [6000/11532] loss: 0.02121826820075512 gen: 0.018452133983373642 gate: 0.002766134450212121\n",
      "[7/30] [6100/11532] loss: 0.001028344384394586 gen: 0.0010147106368094683 gate: 1.363377486995887e-05\n",
      "[7/30] [6200/11532] loss: 0.022152001038193703 gen: 0.021156053990125656 gate: 0.0009959478629752994\n",
      "[7/30] [6300/11532] loss: 0.001766360830515623 gen: 0.0017566841561347246 gate: 9.676725312601775e-06\n",
      "[7/30] [6400/11532] loss: 0.004063813481479883 gen: 0.003933776170015335 gate: 0.00013003748608753085\n",
      "[7/30] [6500/11532] loss: 0.10055838525295258 gen: 0.06299684196710587 gate: 0.03756154328584671\n",
      "[7/30] [6600/11532] loss: 0.054571013897657394 gen: 0.05416714772582054 gate: 0.00040386448381468654\n",
      "[7/30] [6700/11532] loss: 0.014312444254755974 gen: 0.014264610596001148 gate: 4.78336114611011e-05\n",
      "[7/30] [6800/11532] loss: 0.04389816150069237 gen: 0.042005524039268494 gate: 0.001892636064440012\n",
      "[7/30] [6900/11532] loss: 0.08711323887109756 gen: 0.06249557435512543 gate: 0.024617664515972137\n",
      "[7/30] [7000/11532] loss: 0.019882898777723312 gen: 0.019792724400758743 gate: 9.017390402732417e-05\n",
      "[7/30] [7100/11532] loss: 0.04611743614077568 gen: 0.045790210366249084 gate: 0.0003272245521657169\n",
      "[7/30] [7200/11532] loss: 0.029888518154621124 gen: 0.029789678752422333 gate: 9.883959137368947e-05\n",
      "[7/30] [7300/11532] loss: 0.0004658667603507638 gen: 0.00019845778297167271 gate: 0.00026740896282717586\n",
      "[7/30] [7400/11532] loss: 0.012119729071855545 gen: 0.011935490183532238 gate: 0.00018423919391352683\n",
      "[7/30] [7500/11532] loss: 0.0036408633459359407 gen: 0.003504412714391947 gate: 0.00013645067519973963\n",
      "[7/30] [7600/11532] loss: 0.009983309544622898 gen: 0.009772148914635181 gate: 0.00021116039715707302\n",
      "[7/30] [7700/11532] loss: 0.009696880355477333 gen: 0.009618260897696018 gate: 7.861914491513744e-05\n",
      "[7/30] [7800/11532] loss: 0.00882643274962902 gen: 0.008749039843678474 gate: 7.739269494777545e-05\n",
      "[7/30] [7900/11532] loss: 0.0032199677079916 gen: 0.003112429054453969 gate: 0.0001075386389857158\n",
      "[7/30] [8000/11532] loss: 0.0031465557403862476 gen: 0.000788348086643964 gate: 0.0023582077119499445\n",
      "[7/30] [8100/11532] loss: 0.06725963205099106 gen: 0.004834938794374466 gate: 0.06242469325661659\n",
      "[7/30] [8200/11532] loss: 0.005091274157166481 gen: 0.005030886270105839 gate: 6.0388047131709754e-05\n",
      "[7/30] [8300/11532] loss: 0.010050528682768345 gen: 0.00991115439683199 gate: 0.0001393739803461358\n",
      "[7/30] [8400/11532] loss: 0.0150178587064147 gen: 0.014570888131856918 gate: 0.0004469704581424594\n",
      "[7/30] [8500/11532] loss: 0.042769014835357666 gen: 0.04147692769765854 gate: 0.0012920855078846216\n",
      "[7/30] [8600/11532] loss: 0.014937196858227253 gen: 0.014854121953248978 gate: 8.307497773785144e-05\n",
      "[7/30] [8700/11532] loss: 0.0022099909838289022 gen: 0.00213950639590621 gate: 7.048457337077707e-05\n",
      "[7/30] [8800/11532] loss: 0.008362671360373497 gen: 0.008316890336573124 gate: 4.578119478537701e-05\n",
      "[7/30] [8900/11532] loss: 0.043329477310180664 gen: 0.043237630277872086 gate: 9.184885129798204e-05\n",
      "[7/30] [9000/11532] loss: 0.0025782552547752857 gen: 0.0025538699701428413 gate: 2.4385286451433785e-05\n",
      "[7/30] [9100/11532] loss: 0.0011262998450547457 gen: 0.0010546866105869412 gate: 7.161324901971966e-05\n",
      "[7/30] [9200/11532] loss: 0.0006364057771861553 gen: 0.0005938992835581303 gate: 4.250649726600386e-05\n",
      "[7/30] [9300/11532] loss: 0.12984585762023926 gen: 0.06947026401758194 gate: 0.06037559360265732\n",
      "[7/30] [9400/11532] loss: 0.13491909205913544 gen: 0.08686419576406479 gate: 0.04805490002036095\n",
      "[7/30] [9500/11532] loss: 0.0027302266098558903 gen: 0.0026917816139757633 gate: 3.844502862193622e-05\n",
      "[7/30] [9600/11532] loss: 0.02010085992515087 gen: 0.019968824461102486 gate: 0.00013203594426158816\n",
      "[7/30] [9700/11532] loss: 0.07373543083667755 gen: 0.024137677624821663 gate: 0.04959775134921074\n",
      "[7/30] [9800/11532] loss: 0.000207838776987046 gen: 0.00018097115389537066 gate: 2.6867621272685938e-05\n",
      "[7/30] [9900/11532] loss: 0.0033711509313434362 gen: 0.003332022111862898 gate: 3.912871397915296e-05\n",
      "[7/30] [10000/11532] loss: 0.019148575142025948 gen: 0.01873541623353958 gate: 0.00041315844282507896\n",
      "[7/30] [10100/11532] loss: 0.07140988111495972 gen: 0.06785007566213608 gate: 0.003559804055839777\n",
      "[7/30] [10200/11532] loss: 0.0101648373529315 gen: 0.010079351253807545 gate: 8.548631012672558e-05\n",
      "[7/30] [10300/11532] loss: 0.036940790712833405 gen: 0.017805276438593864 gate: 0.01913551613688469\n",
      "[7/30] [10400/11532] loss: 0.004467950668185949 gen: 0.004421801306307316 gate: 4.614946010406129e-05\n",
      "[7/30] [10500/11532] loss: 0.06919348239898682 gen: 0.05653367564082146 gate: 0.012659809552133083\n",
      "[7/30] [10600/11532] loss: 0.02533779665827751 gen: 0.025291044265031815 gate: 4.67523823317606e-05\n",
      "[7/30] [10700/11532] loss: 0.0027530270162969828 gen: 0.002676018513739109 gate: 7.70085389376618e-05\n",
      "[7/30] [10800/11532] loss: 0.0031961367931216955 gen: 0.003146028146147728 gate: 5.010863606003113e-05\n",
      "[7/30] [10900/11532] loss: 0.008220847696065903 gen: 0.008109968155622482 gate: 0.00011087973689427599\n",
      "[7/30] [11000/11532] loss: 0.14117120206356049 gen: 0.12953007221221924 gate: 0.01164113637059927\n",
      "[7/30] [11100/11532] loss: 0.008822849951684475 gen: 0.008554553613066673 gate: 0.00026829628041014075\n",
      "[7/30] [11200/11532] loss: 0.004595899488776922 gen: 0.004582992754876614 gate: 1.2906567462778185e-05\n",
      "[7/30] [11300/11532] loss: 0.0003047289792448282 gen: 0.00029211328364908695 gate: 1.2615690138773061e-05\n",
      "[7/30] [11400/11532] loss: 0.05248255282640457 gen: 0.03726452216506004 gate: 0.015218031592667103\n",
      "[7/30] [11500/11532] loss: 2.7109904294775333e-06 gen: -4.693619757745182e-06 gate: 7.4046101872227155e-06\n"
     ]
    },
    {
     "name": "stderr",
     "output_type": "stream",
     "text": [
      "100%|██████████| 640/640 [02:09<00:00,  4.95it/s]\n"
     ]
    },
    {
     "name": "stdout",
     "output_type": "stream",
     "text": [
      "{'joint_goal_accuracy': 0.7172723720203205, 'turn_slot_accuracy': 0.990647388302732, 'turn_slot_f1': 0.9583635043139233}\n",
      "joint_goal_accuracy: 0.7172723720203205\n",
      "turn_slot_accuracy: 0.990647388302732\n",
      "turn_slot_f1: 0.9583635043139233\n",
      "'--Update Best checkpoint!, epoch: 8'\n",
      "--Saving best model checkpoint\n",
      "time for 1 epoch: 1997.1662514209747\n",
      "[8/30] [0/11532] loss: 0.02223101258277893 gen: 0.01801660656929016 gate: 0.004214406944811344\n",
      "[8/30] [100/11532] loss: 0.000232583362958394 gen: 0.00018156530859414488 gate: 5.101805800222792e-05\n",
      "[8/30] [200/11532] loss: 0.01742294616997242 gen: 0.017396945506334305 gate: 2.600128391350154e-05\n",
      "[8/30] [300/11532] loss: 0.004052742384374142 gen: 0.004015588201582432 gate: 3.715432103490457e-05\n",
      "[8/30] [400/11532] loss: 0.014855742454528809 gen: 0.012403873726725578 gate: 0.002451868262141943\n",
      "[8/30] [500/11532] loss: 0.012446306645870209 gen: 0.012392020784318447 gate: 5.4286127124214545e-05\n",
      "[8/30] [600/11532] loss: 0.009309790097177029 gen: 0.00921668391674757 gate: 9.310607856605202e-05\n",
      "[8/30] [700/11532] loss: 0.016395580023527145 gen: 0.01635145954787731 gate: 4.412134148878977e-05\n",
      "[8/30] [800/11532] loss: 0.03337078541517258 gen: 0.02999250963330269 gate: 0.003378276713192463\n",
      "[8/30] [900/11532] loss: 0.005947025027126074 gen: 0.00593221141025424 gate: 1.4813473171670921e-05\n",
      "[8/30] [1000/11532] loss: 0.002620694926008582 gen: 0.0026076342910528183 gate: 1.3060602213954553e-05\n",
      "[8/30] [1100/11532] loss: 0.005007344298064709 gen: 0.004990753717720509 gate: 1.659062945691403e-05\n",
      "[8/30] [1200/11532] loss: 0.05476728826761246 gen: 0.04791955649852753 gate: 0.006847732700407505\n",
      "[8/30] [1300/11532] loss: 0.002197864931076765 gen: 0.0021150452084839344 gate: 8.281963528133929e-05\n",
      "[8/30] [1400/11532] loss: 0.0184572022408247 gen: 0.01837165094912052 gate: 8.555148087907583e-05\n",
      "[8/30] [1500/11532] loss: 0.04706322029232979 gen: 0.04704297333955765 gate: 2.0247998691047542e-05\n",
      "[8/30] [1600/11532] loss: 0.029936805367469788 gen: 0.029894990846514702 gate: 4.18142371927388e-05\n",
      "[8/30] [1700/11532] loss: 0.012408112175762653 gen: 0.012388530187308788 gate: 1.958199754881207e-05\n",
      "[8/30] [1800/11532] loss: 0.00043966755038127303 gen: 0.0004189890460111201 gate: 2.0678491637227125e-05\n",
      "[8/30] [1900/11532] loss: 0.050932493060827255 gen: 0.019939230754971504 gate: 0.03099326230585575\n",
      "[8/30] [2000/11532] loss: 0.025576099753379822 gen: 0.02283640019595623 gate: 0.0027397002559155226\n",
      "[8/30] [2100/11532] loss: 0.030764499679207802 gen: 0.030748827382922173 gate: 1.5673149391659535e-05\n",
      "[8/30] [2200/11532] loss: 0.014545092359185219 gen: 0.014526592567563057 gate: 1.8499677025829442e-05\n",
      "[8/30] [2300/11532] loss: 0.025446319952607155 gen: 0.02539067156612873 gate: 5.564892853726633e-05\n",
      "[8/30] [2400/11532] loss: 0.06293755769729614 gen: 0.040581200271844864 gate: 0.022356361150741577\n",
      "[8/30] [2500/11532] loss: 0.0052935099229216576 gen: 0.005154045764356852 gate: 0.00013946414401289076\n",
      "[8/30] [2600/11532] loss: 0.009596902877092361 gen: 0.009524984285235405 gate: 7.19185991329141e-05\n",
      "[8/30] [2700/11532] loss: 0.01721402071416378 gen: 0.01714129000902176 gate: 7.273026858456433e-05\n",
      "[8/30] [2800/11532] loss: 0.003061949275434017 gen: 0.0030257883481681347 gate: 3.616101457737386e-05\n",
      "[8/30] [2900/11532] loss: 0.021709125488996506 gen: 0.021324995905160904 gate: 0.0003841302532237023\n",
      "[8/30] [3000/11532] loss: 0.058567073196172714 gen: 0.033097777515649796 gate: 0.02546929568052292\n",
      "[8/30] [3100/11532] loss: 0.0016629525925964117 gen: 0.0016303610755130649 gate: 3.2591502531431615e-05\n",
      "[8/30] [3200/11532] loss: 0.005390441510826349 gen: 0.005359640810638666 gate: 3.08007984131109e-05\n",
      "[8/30] [3300/11532] loss: 0.1149914562702179 gen: 0.06588699668645859 gate: 0.049104463309049606\n",
      "[8/30] [3400/11532] loss: 0.04025685787200928 gen: 0.040201589465141296 gate: 5.526829409063794e-05\n",
      "[8/30] [3500/11532] loss: 0.1343899667263031 gen: 0.0579543299973011 gate: 0.0764356404542923\n",
      "[8/30] [3600/11532] loss: 0.01267529372125864 gen: 0.012596258893609047 gate: 7.903497316874564e-05\n",
      "[8/30] [3700/11532] loss: 0.016223499551415443 gen: 0.015529418364167213 gate: 0.0006940806051716208\n",
      "[8/30] [3800/11532] loss: 0.004695929121226072 gen: 0.0037261254619807005 gate: 0.0009698037756606936\n",
      "[8/30] [3900/11532] loss: 0.029181987047195435 gen: 0.027808671817183495 gate: 0.0013733146479353309\n",
      "[8/30] [4000/11532] loss: 0.002472524531185627 gen: 0.0022164396941661835 gate: 0.00025608495343476534\n",
      "[8/30] [4100/11532] loss: 0.018550673499703407 gen: 0.018460998311638832 gate: 8.96756537258625e-05\n",
      "[8/30] [4200/11532] loss: 0.01509853545576334 gen: 0.008635194972157478 gate: 0.006463340483605862\n",
      "[8/30] [4300/11532] loss: 0.008752904832363129 gen: 0.008468874730169773 gate: 0.000284029811155051\n",
      "[8/30] [4400/11532] loss: 0.0779767632484436 gen: 0.028830351307988167 gate: 0.049146413803100586\n",
      "[8/30] [4500/11532] loss: 0.025020629167556763 gen: 0.02485053800046444 gate: 0.00017009078874252737\n",
      "[8/30] [4600/11532] loss: 0.007897967472672462 gen: 0.00780639098957181 gate: 9.157668682746589e-05\n",
      "[8/30] [4700/11532] loss: 0.010392965748906136 gen: 0.010295531712472439 gate: 9.743440023157746e-05\n",
      "[8/30] [4800/11532] loss: 0.007220741361379623 gen: 0.006839368026703596 gate: 0.0003813735384028405\n",
      "[8/30] [4900/11532] loss: 0.0004177743394393474 gen: 0.00036510161589831114 gate: 5.267271262709983e-05\n",
      "[8/30] [5000/11532] loss: 0.007140675093978643 gen: 0.0069066244177520275 gate: 0.00023405048705171794\n",
      "[8/30] [5100/11532] loss: 0.04190899059176445 gen: 0.04129646718502045 gate: 0.000612524920143187\n",
      "[8/30] [5200/11532] loss: 0.0032004837412387133 gen: 0.0031146809924393892 gate: 8.580263965995982e-05\n",
      "[8/30] [5300/11532] loss: 0.03975342959165573 gen: 0.015644660219550133 gate: 0.02410876750946045\n",
      "[8/30] [5400/11532] loss: 0.08533957600593567 gen: 0.04928280785679817 gate: 0.0360567644238472\n",
      "[8/30] [5500/11532] loss: 0.02760554663836956 gen: 0.006890063639730215 gate: 0.020715482532978058\n",
      "[8/30] [5600/11532] loss: 0.12017805129289627 gen: 0.07910315692424774 gate: 0.04107489436864853\n",
      "[8/30] [5700/11532] loss: 0.011054414324462414 gen: 0.010650278069078922 gate: 0.0004041364591103047\n",
      "[8/30] [5800/11532] loss: 0.008762435056269169 gen: 0.008613482117652893 gate: 0.00014895264757797122\n",
      "[8/30] [5900/11532] loss: 0.004912365693598986 gen: 0.004611832555383444 gate: 0.00030053302180022\n",
      "[8/30] [6000/11532] loss: 0.037313804030418396 gen: 0.02065175399184227 gate: 0.016662051901221275\n",
      "[8/30] [6100/11532] loss: 0.013438919559121132 gen: 0.013358797878026962 gate: 8.012152829905972e-05\n",
      "[8/30] [6200/11532] loss: 0.017424602061510086 gen: 0.01608528569340706 gate: 0.0013393168337643147\n",
      "[8/30] [6300/11532] loss: 0.030641967430710793 gen: 0.029899543151259422 gate: 0.0007424238719977438\n",
      "[8/30] [6400/11532] loss: 0.040879953652620316 gen: 0.016369469463825226 gate: 0.02451048418879509\n",
      "[8/30] [6500/11532] loss: 0.04496191814541817 gen: 0.04484091326594353 gate: 0.00012100379535695538\n",
      "[8/30] [6600/11532] loss: 0.03391178324818611 gen: 0.033267904072999954 gate: 0.0006438809796236455\n",
      "[8/30] [6700/11532] loss: 0.010089389979839325 gen: 0.00958231184631586 gate: 0.0005070778424851596\n",
      "[8/30] [6800/11532] loss: 0.011062794364988804 gen: 0.010906195268034935 gate: 0.00015659934433642775\n",
      "[8/30] [6900/11532] loss: 0.02422095276415348 gen: 0.023789163678884506 gate: 0.000431789958383888\n",
      "[8/30] [7000/11532] loss: 0.015397390350699425 gen: 0.015270788222551346 gate: 0.00012660239008255303\n",
      "[8/30] [7100/11532] loss: 0.02071823552250862 gen: 0.01334530208259821 gate: 0.0073729329742491245\n",
      "[8/30] [7200/11532] loss: 0.02141788974404335 gen: 0.017657291144132614 gate: 0.0037605988327413797\n",
      "[8/30] [7300/11532] loss: 0.04307445138692856 gen: 0.025703011080622673 gate: 0.017371442168951035\n",
      "[8/30] [7400/11532] loss: 0.007481125183403492 gen: 0.0074387467466294765 gate: 4.2378353100502864e-05\n",
      "[8/30] [7500/11532] loss: 0.016821013763546944 gen: 0.01664981059730053 gate: 0.0001712029188638553\n",
      "[8/30] [7600/11532] loss: 0.01106440369039774 gen: 0.010805001482367516 gate: 0.00025940252817235887\n",
      "[8/30] [7700/11532] loss: 0.09549211710691452 gen: 0.07744898647069931 gate: 0.01804313249886036\n",
      "[8/30] [7800/11532] loss: 0.12828458845615387 gen: 0.09459834545850754 gate: 0.03368623927235603\n",
      "[8/30] [7900/11532] loss: 0.025174923241138458 gen: 0.01252208836376667 gate: 0.012652833946049213\n",
      "[8/30] [8000/11532] loss: 0.014928673394024372 gen: 0.013785435818135738 gate: 0.0011432372266426682\n",
      "[8/30] [8100/11532] loss: 0.02863749861717224 gen: 0.02843516133725643 gate: 0.0002023379784077406\n",
      "[8/30] [8200/11532] loss: 0.013910387642681599 gen: 0.013842692598700523 gate: 6.769540050299838e-05\n",
      "[8/30] [8300/11532] loss: 0.029065240174531937 gen: 0.018510770052671432 gate: 0.01055446919053793\n",
      "[8/30] [8400/11532] loss: 0.0028908755630254745 gen: 0.002555570565164089 gate: 0.0003353048814460635\n",
      "[8/30] [8500/11532] loss: 0.007738310843706131 gen: 0.004587406758219004 gate: 0.0031509038526564837\n",
      "[8/30] [8600/11532] loss: 0.010705382563173771 gen: 0.010065344162285328 gate: 0.0006400381680577993\n",
      "[8/30] [8700/11532] loss: 0.013485412113368511 gen: 0.013340853154659271 gate: 0.0001445592934032902\n",
      "[8/30] [8800/11532] loss: 0.02088550105690956 gen: 0.019761983305215836 gate: 0.0011235185666009784\n",
      "[8/30] [8900/11532] loss: 0.0177216287702322 gen: 0.016771020367741585 gate: 0.0009506084606982768\n",
      "[8/30] [9000/11532] loss: 0.005503928288817406 gen: 0.005237975623458624 gate: 0.0002659524907357991\n",
      "[8/30] [9100/11532] loss: 0.027855930849909782 gen: 0.027672037482261658 gate: 0.00018389428441878408\n",
      "[8/30] [9200/11532] loss: 0.059655509889125824 gen: 0.03665731102228165 gate: 0.022998200729489326\n",
      "[8/30] [9300/11532] loss: 0.06682154536247253 gen: 0.034589286893606186 gate: 0.03223225846886635\n",
      "[8/30] [9400/11532] loss: 0.05109648406505585 gen: 0.020442388951778412 gate: 0.030654093250632286\n",
      "[8/30] [9500/11532] loss: 0.014630756340920925 gen: 0.014513013884425163 gate: 0.00011774204176617786\n",
      "[8/30] [9600/11532] loss: 0.005164606496691704 gen: 0.004663533065468073 gate: 0.00050107337301597\n",
      "[8/30] [9700/11532] loss: 0.006653330288827419 gen: 0.006146053317934275 gate: 0.0005072772037237883\n",
      "[8/30] [9800/11532] loss: 0.004233654588460922 gen: 0.004181133583188057 gate: 5.2520867029670626e-05\n",
      "[8/30] [9900/11532] loss: 0.02756805345416069 gen: 0.027325520291924477 gate: 0.00024253396259155124\n",
      "[8/30] [10000/11532] loss: 0.009117767214775085 gen: 0.008000040426850319 gate: 0.001117727137170732\n",
      "[8/30] [10100/11532] loss: 0.07176771014928818 gen: 0.03371443226933479 gate: 0.038053277879953384\n",
      "[8/30] [10200/11532] loss: 0.0028708132449537516 gen: 0.0028485979419201612 gate: 2.2215188437257893e-05\n",
      "[8/30] [10300/11532] loss: 0.003130061784759164 gen: 0.0028000168967992067 gate: 0.00033004485885612667\n",
      "[8/30] [10400/11532] loss: 0.0058883619494736195 gen: 0.0009154048748314381 gate: 0.004972957074642181\n",
      "[8/30] [10500/11532] loss: 0.003530768444761634 gen: 0.0034327334724366665 gate: 9.80350814643316e-05\n",
      "[8/30] [10600/11532] loss: 0.0018402248388156295 gen: 0.001758996513672173 gate: 8.12283469713293e-05\n",
      "[8/30] [10700/11532] loss: 0.002328433794900775 gen: 0.0022810737136751413 gate: 4.7360015742015094e-05\n",
      "[8/30] [10800/11532] loss: 0.010866041295230389 gen: 0.010731225833296776 gate: 0.00013481515634339303\n",
      "[8/30] [10900/11532] loss: 0.026995481923222542 gen: 0.026868321001529694 gate: 0.00012716080527752638\n",
      "[8/30] [11000/11532] loss: 0.0005264325300231576 gen: 0.00034927460364997387 gate: 0.00017715795547701418\n",
      "[8/30] [11100/11532] loss: 0.008478366769850254 gen: 0.008282016031444073 gate: 0.00019635078206192702\n",
      "[8/30] [11200/11532] loss: 0.0073055182583630085 gen: 0.007260518614202738 gate: 4.4999866076977924e-05\n",
      "[8/30] [11300/11532] loss: 0.014048459008336067 gen: 0.014021312817931175 gate: 2.714575566642452e-05\n",
      "[8/30] [11400/11532] loss: 0.0045820074155926704 gen: 0.004410958848893642 gate: 0.0001710485084913671\n",
      "[8/30] [11500/11532] loss: 0.0036084859166294336 gen: 0.0035810540430247784 gate: 2.7431902708485723e-05\n"
     ]
    },
    {
     "name": "stderr",
     "output_type": "stream",
     "text": [
      "100%|██████████| 640/640 [02:11<00:00,  4.85it/s]\n"
     ]
    },
    {
     "name": "stdout",
     "output_type": "stream",
     "text": [
      "{'joint_goal_accuracy': 0.738569753810082, 'turn_slot_accuracy': 0.9913724979375682, 'turn_slot_f1': 0.9620611235362687}\n",
      "joint_goal_accuracy: 0.738569753810082\n",
      "turn_slot_accuracy: 0.9913724979375682\n",
      "turn_slot_f1: 0.9620611235362687\n",
      "'--Update Best checkpoint!, epoch: 9'\n",
      "--Saving best model checkpoint\n",
      "time for 1 epoch: 1996.9108972549438\n",
      "[9/30] [0/11532] loss: 0.02936474233865738 gen: 0.029148560017347336 gate: 0.00021618213213514537\n",
      "[9/30] [100/11532] loss: 0.028821256011724472 gen: 0.02226240746676922 gate: 0.006558848079293966\n",
      "[9/30] [200/11532] loss: 0.0015236546751111746 gen: 0.0014091130578890443 gate: 0.00011454167542979121\n",
      "[9/30] [300/11532] loss: 0.01535082794725895 gen: 0.015076580457389355 gate: 0.0002742476062849164\n",
      "[9/30] [400/11532] loss: 0.010925752110779285 gen: 0.010886790230870247 gate: 3.8961879909038544e-05\n",
      "[9/30] [500/11532] loss: 0.03836457431316376 gen: 0.03820694983005524 gate: 0.00015762625844217837\n",
      "[9/30] [600/11532] loss: 0.0028338374104350805 gen: 0.0027240323834121227 gate: 0.00010980505612678826\n",
      "[9/30] [700/11532] loss: 0.0008954860386438668 gen: 0.0008421237580478191 gate: 5.3362287872005254e-05\n",
      "[9/30] [800/11532] loss: 0.014988706447184086 gen: 0.014910858124494553 gate: 7.78483590693213e-05\n",
      "[9/30] [900/11532] loss: 0.006577732507139444 gen: 0.006531102117151022 gate: 4.663042273023166e-05\n",
      "[9/30] [1000/11532] loss: 0.06337685137987137 gen: 0.02898850105702877 gate: 0.03438835218548775\n",
      "[9/30] [1100/11532] loss: 0.00012845551827922463 gen: 0.00011052648187614977 gate: 1.7929029127117246e-05\n",
      "[9/30] [1200/11532] loss: 0.0327092707157135 gen: 0.032644230872392654 gate: 6.503961776616052e-05\n",
      "[9/30] [1300/11532] loss: 0.0021892618387937546 gen: 0.0021687932312488556 gate: 2.0468663933570497e-05\n",
      "[9/30] [1400/11532] loss: 2.9915905543020926e-05 gen: 7.8690118243685e-06 gate: 2.2046893718652427e-05\n",
      "[9/30] [1500/11532] loss: 0.0242113396525383 gen: 0.021500932052731514 gate: 0.00271040853112936\n",
      "[9/30] [1600/11532] loss: 0.02685294859111309 gen: 0.02671641856431961 gate: 0.00013652943016495556\n",
      "[9/30] [1700/11532] loss: 0.002080563921481371 gen: 0.002018348779529333 gate: 6.221507646841928e-05\n",
      "[9/30] [1800/11532] loss: 0.004157515708357096 gen: 0.004138075280934572 gate: 1.944022733368911e-05\n",
      "[9/30] [1900/11532] loss: 0.06537923961877823 gen: 0.04645621031522751 gate: 0.01892303116619587\n",
      "[9/30] [2000/11532] loss: 0.00063581537688151 gen: 0.0006118608871474862 gate: 2.3954473363119178e-05\n",
      "[9/30] [2100/11532] loss: 0.012164857238531113 gen: 0.012123254127800465 gate: 4.1603481804486364e-05\n",
      "[9/30] [2200/11532] loss: 0.011713862419128418 gen: 0.011693280190229416 gate: 2.0582096112775616e-05\n",
      "[9/30] [2300/11532] loss: 0.026176922023296356 gen: 0.026131685823202133 gate: 4.523535244516097e-05\n",
      "[9/30] [2400/11532] loss: 0.004797109868377447 gen: 0.004787661600857973 gate: 9.448064702155534e-06\n",
      "[9/30] [2500/11532] loss: 0.07552172243595123 gen: 0.005396801512688398 gate: 0.07012492418289185\n",
      "[9/30] [2600/11532] loss: 0.010877043940126896 gen: 0.010658643208444118 gate: 0.00021840116824023426\n",
      "[9/30] [2700/11532] loss: 0.00935767125338316 gen: 0.009219322353601456 gate: 0.00013834885612595826\n",
      "[9/30] [2800/11532] loss: 0.0015597230521962047 gen: 0.0015363238053396344 gate: 2.3399248675559647e-05\n",
      "[9/30] [2900/11532] loss: 0.015489901416003704 gen: 0.015445278026163578 gate: 4.4623193389270455e-05\n",
      "[9/30] [3000/11532] loss: 0.055940888822078705 gen: 0.04649825021624565 gate: 0.009442636743187904\n",
      "[9/30] [3100/11532] loss: 0.00565660186111927 gen: 0.005601597484201193 gate: 5.5004595196805894e-05\n",
      "[9/30] [3200/11532] loss: 0.008960423991084099 gen: 0.008916998282074928 gate: 4.342525789979845e-05\n",
      "[9/30] [3300/11532] loss: 0.02425266243517399 gen: 0.024066094309091568 gate: 0.00018656763131730258\n",
      "[9/30] [3400/11532] loss: 0.035602644085884094 gen: 0.03555847331881523 gate: 4.417206582729705e-05\n",
      "[9/30] [3500/11532] loss: 0.0018108594231307507 gen: 0.0017671178793534636 gate: 4.374151467345655e-05\n",
      "[9/30] [3600/11532] loss: 0.0016760799335315824 gen: 0.0016006131190806627 gate: 7.546677079517394e-05\n",
      "[9/30] [3700/11532] loss: 0.009291724301874638 gen: 0.009218058548867702 gate: 7.366550562437624e-05\n",
      "[9/30] [3800/11532] loss: 6.993114948272705e-05 gen: 5.686811709892936e-05 gate: 1.3063036021776497e-05\n",
      "[9/30] [3900/11532] loss: 0.04474075883626938 gen: 0.04470077157020569 gate: 3.9989045035326853e-05\n",
      "[9/30] [4000/11532] loss: 0.002280740300193429 gen: 0.002245356561616063 gate: 3.538374221534468e-05\n",
      "[9/30] [4100/11532] loss: 0.011475683189928532 gen: 0.011429660022258759 gate: 4.602272383635864e-05\n",
      "[9/30] [4200/11532] loss: 0.03189930319786072 gen: 0.02218148298561573 gate: 0.009717821143567562\n",
      "[9/30] [4300/11532] loss: 5.181865708436817e-05 gen: 1.8370321413385682e-05 gate: 3.3448333851993084e-05\n",
      "[9/30] [4400/11532] loss: 0.023251201957464218 gen: 0.023080071434378624 gate: 0.00017113106150645763\n",
      "[9/30] [4500/11532] loss: 0.11078423261642456 gen: 0.047028135508298874 gate: 0.06375610083341599\n",
      "[9/30] [4600/11532] loss: 0.023747630417346954 gen: 0.023248327895998955 gate: 0.0004993018228560686\n",
      "[9/30] [4700/11532] loss: 0.0004096307384315878 gen: 0.00032581418054178357 gate: 8.381656516576186e-05\n",
      "[9/30] [4800/11532] loss: 0.058423660695552826 gen: 0.02875778265297413 gate: 0.029665878042578697\n",
      "[9/30] [4900/11532] loss: 0.0024694211315363646 gen: 0.0023480255622416735 gate: 0.00012139546743128449\n",
      "[9/30] [5000/11532] loss: 0.07558774203062057 gen: 0.03140828758478165 gate: 0.04417945444583893\n",
      "[9/30] [5100/11532] loss: 0.005979249719530344 gen: 0.005643849261105061 gate: 0.00033540045842528343\n",
      "[9/30] [5200/11532] loss: 0.013006030581891537 gen: 0.012895692139863968 gate: 0.00011033831833628938\n",
      "[9/30] [5300/11532] loss: 0.17387889325618744 gen: 0.1664733588695526 gate: 0.007405539974570274\n",
      "[9/30] [5400/11532] loss: 0.013918111100792885 gen: 0.012508598156273365 gate: 0.0014095130609348416\n",
      "[9/30] [5500/11532] loss: 0.032909832894802094 gen: 0.032857589423656464 gate: 5.2243216487113386e-05\n",
      "[9/30] [5600/11532] loss: 0.011060628108680248 gen: 0.010967136360704899 gate: 9.349211904918775e-05\n",
      "[9/30] [5700/11532] loss: 0.07934410870075226 gen: 0.022942980751395226 gate: 0.056401126086711884\n",
      "[9/30] [5800/11532] loss: 0.049310315400362015 gen: 0.04907257482409477 gate: 0.00023773945576976985\n",
      "[9/30] [5900/11532] loss: 0.06855391710996628 gen: 0.060855332762002945 gate: 0.007698585744947195\n",
      "[9/30] [6000/11532] loss: 0.018475700169801712 gen: 0.018432393670082092 gate: 4.330667434260249e-05\n",
      "[9/30] [6100/11532] loss: 0.008280299603939056 gen: 0.008225182071328163 gate: 5.5117914598667994e-05\n",
      "[9/30] [6200/11532] loss: 0.033408939838409424 gen: 0.021075494587421417 gate: 0.012333446182310581\n",
      "[9/30] [6300/11532] loss: 0.0029893331229686737 gen: 0.002930724062025547 gate: 5.860897363163531e-05\n",
      "[9/30] [6400/11532] loss: 0.008166802115738392 gen: 0.007984298281371593 gate: 0.0001825035724323243\n",
      "[9/30] [6500/11532] loss: 0.03441273421049118 gen: 0.03410835191607475 gate: 0.00030438139219768345\n",
      "[9/30] [6600/11532] loss: 0.011066555976867676 gen: 0.007263846695423126 gate: 0.003802709514275193\n",
      "[9/30] [6700/11532] loss: 0.008321457542479038 gen: 0.008262602612376213 gate: 5.88551010878291e-05\n",
      "[9/30] [6800/11532] loss: 0.11610999703407288 gen: 0.0723065510392189 gate: 0.04380344972014427\n",
      "[9/30] [6900/11532] loss: 0.054523348808288574 gen: 0.007430179510265589 gate: 0.047093167901039124\n",
      "[9/30] [7000/11532] loss: 0.042552437633275986 gen: 0.041548002511262894 gate: 0.0010044340742751956\n",
      "[9/30] [7100/11532] loss: 0.004515350796282291 gen: 0.004493286367505789 gate: 2.2064512450015172e-05\n",
      "[9/30] [7200/11532] loss: 0.08973570913076401 gen: 0.06389764696359634 gate: 0.025838062167167664\n",
      "[9/30] [7300/11532] loss: 0.06802048534154892 gen: 0.06141655519604683 gate: 0.006603931076824665\n",
      "[9/30] [7400/11532] loss: 0.006265817675739527 gen: 0.006246073637157679 gate: 1.9743829398066737e-05\n",
      "[9/30] [7500/11532] loss: 0.011739303357899189 gen: 0.011696727015078068 gate: 4.2576742998789996e-05\n",
      "[9/30] [7600/11532] loss: 0.03799423947930336 gen: 0.037955403327941895 gate: 3.883563113049604e-05\n",
      "[9/30] [7700/11532] loss: 0.03649407625198364 gen: 0.032232049852609634 gate: 0.004262028262019157\n",
      "[9/30] [7800/11532] loss: 0.012086576782166958 gen: 0.011929677799344063 gate: 0.00015689918654970825\n",
      "[9/30] [7900/11532] loss: 0.009212587028741837 gen: 0.009037802927196026 gate: 0.0001747838978189975\n",
      "[9/30] [8000/11532] loss: 0.003390718949958682 gen: 0.003368019126355648 gate: 2.2699816327076405e-05\n",
      "[9/30] [8100/11532] loss: 0.028015777468681335 gen: 0.027986660599708557 gate: 2.9116727091604844e-05\n",
      "[9/30] [8200/11532] loss: 0.006722386460751295 gen: 0.006691663525998592 gate: 3.072296749451198e-05\n",
      "[9/30] [8300/11532] loss: 0.022524749860167503 gen: 0.022197341546416283 gate: 0.000327408459270373\n",
      "[9/30] [8400/11532] loss: 0.008239741437137127 gen: 0.008183433674275875 gate: 5.630767554976046e-05\n",
      "[9/30] [8500/11532] loss: 0.031054437160491943 gen: 0.030941685661673546 gate: 0.00011275181168457493\n",
      "[9/30] [8600/11532] loss: 0.00026243767933920026 gen: 0.00019175106717739254 gate: 7.06866048858501e-05\n",
      "[9/30] [8700/11532] loss: 0.002265714108943939 gen: 0.0022312719374895096 gate: 3.444212052272633e-05\n",
      "[9/30] [8800/11532] loss: 0.004516160115599632 gen: 0.004458832088857889 gate: 5.7327815738972276e-05\n",
      "[9/30] [8900/11532] loss: 0.0804523304104805 gen: 0.04651402309536934 gate: 0.03393830731511116\n",
      "[9/30] [9000/11532] loss: 0.0013440208276733756 gen: 0.001319193746894598 gate: 2.4827048036968336e-05\n",
      "[9/30] [9100/11532] loss: 0.004873286001384258 gen: 0.004168657120317221 gate: 0.0007046290556900203\n",
      "[9/30] [9200/11532] loss: 0.0036377012729644775 gen: 0.00361789227463305 gate: 1.9809023797279224e-05\n",
      "[9/30] [9300/11532] loss: 0.0012044889153912663 gen: 0.001176615827716887 gate: 2.787306766549591e-05\n",
      "[9/30] [9400/11532] loss: 0.00331130251288414 gen: 0.003216823562979698 gate: 9.447902993997559e-05\n",
      "[9/30] [9500/11532] loss: 0.00018654328596312553 gen: 0.00012936828716192394 gate: 5.717499880120158e-05\n",
      "[9/30] [9600/11532] loss: 0.0010891712736338377 gen: 0.0010794618865475059 gate: 9.709336154628545e-06\n",
      "[9/30] [9700/11532] loss: 0.009621241129934788 gen: 0.009602358564734459 gate: 1.888241786218714e-05\n",
      "[9/30] [9800/11532] loss: 0.07689592987298965 gen: 0.043216973543167114 gate: 0.03367895632982254\n",
      "[9/30] [9900/11532] loss: 0.011729790829122066 gen: 0.011678007431328297 gate: 5.1783448725473136e-05\n",
      "[9/30] [10000/11532] loss: 0.07275253534317017 gen: 0.03292981535196304 gate: 0.03982271999120712\n",
      "[9/30] [10100/11532] loss: 0.014503649435937405 gen: 0.014493723399937153 gate: 9.92591776594054e-06\n",
      "[9/30] [10200/11532] loss: 0.0002853481564670801 gen: 0.0002682476188056171 gate: 1.710053220449481e-05\n",
      "[9/30] [10300/11532] loss: 0.08438187837600708 gen: 0.04333837330341339 gate: 0.04104350507259369\n",
      "[9/30] [10400/11532] loss: 0.01315283589065075 gen: 0.013138681650161743 gate: 1.4153807569527999e-05\n",
      "[9/30] [10500/11532] loss: 0.04659990221261978 gen: 0.024539511650800705 gate: 0.022060392424464226\n",
      "[9/30] [10600/11532] loss: 0.008360914885997772 gen: 0.00834785308688879 gate: 1.3061484423815273e-05\n",
      "[9/30] [10700/11532] loss: 0.013827042654156685 gen: 0.013755309395492077 gate: 7.173312769737095e-05\n",
      "[9/30] [10800/11532] loss: 0.0031603300012648106 gen: 0.0031365538015961647 gate: 2.377614327997435e-05\n",
      "[9/30] [10900/11532] loss: 0.009669466875493526 gen: 0.006621195934712887 gate: 0.0030482709407806396\n",
      "[9/30] [11000/11532] loss: 1.1968973922193982e-05 gen: 5.478113507706439e-06 gate: 6.490859959740192e-06\n",
      "[9/30] [11100/11532] loss: 0.009712339378893375 gen: 0.009703979827463627 gate: 8.35953869682271e-06\n",
      "[9/30] [11200/11532] loss: 0.014660733751952648 gen: 0.014625174924731255 gate: 3.555907096597366e-05\n",
      "[9/30] [11300/11532] loss: 0.02233467623591423 gen: 0.022300777956843376 gate: 3.3897995308507234e-05\n",
      "[9/30] [11400/11532] loss: 0.023079553619027138 gen: 0.023012716323137283 gate: 6.683644460281357e-05\n",
      "[9/30] [11500/11532] loss: 0.056141193956136703 gen: 0.032533857971429825 gate: 0.02360733598470688\n"
     ]
    },
    {
     "name": "stderr",
     "output_type": "stream",
     "text": [
      "100%|██████████| 640/640 [01:56<00:00,  5.51it/s]\n"
     ]
    },
    {
     "name": "stdout",
     "output_type": "stream",
     "text": [
      "{'joint_goal_accuracy': 0.7624071903087143, 'turn_slot_accuracy': 0.9922669445529981, 'turn_slot_f1': 0.9654928710598026}\n",
      "joint_goal_accuracy: 0.7624071903087143\n",
      "turn_slot_accuracy: 0.9922669445529981\n",
      "turn_slot_f1: 0.9654928710598026\n",
      "'--Update Best checkpoint!, epoch: 10'\n",
      "--Saving best model checkpoint\n",
      "time for 1 epoch: 1983.5019569396973\n",
      "[10/30] [0/11532] loss: 4.777665890287608e-05 gen: 3.16936093440745e-05 gate: 1.6083047739812173e-05\n",
      "[10/30] [100/11532] loss: 0.019606903195381165 gen: 0.00464093592017889 gate: 0.014965968206524849\n",
      "[10/30] [200/11532] loss: 0.010011544451117516 gen: 0.010003702715039253 gate: 7.841753358661663e-06\n",
      "[10/30] [300/11532] loss: 0.0024100830778479576 gen: 0.0023936403449624777 gate: 1.6442625565105118e-05\n",
      "[10/30] [400/11532] loss: 0.00016718638653401285 gen: 0.00015398017421830446 gate: 1.3206206858740188e-05\n",
      "[10/30] [500/11532] loss: 0.013650394976139069 gen: 0.01362286601215601 gate: 2.752900581981521e-05\n",
      "[10/30] [600/11532] loss: 0.024291303008794785 gen: 0.023222366347908974 gate: 0.0010689367773011327\n",
      "[10/30] [700/11532] loss: 0.06886140257120132 gen: 0.03934292122721672 gate: 0.029518483206629753\n",
      "[10/30] [800/11532] loss: 0.0004709759377874434 gen: 0.0004120354715269059 gate: 5.894047353649512e-05\n",
      "[10/30] [900/11532] loss: 0.00390969542786479 gen: 0.003899186383932829 gate: 1.0509233106859028e-05\n",
      "[10/30] [1000/11532] loss: 0.013666830025613308 gen: 0.013654401525855064 gate: 1.2428537047526333e-05\n",
      "[10/30] [1100/11532] loss: 0.00184735213406384 gen: 0.0018202993087470531 gate: 2.7052805307903327e-05\n",
      "[10/30] [1200/11532] loss: 0.0005087583558633924 gen: 0.0003802100836765021 gate: 0.00012854825763497502\n",
      "[10/30] [1300/11532] loss: 0.07787910103797913 gen: 0.0681387186050415 gate: 0.009740384295582771\n",
      "[10/30] [1400/11532] loss: 0.0142679363489151 gen: 0.014224433340132236 gate: 4.3502725020516664e-05\n",
      "[10/30] [1500/11532] loss: 3.068805381190032e-05 gen: 1.8143946363124996e-05 gate: 1.2544108358270023e-05\n",
      "[10/30] [1600/11532] loss: 0.010349524207413197 gen: 0.010171965695917606 gate: 0.00017755874432623386\n",
      "[10/30] [1700/11532] loss: 0.010603382252156734 gen: 0.009620527736842632 gate: 0.0009828548645600677\n",
      "[10/30] [1800/11532] loss: 0.015185097232460976 gen: 0.006369332782924175 gate: 0.0088157644495368\n",
      "[10/30] [1900/11532] loss: 0.004547436255961657 gen: 0.00408544484525919 gate: 0.00046199120697565377\n",
      "[10/30] [2000/11532] loss: 0.008975471369922161 gen: 0.008921319618821144 gate: 5.415166378952563e-05\n",
      "[10/30] [2100/11532] loss: 0.012108334340155125 gen: 0.012087956070899963 gate: 2.0378647604957223e-05\n",
      "[10/30] [2200/11532] loss: 0.008345361799001694 gen: 0.008321523666381836 gate: 2.3837965272832662e-05\n",
      "[10/30] [2300/11532] loss: 0.018480975180864334 gen: 0.012408627197146416 gate: 0.006072348449379206\n",
      "[10/30] [2400/11532] loss: 0.02206503041088581 gen: 0.021978838369250298 gate: 8.619133586762473e-05\n",
      "[10/30] [2500/11532] loss: 0.005830621812492609 gen: 0.005770334042608738 gate: 6.028763891663402e-05\n",
      "[10/30] [2600/11532] loss: 0.005482700653374195 gen: 0.005436404142528772 gate: 4.6296598156914115e-05\n",
      "[10/30] [2700/11532] loss: 0.0413314588367939 gen: 0.04123590141534805 gate: 9.555886936141178e-05\n",
      "[10/30] [2800/11532] loss: 0.022922320291399956 gen: 0.022898448631167412 gate: 2.387164204264991e-05\n",
      "[10/30] [2900/11532] loss: 0.00028152659069746733 gen: 0.00026234748656861484 gate: 1.9179113223799504e-05\n",
      "[10/30] [3000/11532] loss: 0.003702757880091667 gen: 0.003681166796013713 gate: 2.1591038603219204e-05\n",
      "[10/30] [3100/11532] loss: 0.0012285029515624046 gen: 0.0011896723881363869 gate: 3.8830596167827025e-05\n",
      "[10/30] [3200/11532] loss: 0.003942418377846479 gen: 0.003919178619980812 gate: 2.3239690563059412e-05\n",
      "[10/30] [3300/11532] loss: 0.0003611791180446744 gen: 0.00033012835774570704 gate: 3.105074574705213e-05\n",
      "[10/30] [3400/11532] loss: 0.006785770412534475 gen: 0.006766380276530981 gate: 1.939002686413005e-05\n",
      "[10/30] [3500/11532] loss: 0.005200432147830725 gen: 0.005178108345717192 gate: 2.2323642042465508e-05\n",
      "[10/30] [3600/11532] loss: 0.0016895945882424712 gen: 0.0015244092792272568 gate: 0.000165185279911384\n",
      "[10/30] [3700/11532] loss: 0.11812186241149902 gen: 0.06411672383546829 gate: 0.05400514230132103\n",
      "[10/30] [3800/11532] loss: 0.05148112028837204 gen: 0.040813907980918884 gate: 0.01066721323877573\n",
      "[10/30] [3900/11532] loss: 0.0009920666925609112 gen: 0.0009281572420150042 gate: 6.390947964973748e-05\n",
      "[10/30] [4000/11532] loss: 0.006479252595454454 gen: 0.0064505478367209435 gate: 2.8704796932288446e-05\n",
      "[10/30] [4100/11532] loss: 0.015842683613300323 gen: 0.013308580033481121 gate: 0.0025341042783111334\n",
      "[10/30] [4200/11532] loss: 0.003730262629687786 gen: 0.003594620618969202 gate: 0.00013564203982241452\n",
      "[10/30] [4300/11532] loss: 0.011031738482415676 gen: 0.010901848785579205 gate: 0.00012988942035008222\n",
      "[10/30] [4400/11532] loss: 0.05980116128921509 gen: 0.02583789825439453 gate: 0.03396326303482056\n",
      "[10/30] [4500/11532] loss: 0.013933971524238586 gen: 0.01389933843165636 gate: 3.463271787040867e-05\n",
      "[10/30] [4600/11532] loss: 0.06402010470628738 gen: 0.017620662227272987 gate: 0.04639944061636925\n",
      "[10/30] [4700/11532] loss: 0.03534286096692085 gen: 0.034574415534734726 gate: 0.0007684466545470059\n",
      "[10/30] [4800/11532] loss: 0.1261737197637558 gen: 0.05367590859532356 gate: 0.07249781489372253\n",
      "[10/30] [4900/11532] loss: 0.006781198550015688 gen: 0.006601989734917879 gate: 0.00017920885875355452\n",
      "[10/30] [5000/11532] loss: 0.04708204045891762 gen: 0.023055024445056915 gate: 0.024027016013860703\n",
      "[10/30] [5100/11532] loss: 0.015499873086810112 gen: 0.015253041870892048 gate: 0.00024683159426786005\n",
      "[10/30] [5200/11532] loss: 0.196553573012352 gen: 0.1279238760471344 gate: 0.06862969696521759\n",
      "[10/30] [5300/11532] loss: 0.008524353615939617 gen: 0.007640154100954533 gate: 0.00088419922394678\n",
      "[10/30] [5400/11532] loss: 0.0035233688540756702 gen: 0.0032742952462285757 gate: 0.00024907366605475545\n",
      "[10/30] [5500/11532] loss: 0.03946973755955696 gen: 0.030216850340366364 gate: 0.009252888150513172\n",
      "[10/30] [5600/11532] loss: 0.0224576685577631 gen: 0.021634310483932495 gate: 0.0008233575499616563\n",
      "[10/30] [5700/11532] loss: 0.0757720023393631 gen: 0.042043864727020264 gate: 0.03372814133763313\n",
      "[10/30] [5800/11532] loss: 0.012699969112873077 gen: 0.012560412287712097 gate: 0.00013955682516098022\n",
      "[10/30] [5900/11532] loss: 0.007726460229605436 gen: 0.007499176077544689 gate: 0.00022728423937223852\n",
      "[10/30] [6000/11532] loss: 0.1451166272163391 gen: 0.0740102231502533 gate: 0.07110639661550522\n",
      "[10/30] [6100/11532] loss: 0.025108840316534042 gen: 0.024629874154925346 gate: 0.0004789668309967965\n",
      "[10/30] [6200/11532] loss: 0.008958972990512848 gen: 0.00881551019847393 gate: 0.00014346289390232414\n",
      "[10/30] [6300/11532] loss: 0.023880109190940857 gen: 0.023621605709195137 gate: 0.00025850257952697575\n",
      "[10/30] [6400/11532] loss: 0.002019608160480857 gen: 0.001867617480456829 gate: 0.0001519906218163669\n",
      "[10/30] [6500/11532] loss: 0.08514053374528885 gen: 0.041510533541440964 gate: 0.043630000203847885\n",
      "[10/30] [6600/11532] loss: 0.0046399920247495174 gen: 0.004431775771081448 gate: 0.00020821626821998507\n",
      "[10/30] [6700/11532] loss: 0.0017594952369108796 gen: 0.0016521706711500883 gate: 0.00010732460214057937\n",
      "[10/30] [6800/11532] loss: 0.004573432262986898 gen: 0.004452964756637812 gate: 0.00012046730989823118\n",
      "[10/30] [6900/11532] loss: 0.0001848758547566831 gen: 0.00014707630907651037 gate: 3.779953840421513e-05\n",
      "[10/30] [7000/11532] loss: 0.010187762789428234 gen: 0.00997960940003395 gate: 0.0002081537968479097\n",
      "[10/30] [7100/11532] loss: 0.012017623521387577 gen: 0.011946914717555046 gate: 7.070895662764087e-05\n",
      "[10/30] [7200/11532] loss: 0.049018122255802155 gen: 0.030196666717529297 gate: 0.018821455538272858\n",
      "[10/30] [7300/11532] loss: 0.047367267310619354 gen: 0.03525296971201897 gate: 0.012114296667277813\n",
      "[10/30] [7400/11532] loss: 0.0006237569032236934 gen: 0.00048608850920572877 gate: 0.00013766836491413414\n",
      "[10/30] [7500/11532] loss: 0.05957944691181183 gen: 0.024332454428076744 gate: 0.035246990621089935\n",
      "[10/30] [7600/11532] loss: 0.06768830865621567 gen: 0.028172491118311882 gate: 0.039515819400548935\n",
      "[10/30] [7700/11532] loss: 0.012118086218833923 gen: 0.01203708816319704 gate: 8.099764090729877e-05\n",
      "[10/30] [7800/11532] loss: 0.0016653788043186069 gen: 0.0015947873471304774 gate: 7.059142808429897e-05\n",
      "[10/30] [7900/11532] loss: 0.007349587511271238 gen: 0.0072951726615428925 gate: 5.441482790047303e-05\n",
      "[10/30] [8000/11532] loss: 0.010159393772482872 gen: 0.00994196068495512 gate: 0.00021743334946222603\n",
      "[10/30] [8100/11532] loss: 0.01841156557202339 gen: 0.018348315730690956 gate: 6.32494775345549e-05\n",
      "[10/30] [8200/11532] loss: 0.00027775115449912846 gen: 0.00020056562789250165 gate: 7.718553388258442e-05\n",
      "[10/30] [8300/11532] loss: 0.006834894418716431 gen: 0.006624373607337475 gate: 0.00021052085503470153\n",
      "[10/30] [8400/11532] loss: 0.08736492693424225 gen: 0.08624591678380966 gate: 0.0011190117802470922\n",
      "[10/30] [8500/11532] loss: 0.0008238052250817418 gen: 0.0007819614838808775 gate: 4.184371937299147e-05\n",
      "[10/30] [8600/11532] loss: 0.06682039797306061 gen: 0.02930527739226818 gate: 0.03751511871814728\n",
      "[10/30] [8700/11532] loss: 0.01256145816296339 gen: 0.009624140337109566 gate: 0.0029373178258538246\n",
      "[10/30] [8800/11532] loss: 0.015196949243545532 gen: 0.015142787247896194 gate: 5.416234125732444e-05\n",
      "[10/30] [8900/11532] loss: 0.0001339303416898474 gen: 0.00011557833931874484 gate: 1.835200237110257e-05\n",
      "[10/30] [9000/11532] loss: 0.04137161746621132 gen: 0.021789321675896645 gate: 0.019582295790314674\n",
      "[10/30] [9100/11532] loss: 0.044335681945085526 gen: 0.037005651742219925 gate: 0.007330030668526888\n",
      "[10/30] [9200/11532] loss: 0.021101217716932297 gen: 0.02107328176498413 gate: 2.7936148399021477e-05\n",
      "[10/30] [9300/11532] loss: 0.0054727462120354176 gen: 0.00537566002458334 gate: 9.708639117889106e-05\n",
      "[10/30] [9400/11532] loss: 0.07361602783203125 gen: 0.04684436321258545 gate: 0.02677166275680065\n",
      "[10/30] [9500/11532] loss: 0.019454369321465492 gen: 0.015153531916439533 gate: 0.004300837870687246\n",
      "[10/30] [9600/11532] loss: 0.00015049449575599283 gen: 0.00011495809303596616 gate: 3.5536399082047865e-05\n",
      "[10/30] [9700/11532] loss: 0.08784564584493637 gen: 0.03760017454624176 gate: 0.05024547129869461\n",
      "[10/30] [9800/11532] loss: 0.0037668889854103327 gen: 0.003712601726874709 gate: 5.428735676105134e-05\n",
      "[10/30] [9900/11532] loss: 0.013706284575164318 gen: 0.013054048642516136 gate: 0.0006522359908558428\n",
      "[10/30] [10000/11532] loss: 0.004051803611218929 gen: 0.0037147323600947857 gate: 0.00033707133843563497\n",
      "[10/30] [10100/11532] loss: 0.11035767197608948 gen: 0.06786379218101501 gate: 0.042493876069784164\n",
      "[10/30] [10200/11532] loss: 0.014346594922244549 gen: 0.014043235220015049 gate: 0.0003033595276065171\n",
      "[10/30] [10300/11532] loss: 9.633151057641953e-05 gen: 6.362611020449549e-05 gate: 3.270540400990285e-05\n",
      "[10/30] [10400/11532] loss: 0.001054505119100213 gen: 0.0004984817351214588 gate: 0.0005560233839787543\n",
      "[10/30] [10500/11532] loss: 0.00024140709138009697 gen: 0.00019954601884819567 gate: 4.18610725319013e-05\n",
      "[10/30] [10600/11532] loss: 0.01703759655356407 gen: 0.01672051101922989 gate: 0.00031708579626865685\n",
      "[10/30] [10700/11532] loss: 2.283366848132573e-05 gen: 1.0787975952553097e-05 gate: 1.2045693438267335e-05\n",
      "[10/30] [10800/11532] loss: 0.0023054673802107573 gen: 0.0022861387114971876 gate: 1.9328617781866342e-05\n",
      "[10/30] [10900/11532] loss: 0.015014068223536015 gen: 0.014967930503189564 gate: 4.613768760464154e-05\n",
      "[10/30] [11000/11532] loss: 0.014455785043537617 gen: 0.014440227299928665 gate: 1.5557281585643068e-05\n",
      "[10/30] [11100/11532] loss: 0.0024765348061919212 gen: 0.002457189839333296 gate: 1.93449086509645e-05\n",
      "[10/30] [11200/11532] loss: 0.00019452071865089238 gen: 0.00015767397417221218 gate: 3.6846744478680193e-05\n",
      "[10/30] [11300/11532] loss: 0.0013883758801966906 gen: 0.0008497621165588498 gate: 0.0005386137636378407\n",
      "[10/30] [11400/11532] loss: 0.028350474312901497 gen: 0.02833562158048153 gate: 1.4853349057375453e-05\n",
      "[10/30] [11500/11532] loss: 0.00039237565943039954 gen: 0.0003431171353440732 gate: 4.925853500026278e-05\n"
     ]
    },
    {
     "name": "stderr",
     "output_type": "stream",
     "text": [
      "100%|██████████| 640/640 [01:56<00:00,  5.50it/s]\n"
     ]
    },
    {
     "name": "stdout",
     "output_type": "stream",
     "text": [
      "{'joint_goal_accuracy': 0.7672919109026963, 'turn_slot_accuracy': 0.9924970691676485, 'turn_slot_f1': 0.9664243307691688}\n",
      "joint_goal_accuracy: 0.7672919109026963\n",
      "turn_slot_accuracy: 0.9924970691676485\n",
      "turn_slot_f1: 0.9664243307691688\n",
      "'--Update Best checkpoint!, epoch: 11'\n",
      "--Saving best model checkpoint\n",
      "time for 1 epoch: 1992.540019750595\n",
      "[11/30] [0/11532] loss: 0.0016310367500409484 gen: 0.0016184357227757573 gate: 1.2601005437318236e-05\n",
      "[11/30] [100/11532] loss: 0.013379117473959923 gen: 0.013303330168128014 gate: 7.57871093810536e-05\n",
      "[11/30] [200/11532] loss: 0.04287368431687355 gen: 0.042850397527217865 gate: 2.3285476345336065e-05\n",
      "[11/30] [300/11532] loss: 0.03472943976521492 gen: 0.029522690922021866 gate: 0.0052067493088543415\n",
      "[11/30] [400/11532] loss: 0.007184793706983328 gen: 0.006946433335542679 gate: 0.0002383602550253272\n",
      "[11/30] [500/11532] loss: 0.035782590508461 gen: 0.03537411615252495 gate: 0.0004084755200892687\n",
      "[11/30] [600/11532] loss: 0.022640926763415337 gen: 0.022619109600782394 gate: 2.1816658772877418e-05\n",
      "[11/30] [700/11532] loss: 0.001952651422470808 gen: 0.0019171470776200294 gate: 3.550436667865142e-05\n",
      "[11/30] [800/11532] loss: 0.0071313162334263325 gen: 0.007096344605088234 gate: 3.497152647469193e-05\n",
      "[11/30] [900/11532] loss: 0.020892433822155 gen: 0.010652071796357632 gate: 0.010240361094474792\n",
      "[11/30] [1000/11532] loss: 0.03192336484789848 gen: 0.013728421181440353 gate: 0.01819494366645813\n",
      "[11/30] [1100/11532] loss: 0.02884424291551113 gen: 0.028817296028137207 gate: 2.6946250727633014e-05\n",
      "[11/30] [1200/11532] loss: 0.017091065645217896 gen: 0.01706674136221409 gate: 2.432521250739228e-05\n",
      "[11/30] [1300/11532] loss: 0.004034757614135742 gen: 0.0040254369378089905 gate: 9.320680874225218e-06\n",
      "[11/30] [1400/11532] loss: 0.46378740668296814 gen: 0.2884273827075958 gate: 0.17536002397537231\n",
      "[11/30] [1500/11532] loss: 0.0005399866495281458 gen: 0.0005278840544633567 gate: 1.2102570508432109e-05\n",
      "[11/30] [1600/11532] loss: 0.00021898627164773643 gen: 0.00017844248213805258 gate: 4.054379678564146e-05\n",
      "[11/30] [1700/11532] loss: 0.026120945811271667 gen: 0.026090074330568314 gate: 3.0870687623973936e-05\n",
      "[11/30] [1800/11532] loss: 0.006328861694782972 gen: 0.0062628076411783695 gate: 6.605387170566246e-05\n",
      "[11/30] [1900/11532] loss: 0.05467339977622032 gen: 0.05461807921528816 gate: 5.532204522751272e-05\n",
      "[11/30] [2000/11532] loss: 0.009105741046369076 gen: 0.009030759334564209 gate: 7.498159538954496e-05\n",
      "[11/30] [2100/11532] loss: 0.0002544383460190147 gen: 0.0002410575543763116 gate: 1.3380801647144835e-05\n",
      "[11/30] [2200/11532] loss: 0.030537348240613937 gen: 0.030522994697093964 gate: 1.4354261111293454e-05\n",
      "[11/30] [2300/11532] loss: 0.01992134377360344 gen: 0.019888488575816154 gate: 3.2855929021025077e-05\n",
      "[11/30] [2400/11532] loss: 0.009879477322101593 gen: 0.009005393832921982 gate: 0.0008740831399336457\n",
      "[11/30] [2500/11532] loss: 0.014798291958868504 gen: 0.0147726284340024 gate: 2.5663530323072337e-05\n",
      "[11/30] [2600/11532] loss: 0.011792756617069244 gen: 0.011779353953897953 gate: 1.3403004231804516e-05\n",
      "[11/30] [2700/11532] loss: 0.010338464751839638 gen: 0.010295216925442219 gate: 4.324774999986403e-05\n",
      "[11/30] [2800/11532] loss: 0.026178929954767227 gen: 0.02616633102297783 gate: 1.2599565707205329e-05\n",
      "[11/30] [2900/11532] loss: 0.004208042751997709 gen: 0.0034080338664352894 gate: 0.0008000090601854026\n",
      "[11/30] [3000/11532] loss: 0.001049776328727603 gen: 0.0010297291446477175 gate: 2.004715133807622e-05\n",
      "[11/30] [3100/11532] loss: 0.007946777157485485 gen: 0.007933516055345535 gate: 1.3261411368148401e-05\n",
      "[11/30] [3200/11532] loss: 0.048954300582408905 gen: 0.04892855882644653 gate: 2.5741539502632804e-05\n",
      "[11/30] [3300/11532] loss: 0.11398185789585114 gen: 0.06318464130163193 gate: 0.050797220319509506\n",
      "[11/30] [3400/11532] loss: 0.015952980145812035 gen: 0.015926118940114975 gate: 2.686187144718133e-05\n",
      "[11/30] [3500/11532] loss: 0.14535565674304962 gen: 0.07791654020547867 gate: 0.06743911653757095\n",
      "[11/30] [3600/11532] loss: 0.00017538483371026814 gen: 0.00016898024477995932 gate: 6.40459484202438e-06\n",
      "[11/30] [3700/11532] loss: 0.004731929861009121 gen: 0.004724428523331881 gate: 7.501336312998319e-06\n",
      "[11/30] [3800/11532] loss: 0.017282087355852127 gen: 0.017247434705495834 gate: 3.4651722671696916e-05\n",
      "[11/30] [3900/11532] loss: 0.0022797526326030493 gen: 0.002275581704452634 gate: 4.17093815485714e-06\n",
      "[11/30] [4000/11532] loss: 0.001139356754720211 gen: 0.001114161335863173 gate: 2.519544977985788e-05\n",
      "[11/30] [4100/11532] loss: 0.023286966606974602 gen: 0.02328125573694706 gate: 5.7105326050077565e-06\n",
      "[11/30] [4200/11532] loss: 0.021487735211849213 gen: 0.02136685885488987 gate: 0.00012087695358786732\n",
      "[11/30] [4300/11532] loss: 0.008693153038620949 gen: 0.008678050711750984 gate: 1.5102259567356668e-05\n",
      "[11/30] [4400/11532] loss: 9.387546742800623e-05 gen: 7.751079829176888e-05 gate: 1.6364670955226757e-05\n",
      "[11/30] [4500/11532] loss: 0.013059482909739017 gen: 0.013048105873167515 gate: 1.1377192095096689e-05\n",
      "[11/30] [4600/11532] loss: 0.0021429737098515034 gen: 0.0021360041573643684 gate: 6.969558853597846e-06\n",
      "[11/30] [4700/11532] loss: 0.018872402608394623 gen: 0.018867064267396927 gate: 5.338470145943575e-06\n",
      "[11/30] [4800/11532] loss: 0.0009205808164551854 gen: 0.0009082459146156907 gate: 1.2334923667367548e-05\n",
      "[11/30] [4900/11532] loss: 0.11869031190872192 gen: 0.05991337448358536 gate: 0.05877693369984627\n",
      "[11/30] [5000/11532] loss: 0.018581856042146683 gen: 0.018565230071544647 gate: 1.6625341231701896e-05\n",
      "[11/30] [5100/11532] loss: 0.10547652840614319 gen: 0.024342644959688187 gate: 0.0811338871717453\n",
      "[11/30] [5200/11532] loss: 0.00017185207980219275 gen: 0.0001677162217674777 gate: 4.135851668252144e-06\n",
      "[11/30] [5300/11532] loss: 0.017980173230171204 gen: 0.01796669140458107 gate: 1.3481274436344393e-05\n",
      "[11/30] [5400/11532] loss: 0.0011742128990590572 gen: 0.0011565544409677386 gate: 1.7658425349509344e-05\n",
      "[11/30] [5500/11532] loss: 0.08625055104494095 gen: 0.03476051986217499 gate: 0.05149003118276596\n",
      "[11/30] [5600/11532] loss: 0.020176280289888382 gen: 0.02015835978090763 gate: 1.792041257431265e-05\n",
      "[11/30] [5700/11532] loss: 0.0010914724553003907 gen: 0.001084173214621842 gate: 7.2992820605577435e-06\n",
      "[11/30] [5800/11532] loss: 0.008856100961565971 gen: 0.00884592067450285 gate: 1.0180111530644353e-05\n",
      "[11/30] [5900/11532] loss: 0.04275263473391533 gen: 0.04263782128691673 gate: 0.00011481330147944391\n",
      "[11/30] [6000/11532] loss: 3.8118552765809e-05 gen: 3.490797462291084e-05 gate: 3.2105792797665345e-06\n",
      "[11/30] [6100/11532] loss: 0.003483428154140711 gen: 0.003476209007203579 gate: 7.219106009870302e-06\n",
      "[11/30] [6200/11532] loss: 0.008182206191122532 gen: 0.008134519681334496 gate: 4.768654252984561e-05\n",
      "[11/30] [6300/11532] loss: 0.00022345944307744503 gen: 0.00021890702191740274 gate: 4.552424343273742e-06\n",
      "[11/30] [6400/11532] loss: 0.01903032511472702 gen: 0.019021987915039062 gate: 8.336944119946565e-06\n",
      "[11/30] [6500/11532] loss: 0.005008204374462366 gen: 0.00495168287307024 gate: 5.65213049412705e-05\n",
      "[11/30] [6600/11532] loss: 0.05980445444583893 gen: 0.05976147577166557 gate: 4.297741543268785e-05\n",
      "[11/30] [6700/11532] loss: 0.014286759309470654 gen: 0.014253256842494011 gate: 3.3502798032714054e-05\n",
      "[11/30] [6800/11532] loss: 0.008782797493040562 gen: 0.00876625720411539 gate: 1.654066909395624e-05\n",
      "[11/30] [6900/11532] loss: 0.025492707267403603 gen: 0.025469569489359856 gate: 2.3137547032092698e-05\n",
      "[11/30] [7000/11532] loss: 0.0723058432340622 gen: 0.07204923033714294 gate: 0.0002566120238043368\n",
      "[11/30] [7100/11532] loss: 0.03086843155324459 gen: 0.030766474083065987 gate: 0.00010195712820859626\n",
      "[11/30] [7200/11532] loss: 0.01971960999071598 gen: 0.01970917172729969 gate: 1.0438345270813443e-05\n",
      "[11/30] [7300/11532] loss: 0.0004820364702027291 gen: 0.0004673609510064125 gate: 1.4675511010864284e-05\n",
      "[11/30] [7400/11532] loss: 0.007378830574452877 gen: 0.007297313306480646 gate: 8.151744259521365e-05\n",
      "[11/30] [7500/11532] loss: 0.07467891275882721 gen: 0.029126353561878204 gate: 0.045552559196949005\n",
      "[11/30] [7600/11532] loss: 0.02969517931342125 gen: 0.018935654312372208 gate: 0.010759524069726467\n",
      "[11/30] [7700/11532] loss: 0.0018994510173797607 gen: 0.0008946200832724571 gate: 0.0010048309341073036\n",
      "[11/30] [7800/11532] loss: 0.0003610834537539631 gen: 0.0003370665945112705 gate: 2.4016868337639607e-05\n",
      "[11/30] [7900/11532] loss: 0.024392573162913322 gen: 0.024366585537791252 gate: 2.5988543711719103e-05\n",
      "[11/30] [8000/11532] loss: 0.00428900308907032 gen: 0.004270598758012056 gate: 1.8404487491352484e-05\n",
      "[11/30] [8100/11532] loss: 0.007180544547736645 gen: 0.007158441003412008 gate: 2.2103658920968883e-05\n",
      "[11/30] [8200/11532] loss: 0.006688533816486597 gen: 0.006656364072114229 gate: 3.216958066332154e-05\n",
      "[11/30] [8300/11532] loss: 0.12502802908420563 gen: 0.06704500317573547 gate: 0.057983025908470154\n",
      "[11/30] [8400/11532] loss: 0.00011408518912503496 gen: 8.334049198310822e-05 gate: 3.0744697141926736e-05\n",
      "[11/30] [8500/11532] loss: 0.0007794802659191191 gen: 0.000768141180742532 gate: 1.1339109732944053e-05\n",
      "[11/30] [8600/11532] loss: 0.0008024442940950394 gen: 0.000611530733294785 gate: 0.0001909135316964239\n",
      "[11/30] [8700/11532] loss: 0.12297157943248749 gen: 0.04839538782835007 gate: 0.07457619160413742\n",
      "[11/30] [8800/11532] loss: 0.011858251877129078 gen: 0.011529442854225636 gate: 0.0003288091975264251\n",
      "[11/30] [8900/11532] loss: 0.005897068418562412 gen: 0.005862814374268055 gate: 3.425420436542481e-05\n",
      "[11/30] [9000/11532] loss: 0.12450380623340607 gen: 0.0674826130270958 gate: 0.05702119320631027\n",
      "[11/30] [9100/11532] loss: 0.008121256716549397 gen: 0.008110781200230122 gate: 1.0475598173798062e-05\n",
      "[11/30] [9200/11532] loss: 0.010366455651819706 gen: 0.010350865311920643 gate: 1.559000156703405e-05\n",
      "[11/30] [9300/11532] loss: 0.017883067950606346 gen: 0.017866507172584534 gate: 1.6560601579840295e-05\n",
      "[11/30] [9400/11532] loss: 0.008017287589609623 gen: 0.008003869093954563 gate: 1.341821098321816e-05\n",
      "[11/30] [9500/11532] loss: 0.02394195646047592 gen: 0.023923447355628014 gate: 1.8509264918975532e-05\n",
      "[11/30] [9600/11532] loss: 0.021262958645820618 gen: 0.021243618801236153 gate: 1.933938983711414e-05\n",
      "[11/30] [9700/11532] loss: 0.028344199061393738 gen: 0.02832188457250595 gate: 2.2314889065455645e-05\n",
      "[11/30] [9800/11532] loss: 0.042097438126802444 gen: 0.0420275442302227 gate: 6.989225948927924e-05\n",
      "[11/30] [9900/11532] loss: 0.03732137754559517 gen: 0.03729736804962158 gate: 2.4010863853618503e-05\n",
      "[11/30] [10000/11532] loss: 0.0010309573262929916 gen: 0.0010086141992360353 gate: 2.234314706583973e-05\n",
      "[11/30] [10100/11532] loss: 0.01777302473783493 gen: 0.017762966454029083 gate: 1.0058932275569532e-05\n",
      "[11/30] [10200/11532] loss: 0.019549056887626648 gen: 0.019523775205016136 gate: 2.5282295609940775e-05\n",
      "[11/30] [10300/11532] loss: 4.192018604953773e-05 gen: 3.429259959375486e-05 gate: 7.627587365277577e-06\n",
      "[11/30] [10400/11532] loss: 0.00010437103628646582 gen: 6.731479516020045e-05 gate: 3.705623748828657e-05\n",
      "[11/30] [10500/11532] loss: 0.005682334303855896 gen: 0.005672143772244453 gate: 1.0190537068410777e-05\n",
      "[11/30] [10600/11532] loss: 0.012265481986105442 gen: 0.012248688377439976 gate: 1.6793304894235916e-05\n",
      "[11/30] [10700/11532] loss: 0.0001577857619849965 gen: 0.00014991809439379722 gate: 7.867663953220472e-06\n",
      "[11/30] [10800/11532] loss: 1.3943186786491424e-05 gen: 6.15373210166581e-06 gate: 7.789454684825614e-06\n",
      "[11/30] [10900/11532] loss: 0.00020812329603359103 gen: 0.0001501748338341713 gate: 5.794846947537735e-05\n",
      "[11/30] [11000/11532] loss: 0.0025504054501652718 gen: 0.0025103490334004164 gate: 4.005649680038914e-05\n",
      "[11/30] [11100/11532] loss: 0.0016190084861591458 gen: 0.0015957056311890483 gate: 2.3302893168875016e-05\n",
      "[11/30] [11200/11532] loss: 0.015462661162018776 gen: 0.015419742092490196 gate: 4.291897494113073e-05\n",
      "[11/30] [11300/11532] loss: 0.017890704795718193 gen: 0.011701405048370361 gate: 0.006189299281686544\n",
      "[11/30] [11400/11532] loss: 0.09065062552690506 gen: 0.07587368786334991 gate: 0.01477693673223257\n",
      "[11/30] [11500/11532] loss: 0.013601511716842651 gen: 0.013538614846765995 gate: 6.289668090175837e-05\n"
     ]
    },
    {
     "name": "stderr",
     "output_type": "stream",
     "text": [
      "100%|██████████| 640/640 [02:00<00:00,  5.33it/s]\n"
     ]
    },
    {
     "name": "stdout",
     "output_type": "stream",
     "text": [
      "{'joint_goal_accuracy': 0.7549824150058617, 'turn_slot_accuracy': 0.9921757631019116, 'turn_slot_f1': 0.9659891856309657}\n",
      "joint_goal_accuracy: 0.7549824150058617\n",
      "turn_slot_accuracy: 0.9921757631019116\n",
      "turn_slot_f1: 0.9659891856309657\n",
      "time for 1 epoch: 1972.5795938968658\n",
      "[12/30] [0/11532] loss: 0.0056601883843541145 gen: 0.005530955735594034 gate: 0.00012923266331199557\n",
      "[12/30] [100/11532] loss: 0.008746468462049961 gen: 0.008606940507888794 gate: 0.0001395275758113712\n",
      "[12/30] [200/11532] loss: 0.07519650459289551 gen: 0.012590725906193256 gate: 0.06260577589273453\n",
      "[12/30] [300/11532] loss: 0.002152983797714114 gen: 0.002116201678290963 gate: 3.678204302559607e-05\n",
      "[12/30] [400/11532] loss: 0.006280471105128527 gen: 0.006179462652653456 gate: 0.0001010083215078339\n",
      "[12/30] [500/11532] loss: 0.0004375980352051556 gen: 0.0004067017580382526 gate: 3.089627716690302e-05\n",
      "[12/30] [600/11532] loss: 0.002478567650541663 gen: 0.002454051049426198 gate: 2.451671207381878e-05\n",
      "[12/30] [700/11532] loss: 0.009654839523136616 gen: 0.009577128104865551 gate: 7.771157834213227e-05\n",
      "[12/30] [800/11532] loss: 0.008843154646456242 gen: 0.00874872226268053 gate: 9.443243470741436e-05\n",
      "[12/30] [900/11532] loss: 0.01774212345480919 gen: 0.017647262662649155 gate: 9.486125054536387e-05\n",
      "[12/30] [1000/11532] loss: 0.0038858093321323395 gen: 0.003812008071690798 gate: 7.380134047707543e-05\n",
      "[12/30] [1100/11532] loss: 0.05373922735452652 gen: 0.05362663045525551 gate: 0.00011259871098445728\n",
      "[12/30] [1200/11532] loss: 0.008276349864900112 gen: 0.008225387893617153 gate: 5.0961771194124594e-05\n",
      "[12/30] [1300/11532] loss: 0.001168849179521203 gen: 0.00045544153545051813 gate: 0.0007134076440706849\n",
      "[12/30] [1400/11532] loss: 0.015109928324818611 gen: 0.014969312585890293 gate: 0.00014061597175896168\n",
      "[12/30] [1500/11532] loss: 0.08351964503526688 gen: 0.041465260088443756 gate: 0.04205438494682312\n",
      "[12/30] [1600/11532] loss: 0.008983212523162365 gen: 0.008834339678287506 gate: 0.000148872408317402\n",
      "[12/30] [1700/11532] loss: 0.0005474715726450086 gen: 0.00021617361926473677 gate: 0.0003312979533802718\n",
      "[12/30] [1800/11532] loss: 0.012497746385633945 gen: 0.012325000949203968 gate: 0.00017274514539167285\n",
      "[12/30] [1900/11532] loss: 0.015788637101650238 gen: 0.015433971770107746 gate: 0.0003546660882420838\n",
      "[12/30] [2000/11532] loss: 0.021264757961034775 gen: 0.02100513130426407 gate: 0.00025962581275962293\n",
      "[12/30] [2100/11532] loss: 0.007369742728769779 gen: 0.007259673904627562 gate: 0.00011006888962583616\n",
      "[12/30] [2200/11532] loss: 0.0027461922727525234 gen: 0.002440154552459717 gate: 0.0003060377202928066\n",
      "[12/30] [2300/11532] loss: 0.006985818967223167 gen: 0.00691691180691123 gate: 6.890710210427642e-05\n",
      "[12/30] [2400/11532] loss: 0.0032463278621435165 gen: 0.003186117159202695 gate: 6.021066292305477e-05\n",
      "[12/30] [2500/11532] loss: 0.03455810993909836 gen: 0.005666276440024376 gate: 0.02889183536171913\n",
      "[12/30] [2600/11532] loss: 0.0013720373390242457 gen: 0.001258618081919849 gate: 0.00011341926438035443\n",
      "[12/30] [2700/11532] loss: 0.024253003299236298 gen: 0.02369435876607895 gate: 0.0005586454062722623\n",
      "[12/30] [2800/11532] loss: 0.05898677185177803 gen: 0.05873981863260269 gate: 0.0002469546452630311\n",
      "[12/30] [2900/11532] loss: 0.01810397580265999 gen: 0.006234797649085522 gate: 0.011869179084897041\n",
      "[12/30] [3000/11532] loss: 0.0032270289957523346 gen: 0.003165324218571186 gate: 6.170487904455513e-05\n",
      "[12/30] [3100/11532] loss: 0.0040527572855353355 gen: 0.003836970077827573 gate: 0.0002157872950192541\n",
      "[12/30] [3200/11532] loss: 0.0034062943886965513 gen: 0.0033564255572855473 gate: 4.986875501344912e-05\n",
      "[12/30] [3300/11532] loss: 0.008873661048710346 gen: 0.008010782301425934 gate: 0.000862878980115056\n",
      "[12/30] [3400/11532] loss: 0.006751211825758219 gen: 0.006687412969768047 gate: 6.379870319506153e-05\n",
      "[12/30] [3500/11532] loss: 0.04451805725693703 gen: 0.02935865893959999 gate: 0.01515939924865961\n",
      "[12/30] [3600/11532] loss: 0.1040106862783432 gen: 0.07031731307506561 gate: 0.033693376928567886\n",
      "[12/30] [3700/11532] loss: 0.033959563821554184 gen: 0.023991528898477554 gate: 0.00996803492307663\n",
      "[12/30] [3800/11532] loss: 0.01511067058891058 gen: 0.015052827075123787 gate: 5.784320819657296e-05\n",
      "[12/30] [3900/11532] loss: 0.006369784940034151 gen: 0.0062555428594350815 gate: 0.00011424224794609472\n",
      "[12/30] [4000/11532] loss: 0.015644675120711327 gen: 0.015611781738698483 gate: 3.289341111667454e-05\n",
      "[12/30] [4100/11532] loss: 0.01997465081512928 gen: 0.019906094297766685 gate: 6.855717219877988e-05\n",
      "[12/30] [4200/11532] loss: 0.022651096805930138 gen: 0.019175807014107704 gate: 0.0034752902574837208\n",
      "[12/30] [4300/11532] loss: 0.12146840989589691 gen: 0.06653112918138504 gate: 0.05493727698922157\n",
      "[12/30] [4400/11532] loss: 0.012677597813308239 gen: 0.01262070145457983 gate: 5.68959912925493e-05\n",
      "[12/30] [4500/11532] loss: 0.001098006614483893 gen: 0.0010439690668135881 gate: 5.403750401455909e-05\n",
      "[12/30] [4600/11532] loss: 0.012779265642166138 gen: 0.012252415530383587 gate: 0.0005268505774438381\n",
      "[12/30] [4700/11532] loss: 0.03561914712190628 gen: 0.026951055973768234 gate: 0.008668091148138046\n",
      "[12/30] [4800/11532] loss: 0.12625715136528015 gen: 0.041309598833322525 gate: 0.08494755625724792\n",
      "[12/30] [4900/11532] loss: 0.02921610325574875 gen: 0.02900812029838562 gate: 0.00020798212790396065\n",
      "[12/30] [5000/11532] loss: 9.988284728024155e-05 gen: 6.256645428948104e-05 gate: 3.73163893527817e-05\n",
      "[12/30] [5100/11532] loss: 1.2202960533613805e-05 gen: 1.7029206844654254e-07 gate: 1.2032668564643245e-05\n",
      "[12/30] [5200/11532] loss: 0.007950928062200546 gen: 0.006985599175095558 gate: 0.0009653292363509536\n",
      "[12/30] [5300/11532] loss: 9.856130054686219e-05 gen: 6.109735841164365e-05 gate: 3.746394577319734e-05\n",
      "[12/30] [5400/11532] loss: 0.005601543001830578 gen: 0.005557820200920105 gate: 4.37227135989815e-05\n",
      "[12/30] [5500/11532] loss: 0.07276356220245361 gen: 0.07269598543643951 gate: 6.757941446267068e-05\n",
      "[12/30] [5600/11532] loss: 0.0015833548968657851 gen: 0.001538522425107658 gate: 4.483247175812721e-05\n",
      "[12/30] [5700/11532] loss: 0.01477949507534504 gen: 0.014684601686894894 gate: 9.489375952398404e-05\n",
      "[12/30] [5800/11532] loss: 0.014789951965212822 gen: 0.014753064140677452 gate: 3.6887609894620255e-05\n",
      "[12/30] [5900/11532] loss: 0.002811521990224719 gen: 0.0027724604588001966 gate: 3.906156780431047e-05\n",
      "[12/30] [6000/11532] loss: 0.0030144110787659883 gen: 0.002996374387294054 gate: 1.8036724213743582e-05\n",
      "[12/30] [6100/11532] loss: 0.02433978021144867 gen: 0.024316992610692978 gate: 2.2787742636865005e-05\n",
      "[12/30] [6200/11532] loss: 9.54810093389824e-05 gen: 6.374836812028661e-05 gate: 3.173263758071698e-05\n",
      "[12/30] [6300/11532] loss: 0.00620658602565527 gen: 0.006168188992887735 gate: 3.839716737275012e-05\n",
      "[12/30] [6400/11532] loss: 0.016137735918164253 gen: 0.015874868258833885 gate: 0.00026286812499165535\n",
      "[12/30] [6500/11532] loss: 0.06861834973096848 gen: 0.030581990256905556 gate: 0.03803635761141777\n",
      "[12/30] [6600/11532] loss: 0.03506457433104515 gen: 0.033102672547101974 gate: 0.0019619001541286707\n",
      "[12/30] [6700/11532] loss: 0.009280828759074211 gen: 0.009213821031153202 gate: 6.700768426526338e-05\n",
      "[12/30] [6800/11532] loss: 0.00867471657693386 gen: 0.008638361468911171 gate: 3.635534812929109e-05\n",
      "[12/30] [6900/11532] loss: 0.00044538447400555015 gen: 0.000421997596276924 gate: 2.338688136660494e-05\n",
      "[12/30] [7000/11532] loss: 0.015786394476890564 gen: 0.01563742198050022 gate: 0.00014897248183842748\n",
      "[12/30] [7100/11532] loss: 0.0022153949830681086 gen: 0.0021428328473120928 gate: 7.256223761942238e-05\n",
      "[12/30] [7200/11532] loss: 0.0334591381251812 gen: 0.010343675501644611 gate: 0.02311546355485916\n",
      "[12/30] [7300/11532] loss: 0.011275073513388634 gen: 0.011152437888085842 gate: 0.00012263534881640226\n",
      "[12/30] [7400/11532] loss: 0.00028728635516017675 gen: 0.0002007198054343462 gate: 8.656655700178817e-05\n",
      "[12/30] [7500/11532] loss: 0.018024099990725517 gen: 0.01766493357717991 gate: 0.0003591658896766603\n",
      "[12/30] [7600/11532] loss: 0.010953177697956562 gen: 0.010903489775955677 gate: 4.968782013747841e-05\n",
      "[12/30] [7700/11532] loss: 0.012140975333750248 gen: 0.01211840845644474 gate: 2.256652805954218e-05\n",
      "[12/30] [7800/11532] loss: 0.018544547259807587 gen: 0.018451141193509102 gate: 9.340689575765282e-05\n",
      "[12/30] [7900/11532] loss: 0.0003394740051589906 gen: 0.00019184418488293886 gate: 0.000147629834827967\n",
      "[12/30] [8000/11532] loss: 0.013859483413398266 gen: 0.013820530846714973 gate: 3.895296686096117e-05\n",
      "[12/30] [8100/11532] loss: 0.09322434663772583 gen: 0.03546442836523056 gate: 0.05775991454720497\n",
      "[12/30] [8200/11532] loss: 0.05451008677482605 gen: 0.01692393608391285 gate: 0.03758615255355835\n",
      "[12/30] [8300/11532] loss: 0.03530118614435196 gen: 0.005097664892673492 gate: 0.030203523114323616\n",
      "[12/30] [8400/11532] loss: 0.03909170255064964 gen: 0.02269376628100872 gate: 0.016397936269640923\n",
      "[12/30] [8500/11532] loss: 0.025109313428401947 gen: 0.025073383003473282 gate: 3.592972279875539e-05\n",
      "[12/30] [8600/11532] loss: 0.11083334684371948 gen: 0.07742204517126083 gate: 0.03341130539774895\n",
      "[12/30] [8700/11532] loss: 0.08560189604759216 gen: 0.06472988426685333 gate: 0.020872008055448532\n",
      "[12/30] [8800/11532] loss: 0.0028269782196730375 gen: 0.002774322172626853 gate: 5.265595973469317e-05\n",
      "[12/30] [8900/11532] loss: 0.00027527264319360256 gen: 0.00020687964570242912 gate: 6.839300476713106e-05\n",
      "[12/30] [9000/11532] loss: 0.008061314933001995 gen: 0.00802789255976677 gate: 3.342225681990385e-05\n",
      "[12/30] [9100/11532] loss: 6.372959614964202e-05 gen: 4.664089283323847e-05 gate: 1.7088705135392956e-05\n",
      "[12/30] [9200/11532] loss: 0.005293463822454214 gen: 0.00527195306494832 gate: 2.151086664525792e-05\n",
      "[12/30] [9300/11532] loss: 0.00012388256436679512 gen: 0.00010486085375305265 gate: 1.9021706975763664e-05\n",
      "[12/30] [9400/11532] loss: 0.00010126165580004454 gen: 7.166147406678647e-05 gate: 2.960018173325807e-05\n",
      "[12/30] [9500/11532] loss: 0.010037611238658428 gen: 0.010018839500844479 gate: 1.877195609267801e-05\n",
      "[12/30] [9600/11532] loss: 0.03845907002687454 gen: 0.03841029852628708 gate: 4.877108585787937e-05\n",
      "[12/30] [9700/11532] loss: 0.1556464284658432 gen: 0.13427262008190155 gate: 0.02137380838394165\n",
      "[12/30] [9800/11532] loss: 0.009269863367080688 gen: 0.009152674116194248 gate: 0.0001171894182334654\n",
      "[12/30] [9900/11532] loss: 0.0027953318785876036 gen: 0.0027602529153227806 gate: 3.507897781673819e-05\n",
      "[12/30] [10000/11532] loss: 0.00013333247625268996 gen: 0.0001085830299416557 gate: 2.4749451768002473e-05\n",
      "[12/30] [10100/11532] loss: 2.572673838585615e-05 gen: 9.1639531092369e-06 gate: 1.656278436712455e-05\n",
      "[12/30] [10200/11532] loss: 0.010444779880344868 gen: 0.010360884480178356 gate: 8.389533468289301e-05\n",
      "[12/30] [10300/11532] loss: 0.00011516750964801759 gen: 6.636699254158884e-05 gate: 4.880051710642874e-05\n",
      "[12/30] [10400/11532] loss: 0.007022778503596783 gen: 0.00685926852747798 gate: 0.0001635099615668878\n",
      "[12/30] [10500/11532] loss: 0.00769146578386426 gen: 0.0076506794430315495 gate: 4.0786468161968514e-05\n",
      "[12/30] [10600/11532] loss: 0.013853702694177628 gen: 0.0138305788859725 gate: 2.3124151994124986e-05\n",
      "[12/30] [10700/11532] loss: 0.010447422973811626 gen: 0.010400235652923584 gate: 4.7187579184537753e-05\n",
      "[12/30] [10800/11532] loss: 0.014032632112503052 gen: 0.004987723659723997 gate: 0.009044907987117767\n",
      "[12/30] [10900/11532] loss: 0.006911364383995533 gen: 0.003449384355917573 gate: 0.0034619797952473164\n",
      "[12/30] [11000/11532] loss: 0.012128806672990322 gen: 0.011793440207839012 gate: 0.00033536614500917494\n",
      "[12/30] [11100/11532] loss: 0.016758792102336884 gen: 0.016716882586479187 gate: 4.191027255728841e-05\n",
      "[12/30] [11200/11532] loss: 0.0034040131140500307 gen: 0.003362092887982726 gate: 4.192014966974966e-05\n",
      "[12/30] [11300/11532] loss: 0.009087552316486835 gen: 0.009065556339919567 gate: 2.1995907445671037e-05\n",
      "[12/30] [11400/11532] loss: 0.0034842633176594973 gen: 0.0034497210290282965 gate: 3.454240140854381e-05\n",
      "[12/30] [11500/11532] loss: 0.0085432268679142 gen: 0.008521834388375282 gate: 2.139205753337592e-05\n"
     ]
    },
    {
     "name": "stderr",
     "output_type": "stream",
     "text": [
      "100%|██████████| 640/640 [02:08<00:00,  4.99it/s]\n"
     ]
    },
    {
     "name": "stdout",
     "output_type": "stream",
     "text": [
      "{'joint_goal_accuracy': 0.7817506838608832, 'turn_slot_accuracy': 0.9929616603708086, 'turn_slot_f1': 0.969484086548804}\n",
      "joint_goal_accuracy: 0.7817506838608832\n",
      "turn_slot_accuracy: 0.9929616603708086\n",
      "turn_slot_f1: 0.969484086548804\n",
      "'--Update Best checkpoint!, epoch: 13'\n",
      "--Saving best model checkpoint\n",
      "time for 1 epoch: 1989.906635761261\n",
      "[13/30] [0/11532] loss: 0.00028258844395168126 gen: 0.0002656223368830979 gate: 1.6966105249593966e-05\n",
      "[13/30] [100/11532] loss: 0.022801868617534637 gen: 0.013682534918189049 gate: 0.009119332768023014\n",
      "[13/30] [200/11532] loss: 0.0063471863977611065 gen: 0.006316629704087973 gate: 3.0556599085684866e-05\n",
      "[13/30] [300/11532] loss: 0.0002373235474806279 gen: 0.0002129882195731625 gate: 2.4335322450497188e-05\n",
      "[13/30] [400/11532] loss: 0.024991385638713837 gen: 0.024965688586235046 gate: 2.5696372176753357e-05\n",
      "[13/30] [500/11532] loss: 0.01323141623288393 gen: 0.013122064992785454 gate: 0.00010935126192634925\n",
      "[13/30] [600/11532] loss: 0.002837582491338253 gen: 0.0027904559392482042 gate: 4.712650115834549e-05\n",
      "[13/30] [700/11532] loss: 0.0025048551615327597 gen: 0.0024321149103343487 gate: 7.274032395798713e-05\n",
      "[13/30] [800/11532] loss: 0.01246422529220581 gen: 0.01245398074388504 gate: 1.0244885743304621e-05\n",
      "[13/30] [900/11532] loss: 0.009424054995179176 gen: 0.009296093136072159 gate: 0.00012796145165339112\n",
      "[13/30] [1000/11532] loss: 0.10371485352516174 gen: 0.03825384005904198 gate: 0.06546100974082947\n",
      "[13/30] [1100/11532] loss: 0.007584110368043184 gen: 0.0074832565151154995 gate: 0.00010085372923640534\n",
      "[13/30] [1200/11532] loss: 0.00014251521497499198 gen: 0.00011741001799236983 gate: 2.5105196982622147e-05\n",
      "[13/30] [1300/11532] loss: 0.011496547609567642 gen: 0.011028649285435677 gate: 0.00046789823682047427\n",
      "[13/30] [1400/11532] loss: 0.0010303542949259281 gen: 0.0010125435655936599 gate: 1.7810680219554342e-05\n",
      "[13/30] [1500/11532] loss: 0.004436795599758625 gen: 0.004422231111675501 gate: 1.4564387129212264e-05\n",
      "[13/30] [1600/11532] loss: 0.025002967566251755 gen: 0.018437225371599197 gate: 0.00656574172899127\n",
      "[13/30] [1700/11532] loss: 0.03827493265271187 gen: 0.03820260986685753 gate: 7.23244811524637e-05\n",
      "[13/30] [1800/11532] loss: 0.029130462557077408 gen: 0.012683453969657421 gate: 0.01644700951874256\n",
      "[13/30] [1900/11532] loss: 0.02053641527891159 gen: 0.02050461620092392 gate: 3.1798721465747803e-05\n",
      "[13/30] [2000/11532] loss: 0.0016244094585999846 gen: 0.001600267831236124 gate: 2.4141596441040747e-05\n",
      "[13/30] [2100/11532] loss: 0.06798174977302551 gen: 0.035606831312179565 gate: 0.03237491473555565\n",
      "[13/30] [2200/11532] loss: 0.00013746708282269537 gen: 0.00010661069245543331 gate: 3.085639400524087e-05\n",
      "[13/30] [2300/11532] loss: 0.007048811297863722 gen: 0.006170296110212803 gate: 0.000878515187650919\n",
      "[13/30] [2400/11532] loss: 0.010407435707747936 gen: 0.010303818620741367 gate: 0.00010361689783167094\n",
      "[13/30] [2500/11532] loss: 0.0004433860594872385 gen: 0.00043114900472573936 gate: 1.223705112352036e-05\n",
      "[13/30] [2600/11532] loss: 0.014060868881642818 gen: 0.01402368675917387 gate: 3.718204243341461e-05\n",
      "[13/30] [2700/11532] loss: 0.02067973092198372 gen: 0.020452525466680527 gate: 0.00022720490233041346\n",
      "[13/30] [2800/11532] loss: 0.009735062718391418 gen: 0.009710497222840786 gate: 2.4565904823248275e-05\n",
      "[13/30] [2900/11532] loss: 0.00032038631616160274 gen: 0.0002877971564885229 gate: 3.258917058701627e-05\n",
      "[13/30] [3000/11532] loss: 0.0064723677933216095 gen: 0.006423350889235735 gate: 4.901703869109042e-05\n",
      "[13/30] [3100/11532] loss: 0.006607871036976576 gen: 0.006600838620215654 gate: 7.032483154034708e-06\n",
      "[13/30] [3200/11532] loss: 0.003060124348849058 gen: 0.0030478977132588625 gate: 1.2226653780089691e-05\n",
      "[13/30] [3300/11532] loss: 6.354737706715241e-05 gen: 5.27710908500012e-05 gate: 1.0776283488667104e-05\n",
      "[13/30] [3400/11532] loss: 0.0003936658031307161 gen: 0.00038358618621714413 gate: 1.0079628737003077e-05\n",
      "[13/30] [3500/11532] loss: 0.007813184522092342 gen: 0.007791103329509497 gate: 2.2081505449023098e-05\n",
      "[13/30] [3600/11532] loss: 0.08140157163143158 gen: 0.048707470297813416 gate: 0.03269410505890846\n",
      "[13/30] [3700/11532] loss: 0.0065888939425349236 gen: 0.006570575758814812 gate: 1.8318147340323776e-05\n",
      "[13/30] [3800/11532] loss: 0.0002728253311943263 gen: 0.00022160141088534147 gate: 5.1223909395048395e-05\n",
      "[13/30] [3900/11532] loss: 0.013918083161115646 gen: 0.013901658356189728 gate: 1.6424832210759632e-05\n",
      "[13/30] [4000/11532] loss: 0.005992278456687927 gen: 0.005986005999147892 gate: 6.272277914831648e-06\n",
      "[13/30] [4100/11532] loss: 5.67565111850854e-05 gen: 5.2835242968285456e-05 gate: 3.921267307305243e-06\n",
      "[13/30] [4200/11532] loss: 0.011420780792832375 gen: 0.011177334934473038 gate: 0.0002434462367091328\n",
      "[13/30] [4300/11532] loss: 0.007498563267290592 gen: 0.007486040238291025 gate: 1.2522983524831943e-05\n",
      "[13/30] [4400/11532] loss: 0.020408743992447853 gen: 0.020389994606375694 gate: 1.874924055300653e-05\n",
      "[13/30] [4500/11532] loss: 0.03008984960615635 gen: 0.030081002041697502 gate: 8.848361176205799e-06\n",
      "[13/30] [4600/11532] loss: 0.00277623045258224 gen: 0.002763441065326333 gate: 1.2789489119313657e-05\n",
      "[13/30] [4700/11532] loss: 0.00851692259311676 gen: 0.00501501839607954 gate: 0.0035019039642065763\n",
      "[13/30] [4800/11532] loss: 0.015525763854384422 gen: 0.015506531111896038 gate: 1.923276431625709e-05\n",
      "[13/30] [4900/11532] loss: 0.015005018562078476 gen: 0.014916473999619484 gate: 8.854432235239074e-05\n",
      "[13/30] [5000/11532] loss: 0.008472127839922905 gen: 0.008449762128293514 gate: 2.2365460608853027e-05\n",
      "[13/30] [5100/11532] loss: 0.00020100422261748463 gen: 0.0001547620486235246 gate: 4.624217763193883e-05\n",
      "[13/30] [5200/11532] loss: 0.0059709264896810055 gen: 0.0059255692176520824 gate: 4.535716288955882e-05\n",
      "[13/30] [5300/11532] loss: 0.022629229351878166 gen: 0.021985573694109917 gate: 0.0006436563562601805\n",
      "[13/30] [5400/11532] loss: 6.496715650428087e-05 gen: 5.092587161925621e-05 gate: 1.4041283066035248e-05\n",
      "[13/30] [5500/11532] loss: 0.00800182856619358 gen: 0.007936066947877407 gate: 6.576166197191924e-05\n",
      "[13/30] [5600/11532] loss: 0.0001834006980061531 gen: 0.00017239748558495194 gate: 1.1003210602211766e-05\n",
      "[13/30] [5700/11532] loss: 0.012416793033480644 gen: 0.011734768748283386 gate: 0.0006820239941589534\n",
      "[13/30] [5800/11532] loss: 0.0020136553794145584 gen: 0.0020040273666381836 gate: 9.62795820669271e-06\n",
      "[13/30] [5900/11532] loss: 0.00014292114065028727 gen: 0.00012803370191249996 gate: 1.488744055677671e-05\n",
      "[13/30] [6000/11532] loss: 0.0003852095396723598 gen: 0.0002619506267365068 gate: 0.000123258912935853\n",
      "[13/30] [6100/11532] loss: 0.022850612178444862 gen: 0.018144624307751656 gate: 0.004705987870693207\n",
      "[13/30] [6200/11532] loss: 0.12887850403785706 gen: 0.04610898345708847 gate: 0.08276952803134918\n",
      "[13/30] [6300/11532] loss: 7.007309613982216e-05 gen: 6.205084355315194e-05 gate: 8.022251677175518e-06\n",
      "[13/30] [6400/11532] loss: 0.08116790652275085 gen: 0.07456516474485397 gate: 0.006602742709219456\n",
      "[13/30] [6500/11532] loss: 0.001644700183533132 gen: 0.001606876845471561 gate: 3.782335261348635e-05\n",
      "[13/30] [6600/11532] loss: 0.016642741858959198 gen: 0.016613753512501717 gate: 2.8987511541345157e-05\n",
      "[13/30] [6700/11532] loss: 0.044058363884687424 gen: 0.026594461873173714 gate: 0.01746390201151371\n",
      "[13/30] [6800/11532] loss: 0.00813502911478281 gen: 0.00806595291942358 gate: 6.907602801220492e-05\n",
      "[13/30] [6900/11532] loss: 0.06670805811882019 gen: 0.023797616362571716 gate: 0.04291044548153877\n",
      "[13/30] [7000/11532] loss: 0.02486349828541279 gen: 0.02485102228820324 gate: 1.2476430129026994e-05\n",
      "[13/30] [7100/11532] loss: 6.870459765195847e-05 gen: 5.6905188102973625e-05 gate: 1.1799405911006033e-05\n",
      "[13/30] [7200/11532] loss: 0.0010903567308560014 gen: 0.0010813843691721559 gate: 8.972335308499169e-06\n",
      "[13/30] [7300/11532] loss: 0.07424032688140869 gen: 0.024458251893520355 gate: 0.049782074987888336\n",
      "[13/30] [7400/11532] loss: 0.013121495954692364 gen: 0.013103804551064968 gate: 1.7691707398626022e-05\n",
      "[13/30] [7500/11532] loss: 0.043666403740644455 gen: 0.04319804906845093 gate: 0.0004683553415816277\n",
      "[13/30] [7600/11532] loss: 0.005890475586056709 gen: 0.005855397786945105 gate: 3.5077955544693395e-05\n",
      "[13/30] [7700/11532] loss: 0.006650098599493504 gen: 0.0066377101466059685 gate: 1.2388261893647723e-05\n",
      "[13/30] [7800/11532] loss: 0.00800300668925047 gen: 0.007986797951161861 gate: 1.6208683518925682e-05\n",
      "[13/30] [7900/11532] loss: 0.04006502032279968 gen: 0.008255104534327984 gate: 0.031809914857149124\n",
      "[13/30] [8000/11532] loss: 0.00186641002073884 gen: 0.001845089951530099 gate: 2.1320123778423294e-05\n",
      "[13/30] [8100/11532] loss: 0.008818031288683414 gen: 0.008790014311671257 gate: 2.8016733267577365e-05\n",
      "[13/30] [8200/11532] loss: 0.009020877070724964 gen: 0.008924195542931557 gate: 9.668165148468688e-05\n",
      "[13/30] [8300/11532] loss: 0.01339433342218399 gen: 0.013377470895648003 gate: 1.6862752090673894e-05\n",
      "[13/30] [8400/11532] loss: 0.00016506602696608752 gen: 0.00013569525617640465 gate: 2.937076897069346e-05\n",
      "[13/30] [8500/11532] loss: 0.0052916728891432285 gen: 0.005277370102703571 gate: 1.4302755516837351e-05\n",
      "[13/30] [8600/11532] loss: 0.03698750585317612 gen: 0.03659626841545105 gate: 0.0003912367392331362\n",
      "[13/30] [8700/11532] loss: 0.00885140523314476 gen: 0.008813762106001377 gate: 3.764274879358709e-05\n",
      "[13/30] [8800/11532] loss: 0.004903457127511501 gen: 0.0048902896232903 gate: 1.3167580618755892e-05\n",
      "[13/30] [8900/11532] loss: 0.0002695492876227945 gen: 0.0002569623466115445 gate: 1.2586928278324194e-05\n",
      "[13/30] [9000/11532] loss: 0.009961068630218506 gen: 0.009938056580722332 gate: 2.301211679878179e-05\n",
      "[13/30] [9100/11532] loss: 0.007340335287153721 gen: 0.007266550324857235 gate: 7.378515147138387e-05\n",
      "[13/30] [9200/11532] loss: 0.0002894327335525304 gen: 0.00026355477166362107 gate: 2.587797280284576e-05\n",
      "[13/30] [9300/11532] loss: 1.7794665836845525e-05 gen: 8.08304230304202e-06 gate: 9.711623533803504e-06\n",
      "[13/30] [9400/11532] loss: 0.007704187650233507 gen: 0.007683992385864258 gate: 2.0195127945044078e-05\n",
      "[13/30] [9500/11532] loss: 0.00040669177542440593 gen: 0.0003864297177642584 gate: 2.026206857408397e-05\n",
      "[13/30] [9600/11532] loss: 0.0027115587145090103 gen: 0.0026949685998260975 gate: 1.659000918152742e-05\n",
      "[13/30] [9700/11532] loss: 0.07491807639598846 gen: 0.038098204880952835 gate: 0.03681987524032593\n",
      "[13/30] [9800/11532] loss: 0.004250972997397184 gen: 0.004240815527737141 gate: 1.0157265023735818e-05\n",
      "[13/30] [9900/11532] loss: 0.00020165446039754897 gen: 0.0001950254081748426 gate: 6.629057224927237e-06\n",
      "[13/30] [10000/11532] loss: 0.005424793343991041 gen: 0.005404972936958075 gate: 1.9820301531581208e-05\n",
      "[13/30] [10100/11532] loss: 0.01636047661304474 gen: 0.016329610720276833 gate: 3.0865874578012154e-05\n",
      "[13/30] [10200/11532] loss: 5.40222754352726e-06 gen: 2.496843990229536e-06 gate: 2.9053835532977246e-06\n",
      "[13/30] [10300/11532] loss: 0.01602586917579174 gen: 0.015927553176879883 gate: 9.831634815782309e-05\n",
      "[13/30] [10400/11532] loss: 0.0001488681009504944 gen: 0.0001388457021676004 gate: 1.0022402420872822e-05\n",
      "[13/30] [10500/11532] loss: 0.00020798557670786977 gen: 0.0001772328105289489 gate: 3.075276981689967e-05\n",
      "[13/30] [10600/11532] loss: 0.00012769567547366023 gen: 0.00010254800145048648 gate: 2.5147675842163153e-05\n",
      "[13/30] [10700/11532] loss: 0.0029830161947757006 gen: 0.0026797670871019363 gate: 0.0003032491949852556\n",
      "[13/30] [10800/11532] loss: 0.0067903827875852585 gen: 0.0067585064098238945 gate: 3.187659604009241e-05\n",
      "[13/30] [10900/11532] loss: 0.013694992288947105 gen: 0.013679337687790394 gate: 1.565436650707852e-05\n",
      "[13/30] [11000/11532] loss: 0.001970903715118766 gen: 0.0019483944633975625 gate: 2.2509137124870904e-05\n",
      "[13/30] [11100/11532] loss: 0.001143036992289126 gen: 0.0011358606861904263 gate: 7.176317012635991e-06\n",
      "[13/30] [11200/11532] loss: 0.03970128297805786 gen: 0.021518690511584282 gate: 0.01818259246647358\n",
      "[13/30] [11300/11532] loss: 0.0004968895809724927 gen: 0.0004886093665845692 gate: 8.280201654997654e-06\n",
      "[13/30] [11400/11532] loss: 0.015489013865590096 gen: 0.015462127514183521 gate: 2.6886389605351724e-05\n",
      "[13/30] [11500/11532] loss: 0.00473397970199585 gen: 0.0047295307740569115 gate: 4.449130301509285e-06\n"
     ]
    },
    {
     "name": "stderr",
     "output_type": "stream",
     "text": [
      "100%|██████████| 640/640 [01:59<00:00,  5.38it/s]\n"
     ]
    },
    {
     "name": "stdout",
     "output_type": "stream",
     "text": [
      "{'joint_goal_accuracy': 0.780969128565846, 'turn_slot_accuracy': 0.9930181060310056, 'turn_slot_f1': 0.9695407043832462}\n",
      "joint_goal_accuracy: 0.780969128565846\n",
      "turn_slot_accuracy: 0.9930181060310056\n",
      "turn_slot_f1: 0.9695407043832462\n",
      "time for 1 epoch: 1988.9818758964539\n",
      "[14/30] [0/11532] loss: 0.005322791635990143 gen: 0.005307556129992008 gate: 1.5235423234116752e-05\n",
      "[14/30] [100/11532] loss: 0.10342341661453247 gen: 0.05519573390483856 gate: 0.04822768270969391\n",
      "[14/30] [200/11532] loss: 0.008139114826917648 gen: 0.008130906149744987 gate: 8.209026418626308e-06\n",
      "[14/30] [300/11532] loss: 0.030233271420001984 gen: 0.030150294303894043 gate: 8.297725435113534e-05\n",
      "[14/30] [400/11532] loss: 0.007879591546952724 gen: 0.007856134325265884 gate: 2.3456821509171277e-05\n",
      "[14/30] [500/11532] loss: 0.0019798539578914642 gen: 0.001967934425920248 gate: 1.1919555618078448e-05\n",
      "[14/30] [600/11532] loss: 0.0035060844384133816 gen: 0.003485727356746793 gate: 2.0357112589408644e-05\n",
      "[14/30] [700/11532] loss: 0.0030982629396021366 gen: 0.0030329397413879633 gate: 6.532330735353753e-05\n",
      "[14/30] [800/11532] loss: 0.006364230066537857 gen: 0.006351646967232227 gate: 1.2582912859215867e-05\n",
      "[14/30] [900/11532] loss: 0.005143603775650263 gen: 0.005124557297676802 gate: 1.9046659872401506e-05\n",
      "[14/30] [1000/11532] loss: 0.024600353091955185 gen: 0.02456481009721756 gate: 3.554235081537627e-05\n",
      "[14/30] [1100/11532] loss: 0.0194697342813015 gen: 0.01943550631403923 gate: 3.422866211622022e-05\n",
      "[14/30] [1200/11532] loss: 0.011458851397037506 gen: 0.011440961621701717 gate: 1.7889498849399388e-05\n",
      "[14/30] [1300/11532] loss: 0.001291234279051423 gen: 0.001284850062802434 gate: 6.38416213405435e-06\n",
      "[14/30] [1400/11532] loss: 1.913203959702514e-06 gen: -4.161050128459465e-06 gate: 6.074254088161979e-06\n",
      "[14/30] [1500/11532] loss: 0.00016310320643242449 gen: 0.00015385168080683798 gate: 9.251520168618299e-06\n",
      "[14/30] [1600/11532] loss: 0.07820510864257812 gen: 0.029731232672929764 gate: 0.04847387596964836\n",
      "[14/30] [1700/11532] loss: 0.012572355568408966 gen: 0.012547395192086697 gate: 2.49600998358801e-05\n",
      "[14/30] [1800/11532] loss: 0.03832258656620979 gen: 0.037937454879283905 gate: 0.0003851317160297185\n",
      "[14/30] [1900/11532] loss: 0.08550659567117691 gen: 0.044684335589408875 gate: 0.040822260081768036\n",
      "[14/30] [2000/11532] loss: 0.0017530539771541953 gen: 0.0017113616922870278 gate: 4.1692332160891965e-05\n",
      "[14/30] [2100/11532] loss: 0.005369699094444513 gen: 0.005360426846891642 gate: 9.272166607843246e-06\n",
      "[14/30] [2200/11532] loss: 0.01211270410567522 gen: 0.01209425088018179 gate: 1.8453421944286674e-05\n",
      "[14/30] [2300/11532] loss: 0.0009504386689513922 gen: 0.0009434670209884644 gate: 6.971649327169871e-06\n",
      "[14/30] [2400/11532] loss: 0.005192340351641178 gen: 0.00517658144235611 gate: 1.5758896552142687e-05\n",
      "[14/30] [2500/11532] loss: 0.01026354730129242 gen: 0.010238222777843475 gate: 2.532443613745272e-05\n",
      "[14/30] [2600/11532] loss: 0.002660571364685893 gen: 0.0026569527108222246 gate: 3.6186379475111607e-06\n",
      "[14/30] [2700/11532] loss: 0.030817927792668343 gen: 0.030755892395973206 gate: 6.20352293481119e-05\n",
      "[14/30] [2800/11532] loss: 0.013189536519348621 gen: 0.013159239664673805 gate: 3.0297196644823998e-05\n",
      "[14/30] [2900/11532] loss: 0.0007191022741608322 gen: 0.0006978337187319994 gate: 2.126854087691754e-05\n",
      "[14/30] [3000/11532] loss: 0.008595412597060204 gen: 0.00858229212462902 gate: 1.3120355106366333e-05\n",
      "[14/30] [3100/11532] loss: 0.016839880496263504 gen: 0.016774164512753487 gate: 6.571649282705039e-05\n",
      "[14/30] [3200/11532] loss: 0.005826884415000677 gen: 0.005812156014144421 gate: 1.472855183237698e-05\n",
      "[14/30] [3300/11532] loss: 0.0036414002534002066 gen: 0.0036025126464664936 gate: 3.888765786541626e-05\n",
      "[14/30] [3400/11532] loss: 6.440776360250311e-06 gen: 8.824225687931175e-07 gate: 5.558353677770356e-06\n",
      "[14/30] [3500/11532] loss: 0.0002852401230484247 gen: 0.00027327853604219854 gate: 1.196160155814141e-05\n",
      "[14/30] [3600/11532] loss: 0.000992093700915575 gen: 0.0009760590619407594 gate: 1.603464625077322e-05\n",
      "[14/30] [3700/11532] loss: 0.009551014751195908 gen: 0.008219726383686066 gate: 0.001331288367509842\n",
      "[14/30] [3800/11532] loss: 0.004054543096572161 gen: 0.004040118772536516 gate: 1.4424406799662393e-05\n",
      "[14/30] [3900/11532] loss: 0.0116117550060153 gen: 0.011602282524108887 gate: 9.472118108533323e-06\n",
      "[14/30] [4000/11532] loss: 0.0008522734278813004 gen: 0.0008384020184166729 gate: 1.3871391274733469e-05\n",
      "[14/30] [4100/11532] loss: 0.007281593047082424 gen: 0.007274359930306673 gate: 7.233206815726589e-06\n",
      "[14/30] [4200/11532] loss: 0.003220241516828537 gen: 0.0032116377260535955 gate: 8.60386535350699e-06\n",
      "[14/30] [4300/11532] loss: 0.012900561094284058 gen: 0.01288047805428505 gate: 2.0082828996237367e-05\n",
      "[14/30] [4400/11532] loss: 0.008316516876220703 gen: 0.007918384857475758 gate: 0.0003981321642640978\n",
      "[14/30] [4500/11532] loss: 0.00033005731529556215 gen: 0.0003212877782061696 gate: 8.769533451413736e-06\n",
      "[14/30] [4600/11532] loss: 0.0011306904489174485 gen: 0.0011160357389599085 gate: 1.4654654478363227e-05\n",
      "[14/30] [4700/11532] loss: 0.0010996811324730515 gen: 0.0010744868777692318 gate: 2.5194267436745577e-05\n",
      "[14/30] [4800/11532] loss: 0.00043669837759807706 gen: 0.0003937221772503108 gate: 4.297618943382986e-05\n",
      "[14/30] [4900/11532] loss: 0.03131263703107834 gen: 0.022176465019583702 gate: 0.009136173874139786\n",
      "[14/30] [5000/11532] loss: 2.1461866708705202e-05 gen: 1.9856624930980615e-06 gate: 1.9476205125101842e-05\n",
      "[14/30] [5100/11532] loss: 0.01855078712105751 gen: 0.016577212139964104 gate: 0.001973574748262763\n",
      "[14/30] [5200/11532] loss: 4.383442137623206e-05 gen: 3.774755168706179e-05 gate: 6.086868779675569e-06\n",
      "[14/30] [5300/11532] loss: 6.32256269454956e-05 gen: 4.434060610947199e-05 gate: 1.8885020836023614e-05\n",
      "[14/30] [5400/11532] loss: 0.02854541502892971 gen: 0.028530122712254524 gate: 1.529307701275684e-05\n",
      "[14/30] [5500/11532] loss: 6.684945401502773e-05 gen: 6.003076123306528e-05 gate: 6.818694600951858e-06\n",
      "[14/30] [5600/11532] loss: 9.011498332256451e-05 gen: 8.13036531326361e-05 gate: 8.811330189928412e-06\n",
      "[14/30] [5700/11532] loss: 0.00022914614237379283 gen: 0.00019000603060703725 gate: 3.9140108128776774e-05\n",
      "[14/30] [5800/11532] loss: 0.005551950074732304 gen: 0.005536360666155815 gate: 1.5589399481541477e-05\n",
      "[14/30] [5900/11532] loss: 0.015621231868863106 gen: 0.015597059391438961 gate: 2.4172801204258576e-05\n",
      "[14/30] [6000/11532] loss: 0.07672461867332458 gen: 0.03100028820335865 gate: 0.045724328607320786\n",
      "[14/30] [6100/11532] loss: 0.005018751136958599 gen: 0.0050084562972188 gate: 1.0294912499375641e-05\n",
      "[14/30] [6200/11532] loss: 0.02264920063316822 gen: 0.02261732891201973 gate: 3.187109905411489e-05\n",
      "[14/30] [6300/11532] loss: 0.07060655951499939 gen: 0.042279068380594254 gate: 0.028327491134405136\n",
      "[14/30] [6400/11532] loss: 0.01575218327343464 gen: 0.015746895223855972 gate: 5.287475687509868e-06\n",
      "[14/30] [6500/11532] loss: 0.005314979236572981 gen: 0.005262430757284164 gate: 5.254856660030782e-05\n",
      "[14/30] [6600/11532] loss: 0.04955928772687912 gen: 0.025745363906025887 gate: 0.023813925683498383\n",
      "[14/30] [6700/11532] loss: 0.0001322162279393524 gen: 0.00012451996735762805 gate: 7.696256034250837e-06\n",
      "[14/30] [6800/11532] loss: 0.006139704491943121 gen: 0.0061171832494437695 gate: 2.2521255232277326e-05\n",
      "[14/30] [6900/11532] loss: 0.007831735536456108 gen: 0.004410979803651571 gate: 0.003420755499973893\n",
      "[14/30] [7000/11532] loss: 0.0645679384469986 gen: 0.044158827513456345 gate: 0.020409107208251953\n",
      "[14/30] [7100/11532] loss: 0.001275741495192051 gen: 0.0011774444719776511 gate: 9.829700866248459e-05\n",
      "[14/30] [7200/11532] loss: 0.005052164662629366 gen: 0.005011819303035736 gate: 4.0345199522562325e-05\n",
      "[14/30] [7300/11532] loss: 0.00022528729459736496 gen: 0.00021554144041147083 gate: 9.745859642862342e-06\n",
      "[14/30] [7400/11532] loss: 0.0101621737703681 gen: 0.010130935348570347 gate: 3.1238691008184105e-05\n",
      "[14/30] [7500/11532] loss: 0.12007200717926025 gen: 0.07886181771755219 gate: 0.04121018573641777\n",
      "[14/30] [7600/11532] loss: 0.01609196700155735 gen: 0.016071289777755737 gate: 2.067781679215841e-05\n",
      "[14/30] [7700/11532] loss: 0.0022071090061217546 gen: 0.0018962392350658774 gate: 0.00031086980015970767\n",
      "[14/30] [7800/11532] loss: 0.00021053737145848572 gen: 0.00014709352399222553 gate: 6.344385474221781e-05\n",
      "[14/30] [7900/11532] loss: 0.05380624905228615 gen: 0.053711529821157455 gate: 9.47180378716439e-05\n",
      "[14/30] [8000/11532] loss: 0.10489010810852051 gen: 0.03094431757926941 gate: 0.0739457905292511\n",
      "[14/30] [8100/11532] loss: 0.006096342578530312 gen: 0.006078025791794062 gate: 1.8316952264285646e-05\n",
      "[14/30] [8200/11532] loss: 0.0002876675280276686 gen: 0.0002772418665699661 gate: 1.0425674190628342e-05\n",
      "[14/30] [8300/11532] loss: 0.0009991206461563706 gen: 0.0009443670860491693 gate: 5.475358557305299e-05\n",
      "[14/30] [8400/11532] loss: 0.0003202171064913273 gen: 0.0002382812526775524 gate: 8.193585381377488e-05\n",
      "[14/30] [8500/11532] loss: 2.7650961783365346e-05 gen: 4.730842192657292e-06 gate: 2.2920119590708055e-05\n",
      "[14/30] [8600/11532] loss: 0.0065144747495651245 gen: 0.006481986027210951 gate: 3.2488766009919345e-05\n",
      "[14/30] [8700/11532] loss: 0.04237403720617294 gen: 0.042345911264419556 gate: 2.812508500937838e-05\n",
      "[14/30] [8800/11532] loss: 0.0022912442218512297 gen: 0.002211061306297779 gate: 8.018300286494195e-05\n",
      "[14/30] [8900/11532] loss: 0.004338523838669062 gen: 0.004258106928318739 gate: 8.041692490223795e-05\n",
      "[14/30] [9000/11532] loss: 0.03966705873608589 gen: 0.03492439165711403 gate: 0.004742665681988001\n",
      "[14/30] [9100/11532] loss: 0.0024924795143306255 gen: 0.002485426375642419 gate: 7.053097760945093e-06\n",
      "[14/30] [9200/11532] loss: 2.7732090529752895e-05 gen: 2.1337908037821762e-05 gate: 6.394182037183782e-06\n",
      "[14/30] [9300/11532] loss: 0.0027499902062118053 gen: 0.0027311858721077442 gate: 1.8804394130711444e-05\n",
      "[14/30] [9400/11532] loss: 0.0002297479659318924 gen: 0.00010375903366366401 gate: 0.000125988939544186\n",
      "[14/30] [9500/11532] loss: 0.00655869347974658 gen: 0.006550629157572985 gate: 8.064232133619953e-06\n",
      "[14/30] [9600/11532] loss: 0.002344416920095682 gen: 0.002324882661923766 gate: 1.9534205421223305e-05\n",
      "[14/30] [9700/11532] loss: 0.0016095057362690568 gen: 0.0015938556753098965 gate: 1.5650104614906013e-05\n",
      "[14/30] [9800/11532] loss: 0.05584794282913208 gen: 0.055777326226234436 gate: 7.061815267661586e-05\n",
      "[14/30] [9900/11532] loss: 0.00017882947577163577 gen: 0.00016310282808262855 gate: 1.572664587001782e-05\n",
      "[14/30] [10000/11532] loss: 0.03904451057314873 gen: 0.039016250520944595 gate: 2.8258526072022505e-05\n",
      "[14/30] [10100/11532] loss: 0.000149229759699665 gen: 0.00013810739619657397 gate: 1.1122357136628125e-05\n",
      "[14/30] [10200/11532] loss: 8.370375871891156e-05 gen: 6.140082405181602e-05 gate: 2.2302934667095542e-05\n",
      "[14/30] [10300/11532] loss: 0.003626621328294277 gen: 0.003602131735533476 gate: 2.4489636416547e-05\n",
      "[14/30] [10400/11532] loss: 0.00011958925460930914 gen: 8.947547757998109e-05 gate: 3.0113775210338645e-05\n",
      "[14/30] [10500/11532] loss: 0.006068214774131775 gen: 0.006047673523426056 gate: 2.0541403500828892e-05\n",
      "[14/30] [10600/11532] loss: 0.00319850817322731 gen: 0.0031752039212733507 gate: 2.330429015273694e-05\n",
      "[14/30] [10700/11532] loss: 0.032602857798337936 gen: 0.030067402869462967 gate: 0.002535455394536257\n",
      "[14/30] [10800/11532] loss: 0.011142848059535027 gen: 0.011129745282232761 gate: 1.3102924640406854e-05\n",
      "[14/30] [10900/11532] loss: 7.748960342723876e-05 gen: 6.438437412725762e-05 gate: 1.3105228390486445e-05\n",
      "[14/30] [11000/11532] loss: 0.0011206341441720724 gen: 0.0011047945590689778 gate: 1.5839577827136964e-05\n",
      "[14/30] [11100/11532] loss: 6.561903865076602e-05 gen: 4.03819176426623e-05 gate: 2.5237121008103713e-05\n",
      "[14/30] [11200/11532] loss: 0.1134331002831459 gen: 0.06364016979932785 gate: 0.049792930483818054\n",
      "[14/30] [11300/11532] loss: 0.03209134191274643 gen: 0.0320262648165226 gate: 6.507882790174335e-05\n",
      "[14/30] [11400/11532] loss: 0.0034029348753392696 gen: 0.0033925094176083803 gate: 1.0425540494907182e-05\n",
      "[14/30] [11500/11532] loss: 0.0014351187273859978 gen: 0.0014188122004270554 gate: 1.6306528777931817e-05\n"
     ]
    },
    {
     "name": "stderr",
     "output_type": "stream",
     "text": [
      "100%|██████████| 640/640 [02:06<00:00,  5.07it/s]\n"
     ]
    },
    {
     "name": "stdout",
     "output_type": "stream",
     "text": [
      "{'joint_goal_accuracy': 0.7887846815162173, 'turn_slot_accuracy': 0.9933133602535742, 'turn_slot_f1': 0.9708208953776947}\n",
      "joint_goal_accuracy: 0.7887846815162173\n",
      "turn_slot_accuracy: 0.9933133602535742\n",
      "turn_slot_f1: 0.9708208953776947\n",
      "'--Update Best checkpoint!, epoch: 15'\n",
      "--Saving best model checkpoint\n",
      "time for 1 epoch: 2003.8503375053406\n",
      "[15/30] [0/11532] loss: 5.8988349337596446e-05 gen: 2.7140822567162104e-05 gate: 3.1847528589423746e-05\n",
      "[15/30] [100/11532] loss: 0.003949010744690895 gen: 0.003944139927625656 gate: 4.870978955295868e-06\n",
      "[15/30] [200/11532] loss: 3.035817098862026e-05 gen: 2.5777248083613813e-05 gate: 4.580923359753797e-06\n",
      "[15/30] [300/11532] loss: 0.00019546897965483367 gen: 0.00018555382848717272 gate: 9.915152077155653e-06\n",
      "[15/30] [400/11532] loss: 0.00029034106410108507 gen: 0.00023255572887137532 gate: 5.778532795375213e-05\n",
      "[15/30] [500/11532] loss: 0.0008849863079376519 gen: 0.00087677629198879 gate: 8.209998668462504e-06\n",
      "[15/30] [600/11532] loss: 4.965014159097336e-05 gen: 4.4101543608121574e-05 gate: 5.548596618609736e-06\n",
      "[15/30] [700/11532] loss: 0.0002311228308826685 gen: 0.00021292196470312774 gate: 1.820086981751956e-05\n",
      "[15/30] [800/11532] loss: 0.0001204222280648537 gen: 0.00010920153727056459 gate: 1.1220690794289112e-05\n",
      "[15/30] [900/11532] loss: 0.00101695756893605 gen: 0.0010108879068866372 gate: 6.069637038308429e-06\n",
      "[15/30] [1000/11532] loss: 0.013392576947808266 gen: 0.013378255069255829 gate: 1.432208409823943e-05\n",
      "[15/30] [1100/11532] loss: 0.039425864815711975 gen: 0.005967517849057913 gate: 0.033458348363637924\n",
      "[15/30] [1200/11532] loss: 0.0029523782432079315 gen: 0.002566694049164653 gate: 0.00038568428135477006\n",
      "[15/30] [1300/11532] loss: 0.03457777202129364 gen: 0.03457256406545639 gate: 5.208673883316806e-06\n",
      "[15/30] [1400/11532] loss: -2.4273347207781626e-06 gen: -5.992984370095655e-06 gate: 3.5656496493174927e-06\n",
      "[15/30] [1500/11532] loss: 0.006462799850851297 gen: 0.006444942206144333 gate: 1.7857444618130103e-05\n",
      "[15/30] [1600/11532] loss: 0.0009246477857232094 gen: 0.0009168504038825631 gate: 7.797360922268126e-06\n",
      "[15/30] [1700/11532] loss: 0.003414754057303071 gen: 0.0032774806022644043 gate: 0.00013727355690207332\n",
      "[15/30] [1800/11532] loss: 0.00018993414414580911 gen: 0.00018471150542609394 gate: 5.222638719715178e-06\n",
      "[15/30] [1900/11532] loss: 0.006226818542927504 gen: 0.0057485164143145084 gate: 0.0004783023032359779\n",
      "[15/30] [2000/11532] loss: 0.0008503295830450952 gen: 0.0007474164012819529 gate: 0.0001029131599352695\n",
      "[15/30] [2100/11532] loss: 0.00784116517752409 gen: 0.007835449650883675 gate: 5.715828137908829e-06\n",
      "[15/30] [2200/11532] loss: 0.00010014495637733489 gen: 9.42409533308819e-05 gate: 5.9040057749371044e-06\n",
      "[15/30] [2300/11532] loss: 0.058299265801906586 gen: 0.03079591505229473 gate: 0.027503350749611855\n",
      "[15/30] [2400/11532] loss: 8.639848965685815e-05 gen: 8.025742863537744e-05 gate: 6.141062840470113e-06\n",
      "[15/30] [2500/11532] loss: 0.010280382819473743 gen: 0.010236937552690506 gate: 4.344536137068644e-05\n",
      "[15/30] [2600/11532] loss: 0.0046294080093503 gen: 0.004613508004695177 gate: 1.5900126527412795e-05\n",
      "[15/30] [2700/11532] loss: 0.004433112218976021 gen: 0.004427223466336727 gate: 5.8887130762741435e-06\n",
      "[15/30] [2800/11532] loss: 0.018732383847236633 gen: 0.018647201359272003 gate: 8.518323738826439e-05\n",
      "[15/30] [2900/11532] loss: 0.04429934546351433 gen: 0.04424924775958061 gate: 5.009783853893168e-05\n",
      "[15/30] [3000/11532] loss: 0.004713939502835274 gen: 0.0046929563395679 gate: 2.0983270587748848e-05\n",
      "[15/30] [3100/11532] loss: 0.02689525857567787 gen: 0.02688433788716793 gate: 1.092045204131864e-05\n",
      "[15/30] [3200/11532] loss: 0.00011656686547212303 gen: 0.00010640681284712628 gate: 1.0160053534491453e-05\n",
      "[15/30] [3300/11532] loss: 0.006854803767055273 gen: 0.006851172540336847 gate: 3.6311687381385127e-06\n",
      "[15/30] [3400/11532] loss: 0.0001706285693217069 gen: 0.0001454397279303521 gate: 2.5188839572365396e-05\n",
      "[15/30] [3500/11532] loss: 0.007206057198345661 gen: 0.007190055213868618 gate: 1.600176256033592e-05\n",
      "[15/30] [3600/11532] loss: 4.523609095485881e-05 gen: 2.7013413273380138e-05 gate: 1.8222675862489268e-05\n",
      "[15/30] [3700/11532] loss: 0.043811339884996414 gen: 0.01671627163887024 gate: 0.027095068246126175\n",
      "[15/30] [3800/11532] loss: 0.017057856544852257 gen: 0.007775507867336273 gate: 0.009282348677515984\n",
      "[15/30] [3900/11532] loss: 0.003695555031299591 gen: 0.00367395905777812 gate: 2.1596060832962394e-05\n",
      "[15/30] [4000/11532] loss: 0.1042860895395279 gen: 0.09534881263971329 gate: 0.008937275037169456\n",
      "[15/30] [4100/11532] loss: 0.0315408781170845 gen: 0.02812928892672062 gate: 0.0034115880262106657\n",
      "[15/30] [4200/11532] loss: 0.014696203172206879 gen: 0.014621817506849766 gate: 7.438600005116314e-05\n",
      "[15/30] [4300/11532] loss: 0.010534577071666718 gen: 0.010512693785130978 gate: 2.1883521185372956e-05\n",
      "[15/30] [4400/11532] loss: 0.00647853035479784 gen: 0.005975720938295126 gate: 0.0005028096493333578\n",
      "[15/30] [4500/11532] loss: 0.0007913628942333162 gen: 0.00038268513162620366 gate: 0.0004086777626071125\n",
      "[15/30] [4600/11532] loss: 0.01537316758185625 gen: 0.015315406024456024 gate: 5.7761168136494234e-05\n",
      "[15/30] [4700/11532] loss: 0.004152835346758366 gen: 0.004051065072417259 gate: 0.0001017703179968521\n",
      "[15/30] [4800/11532] loss: 0.001523946295492351 gen: 0.0014814522583037615 gate: 4.2494033550610766e-05\n",
      "[15/30] [4900/11532] loss: 4.765451012644917e-05 gen: 2.0755485820700414e-05 gate: 2.6899024305748753e-05\n",
      "[15/30] [5000/11532] loss: 0.03278215602040291 gen: 0.03276096284389496 gate: 2.1192015992710367e-05\n",
      "[15/30] [5100/11532] loss: 0.00026240668375976384 gen: 0.00024793221382424235 gate: 1.4474461750069167e-05\n",
      "[15/30] [5200/11532] loss: 8.947233436629176e-05 gen: 6.986119115026668e-05 gate: 1.961114139703568e-05\n",
      "[15/30] [5300/11532] loss: 0.06777142733335495 gen: 0.010639852844178677 gate: 0.057131577283144\n",
      "[15/30] [5400/11532] loss: 0.02140510454773903 gen: 0.019866520538926125 gate: 0.0015385831939056516\n",
      "[15/30] [5500/11532] loss: 0.06079229712486267 gen: 0.04755719378590584 gate: 0.013235101476311684\n",
      "[15/30] [5600/11532] loss: 0.02520325779914856 gen: 0.025159358978271484 gate: 4.389819878269918e-05\n",
      "[15/30] [5700/11532] loss: 0.05057388171553612 gen: 0.05052351579070091 gate: 5.0366390496492386e-05\n",
      "[15/30] [5800/11532] loss: 0.0038987428415566683 gen: 0.003743790090084076 gate: 0.00015495279512833804\n",
      "[15/30] [5900/11532] loss: 0.014054134488105774 gen: 0.007358339615166187 gate: 0.006695794407278299\n",
      "[15/30] [6000/11532] loss: 0.04295862838625908 gen: 0.03416089341044426 gate: 0.008797734044492245\n",
      "[15/30] [6100/11532] loss: 0.0011251228861510754 gen: 0.001107719843275845 gate: 1.7403028323315084e-05\n",
      "[15/30] [6200/11532] loss: 0.006290243938565254 gen: 0.006252430845052004 gate: 3.78133227059152e-05\n",
      "[15/30] [6300/11532] loss: 1.6635774954920635e-05 gen: 8.02232989371987e-06 gate: 8.613445970695466e-06\n",
      "[15/30] [6400/11532] loss: 0.0001285841572098434 gen: 5.2723902626894414e-05 gate: 7.586024730699137e-05\n",
      "[15/30] [6500/11532] loss: 7.42365955375135e-05 gen: 6.50876754662022e-05 gate: 9.14891734282719e-06\n",
      "[15/30] [6600/11532] loss: 0.00017049691814463586 gen: 0.00015973192057572305 gate: 1.0764997568912804e-05\n",
      "[15/30] [6700/11532] loss: 0.00013326745829544961 gen: 0.00012137804878875613 gate: 1.1889402230735868e-05\n",
      "[15/30] [6800/11532] loss: 0.0014866633573547006 gen: 0.0014612681698054075 gate: 2.539515116950497e-05\n",
      "[15/30] [6900/11532] loss: 0.00039091138751246035 gen: 0.00037309451727196574 gate: 1.781687024049461e-05\n",
      "[15/30] [7000/11532] loss: 0.00041725896880961955 gen: 0.0003932524996344 gate: 2.400648190814536e-05\n",
      "[15/30] [7100/11532] loss: 0.0014744842192158103 gen: 0.0014623875031247735 gate: 1.2096682439732831e-05\n",
      "[15/30] [7200/11532] loss: 0.000611110357567668 gen: 0.0006010417127981782 gate: 1.0068630217574537e-05\n",
      "[15/30] [7300/11532] loss: 0.021184200420975685 gen: 0.021165302023291588 gate: 1.889809936983511e-05\n",
      "[15/30] [7400/11532] loss: 0.00014641269808635116 gen: 0.00012275940389372408 gate: 2.3653294192627072e-05\n",
      "[15/30] [7500/11532] loss: 0.14031969010829926 gen: 0.04901953414082527 gate: 0.09130015969276428\n",
      "[15/30] [7600/11532] loss: 0.00067391392076388 gen: 0.0006470269290730357 gate: 2.68869935098337e-05\n",
      "[15/30] [7700/11532] loss: 0.0028529507108032703 gen: 0.0023629674687981606 gate: 0.0004899833584204316\n",
      "[15/30] [7800/11532] loss: 0.027892835438251495 gen: 0.027835611253976822 gate: 5.72243079659529e-05\n",
      "[15/30] [7900/11532] loss: 0.00020519735699053854 gen: 0.00019490651902742684 gate: 1.0290831596648786e-05\n",
      "[15/30] [8000/11532] loss: 0.010910226963460445 gen: 0.010859886184334755 gate: 5.0340509915258735e-05\n",
      "[15/30] [8100/11532] loss: 0.0005386469420045614 gen: 0.0004945069085806608 gate: 4.4140044337837026e-05\n",
      "[15/30] [8200/11532] loss: 0.0003880142467096448 gen: 0.0003772636118810624 gate: 1.075062118616188e-05\n",
      "[15/30] [8300/11532] loss: 0.026988549157977104 gen: 0.026944153010845184 gate: 4.439576878212392e-05\n",
      "[15/30] [8400/11532] loss: 0.000565105292480439 gen: 0.0005506907473318279 gate: 1.4414548786589876e-05\n",
      "[15/30] [8500/11532] loss: 0.002604173496365547 gen: 0.0025375946424901485 gate: 6.657892663497478e-05\n",
      "[15/30] [8600/11532] loss: 3.270751767558977e-05 gen: 2.8879638193757273e-05 gate: 3.827879027085146e-06\n",
      "[15/30] [8700/11532] loss: 0.030766595155000687 gen: 0.030749907717108727 gate: 1.6687479728716426e-05\n",
      "[15/30] [8800/11532] loss: 0.006081575062125921 gen: 0.00606977753341198 gate: 1.179765968117863e-05\n",
      "[15/30] [8900/11532] loss: 0.007018421310931444 gen: 0.006996907293796539 gate: 2.151422086171806e-05\n",
      "[15/30] [9000/11532] loss: 0.18021568655967712 gen: 0.07844483107328415 gate: 0.10177085548639297\n",
      "[15/30] [9100/11532] loss: 0.044120460748672485 gen: 0.024776848033070564 gate: 0.019343610852956772\n",
      "[15/30] [9200/11532] loss: 0.0021092896349728107 gen: 0.0008471504552289844 gate: 0.0012621391797438264\n",
      "[15/30] [9300/11532] loss: 0.010797400027513504 gen: 0.010730707086622715 gate: 6.669278809567913e-05\n",
      "[15/30] [9400/11532] loss: 0.02421656809747219 gen: 0.024161353707313538 gate: 5.521426646737382e-05\n",
      "[15/30] [9500/11532] loss: 4.333451215643436e-05 gen: 2.2799347789259627e-05 gate: 2.053516436717473e-05\n",
      "[15/30] [9600/11532] loss: 0.0022543759550899267 gen: 0.002241242676973343 gate: 1.3133379070495721e-05\n",
      "[15/30] [9700/11532] loss: 0.0034878721926361322 gen: 0.003470659488812089 gate: 1.721258922771085e-05\n",
      "[15/30] [9800/11532] loss: 0.0034202381502836943 gen: 0.003414521459490061 gate: 5.7166726037394255e-06\n",
      "[15/30] [9900/11532] loss: 0.0002128562773577869 gen: 2.5262777853640728e-05 gate: 0.00018759349768515676\n",
      "[15/30] [10000/11532] loss: 0.004841277841478586 gen: 0.0047927675768733025 gate: 4.8510104534216225e-05\n",
      "[15/30] [10100/11532] loss: 0.0001768153306329623 gen: 0.00016507782856933773 gate: 1.173750206362456e-05\n",
      "[15/30] [10200/11532] loss: 0.015795016661286354 gen: 0.01574220508337021 gate: 5.28115124325268e-05\n",
      "[15/30] [10300/11532] loss: 0.017859522253274918 gen: 0.01785406842827797 gate: 5.453001904243138e-06\n",
      "[15/30] [10400/11532] loss: 0.0009637570474296808 gen: 0.00095649209106341 gate: 7.264939995366149e-06\n",
      "[15/30] [10500/11532] loss: 0.019167864695191383 gen: 0.01916375942528248 gate: 4.106067535758484e-06\n",
      "[15/30] [10600/11532] loss: 0.010698134079575539 gen: 0.01068749837577343 gate: 1.0635307262418792e-05\n",
      "[15/30] [10700/11532] loss: 6.8868225753249135e-06 gen: 1.1379030411262647e-06 gate: 5.7489196478854865e-06\n",
      "[15/30] [10800/11532] loss: 1.6202560800593346e-05 gen: 9.971980944101233e-06 gate: 6.2305789469974115e-06\n",
      "[15/30] [10900/11532] loss: 0.000770702725276351 gen: 0.0006465526530519128 gate: 0.00012415010132826865\n",
      "[15/30] [11000/11532] loss: 0.008896385319530964 gen: 0.00889274850487709 gate: 3.6371525311551522e-06\n",
      "[15/30] [11100/11532] loss: 0.01072395034134388 gen: 0.010678538121283054 gate: 4.541260204860009e-05\n",
      "[15/30] [11200/11532] loss: 0.0035080972593277693 gen: 0.003390554804354906 gate: 0.00011754244769690558\n",
      "[15/30] [11300/11532] loss: 0.0009106133948080242 gen: 0.0008843052200973034 gate: 2.6308183805667795e-05\n",
      "[15/30] [11400/11532] loss: 0.008246276527643204 gen: 0.008231189101934433 gate: 1.5087049177964218e-05\n",
      "[15/30] [11500/11532] loss: 0.006750361993908882 gen: 0.006731878966093063 gate: 1.8482811356079765e-05\n"
     ]
    },
    {
     "name": "stderr",
     "output_type": "stream",
     "text": [
      "100%|██████████| 640/640 [02:10<00:00,  4.92it/s]\n"
     ]
    },
    {
     "name": "stdout",
     "output_type": "stream",
     "text": [
      "{'joint_goal_accuracy': 0.7891754591637359, 'turn_slot_accuracy': 0.9932221788024879, 'turn_slot_f1': 0.9708425625183984}\n",
      "joint_goal_accuracy: 0.7891754591637359\n",
      "turn_slot_accuracy: 0.9932221788024879\n",
      "turn_slot_f1: 0.9708425625183984\n",
      "'--Update Best checkpoint!, epoch: 16'\n",
      "--Saving best model checkpoint\n",
      "time for 1 epoch: 1989.5540425777435\n",
      "[16/30] [0/11532] loss: 0.011355064809322357 gen: 0.011335636489093304 gate: 1.9427894585533068e-05\n",
      "[16/30] [100/11532] loss: 0.024336298927664757 gen: 0.024297770112752914 gate: 3.8529204175574705e-05\n",
      "[16/30] [200/11532] loss: 0.059497613459825516 gen: 0.014189337380230427 gate: 0.045308277010917664\n",
      "[16/30] [300/11532] loss: 0.0036841135006397963 gen: 0.0036643242929130793 gate: 1.9789165889960714e-05\n",
      "[16/30] [400/11532] loss: 0.0006004691240377724 gen: 0.0005920789553783834 gate: 8.390145012526773e-06\n",
      "[16/30] [500/11532] loss: 0.0007414468564093113 gen: 0.0007326130289584398 gate: 8.833805622998625e-06\n",
      "[16/30] [600/11532] loss: 0.010539093054831028 gen: 0.01052673626691103 gate: 1.2356534170976374e-05\n",
      "[16/30] [700/11532] loss: 0.012544709257781506 gen: 0.012541800737380981 gate: 2.9086886570439674e-06\n",
      "[16/30] [800/11532] loss: 0.00168717245105654 gen: 0.001681221299804747 gate: 5.951110324531328e-06\n",
      "[16/30] [900/11532] loss: 0.013642889447510242 gen: 0.013637235388159752 gate: 5.654268079524627e-06\n",
      "[16/30] [1000/11532] loss: 0.0051073902286589146 gen: 0.0050969976000487804 gate: 1.0392565854999702e-05\n",
      "[16/30] [1100/11532] loss: 0.0003013612003996968 gen: 0.00028529349947348237 gate: 1.606770274520386e-05\n",
      "[16/30] [1200/11532] loss: 0.00016229678294621408 gen: 0.0001566535938763991 gate: 5.643186341330875e-06\n",
      "[16/30] [1300/11532] loss: 0.01506973896175623 gen: 0.015056559816002846 gate: 1.3179272173147183e-05\n",
      "[16/30] [1400/11532] loss: 0.0012928444193676114 gen: 0.0012759615201503038 gate: 1.688289012236055e-05\n",
      "[16/30] [1500/11532] loss: 0.014176997356116772 gen: 0.0140466233715415 gate: 0.00013037431926932186\n",
      "[16/30] [1600/11532] loss: 0.0028424502816051245 gen: 0.0028373561799526215 gate: 5.094128482596716e-06\n",
      "[16/30] [1700/11532] loss: 0.005750696174800396 gen: 0.005700660403817892 gate: 5.0035792810376734e-05\n",
      "[16/30] [1800/11532] loss: 0.012356294319033623 gen: 0.012319771572947502 gate: 3.6522760638035834e-05\n",
      "[16/30] [1900/11532] loss: 0.002033168449997902 gen: 0.001990821212530136 gate: 4.234723746776581e-05\n",
      "[16/30] [2000/11532] loss: 0.07574395090341568 gen: 0.0756906047463417 gate: 5.334605884854682e-05\n",
      "[16/30] [2100/11532] loss: 0.02379060536623001 gen: 0.02375369891524315 gate: 3.690629455377348e-05\n",
      "[16/30] [2200/11532] loss: 0.04750138521194458 gen: 0.04735611379146576 gate: 0.0001452710130251944\n",
      "[16/30] [2300/11532] loss: 0.029658472165465355 gen: 0.029598157852888107 gate: 6.0314028814900666e-05\n",
      "[16/30] [2400/11532] loss: 0.007744821719825268 gen: 0.007735498249530792 gate: 9.323603080702014e-06\n",
      "[16/30] [2500/11532] loss: 0.1490452140569687 gen: 0.08351341634988785 gate: 0.06553179770708084\n",
      "[16/30] [2600/11532] loss: 0.03173483908176422 gen: 0.031728655099868774 gate: 6.184865924296901e-06\n",
      "[16/30] [2700/11532] loss: 0.0002474274951964617 gen: 0.00023011348093859851 gate: 1.7314003343926743e-05\n",
      "[16/30] [2800/11532] loss: 0.07804952561855316 gen: 0.010248967446386814 gate: 0.06780055910348892\n",
      "[16/30] [2900/11532] loss: 0.002282981527969241 gen: 0.002257923362776637 gate: 2.5058154278667644e-05\n",
      "[16/30] [3000/11532] loss: 0.08910523355007172 gen: 0.037888430058956146 gate: 0.05121680721640587\n",
      "[16/30] [3100/11532] loss: 0.0013722045114263892 gen: 0.00134591746609658 gate: 2.6287028958904557e-05\n",
      "[16/30] [3200/11532] loss: 0.0015080923913046718 gen: 0.0013006773078814149 gate: 0.00020741505431942642\n",
      "[16/30] [3300/11532] loss: 0.012662205845117569 gen: 0.009613980539143085 gate: 0.003048224840313196\n",
      "[16/30] [3400/11532] loss: 0.008665582165122032 gen: 0.008643698878586292 gate: 2.1883079170947894e-05\n",
      "[16/30] [3500/11532] loss: 0.008205139078199863 gen: 0.008072664961218834 gate: 0.00013247384049464017\n",
      "[16/30] [3600/11532] loss: 0.0029581321869045496 gen: 0.0029363264329731464 gate: 2.1805803044117056e-05\n",
      "[16/30] [3700/11532] loss: 0.002373832743614912 gen: 0.0023554684594273567 gate: 1.8364331481279805e-05\n",
      "[16/30] [3800/11532] loss: 0.0068841311149299145 gen: 0.00681271543726325 gate: 7.141563401091844e-05\n",
      "[16/30] [3900/11532] loss: 0.027791399508714676 gen: 0.02774966135621071 gate: 4.173849811195396e-05\n",
      "[16/30] [4000/11532] loss: 0.021479010581970215 gen: 0.021357208490371704 gate: 0.0001218014513142407\n",
      "[16/30] [4100/11532] loss: 0.007570273242890835 gen: 0.007526726927608252 gate: 4.354651173343882e-05\n",
      "[16/30] [4200/11532] loss: 0.008764221332967281 gen: 0.008678744547069073 gate: 8.547680772608146e-05\n",
      "[16/30] [4300/11532] loss: 0.015920642763376236 gen: 0.008491171523928642 gate: 0.007429471239447594\n",
      "[16/30] [4400/11532] loss: 0.009777951054275036 gen: 0.00913209654390812 gate: 0.0006458545103669167\n",
      "[16/30] [4500/11532] loss: 0.0052200439386069775 gen: 0.005164037458598614 gate: 5.600626900559291e-05\n",
      "[16/30] [4600/11532] loss: 0.015288062393665314 gen: 0.015171803534030914 gate: 0.00011625924526015297\n",
      "[16/30] [4700/11532] loss: 0.004466210957616568 gen: 0.004427932668477297 gate: 3.827806358458474e-05\n",
      "[16/30] [4800/11532] loss: 0.0092139458283782 gen: 0.007947693578898907 gate: 0.0012662520166486502\n",
      "[16/30] [4900/11532] loss: 0.005629128776490688 gen: 0.0029605459421873093 gate: 0.002668582834303379\n",
      "[16/30] [5000/11532] loss: 0.05322487652301788 gen: 0.015552760101854801 gate: 0.03767211735248566\n",
      "[16/30] [5100/11532] loss: 0.00014154973905533552 gen: 0.00010935461614280939 gate: 3.219512655050494e-05\n",
      "[16/30] [5200/11532] loss: 0.002184678567573428 gen: 0.0021583838388323784 gate: 2.6294765120837837e-05\n",
      "[16/30] [5300/11532] loss: 0.00039543042657896876 gen: 0.000255571590969339 gate: 0.00013985885016154498\n",
      "[16/30] [5400/11532] loss: 0.0035736646968871355 gen: 0.0035621589049696922 gate: 1.150572734331945e-05\n",
      "[16/30] [5500/11532] loss: 0.0003079903544858098 gen: 0.00021444668527692556 gate: 9.354365465696901e-05\n",
      "[16/30] [5600/11532] loss: 0.00032748118974268436 gen: 0.0002430309250485152 gate: 8.445027924608439e-05\n",
      "[16/30] [5700/11532] loss: 0.1123155951499939 gen: 0.05671364814043045 gate: 0.055601950734853745\n",
      "[16/30] [5800/11532] loss: 0.005019462667405605 gen: 0.004984502214938402 gate: 3.496043791528791e-05\n",
      "[16/30] [5900/11532] loss: 0.04886173456907272 gen: 0.03159467503428459 gate: 0.01726705953478813\n",
      "[16/30] [6000/11532] loss: 6.452424713643268e-05 gen: 1.5406891179736704e-05 gate: 4.9117355956695974e-05\n",
      "[16/30] [6100/11532] loss: 0.071805439889431 gen: 0.03688102215528488 gate: 0.03492441773414612\n",
      "[16/30] [6200/11532] loss: 0.006593805272132158 gen: 0.006451573688536882 gate: 0.00014223177277017385\n",
      "[16/30] [6300/11532] loss: 0.0003257702337577939 gen: 0.00027104426408186555 gate: 5.472597695188597e-05\n",
      "[16/30] [6400/11532] loss: 0.06636348366737366 gen: 0.02754802256822586 gate: 0.0388154610991478\n",
      "[16/30] [6500/11532] loss: 0.003322998760268092 gen: 0.002364408690482378 gate: 0.0009585901279933751\n",
      "[16/30] [6600/11532] loss: 0.007974673062562943 gen: 0.007838298566639423 gate: 0.00013637494703289121\n",
      "[16/30] [6700/11532] loss: 0.0024542203173041344 gen: 0.002412200905382633 gate: 4.2019444663310423e-05\n",
      "[16/30] [6800/11532] loss: 0.000839914137031883 gen: 0.0007894390146248043 gate: 5.0475133321015164e-05\n",
      "[16/30] [6900/11532] loss: 0.009525438770651817 gen: 0.009412160143256187 gate: 0.00011327862011967227\n",
      "[16/30] [7000/11532] loss: 0.007941693998873234 gen: 0.007773169316351414 gate: 0.00016852508997544646\n",
      "[16/30] [7100/11532] loss: 0.0008940247353166342 gen: 0.0008223453187383711 gate: 7.16793947503902e-05\n",
      "[16/30] [7200/11532] loss: 0.007489509414881468 gen: 0.007467296440154314 gate: 2.221316026407294e-05\n",
      "[16/30] [7300/11532] loss: 0.0001607836311450228 gen: 0.0001225983287440613 gate: 3.8185306038940325e-05\n",
      "[16/30] [7400/11532] loss: 0.002173397224396467 gen: 0.002065707463771105 gate: 0.00010768975334940478\n",
      "[16/30] [7500/11532] loss: 0.02786891907453537 gen: 0.027612803503870964 gate: 0.000256115454249084\n",
      "[16/30] [7600/11532] loss: 0.0019950189162045717 gen: 0.0019035139121115208 gate: 9.150493860943243e-05\n",
      "[16/30] [7700/11532] loss: 0.000376699841581285 gen: 0.00033827609149739146 gate: 3.8423753721872345e-05\n",
      "[16/30] [7800/11532] loss: 0.016709253191947937 gen: 0.01652362011373043 gate: 0.00018563267076388001\n",
      "[16/30] [7900/11532] loss: 0.00010861492773983628 gen: 4.153466579737142e-05 gate: 6.708026194246486e-05\n",
      "[16/30] [8000/11532] loss: 0.002695288974791765 gen: 0.002561095403507352 gate: 0.00013419346942100674\n",
      "[16/30] [8100/11532] loss: 0.004167539067566395 gen: 0.004045259673148394 gate: 0.00012227937986608595\n",
      "[16/30] [8200/11532] loss: 0.03293478488922119 gen: 0.030059752985835075 gate: 0.0028750307392328978\n",
      "[16/30] [8300/11532] loss: 5.12564874952659e-05 gen: 3.2263265893561766e-05 gate: 1.8993219782714732e-05\n",
      "[16/30] [8400/11532] loss: 0.00013643651618622243 gen: 9.71427361946553e-05 gate: 3.929378362954594e-05\n",
      "[16/30] [8500/11532] loss: 0.01842334493994713 gen: 0.01836322247982025 gate: 6.012282392475754e-05\n",
      "[16/30] [8600/11532] loss: 4.7630233893869445e-05 gen: 2.7401309125707485e-05 gate: 2.022892476816196e-05\n",
      "[16/30] [8700/11532] loss: 0.0006828979239799082 gen: 0.000637502467725426 gate: 4.539544534054585e-05\n",
      "[16/30] [8800/11532] loss: 0.0011952993227168918 gen: 0.0011763973161578178 gate: 1.8902048395830207e-05\n",
      "[16/30] [8900/11532] loss: 0.012948455289006233 gen: 0.012929189018905163 gate: 1.9265889932285063e-05\n",
      "[16/30] [9000/11532] loss: 0.006051987409591675 gen: 0.005986070726066828 gate: 6.591679266421124e-05\n",
      "[16/30] [9100/11532] loss: 0.011832473799586296 gen: 0.011782260611653328 gate: 5.0213631766382605e-05\n",
      "[16/30] [9200/11532] loss: 0.004705364350229502 gen: 0.00467970035970211 gate: 2.5664052373031154e-05\n",
      "[16/30] [9300/11532] loss: 0.0013363489415496588 gen: 0.0012901348527520895 gate: 4.6214063331717625e-05\n",
      "[16/30] [9400/11532] loss: 0.005114620551466942 gen: 0.005083533003926277 gate: 3.108750024694018e-05\n",
      "[16/30] [9500/11532] loss: 0.008326588198542595 gen: 0.008296022191643715 gate: 3.056568675674498e-05\n",
      "[16/30] [9600/11532] loss: 0.00039191244286485016 gen: 0.0003729064774233848 gate: 1.90059763554018e-05\n",
      "[16/30] [9700/11532] loss: 0.005638727452605963 gen: 0.005507451482117176 gate: 0.0001312761742155999\n",
      "[16/30] [9800/11532] loss: 0.006163766607642174 gen: 0.006118576042354107 gate: 4.5190678065409884e-05\n",
      "[16/30] [9900/11532] loss: 0.010486035607755184 gen: 0.010446975938975811 gate: 3.905941775883548e-05\n",
      "[16/30] [10000/11532] loss: 8.329319098265842e-05 gen: 6.941277388250455e-05 gate: 1.388041528116446e-05\n",
      "[16/30] [10100/11532] loss: 0.04195931553840637 gen: 0.015117360278964043 gate: 0.02684195339679718\n",
      "[16/30] [10200/11532] loss: 0.00020483325351960957 gen: 0.00018408603500574827 gate: 2.0747211237903684e-05\n",
      "[16/30] [10300/11532] loss: 0.004443852696567774 gen: 0.004432255402207375 gate: 1.1597157026699279e-05\n",
      "[16/30] [10400/11532] loss: 0.0010144737316295505 gen: 0.0008173050591722131 gate: 0.00019716864335350692\n",
      "[16/30] [10500/11532] loss: 0.0005422907415777445 gen: 0.0005319822230376303 gate: 1.0308522178092971e-05\n",
      "[16/30] [10600/11532] loss: 0.19276481866836548 gen: 0.08362848311662674 gate: 0.10913633555173874\n",
      "[16/30] [10700/11532] loss: 0.0028828829526901245 gen: 0.00013629601744469255 gate: 0.0027465869206935167\n",
      "[16/30] [10800/11532] loss: 0.004724567290395498 gen: 0.004712275229394436 gate: 1.2292260180402081e-05\n",
      "[16/30] [10900/11532] loss: 0.008475546725094318 gen: 0.008469362743198872 gate: 6.18354715697933e-06\n",
      "[16/30] [11000/11532] loss: 0.0007675042725168169 gen: 0.0007289635832421482 gate: 3.854069655062631e-05\n",
      "[16/30] [11100/11532] loss: 0.046046607196331024 gen: 0.02453194372355938 gate: 0.021514663472771645\n",
      "[16/30] [11200/11532] loss: 0.00013407928054220974 gen: 0.00011929687752854079 gate: 1.478240574215306e-05\n",
      "[16/30] [11300/11532] loss: 0.011016936972737312 gen: 0.010997275821864605 gate: 1.966153286048211e-05\n",
      "[16/30] [11400/11532] loss: 0.02484925091266632 gen: 0.024769941344857216 gate: 7.93087383499369e-05\n",
      "[16/30] [11500/11532] loss: 0.030927907675504684 gen: 0.03090227022767067 gate: 2.5637424187152646e-05\n"
     ]
    },
    {
     "name": "stderr",
     "output_type": "stream",
     "text": [
      "100%|██████████| 640/640 [02:06<00:00,  5.08it/s]\n"
     ]
    },
    {
     "name": "stdout",
     "output_type": "stream",
     "text": [
      "{'joint_goal_accuracy': 0.798358733880422, 'turn_slot_accuracy': 0.9934566453909978, 'turn_slot_f1': 0.9719830708356535}\n",
      "joint_goal_accuracy: 0.798358733880422\n",
      "turn_slot_accuracy: 0.9934566453909978\n",
      "turn_slot_f1: 0.9719830708356535\n",
      "'--Update Best checkpoint!, epoch: 17'\n",
      "--Saving best model checkpoint\n",
      "time for 1 epoch: 1983.456375837326\n",
      "[17/30] [0/11532] loss: 0.02573118358850479 gen: 0.01787540689110756 gate: 0.007855777628719807\n",
      "[17/30] [100/11532] loss: 0.0004559470689855516 gen: 0.0004378654411993921 gate: 1.8081638700095937e-05\n",
      "[17/30] [200/11532] loss: 0.008719815872609615 gen: 0.008701490238308907 gate: 1.8325838027521968e-05\n",
      "[17/30] [300/11532] loss: 0.0009391955682076514 gen: 0.000923798477742821 gate: 1.5397068636957556e-05\n",
      "[17/30] [400/11532] loss: 0.0019269516924396157 gen: 0.0018937239656224847 gate: 3.322774136904627e-05\n",
      "[17/30] [500/11532] loss: 0.00016450832481496036 gen: 0.00012903843889944255 gate: 3.5469889553496614e-05\n",
      "[17/30] [600/11532] loss: 0.027782145887613297 gen: 0.015775887295603752 gate: 0.012006258592009544\n",
      "[17/30] [700/11532] loss: 0.08314307034015656 gen: 0.04773629084229469 gate: 0.03540677949786186\n",
      "[17/30] [800/11532] loss: 0.0010827194200828671 gen: 0.0010550068691372871 gate: 2.771250728983432e-05\n",
      "[17/30] [900/11532] loss: 0.011957868933677673 gen: 0.011937438510358334 gate: 2.0430004951776937e-05\n",
      "[17/30] [1000/11532] loss: 0.010025693103671074 gen: 0.009670364670455456 gate: 0.0003553283750079572\n",
      "[17/30] [1100/11532] loss: 0.007439249660819769 gen: 0.007384663447737694 gate: 5.458628584165126e-05\n",
      "[17/30] [1200/11532] loss: 0.006039908621460199 gen: 0.0059784273616969585 gate: 6.148120883153751e-05\n",
      "[17/30] [1300/11532] loss: 0.008888215757906437 gen: 0.008761069737374783 gate: 0.00012714600597973913\n",
      "[17/30] [1400/11532] loss: 7.66801240388304e-05 gen: 6.407680484699085e-05 gate: 1.2603322829818353e-05\n",
      "[17/30] [1500/11532] loss: 0.007432189304381609 gen: 0.00740089314058423 gate: 3.129604738205671e-05\n",
      "[17/30] [1600/11532] loss: 0.002523893490433693 gen: 0.0025080209597945213 gate: 1.5872610674705356e-05\n",
      "[17/30] [1700/11532] loss: 0.020516356453299522 gen: 0.020439906045794487 gate: 7.644951983820647e-05\n",
      "[17/30] [1800/11532] loss: 0.01665547862648964 gen: 0.01663164049386978 gate: 2.383904757152777e-05\n",
      "[17/30] [1900/11532] loss: 7.813327829353511e-05 gen: 6.519205635413527e-05 gate: 1.2941221029905137e-05\n",
      "[17/30] [2000/11532] loss: 0.05834323167800903 gen: 0.053743526339530945 gate: 0.004599703475832939\n",
      "[17/30] [2100/11532] loss: 0.012543966993689537 gen: 0.012418496422469616 gate: 0.0001254707749467343\n",
      "[17/30] [2200/11532] loss: 0.019673509523272514 gen: 0.01962471380829811 gate: 4.879487823927775e-05\n",
      "[17/30] [2300/11532] loss: 0.0003357651294209063 gen: 0.0003208992420695722 gate: 1.48658900798182e-05\n",
      "[17/30] [2400/11532] loss: 5.481942935148254e-05 gen: 4.261538924765773e-05 gate: 1.2204039194330107e-05\n",
      "[17/30] [2500/11532] loss: 0.00014826154801994562 gen: 0.0001227217580890283 gate: 2.553978811192792e-05\n",
      "[17/30] [2600/11532] loss: 1.965146657312289e-05 gen: 6.842593393230345e-06 gate: 1.2808872270397842e-05\n",
      "[17/30] [2700/11532] loss: 0.000314931123284623 gen: 0.0002929708280134946 gate: 2.1960287995170802e-05\n",
      "[17/30] [2800/11532] loss: 0.008769484236836433 gen: 0.008736465126276016 gate: 3.30188668158371e-05\n",
      "[17/30] [2900/11532] loss: 0.004680737387388945 gen: 0.004467125982046127 gate: 0.00021361128892749548\n",
      "[17/30] [3000/11532] loss: 0.002235781168565154 gen: 0.002211084356531501 gate: 2.4696861146367155e-05\n",
      "[17/30] [3100/11532] loss: 0.010601324029266834 gen: 0.010551664978265762 gate: 4.965932384948246e-05\n",
      "[17/30] [3200/11532] loss: 0.018985163420438766 gen: 0.01889384165406227 gate: 9.132223203778267e-05\n",
      "[17/30] [3300/11532] loss: 0.015587673522531986 gen: 0.015573939308524132 gate: 1.3734559615841135e-05\n",
      "[17/30] [3400/11532] loss: 0.019497795030474663 gen: 0.0037232856266200542 gate: 0.01577450893819332\n",
      "[17/30] [3500/11532] loss: 0.007341564167290926 gen: 0.007235039956867695 gate: 0.000106524043076206\n",
      "[17/30] [3600/11532] loss: 4.971966700395569e-05 gen: 1.7830314391176216e-05 gate: 3.188935079379007e-05\n",
      "[17/30] [3700/11532] loss: 0.00030396156944334507 gen: 0.0002286291419295594 gate: 7.533242023782805e-05\n",
      "[17/30] [3800/11532] loss: 0.06396323442459106 gen: 0.04421112686395645 gate: 0.01975211128592491\n",
      "[17/30] [3900/11532] loss: 0.007069593295454979 gen: 0.00597800500690937 gate: 0.0010915884049609303\n",
      "[17/30] [4000/11532] loss: 0.060967959463596344 gen: 0.03522535413503647 gate: 0.025742607191205025\n",
      "[17/30] [4100/11532] loss: 0.015067901462316513 gen: 0.014865848235785961 gate: 0.0002020534302573651\n",
      "[17/30] [4200/11532] loss: 0.011292926035821438 gen: 0.01125361304730177 gate: 3.9312944863922894e-05\n",
      "[17/30] [4300/11532] loss: 0.0010677019599825144 gen: 0.0008503228309564292 gate: 0.00021737917268183082\n",
      "[17/30] [4400/11532] loss: 0.012830769643187523 gen: 0.01278343703597784 gate: 4.733284004032612e-05\n",
      "[17/30] [4500/11532] loss: 0.08340491354465485 gen: 0.03218337148427963 gate: 0.05122154578566551\n",
      "[17/30] [4600/11532] loss: 0.0002599140570964664 gen: 0.00023952129413373768 gate: 2.0392772057675757e-05\n",
      "[17/30] [4700/11532] loss: 0.029980424791574478 gen: 0.01741674728691578 gate: 0.012563676573336124\n",
      "[17/30] [4800/11532] loss: 0.008389615453779697 gen: 0.008338689804077148 gate: 5.0925918912980705e-05\n",
      "[17/30] [4900/11532] loss: 0.0011533567449077964 gen: 0.0011300204787403345 gate: 2.3336282538366504e-05\n",
      "[17/30] [5000/11532] loss: 0.004344094544649124 gen: 0.0038794574793428183 gate: 0.00046463709441013634\n",
      "[17/30] [5100/11532] loss: 0.00015341080143116415 gen: 0.00012084532500011846 gate: 3.256546915508807e-05\n",
      "[17/30] [5200/11532] loss: 0.00029501464450731874 gen: 0.00027909097843803465 gate: 1.592366061231587e-05\n",
      "[17/30] [5300/11532] loss: 0.00301572703756392 gen: 0.002983848098665476 gate: 3.187898255418986e-05\n",
      "[17/30] [5400/11532] loss: 0.005360625684261322 gen: 0.005309474188834429 gate: 5.115131352795288e-05\n",
      "[17/30] [5500/11532] loss: 0.0020838682539761066 gen: 0.0018644009251147509 gate: 0.00021946743072476238\n",
      "[17/30] [5600/11532] loss: 0.00014466176799032837 gen: 0.00011646289203781635 gate: 2.8198879590490833e-05\n",
      "[17/30] [5700/11532] loss: 0.0047553288750350475 gen: 0.004729380365461111 gate: 2.594862053229008e-05\n",
      "[17/30] [5800/11532] loss: 0.003997396677732468 gen: 0.0037181959487497807 gate: 0.0002792008745018393\n",
      "[17/30] [5900/11532] loss: 0.0011863987892866135 gen: 0.00116635428275913 gate: 2.0044450138811953e-05\n",
      "[17/30] [6000/11532] loss: 0.017128203064203262 gen: 0.0003768503956962377 gate: 0.016751352697610855\n",
      "[17/30] [6100/11532] loss: 0.001692818128503859 gen: 0.0015911090886220336 gate: 0.00010170899622607976\n",
      "[17/30] [6200/11532] loss: 1.076386161003029e-05 gen: -2.951565249986743e-07 gate: 1.1059018106607255e-05\n",
      "[17/30] [6300/11532] loss: 0.000920651073101908 gen: 0.0009018050623126328 gate: 1.8845998056349345e-05\n",
      "[17/30] [6400/11532] loss: 0.004331997130066156 gen: 0.0043223220854997635 gate: 9.674849934526719e-06\n",
      "[17/30] [6500/11532] loss: 0.00029183246078900993 gen: 0.0002818825887516141 gate: 9.949862942448817e-06\n",
      "[17/30] [6600/11532] loss: 0.012023204937577248 gen: 0.012002444826066494 gate: 2.0760404368047602e-05\n",
      "[17/30] [6700/11532] loss: 0.0006859754794277251 gen: 0.0006305385031737387 gate: 5.543695078813471e-05\n",
      "[17/30] [6800/11532] loss: 0.0005224472843110561 gen: 0.0005031232140026987 gate: 1.932407212734688e-05\n",
      "[17/30] [6900/11532] loss: 0.01239775586873293 gen: 0.012376544065773487 gate: 2.1211959392530844e-05\n",
      "[17/30] [7000/11532] loss: 0.006514364387840033 gen: 0.0065068756230175495 gate: 7.488839401048608e-06\n",
      "[17/30] [7100/11532] loss: 0.007843666709959507 gen: 0.007816724479198456 gate: 2.6942569093080238e-05\n",
      "[17/30] [7200/11532] loss: 0.00010064222442451864 gen: 8.606397750554606e-05 gate: 1.4578249647456687e-05\n",
      "[17/30] [7300/11532] loss: 0.002453346038237214 gen: 0.0024401480332016945 gate: 1.3198026863392442e-05\n",
      "[17/30] [7400/11532] loss: 0.03471583500504494 gen: 0.03464508056640625 gate: 7.075292523950338e-05\n",
      "[17/30] [7500/11532] loss: 0.011985237710177898 gen: 0.011979539878666401 gate: 5.697502274415456e-06\n",
      "[17/30] [7600/11532] loss: 0.02147560566663742 gen: 0.01081098522990942 gate: 0.010664621368050575\n",
      "[17/30] [7700/11532] loss: 0.00013359703007154167 gen: 0.00011587508925003931 gate: 1.7721933545544744e-05\n",
      "[17/30] [7800/11532] loss: 0.0023526910226792097 gen: 0.0023379225749522448 gate: 1.4768334040127229e-05\n",
      "[17/30] [7900/11532] loss: 0.00020290573593229055 gen: 0.00016861049516592175 gate: 3.429523712839e-05\n",
      "[17/30] [8000/11532] loss: 0.0015865783207118511 gen: 0.0015437658876180649 gate: 4.281239307601936e-05\n",
      "[17/30] [8100/11532] loss: 0.003208361566066742 gen: 0.003168281866237521 gate: 4.0079634345602244e-05\n",
      "[17/30] [8200/11532] loss: 0.005076249595731497 gen: 0.005055055022239685 gate: 2.1194471628405154e-05\n",
      "[17/30] [8300/11532] loss: 3.3593285479582846e-05 gen: 2.1823801944265142e-05 gate: 1.1769485354307108e-05\n",
      "[17/30] [8400/11532] loss: 3.667655255412683e-05 gen: 2.972615220642183e-05 gate: 6.950402166694403e-06\n",
      "[17/30] [8500/11532] loss: 0.001855022506788373 gen: 0.0017598418053239584 gate: 9.51807523961179e-05\n",
      "[17/30] [8600/11532] loss: 0.004981475882232189 gen: 0.004962940234690905 gate: 1.8535711205913685e-05\n",
      "[17/30] [8700/11532] loss: 0.015447870828211308 gen: 0.015430852770805359 gate: 1.701838118606247e-05\n",
      "[17/30] [8800/11532] loss: 0.05462873727083206 gen: 0.0430787056684494 gate: 0.01155003346502781\n",
      "[17/30] [8900/11532] loss: 0.0031617931090295315 gen: 0.0031307528261095285 gate: 3.10402647301089e-05\n",
      "[17/30] [9000/11532] loss: 0.004406106658279896 gen: 0.0043897065334022045 gate: 1.639998117752839e-05\n",
      "[17/30] [9100/11532] loss: 0.04418334737420082 gen: 0.011797863990068436 gate: 0.032385483384132385\n",
      "[17/30] [9200/11532] loss: 0.028048574924468994 gen: 0.027541138231754303 gate: 0.0005074361688457429\n",
      "[17/30] [9300/11532] loss: 7.729446951998398e-05 gen: 6.399241829058155e-05 gate: 1.3302050319907721e-05\n",
      "[17/30] [9400/11532] loss: 0.03915998712182045 gen: 0.03912550210952759 gate: 3.448562711128034e-05\n",
      "[17/30] [9500/11532] loss: 0.00039003530400805175 gen: 0.000363072264008224 gate: 2.6963036361848935e-05\n",
      "[17/30] [9600/11532] loss: 0.0009053756366483867 gen: 0.0008562637958675623 gate: 4.9111862608697265e-05\n",
      "[17/30] [9700/11532] loss: 0.00392421567812562 gen: 0.003866479266434908 gate: 5.773638986283913e-05\n",
      "[17/30] [9800/11532] loss: 0.06361953169107437 gen: 0.0021536508575081825 gate: 0.06146588176488876\n",
      "[17/30] [9900/11532] loss: 0.0002815283078234643 gen: 0.00027035080711357296 gate: 1.1177508895343635e-05\n",
      "[17/30] [10000/11532] loss: 0.005383738316595554 gen: 0.005347236525267363 gate: 3.6502020520856604e-05\n",
      "[17/30] [10100/11532] loss: 0.008925867266952991 gen: 0.008916139602661133 gate: 9.727935321279801e-06\n",
      "[17/30] [10200/11532] loss: 0.05545995384454727 gen: 0.04147884622216225 gate: 0.01398110669106245\n",
      "[17/30] [10300/11532] loss: 0.01549122016876936 gen: 0.015477240085601807 gate: 1.3979804862174205e-05\n",
      "[17/30] [10400/11532] loss: 0.010932281613349915 gen: 0.010915033519268036 gate: 1.724804133118596e-05\n",
      "[17/30] [10500/11532] loss: 0.002921697683632374 gen: 0.0026976654771715403 gate: 0.000224032235564664\n",
      "[17/30] [10600/11532] loss: 2.195571141783148e-05 gen: 1.1843783795484342e-05 gate: 1.0111927622347139e-05\n",
      "[17/30] [10700/11532] loss: 0.0003338346432428807 gen: 0.0002824797702487558 gate: 5.1354865718167275e-05\n",
      "[17/30] [10800/11532] loss: 0.00029441574588418007 gen: 0.0002770964929368347 gate: 1.7319256585324183e-05\n",
      "[17/30] [10900/11532] loss: 0.13083328306674957 gen: 0.05647728219628334 gate: 0.07435600459575653\n",
      "[17/30] [11000/11532] loss: 0.0025258518289774656 gen: 0.002499764785170555 gate: 2.608711838547606e-05\n",
      "[17/30] [11100/11532] loss: 0.07580257952213287 gen: 0.040800776332616806 gate: 0.035001806914806366\n",
      "[17/30] [11200/11532] loss: 0.048339225351810455 gen: 0.026169968768954277 gate: 0.02216925658285618\n",
      "[17/30] [11300/11532] loss: 0.01882782019674778 gen: 0.002520146081224084 gate: 0.01630767434835434\n",
      "[17/30] [11400/11532] loss: 4.4452543079387397e-05 gen: 2.262450107082259e-05 gate: 2.182804382755421e-05\n",
      "[17/30] [11500/11532] loss: 0.021798141300678253 gen: 0.02175522781908512 gate: 4.291386721888557e-05\n"
     ]
    },
    {
     "name": "stderr",
     "output_type": "stream",
     "text": [
      "100%|██████████| 640/640 [01:59<00:00,  5.37it/s]\n"
     ]
    },
    {
     "name": "stdout",
     "output_type": "stream",
     "text": [
      "{'joint_goal_accuracy': 0.7967956232903478, 'turn_slot_accuracy': 0.9935434848682242, 'turn_slot_f1': 0.972443299298665}\n",
      "joint_goal_accuracy: 0.7967956232903478\n",
      "turn_slot_accuracy: 0.9935434848682242\n",
      "turn_slot_f1: 0.972443299298665\n",
      "time for 1 epoch: 1969.5665414333344\n",
      "[18/30] [0/11532] loss: 0.00025117784389294684 gen: 0.00022903864737600088 gate: 2.2139203792903572e-05\n",
      "[18/30] [100/11532] loss: 0.00818981695920229 gen: 0.008180505596101284 gate: 9.311233952757902e-06\n",
      "[18/30] [200/11532] loss: 0.00033003787393681705 gen: 0.0003105640644207597 gate: 1.9473796783131547e-05\n",
      "[18/30] [300/11532] loss: 0.0021255137398838997 gen: 0.0021125751081854105 gate: 1.2938515283167362e-05\n",
      "[18/30] [400/11532] loss: 0.00639112014323473 gen: 0.006382703315466642 gate: 8.41674227558542e-06\n",
      "[18/30] [500/11532] loss: 0.0018805591389536858 gen: 0.000719814735930413 gate: 0.0011607444612309337\n",
      "[18/30] [600/11532] loss: 0.010171903297305107 gen: 0.01016136072576046 gate: 1.0542368727328721e-05\n",
      "[18/30] [700/11532] loss: 0.0016498551703989506 gen: 0.0016390749951824546 gate: 1.0780178854474798e-05\n",
      "[18/30] [800/11532] loss: 0.0005867646541446447 gen: 0.0005722764180973172 gate: 1.4488215128949378e-05\n",
      "[18/30] [900/11532] loss: 0.005023106466978788 gen: 0.005007516127079725 gate: 1.559035081299953e-05\n",
      "[18/30] [1000/11532] loss: 8.50063661346212e-05 gen: 7.72427229094319e-05 gate: 7.763639587210491e-06\n",
      "[18/30] [1100/11532] loss: 0.0006949446396902204 gen: 0.0006855814717710018 gate: 9.363139724882785e-06\n",
      "[18/30] [1200/11532] loss: 0.00014704259228892624 gen: 0.0001305631158174947 gate: 1.6479478290420957e-05\n",
      "[18/30] [1300/11532] loss: 0.007687264587730169 gen: 0.007669829297810793 gate: 1.7435289919376373e-05\n",
      "[18/30] [1400/11532] loss: 0.0048311189748346806 gen: 0.004812824074178934 gate: 1.8294791516382247e-05\n",
      "[18/30] [1500/11532] loss: 5.7136643590638414e-05 gen: 3.625056706368923e-05 gate: 2.0886076526949182e-05\n",
      "[18/30] [1600/11532] loss: 0.019885603338479996 gen: 0.019871169701218605 gate: 1.4433806427405216e-05\n",
      "[18/30] [1700/11532] loss: 0.007539950776845217 gen: 0.0075203119777143 gate: 1.9638686353573576e-05\n",
      "[18/30] [1800/11532] loss: 0.006990138906985521 gen: 0.006960015743970871 gate: 3.0123341275611892e-05\n",
      "[18/30] [1900/11532] loss: 0.008957276120781898 gen: 0.008944499306380749 gate: 1.2776556104654446e-05\n",
      "[18/30] [2000/11532] loss: 5.884870915906504e-05 gen: 3.6304965760791674e-05 gate: 2.254374157928396e-05\n",
      "[18/30] [2100/11532] loss: 0.09656877815723419 gen: 0.04280320927500725 gate: 0.05376557260751724\n",
      "[18/30] [2200/11532] loss: 0.0002464454446453601 gen: 0.00023270603560376912 gate: 1.3739398127654567e-05\n",
      "[18/30] [2300/11532] loss: 0.0021174505818635225 gen: 0.0021123008336871862 gate: 5.149806838744553e-06\n",
      "[18/30] [2400/11532] loss: 0.018170302733778954 gen: 0.0178143959492445 gate: 0.0003559069591574371\n",
      "[18/30] [2500/11532] loss: 0.009406400844454765 gen: 0.009393710643053055 gate: 1.2690217772615142e-05\n",
      "[18/30] [2600/11532] loss: 0.01198639441281557 gen: 0.011952642351388931 gate: 3.3752392482711e-05\n",
      "[18/30] [2700/11532] loss: 0.0008597448468208313 gen: 0.0008488387684337795 gate: 1.0906077477557119e-05\n",
      "[18/30] [2800/11532] loss: 0.00012164594227215275 gen: 0.0001132769975811243 gate: 8.368943781533744e-06\n",
      "[18/30] [2900/11532] loss: 0.0004188832244835794 gen: 0.0003993383434135467 gate: 1.954486833710689e-05\n",
      "[18/30] [3000/11532] loss: 2.3777001842972822e-05 gen: 8.010285455384292e-06 gate: 1.576671638758853e-05\n",
      "[18/30] [3100/11532] loss: 0.0005729595432057977 gen: 0.0005130521603859961 gate: 5.9907360991928726e-05\n",
      "[18/30] [3200/11532] loss: 0.008382618427276611 gen: 0.00830293633043766 gate: 7.968227146193385e-05\n",
      "[18/30] [3300/11532] loss: 0.0007162643596529961 gen: 0.0007061416399665177 gate: 1.012269603961613e-05\n",
      "[18/30] [3400/11532] loss: 0.0004340300220064819 gen: 0.00042561328154988587 gate: 8.416727723670192e-06\n",
      "[18/30] [3500/11532] loss: 0.0003505203640088439 gen: 0.00032766375807113945 gate: 2.285659320477862e-05\n",
      "[18/30] [3600/11532] loss: 0.0009039077558554709 gen: 0.0005575493560172617 gate: 0.00034635839983820915\n",
      "[18/30] [3700/11532] loss: 0.00717431865632534 gen: 0.007156214211136103 gate: 1.8104348782799207e-05\n",
      "[18/30] [3800/11532] loss: 0.020704343914985657 gen: 0.011885154992341995 gate: 0.008819189853966236\n",
      "[18/30] [3900/11532] loss: 0.007950237020850182 gen: 0.007918971590697765 gate: 3.1265721190720797e-05\n",
      "[18/30] [4000/11532] loss: 0.04575865715742111 gen: 0.0456729419529438 gate: 8.5713472799398e-05\n",
      "[18/30] [4100/11532] loss: 0.00031166477128863335 gen: 0.00025798773276619613 gate: 5.3677049436373636e-05\n",
      "[18/30] [4200/11532] loss: 0.020822616294026375 gen: 0.020732522010803223 gate: 9.009354107547551e-05\n",
      "[18/30] [4300/11532] loss: 0.0015784620773047209 gen: 0.0015275226905941963 gate: 5.0939328502863646e-05\n",
      "[18/30] [4400/11532] loss: 0.0006862852605991066 gen: 0.000625330489128828 gate: 6.0954753280384466e-05\n",
      "[18/30] [4500/11532] loss: 0.0012994766002520919 gen: 0.0010722491424530745 gate: 0.00022722742869518697\n",
      "[18/30] [4600/11532] loss: 0.004874367732554674 gen: 0.0033115181140601635 gate: 0.0015628495020791888\n",
      "[18/30] [4700/11532] loss: 0.0024956529960036278 gen: 0.0024726390838623047 gate: 2.3013955797068775e-05\n",
      "[18/30] [4800/11532] loss: 0.005446444731205702 gen: 0.005385197699069977 gate: 6.124694482423365e-05\n",
      "[18/30] [4900/11532] loss: 0.0031285660807043314 gen: 0.003055242355912924 gate: 7.332365930778906e-05\n",
      "[18/30] [5000/11532] loss: 0.0001140261156251654 gen: 4.822716073249467e-05 gate: 6.579895125469193e-05\n",
      "[18/30] [5100/11532] loss: 0.005190554074943066 gen: 0.005146272014826536 gate: 4.428222018759698e-05\n",
      "[18/30] [5200/11532] loss: 0.009468265809118748 gen: 0.009415830485522747 gate: 5.2435705583775416e-05\n",
      "[18/30] [5300/11532] loss: 0.007890998385846615 gen: 0.007795876357704401 gate: 9.512164251646027e-05\n",
      "[18/30] [5400/11532] loss: 0.003289716551080346 gen: 0.003265438601374626 gate: 2.4277844204334542e-05\n",
      "[18/30] [5500/11532] loss: 0.009933832101523876 gen: 0.009861140511929989 gate: 7.26919824955985e-05\n",
      "[18/30] [5600/11532] loss: 0.0028430637903511524 gen: 0.002711800392717123 gate: 0.00013126333942636847\n",
      "[18/30] [5700/11532] loss: 0.008218192495405674 gen: 0.00818992592394352 gate: 2.8266591471037827e-05\n",
      "[18/30] [5800/11532] loss: 0.0010284149320796132 gen: 0.0010035383747890592 gate: 2.4876500901882537e-05\n",
      "[18/30] [5900/11532] loss: 0.002132387598976493 gen: 0.0020913516636937857 gate: 4.1035884351003915e-05\n",
      "[18/30] [6000/11532] loss: 0.025561103597283363 gen: 0.02549058571457863 gate: 7.051735155982897e-05\n",
      "[18/30] [6100/11532] loss: 0.00472800899296999 gen: 0.004672511480748653 gate: 5.549752677325159e-05\n",
      "[18/30] [6200/11532] loss: 0.010461762547492981 gen: 0.010446060448884964 gate: 1.5702111340942793e-05\n",
      "[18/30] [6300/11532] loss: 0.0037518497556447983 gen: 0.003727895673364401 gate: 2.3954175048856996e-05\n",
      "[18/30] [6400/11532] loss: 0.0003830792265944183 gen: 0.00035955794737674296 gate: 2.3521286493632942e-05\n",
      "[18/30] [6500/11532] loss: 0.002933886367827654 gen: 0.002612312091514468 gate: 0.00032157436362467706\n",
      "[18/30] [6600/11532] loss: 0.00010309397475793958 gen: 7.211545744212344e-05 gate: 3.097851367783733e-05\n",
      "[18/30] [6700/11532] loss: 0.02126500755548477 gen: 0.02117696776986122 gate: 8.803894888842478e-05\n",
      "[18/30] [6800/11532] loss: 0.00012371184129733592 gen: 9.448536002309993e-05 gate: 2.9226477636257187e-05\n",
      "[18/30] [6900/11532] loss: 0.003130155149847269 gen: 0.0031182290986180305 gate: 1.19260457722703e-05\n",
      "[18/30] [7000/11532] loss: 0.00032746666693128645 gen: 0.00031354199745692313 gate: 1.392466037941631e-05\n",
      "[18/30] [7100/11532] loss: 0.0014064630959182978 gen: 0.0013973491732031107 gate: 9.113912710745353e-06\n",
      "[18/30] [7200/11532] loss: 0.12694811820983887 gen: 0.05516434460878372 gate: 0.07178378105163574\n",
      "[18/30] [7300/11532] loss: 0.0013584422413259745 gen: 0.0013462116476148367 gate: 1.2230646461830474e-05\n",
      "[18/30] [7400/11532] loss: 0.0003125740331597626 gen: 0.0002634506963659078 gate: 4.9123333155876026e-05\n",
      "[18/30] [7500/11532] loss: 0.006564438343048096 gen: 0.006499886512756348 gate: 6.455180118791759e-05\n",
      "[18/30] [7600/11532] loss: 0.001847541774623096 gen: 0.0017583073349669576 gate: 8.92344323801808e-05\n",
      "[18/30] [7700/11532] loss: 0.016462158411741257 gen: 0.016439659520983696 gate: 2.249971657874994e-05\n",
      "[18/30] [7800/11532] loss: 0.00010572499013505876 gen: 4.729126885649748e-05 gate: 5.843371764058247e-05\n",
      "[18/30] [7900/11532] loss: 0.002226810669526458 gen: 0.0018536384450271726 gate: 0.0003731723118107766\n",
      "[18/30] [8000/11532] loss: 0.0027970443479716778 gen: 0.002730077598243952 gate: 6.696677883155644e-05\n",
      "[18/30] [8100/11532] loss: 0.010387036949396133 gen: 0.0102005023509264 gate: 0.0001865347585408017\n",
      "[18/30] [8200/11532] loss: 0.000262285495409742 gen: 0.00015761562099214643 gate: 0.00010466988169355318\n",
      "[18/30] [8300/11532] loss: 0.0018871364882215858 gen: 0.0018569481326267123 gate: 3.0188339223968796e-05\n",
      "[18/30] [8400/11532] loss: 0.0015834710793569684 gen: 0.0014262845506891608 gate: 0.00015718652866780758\n",
      "[18/30] [8500/11532] loss: 0.01185624860227108 gen: 0.01008256059139967 gate: 0.0017736876616254449\n",
      "[18/30] [8600/11532] loss: 0.010208532214164734 gen: 0.01014466118067503 gate: 6.387103348970413e-05\n",
      "[18/30] [8700/11532] loss: 0.0032282453030347824 gen: 0.0031927870586514473 gate: 3.5458218917483464e-05\n",
      "[18/30] [8800/11532] loss: 0.007771153002977371 gen: 0.006667877081781626 gate: 0.0011032758047804236\n",
      "[18/30] [8900/11532] loss: 0.0018186087254434824 gen: 0.0017674352275207639 gate: 5.117347609484568e-05\n",
      "[18/30] [9000/11532] loss: 0.001147930626757443 gen: 0.0010901771020144224 gate: 5.7753484725253657e-05\n",
      "[18/30] [9100/11532] loss: 0.00022518268087878823 gen: 0.00021710313740186393 gate: 8.079545295913704e-06\n",
      "[18/30] [9200/11532] loss: 0.008279683068394661 gen: 0.008258857764303684 gate: 2.082499304378871e-05\n",
      "[18/30] [9300/11532] loss: 0.06348450481891632 gen: 0.04901796206831932 gate: 0.014466543681919575\n",
      "[18/30] [9400/11532] loss: 0.0016403256449848413 gen: 0.0016072271391749382 gate: 3.309846215415746e-05\n",
      "[18/30] [9500/11532] loss: 0.015117187052965164 gen: 0.015077535063028336 gate: 3.965192081523128e-05\n",
      "[18/30] [9600/11532] loss: 0.00035399175249040127 gen: 0.0002934484218712896 gate: 6.0543319705175236e-05\n",
      "[18/30] [9700/11532] loss: 0.00022041228658054024 gen: 0.00018995160644408315 gate: 3.046067649847828e-05\n",
      "[18/30] [9800/11532] loss: 0.0003058302099816501 gen: 0.00028711368213407695 gate: 1.8716531485551968e-05\n",
      "[18/30] [9900/11532] loss: 0.00010670255869626999 gen: 7.152055331971496e-05 gate: 3.5182005376555026e-05\n",
      "[18/30] [10000/11532] loss: 0.002662648679688573 gen: 0.00262772967107594 gate: 3.4918968594865873e-05\n",
      "[18/30] [10100/11532] loss: 0.0053066411055624485 gen: 0.004955954849720001 gate: 0.00035068628494627774\n",
      "[18/30] [10200/11532] loss: 0.011538643389940262 gen: 0.011450822465121746 gate: 8.782111399341375e-05\n",
      "[18/30] [10300/11532] loss: 0.0013145275879651308 gen: 0.0012603987706825137 gate: 5.4128875490278006e-05\n",
      "[18/30] [10400/11532] loss: 8.06215321063064e-05 gen: 5.641035022563301e-05 gate: 2.4211181880673394e-05\n",
      "[18/30] [10500/11532] loss: 0.012122387066483498 gen: 0.012060452252626419 gate: 6.19351485511288e-05\n",
      "[18/30] [10600/11532] loss: 0.017068402841687202 gen: 0.01703421212732792 gate: 3.419060158194043e-05\n",
      "[18/30] [10700/11532] loss: 0.04270186647772789 gen: 0.04258185997605324 gate: 0.00012000647984677926\n",
      "[18/30] [10800/11532] loss: 0.0779898539185524 gen: 0.015965493395924568 gate: 0.06202435865998268\n",
      "[18/30] [10900/11532] loss: 0.001064911368303001 gen: 0.0010013453429564834 gate: 6.356601807055995e-05\n",
      "[18/30] [11000/11532] loss: 0.0003076553693972528 gen: 8.544899174012244e-05 gate: 0.00022220636310521513\n",
      "[18/30] [11100/11532] loss: 0.006841265130788088 gen: 0.006802794523537159 gate: 3.8470825529657304e-05\n",
      "[18/30] [11200/11532] loss: 0.005949192214757204 gen: 0.005918920040130615 gate: 3.0272185540525243e-05\n",
      "[18/30] [11300/11532] loss: 2.254907121823635e-05 gen: 9.197530744131655e-06 gate: 1.3351540474104695e-05\n",
      "[18/30] [11400/11532] loss: 7.285213087016018e-06 gen: -4.917725959785457e-07 gate: 7.776985512464307e-06\n",
      "[18/30] [11500/11532] loss: 0.005246357060968876 gen: 0.005200143437832594 gate: 4.621368498192169e-05\n"
     ]
    },
    {
     "name": "stderr",
     "output_type": "stream",
     "text": [
      "100%|██████████| 640/640 [01:59<00:00,  5.38it/s]\n"
     ]
    },
    {
     "name": "stdout",
     "output_type": "stream",
     "text": [
      "{'joint_goal_accuracy': 0.8077373974208675, 'turn_slot_accuracy': 0.9938387390907935, 'turn_slot_f1': 0.9733725348690715}\n",
      "joint_goal_accuracy: 0.8077373974208675\n",
      "turn_slot_accuracy: 0.9938387390907935\n",
      "turn_slot_f1: 0.9733725348690715\n",
      "'--Update Best checkpoint!, epoch: 19'\n",
      "--Saving best model checkpoint\n",
      "time for 1 epoch: 1972.8341464996338\n",
      "[19/30] [0/11532] loss: 0.004622033331543207 gen: 0.004547036252915859 gate: 7.499721687054262e-05\n",
      "[19/30] [100/11532] loss: 0.03966108709573746 gen: 0.022906433790922165 gate: 0.016754651442170143\n",
      "[19/30] [200/11532] loss: 0.01984308660030365 gen: 0.019602205604314804 gate: 0.00024088069039862603\n",
      "[19/30] [300/11532] loss: 0.00031970959389582276 gen: 0.00030636152951046824 gate: 1.3348076208785642e-05\n",
      "[19/30] [400/11532] loss: 0.14422547817230225 gen: 0.06358149647712708 gate: 0.08064398169517517\n",
      "[19/30] [500/11532] loss: 0.0015934567200019956 gen: 0.0015282620443031192 gate: 6.519471935462207e-05\n",
      "[19/30] [600/11532] loss: 5.736116145271808e-05 gen: 4.5565870095742866e-05 gate: 1.1795293175964616e-05\n",
      "[19/30] [700/11532] loss: 0.0371110625565052 gen: 0.03685854375362396 gate: 0.00025251711485907435\n",
      "[19/30] [800/11532] loss: 0.010745161212980747 gen: 0.010728380642831326 gate: 1.6780470105004497e-05\n",
      "[19/30] [900/11532] loss: 0.0007857029559090734 gen: 0.0007753499085083604 gate: 1.0353048310207669e-05\n",
      "[19/30] [1000/11532] loss: 0.006632109172642231 gen: 0.006611046846956015 gate: 2.1062152882223018e-05\n",
      "[19/30] [1100/11532] loss: 0.017512045800685883 gen: 0.0034737647511065006 gate: 0.01403828151524067\n",
      "[19/30] [1200/11532] loss: 2.669040986802429e-05 gen: 1.8822745914803818e-05 gate: 7.86766304372577e-06\n",
      "[19/30] [1300/11532] loss: 0.003490719711408019 gen: 0.003347743069753051 gate: 0.00014297672896645963\n",
      "[19/30] [1400/11532] loss: 0.013280422426760197 gen: 0.012146376073360443 gate: 0.0011340464698150754\n",
      "[19/30] [1500/11532] loss: 0.0001284962781937793 gen: 9.942214819602668e-05 gate: 2.907413181674201e-05\n",
      "[19/30] [1600/11532] loss: 0.0035971184261143208 gen: 0.001019121496938169 gate: 0.00257799681276083\n",
      "[19/30] [1700/11532] loss: 0.000635578646324575 gen: 0.00045684570795856416 gate: 0.00017873290926218033\n",
      "[19/30] [1800/11532] loss: 0.000940424797590822 gen: 0.0009136789594776928 gate: 2.6745819923235103e-05\n",
      "[19/30] [1900/11532] loss: 0.015370355919003487 gen: 0.015348273329436779 gate: 2.2082631403463893e-05\n",
      "[19/30] [2000/11532] loss: 0.016818655654788017 gen: 0.016765423119068146 gate: 5.32317026227247e-05\n",
      "[19/30] [2100/11532] loss: 0.002350499154999852 gen: 0.002319409279152751 gate: 3.1089934054762125e-05\n",
      "[19/30] [2200/11532] loss: 0.008271119557321072 gen: 0.007956662215292454 gate: 0.0003144573711324483\n",
      "[19/30] [2300/11532] loss: 0.00013896053133066744 gen: 0.00011257980077061802 gate: 2.6380730560049415e-05\n",
      "[19/30] [2400/11532] loss: 0.0007567614666186273 gen: 0.0006494151894003153 gate: 0.00010734626994235441\n",
      "[19/30] [2500/11532] loss: 0.01665486954152584 gen: 0.016633428633213043 gate: 2.1440477212308906e-05\n",
      "[19/30] [2600/11532] loss: 0.001967988209798932 gen: 0.0019078615587204695 gate: 6.012663652654737e-05\n",
      "[19/30] [2700/11532] loss: 0.006939183920621872 gen: 0.006472646724432707 gate: 0.0004665370215661824\n",
      "[19/30] [2800/11532] loss: 0.0019463960779830813 gen: 0.0019018962047994137 gate: 4.44998950115405e-05\n",
      "[19/30] [2900/11532] loss: 0.0054414053447544575 gen: 0.005374648608267307 gate: 6.675692566204816e-05\n",
      "[19/30] [3000/11532] loss: 0.015855399891734123 gen: 0.015776796266436577 gate: 7.860304322093725e-05\n",
      "[19/30] [3100/11532] loss: 0.008802201598882675 gen: 0.008740802295506 gate: 6.139956531114876e-05\n",
      "[19/30] [3200/11532] loss: 0.0009363438584841788 gen: 0.000880202860571444 gate: 5.614097972284071e-05\n",
      "[19/30] [3300/11532] loss: 6.642119842581451e-05 gen: 4.656120654544793e-05 gate: 1.985999188036658e-05\n",
      "[19/30] [3400/11532] loss: 0.00044654839439317584 gen: 0.00040597273618914187 gate: 4.057566911797039e-05\n",
      "[19/30] [3500/11532] loss: 0.008108194917440414 gen: 0.008090381510555744 gate: 1.781378341547679e-05\n",
      "[19/30] [3600/11532] loss: 0.0009301784448325634 gen: 0.000909924041479826 gate: 2.0254383343853988e-05\n",
      "[19/30] [3700/11532] loss: 0.006201672367751598 gen: 0.006154157221317291 gate: 4.751528467750177e-05\n",
      "[19/30] [3800/11532] loss: 0.07131777703762054 gen: 0.06986095011234283 gate: 0.0014568273909389973\n",
      "[19/30] [3900/11532] loss: 0.00020599890558514744 gen: 0.00018627427925821394 gate: 1.972462996491231e-05\n",
      "[19/30] [4000/11532] loss: 0.003812187584117055 gen: 0.0037835468538105488 gate: 2.8640688469749875e-05\n",
      "[19/30] [4100/11532] loss: 0.0035378814209252596 gen: 0.0035234163515269756 gate: 1.4465019376075361e-05\n",
      "[19/30] [4200/11532] loss: 0.004125755280256271 gen: 0.003918531816452742 gate: 0.0002072234492516145\n",
      "[19/30] [4300/11532] loss: 0.0004751063243020326 gen: 0.00046610611025244 gate: 9.000215868582018e-06\n",
      "[19/30] [4400/11532] loss: 0.0015403107972815633 gen: 0.0015169954858720303 gate: 2.331533505639527e-05\n",
      "[19/30] [4500/11532] loss: 0.11967189610004425 gen: 0.051710765808820724 gate: 0.06796112656593323\n",
      "[19/30] [4600/11532] loss: 0.007347337435930967 gen: 0.0073090773075819016 gate: 3.8260237488429993e-05\n",
      "[19/30] [4700/11532] loss: 7.758276478853077e-05 gen: 5.080596383777447e-05 gate: 2.677679731277749e-05\n",
      "[19/30] [4800/11532] loss: 0.00043079088209196925 gen: 0.0003604388621170074 gate: 7.035202725091949e-05\n",
      "[19/30] [4900/11532] loss: 0.0033959641586989164 gen: 0.003377016168087721 gate: 1.894788147183135e-05\n",
      "[19/30] [5000/11532] loss: 5.226653956924565e-05 gen: 3.189319249941036e-05 gate: 2.037334706983529e-05\n",
      "[19/30] [5100/11532] loss: 0.0047399564646184444 gen: 0.004389965441077948 gate: 0.00034999113995581865\n",
      "[19/30] [5200/11532] loss: 4.31728913099505e-05 gen: 3.5070799640379846e-05 gate: 8.102091669570655e-06\n",
      "[19/30] [5300/11532] loss: 0.003354026935994625 gen: 0.0033346989657729864 gate: 1.9328055714140646e-05\n",
      "[19/30] [5400/11532] loss: 0.0001766122441040352 gen: 0.0001685100723989308 gate: 8.102167157630902e-06\n",
      "[19/30] [5500/11532] loss: 0.0074628801085054874 gen: 0.00744717987254262 gate: 1.5700377844041213e-05\n",
      "[19/30] [5600/11532] loss: 0.0001412231649737805 gen: 8.176408300641924e-06 gate: 0.00013304674939718097\n",
      "[19/30] [5700/11532] loss: 0.009127591736614704 gen: 0.009111277759075165 gate: 1.6314377717208117e-05\n",
      "[19/30] [5800/11532] loss: 0.0009306946885772049 gen: 0.000915088749025017 gate: 1.5605946828145534e-05\n",
      "[19/30] [5900/11532] loss: 0.029535293579101562 gen: 0.029509706422686577 gate: 2.5586998162907548e-05\n",
      "[19/30] [6000/11532] loss: 0.012351062148809433 gen: 0.012335243634879589 gate: 1.5818628526176326e-05\n",
      "[19/30] [6100/11532] loss: 0.07869464159011841 gen: 0.04550275579094887 gate: 0.03319188579916954\n",
      "[19/30] [6200/11532] loss: 0.037953246384859085 gen: 0.021677957847714424 gate: 0.01627528853714466\n",
      "[19/30] [6300/11532] loss: 3.190991992596537e-05 gen: -6.752421995770419e-06 gate: 3.866234328597784e-05\n",
      "[19/30] [6400/11532] loss: 0.0040079145692288876 gen: 0.0036224096547812223 gate: 0.00038550508907064795\n",
      "[19/30] [6500/11532] loss: 0.00015067080676089972 gen: 0.00013658081297762692 gate: 1.4089995602262206e-05\n",
      "[19/30] [6600/11532] loss: 0.00043148049735464156 gen: 0.00041101599344983697 gate: 2.0464507542783394e-05\n",
      "[19/30] [6700/11532] loss: 0.003175177378579974 gen: 0.0031627388671040535 gate: 1.2438454177754465e-05\n",
      "[19/30] [6800/11532] loss: 0.0030264840461313725 gen: 0.0009035002440214157 gate: 0.0021229838021099567\n",
      "[19/30] [6900/11532] loss: 1.8626124074216932e-05 gen: 1.0633323654474225e-05 gate: 7.992799510248005e-06\n",
      "[19/30] [7000/11532] loss: 0.07385874539613724 gen: 0.0337148979306221 gate: 0.04014384746551514\n",
      "[19/30] [7100/11532] loss: 0.06372243911027908 gen: 0.010470712557435036 gate: 0.0532517284154892\n",
      "[19/30] [7200/11532] loss: 0.016943546012043953 gen: 0.016920315101742744 gate: 2.3230028091347776e-05\n",
      "[19/30] [7300/11532] loss: 0.003649779362604022 gen: 0.0036050069611519575 gate: 4.4772437831852585e-05\n",
      "[19/30] [7400/11532] loss: 0.0019395924173295498 gen: 0.001719132182188332 gate: 0.0002204602351412177\n",
      "[19/30] [7500/11532] loss: 0.02565908059477806 gen: 0.02221047505736351 gate: 0.0034486055374145508\n",
      "[19/30] [7600/11532] loss: 0.003880278905853629 gen: 0.0038208025507628918 gate: 5.9476391470525414e-05\n",
      "[19/30] [7700/11532] loss: 9.895469702314585e-05 gen: 5.834019975736737e-05 gate: 4.061450090375729e-05\n",
      "[19/30] [7800/11532] loss: 0.0009298482909798622 gen: 0.0008971657371148467 gate: 3.2682568416930735e-05\n",
      "[19/30] [7900/11532] loss: 0.001851228647865355 gen: 0.0015352212358266115 gate: 0.00031600738293491304\n",
      "[19/30] [8000/11532] loss: 0.00044699449790641665 gen: 0.00043351019849069417 gate: 1.3484307601174805e-05\n",
      "[19/30] [8100/11532] loss: 0.00017183244926854968 gen: 0.00011467109288787469 gate: 5.7161360018653795e-05\n",
      "[19/30] [8200/11532] loss: 0.0001724316825857386 gen: 0.0001114387487177737 gate: 6.09929375059437e-05\n",
      "[19/30] [8300/11532] loss: 0.0002358694327995181 gen: 0.0001268324558623135 gate: 0.00010903696966124699\n",
      "[19/30] [8400/11532] loss: 0.0012307288125157356 gen: 0.0011718894820660353 gate: 5.883929770789109e-05\n",
      "[19/30] [8500/11532] loss: 0.03096441738307476 gen: 0.030822154134511948 gate: 0.00014226287021301687\n",
      "[19/30] [8600/11532] loss: 0.012272598221898079 gen: 0.01219648402184248 gate: 7.61141418479383e-05\n",
      "[19/30] [8700/11532] loss: 0.013942481949925423 gen: 0.013718937523663044 gate: 0.0002235441206721589\n",
      "[19/30] [8800/11532] loss: 0.0057753026485443115 gen: 0.005513785406947136 gate: 0.00026151721249334514\n",
      "[19/30] [8900/11532] loss: 0.0007420710753649473 gen: 0.0006452191737480462 gate: 9.685189434094355e-05\n",
      "[19/30] [9000/11532] loss: 0.016078760847449303 gen: 0.015982938930392265 gate: 9.58219388849102e-05\n",
      "[19/30] [9100/11532] loss: 0.005730682052671909 gen: 0.005679544527083635 gate: 5.113768202136271e-05\n",
      "[19/30] [9200/11532] loss: 0.07446343451738358 gen: 0.03475918993353844 gate: 0.03970424458384514\n",
      "[19/30] [9300/11532] loss: 0.004746357444673777 gen: 0.0047034514136612415 gate: 4.29058272857219e-05\n",
      "[19/30] [9400/11532] loss: 0.00048767257248982787 gen: 0.00037937177694402635 gate: 0.00010830081009771675\n",
      "[19/30] [9500/11532] loss: 0.001854633679613471 gen: 0.0018045407487079501 gate: 5.009296000935137e-05\n",
      "[19/30] [9600/11532] loss: 0.0022477880120277405 gen: 0.002222570590674877 gate: 2.5217414076905698e-05\n",
      "[19/30] [9700/11532] loss: 0.008746485225856304 gen: 0.00871164072304964 gate: 3.4844677429646254e-05\n",
      "[19/30] [9800/11532] loss: 0.006325102876871824 gen: 0.006225405260920525 gate: 9.969774691853672e-05\n",
      "[19/30] [9900/11532] loss: 0.0006218775524757802 gen: 0.000576172664295882 gate: 4.570491364574991e-05\n",
      "[19/30] [10000/11532] loss: 0.002424417296424508 gen: 0.002392643131315708 gate: 3.177416874677874e-05\n",
      "[19/30] [10100/11532] loss: 0.007483206689357758 gen: 0.007457824423909187 gate: 2.5382363673998043e-05\n",
      "[19/30] [10200/11532] loss: 0.002765165874734521 gen: 0.002690813271328807 gate: 7.435253064613789e-05\n",
      "[19/30] [10300/11532] loss: 0.03664558008313179 gen: 0.01578943058848381 gate: 0.02085614949464798\n",
      "[19/30] [10400/11532] loss: 0.005773697979748249 gen: 0.005731605459004641 gate: 4.209268081467599e-05\n",
      "[19/30] [10500/11532] loss: 1.2301220522203948e-05 gen: -1.4136355730443029e-06 gate: 1.3714856322621927e-05\n",
      "[19/30] [10600/11532] loss: 0.008755480870604515 gen: 0.008713078685104847 gate: 4.2402341932756826e-05\n",
      "[19/30] [10700/11532] loss: 0.0015704575926065445 gen: 0.0015487786149606109 gate: 2.167902493965812e-05\n",
      "[19/30] [10800/11532] loss: 0.0002943960716947913 gen: 0.00026446394622325897 gate: 2.9932136385468766e-05\n",
      "[19/30] [10900/11532] loss: 2.0969111574231647e-05 gen: 1.1379466741345823e-05 gate: 9.589644832885824e-06\n",
      "[19/30] [11000/11532] loss: 0.0009903658647090197 gen: 0.0008993169758468866 gate: 9.104886703426018e-05\n",
      "[19/30] [11100/11532] loss: 0.0008497674134559929 gen: 0.0008367607952095568 gate: 1.3006606423004996e-05\n",
      "[19/30] [11200/11532] loss: 0.003047918900847435 gen: 0.003010324202477932 gate: 3.759466198971495e-05\n",
      "[19/30] [11300/11532] loss: 0.0002345087268622592 gen: 0.00020346714882180095 gate: 3.104158167843707e-05\n",
      "[19/30] [11400/11532] loss: 0.0018064944306388497 gen: 0.0017984526930376887 gate: 8.041780347411986e-06\n",
      "[19/30] [11500/11532] loss: 0.001165098394267261 gen: 0.001147964270785451 gate: 1.7134139852714725e-05\n"
     ]
    },
    {
     "name": "stderr",
     "output_type": "stream",
     "text": [
      "100%|██████████| 640/640 [02:06<00:00,  5.07it/s]\n"
     ]
    },
    {
     "name": "stdout",
     "output_type": "stream",
     "text": [
      "{'joint_goal_accuracy': 0.8034388432981634, 'turn_slot_accuracy': 0.9936824280317866, 'turn_slot_f1': 0.9728772329544656}\n",
      "joint_goal_accuracy: 0.8034388432981634\n",
      "turn_slot_accuracy: 0.9936824280317866\n",
      "turn_slot_f1: 0.9728772329544656\n",
      "time for 1 epoch: 1995.6757457256317\n",
      "[20/30] [0/11532] loss: 0.01542236004024744 gen: 0.015409071929752827 gate: 1.3288233276398387e-05\n",
      "[20/30] [100/11532] loss: 0.00023828927078284323 gen: 0.00021984227350912988 gate: 1.8446999092702754e-05\n",
      "[20/30] [200/11532] loss: 0.00028930892585776746 gen: 0.0002728438121266663 gate: 1.6465104636154138e-05\n",
      "[20/30] [300/11532] loss: 0.0267057865858078 gen: 0.007682624273002148 gate: 0.019023163244128227\n",
      "[20/30] [400/11532] loss: 0.0006217620684765279 gen: 0.0006078876904211938 gate: 1.3874356227461249e-05\n",
      "[20/30] [500/11532] loss: 0.06843580305576324 gen: 0.06820762157440186 gate: 0.00022818311117589474\n",
      "[20/30] [600/11532] loss: 0.021174483001232147 gen: 0.009450078941881657 gate: 0.011724403128027916\n",
      "[20/30] [700/11532] loss: 0.014552640728652477 gen: 0.014490731060504913 gate: 6.190957356011495e-05\n",
      "[20/30] [800/11532] loss: 0.01516485121101141 gen: 0.0145516162738204 gate: 0.000613234587945044\n",
      "[20/30] [900/11532] loss: 0.010309627279639244 gen: 0.010294451378285885 gate: 1.5176108718151227e-05\n",
      "[20/30] [1000/11532] loss: 0.01386414933949709 gen: 0.013845274224877357 gate: 1.8875434761866927e-05\n",
      "[20/30] [1100/11532] loss: 8.079110557446256e-05 gen: 6.463746831286699e-05 gate: 1.615363908058498e-05\n",
      "[20/30] [1200/11532] loss: 0.006952232681214809 gen: 0.006660471670329571 gate: 0.0002917612437158823\n",
      "[20/30] [1300/11532] loss: 4.775837624038104e-06 gen: -1.6963839470918174e-06 gate: 6.472221684816759e-06\n",
      "[20/30] [1400/11532] loss: 0.008582697249948978 gen: 0.008503313176333904 gate: 7.938437920529395e-05\n",
      "[20/30] [1500/11532] loss: 0.0004972362075932324 gen: 0.0004868948308285326 gate: 1.0341383131162729e-05\n",
      "[20/30] [1600/11532] loss: 0.013758167624473572 gen: 0.013747365213930607 gate: 1.0802512406371534e-05\n",
      "[20/30] [1700/11532] loss: 0.0029236965347081423 gen: 0.002900374587625265 gate: 2.3322056222241372e-05\n",
      "[20/30] [1800/11532] loss: 0.0018607750535011292 gen: 0.0008801578660495579 gate: 0.0009806171292439103\n",
      "[20/30] [1900/11532] loss: 0.00022419393644668162 gen: 0.00021048086637165397 gate: 1.3713074622501153e-05\n",
      "[20/30] [2000/11532] loss: 0.0011635272530838847 gen: 0.0011108310427516699 gate: 5.2696206694236025e-05\n",
      "[20/30] [2100/11532] loss: 0.003489152295514941 gen: 0.0034344904124736786 gate: 5.466178845381364e-05\n",
      "[20/30] [2200/11532] loss: 0.006192331202328205 gen: 0.006140411365777254 gate: 5.192002936382778e-05\n",
      "[20/30] [2300/11532] loss: 0.004134657792747021 gen: 0.004086402244865894 gate: 4.825562427868135e-05\n",
      "[20/30] [2400/11532] loss: 0.00923727173358202 gen: 0.009201056323945522 gate: 3.621498399297707e-05\n",
      "[20/30] [2500/11532] loss: 0.011494921520352364 gen: 0.01144410390406847 gate: 5.081784547655843e-05\n",
      "[20/30] [2600/11532] loss: -1.0406729415990412e-06 gen: -1.2636394785658922e-05 gate: 1.159572184405988e-05\n",
      "[20/30] [2700/11532] loss: 0.039882659912109375 gen: 0.03628437966108322 gate: 0.0035982797853648663\n",
      "[20/30] [2800/11532] loss: 0.0018632904393598437 gen: 0.0018503948813304305 gate: 1.2895604413643014e-05\n",
      "[20/30] [2900/11532] loss: 0.0008187650237232447 gen: 0.0007478027255274355 gate: 7.096229091985151e-05\n",
      "[20/30] [3000/11532] loss: 0.0028578718192875385 gen: 0.0028424919582903385 gate: 1.5379760952782817e-05\n",
      "[20/30] [3100/11532] loss: 0.00012273306492716074 gen: 7.71674676798284e-05 gate: 4.5565597247332335e-05\n",
      "[20/30] [3200/11532] loss: 0.007390439044684172 gen: 0.007346527185291052 gate: 4.3911968532484025e-05\n",
      "[20/30] [3300/11532] loss: 0.010092325508594513 gen: 0.010086115449666977 gate: 6.210080300661502e-06\n",
      "[20/30] [3400/11532] loss: 0.035895682871341705 gen: 0.0358719602227211 gate: 2.372372728132177e-05\n",
      "[20/30] [3500/11532] loss: 0.0009418061817996204 gen: 0.0008731879643164575 gate: 6.861823931103572e-05\n",
      "[20/30] [3600/11532] loss: 0.00015609188994858414 gen: 0.00013731331273447722 gate: 1.8778575395117514e-05\n",
      "[20/30] [3700/11532] loss: 0.0016714646480977535 gen: 0.001622724812477827 gate: 4.8739795602159575e-05\n",
      "[20/30] [3800/11532] loss: 0.00022221164545044303 gen: 0.0002034373173955828 gate: 1.8774333511828445e-05\n",
      "[20/30] [3900/11532] loss: 0.010663102380931377 gen: 0.010621135123074055 gate: 4.1966843127738684e-05\n",
      "[20/30] [4000/11532] loss: 0.009987334720790386 gen: 0.007350452709943056 gate: 0.0026368817780166864\n",
      "[20/30] [4100/11532] loss: 0.0865965187549591 gen: 0.016479942947626114 gate: 0.0701165720820427\n",
      "[20/30] [4200/11532] loss: 0.004556100815534592 gen: 0.0036745022516697645 gate: 0.0008815987966954708\n",
      "[20/30] [4300/11532] loss: 0.00011324627121211961 gen: 7.193252531578764e-05 gate: 4.1313745896331966e-05\n",
      "[20/30] [4400/11532] loss: 0.00018351306789554656 gen: 0.00014367805852089077 gate: 3.983500937465578e-05\n",
      "[20/30] [4500/11532] loss: 0.00012594435247592628 gen: 0.00011305285443086177 gate: 1.2891495316580404e-05\n",
      "[20/30] [4600/11532] loss: 0.0058115697465837 gen: 0.0055107250809669495 gate: 0.00030084478203207254\n",
      "[20/30] [4700/11532] loss: 0.01145253423601389 gen: 0.01141353789716959 gate: 3.8996204239083454e-05\n",
      "[20/30] [4800/11532] loss: 0.00030584988417103887 gen: 0.0002875419449992478 gate: 1.8307928257854655e-05\n",
      "[20/30] [4900/11532] loss: 0.007715038955211639 gen: 0.007698583882302046 gate: 1.6454971046186984e-05\n",
      "[20/30] [5000/11532] loss: 0.00950489193201065 gen: 0.009459205903112888 gate: 4.56857233075425e-05\n",
      "[20/30] [5100/11532] loss: 0.0015688883140683174 gen: 0.00153660262003541 gate: 3.228571222280152e-05\n",
      "[20/30] [5200/11532] loss: 0.15924832224845886 gen: 0.05794913321733475 gate: 0.10129918903112411\n",
      "[20/30] [5300/11532] loss: 0.00038114108610898256 gen: 0.0003686613927129656 gate: 1.247968066309113e-05\n",
      "[20/30] [5400/11532] loss: 0.006131327711045742 gen: 0.005958493333309889 gate: 0.00017283436318393797\n",
      "[20/30] [5500/11532] loss: 0.04347136616706848 gen: 0.0026703334879130125 gate: 0.0408010333776474\n",
      "[20/30] [5600/11532] loss: 0.006845957133919001 gen: 0.006783705670386553 gate: 6.22514562564902e-05\n",
      "[20/30] [5700/11532] loss: 0.003912860527634621 gen: 0.0039010392501950264 gate: 1.1821443877124693e-05\n",
      "[20/30] [5800/11532] loss: 7.304224709514529e-05 gen: 5.7747292885323986e-05 gate: 1.5294952390831895e-05\n",
      "[20/30] [5900/11532] loss: 0.0006245422991923988 gen: 0.0006118665332905948 gate: 1.2675754078372847e-05\n",
      "[20/30] [6000/11532] loss: 0.00015986704966053367 gen: 0.00014953911886550486 gate: 1.0327936251997016e-05\n",
      "[20/30] [6100/11532] loss: 0.007423440460115671 gen: 0.007418069988489151 gate: 5.370294729800662e-06\n",
      "[20/30] [6200/11532] loss: 0.00012102159962523729 gen: 0.00011150616774102673 gate: 9.515432793705259e-06\n",
      "[20/30] [6300/11532] loss: 0.0032408141996711493 gen: 0.003211383940652013 gate: 2.9430226277327165e-05\n",
      "[20/30] [6400/11532] loss: 0.004658915102481842 gen: 0.004648012109100819 gate: 1.0902901522058528e-05\n",
      "[20/30] [6500/11532] loss: 0.013195602223277092 gen: 0.013188851065933704 gate: 6.75116552883992e-06\n",
      "[20/30] [6600/11532] loss: 0.026829231530427933 gen: 0.026774873957037926 gate: 5.4358042689273134e-05\n",
      "[20/30] [6700/11532] loss: 7.25475765648298e-05 gen: 5.938746107858606e-05 gate: 1.3160118214727845e-05\n",
      "[20/30] [6800/11532] loss: 0.003862756071612239 gen: 0.0038523515686392784 gate: 1.040458391798893e-05\n",
      "[20/30] [6900/11532] loss: 8.870238525560126e-05 gen: 7.933594315545633e-05 gate: 9.36644028115552e-06\n",
      "[20/30] [7000/11532] loss: 0.00011732990969903767 gen: 0.00011096892558271065 gate: 6.360986844811123e-06\n",
      "[20/30] [7100/11532] loss: 0.0018145976355299354 gen: 0.0017440117662772536 gate: 7.05858547007665e-05\n",
      "[20/30] [7200/11532] loss: 0.00330841401591897 gen: 0.003298382740467787 gate: 1.0031339115812443e-05\n",
      "[20/30] [7300/11532] loss: 0.0010346357012167573 gen: 0.0010217203525826335 gate: 1.2915369552501943e-05\n",
      "[20/30] [7400/11532] loss: 0.008599030785262585 gen: 0.008582732640206814 gate: 1.629858888918534e-05\n",
      "[20/30] [7500/11532] loss: 0.021666837856173515 gen: 0.0216599702835083 gate: 6.867659976705909e-06\n",
      "[20/30] [7600/11532] loss: 0.0002791615843307227 gen: 0.0002549411728978157 gate: 2.422039869998116e-05\n",
      "[20/30] [7700/11532] loss: 2.8586084226844832e-05 gen: 2.6319125026930124e-05 gate: 2.266958290420007e-06\n",
      "[20/30] [7800/11532] loss: 0.004080480430275202 gen: 0.004070450086146593 gate: 1.003055785986362e-05\n",
      "[20/30] [7900/11532] loss: 0.024931615218520164 gen: 0.024922022596001625 gate: 9.592379683454055e-06\n",
      "[20/30] [8000/11532] loss: 0.03610951453447342 gen: 0.012502365745604038 gate: 0.023607147857546806\n",
      "[20/30] [8100/11532] loss: 4.107227869099006e-05 gen: 3.111006662948057e-05 gate: 9.962211152014788e-06\n",
      "[20/30] [8200/11532] loss: 0.007738457527011633 gen: 0.007637834642082453 gate: 0.00010062283399747685\n",
      "[20/30] [8300/11532] loss: 5.649748709402047e-05 gen: 4.846368756261654e-05 gate: 8.03380044089863e-06\n",
      "[20/30] [8400/11532] loss: 0.0004149437299929559 gen: 0.00040066204383037984 gate: 1.4281687072070781e-05\n",
      "[20/30] [8500/11532] loss: 0.0040739355608820915 gen: 0.004067081958055496 gate: 6.853538707218831e-06\n",
      "[20/30] [8600/11532] loss: 0.0009099510498344898 gen: 0.0009043542668223381 gate: 5.596803930529859e-06\n",
      "[20/30] [8700/11532] loss: 0.002961335936561227 gen: 0.0029521046672016382 gate: 9.23117568163434e-06\n",
      "[20/30] [8800/11532] loss: 0.0066748675890266895 gen: 0.0003370694175828248 gate: 0.006337798200547695\n",
      "[20/30] [8900/11532] loss: 0.010541139170527458 gen: 0.010534077882766724 gate: 7.061046744638588e-06\n",
      "[20/30] [9000/11532] loss: 0.0189907718449831 gen: 0.008570021018385887 gate: 0.010420750826597214\n",
      "[20/30] [9100/11532] loss: 0.0059257568791508675 gen: 0.005793876480311155 gate: 0.00013188054435886443\n",
      "[20/30] [9200/11532] loss: -5.945626071479637e-07 gen: -2.8529098017315846e-06 gate: 2.258347194583621e-06\n",
      "[20/30] [9300/11532] loss: 0.00011085315782111138 gen: 0.00010238886170554906 gate: 8.464292477583513e-06\n",
      "[20/30] [9400/11532] loss: 0.012860104441642761 gen: 0.01283877994865179 gate: 2.1324065528460778e-05\n",
      "[20/30] [9500/11532] loss: 0.006419769953936338 gen: 0.006416071206331253 gate: 3.698775344673777e-06\n",
      "[20/30] [9600/11532] loss: 3.7509380490519106e-05 gen: 2.5785271645872854e-05 gate: 1.1724109754140954e-05\n",
      "[20/30] [9700/11532] loss: 0.0006730972090736032 gen: 0.0006667864508926868 gate: 6.310767275863327e-06\n",
      "[20/30] [9800/11532] loss: 0.11623375862836838 gen: 0.06469140201807022 gate: 0.05154235661029816\n",
      "[20/30] [9900/11532] loss: 0.007743288297206163 gen: 0.007710691075772047 gate: 3.259727964177728e-05\n",
      "[20/30] [10000/11532] loss: 0.00040358310798183084 gen: 0.0003985353105235845 gate: 5.0477883632993326e-06\n",
      "[20/30] [10100/11532] loss: 0.014042319729924202 gen: 0.013974099420011044 gate: 6.822043360443786e-05\n",
      "[20/30] [10200/11532] loss: 0.09051205217838287 gen: 0.04493841156363487 gate: 0.0455736443400383\n",
      "[20/30] [10300/11532] loss: 0.0566011443734169 gen: 0.020685816183686256 gate: 0.035915326327085495\n",
      "[20/30] [10400/11532] loss: 0.012488788925111294 gen: 0.01248473022133112 gate: 4.058378181071021e-06\n",
      "[20/30] [10500/11532] loss: 4.169898966210894e-05 gen: 3.330049366923049e-05 gate: 8.398496902373154e-06\n",
      "[20/30] [10600/11532] loss: 0.00016278578550554812 gen: 0.0001581002288730815 gate: 4.685549811256351e-06\n",
      "[20/30] [10700/11532] loss: 0.002740290015935898 gen: 0.0027359211817383766 gate: 4.368850113678491e-06\n",
      "[20/30] [10800/11532] loss: 0.00020736735314130783 gen: 0.00017805933021008968 gate: 2.930802475020755e-05\n",
      "[20/30] [10900/11532] loss: 0.00011784586240537465 gen: 0.00011455902131274343 gate: 3.2868431389943e-06\n",
      "[20/30] [11000/11532] loss: 0.0013816526625305414 gen: 0.0013708194019272923 gate: 1.083320785255637e-05\n",
      "[20/30] [11100/11532] loss: 0.0028023591730743647 gen: 0.0027982061728835106 gate: 4.153077043156372e-06\n",
      "[20/30] [11200/11532] loss: 0.005986184813082218 gen: 0.0059786331839859486 gate: 7.551488124590833e-06\n",
      "[20/30] [11300/11532] loss: 0.011266237124800682 gen: 0.011256199330091476 gate: 1.003760644380236e-05\n",
      "[20/30] [11400/11532] loss: 1.4020719390828162e-05 gen: 7.37889104129863e-06 gate: 6.641828349529533e-06\n",
      "[20/30] [11500/11532] loss: 0.07480324804782867 gen: 0.01942388527095318 gate: 0.055379364639520645\n"
     ]
    },
    {
     "name": "stderr",
     "output_type": "stream",
     "text": [
      "100%|██████████| 640/640 [01:59<00:00,  5.38it/s]\n"
     ]
    },
    {
     "name": "stdout",
     "output_type": "stream",
     "text": [
      "{'joint_goal_accuracy': 0.8114497850722938, 'turn_slot_accuracy': 0.9939125526464359, 'turn_slot_f1': 0.9733549156118104}\n",
      "joint_goal_accuracy: 0.8114497850722938\n",
      "turn_slot_accuracy: 0.9939125526464359\n",
      "turn_slot_f1: 0.9733549156118104\n",
      "'--Update Best checkpoint!, epoch: 21'\n",
      "--Saving best model checkpoint\n",
      "time for 1 epoch: 2002.7902505397797\n",
      "[21/30] [0/11532] loss: 0.00026055844500660896 gen: 0.0002555967657826841 gate: 4.9616901378612965e-06\n",
      "[21/30] [100/11532] loss: 0.026624459773302078 gen: 0.008500421419739723 gate: 0.018124038353562355\n",
      "[21/30] [200/11532] loss: 0.0004209235485177487 gen: 0.0004159154777880758 gate: 5.008062544220593e-06\n",
      "[21/30] [300/11532] loss: 0.007128195371478796 gen: 0.0071222297847270966 gate: 5.965678155916976e-06\n",
      "[21/30] [400/11532] loss: 0.003183758584782481 gen: 0.0031488963868469 gate: 3.4862088796216995e-05\n",
      "[21/30] [500/11532] loss: 0.009976658970117569 gen: 0.00979809183627367 gate: 0.00017856679914984852\n",
      "[21/30] [600/11532] loss: 0.0073741585947573185 gen: 0.007357295136898756 gate: 1.686326322669629e-05\n",
      "[21/30] [700/11532] loss: 8.464164420729503e-05 gen: 7.6476571848616e-05 gate: 8.165069630194921e-06\n",
      "[21/30] [800/11532] loss: 0.01477099023759365 gen: 0.014754707925021648 gate: 1.628231802897062e-05\n",
      "[21/30] [900/11532] loss: 0.010134678333997726 gen: 0.00904943235218525 gate: 0.0010852458653971553\n",
      "[21/30] [1000/11532] loss: 0.0004376987344585359 gen: 0.0004205102741252631 gate: 1.718845851428341e-05\n",
      "[21/30] [1100/11532] loss: 0.002945834770798683 gen: 0.002932424657046795 gate: 1.3410163774096873e-05\n",
      "[21/30] [1200/11532] loss: 1.9291603166493587e-05 gen: 1.472797248425195e-05 gate: 4.563630227494286e-06\n",
      "[21/30] [1300/11532] loss: 0.0007357771974056959 gen: 0.0007246806635521352 gate: 1.1096537491539493e-05\n",
      "[21/30] [1400/11532] loss: 0.002544293412938714 gen: 0.0025050202384591103 gate: 3.9273101720027626e-05\n",
      "[21/30] [1500/11532] loss: 0.02875600755214691 gen: 0.016271991655230522 gate: 0.012484016828238964\n",
      "[21/30] [1600/11532] loss: 0.045935627073049545 gen: 0.022680705413222313 gate: 0.023254921659827232\n",
      "[21/30] [1700/11532] loss: 3.8657621189486235e-05 gen: 3.172168362652883e-05 gate: 6.935937108210055e-06\n",
      "[21/30] [1800/11532] loss: 0.018154777586460114 gen: 0.018128640949726105 gate: 2.6136869564652443e-05\n",
      "[21/30] [1900/11532] loss: 0.0053223432041704655 gen: 0.0053149014711380005 gate: 7.441848993039457e-06\n",
      "[21/30] [2000/11532] loss: 0.023489268496632576 gen: 0.02347973734140396 gate: 9.53034577833023e-06\n",
      "[21/30] [2100/11532] loss: 0.0002551616635173559 gen: 0.00025078607723116875 gate: 4.375593562144786e-06\n",
      "[21/30] [2200/11532] loss: 0.002819604706019163 gen: 0.00281516183167696 gate: 4.442963472683914e-06\n",
      "[21/30] [2300/11532] loss: 0.005079650320112705 gen: 0.005057694390416145 gate: 2.1955913325655274e-05\n",
      "[21/30] [2400/11532] loss: 0.00011004822590621188 gen: 0.00010594878403935581 gate: 4.099445050087525e-06\n",
      "[21/30] [2500/11532] loss: 0.0009421157883480191 gen: 0.00029976508812978864 gate: 0.0006423507002182305\n",
      "[21/30] [2600/11532] loss: 0.0002035593643086031 gen: 8.043914567679167e-05 gate: 0.00012312021863181144\n",
      "[21/30] [2700/11532] loss: 0.01030526403337717 gen: 0.01029857899993658 gate: 6.684771960863145e-06\n",
      "[21/30] [2800/11532] loss: 0.0025153125170618296 gen: 0.0025039713364094496 gate: 1.1341229765093885e-05\n",
      "[21/30] [2900/11532] loss: 0.00430709682404995 gen: 0.004299950320273638 gate: 7.146549705794314e-06\n",
      "[21/30] [3000/11532] loss: 0.0037242863327264786 gen: 0.0036622260231524706 gate: 6.206019315868616e-05\n",
      "[21/30] [3100/11532] loss: 0.000845275935716927 gen: 0.0008240377064794302 gate: 2.1238200133666396e-05\n",
      "[21/30] [3200/11532] loss: 7.86820164648816e-05 gen: 7.446869858540595e-05 gate: 4.213319243717706e-06\n",
      "[21/30] [3300/11532] loss: 0.014788832515478134 gen: 0.014777544885873795 gate: 1.1287659617664758e-05\n",
      "[21/30] [3400/11532] loss: 0.017287397757172585 gen: 0.0172782801091671 gate: 9.117055014939979e-06\n",
      "[21/30] [3500/11532] loss: 0.00020862603560090065 gen: 0.0001942186354426667 gate: 1.4407403796212748e-05\n",
      "[21/30] [3600/11532] loss: 0.010938323102891445 gen: 0.010906754992902279 gate: 3.156842285534367e-05\n",
      "[21/30] [3700/11532] loss: 0.0037567659746855497 gen: 0.00372412265278399 gate: 3.264340557507239e-05\n",
      "[21/30] [3800/11532] loss: 0.0002204455086030066 gen: 0.00020437435887288302 gate: 1.6071151549112983e-05\n",
      "[21/30] [3900/11532] loss: 0.004376246593892574 gen: 0.004362422041594982 gate: 1.3824459529132582e-05\n",
      "[21/30] [4000/11532] loss: 0.06673303246498108 gen: 0.028229234740138054 gate: 0.038503795862197876\n",
      "[21/30] [4100/11532] loss: 0.01569371297955513 gen: 0.01561257429420948 gate: 8.113813964882866e-05\n",
      "[21/30] [4200/11532] loss: 0.016023321077227592 gen: 0.016006838530302048 gate: 1.6481939383083954e-05\n",
      "[21/30] [4300/11532] loss: 0.024627383798360825 gen: 0.02461209148168564 gate: 1.5291478121071123e-05\n",
      "[21/30] [4400/11532] loss: 5.0412138079991564e-05 gen: 4.007668394478969e-05 gate: 1.0335454135201871e-05\n",
      "[21/30] [4500/11532] loss: 0.00020524577121250331 gen: 0.00019809728837572038 gate: 7.148487384256441e-06\n",
      "[21/30] [4600/11532] loss: 0.00013288010086398572 gen: 0.00013046148524153978 gate: 2.4186165319406427e-06\n",
      "[21/30] [4700/11532] loss: 0.0028041666373610497 gen: 0.0027493457309901714 gate: 5.482090637087822e-05\n",
      "[21/30] [4800/11532] loss: 0.0623069629073143 gen: 0.015661004930734634 gate: 0.046645957976579666\n",
      "[21/30] [4900/11532] loss: 0.0009603003854863346 gen: 0.0009527660440653563 gate: 7.534351880167378e-06\n",
      "[21/30] [5000/11532] loss: 5.198569851927459e-05 gen: 4.822996197617613e-05 gate: 3.7557365430984646e-06\n",
      "[21/30] [5100/11532] loss: 0.0035143899731338024 gen: 0.003505941014736891 gate: 8.44905571284471e-06\n",
      "[21/30] [5200/11532] loss: 0.00011456064385129139 gen: 0.00010854330321308225 gate: 6.017341547703836e-06\n",
      "[21/30] [5300/11532] loss: 0.05743775516748428 gen: 0.02701544016599655 gate: 0.030422313138842583\n",
      "[21/30] [5400/11532] loss: 0.002757766516879201 gen: 0.0027487201150506735 gate: 9.04639637155924e-06\n",
      "[21/30] [5500/11532] loss: 0.017704857513308525 gen: 0.01769423298537731 gate: 1.0625100003380794e-05\n",
      "[21/30] [5600/11532] loss: 0.00037969660479575396 gen: 0.000366287975339219 gate: 1.3408616723609157e-05\n",
      "[21/30] [5700/11532] loss: 3.793400901486166e-05 gen: 3.359224137966521e-05 gate: 4.341768089943798e-06\n",
      "[21/30] [5800/11532] loss: 0.010383659973740578 gen: 0.010374301113188267 gate: 9.358517672808375e-06\n",
      "[21/30] [5900/11532] loss: 4.437925963429734e-05 gen: 3.7537338357651606e-05 gate: 6.841920367151033e-06\n",
      "[21/30] [6000/11532] loss: 0.01791742444038391 gen: 0.017527539283037186 gate: 0.00038988536107353866\n",
      "[21/30] [6100/11532] loss: 0.006934072822332382 gen: 0.006925815250724554 gate: 8.25768438517116e-06\n",
      "[21/30] [6200/11532] loss: 0.0024596774019300938 gen: 0.0024465112946927547 gate: 1.316618909186218e-05\n",
      "[21/30] [6300/11532] loss: 0.0019861706532537937 gen: 0.0017614532262086868 gate: 0.00022471749980468303\n",
      "[21/30] [6400/11532] loss: 0.00018480222206562757 gen: 0.0001812504924600944 gate: 3.551736426743446e-06\n",
      "[21/30] [6500/11532] loss: 0.00017544050933793187 gen: 0.00017280598694924265 gate: 2.634515794852632e-06\n",
      "[21/30] [6600/11532] loss: 0.000535928294993937 gen: 0.0005215140408836305 gate: 1.4414251381822396e-05\n",
      "[21/30] [6700/11532] loss: 0.007942594587802887 gen: 0.006479831412434578 gate: 0.0014627634081989527\n",
      "[21/30] [6800/11532] loss: 0.007156622130423784 gen: 0.006619185209274292 gate: 0.0005374370375648141\n",
      "[21/30] [6900/11532] loss: 0.0008491569315083325 gen: 0.0008348842384293675 gate: 1.4272690350480843e-05\n",
      "[21/30] [7000/11532] loss: 0.03565387427806854 gen: 0.03512755036354065 gate: 0.0005263240309432149\n",
      "[21/30] [7100/11532] loss: 0.00014315848238766193 gen: 0.00012307621364016086 gate: 2.008227602345869e-05\n",
      "[21/30] [7200/11532] loss: 7.229879884107504e-06 gen: 4.257617547409609e-06 gate: 2.972262336697895e-06\n",
      "[21/30] [7300/11532] loss: 0.00046001578448340297 gen: 0.0004540219670161605 gate: 5.993811555526918e-06\n",
      "[21/30] [7400/11532] loss: 0.005990120582282543 gen: 0.005986623931676149 gate: 3.496683348203078e-06\n",
      "[21/30] [7500/11532] loss: 0.0013101587537676096 gen: 0.0013041043421253562 gate: 6.054411187506048e-06\n",
      "[21/30] [7600/11532] loss: 0.0009502303437329829 gen: 0.0009019550052471459 gate: 4.827536395168863e-05\n",
      "[21/30] [7700/11532] loss: 0.014891352504491806 gen: 0.014886249788105488 gate: 5.102630439068889e-06\n",
      "[21/30] [7800/11532] loss: 0.063328817486763 gen: 0.06331565976142883 gate: 1.3158850379113574e-05\n",
      "[21/30] [7900/11532] loss: 0.00013676477828994393 gen: 0.00013275945093482733 gate: 4.0053246266325004e-06\n",
      "[21/30] [8000/11532] loss: 0.0002500289701856673 gen: 0.00024381186813116074 gate: 6.217099326022435e-06\n",
      "[21/30] [8100/11532] loss: 0.005435195751488209 gen: 0.005431204102933407 gate: 3.991868197772419e-06\n",
      "[21/30] [8200/11532] loss: 0.0004317534330766648 gen: 0.00042680304613895714 gate: 4.9503992158861365e-06\n",
      "[21/30] [8300/11532] loss: 0.017113056033849716 gen: 0.017021456733345985 gate: 9.159895125776529e-05\n",
      "[21/30] [8400/11532] loss: 2.9223743695183657e-05 gen: 2.2945507225813344e-05 gate: 6.278236469370313e-06\n",
      "[21/30] [8500/11532] loss: 0.011083879508078098 gen: 0.011071517132222652 gate: 1.2362338566163089e-05\n",
      "[21/30] [8600/11532] loss: 0.0035462239757180214 gen: 0.0032752512488514185 gate: 0.00027097263955511153\n",
      "[21/30] [8700/11532] loss: 0.00036435408401302993 gen: 0.00034614556352607906 gate: 1.820851866796147e-05\n",
      "[21/30] [8800/11532] loss: 0.0063858674839138985 gen: 0.005329474341124296 gate: 0.0010563930263742805\n",
      "[21/30] [8900/11532] loss: 0.0033022731076925993 gen: 0.003268894273787737 gate: 3.3378870284650475e-05\n",
      "[21/30] [9000/11532] loss: 0.0014515246730297804 gen: 0.0014353696024045348 gate: 1.6155107005033642e-05\n",
      "[21/30] [9100/11532] loss: 0.0013634663773700595 gen: 0.001352375722490251 gate: 1.1090612133557443e-05\n",
      "[21/30] [9200/11532] loss: 0.003771045943722129 gen: 0.0037567047402262688 gate: 1.434123441867996e-05\n",
      "[21/30] [9300/11532] loss: 0.001150832511484623 gen: 0.0011270474642515182 gate: 2.3785103621776216e-05\n",
      "[21/30] [9400/11532] loss: 0.0016392285469919443 gen: 0.0016094037564471364 gate: 2.9824814191670157e-05\n",
      "[21/30] [9500/11532] loss: 0.0007304690661840141 gen: 0.0007044633966870606 gate: 2.6005667677964084e-05\n",
      "[21/30] [9600/11532] loss: 0.011595666408538818 gen: 0.01156613975763321 gate: 2.9526854632422328e-05\n",
      "[21/30] [9700/11532] loss: 0.0004335680860094726 gen: 0.00040546097443439066 gate: 2.810712430800777e-05\n",
      "[21/30] [9800/11532] loss: 0.0027772346511483192 gen: 0.002749285427853465 gate: 2.7949228751822375e-05\n",
      "[21/30] [9900/11532] loss: 0.0005255401483736932 gen: 0.0005017215153202415 gate: 2.3818636691430584e-05\n",
      "[21/30] [10000/11532] loss: 0.014807982370257378 gen: 0.009056998416781425 gate: 0.005750983953475952\n",
      "[21/30] [10100/11532] loss: 0.011394853703677654 gen: 0.01134350337088108 gate: 5.134999082656577e-05\n",
      "[21/30] [10200/11532] loss: 0.003784176427870989 gen: 0.003531715366989374 gate: 0.00025246094446629286\n",
      "[21/30] [10300/11532] loss: 0.010900050401687622 gen: 0.010751900263130665 gate: 0.00014815029862802476\n",
      "[21/30] [10400/11532] loss: 0.001349403988569975 gen: 0.0012735275086015463 gate: 7.58764217607677e-05\n",
      "[21/30] [10500/11532] loss: 0.0020266766659915447 gen: 0.002012095646932721 gate: 1.4581116374756675e-05\n",
      "[21/30] [10600/11532] loss: 0.009128768928349018 gen: 0.009113568812608719 gate: 1.5199693734757602e-05\n",
      "[21/30] [10700/11532] loss: 0.0011755976593121886 gen: 0.0011557365069165826 gate: 1.9861103282892145e-05\n",
      "[21/30] [10800/11532] loss: 8.708542009117082e-05 gen: 5.4862302931724116e-05 gate: 3.22231171594467e-05\n",
      "[21/30] [10900/11532] loss: 0.001277762115933001 gen: 0.0012252238811925054 gate: 5.2538231102516875e-05\n",
      "[21/30] [11000/11532] loss: 0.015079817734658718 gen: 0.015055380761623383 gate: 2.443692574161105e-05\n",
      "[21/30] [11100/11532] loss: 0.0003549495304469019 gen: 0.00032283016480505466 gate: 3.211936927982606e-05\n",
      "[21/30] [11200/11532] loss: 0.0007190565811470151 gen: 0.0006778858369216323 gate: 4.117076241527684e-05\n",
      "[21/30] [11300/11532] loss: 0.02191428281366825 gen: 0.021892039105296135 gate: 2.224425770691596e-05\n",
      "[21/30] [11400/11532] loss: 0.012381396256387234 gen: 0.012369382195174694 gate: 1.2013979358016513e-05\n",
      "[21/30] [11500/11532] loss: 0.026667587459087372 gen: 0.026364000514149666 gate: 0.00030358662479557097\n"
     ]
    },
    {
     "name": "stderr",
     "output_type": "stream",
     "text": [
      "100%|██████████| 640/640 [02:03<00:00,  5.16it/s]\n"
     ]
    },
    {
     "name": "stdout",
     "output_type": "stream",
     "text": [
      "{'joint_goal_accuracy': 0.8079327862446268, 'turn_slot_accuracy': 0.9938995267248537, 'turn_slot_f1': 0.9741001865066419}\n",
      "joint_goal_accuracy: 0.8079327862446268\n",
      "turn_slot_accuracy: 0.9938995267248537\n",
      "turn_slot_f1: 0.9741001865066419\n",
      "time for 1 epoch: 1970.3435521125793\n",
      "[22/30] [0/11532] loss: 0.00964546762406826 gen: 0.00957574788480997 gate: 6.972001574467868e-05\n",
      "[22/30] [100/11532] loss: 0.0031917495653033257 gen: 0.0031628513243049383 gate: 2.8898215532535687e-05\n",
      "[22/30] [200/11532] loss: 0.000593931064940989 gen: 0.0004484574601519853 gate: 0.00014547361934091896\n",
      "[22/30] [300/11532] loss: 0.007261476945132017 gen: 0.007227960973978043 gate: 3.351603663759306e-05\n",
      "[22/30] [400/11532] loss: 0.0032853770535439253 gen: 0.003277236595749855 gate: 8.14054783404572e-06\n",
      "[22/30] [500/11532] loss: 0.022472474724054337 gen: 0.022443797439336777 gate: 2.8677975933533162e-05\n",
      "[22/30] [600/11532] loss: 0.0010901853675022721 gen: 0.0008389090653508902 gate: 0.00025127630215138197\n",
      "[22/30] [700/11532] loss: 0.00010133083560504019 gen: 8.805668039713055e-05 gate: 1.3274152479425538e-05\n",
      "[22/30] [800/11532] loss: 0.011974619701504707 gen: 0.011960235424339771 gate: 1.4384057067218237e-05\n",
      "[22/30] [900/11532] loss: 0.007967375218868256 gen: 0.007948081009089947 gate: 1.9294075173093006e-05\n",
      "[22/30] [1000/11532] loss: 0.01798614300787449 gen: 0.017971547320485115 gate: 1.4595693755836692e-05\n",
      "[22/30] [1100/11532] loss: 2.353796298848465e-05 gen: 1.5306135537684895e-05 gate: 8.231827450799756e-06\n",
      "[22/30] [1200/11532] loss: 0.008273993618786335 gen: 0.008257146924734116 gate: 1.6846250218804926e-05\n",
      "[22/30] [1300/11532] loss: 0.002932613482698798 gen: 0.0029062656685709953 gate: 2.6347714083385654e-05\n",
      "[22/30] [1400/11532] loss: 0.0003337925882078707 gen: 0.0003118849126622081 gate: 2.1907677364652045e-05\n",
      "[22/30] [1500/11532] loss: 0.00039200278115458786 gen: 0.00037613173481076956 gate: 1.587104816280771e-05\n",
      "[22/30] [1600/11532] loss: 9.532186959404498e-05 gen: 8.91376766958274e-05 gate: 6.184191533975536e-06\n",
      "[22/30] [1700/11532] loss: 0.027719292789697647 gen: 0.024013636633753777 gate: 0.0037056568544358015\n",
      "[22/30] [1800/11532] loss: 0.0686144009232521 gen: 0.015755506232380867 gate: 0.05285889655351639\n",
      "[22/30] [1900/11532] loss: 0.0016461393097415566 gen: 0.0015507448697462678 gate: 9.539449092699215e-05\n",
      "[22/30] [2000/11532] loss: 0.0004223487921990454 gen: 0.0003667069540824741 gate: 5.564184539252892e-05\n",
      "[22/30] [2100/11532] loss: 0.0008961770799942315 gen: 0.0008874041377566755 gate: 8.772920409683138e-06\n",
      "[22/30] [2200/11532] loss: 0.040695369243621826 gen: 0.04064837843179703 gate: 4.699041892308742e-05\n",
      "[22/30] [2300/11532] loss: 4.266433461452834e-05 gen: 3.418071719352156e-05 gate: 8.483617421006784e-06\n",
      "[22/30] [2400/11532] loss: 0.006930830888450146 gen: 0.006925199646502733 gate: 5.631265139527386e-06\n",
      "[22/30] [2500/11532] loss: 0.00028035903233103454 gen: 0.00024612442939542234 gate: 3.423460657359101e-05\n",
      "[22/30] [2600/11532] loss: 0.0002042681007878855 gen: 0.00019524749950505793 gate: 9.020597644848749e-06\n",
      "[22/30] [2700/11532] loss: 0.0034254256170243025 gen: 0.0033969474025070667 gate: 2.8478281819843687e-05\n",
      "[22/30] [2800/11532] loss: 0.010776273906230927 gen: 0.010447988286614418 gate: 0.00032828591065481305\n",
      "[22/30] [2900/11532] loss: 9.673438398749568e-06 gen: 5.889913609280484e-06 gate: 3.7835247894690838e-06\n",
      "[22/30] [3000/11532] loss: 9.714456246001646e-05 gen: 6.080626553739421e-05 gate: 3.633829692262225e-05\n",
      "[22/30] [3100/11532] loss: 0.0028838664293289185 gen: 0.002876300597563386 gate: 7.56572717364179e-06\n",
      "[22/30] [3200/11532] loss: 0.008296076208353043 gen: 0.006341604050248861 gate: 0.001954472390934825\n",
      "[22/30] [3300/11532] loss: 0.0003737455699592829 gen: 0.00035892167943529785 gate: 1.4823882338532712e-05\n",
      "[22/30] [3400/11532] loss: 0.0006377815152518451 gen: 0.0005965938325971365 gate: 4.118770084460266e-05\n",
      "[22/30] [3500/11532] loss: 7.709031706326641e-06 gen: 4.21886170443031e-06 gate: 3.49016954714898e-06\n",
      "[22/30] [3600/11532] loss: 0.0009040632285177708 gen: 0.0008957113022916019 gate: 8.351931683137082e-06\n",
      "[22/30] [3700/11532] loss: 5.540795609704219e-05 gen: 4.99072702950798e-05 gate: 5.500687166204443e-06\n",
      "[22/30] [3800/11532] loss: 0.0001404427457600832 gen: 0.00013782746100332588 gate: 2.6152856662520207e-06\n",
      "[22/30] [3900/11532] loss: 0.00015188982069958001 gen: 0.00014976724924053997 gate: 2.122564865203458e-06\n",
      "[22/30] [4000/11532] loss: 0.00035272559034638107 gen: 0.00034493455314077437 gate: 7.791036296111997e-06\n",
      "[22/30] [4100/11532] loss: 0.0031835956033319235 gen: 0.0031778488773852587 gate: 5.746817350882338e-06\n",
      "[22/30] [4200/11532] loss: 0.0005814474425278604 gen: 0.0005664153723046184 gate: 1.5032049304863904e-05\n",
      "[22/30] [4300/11532] loss: 0.0021590886171907187 gen: 0.002148011466488242 gate: 1.107708339986857e-05\n",
      "[22/30] [4400/11532] loss: 0.00034441129537299275 gen: 0.00033001991687342525 gate: 1.4391366676136386e-05\n",
      "[22/30] [4500/11532] loss: 0.002006638329476118 gen: 0.0019492384744808078 gate: 5.7399931392865255e-05\n",
      "[22/30] [4600/11532] loss: 0.004561226349323988 gen: 0.00453103706240654 gate: 3.0189250537659973e-05\n",
      "[22/30] [4700/11532] loss: 0.0009267943678423762 gen: 0.0009152652346529067 gate: 1.1529136827448383e-05\n",
      "[22/30] [4800/11532] loss: 0.004361096769571304 gen: 0.004347427282482386 gate: 1.3669361578649841e-05\n",
      "[22/30] [4900/11532] loss: 0.004807902034372091 gen: 0.004796123132109642 gate: 1.1778853149735369e-05\n",
      "[22/30] [5000/11532] loss: 0.013062271289527416 gen: 0.01300759520381689 gate: 5.4675721912644804e-05\n",
      "[22/30] [5100/11532] loss: 0.003246855456382036 gen: 0.0032426349353045225 gate: 4.2205060708511155e-06\n",
      "[22/30] [5200/11532] loss: 0.001754328259266913 gen: 0.0017473034095019102 gate: 7.024824753898429e-06\n",
      "[22/30] [5300/11532] loss: 0.0017479904927313328 gen: 0.001731506665237248 gate: 1.6483771105413325e-05\n",
      "[22/30] [5400/11532] loss: -3.6212859413353726e-06 gen: -5.433923433884047e-06 gate: 1.8126373788618366e-06\n",
      "[22/30] [5500/11532] loss: 0.00016222488193307072 gen: 0.00015999304014258087 gate: 2.2318388346320717e-06\n",
      "[22/30] [5600/11532] loss: 7.346958591369912e-05 gen: 6.689203291898593e-05 gate: 6.577556177944643e-06\n",
      "[22/30] [5700/11532] loss: 0.015644008293747902 gen: 0.015639320015907288 gate: 4.688766239269171e-06\n",
      "[22/30] [5800/11532] loss: 0.0005105339223518968 gen: 0.0004982981481589377 gate: 1.2235765098012052e-05\n",
      "[22/30] [5900/11532] loss: 0.012117831036448479 gen: 0.012111065909266472 gate: 6.764673344150651e-06\n",
      "[22/30] [6000/11532] loss: 0.009274854324758053 gen: 0.00682741729542613 gate: 0.002447437262162566\n",
      "[22/30] [6100/11532] loss: 0.0019099689088761806 gen: 0.0018909769132733345 gate: 1.8992015611729585e-05\n",
      "[22/30] [6200/11532] loss: 0.00638638436794281 gen: 0.00637710141018033 gate: 9.282943210564554e-06\n",
      "[22/30] [6300/11532] loss: 0.00048630667151883245 gen: 0.00048159336438402534 gate: 4.713308044301812e-06\n",
      "[22/30] [6400/11532] loss: 1.576074464537669e-05 gen: 9.044155376614071e-06 gate: 6.716589268762618e-06\n",
      "[22/30] [6500/11532] loss: 0.04326647147536278 gen: 0.020241308957338333 gate: 0.023025162518024445\n",
      "[22/30] [6600/11532] loss: 0.00933622382581234 gen: 0.009146545082330704 gate: 0.0001896791800390929\n",
      "[22/30] [6700/11532] loss: 1.2504803635238204e-05 gen: 7.570944944745861e-06 gate: 4.933858690492343e-06\n",
      "[22/30] [6800/11532] loss: 0.00042266055243089795 gen: 0.00041529483860358596 gate: 7.365703368122922e-06\n",
      "[22/30] [6900/11532] loss: 3.6386634747032076e-05 gen: 3.0626939405919984e-05 gate: 5.759695341112092e-06\n",
      "[22/30] [7000/11532] loss: 0.0010344135807827115 gen: 0.0010239079128950834 gate: 1.0505664249649271e-05\n",
      "[22/30] [7100/11532] loss: 0.0005940034752711654 gen: 0.0005477648228406906 gate: 4.6238681534305215e-05\n",
      "[22/30] [7200/11532] loss: 0.0008292720885947347 gen: 0.0008083130815066397 gate: 2.0958977984264493e-05\n",
      "[22/30] [7300/11532] loss: 7.40451505407691e-05 gen: 5.17173575644847e-05 gate: 2.2327791157294996e-05\n",
      "[22/30] [7400/11532] loss: 0.011851254850625992 gen: 0.011806868948042393 gate: 4.438580072019249e-05\n",
      "[22/30] [7500/11532] loss: 0.01137018296867609 gen: 0.008632822893559933 gate: 0.002737359842285514\n",
      "[22/30] [7600/11532] loss: 0.0004362797481007874 gen: 0.0003106634540017694 gate: 0.00012561629409901798\n",
      "[22/30] [7700/11532] loss: 0.01987105794250965 gen: 0.005903672892600298 gate: 0.013967384584248066\n",
      "[22/30] [7800/11532] loss: 0.007075452245771885 gen: 0.007047850638628006 gate: 2.7601730835158378e-05\n",
      "[22/30] [7900/11532] loss: 0.004904511384665966 gen: 0.004879159852862358 gate: 2.5351499061798677e-05\n",
      "[22/30] [8000/11532] loss: 0.16175314784049988 gen: 0.06375377625226974 gate: 0.09799936413764954\n",
      "[22/30] [8100/11532] loss: 0.0022578996140509844 gen: 0.0020943251438438892 gate: 0.0001635745429666713\n",
      "[22/30] [8200/11532] loss: 0.021720096468925476 gen: 0.02169676683843136 gate: 2.3329374016611837e-05\n",
      "[22/30] [8300/11532] loss: 0.04063455015420914 gen: 0.04056594893336296 gate: 6.860141729703173e-05\n",
      "[22/30] [8400/11532] loss: 0.003138941479846835 gen: 0.003129343967884779 gate: 9.597571079211775e-06\n",
      "[22/30] [8500/11532] loss: 0.007979226298630238 gen: 0.007963855750858784 gate: 1.537054959044326e-05\n",
      "[22/30] [8600/11532] loss: 0.003362620947882533 gen: 0.0033238197211176157 gate: 3.880120857502334e-05\n",
      "[22/30] [8700/11532] loss: 0.00505121611058712 gen: 0.005033575929701328 gate: 1.7639964426052757e-05\n",
      "[22/30] [8800/11532] loss: 0.014472046867012978 gen: 0.014411109499633312 gate: 6.0937072703382e-05\n",
      "[22/30] [8900/11532] loss: 6.46197295282036e-05 gen: 3.1051542464410886e-05 gate: 3.356818706379272e-05\n",
      "[22/30] [9000/11532] loss: 0.12982803583145142 gen: 0.033200740814208984 gate: 0.09662728756666183\n",
      "[22/30] [9100/11532] loss: 0.005791906733065844 gen: 0.005776395555585623 gate: 1.5511341189267114e-05\n",
      "[22/30] [9200/11532] loss: 0.00033079038257710636 gen: 0.00029705080669373274 gate: 3.373958315933123e-05\n",
      "[22/30] [9300/11532] loss: 0.00015686871483922005 gen: 0.00014169164933264256 gate: 1.5177065506577492e-05\n",
      "[22/30] [9400/11532] loss: 2.5351451768074185e-05 gen: 1.4868571270199027e-05 gate: 1.0482880497875158e-05\n",
      "[22/30] [9500/11532] loss: 0.0017476615030318499 gen: 0.0017142208525910974 gate: 3.3440650440752506e-05\n",
      "[22/30] [9600/11532] loss: 0.002219434594735503 gen: 0.0021542110480368137 gate: 6.522359763039276e-05\n",
      "[22/30] [9700/11532] loss: 0.0001301328302361071 gen: 0.0001161081891041249 gate: 1.4024642041476909e-05\n",
      "[22/30] [9800/11532] loss: 0.00016832844994496554 gen: 0.0001598257658770308 gate: 8.502684977429453e-06\n",
      "[22/30] [9900/11532] loss: 1.2728358342428692e-05 gen: 4.855980932916282e-06 gate: 7.872376954765059e-06\n",
      "[22/30] [10000/11532] loss: 0.00016348726057913154 gen: 0.00015585077926516533 gate: 7.636482223460916e-06\n",
      "[22/30] [10100/11532] loss: 0.00015139345487114042 gen: 0.00014105575974099338 gate: 1.0337698768125847e-05\n",
      "[22/30] [10200/11532] loss: 0.002629626076668501 gen: 0.002613553311675787 gate: 1.607287958904635e-05\n",
      "[22/30] [10300/11532] loss: 5.9784360928460956e-05 gen: 3.123234273516573e-05 gate: 2.8552016374305822e-05\n",
      "[22/30] [10400/11532] loss: 0.0026928128208965063 gen: 0.0026739207096397877 gate: 1.889200029836502e-05\n",
      "[22/30] [10500/11532] loss: 0.016237087547779083 gen: 0.016153158619999886 gate: 8.392926247324795e-05\n",
      "[22/30] [10600/11532] loss: 0.06043738126754761 gen: 0.01693817786872387 gate: 0.04349920153617859\n",
      "[22/30] [10700/11532] loss: 0.051376212388277054 gen: 0.017339050769805908 gate: 0.034037161618471146\n",
      "[22/30] [10800/11532] loss: 0.0012503860052675009 gen: 0.0012249352876096964 gate: 2.545073402870912e-05\n",
      "[22/30] [10900/11532] loss: 0.007485040929168463 gen: 0.007117108907550573 gate: 0.0003679322253447026\n",
      "[22/30] [11000/11532] loss: 0.003757685190066695 gen: 0.003663331735879183 gate: 9.435349056730047e-05\n",
      "[22/30] [11100/11532] loss: 0.0023198046255856752 gen: 0.002294318052008748 gate: 2.5486486265435815e-05\n",
      "[22/30] [11200/11532] loss: 0.0016033159336075187 gen: 0.0015926760388538241 gate: 1.0639889296726324e-05\n",
      "[22/30] [11300/11532] loss: 0.002651540795341134 gen: 0.002548875752836466 gate: 0.00010266508616041392\n",
      "[22/30] [11400/11532] loss: 0.010684437118470669 gen: 0.010662645101547241 gate: 2.1792120605823584e-05\n",
      "[22/30] [11500/11532] loss: 7.414104766212404e-05 gen: 6.272185419220477e-05 gate: 1.141919165092986e-05\n"
     ]
    },
    {
     "name": "stderr",
     "output_type": "stream",
     "text": [
      "100%|██████████| 640/640 [02:10<00:00,  4.89it/s]\n"
     ]
    },
    {
     "name": "stdout",
     "output_type": "stream",
     "text": [
      "{'joint_goal_accuracy': 0.8114497850722938, 'turn_slot_accuracy': 0.9940211019929693, 'turn_slot_f1': 0.974453282760635}\n",
      "joint_goal_accuracy: 0.8114497850722938\n",
      "turn_slot_accuracy: 0.9940211019929693\n",
      "turn_slot_f1: 0.974453282760635\n",
      "time for 1 epoch: 1982.6032795906067\n",
      "[23/30] [0/11532] loss: 1.787017026799731e-05 gen: 9.78732896328438e-06 gate: 8.082841304712929e-06\n",
      "[23/30] [100/11532] loss: 0.0007423225906677544 gen: 0.0007366608479060233 gate: 5.661727300321218e-06\n",
      "[23/30] [200/11532] loss: 6.4322471189370845e-06 gen: 4.400277759941673e-07 gate: 5.992219485051464e-06\n",
      "[23/30] [300/11532] loss: 0.02212708815932274 gen: 0.022114889696240425 gate: 1.219891055370681e-05\n",
      "[23/30] [400/11532] loss: 0.007484872359782457 gen: 0.00745773408561945 gate: 2.7138457880937494e-05\n",
      "[23/30] [500/11532] loss: 0.0002525685995351523 gen: 0.0002457340306136757 gate: 6.834571649960708e-06\n",
      "[23/30] [600/11532] loss: 0.009444788098335266 gen: 0.009421619586646557 gate: 2.3168844563770108e-05\n",
      "[23/30] [700/11532] loss: 0.00028248733724467456 gen: 0.00027561894967220724 gate: 6.868379387015011e-06\n",
      "[23/30] [800/11532] loss: 0.007904132828116417 gen: 0.00786818191409111 gate: 3.595055022742599e-05\n",
      "[23/30] [900/11532] loss: 0.00019899891049135476 gen: 0.00019074206647928804 gate: 8.256844012066722e-06\n",
      "[23/30] [1000/11532] loss: 0.019157471135258675 gen: 0.019146587699651718 gate: 1.088419867301127e-05\n",
      "[23/30] [1100/11532] loss: 0.0005026713479310274 gen: 0.0004981414531357586 gate: 4.529909801931353e-06\n",
      "[23/30] [1200/11532] loss: 0.0011588784400373697 gen: 0.0011442196555435658 gate: 1.465879086026689e-05\n",
      "[23/30] [1300/11532] loss: 0.00041219693957827985 gen: 0.0004043999360874295 gate: 7.797000762366224e-06\n",
      "[23/30] [1400/11532] loss: 0.00023375217278953642 gen: 0.00022125132090877742 gate: 1.2500848242780194e-05\n",
      "[23/30] [1500/11532] loss: 0.0003363400464877486 gen: 0.000321840780088678 gate: 1.4499267308565322e-05\n",
      "[23/30] [1600/11532] loss: 0.016140567138791084 gen: 0.016125423833727837 gate: 1.5143375094339717e-05\n",
      "[23/30] [1700/11532] loss: 0.017200425267219543 gen: 0.017189934849739075 gate: 1.049006368702976e-05\n",
      "[23/30] [1800/11532] loss: 0.03463776037096977 gen: 0.02012617141008377 gate: 0.014511588029563427\n",
      "[23/30] [1900/11532] loss: 0.019756007939577103 gen: 0.01974731869995594 gate: 8.689260539540555e-06\n",
      "[23/30] [2000/11532] loss: 0.003263064194470644 gen: 0.00325713655911386 gate: 5.927612164668972e-06\n",
      "[23/30] [2100/11532] loss: 0.0007105946424417198 gen: 0.0006429238710552454 gate: 6.767079321434721e-05\n",
      "[23/30] [2200/11532] loss: 8.012639591470361e-05 gen: 6.716873758705333e-05 gate: 1.2957656508660875e-05\n",
      "[23/30] [2300/11532] loss: 0.0081532783806324 gen: 0.008038859814405441 gate: 0.0001144181442214176\n",
      "[23/30] [2400/11532] loss: 8.936795347835869e-05 gen: 6.778685201425105e-05 gate: 2.1581097826128826e-05\n",
      "[23/30] [2500/11532] loss: 4.6313485654536635e-05 gen: 1.9913713913410902e-05 gate: 2.6399773560115136e-05\n",
      "[23/30] [2600/11532] loss: 0.0002568352210801095 gen: 0.0002539265260566026 gate: 2.90869252239645e-06\n",
      "[23/30] [2700/11532] loss: 0.004096894059330225 gen: 0.004088208079338074 gate: 8.686146429681685e-06\n",
      "[23/30] [2800/11532] loss: 0.0007280781283043325 gen: 0.000719543662853539 gate: 8.534450898878276e-06\n",
      "[23/30] [2900/11532] loss: 0.00011045263818232343 gen: 0.00010506175749469548 gate: 5.390878868638538e-06\n",
      "[23/30] [3000/11532] loss: 2.071504422929138e-05 gen: 1.4201677913661115e-05 gate: 6.513365406135563e-06\n",
      "[23/30] [3100/11532] loss: 0.007035695016384125 gen: 0.007015209179371595 gate: 2.048582064162474e-05\n",
      "[23/30] [3200/11532] loss: 0.004438222851604223 gen: 0.004418144468218088 gate: 2.007835792028345e-05\n",
      "[23/30] [3300/11532] loss: 6.877045234432444e-05 gen: 5.277470700093545e-05 gate: 1.5995743524399586e-05\n",
      "[23/30] [3400/11532] loss: 3.970555553678423e-05 gen: 3.440426371525973e-05 gate: 5.301293640513904e-06\n",
      "[23/30] [3500/11532] loss: 1.0163100341742393e-05 gen: 4.312242708692793e-06 gate: 5.8508576330496e-06\n",
      "[23/30] [3600/11532] loss: 0.0004373409319669008 gen: 0.00042684091022238135 gate: 1.050002083502477e-05\n",
      "[23/30] [3700/11532] loss: 4.2939940612996e-05 gen: 3.6697572795674205e-05 gate: 6.242367362574441e-06\n",
      "[23/30] [3800/11532] loss: 0.07085523009300232 gen: 0.07079129666090012 gate: 6.393309740815312e-05\n",
      "[23/30] [3900/11532] loss: 2.389767178101465e-05 gen: 1.3466095879266504e-05 gate: 1.0431576811242849e-05\n",
      "[23/30] [4000/11532] loss: 0.0006371533963829279 gen: 0.0006152612622827291 gate: 2.1892117729294114e-05\n",
      "[23/30] [4100/11532] loss: 0.0023310568649321795 gen: 0.0023277688305824995 gate: 3.288136895207572e-06\n",
      "[23/30] [4200/11532] loss: 1.170442374132108e-05 gen: 5.844437509949785e-06 gate: 5.859985776623944e-06\n",
      "[23/30] [4300/11532] loss: 0.00030845406581647694 gen: 0.0003047115751542151 gate: 3.7424792935780715e-06\n",
      "[23/30] [4400/11532] loss: 1.0683252185117453e-05 gen: 7.792440555931535e-06 gate: 2.8908114018122433e-06\n",
      "[23/30] [4500/11532] loss: 0.030004359781742096 gen: 0.029976097866892815 gate: 2.8261361876502633e-05\n",
      "[23/30] [4600/11532] loss: 0.010897530242800713 gen: 0.005991750862449408 gate: 0.004905778914690018\n",
      "[23/30] [4700/11532] loss: -5.011761913920054e-06 gen: -8.133019946399145e-06 gate: 3.1212580324790906e-06\n",
      "[23/30] [4800/11532] loss: 0.011565451510250568 gen: 0.011556639336049557 gate: 8.811947736830916e-06\n",
      "[23/30] [4900/11532] loss: 0.0011289296671748161 gen: 0.0011214048136025667 gate: 7.524910415668273e-06\n",
      "[23/30] [5000/11532] loss: 0.012033680453896523 gen: 0.012028326280415058 gate: 5.3544372349279e-06\n",
      "[23/30] [5100/11532] loss: 0.0035444595851004124 gen: 0.001311441883444786 gate: 0.0022330177016556263\n",
      "[23/30] [5200/11532] loss: 0.00010932705481536686 gen: 0.00010592300532152876 gate: 3.4040490390907507e-06\n",
      "[23/30] [5300/11532] loss: 0.005218518432229757 gen: 0.005173145793378353 gate: 4.5372671593213454e-05\n",
      "[23/30] [5400/11532] loss: 0.028378568589687347 gen: 0.009435952641069889 gate: 0.018942615017294884\n",
      "[23/30] [5500/11532] loss: 0.00021131370158400387 gen: 0.00020536722149699926 gate: 5.9464791775099e-06\n",
      "[23/30] [5600/11532] loss: 0.0014192021917551756 gen: 0.0014159716665744781 gate: 3.2305572403856786e-06\n",
      "[23/30] [5700/11532] loss: 2.1194195142015815e-05 gen: 1.680739296716638e-05 gate: 4.386802174849436e-06\n",
      "[23/30] [5800/11532] loss: 0.0018380663823336363 gen: 0.0018331563333049417 gate: 4.9100494834419806e-06\n",
      "[23/30] [5900/11532] loss: 0.005313033703714609 gen: 0.005306914448738098 gate: 6.119368663348723e-06\n",
      "[23/30] [6000/11532] loss: 0.00031111956923268735 gen: 0.0003044752520509064 gate: 6.6443203650123905e-06\n",
      "[23/30] [6100/11532] loss: 0.00028860190650448203 gen: 0.00022706050367560238 gate: 6.154141738079488e-05\n",
      "[23/30] [6200/11532] loss: 0.01642174832522869 gen: 0.016405830159783363 gate: 1.5917254131636582e-05\n",
      "[23/30] [6300/11532] loss: 0.00023934704950079322 gen: 0.000235374754993245 gate: 3.972299055021722e-06\n",
      "[23/30] [6400/11532] loss: 0.0027787426952272654 gen: 0.0027615365106612444 gate: 1.7206071788677946e-05\n",
      "[23/30] [6500/11532] loss: 0.008756982162594795 gen: 0.00874507799744606 gate: 1.1904206985491328e-05\n",
      "[23/30] [6600/11532] loss: 0.001393014332279563 gen: 0.0013846532674506307 gate: 8.361045729543548e-06\n",
      "[23/30] [6700/11532] loss: 3.1045128707773983e-05 gen: 1.5102768884389661e-05 gate: 1.5942359823384322e-05\n",
      "[23/30] [6800/11532] loss: 0.04624854773283005 gen: 0.04623551666736603 gate: 1.3031962225795723e-05\n",
      "[23/30] [6900/11532] loss: 0.014155515469610691 gen: 0.01409861445426941 gate: 5.6901422794908285e-05\n",
      "[23/30] [7000/11532] loss: 7.995789201231673e-05 gen: 6.662879604846239e-05 gate: 1.3329097782843746e-05\n",
      "[23/30] [7100/11532] loss: 0.00011536878446349874 gen: 0.0001087302589439787 gate: 6.638525519520044e-06\n",
      "[23/30] [7200/11532] loss: 0.0012073453981429338 gen: 0.001195430988445878 gate: 1.1914464266737923e-05\n",
      "[23/30] [7300/11532] loss: 0.01009887270629406 gen: 0.010096142068505287 gate: 2.7305350158712827e-06\n",
      "[23/30] [7400/11532] loss: 1.3619393030239735e-05 gen: 4.8788524509291165e-06 gate: 8.740540579310618e-06\n",
      "[23/30] [7500/11532] loss: 1.0490759450476617e-05 gen: 4.125226496398682e-06 gate: 6.365533408825286e-06\n",
      "[23/30] [7600/11532] loss: 0.00021794870554003865 gen: 0.00021165325597394258 gate: 6.2954491113487165e-06\n",
      "[23/30] [7700/11532] loss: 4.1217826947104186e-05 gen: 3.811841452261433e-05 gate: 3.099411060247803e-06\n",
      "[23/30] [7800/11532] loss: 0.007814229466021061 gen: 0.006180367432534695 gate: 0.0016338616842404008\n",
      "[23/30] [7900/11532] loss: 0.008124523796141148 gen: 0.008090336807072163 gate: 3.4187152778031304e-05\n",
      "[23/30] [8000/11532] loss: 2.371037771808915e-05 gen: 2.0351348211988807e-05 gate: 3.359030188221368e-06\n",
      "[23/30] [8100/11532] loss: 0.0022757367696613073 gen: 0.002268876414746046 gate: 6.860364010208286e-06\n",
      "[23/30] [8200/11532] loss: nan gen: nan gate: 1.0838601156137884e-05\n",
      "[23/30] [8300/11532] loss: 0.0001486943510826677 gen: 1.7680529708741233e-05 gate: 0.00013101381773594767\n",
      "[23/30] [8400/11532] loss: 0.026528073474764824 gen: 0.026517752557992935 gate: 1.032057116390206e-05\n",
      "[23/30] [8500/11532] loss: 5.5723350669723004e-05 gen: 4.566064308164641e-05 gate: 1.006270667858189e-05\n",
      "[23/30] [8600/11532] loss: 0.004743732046335936 gen: 0.004732876550406218 gate: 1.0855335858650506e-05\n",
      "[23/30] [8700/11532] loss: 2.9962156986584887e-05 gen: 2.2375113985617645e-05 gate: 7.587043910461944e-06\n",
      "[23/30] [8800/11532] loss: 0.0002336887118872255 gen: 0.0002273792924825102 gate: 6.309418949967949e-06\n",
      "[23/30] [8900/11532] loss: 0.020422110334038734 gen: 0.020366206765174866 gate: 5.59039726795163e-05\n",
      "[23/30] [9000/11532] loss: 0.003231574548408389 gen: 0.0030215252190828323 gate: 0.0002100493002217263\n",
      "[23/30] [9100/11532] loss: 0.00013868696987628937 gen: 0.00012742902617901564 gate: 1.1257949154241942e-05\n",
      "[23/30] [9200/11532] loss: 0.005385205149650574 gen: 0.005373917520046234 gate: 1.1287457709840965e-05\n",
      "[23/30] [9300/11532] loss: 0.0054663484916090965 gen: 0.005457113962620497 gate: 9.234406206815038e-06\n",
      "[23/30] [9400/11532] loss: 5.589682768913917e-05 gen: 4.1239669371861964e-05 gate: 1.4657158317277208e-05\n",
      "[23/30] [9500/11532] loss: 7.336906855925918e-05 gen: 6.460863369284198e-05 gate: 8.7604348664172e-06\n",
      "[23/30] [9600/11532] loss: 0.0006537659792229533 gen: 0.0006498321890830994 gate: 3.933807875000639e-06\n",
      "[23/30] [9700/11532] loss: 0.00014823225501459092 gen: 9.751558536663651e-05 gate: 5.07166660099756e-05\n",
      "[23/30] [9800/11532] loss: 0.07129509747028351 gen: 0.023756463080644608 gate: 0.0475386343896389\n",
      "[23/30] [9900/11532] loss: 0.0044944388791918755 gen: 0.004469248931854963 gate: 2.5190012820530683e-05\n",
      "[23/30] [10000/11532] loss: 0.005567759741097689 gen: 0.0050951037555933 gate: 0.0004726559272967279\n",
      "[23/30] [10100/11532] loss: 0.0030243825167417526 gen: 0.003013116540387273 gate: 1.1266090041317511e-05\n",
      "[23/30] [10200/11532] loss: 0.005826062988489866 gen: 0.005820020101964474 gate: 6.042978839104762e-06\n",
      "[23/30] [10300/11532] loss: 0.003385756863281131 gen: 0.0033769276924431324 gate: 8.829138096189126e-06\n",
      "[23/30] [10400/11532] loss: 0.0012861392460763454 gen: 0.0012739785015583038 gate: 1.2160741789557505e-05\n",
      "[23/30] [10500/11532] loss: 0.00566316582262516 gen: 0.005656866822391748 gate: 6.298795142356539e-06\n",
      "[23/30] [10600/11532] loss: 0.003512438153848052 gen: 0.0035091897007077932 gate: 3.2484308576385956e-06\n",
      "[23/30] [10700/11532] loss: 4.1983479604823515e-05 gen: 2.995504291902762e-05 gate: 1.2028435776301194e-05\n",
      "[23/30] [10800/11532] loss: 4.7931636800058186e-05 gen: 4.3987849494442344e-05 gate: 3.94378594137379e-06\n",
      "[23/30] [10900/11532] loss: 0.0018136834260076284 gen: 0.001800335943698883 gate: 1.3347439562494401e-05\n",
      "[23/30] [11000/11532] loss: 0.008726692758500576 gen: 0.008721754886209965 gate: 4.937867743137758e-06\n",
      "[23/30] [11100/11532] loss: 0.0011663399636745453 gen: 0.0011493677739053965 gate: 1.697214975138195e-05\n",
      "[23/30] [11200/11532] loss: 1.549703119962942e-05 gen: 1.22837027447531e-05 gate: 3.2133289096236695e-06\n",
      "[23/30] [11300/11532] loss: 1.0204926184087526e-06 gen: -1.1590357189561473e-06 gate: 2.1795283373649e-06\n",
      "[23/30] [11400/11532] loss: 0.001841798541136086 gen: 0.001834455062635243 gate: 7.343483503063908e-06\n",
      "[23/30] [11500/11532] loss: 0.00011339897173456848 gen: 0.00010198970267083496 gate: 1.1409267244744115e-05\n"
     ]
    },
    {
     "name": "stderr",
     "output_type": "stream",
     "text": [
      "100%|██████████| 640/640 [02:03<00:00,  5.18it/s]\n"
     ]
    },
    {
     "name": "stdout",
     "output_type": "stream",
     "text": [
      "{'joint_goal_accuracy': 0.8139898397811646, 'turn_slot_accuracy': 0.9941470192349479, 'turn_slot_f1': 0.9748495400137208}\n",
      "joint_goal_accuracy: 0.8139898397811646\n",
      "turn_slot_accuracy: 0.9941470192349479\n",
      "turn_slot_f1: 0.9748495400137208\n",
      "'--Update Best checkpoint!, epoch: 24'\n",
      "--Saving best model checkpoint\n",
      "time for 1 epoch: 2007.5360128879547\n",
      "[24/30] [0/11532] loss: 0.00894647091627121 gen: 0.008921812288463116 gate: 2.4659007976879366e-05\n",
      "[24/30] [100/11532] loss: 6.995934381848201e-05 gen: 6.43479434074834e-05 gate: 5.6113972277671564e-06\n",
      "[24/30] [200/11532] loss: 0.01434845756739378 gen: 0.014337568543851376 gate: 1.0889461009355728e-05\n",
      "[24/30] [300/11532] loss: 0.020426807925105095 gen: 0.019656715914607048 gate: 0.0007700911955907941\n",
      "[24/30] [400/11532] loss: 4.296658153180033e-05 gen: 3.763994391192682e-05 gate: 5.326639438862912e-06\n",
      "[24/30] [500/11532] loss: 0.0003026046615559608 gen: 0.0002792944433167577 gate: 2.3310207325266674e-05\n",
      "[24/30] [600/11532] loss: 0.00014195650874171406 gen: 8.837023779051378e-05 gate: 5.358627095120028e-05\n",
      "[24/30] [700/11532] loss: 0.0039701443165540695 gen: 0.003956650849431753 gate: 1.3493657206709031e-05\n",
      "[24/30] [800/11532] loss: 0.014449230395257473 gen: 0.014428001828491688 gate: 2.122813202731777e-05\n",
      "[24/30] [900/11532] loss: 0.008751600980758667 gen: 0.008739988319575787 gate: 1.1613124115683604e-05\n",
      "[24/30] [1000/11532] loss: 0.0015033691888675094 gen: 0.001461619045585394 gate: 4.175012145424262e-05\n",
      "[24/30] [1100/11532] loss: 0.0025324446614831686 gen: 0.002429547253996134 gate: 0.00010289744386682287\n",
      "[24/30] [1200/11532] loss: 0.0027751026209443808 gen: 0.002767452271655202 gate: 7.65044751460664e-06\n",
      "[24/30] [1300/11532] loss: 0.0003810183552559465 gen: 0.0003741733089555055 gate: 6.845054485893343e-06\n",
      "[24/30] [1400/11532] loss: 0.0002753637672867626 gen: 0.00025744232698343694 gate: 1.7921429389389232e-05\n",
      "[24/30] [1500/11532] loss: 1.3484293958754279e-05 gen: 5.557799795496976e-06 gate: 7.926494618004654e-06\n",
      "[24/30] [1600/11532] loss: 0.005174466408789158 gen: 0.005150144454091787 gate: 2.432214932923671e-05\n",
      "[24/30] [1700/11532] loss: 0.0001078641289495863 gen: 9.517396392766386e-05 gate: 1.2690167750406545e-05\n",
      "[24/30] [1800/11532] loss: 0.01986471191048622 gen: 0.019854718819260597 gate: 9.993097592086997e-06\n",
      "[24/30] [1900/11532] loss: 8.62322031025542e-06 gen: 4.5484367205972376e-07 gate: 8.168376552930567e-06\n",
      "[24/30] [2000/11532] loss: 7.479566556867212e-05 gen: 5.472135671880096e-05 gate: 2.0074312487849966e-05\n",
      "[24/30] [2100/11532] loss: 1.3077309631626122e-05 gen: 6.087787824071711e-06 gate: 6.989521807554411e-06\n",
      "[24/30] [2200/11532] loss: 0.002001998946070671 gen: 0.0019969530403614044 gate: 5.045816578785889e-06\n",
      "[24/30] [2300/11532] loss: 7.571466539957328e-06 gen: 1.392542230860272e-06 gate: 6.178924195410218e-06\n",
      "[24/30] [2400/11532] loss: 0.00044246824108995497 gen: 0.00039220554754137993 gate: 5.0262693548575044e-05\n",
      "[24/30] [2500/11532] loss: 0.00027731352020055056 gen: 0.00024389399914070964 gate: 3.341952105984092e-05\n",
      "[24/30] [2600/11532] loss: 0.0019338313722983003 gen: 0.0019182704854756594 gate: 1.5560886822640896e-05\n",
      "[24/30] [2700/11532] loss: 0.010511472821235657 gen: 0.01049340981990099 gate: 1.8062699382426217e-05\n",
      "[24/30] [2800/11532] loss: 0.00011638055730145425 gen: 0.00010481684876140207 gate: 1.1563712178030983e-05\n",
      "[24/30] [2900/11532] loss: 0.0005544964806176722 gen: 0.0005369747523218393 gate: 1.7521750123705715e-05\n",
      "[24/30] [3000/11532] loss: 2.1274858227116056e-05 gen: 5.380659786169417e-06 gate: 1.589419844094664e-05\n",
      "[24/30] [3100/11532] loss: 0.0076103853061795235 gen: 0.007544294465333223 gate: 6.609068805119023e-05\n",
      "[24/30] [3200/11532] loss: 0.0012248354032635689 gen: 0.0011752545833587646 gate: 4.958079443895258e-05\n",
      "[24/30] [3300/11532] loss: 0.004445590544492006 gen: 0.004421600140631199 gate: 2.3990616682567634e-05\n",
      "[24/30] [3400/11532] loss: 0.00010457070311531425 gen: 3.9346869016299024e-05 gate: 6.522383046103641e-05\n",
      "[24/30] [3500/11532] loss: 0.00012633021106012166 gen: 0.00010727574408520013 gate: 1.905445969896391e-05\n",
      "[24/30] [3600/11532] loss: 0.0008862761314958334 gen: 0.0008723229402676225 gate: 1.3953192137705628e-05\n",
      "[24/30] [3700/11532] loss: 0.00010743939492385834 gen: 9.632649744162336e-05 gate: 1.1112899301224388e-05\n",
      "[24/30] [3800/11532] loss: 0.04208661615848541 gen: 0.04018642008304596 gate: 0.0019001945620402694\n",
      "[24/30] [3900/11532] loss: 0.01440495252609253 gen: 0.014395334757864475 gate: 9.617956493457314e-06\n",
      "[24/30] [4000/11532] loss: 0.002129094675183296 gen: 0.00207603070884943 gate: 5.306387902237475e-05\n",
      "[24/30] [4100/11532] loss: 0.06844015419483185 gen: 0.021682919934391975 gate: 0.046757232397794724\n",
      "[24/30] [4200/11532] loss: 0.006202994380146265 gen: 0.004507908597588539 gate: 0.001695085782557726\n",
      "[24/30] [4300/11532] loss: 3.8623096770606935e-05 gen: 1.0384311281086411e-05 gate: 2.8238786399015225e-05\n",
      "[24/30] [4400/11532] loss: 9.683629286882933e-06 gen: 1.311914274992887e-06 gate: 8.371715011890046e-06\n",
      "[24/30] [4500/11532] loss: 0.01038047019392252 gen: 0.010316676460206509 gate: 6.37938137515448e-05\n",
      "[24/30] [4600/11532] loss: 0.004212171770632267 gen: 0.004191994201391935 gate: 2.0177785700070672e-05\n",
      "[24/30] [4700/11532] loss: 0.007163129281252623 gen: 0.007111595012247562 gate: 5.153412348590791e-05\n",
      "[24/30] [4800/11532] loss: 0.00011358799383742735 gen: 5.512567440746352e-05 gate: 5.846231942996383e-05\n",
      "[24/30] [4900/11532] loss: 0.0004257686960045248 gen: 0.00039242891944013536 gate: 3.333978384034708e-05\n",
      "[24/30] [5000/11532] loss: 0.001144380192272365 gen: 0.0011045929277315736 gate: 3.97872572648339e-05\n",
      "[24/30] [5100/11532] loss: 0.0003589323896449059 gen: 0.0003346901503391564 gate: 2.4242242943728343e-05\n",
      "[24/30] [5200/11532] loss: 0.005965570919215679 gen: 0.00578991137444973 gate: 0.0001756594137987122\n",
      "[24/30] [5300/11532] loss: 0.008381862193346024 gen: 0.008333513513207436 gate: 4.8348549171350896e-05\n",
      "[24/30] [5400/11532] loss: 0.008739682845771313 gen: 0.008670135401189327 gate: 6.954710261197761e-05\n",
      "[24/30] [5500/11532] loss: 0.00010412604024168104 gen: 6.381302227964625e-05 gate: 4.031301796203479e-05\n",
      "[24/30] [5600/11532] loss: 0.00010573938925517723 gen: 6.373791984515265e-05 gate: 4.200146941002458e-05\n",
      "[24/30] [5700/11532] loss: 0.0009292347822338343 gen: 0.0008720735204406083 gate: 5.716127998312004e-05\n",
      "[24/30] [5800/11532] loss: 0.0001603986311238259 gen: 8.219201845349744e-05 gate: 7.820661267032847e-05\n",
      "[24/30] [5900/11532] loss: 0.00431861961260438 gen: 0.004229623358696699 gate: 8.899645763449371e-05\n",
      "[24/30] [6000/11532] loss: 2.98568465950666e-06 gen: -5.5011187214404345e-06 gate: 8.486803380947094e-06\n",
      "[24/30] [6100/11532] loss: 0.003880004398524761 gen: 0.003784632310271263 gate: 9.53721537371166e-05\n",
      "[24/30] [6200/11532] loss: 0.0007757464190945029 gen: 0.0006980832549743354 gate: 7.766313501633704e-05\n",
      "[24/30] [6300/11532] loss: 0.00013518007472157478 gen: 4.63859032606706e-05 gate: 8.879416418494657e-05\n",
      "[24/30] [6400/11532] loss: 0.0010600559180602431 gen: 0.0009334373753517866 gate: 0.00012661851360462606\n",
      "[24/30] [6500/11532] loss: 0.004597622901201248 gen: 0.004541832488030195 gate: 5.579041317105293e-05\n",
      "[24/30] [6600/11532] loss: 0.00015408301260322332 gen: 8.511260966770351e-05 gate: 6.897040293551981e-05\n",
      "[24/30] [6700/11532] loss: 0.010906118899583817 gen: 0.010863220319151878 gate: 4.289821663405746e-05\n",
      "[24/30] [6800/11532] loss: 0.00011538770922925323 gen: 7.395727152470499e-05 gate: 4.143043406656943e-05\n",
      "[24/30] [6900/11532] loss: 0.009849850088357925 gen: 0.009710020385682583 gate: 0.00013982942618895322\n",
      "[24/30] [7000/11532] loss: 0.0003494475095067173 gen: 0.00029120230465196073 gate: 5.824519757879898e-05\n",
      "[24/30] [7100/11532] loss: 9.799500548979267e-05 gen: 4.394010829855688e-05 gate: 5.4054897191235796e-05\n",
      "[24/30] [7200/11532] loss: 0.009479280561208725 gen: 0.009344369173049927 gate: 0.00013491118443198502\n",
      "[24/30] [7300/11532] loss: 0.009066442959010601 gen: 0.008978566154837608 gate: 8.787724073044956e-05\n",
      "[24/30] [7400/11532] loss: 0.0437336340546608 gen: 0.016164587810635567 gate: 0.02756904438138008\n",
      "[24/30] [7500/11532] loss: 0.007487779017537832 gen: 0.007456193212419748 gate: 3.158596155117266e-05\n",
      "[24/30] [7600/11532] loss: 0.00019752493244595826 gen: 0.00015154901484493166 gate: 4.597592487698421e-05\n",
      "[24/30] [7700/11532] loss: 0.003554072929546237 gen: 0.0032008010894060135 gate: 0.0003532718983478844\n",
      "[24/30] [7800/11532] loss: 0.005117305554449558 gen: 0.005033711437135935 gate: 8.359409548575059e-05\n",
      "[24/30] [7900/11532] loss: 0.0005851441528648138 gen: 0.0005305242957547307 gate: 5.4619853472104296e-05\n",
      "[24/30] [8000/11532] loss: 2.094647061312571e-05 gen: 8.166845873347484e-06 gate: 1.2779624739778228e-05\n",
      "[24/30] [8100/11532] loss: 0.0016493237344548106 gen: 0.0015467701014131308 gate: 0.00010255359666189179\n",
      "[24/30] [8200/11532] loss: 6.892667443025857e-05 gen: 5.589005377260037e-05 gate: 1.3036620657658204e-05\n",
      "[24/30] [8300/11532] loss: 2.615364792291075e-05 gen: 1.1490017641335726e-05 gate: 1.4663631191069726e-05\n",
      "[24/30] [8400/11532] loss: 2.6315105060348287e-05 gen: 1.5138917660806328e-05 gate: 1.117618739954196e-05\n",
      "[24/30] [8500/11532] loss: 0.00010247981117572635 gen: 4.58492104371544e-05 gate: 5.663060073857196e-05\n",
      "[24/30] [8600/11532] loss: 0.001365968957543373 gen: 0.0012758660595864058 gate: 9.010292706079781e-05\n",
      "[24/30] [8700/11532] loss: 0.0012004858581349254 gen: 0.0011709268437698483 gate: 2.955907075374853e-05\n",
      "[24/30] [8800/11532] loss: 0.00021119504526723176 gen: 0.00018996334983967245 gate: 2.1231700884527527e-05\n",
      "[24/30] [8900/11532] loss: 0.0002938674297183752 gen: 0.0002667803782969713 gate: 2.708706415432971e-05\n",
      "[24/30] [9000/11532] loss: 0.00010102081432705745 gen: 8.87421119841747e-05 gate: 1.2278704161872156e-05\n",
      "[24/30] [9100/11532] loss: 0.0008516386151313782 gen: 0.0007814940763637424 gate: 7.014455331955105e-05\n",
      "[24/30] [9200/11532] loss: 0.004137893207371235 gen: 0.001478072488680482 gate: 0.0026598204858601093\n",
      "[24/30] [9300/11532] loss: 0.0002591547672636807 gen: 0.00024296101764775813 gate: 1.6193736882996745e-05\n",
      "[24/30] [9400/11532] loss: 2.8161421141703613e-05 gen: 1.557322684675455e-05 gate: 1.2588194294949062e-05\n",
      "[24/30] [9500/11532] loss: 3.240758087486029e-05 gen: 1.8560760508989915e-05 gate: 1.3846820365870371e-05\n",
      "[24/30] [9600/11532] loss: 0.004554228391498327 gen: 0.004535428714007139 gate: 1.8799561075866222e-05\n",
      "[24/30] [9700/11532] loss: 0.00012895122927147895 gen: 0.00011169243953190744 gate: 1.72587842826033e-05\n",
      "[24/30] [9800/11532] loss: 0.007573131006211042 gen: 0.007516587618738413 gate: 5.654360575135797e-05\n",
      "[24/30] [9900/11532] loss: 0.002779831411316991 gen: 0.0027371863834559917 gate: 4.264506424078718e-05\n",
      "[24/30] [10000/11532] loss: 0.012478313408792019 gen: 0.01237473078072071 gate: 0.00010358299186918885\n",
      "[24/30] [10100/11532] loss: 0.0077998037450015545 gen: 0.007760731503367424 gate: 3.907205245923251e-05\n",
      "[24/30] [10200/11532] loss: 0.000613474752753973 gen: 0.0005931556224822998 gate: 2.0319126633694395e-05\n",
      "[24/30] [10300/11532] loss: 0.0005539566045626998 gen: 0.0005293572321534157 gate: 2.459939059917815e-05\n",
      "[24/30] [10400/11532] loss: 0.06269321590662003 gen: 0.028783028945326805 gate: 0.03391018882393837\n",
      "[24/30] [10500/11532] loss: 0.009369107894599438 gen: 0.009328373707830906 gate: 4.0733903006184846e-05\n",
      "[24/30] [10600/11532] loss: 8.908598101697862e-05 gen: 6.283806578721851e-05 gate: 2.6247913410770707e-05\n",
      "[24/30] [10700/11532] loss: 0.0035837446339428425 gen: 0.00352398119866848 gate: 5.976349348202348e-05\n",
      "[24/30] [10800/11532] loss: 0.03624292090535164 gen: 0.03617493435740471 gate: 6.798477261327207e-05\n",
      "[24/30] [10900/11532] loss: 0.03796359896659851 gen: 0.019248904660344124 gate: 0.018714694306254387\n",
      "[24/30] [11000/11532] loss: 0.005205866415053606 gen: 0.00518354307860136 gate: 2.2323347366182134e-05\n",
      "[24/30] [11100/11532] loss: 0.010426453314721584 gen: 0.010411618277430534 gate: 1.483499727328308e-05\n",
      "[24/30] [11200/11532] loss: 0.010480966418981552 gen: 0.010454930365085602 gate: 2.603616849228274e-05\n",
      "[24/30] [11300/11532] loss: 0.001371523248963058 gen: 0.0013587112771347165 gate: 1.2811992746719625e-05\n",
      "[24/30] [11400/11532] loss: 0.005904654040932655 gen: 0.005896454676985741 gate: 8.19941396912327e-06\n",
      "[24/30] [11500/11532] loss: 0.0005663565825670958 gen: 0.0005382642848417163 gate: 2.8092297725379467e-05\n"
     ]
    },
    {
     "name": "stderr",
     "output_type": "stream",
     "text": [
      "100%|██████████| 640/640 [02:11<00:00,  4.88it/s]\n"
     ]
    },
    {
     "name": "stdout",
     "output_type": "stream",
     "text": [
      "{'joint_goal_accuracy': 0.8194607268464243, 'turn_slot_accuracy': 0.9941904389735607, 'turn_slot_f1': 0.9748568053275218}\n",
      "joint_goal_accuracy: 0.8194607268464243\n",
      "turn_slot_accuracy: 0.9941904389735607\n",
      "turn_slot_f1: 0.9748568053275218\n",
      "'--Update Best checkpoint!, epoch: 25'\n",
      "--Saving best model checkpoint\n",
      "time for 1 epoch: 2001.6690287590027\n",
      "[25/30] [0/11532] loss: 0.0036198473535478115 gen: 0.0035992315970361233 gate: 2.061571467493195e-05\n",
      "[25/30] [100/11532] loss: 0.00020452216267585754 gen: 0.0001799416058929637 gate: 2.4580562239862047e-05\n",
      "[25/30] [200/11532] loss: 5.3616207878803834e-05 gen: 3.5891804145649076e-05 gate: 1.772440373315476e-05\n",
      "[25/30] [300/11532] loss: 7.980680675245821e-05 gen: 4.120877929381095e-05 gate: 3.8598027458647266e-05\n",
      "[25/30] [400/11532] loss: 0.00872435886412859 gen: 0.008532984182238579 gate: 0.0001913748128572479\n",
      "[25/30] [500/11532] loss: 0.006098997313529253 gen: 0.006027907133102417 gate: 7.109028229024261e-05\n",
      "[25/30] [600/11532] loss: 0.005193844437599182 gen: 0.005135059356689453 gate: 5.8785204601008445e-05\n",
      "[25/30] [700/11532] loss: 0.00037053547566756606 gen: 0.0003318536328151822 gate: 3.8681850128341466e-05\n",
      "[25/30] [800/11532] loss: 6.553565617650747e-05 gen: 4.079146674484946e-05 gate: 2.474418761266861e-05\n",
      "[25/30] [900/11532] loss: 0.007661121431738138 gen: 0.00764260021969676 gate: 1.8520997400628403e-05\n",
      "[25/30] [1000/11532] loss: 0.000944477622397244 gen: 0.0009272515308111906 gate: 1.7226066120201722e-05\n",
      "[25/30] [1100/11532] loss: 0.0016530182911083102 gen: 0.0016398703446611762 gate: 1.314793189521879e-05\n",
      "[25/30] [1200/11532] loss: 0.009310964494943619 gen: 0.0092870332300663 gate: 2.3930848328745924e-05\n",
      "[25/30] [1300/11532] loss: 6.351073534460738e-05 gen: 5.409034201875329e-05 gate: 9.420395144843496e-06\n",
      "[25/30] [1400/11532] loss: 0.028004176914691925 gen: 0.01781231351196766 gate: 0.010191863402724266\n",
      "[25/30] [1500/11532] loss: 3.211562943761237e-05 gen: 2.4930714062065817e-05 gate: 7.184916739788605e-06\n",
      "[25/30] [1600/11532] loss: 0.000121078293886967 gen: 0.00011308215471217409 gate: 7.996135536814108e-06\n",
      "[25/30] [1700/11532] loss: 0.001736234873533249 gen: 0.0017041534883901477 gate: 3.208137059118599e-05\n",
      "[25/30] [1800/11532] loss: 0.011274158023297787 gen: 0.009065601974725723 gate: 0.0022085560485720634\n",
      "[25/30] [1900/11532] loss: 0.0005095400847494602 gen: 0.0004989280714653432 gate: 1.0612026017042808e-05\n",
      "[25/30] [2000/11532] loss: 1.5023841115180403e-05 gen: 8.181981684174389e-06 gate: 6.8418589762586635e-06\n",
      "[25/30] [2100/11532] loss: 0.001802587416023016 gen: 0.0015650315908715129 gate: 0.00023755586880724877\n",
      "[25/30] [2200/11532] loss: 0.0008279616595245898 gen: 0.0008203357574529946 gate: 7.625878879480297e-06\n",
      "[25/30] [2300/11532] loss: 0.005005738697946072 gen: 0.004990711808204651 gate: 1.5027022527647205e-05\n",
      "[25/30] [2400/11532] loss: 0.00017137479153461754 gen: 7.213529170257971e-05 gate: 9.923950710799545e-05\n",
      "[25/30] [2500/11532] loss: 0.05975276976823807 gen: 0.056184615939855576 gate: 0.003568151965737343\n",
      "[25/30] [2600/11532] loss: 0.0002746712707448751 gen: 0.00020510410831775516 gate: 6.956716970307752e-05\n",
      "[25/30] [2700/11532] loss: 0.005599488969892263 gen: 0.005573456175625324 gate: 2.6032841560663655e-05\n",
      "[25/30] [2800/11532] loss: 0.008948060683906078 gen: 0.008941088803112507 gate: 6.971592938498361e-06\n",
      "[25/30] [2900/11532] loss: 0.0002000935492105782 gen: 0.00019335298566147685 gate: 6.7405603658698965e-06\n",
      "[25/30] [3000/11532] loss: 0.002608022652566433 gen: 0.002564286580309272 gate: 4.373595947981812e-05\n",
      "[25/30] [3100/11532] loss: 0.007722525857388973 gen: 0.007700322661548853 gate: 2.2203368644113652e-05\n",
      "[25/30] [3200/11532] loss: 4.793769039679319e-05 gen: 3.925229248125106e-05 gate: 8.68539973453153e-06\n",
      "[25/30] [3300/11532] loss: 4.713259841082618e-06 gen: -1.108057631427073e-06 gate: 5.821317699883366e-06\n",
      "[25/30] [3400/11532] loss: 0.008447302505373955 gen: 0.008417989127337933 gate: 2.9313783670659177e-05\n",
      "[25/30] [3500/11532] loss: 0.027212979272007942 gen: 0.02720554918050766 gate: 7.42954898669268e-06\n",
      "[25/30] [3600/11532] loss: 0.013562013395130634 gen: 0.013551645912230015 gate: 1.0367071809014305e-05\n",
      "[25/30] [3700/11532] loss: 0.021494070068001747 gen: 0.0214738380163908 gate: 2.023280285357032e-05\n",
      "[25/30] [3800/11532] loss: 0.0014306623488664627 gen: 0.0011467260774224997 gate: 0.0002839363005477935\n",
      "[25/30] [3900/11532] loss: 0.014182371087372303 gen: 0.014147290959954262 gate: 3.5079719964414835e-05\n",
      "[25/30] [4000/11532] loss: 5.964985757600516e-05 gen: 5.2202212827978656e-05 gate: 7.447645202773856e-06\n",
      "[25/30] [4100/11532] loss: 3.927330544684082e-05 gen: 3.142504647257738e-05 gate: 7.848260793252848e-06\n",
      "[25/30] [4200/11532] loss: 0.014926686882972717 gen: 0.014919629320502281 gate: 7.057746188365854e-06\n",
      "[25/30] [4300/11532] loss: 0.0030861557461321354 gen: 0.0030737901106476784 gate: 1.236570915352786e-05\n",
      "[25/30] [4400/11532] loss: 0.0013287360779941082 gen: 0.0013089701533317566 gate: 1.976589919649996e-05\n",
      "[25/30] [4500/11532] loss: 0.006284489296376705 gen: 0.006277286447584629 gate: 7.202918823168147e-06\n",
      "[25/30] [4600/11532] loss: 0.06579042971134186 gen: 0.0226170364767313 gate: 0.04317339509725571\n",
      "[25/30] [4700/11532] loss: 0.029774144291877747 gen: 0.02974637970328331 gate: 2.7764219339587726e-05\n",
      "[25/30] [4800/11532] loss: 0.009510776028037071 gen: 0.009506797417998314 gate: 3.978205313615035e-06\n",
      "[25/30] [4900/11532] loss: 2.40780136664398e-05 gen: 1.8380540495854802e-05 gate: 5.697474080079701e-06\n",
      "[25/30] [5000/11532] loss: 1.0006233424064703e-05 gen: -3.2859077236935263e-06 gate: 1.3292141375131905e-05\n",
      "[25/30] [5100/11532] loss: 0.00010555325570749119 gen: 9.531937394058332e-05 gate: 1.0233879038423765e-05\n",
      "[25/30] [5200/11532] loss: 0.0016205842839553952 gen: 0.0016077239997684956 gate: 1.286029873881489e-05\n",
      "[25/30] [5300/11532] loss: 2.7701726139639504e-05 gen: 2.2560636352864094e-05 gate: 5.141090241522761e-06\n",
      "[25/30] [5400/11532] loss: 0.006059145554900169 gen: 0.006051842588931322 gate: 7.302779522433411e-06\n",
      "[25/30] [5500/11532] loss: 0.015376966446638107 gen: 0.015369119122624397 gate: 7.847314009268302e-06\n",
      "[25/30] [5600/11532] loss: 0.0028627123683691025 gen: 0.002857639454305172 gate: 5.072806743555702e-06\n",
      "[25/30] [5700/11532] loss: 0.007694404572248459 gen: 0.00767845194786787 gate: 1.595246976648923e-05\n",
      "[25/30] [5800/11532] loss: 3.72204085579142e-05 gen: 2.95791651296895e-05 gate: 7.641245247214101e-06\n",
      "[25/30] [5900/11532] loss: 0.0014340206980705261 gen: 0.0014296311419457197 gate: 4.3895265662285965e-06\n",
      "[25/30] [6000/11532] loss: 0.00010879035107791424 gen: 7.70531187299639e-05 gate: 3.173723234795034e-05\n",
      "[25/30] [6100/11532] loss: 0.001536229974590242 gen: 0.00041939367656596005 gate: 0.0011168363271281123\n",
      "[25/30] [6200/11532] loss: 2.6193116354988888e-05 gen: 1.2155576769146137e-05 gate: 1.4037540495337453e-05\n",
      "[25/30] [6300/11532] loss: 0.0038558209780603647 gen: 0.0038309977389872074 gate: 2.4823251806083135e-05\n",
      "[25/30] [6400/11532] loss: 0.00019351199443917722 gen: 0.00018974965496454388 gate: 3.762335381907178e-06\n",
      "[25/30] [6500/11532] loss: 0.003699501045048237 gen: 0.0036956293042749166 gate: 3.8716307244612835e-06\n",
      "[25/30] [6600/11532] loss: 0.0029596704989671707 gen: 0.0029526788275688887 gate: 6.991571808612207e-06\n",
      "[25/30] [6700/11532] loss: 0.007810426875948906 gen: 0.00780140096321702 gate: 9.025839972309768e-06\n",
      "[25/30] [6800/11532] loss: 0.006041815038770437 gen: 0.005807723384350538 gate: 0.0002340915525564924\n",
      "[25/30] [6900/11532] loss: 0.011538987047970295 gen: 0.011516104452311993 gate: 2.288303767272737e-05\n",
      "[25/30] [7000/11532] loss: 1.3398906958173029e-05 gen: 2.3500579118262976e-06 gate: 1.1048849046346731e-05\n",
      "[25/30] [7100/11532] loss: 4.832113336306065e-05 gen: 3.9697832107776776e-05 gate: 8.62330307427328e-06\n",
      "[25/30] [7200/11532] loss: 0.004153798334300518 gen: 0.00413917750120163 gate: 1.4620884940086398e-05\n",
      "[25/30] [7300/11532] loss: 0.02789377234876156 gen: 0.015262411907315254 gate: 0.012631360441446304\n",
      "[25/30] [7400/11532] loss: 0.0036065697204321623 gen: 0.003592062508687377 gate: 1.4507255400530994e-05\n",
      "[25/30] [7500/11532] loss: 0.0029714058618992567 gen: 0.0029339834582060575 gate: 3.742238914128393e-05\n",
      "[25/30] [7600/11532] loss: 0.00137647008523345 gen: 0.0013689575716853142 gate: 7.512507181672845e-06\n",
      "[25/30] [7700/11532] loss: 0.012075518257915974 gen: 0.012063801288604736 gate: 1.1717113011400215e-05\n",
      "[25/30] [7800/11532] loss: 0.003831558395177126 gen: 0.0037945695221424103 gate: 3.6988771171309054e-05\n",
      "[25/30] [7900/11532] loss: 7.179193926276639e-05 gen: 6.396995740942657e-05 gate: 7.821984581823926e-06\n",
      "[25/30] [8000/11532] loss: 0.0001411194825777784 gen: 0.00011708545207511634 gate: 2.403403414064087e-05\n",
      "[25/30] [8100/11532] loss: 0.001229574205353856 gen: 0.001125018810853362 gate: 0.00010455536539666355\n",
      "[25/30] [8200/11532] loss: 0.002231342950835824 gen: 0.0021433185320347548 gate: 8.802437514532357e-05\n",
      "[25/30] [8300/11532] loss: 0.00030896926182322204 gen: 0.00025109582929871976 gate: 5.787342524854466e-05\n",
      "[25/30] [8400/11532] loss: 0.04539993405342102 gen: 0.04511693865060806 gate: 0.0002829945005942136\n",
      "[25/30] [8500/11532] loss: 0.005951241590082645 gen: 0.005918430630117655 gate: 3.2811109122121707e-05\n",
      "[25/30] [8600/11532] loss: 0.004116167780011892 gen: 0.0040463912300765514 gate: 6.977658631512895e-05\n",
      "[25/30] [8700/11532] loss: 0.00916280597448349 gen: 0.009126828983426094 gate: 3.5977289371658117e-05\n",
      "[25/30] [8800/11532] loss: 0.026661265641450882 gen: 0.02656027115881443 gate: 0.00010099422070197761\n",
      "[25/30] [8900/11532] loss: 0.001945346244610846 gen: 0.001876747002825141 gate: 6.859929271740839e-05\n",
      "[25/30] [9000/11532] loss: 0.018331339582800865 gen: 0.01829896681010723 gate: 3.237245982745662e-05\n",
      "[25/30] [9100/11532] loss: 0.010236202739179134 gen: 0.010207933373749256 gate: 2.8269523681956343e-05\n",
      "[25/30] [9200/11532] loss: 0.004552392289042473 gen: 0.00449181767180562 gate: 6.057447171770036e-05\n",
      "[25/30] [9300/11532] loss: 0.0009730496676638722 gen: 0.0006206140387803316 gate: 0.00035243562888354063\n",
      "[25/30] [9400/11532] loss: 0.004226147662848234 gen: 0.004184381105005741 gate: 4.1766608774196357e-05\n",
      "[25/30] [9500/11532] loss: 0.0027444763109087944 gen: 0.002700702054426074 gate: 4.377414734335616e-05\n",
      "[25/30] [9600/11532] loss: 0.005070559214800596 gen: 0.004932044073939323 gate: 0.00013851519906893373\n",
      "[25/30] [9700/11532] loss: 0.0010519414208829403 gen: 0.0009896124247461557 gate: 6.232900341274217e-05\n",
      "[25/30] [9800/11532] loss: 0.010729487985372543 gen: 0.010614308528602123 gate: 0.00011517969687702134\n",
      "[25/30] [9900/11532] loss: 0.017158815637230873 gen: 0.007000332232564688 gate: 0.010158483870327473\n",
      "[25/30] [10000/11532] loss: 0.010257896035909653 gen: 0.009932376444339752 gate: 0.0003255199990235269\n",
      "[25/30] [10100/11532] loss: 0.007762093562632799 gen: 0.0077176084741950035 gate: 4.448518666322343e-05\n",
      "[25/30] [10200/11532] loss: 6.176853639772162e-05 gen: 3.9548362110508606e-05 gate: 2.222017246822361e-05\n",
      "[25/30] [10300/11532] loss: 0.0002181628078687936 gen: 0.00012860858987551183 gate: 8.955421071732417e-05\n",
      "[25/30] [10400/11532] loss: 0.008894688449800014 gen: 0.008820639923214912 gate: 7.404871576000005e-05\n",
      "[25/30] [10500/11532] loss: 0.011495389975607395 gen: 0.01002515573054552 gate: 0.0014702343614771962\n",
      "[25/30] [10600/11532] loss: 0.0004778060829266906 gen: 0.0004193490603938699 gate: 5.84570225328207e-05\n",
      "[25/30] [10700/11532] loss: 0.058283813297748566 gen: 0.026441559195518494 gate: 0.03184225410223007\n",
      "[25/30] [10800/11532] loss: 0.0002757829206530005 gen: 0.00016153209435287863 gate: 0.00011425083357607946\n",
      "[25/30] [10900/11532] loss: 0.0012915321858599782 gen: 0.0012591974809765816 gate: 3.233470852137543e-05\n",
      "[25/30] [11000/11532] loss: 0.0015258542262017727 gen: 0.001471464755013585 gate: 5.438948210212402e-05\n",
      "[25/30] [11100/11532] loss: 0.000975376577116549 gen: 0.0009398084366694093 gate: 3.556814408511855e-05\n",
      "[25/30] [11200/11532] loss: 0.0018236652249470353 gen: 0.001776561955921352 gate: 4.710328357759863e-05\n",
      "[25/30] [11300/11532] loss: 0.0005547907203435898 gen: 0.0004764512996189296 gate: 7.833939889678732e-05\n",
      "[25/30] [11400/11532] loss: 0.0007346100173890591 gen: 0.00041411054553464055 gate: 0.00032049944275058806\n",
      "[25/30] [11500/11532] loss: 0.00021806152653880417 gen: 0.00016159111692104489 gate: 5.647040234180167e-05\n"
     ]
    },
    {
     "name": "stderr",
     "output_type": "stream",
     "text": [
      "100%|██████████| 640/640 [02:13<00:00,  4.79it/s]\n"
     ]
    },
    {
     "name": "stdout",
     "output_type": "stream",
     "text": [
      "{'joint_goal_accuracy': 0.8120359515435717, 'turn_slot_accuracy': 0.9940514958099979, 'turn_slot_f1': 0.9741202436431604}\n",
      "joint_goal_accuracy: 0.8120359515435717\n",
      "turn_slot_accuracy: 0.9940514958099979\n",
      "turn_slot_f1: 0.9741202436431604\n",
      "time for 1 epoch: 1988.0891082286835\n",
      "[26/30] [0/11532] loss: 0.0014102484565228224 gen: 0.0012875802349299192 gate: 0.00012266816338524222\n",
      "[26/30] [100/11532] loss: 0.0005505651934072375 gen: 0.000499619753099978 gate: 5.094544030725956e-05\n",
      "[26/30] [200/11532] loss: 0.0033519843127578497 gen: 0.002938586985692382 gate: 0.0004133972979616374\n",
      "[26/30] [300/11532] loss: 0.06652822345495224 gen: 0.06556817889213562 gate: 0.000960043165832758\n",
      "[26/30] [400/11532] loss: 0.00021695424220524728 gen: 0.0001453057921025902 gate: 7.164845010265708e-05\n",
      "[26/30] [500/11532] loss: 0.002669818699359894 gen: 0.00257530203089118 gate: 9.451664664084092e-05\n",
      "[26/30] [600/11532] loss: 0.0015080576995387673 gen: 0.0013840713072568178 gate: 0.0001239864359376952\n",
      "[26/30] [700/11532] loss: 0.015440649352967739 gen: 0.01539723388850689 gate: 4.3415071559138596e-05\n",
      "[26/30] [800/11532] loss: 0.0169653482735157 gen: 0.016698256134986877 gate: 0.0002670923131518066\n",
      "[26/30] [900/11532] loss: 0.0004981135716661811 gen: 0.0003751791955437511 gate: 0.0001229343470185995\n",
      "[26/30] [1000/11532] loss: 0.0008591822115704417 gen: 0.0008287103264592588 gate: 3.04718705592677e-05\n",
      "[26/30] [1100/11532] loss: 0.032303206622600555 gen: 0.010621408931910992 gate: 0.02168179862201214\n",
      "[26/30] [1200/11532] loss: 0.030323656275868416 gen: 0.03027494065463543 gate: 4.871614510193467e-05\n",
      "[26/30] [1300/11532] loss: 0.005007840692996979 gen: 0.004914177116006613 gate: 9.366335143567994e-05\n",
      "[26/30] [1400/11532] loss: 7.650023326277733e-05 gen: 4.8881123802857473e-05 gate: 2.761911127890926e-05\n",
      "[26/30] [1500/11532] loss: 0.016300279647111893 gen: 0.016241800040006638 gate: 5.848021828569472e-05\n",
      "[26/30] [1600/11532] loss: 9.080086601898074e-05 gen: 6.600658525712788e-05 gate: 2.479428076185286e-05\n",
      "[26/30] [1700/11532] loss: 0.008829851634800434 gen: 0.008791301399469376 gate: 3.855062459479086e-05\n",
      "[26/30] [1800/11532] loss: 0.009619356133043766 gen: 0.009584430605173111 gate: 3.492542964522727e-05\n",
      "[26/30] [1900/11532] loss: 0.0010738522978499532 gen: 0.0010587051510810852 gate: 1.5147176782193128e-05\n",
      "[26/30] [2000/11532] loss: 0.006146242376416922 gen: 0.006096641067415476 gate: 4.960141086485237e-05\n",
      "[26/30] [2100/11532] loss: 0.00029212940717116 gen: 0.0002542934671510011 gate: 3.7835954572074115e-05\n",
      "[26/30] [2200/11532] loss: 0.017606675624847412 gen: 0.017291000112891197 gate: 0.0003156751918140799\n",
      "[26/30] [2300/11532] loss: 0.017581157386302948 gen: 0.016920698806643486 gate: 0.0006604590453207493\n",
      "[26/30] [2400/11532] loss: 0.0017217284766957164 gen: 0.0016180510865524411 gate: 0.0001036773610394448\n",
      "[26/30] [2500/11532] loss: 0.013651899993419647 gen: 0.013604995794594288 gate: 4.690385321737267e-05\n",
      "[26/30] [2600/11532] loss: 0.00038164405850693583 gen: 0.00033657613676041365 gate: 4.506791083258577e-05\n",
      "[26/30] [2700/11532] loss: 0.016108401119709015 gen: 0.01607598178088665 gate: 3.241846934542991e-05\n",
      "[26/30] [2800/11532] loss: 0.00304279662668705 gen: 0.0029656756669282913 gate: 7.712099613854662e-05\n",
      "[26/30] [2900/11532] loss: 0.0075203776359558105 gen: 0.0069388654083013535 gate: 0.0005815121112391353\n",
      "[26/30] [3000/11532] loss: 5.956054519629106e-05 gen: 3.0253220757003874e-05 gate: 2.930732625827659e-05\n",
      "[26/30] [3100/11532] loss: 0.009478083811700344 gen: 0.009381476789712906 gate: 9.660737123340368e-05\n",
      "[26/30] [3200/11532] loss: 0.0007604957791045308 gen: 0.0007224383880384266 gate: 3.805740925599821e-05\n",
      "[26/30] [3300/11532] loss: 4.84062620671466e-05 gen: 2.707159183046315e-05 gate: 2.1334672055672854e-05\n",
      "[26/30] [3400/11532] loss: 0.00019771808001678437 gen: 0.0001718496932880953 gate: 2.5868386728689075e-05\n",
      "[26/30] [3500/11532] loss: 9.986986697185785e-05 gen: 8.580695430282503e-05 gate: 1.4062909031054005e-05\n",
      "[26/30] [3600/11532] loss: 0.0035216654650866985 gen: 0.003394069615751505 gate: 0.0001275957329198718\n",
      "[26/30] [3700/11532] loss: 0.020001240074634552 gen: 0.019976412877440453 gate: 2.482684067217633e-05\n",
      "[26/30] [3800/11532] loss: 0.020621027797460556 gen: 0.020564401522278786 gate: 5.662598050548695e-05\n",
      "[26/30] [3900/11532] loss: 0.0016454403521493077 gen: 0.0015756279462948442 gate: 6.98124204063788e-05\n",
      "[26/30] [4000/11532] loss: 0.034410007297992706 gen: 0.013441229239106178 gate: 0.020968778058886528\n",
      "[26/30] [4100/11532] loss: 0.0008604684844613075 gen: 0.0008017373620532453 gate: 5.8731140597956255e-05\n",
      "[26/30] [4200/11532] loss: 0.0003120310720987618 gen: 0.00015133530541788787 gate: 0.0001606957521289587\n",
      "[26/30] [4300/11532] loss: 0.00027487071929499507 gen: 0.0002188366634072736 gate: 5.603406316367909e-05\n",
      "[26/30] [4400/11532] loss: 0.010023866780102253 gen: 0.009981402195990086 gate: 4.246499156579375e-05\n",
      "[26/30] [4500/11532] loss: 0.00313794263638556 gen: 0.003097484353929758 gate: 4.045838431920856e-05\n",
      "[26/30] [4600/11532] loss: 0.0068700662814080715 gen: 0.00683636637404561 gate: 3.369976911926642e-05\n",
      "[26/30] [4700/11532] loss: 6.763206329196692e-05 gen: 5.17432126798667e-05 gate: 1.5888850612100214e-05\n",
      "[26/30] [4800/11532] loss: 0.004547371529042721 gen: 0.004518663510680199 gate: 2.8707920137094334e-05\n",
      "[26/30] [4900/11532] loss: 0.00011273730342509225 gen: 6.659718201262876e-05 gate: 4.6140121412463486e-05\n",
      "[26/30] [5000/11532] loss: 0.017923492938280106 gen: 0.017885755747556686 gate: 3.773764910874888e-05\n",
      "[26/30] [5100/11532] loss: 9.261490777134895e-05 gen: 8.006988355191424e-05 gate: 1.2545021490950603e-05\n",
      "[26/30] [5200/11532] loss: 0.0001325712655670941 gen: 0.00011208594514755532 gate: 2.0485314962570556e-05\n",
      "[26/30] [5300/11532] loss: 0.0005135817918926477 gen: 0.0004515854234341532 gate: 6.199633935466409e-05\n",
      "[26/30] [5400/11532] loss: 0.012285364791750908 gen: 0.012196777388453484 gate: 8.858703222358599e-05\n",
      "[26/30] [5500/11532] loss: 0.0005944589502178133 gen: 0.0005645243218168616 gate: 2.993460111611057e-05\n",
      "[26/30] [5600/11532] loss: 8.561845606891438e-05 gen: 7.180814282037318e-05 gate: 1.3810315977025311e-05\n",
      "[26/30] [5700/11532] loss: 0.05089757591485977 gen: 0.026683088392019272 gate: 0.02421448938548565\n",
      "[26/30] [5800/11532] loss: 0.0007986064301803708 gen: 0.0007501576328650117 gate: 4.8448822781210765e-05\n",
      "[26/30] [5900/11532] loss: 0.007642735261470079 gen: 0.007605703081935644 gate: 3.703213587868959e-05\n",
      "[26/30] [6000/11532] loss: 0.0027005767915397882 gen: 0.0026264837943017483 gate: 7.409307727357373e-05\n",
      "[26/30] [6100/11532] loss: 0.00035991345066577196 gen: 0.00033479626290500164 gate: 2.5117200493696146e-05\n",
      "[26/30] [6200/11532] loss: 0.0016108311247080564 gen: 0.0016003703931346536 gate: 1.0460757039254531e-05\n",
      "[26/30] [6300/11532] loss: 4.262957736500539e-05 gen: 1.3220379514677916e-05 gate: 2.9409198759822175e-05\n",
      "[26/30] [6400/11532] loss: 0.0030155254062265158 gen: 0.0029990209732204676 gate: 1.650441117817536e-05\n",
      "[26/30] [6500/11532] loss: 0.0001901207579066977 gen: 0.00015450203500222415 gate: 3.561872290447354e-05\n",
      "[26/30] [6600/11532] loss: 0.011409654282033443 gen: 0.011011064052581787 gate: 0.00039859028765931726\n",
      "[26/30] [6700/11532] loss: 5.286502346280031e-05 gen: 3.343548087286763e-05 gate: 1.942954258993268e-05\n",
      "[26/30] [6800/11532] loss: 0.0010585603304207325 gen: 0.0009948082733899355 gate: 6.375210068654269e-05\n",
      "[26/30] [6900/11532] loss: 0.0007918510818853974 gen: 0.0007577534415759146 gate: 3.409762211958878e-05\n",
      "[26/30] [7000/11532] loss: 0.000144642181112431 gen: 0.00011746544623747468 gate: 2.7176738512935117e-05\n",
      "[26/30] [7100/11532] loss: 0.0011580355931073427 gen: 0.0011250111274421215 gate: 3.3024451113305986e-05\n",
      "[26/30] [7200/11532] loss: 8.05244199000299e-05 gen: 6.988357927184552e-05 gate: 1.0640838809194975e-05\n",
      "[26/30] [7300/11532] loss: 1.7423939425498247e-05 gen: 5.6621843214088585e-06 gate: 1.176175555883674e-05\n",
      "[26/30] [7400/11532] loss: 0.0013668355531990528 gen: 0.00039684848161414266 gate: 0.0009699870133772492\n",
      "[26/30] [7500/11532] loss: 0.011546247638761997 gen: 0.01151346042752266 gate: 3.2787029340397567e-05\n",
      "[26/30] [7600/11532] loss: 0.0001621584960957989 gen: 0.00014072757039684802 gate: 2.143092751794029e-05\n",
      "[26/30] [7700/11532] loss: 0.0016918120672926307 gen: 0.001672358950600028 gate: 1.9453143977443688e-05\n",
      "[26/30] [7800/11532] loss: 0.008654986508190632 gen: 0.008267873898148537 gate: 0.0003871123481076211\n",
      "[26/30] [7900/11532] loss: 0.009236491285264492 gen: 0.008926402777433395 gate: 0.00031008871155790985\n",
      "[26/30] [8000/11532] loss: 0.02186380699276924 gen: 0.009627610445022583 gate: 0.012236196547746658\n",
      "[26/30] [8100/11532] loss: 4.9125799705507234e-05 gen: 4.38402894360479e-05 gate: 5.285511178954039e-06\n",
      "[26/30] [8200/11532] loss: 0.00048568338388577104 gen: 0.0004678952682297677 gate: 1.7788121112971567e-05\n",
      "[26/30] [8300/11532] loss: 0.00412264559417963 gen: 0.004106090869754553 gate: 1.6554593457840383e-05\n",
      "[26/30] [8400/11532] loss: 0.1392950415611267 gen: 0.0628984272480011 gate: 0.07639660686254501\n",
      "[26/30] [8500/11532] loss: 0.004053633194416761 gen: 0.0038997468072921038 gate: 0.00015388632891699672\n",
      "[26/30] [8600/11532] loss: 6.334848876576871e-05 gen: 3.5576653317548335e-05 gate: 2.7771831810241565e-05\n",
      "[26/30] [8700/11532] loss: 0.00033678821637295187 gen: 0.00013709695485886186 gate: 0.00019969126151409\n",
      "[26/30] [8800/11532] loss: 0.020353587344288826 gen: 0.020312249660491943 gate: 4.133747279411182e-05\n",
      "[26/30] [8900/11532] loss: 0.0019781715236604214 gen: 0.0019521168433129787 gate: 2.6054667614516802e-05\n",
      "[26/30] [9000/11532] loss: 0.00012909241195302457 gen: 7.77273962739855e-05 gate: 5.136501567903906e-05\n",
      "[26/30] [9100/11532] loss: 0.0008419936057180166 gen: 0.0008272414561361074 gate: 1.475213957746746e-05\n",
      "[26/30] [9200/11532] loss: 0.02760644070804119 gen: 0.025634484365582466 gate: 0.001971955643966794\n",
      "[26/30] [9300/11532] loss: 6.71977613819763e-05 gen: 5.2619790949393064e-05 gate: 1.4577968613593839e-05\n",
      "[26/30] [9400/11532] loss: 0.014888834208250046 gen: 0.014859373681247234 gate: 2.946064341813326e-05\n",
      "[26/30] [9500/11532] loss: 0.002330711344256997 gen: 0.002315451158210635 gate: 1.5260171494446695e-05\n",
      "[26/30] [9600/11532] loss: 0.007222821936011314 gen: 0.007201440632343292 gate: 2.138150011887774e-05\n",
      "[26/30] [9700/11532] loss: 0.004314936697483063 gen: 0.0043036541901528835 gate: 1.1282593732175883e-05\n",
      "[26/30] [9800/11532] loss: 0.015125119127333164 gen: 0.015102001838386059 gate: 2.3117430828278884e-05\n",
      "[26/30] [9900/11532] loss: 0.0005168996867723763 gen: 0.00050927180564031 gate: 7.6279025051917415e-06\n",
      "[26/30] [10000/11532] loss: 0.013997510075569153 gen: 0.013965226709842682 gate: 3.228293644497171e-05\n",
      "[26/30] [10100/11532] loss: 0.0001917570480145514 gen: 0.00018123247718904167 gate: 1.0524575372983236e-05\n",
      "[26/30] [10200/11532] loss: 0.003601343370974064 gen: 0.001795973046682775 gate: 0.0018053704407066107\n",
      "[26/30] [10300/11532] loss: 0.0021862259600311518 gen: 0.002139443065971136 gate: 4.678289406001568e-05\n",
      "[26/30] [10400/11532] loss: 0.0007519331993535161 gen: 0.0007149189477786422 gate: 3.7014237022958696e-05\n",
      "[26/30] [10500/11532] loss: 0.0019927439279854298 gen: 0.001980477012693882 gate: 1.2266903468116652e-05\n",
      "[26/30] [10600/11532] loss: 0.0004971200251020491 gen: 0.0004896962200291455 gate: 7.423806437145686e-06\n",
      "[26/30] [10700/11532] loss: 0.020676713436841965 gen: 0.020612476393580437 gate: 6.423784361686558e-05\n",
      "[26/30] [10800/11532] loss: 0.00016504988889209926 gen: 0.00015715246263425797 gate: 7.89742171036778e-06\n",
      "[26/30] [10900/11532] loss: 2.781518196570687e-05 gen: 7.329527306865202e-06 gate: 2.048565511358902e-05\n",
      "[26/30] [11000/11532] loss: 0.00016718484403099865 gen: 0.00014178150740917772 gate: 2.540333844081033e-05\n",
      "[26/30] [11100/11532] loss: 0.00016567592683713883 gen: 0.0001355279382551089 gate: 3.014798494405113e-05\n",
      "[26/30] [11200/11532] loss: 0.000134929025080055 gen: 0.00011666600039461628 gate: 1.826302286644932e-05\n",
      "[26/30] [11300/11532] loss: 0.0003763267304748297 gen: 0.0003538992314133793 gate: 2.2427509975386783e-05\n",
      "[26/30] [11400/11532] loss: 0.00012835412053391337 gen: 0.0001220957055920735 gate: 6.258419034566032e-06\n",
      "[26/30] [11500/11532] loss: 0.000567068113014102 gen: 0.0005367004196159542 gate: 3.036770795006305e-05\n"
     ]
    },
    {
     "name": "stderr",
     "output_type": "stream",
     "text": [
      "100%|██████████| 640/640 [01:59<00:00,  5.35it/s]\n"
     ]
    },
    {
     "name": "stdout",
     "output_type": "stream",
     "text": [
      "{'joint_goal_accuracy': 0.8116451738960532, 'turn_slot_accuracy': 0.9940949155486112, 'turn_slot_f1': 0.974747954737966}\n",
      "joint_goal_accuracy: 0.8116451738960532\n",
      "turn_slot_accuracy: 0.9940949155486112\n",
      "turn_slot_f1: 0.974747954737966\n",
      "time for 1 epoch: 1954.4034388065338\n",
      "[27/30] [0/11532] loss: 2.3634231183677912e-05 gen: 1.636406705074478e-05 gate: 7.270164132933132e-06\n",
      "[27/30] [100/11532] loss: 0.0002303244109498337 gen: 0.00022266995802056044 gate: 7.654458386241458e-06\n",
      "[27/30] [200/11532] loss: 0.0003118542372249067 gen: 0.0002835374907590449 gate: 2.831675737979822e-05\n",
      "[27/30] [300/11532] loss: 0.013522692024707794 gen: 0.012901538982987404 gate: 0.0006211534491740167\n",
      "[27/30] [400/11532] loss: 0.0014884148258715868 gen: 0.0014762838836759329 gate: 1.2130899449402932e-05\n",
      "[27/30] [500/11532] loss: 3.547004598658532e-05 gen: 2.721954842854757e-05 gate: 8.250496648543049e-06\n",
      "[27/30] [600/11532] loss: 0.0003113968705292791 gen: 0.0001477089972468093 gate: 0.0001636878732824698\n",
      "[27/30] [700/11532] loss: 0.02275865525007248 gen: 0.02271396480500698 gate: 4.469110717764124e-05\n",
      "[27/30] [800/11532] loss: 0.03091633878648281 gen: 0.03089749813079834 gate: 1.8841417841031216e-05\n",
      "[27/30] [900/11532] loss: 0.0009631963912397623 gen: 0.0005982669536024332 gate: 0.00036492940853349864\n",
      "[27/30] [1000/11532] loss: 2.205051714554429e-05 gen: 1.2701741070486605e-05 gate: 9.348776075057685e-06\n",
      "[27/30] [1100/11532] loss: 0.010491911321878433 gen: 0.010126253589987755 gate: 0.0003656575281638652\n",
      "[27/30] [1200/11532] loss: 0.019717460498213768 gen: 0.014878884889185429 gate: 0.004838576074689627\n",
      "[27/30] [1300/11532] loss: 0.00024810651666484773 gen: 0.00021110045781824738 gate: 3.700606612255797e-05\n",
      "[27/30] [1400/11532] loss: 0.003915493376553059 gen: 0.0039043575525283813 gate: 1.113602047553286e-05\n",
      "[27/30] [1500/11532] loss: 6.427775952033699e-05 gen: 4.928590351482853e-05 gate: 1.4991852367529646e-05\n",
      "[27/30] [1600/11532] loss: 0.0017156068934127688 gen: 0.0017045652493834496 gate: 1.104169223253848e-05\n",
      "[27/30] [1700/11532] loss: 0.005988036282360554 gen: 0.005979284178465605 gate: 8.752008398005273e-06\n",
      "[27/30] [1800/11532] loss: 0.0003085196658503264 gen: 0.0002980126882903278 gate: 1.0506969374546316e-05\n",
      "[27/30] [1900/11532] loss: 3.7384881579782814e-05 gen: 2.0426932678674348e-05 gate: 1.695795072009787e-05\n",
      "[27/30] [2000/11532] loss: 0.0007953635649755597 gen: 0.0007742192829027772 gate: 2.114428389177192e-05\n",
      "[27/30] [2100/11532] loss: 0.00020858313655480742 gen: 0.00019548785348888487 gate: 1.3095277608954348e-05\n",
      "[27/30] [2200/11532] loss: 0.003690385725349188 gen: 0.0036717767361551523 gate: 1.8609012840897776e-05\n",
      "[27/30] [2300/11532] loss: 1.6410060197813436e-05 gen: 1.1486154107842594e-05 gate: 4.923905635223491e-06\n",
      "[27/30] [2400/11532] loss: 3.799444675678387e-05 gen: 2.961093014164362e-05 gate: 8.383516615140252e-06\n",
      "[27/30] [2500/11532] loss: -1.6306394172715954e-06 gen: -6.497361027868465e-06 gate: 4.866721610596869e-06\n",
      "[27/30] [2600/11532] loss: 0.002591465599834919 gen: 0.0025698193348944187 gate: 2.1646153982146643e-05\n",
      "[27/30] [2700/11532] loss: 2.068603498628363e-05 gen: 1.5315732525778003e-05 gate: 5.370303370000329e-06\n",
      "[27/30] [2800/11532] loss: 0.0008500079857185483 gen: 0.0005678580491803586 gate: 0.00028214993653818965\n",
      "[27/30] [2900/11532] loss: 3.264968472649343e-05 gen: 1.7964404833037406e-05 gate: 1.4685280802950729e-05\n",
      "[27/30] [3000/11532] loss: 0.022419201210141182 gen: 0.022391045466065407 gate: 2.8155369363958016e-05\n",
      "[27/30] [3100/11532] loss: 0.0055816941894590855 gen: 0.005567373242229223 gate: 1.4321071830636356e-05\n",
      "[27/30] [3200/11532] loss: 0.0021036569960415363 gen: 0.0020860605873167515 gate: 1.759647420840338e-05\n",
      "[27/30] [3300/11532] loss: 0.0026906635612249374 gen: 0.00267883762717247 gate: 1.182598225568654e-05\n",
      "[27/30] [3400/11532] loss: 0.00048088666517287493 gen: 0.00046537781599909067 gate: 1.5508838259847835e-05\n",
      "[27/30] [3500/11532] loss: 0.00530448229983449 gen: 0.005297631956636906 gate: 6.850194495200412e-06\n",
      "[27/30] [3600/11532] loss: 0.018700793385505676 gen: 0.005353379994630814 gate: 0.013347412459552288\n",
      "[27/30] [3700/11532] loss: 0.0022721420973539352 gen: 0.002267670352011919 gate: 4.471630745683797e-06\n",
      "[27/30] [3800/11532] loss: 0.0054368008859455585 gen: 0.005430371966212988 gate: 6.428924734791508e-06\n",
      "[27/30] [3900/11532] loss: 0.01874978095293045 gen: 0.00940383318811655 gate: 0.009345946833491325\n",
      "[27/30] [4000/11532] loss: 0.00010730375652201474 gen: 3.560070399544202e-05 gate: 7.170305616455153e-05\n",
      "[27/30] [4100/11532] loss: 9.031953959492967e-05 gen: 8.393004100071266e-05 gate: 6.389496775227599e-06\n",
      "[27/30] [4200/11532] loss: 1.8095146515406668e-05 gen: 9.36473225010559e-06 gate: 8.73041517479578e-06\n",
      "[27/30] [4300/11532] loss: 0.001794127863831818 gen: 0.001757459482178092 gate: 3.6668425309471786e-05\n",
      "[27/30] [4400/11532] loss: 0.012941037304699421 gen: 0.012913848273456097 gate: 2.718874384299852e-05\n",
      "[27/30] [4500/11532] loss: 0.0005337308975867927 gen: 0.0005112928338348866 gate: 2.243806011392735e-05\n",
      "[27/30] [4600/11532] loss: 0.005003535654395819 gen: 0.004996492527425289 gate: 7.042993274808396e-06\n",
      "[27/30] [4700/11532] loss: 0.005755233112722635 gen: 0.005708951037377119 gate: 4.6282249968498945e-05\n",
      "[27/30] [4800/11532] loss: 0.00016888596292119473 gen: 1.7632575691095553e-05 gate: 0.0001512533926870674\n",
      "[27/30] [4900/11532] loss: 0.013958020135760307 gen: 0.01391388475894928 gate: 4.4135718781035393e-05\n",
      "[27/30] [5000/11532] loss: 0.0014928504824638367 gen: 0.0011546923778951168 gate: 0.0003381581627763808\n",
      "[27/30] [5100/11532] loss: 2.0542969650705345e-05 gen: 1.7068701708922163e-05 gate: 3.4742674870358314e-06\n",
      "[27/30] [5200/11532] loss: 0.0019010566174983978 gen: 0.0018867924809455872 gate: 1.4264124729379546e-05\n",
      "[27/30] [5300/11532] loss: 0.0019470533588901162 gen: 0.001943233422935009 gate: 3.819944595306879e-06\n",
      "[27/30] [5400/11532] loss: 0.0026576712261885405 gen: 0.0026494029443711042 gate: 8.268247256637551e-06\n",
      "[27/30] [5500/11532] loss: 0.0593591183423996 gen: 0.01648886501789093 gate: 0.04287025332450867\n",
      "[27/30] [5600/11532] loss: 0.00346582755446434 gen: 0.003458549967035651 gate: 7.277570148289669e-06\n",
      "[27/30] [5700/11532] loss: 0.0071048010140657425 gen: 0.007099817506968975 gate: 4.983526650903514e-06\n",
      "[27/30] [5800/11532] loss: 0.002657148754224181 gen: 0.0026382189244031906 gate: 1.892988984764088e-05\n",
      "[27/30] [5900/11532] loss: 0.0077310907654464245 gen: 0.007717085536569357 gate: 1.4005342563905288e-05\n",
      "[27/30] [6000/11532] loss: 0.008153894916176796 gen: 0.008145049214363098 gate: 8.846049240673892e-06\n",
      "[27/30] [6100/11532] loss: 0.0103712547570467 gen: 0.010334944352507591 gate: 3.630997889558785e-05\n",
      "[27/30] [6200/11532] loss: 0.004643719177693129 gen: 0.004561704583466053 gate: 8.201444143196568e-05\n",
      "[27/30] [6300/11532] loss: 0.0003855070099234581 gen: 0.00036124835605733097 gate: 2.425866296107415e-05\n",
      "[27/30] [6400/11532] loss: 0.0021554415579885244 gen: 0.0021476210094988346 gate: 7.820569408067968e-06\n",
      "[27/30] [6500/11532] loss: 0.01082310639321804 gen: 0.010728234425187111 gate: 9.487179340794683e-05\n",
      "[27/30] [6600/11532] loss: 0.0003382974537089467 gen: 0.00010730131907621399 gate: 0.00023099614190869033\n",
      "[27/30] [6700/11532] loss: 0.005014163441956043 gen: 0.005010491237044334 gate: 3.672276307042921e-06\n",
      "[27/30] [6800/11532] loss: 0.01057636272162199 gen: 0.01056911051273346 gate: 7.252144314406905e-06\n",
      "[27/30] [6900/11532] loss: 0.007144450675696135 gen: 0.007134113926440477 gate: 1.0336650120734703e-05\n",
      "[27/30] [7000/11532] loss: 5.897314986214042e-05 gen: 5.3648756875190884e-05 gate: 5.3243920774548315e-06\n",
      "[27/30] [7100/11532] loss: 0.04370325803756714 gen: 0.022545065730810165 gate: 0.021158194169402122\n",
      "[27/30] [7200/11532] loss: 0.0001541021920274943 gen: 0.00014982874563429505 gate: 4.273442300473107e-06\n",
      "[27/30] [7300/11532] loss: 5.051682092016563e-05 gen: 4.775383058586158e-05 gate: 2.762990561677725e-06\n",
      "[27/30] [7400/11532] loss: 0.00033548122155480087 gen: 0.0003331804764457047 gate: 2.3007328309176955e-06\n",
      "[27/30] [7500/11532] loss: 0.002337333746254444 gen: 0.0023314303252846003 gate: 5.903463716094848e-06\n",
      "[27/30] [7600/11532] loss: 5.746076112700393e-06 gen: 1.943990582731203e-06 gate: 3.8020855299691902e-06\n",
      "[27/30] [7700/11532] loss: 0.002747379010543227 gen: 0.0026022803504019976 gate: 0.00014509873290080577\n",
      "[27/30] [7800/11532] loss: 6.213017968548229e-06 gen: 3.200343371645431e-06 gate: 3.012674596902798e-06\n",
      "[27/30] [7900/11532] loss: 7.032916619209573e-05 gen: 6.442044104915112e-05 gate: 5.908725597691955e-06\n",
      "[27/30] [8000/11532] loss: 3.9906608435558155e-05 gen: 3.4682634577620775e-05 gate: 5.22397340319003e-06\n",
      "[27/30] [8100/11532] loss: 0.010788480751216412 gen: 0.010186790488660336 gate: 0.0006016899133101106\n",
      "[27/30] [8200/11532] loss: 0.023524029180407524 gen: 0.020686358213424683 gate: 0.0028376702684909105\n",
      "[27/30] [8300/11532] loss: 0.00029493827605620027 gen: 2.4289245629915968e-05 gate: 0.0002706490340642631\n",
      "[27/30] [8400/11532] loss: 0.0013679006369784474 gen: 0.0012907483614981174 gate: 7.715229003224522e-05\n",
      "[27/30] [8500/11532] loss: 0.008135929703712463 gen: 0.003303535981103778 gate: 0.004832393955439329\n",
      "[27/30] [8600/11532] loss: 0.00024042054428718984 gen: 0.00023443107784260064 gate: 5.989473265799461e-06\n",
      "[27/30] [8700/11532] loss: 0.01726521924138069 gen: 0.01725592464208603 gate: 9.293776201957371e-06\n",
      "[27/30] [8800/11532] loss: 0.010713846422731876 gen: 0.010702455416321754 gate: 1.139060259447433e-05\n",
      "[27/30] [8900/11532] loss: 0.004132273606956005 gen: 0.004126686602830887 gate: 5.586869065155042e-06\n",
      "[27/30] [9000/11532] loss: 0.0006027630297467113 gen: 0.0005932035855948925 gate: 9.55944324232405e-06\n",
      "[27/30] [9100/11532] loss: 0.007127506658434868 gen: 0.007115159183740616 gate: 1.2347661140665878e-05\n",
      "[27/30] [9200/11532] loss: 7.536848897871096e-06 gen: 5.056645932199899e-06 gate: 2.4802029656711966e-06\n",
      "[27/30] [9300/11532] loss: 0.09129747748374939 gen: 0.04642920568585396 gate: 0.04486827179789543\n",
      "[27/30] [9400/11532] loss: 0.0026508753653615713 gen: 0.002640295075252652 gate: 1.0580261914583389e-05\n",
      "[27/30] [9500/11532] loss: 0.022679945454001427 gen: 0.02266240492463112 gate: 1.7540503904456273e-05\n",
      "[27/30] [9600/11532] loss: 0.000613172072917223 gen: 0.0005881402757950127 gate: 2.5031808036146685e-05\n",
      "[27/30] [9700/11532] loss: 0.015211260877549648 gen: 0.015200301073491573 gate: 1.0960104191326536e-05\n",
      "[27/30] [9800/11532] loss: 0.004793872125446796 gen: 0.004790583159774542 gate: 3.288832658654428e-06\n",
      "[27/30] [9900/11532] loss: 0.002712155459448695 gen: 0.002705248072743416 gate: 6.907378519827034e-06\n",
      "[27/30] [10000/11532] loss: 0.00015067425556480885 gen: 0.00013855172437615693 gate: 1.2122532098146621e-05\n",
      "[27/30] [10100/11532] loss: 2.41416746575851e-05 gen: 1.0842148185474798e-05 gate: 1.3299527381605003e-05\n",
      "[27/30] [10200/11532] loss: 0.0010966812260448933 gen: 0.0010927255498245358 gate: 3.955733973270981e-06\n",
      "[27/30] [10300/11532] loss: 0.011049633845686913 gen: 0.01104066800326109 gate: 8.966143468569499e-06\n",
      "[27/30] [10400/11532] loss: 0.016099631786346436 gen: 0.01608642376959324 gate: 1.3207827578298748e-05\n",
      "[27/30] [10500/11532] loss: 0.0009221207583323121 gen: 0.0008916428196243942 gate: 3.0477922337013297e-05\n",
      "[27/30] [10600/11532] loss: 0.009002024307847023 gen: 0.008978676982223988 gate: 2.3347656679106876e-05\n",
      "[27/30] [10700/11532] loss: 0.0042617893777787685 gen: 0.0042367419227957726 gate: 2.504752410459332e-05\n",
      "[27/30] [10800/11532] loss: 0.0028093403670936823 gen: 0.0027286591939628124 gate: 8.068110764725134e-05\n",
      "[27/30] [10900/11532] loss: 0.0015868794871494174 gen: 0.0015682198572903872 gate: 1.8659671695786528e-05\n",
      "[27/30] [11000/11532] loss: 0.03193862363696098 gen: 0.031922899186611176 gate: 1.5725965567980893e-05\n",
      "[27/30] [11100/11532] loss: 0.0002283210342284292 gen: 0.0002115205570589751 gate: 1.6800477169454098e-05\n",
      "[27/30] [11200/11532] loss: 0.0012248452985659242 gen: 0.001200883649289608 gate: 2.3961654733284377e-05\n",
      "[27/30] [11300/11532] loss: 0.0027371644973754883 gen: 0.002725639147683978 gate: 1.1525377885845955e-05\n",
      "[27/30] [11400/11532] loss: 0.00677618058398366 gen: 0.006759424693882465 gate: 1.6756044715293683e-05\n",
      "[27/30] [11500/11532] loss: 0.00025120124337263405 gen: 0.0002364068932365626 gate: 1.4794337403145619e-05\n"
     ]
    },
    {
     "name": "stderr",
     "output_type": "stream",
     "text": [
      "100%|██████████| 640/640 [01:59<00:00,  5.38it/s]\n"
     ]
    },
    {
     "name": "stdout",
     "output_type": "stream",
     "text": [
      "{'joint_goal_accuracy': 0.8151621727237202, 'turn_slot_accuracy': 0.9941730710781139, 'turn_slot_f1': 0.97498999566925}\n",
      "joint_goal_accuracy: 0.8151621727237202\n",
      "turn_slot_accuracy: 0.9941730710781139\n",
      "turn_slot_f1: 0.97498999566925\n",
      "time for 1 epoch: 1967.4125971794128\n",
      "[28/30] [0/11532] loss: 6.876568659208715e-05 gen: 4.9007889174390584e-05 gate: 1.9757793779717758e-05\n",
      "[28/30] [100/11532] loss: 5.688960663974285e-05 gen: 3.107321390416473e-05 gate: 2.5816390916588716e-05\n",
      "[28/30] [200/11532] loss: 0.007588536944240332 gen: 0.00757877342402935 gate: 9.76329010882182e-06\n",
      "[28/30] [300/11532] loss: 0.006140152923762798 gen: 0.006122842896729708 gate: 1.73100306710694e-05\n",
      "[28/30] [400/11532] loss: 5.80010237172246e-05 gen: 5.373614840209484e-05 gate: 4.264875769877108e-06\n",
      "[28/30] [500/11532] loss: 0.0006017561536282301 gen: 0.0005877602961845696 gate: 1.3995844710734673e-05\n",
      "[28/30] [600/11532] loss: 0.007207480259239674 gen: 0.0071927872486412525 gate: 1.469305880164029e-05\n",
      "[28/30] [700/11532] loss: 5.729995609726757e-05 gen: 2.524327464925591e-05 gate: 3.205668326700106e-05\n",
      "[28/30] [800/11532] loss: 0.01626483164727688 gen: 0.016258230432868004 gate: 6.602019766432932e-06\n",
      "[28/30] [900/11532] loss: 0.0003380144480615854 gen: 0.00032383220968768 gate: 1.418224837834714e-05\n",
      "[28/30] [1000/11532] loss: 0.0034189606085419655 gen: 0.003400233807042241 gate: 1.872675056802109e-05\n",
      "[28/30] [1100/11532] loss: 0.002085715066641569 gen: 0.0020398790948092937 gate: 4.583593909046613e-05\n",
      "[28/30] [1200/11532] loss: 0.00012818959658034146 gen: 0.00010002037743106484 gate: 2.8169211873319e-05\n",
      "[28/30] [1300/11532] loss: 0.006030350457876921 gen: 0.0058575584553182125 gate: 0.00017279181338381022\n",
      "[28/30] [1400/11532] loss: 0.009985296055674553 gen: 0.009961212985217571 gate: 2.4083443349809386e-05\n",
      "[28/30] [1500/11532] loss: 0.00039127387572079897 gen: 0.00037327868631109595 gate: 1.799519668566063e-05\n",
      "[28/30] [1600/11532] loss: 0.0037715069483965635 gen: 0.003753909608349204 gate: 1.7597445548744872e-05\n",
      "[28/30] [1700/11532] loss: 0.00011753776925615966 gen: 2.0074347048648633e-05 gate: 9.746342402650043e-05\n",
      "[28/30] [1800/11532] loss: 2.8212001780048013e-05 gen: 1.3496717656380497e-05 gate: 1.4715285033162218e-05\n",
      "[28/30] [1900/11532] loss: 0.09804943948984146 gen: 0.024025559425354004 gate: 0.07402388006448746\n",
      "[28/30] [2000/11532] loss: 0.001216661767102778 gen: 0.0012133358977735043 gate: 3.325908437545877e-06\n",
      "[28/30] [2100/11532] loss: 0.0012956184800714254 gen: 0.001284323283471167 gate: 1.1295242074993439e-05\n",
      "[28/30] [2200/11532] loss: 0.019148387014865875 gen: 0.01872614026069641 gate: 0.0004222471616230905\n",
      "[28/30] [2300/11532] loss: 0.0039707631804049015 gen: 0.003838540520519018 gate: 0.00013222271809354424\n",
      "[28/30] [2400/11532] loss: 3.482765896478668e-05 gen: 1.9132543457089923e-05 gate: 1.569511732668616e-05\n",
      "[28/30] [2500/11532] loss: 0.006885291542857885 gen: 0.006882441695779562 gate: 2.8497465791588183e-06\n",
      "[28/30] [2600/11532] loss: 0.0029465053230524063 gen: 0.0029317198786884546 gate: 1.4785347048018593e-05\n",
      "[28/30] [2700/11532] loss: 0.0006099436432123184 gen: 0.0006007832125760615 gate: 9.160443369182758e-06\n",
      "[28/30] [2800/11532] loss: 2.85141468339134e-05 gen: 1.2402405445754994e-05 gate: 1.611174229765311e-05\n",
      "[28/30] [2900/11532] loss: 0.007283901795744896 gen: 0.007268321700394154 gate: 1.558023905090522e-05\n",
      "[28/30] [3000/11532] loss: 0.0017977611860260367 gen: 0.0017804234521463513 gate: 1.7337764802505262e-05\n",
      "[28/30] [3100/11532] loss: 0.011843718588352203 gen: 0.011830431409180164 gate: 1.3287313777254894e-05\n",
      "[28/30] [3200/11532] loss: 0.0020085300784558058 gen: 0.001896613510325551 gate: 0.00011191653902642429\n",
      "[28/30] [3300/11532] loss: 1.4812421795795672e-05 gen: 4.811080998479156e-06 gate: 1.0001341252063867e-05\n",
      "[28/30] [3400/11532] loss: 0.0028997615445405245 gen: 0.00289068347774446 gate: 9.078128641704097e-06\n",
      "[28/30] [3500/11532] loss: 0.0006923319888301194 gen: 0.0006671434384770691 gate: 2.518854853406083e-05\n",
      "[28/30] [3600/11532] loss: 0.0024627908132970333 gen: 0.0023856433108448982 gate: 7.71475097280927e-05\n",
      "[28/30] [3700/11532] loss: 0.010293968953192234 gen: 0.010269236750900745 gate: 2.4731840312597342e-05\n",
      "[28/30] [3800/11532] loss: 0.0033230434637516737 gen: 0.0032837199978530407 gate: 3.9323440432781354e-05\n",
      "[28/30] [3900/11532] loss: 6.650340219493955e-05 gen: 5.23751659784466e-05 gate: 1.4128234397503547e-05\n",
      "[28/30] [4000/11532] loss: 0.0005339122726581991 gen: 0.0005176275153644383 gate: 1.6284737284877338e-05\n",
      "[28/30] [4100/11532] loss: 6.474859401350841e-05 gen: 5.724776565330103e-05 gate: 7.50082881495473e-06\n",
      "[28/30] [4200/11532] loss: 0.03879621624946594 gen: 0.0006461494485847652 gate: 0.03815006837248802\n",
      "[28/30] [4300/11532] loss: 0.0025032167322933674 gen: 0.0024732807651162148 gate: 2.9935938073322177e-05\n",
      "[28/30] [4400/11532] loss: 0.0008269910467788577 gen: 0.0008042349363677204 gate: 2.27560885832645e-05\n",
      "[28/30] [4500/11532] loss: 0.012707717716693878 gen: 0.012694516219198704 gate: 1.3201390174799599e-05\n",
      "[28/30] [4600/11532] loss: 0.005553898401558399 gen: 0.005525525659322739 gate: 2.837286410795059e-05\n",
      "[28/30] [4700/11532] loss: 0.00014807707339059561 gen: 0.00010331982048228383 gate: 4.475725654629059e-05\n",
      "[28/30] [4800/11532] loss: 0.008602766320109367 gen: 0.008567113429307938 gate: 3.5653130908031017e-05\n",
      "[28/30] [4900/11532] loss: 0.007483952678740025 gen: 0.0073706526309251785 gate: 0.00011329985136399046\n",
      "[28/30] [5000/11532] loss: 0.0003747747396118939 gen: 0.00036259053740650415 gate: 1.2184194019937422e-05\n",
      "[28/30] [5100/11532] loss: 0.003435481106862426 gen: 0.0034296412486582994 gate: 5.8398923101776745e-06\n",
      "[28/30] [5200/11532] loss: 1.3448152458295226e-05 gen: 6.962043698877096e-06 gate: 6.48610875941813e-06\n",
      "[28/30] [5300/11532] loss: 1.743687789712567e-05 gen: 1.2881941074738279e-05 gate: 4.55493682238739e-06\n",
      "[28/30] [5400/11532] loss: 0.012985034845769405 gen: 0.012960908003151417 gate: 2.4126904463628307e-05\n",
      "[28/30] [5500/11532] loss: 0.009935357607901096 gen: 0.009869956411421299 gate: 6.540097820106894e-05\n",
      "[28/30] [5600/11532] loss: 7.706761243753135e-05 gen: 5.526818858925253e-05 gate: 2.179942384827882e-05\n",
      "[28/30] [5700/11532] loss: 3.115400977549143e-05 gen: 1.958634311449714e-05 gate: 1.156766575149959e-05\n",
      "[28/30] [5800/11532] loss: 0.010134931653738022 gen: 0.010110042057931423 gate: 2.4889894120860845e-05\n",
      "[28/30] [5900/11532] loss: 0.010563255287706852 gen: 0.010545897297561169 gate: 1.7357557226205245e-05\n",
      "[28/30] [6000/11532] loss: 0.00904671661555767 gen: 0.008987401612102985 gate: 5.9314559621270746e-05\n",
      "[28/30] [6100/11532] loss: 0.014734523370862007 gen: 0.014729898422956467 gate: 4.625265773938736e-06\n",
      "[28/30] [6200/11532] loss: 0.00012198458716738969 gen: 0.00010152333561563864 gate: 2.046125337074045e-05\n",
      "[28/30] [6300/11532] loss: 0.0001061514049069956 gen: 7.310834189411253e-05 gate: 3.3043066650861874e-05\n",
      "[28/30] [6400/11532] loss: 0.004302377812564373 gen: 0.00427020899951458 gate: 3.2168762118089944e-05\n",
      "[28/30] [6500/11532] loss: 2.6992927814717405e-05 gen: 1.971951496670954e-05 gate: 7.273413302755216e-06\n",
      "[28/30] [6600/11532] loss: 0.003290641587227583 gen: 0.003265587380155921 gate: 2.5054134312085807e-05\n",
      "[28/30] [6700/11532] loss: 0.00026243337197229266 gen: 0.0002539166307542473 gate: 8.516738489561249e-06\n",
      "[28/30] [6800/11532] loss: 0.0005382213275879622 gen: 0.0005195153644308448 gate: 1.870598498499021e-05\n",
      "[28/30] [6900/11532] loss: 0.010337529703974724 gen: 0.010315663181245327 gate: 2.186630263167899e-05\n",
      "[28/30] [7000/11532] loss: 8.672957483213395e-05 gen: 5.669355596182868e-05 gate: 3.0036017051315866e-05\n",
      "[28/30] [7100/11532] loss: 0.0451589971780777 gen: 0.012562042102217674 gate: 0.032596953213214874\n",
      "[28/30] [7200/11532] loss: 4.039096529595554e-05 gen: 3.357763489475474e-05 gate: 6.813329491706099e-06\n",
      "[28/30] [7300/11532] loss: 0.0016367863863706589 gen: 0.0016284312587231398 gate: 8.355131285497919e-06\n",
      "[28/30] [7400/11532] loss: 0.0016792508540675044 gen: 0.0012887102784588933 gate: 0.00039054060471244156\n",
      "[28/30] [7500/11532] loss: 0.002127979416400194 gen: 0.0021099939476698637 gate: 1.7985537851927802e-05\n",
      "[28/30] [7600/11532] loss: 0.006423122249543667 gen: 0.0064049577340483665 gate: 1.8164737412007526e-05\n",
      "[28/30] [7700/11532] loss: 1.9709164917003363e-05 gen: 9.149473044089973e-06 gate: 1.0559692782408092e-05\n",
      "[28/30] [7800/11532] loss: 0.0102717075496912 gen: 0.010026468895375729 gate: 0.00024523879983462393\n",
      "[28/30] [7900/11532] loss: 0.0011123258154839277 gen: 0.0011069197207689285 gate: 5.406107447925024e-06\n",
      "[28/30] [8000/11532] loss: 0.008629354648292065 gen: 0.008311913348734379 gate: 0.0003174411249347031\n",
      "[28/30] [8100/11532] loss: 4.6588807890657336e-05 gen: 1.1711194019881077e-05 gate: 3.487761568976566e-05\n",
      "[28/30] [8200/11532] loss: 0.00024082811432890594 gen: 0.00023578628315590322 gate: 5.04183617522358e-06\n",
      "[28/30] [8300/11532] loss: 0.002141262637451291 gen: 0.0021103390026837587 gate: 3.092364931944758e-05\n",
      "[28/30] [8400/11532] loss: 0.036753855645656586 gen: 0.03671694174408913 gate: 3.6914527299813926e-05\n",
      "[28/30] [8500/11532] loss: 0.0006545323994942009 gen: 0.0006415166426450014 gate: 1.3015784134040587e-05\n",
      "[28/30] [8600/11532] loss: 0.002735977293923497 gen: 0.0027221261989325285 gate: 1.385101586492965e-05\n",
      "[28/30] [8700/11532] loss: 0.0061841364949941635 gen: 0.006151915993541479 gate: 3.2220661523751915e-05\n",
      "[28/30] [8800/11532] loss: 0.006966757122427225 gen: 0.006879141554236412 gate: 8.76156918820925e-05\n",
      "[28/30] [8900/11532] loss: -5.801033239549724e-06 gen: -9.1971432993887e-06 gate: 3.396110059838975e-06\n",
      "[28/30] [9000/11532] loss: 0.000782241637352854 gen: 0.0007603396079503 gate: 2.1902034859522246e-05\n",
      "[28/30] [9100/11532] loss: 0.009706887416541576 gen: 0.009696907363831997 gate: 9.98035648080986e-06\n",
      "[28/30] [9200/11532] loss: 0.007169587071985006 gen: 0.007158131338655949 gate: 1.145595706475433e-05\n",
      "[28/30] [9300/11532] loss: 0.0046569048427045345 gen: 0.004637415986508131 gate: 1.948898352566175e-05\n",
      "[28/30] [9400/11532] loss: 0.0032335605937987566 gen: 0.0032243654131889343 gate: 9.195226994052064e-06\n",
      "[28/30] [9500/11532] loss: 0.002870297059416771 gen: 0.0028412204701453447 gate: 2.907656380557455e-05\n",
      "[28/30] [9600/11532] loss: 0.00012433242227416486 gen: 8.111192437354475e-05 gate: 4.3220494262641296e-05\n",
      "[28/30] [9700/11532] loss: 0.002427223837003112 gen: 0.0024205020163208246 gate: 6.721783847751794e-06\n",
      "[28/30] [9800/11532] loss: 0.0011825234396383166 gen: 0.0011267949594184756 gate: 5.5728527513565496e-05\n",
      "[28/30] [9900/11532] loss: 0.00026582367718219757 gen: 0.00024679803755134344 gate: 1.9025641449843533e-05\n",
      "[28/30] [10000/11532] loss: -3.77826722797181e-06 gen: -7.2942593760672025e-06 gate: 3.5159921480953926e-06\n",
      "[28/30] [10100/11532] loss: 0.0027369861491024494 gen: 0.002724927617236972 gate: 1.2058483662258368e-05\n",
      "[28/30] [10200/11532] loss: 0.0004034402663819492 gen: 0.0003890568914357573 gate: 1.4383369489223696e-05\n",
      "[28/30] [10300/11532] loss: 2.706146551645361e-05 gen: 2.1028903574915603e-05 gate: 6.032562851032708e-06\n",
      "[28/30] [10400/11532] loss: 0.006040009669959545 gen: 0.006028546020388603 gate: 1.146369322668761e-05\n",
      "[28/30] [10500/11532] loss: 0.0013731801882386208 gen: 0.0013657616218551993 gate: 7.418609584419755e-06\n",
      "[28/30] [10600/11532] loss: 0.0018685200484469533 gen: 0.0018546123756095767 gate: 1.3907678294344805e-05\n",
      "[28/30] [10700/11532] loss: 0.00042229503742419183 gen: 0.00040063823689706624 gate: 2.1656787794199772e-05\n",
      "[28/30] [10800/11532] loss: 0.017049528658390045 gen: 0.016941487789154053 gate: 0.00010804125486174598\n",
      "[28/30] [10900/11532] loss: 0.01818377524614334 gen: 0.018176348879933357 gate: 7.425784588122042e-06\n",
      "[28/30] [11000/11532] loss: 0.005170024465769529 gen: 0.0051520997658371925 gate: 1.7924843632499687e-05\n",
      "[28/30] [11100/11532] loss: 0.001406469033099711 gen: 0.0013952844310551882 gate: 1.1184562936250586e-05\n",
      "[28/30] [11200/11532] loss: 0.0003174686280544847 gen: 0.0002993293455801904 gate: 1.8139282474294305e-05\n",
      "[28/30] [11300/11532] loss: 0.023401740938425064 gen: 0.02338274195790291 gate: 1.899895323731471e-05\n",
      "[28/30] [11400/11532] loss: 9.528236842015758e-05 gen: 8.668423834023997e-05 gate: 8.598129170422908e-06\n",
      "[28/30] [11500/11532] loss: 0.010302500799298286 gen: 0.010287190787494183 gate: 1.5309768059523776e-05\n"
     ]
    },
    {
     "name": "stderr",
     "output_type": "stream",
     "text": [
      "100%|██████████| 640/640 [02:03<00:00,  5.17it/s]\n"
     ]
    },
    {
     "name": "stdout",
     "output_type": "stream",
     "text": [
      "{'joint_goal_accuracy': 0.8155529503712388, 'turn_slot_accuracy': 0.9941730710781143, 'turn_slot_f1': 0.9749586696482246}\n",
      "joint_goal_accuracy: 0.8155529503712388\n",
      "turn_slot_accuracy: 0.9941730710781143\n",
      "turn_slot_f1: 0.9749586696482246\n",
      "time for 1 epoch: 1978.1460721492767\n",
      "[29/30] [0/11532] loss: 5.125667667016387e-05 gen: 3.9952679799171165e-05 gate: 1.1303997780487407e-05\n",
      "[29/30] [100/11532] loss: 0.0003210804716218263 gen: 0.0003079766174778342 gate: 1.3103862329444382e-05\n",
      "[29/30] [200/11532] loss: 0.00025593183818273246 gen: 0.00023967168817762285 gate: 1.6260142729151994e-05\n",
      "[29/30] [300/11532] loss: 0.011781229637563229 gen: 0.011753227561712265 gate: 2.8002301405649632e-05\n"
     ]
    },
    {
     "ename": "KeyboardInterrupt",
     "evalue": "",
     "output_type": "error",
     "traceback": [
      "\u001b[0;31m---------------------------------------------------------------------------\u001b[0m",
      "\u001b[0;31mKeyboardInterrupt\u001b[0m                         Traceback (most recent call last)",
      "\u001b[0;32m<ipython-input-20-cbcd1ab8a375>\u001b[0m in \u001b[0;36m<module>\u001b[0;34m\u001b[0m\n\u001b[1;32m     46\u001b[0m         \u001b[0mbatch_loss\u001b[0m\u001b[0;34m.\u001b[0m\u001b[0mappend\u001b[0m\u001b[0;34m(\u001b[0m\u001b[0mloss\u001b[0m\u001b[0;34m.\u001b[0m\u001b[0mitem\u001b[0m\u001b[0;34m(\u001b[0m\u001b[0;34m)\u001b[0m\u001b[0;34m)\u001b[0m\u001b[0;34m\u001b[0m\u001b[0;34m\u001b[0m\u001b[0m\n\u001b[1;32m     47\u001b[0m \u001b[0;34m\u001b[0m\u001b[0m\n\u001b[0;32m---> 48\u001b[0;31m         \u001b[0mscaler\u001b[0m\u001b[0;34m.\u001b[0m\u001b[0mscale\u001b[0m\u001b[0;34m(\u001b[0m\u001b[0mloss\u001b[0m\u001b[0;34m)\u001b[0m\u001b[0;34m.\u001b[0m\u001b[0mbackward\u001b[0m\u001b[0;34m(\u001b[0m\u001b[0;34m)\u001b[0m\u001b[0;34m\u001b[0m\u001b[0;34m\u001b[0m\u001b[0m\n\u001b[0m\u001b[1;32m     49\u001b[0m         \u001b[0mnn\u001b[0m\u001b[0;34m.\u001b[0m\u001b[0mutils\u001b[0m\u001b[0;34m.\u001b[0m\u001b[0mclip_grad_norm_\u001b[0m\u001b[0;34m(\u001b[0m\u001b[0mmodel\u001b[0m\u001b[0;34m.\u001b[0m\u001b[0mparameters\u001b[0m\u001b[0;34m(\u001b[0m\u001b[0;34m)\u001b[0m\u001b[0;34m,\u001b[0m \u001b[0mcfg\u001b[0m\u001b[0;34m.\u001b[0m\u001b[0mmax_grad_norm\u001b[0m\u001b[0;34m)\u001b[0m\u001b[0;34m\u001b[0m\u001b[0;34m\u001b[0m\u001b[0m\n\u001b[1;32m     50\u001b[0m         \u001b[0mscaler\u001b[0m\u001b[0;34m.\u001b[0m\u001b[0mstep\u001b[0m\u001b[0;34m(\u001b[0m\u001b[0moptimizer\u001b[0m\u001b[0;34m)\u001b[0m\u001b[0;34m\u001b[0m\u001b[0;34m\u001b[0m\u001b[0m\n",
      "\u001b[0;32m/opt/conda/lib/python3.7/site-packages/torch/tensor.py\u001b[0m in \u001b[0;36mbackward\u001b[0;34m(self, gradient, retain_graph, create_graph)\u001b[0m\n\u001b[1;32m    219\u001b[0m                 \u001b[0mretain_graph\u001b[0m\u001b[0;34m=\u001b[0m\u001b[0mretain_graph\u001b[0m\u001b[0;34m,\u001b[0m\u001b[0;34m\u001b[0m\u001b[0;34m\u001b[0m\u001b[0m\n\u001b[1;32m    220\u001b[0m                 create_graph=create_graph)\n\u001b[0;32m--> 221\u001b[0;31m         \u001b[0mtorch\u001b[0m\u001b[0;34m.\u001b[0m\u001b[0mautograd\u001b[0m\u001b[0;34m.\u001b[0m\u001b[0mbackward\u001b[0m\u001b[0;34m(\u001b[0m\u001b[0mself\u001b[0m\u001b[0;34m,\u001b[0m \u001b[0mgradient\u001b[0m\u001b[0;34m,\u001b[0m \u001b[0mretain_graph\u001b[0m\u001b[0;34m,\u001b[0m \u001b[0mcreate_graph\u001b[0m\u001b[0;34m)\u001b[0m\u001b[0;34m\u001b[0m\u001b[0;34m\u001b[0m\u001b[0m\n\u001b[0m\u001b[1;32m    222\u001b[0m \u001b[0;34m\u001b[0m\u001b[0m\n\u001b[1;32m    223\u001b[0m     \u001b[0;32mdef\u001b[0m \u001b[0mregister_hook\u001b[0m\u001b[0;34m(\u001b[0m\u001b[0mself\u001b[0m\u001b[0;34m,\u001b[0m \u001b[0mhook\u001b[0m\u001b[0;34m)\u001b[0m\u001b[0;34m:\u001b[0m\u001b[0;34m\u001b[0m\u001b[0;34m\u001b[0m\u001b[0m\n",
      "\u001b[0;32m/opt/conda/lib/python3.7/site-packages/torch/autograd/__init__.py\u001b[0m in \u001b[0;36mbackward\u001b[0;34m(tensors, grad_tensors, retain_graph, create_graph, grad_variables)\u001b[0m\n\u001b[1;32m    130\u001b[0m     Variable._execution_engine.run_backward(\n\u001b[1;32m    131\u001b[0m         \u001b[0mtensors\u001b[0m\u001b[0;34m,\u001b[0m \u001b[0mgrad_tensors_\u001b[0m\u001b[0;34m,\u001b[0m \u001b[0mretain_graph\u001b[0m\u001b[0;34m,\u001b[0m \u001b[0mcreate_graph\u001b[0m\u001b[0;34m,\u001b[0m\u001b[0;34m\u001b[0m\u001b[0;34m\u001b[0m\u001b[0m\n\u001b[0;32m--> 132\u001b[0;31m         allow_unreachable=True)  # allow_unreachable flag\n\u001b[0m\u001b[1;32m    133\u001b[0m \u001b[0;34m\u001b[0m\u001b[0m\n\u001b[1;32m    134\u001b[0m \u001b[0;34m\u001b[0m\u001b[0m\n",
      "\u001b[0;31mKeyboardInterrupt\u001b[0m: "
     ]
    }
   ],
   "source": [
    "# backward pass시 gradient 정보가 손실되지 않게 하려고 사용(loss에 scale factor를 곱해서 gradient 값이 너무 작아지는 것을 방지)\n",
    "scaler = GradScaler()\n",
    "best_score, best_checkpoint = 0, 0\n",
    "\n",
    "for epoch in range(n_epochs):\n",
    "    start_time = time.time()\n",
    "    batch_loss = []\n",
    "    model.train()\n",
    "    for step, batch in enumerate(train_loader):\n",
    "        input_ids, segment_ids, input_masks, gating_ids, target_ids, guids = [\n",
    "            b.to(device) if not isinstance(b, list) else b for b in batch\n",
    "        ]\n",
    "        # mask\n",
    "        if cfg.mask:\n",
    "            change_mask_prop = 0.8\n",
    "            mask_p = random.random()\n",
    "            if cfg.mask and mask_p < change_mask_prop:\n",
    "                input_ids = custom_to_mask(input_ids)\n",
    "        # teacher forcing\n",
    "        if (\n",
    "            teacher_forcing > 0.0\n",
    "            and random.random() < teacher_forcing\n",
    "        ):\n",
    "            tf = target_ids\n",
    "        else:\n",
    "            tf = None\n",
    "\n",
    "        optimizer.zero_grad()  # optimizer는 input으로 model parameter를 가진다 -> zero_grad()로 파라미터 컨드롤 가능\n",
    "\n",
    "        with autocast():  # 밑에 해당하는 코드를 자동으로 mixed precision으로 변환시켜서 실행\n",
    "            all_point_outputs, all_gate_outputs = model(\n",
    "                input_ids, segment_ids, input_masks, target_ids.size(-1), tf\n",
    "            )\n",
    "            # generation loss\n",
    "            loss_1 = loss_fnc_1(\n",
    "                all_point_outputs.contiguous(),\n",
    "                target_ids.contiguous().view(-1),\n",
    "                tokenizer.pad_token_id,\n",
    "            )\n",
    "            # gating loss\n",
    "            loss_2 = loss_fnc_2(\n",
    "                all_gate_outputs.contiguous().view(-1, cfg.n_gate),\n",
    "                gating_ids.contiguous().view(-1),\n",
    "            )\n",
    "            loss = loss_1 + loss_2\n",
    "        batch_loss.append(loss.item())\n",
    "\n",
    "        scaler.scale(loss).backward()\n",
    "        nn.utils.clip_grad_norm_(model.parameters(), cfg.max_grad_norm)\n",
    "        scaler.step(optimizer)\n",
    "        scaler.update()\n",
    "        scheduler.step()\n",
    "\n",
    "        # global_step 추가 부분\n",
    "        wandb.log({\"train/learning_rate\": get_lr(scheduler),\n",
    "                   \"train/epoch\": epoch\n",
    "                   })\n",
    "        if step % 100 == 0:\n",
    "            print(\n",
    "                f\"[{epoch}/{n_epochs}] [{step}/{len(train_loader)}] loss: {loss.item()} gen: {loss_1.item()} gate: {loss_2.item()}\"\n",
    "            )\n",
    "\n",
    "            # -- train 단계에서 Loss, Accuracy 로그 저장\n",
    "            wandb.log({\n",
    "                \"train/loss\": loss.item(),\n",
    "                \"train/gen_loss\": loss_1.item(),\n",
    "                \"train/gate_loss\": loss_2.item(),\n",
    "            })\n",
    "\n",
    "    predictions, p_logits, p_idx, g_logits = inference(model, dev_loader, processor, device, cfg.n_gate)\n",
    "    eval_result = _evaluation(predictions, dev_labels, slot_meta)\n",
    "\n",
    "    # -- eval 단계에서 Loss, Accuracy 로그 저장\n",
    "    wandb.log({\n",
    "        \"eval/join_goal_acc\": eval_result[\"joint_goal_accuracy\"],\n",
    "        \"eval/turn_slot_f1\": eval_result[\"turn_slot_f1\"],\n",
    "        \"eval/turn_slot_acc\": eval_result[\"turn_slot_accuracy\"],\n",
    "    })\n",
    "\n",
    "    for k, v in eval_result.items():\n",
    "        print(f\"{k}: {v}\")\n",
    "\n",
    "    if best_score < eval_result['joint_goal_accuracy']:\n",
    "        cpprint(f\"--Update Best checkpoint!, epoch: {epoch+1}\")\n",
    "        best_score = eval_result['joint_goal_accuracy']\n",
    "        best_checkpoint = epoch\n",
    "        if not os.path.isdir(cfg.model_dir):\n",
    "            os.makedirs(cfg.model_dir)\n",
    "        print(\"--Saving best model checkpoint\")\n",
    "        torch.save(model.state_dict(), f\"{cfg.model_dir}/{wandb.run.name}/best.pth\")\n",
    "        torch.save({\n",
    "            'epoch': epoch,\n",
    "            'model_state_dict': model.state_dict(),\n",
    "            'optimizer_state_dict': optimizer.state_dict(),\n",
    "            'scheduler.state_dict': scheduler.state_dict(),\n",
    "            'loss': loss.item(),\n",
    "            'gen_loss': loss_1.item(),\n",
    "            'gate_loss': loss_2.item(),\n",
    "        }, os.path.join(f\"{cfg.model_dir}/{wandb.run.name}\", \"training_best_checkpoint.bin\"))\n",
    "        \n",
    "        # logit 저장\n",
    "        np.save(os.path.join(f\"{cfg.model_dir}/{wandb.run.name}\", r'p_logits.npy'), p_logits)\n",
    "        np.save(os.path.join(f\"{cfg.model_dir}/{wandb.run.name}\", r'p_idx.npy'), p_idx)\n",
    "        np.save(os.path.join(f\"{cfg.model_dir}/{wandb.run.name}\", r'g_logits.npy'), g_logits)\n",
    "\n",
    "        \n",
    "    torch.save(model.state_dict(), f\"{cfg.model_dir}/{wandb.run.name}/last.pth\")\n",
    "    print(f\"time for 1 epoch: {time.time() - start_time}\")"
   ]
  },
  {
   "cell_type": "code",
   "execution_count": 23,
   "id": "bfe0c971-fe9d-42af-8bcc-6d3960735c02",
   "metadata": {},
   "outputs": [
    {
     "name": "stdout",
     "output_type": "stream",
     "text": [
      "100%|█████████████████████████████████████| 2000/2000 [00:00<00:00, 6211.51it/s]\n",
      "Token indices sequence length is longer than the specified maximum sequence length for this model (541 > 512). Running this sequence through the model will result in indexing errors\n",
      "# eval: 14771\n",
      "/opt/conda/lib/python3.7/site-packages/torch/nn/modules/rnn.py:61: UserWarning: dropout option adds dropout after all but last recurrent layer, so non-zero dropout expects num_layers greater than 1, but got dropout=0.1 and num_layers=1\n",
      "  \"num_layers={}\".format(dropout, num_layers))\n",
      "Model is loaded\n",
      "100%|███████████████████████████████████████| 1847/1847 [05:50<00:00,  5.27it/s]\n"
     ]
    }
   ],
   "source": [
    "!python inference.py"
   ]
  },
  {
   "cell_type": "code",
   "execution_count": null,
   "id": "9f9db0a5-d2b1-4809-bae5-01b14bcba1c2",
   "metadata": {},
   "outputs": [],
   "source": []
  }
 ],
 "metadata": {
  "kernelspec": {
   "display_name": "Python 3",
   "language": "python",
   "name": "python3"
  },
  "language_info": {
   "codemirror_mode": {
    "name": "ipython",
    "version": 3
   },
   "file_extension": ".py",
   "mimetype": "text/x-python",
   "name": "python",
   "nbconvert_exporter": "python",
   "pygments_lexer": "ipython3",
   "version": "3.7.7"
  }
 },
 "nbformat": 4,
 "nbformat_minor": 5
}
