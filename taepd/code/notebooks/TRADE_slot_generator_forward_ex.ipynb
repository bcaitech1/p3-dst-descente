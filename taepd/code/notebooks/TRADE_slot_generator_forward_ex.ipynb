{
 "cells": [
  {
   "cell_type": "code",
   "execution_count": 1,
   "id": "fc0647c2-b682-4833-93ff-cf6154ec622a",
   "metadata": {},
   "outputs": [],
   "source": [
    "import numpy as np\n",
    "\n",
    "import torch"
   ]
  },
  {
   "cell_type": "code",
   "execution_count": 2,
   "id": "98bfd520-8fb5-408b-bc6e-66761a57d25d",
   "metadata": {},
   "outputs": [],
   "source": [
    "batch_size = 2\n",
    "J = 5\n",
    "hidden = 10"
   ]
  },
  {
   "cell_type": "code",
   "execution_count": 12,
   "id": "c59c7c03-80b3-4b87-a4b3-d991bd1b110d",
   "metadata": {},
   "outputs": [
    {
     "name": "stdout",
     "output_type": "stream",
     "text": [
      "tensor([[0, 0, 0, 0, 0, 0, 0, 0, 0, 0],\n",
      "        [1, 1, 1, 1, 1, 1, 1, 1, 1, 1],\n",
      "        [2, 2, 2, 2, 2, 2, 2, 2, 2, 2],\n",
      "        [3, 3, 3, 3, 3, 3, 3, 3, 3, 3],\n",
      "        [4, 4, 4, 4, 4, 4, 4, 4, 4, 4]])\n",
      "torch.Size([5, 10])\n"
     ]
    }
   ],
   "source": [
    "arr = [[i]*hidden for i in range(J)]\n",
    "\n",
    "slot_e = torch.tensor(arr)  # J * hidden\n",
    "print(slot_e)\n",
    "print(slot_e.size())"
   ]
  },
  {
   "cell_type": "code",
   "execution_count": 15,
   "id": "f0b1b5d3-ef30-4413-be04-2b5eab74214c",
   "metadata": {},
   "outputs": [
    {
     "name": "stdout",
     "output_type": "stream",
     "text": [
      "tensor([[[0, 0, 0, 0, 0, 0, 0, 0, 0, 0]],\n",
      "\n",
      "        [[1, 1, 1, 1, 1, 1, 1, 1, 1, 1]],\n",
      "\n",
      "        [[2, 2, 2, 2, 2, 2, 2, 2, 2, 2]],\n",
      "\n",
      "        [[3, 3, 3, 3, 3, 3, 3, 3, 3, 3]],\n",
      "\n",
      "        [[4, 4, 4, 4, 4, 4, 4, 4, 4, 4]],\n",
      "\n",
      "        [[0, 0, 0, 0, 0, 0, 0, 0, 0, 0]],\n",
      "\n",
      "        [[1, 1, 1, 1, 1, 1, 1, 1, 1, 1]],\n",
      "\n",
      "        [[2, 2, 2, 2, 2, 2, 2, 2, 2, 2]],\n",
      "\n",
      "        [[3, 3, 3, 3, 3, 3, 3, 3, 3, 3]],\n",
      "\n",
      "        [[4, 4, 4, 4, 4, 4, 4, 4, 4, 4]]])\n",
      "torch.Size([10, 1, 10])\n"
     ]
    },
    {
     "data": {
      "text/plain": [
       "tensor([[0, 0, 0, 0, 0, 0, 0, 0, 0, 0]])"
      ]
     },
     "execution_count": 15,
     "metadata": {},
     "output_type": "execute_result"
    }
   ],
   "source": [
    "w = slot_e.repeat(batch_size, 1).unsqueeze(1)\n",
    "print(w)\n",
    "print(w.size())\n",
    "w[0]"
   ]
  },
  {
   "cell_type": "code",
   "execution_count": 35,
   "id": "13facbd5-11cc-4948-bf29-d5d8b83ff494",
   "metadata": {},
   "outputs": [
    {
     "name": "stdout",
     "output_type": "stream",
     "text": [
      "tensor([[[ 1,  2,  3,  4,  5,  6,  7,  8,  9, 10],\n",
      "         [ 1,  2,  3,  4,  5,  6,  7,  8,  9, 10],\n",
      "         [ 1,  2,  3,  4,  5,  6,  7,  8,  9, 10],\n",
      "         [ 1,  2,  3,  4,  5,  6,  7,  8,  9, 10],\n",
      "         [ 1,  2,  3,  4,  5,  6,  7,  8,  9, 10]]])\n",
      "torch.Size([1, 5, 10])\n"
     ]
    }
   ],
   "source": [
    "hidden = torch.tensor([[1,2,3,4,5,6,7,8,9,10]]).unsqueeze(0)\n",
    "\n",
    "hidden = hidden.repeat_interleave(J, dim=1)\n",
    "print(hidden)\n",
    "print(hidden.size())"
   ]
  },
  {
   "cell_type": "code",
   "execution_count": null,
   "id": "e44fd6dd-1100-472b-901e-01ec778555a5",
   "metadata": {},
   "outputs": [],
   "source": [
    "# encoder_output = encoder_output.repeat_interleave(J, dim=0)\n",
    "# input_ids = input_ids.repeat_interleave(J, dim=0)\n",
    "# input_masks = input_masks.repeat_interleave(J, dim=0)"
   ]
  },
  {
   "cell_type": "code",
   "execution_count": 44,
   "id": "5b6b0e14-1ae9-4628-8b95-8bc88d65ab6f",
   "metadata": {},
   "outputs": [
    {
     "data": {
      "text/plain": [
       "torch.Size([10, 3])"
      ]
     },
     "execution_count": 44,
     "metadata": {},
     "output_type": "execute_result"
    }
   ],
   "source": [
    "gated_logit = torch.zeros(batch_size*J, 3)\n",
    "\n",
    "gated_logit.view(batch_size, J, 3)\n",
    "gated_logit.size()\n"
   ]
  },
  {
   "cell_type": "code",
   "execution_count": 49,
   "id": "02bf7d25-2f14-4ca3-97b1-097a4a38fdfe",
   "metadata": {},
   "outputs": [],
   "source": [
    "target_ids = torch.LongTensor([[[21832, 11764,     3,     0,     0,     0],\n",
    "         [21832, 11764,     3,     0,     0,     0],\n",
    "         [21832, 11764,     3,     0,     0,     0],\n",
    "         [21832, 11764,     3,     0,     0,     0],\n",
    "         [21832, 11764,     3,     0,     0,     0],\n",
    "         [21832, 11764,     3,     0,     0,     0]],\n",
    "\n",
    "        [[21832, 11764,     3,     0,     0,     0],\n",
    "         [21832, 11764,     3,     0,     0,     0],\n",
    "         [21832, 11764,     3,     0,     0,     0],\n",
    "\n",
    "         [33922,  4019, 21172,  7139,     3,     0],\n",
    "         [ 6338,    30,  6242,     3,     0,     0],\n",
    "         [17782,  4194,  4599,    10,  2681,     3]],\n",
    "\n",
    "        [[21832, 11764,     3,     0,     0,     0],\n",
    "         [21832, 11764,     3,     0,     0,     0],\n",
    "         [21832, 11764,     3,     0,     0,     0],\n",
    "\n",
    "         [21832, 11764,     3,     0,     0,     0],\n",
    "         [21832, 11764,     3,     0,     0,     0],\n",
    "         [21832, 11764,     3,     0,     0,     0]],\n",
    "\n",
    "        [[21832, 11764,     3,     0,     0,     0],\n",
    "         [21832, 11764,     3,     0,     0,     0],\n",
    "         [21832, 11764,     3,     0,     0,     0],\n",
    "\n",
    "         [21832, 11764,     3,     0,     0,     0],\n",
    "         [21832, 11764,     3,     0,     0,     0],\n",
    "         [21832, 11764,     3,     0,     0,     0]]])"
   ]
  },
  {
   "cell_type": "code",
   "execution_count": 53,
   "id": "b3f2faf5-59e7-44b6-8411-d007e699200a",
   "metadata": {},
   "outputs": [
    {
     "name": "stdout",
     "output_type": "stream",
     "text": [
      "torch.Size([4, 6, 6])\n"
     ]
    },
    {
     "data": {
      "text/plain": [
       "torch.Size([144, 1])"
      ]
     },
     "execution_count": 53,
     "metadata": {},
     "output_type": "execute_result"
    }
   ],
   "source": [
    "print(target_ids.size())\n",
    "flat = target_ids.view(-1, 1)\n",
    "flat.size()"
   ]
  }
 ],
 "metadata": {
  "kernelspec": {
   "display_name": "Python 3",
   "language": "python",
   "name": "python3"
  },
  "language_info": {
   "codemirror_mode": {
    "name": "ipython",
    "version": 3
   },
   "file_extension": ".py",
   "mimetype": "text/x-python",
   "name": "python",
   "nbconvert_exporter": "python",
   "pygments_lexer": "ipython3",
   "version": "3.7.7"
  }
 },
 "nbformat": 4,
 "nbformat_minor": 5
}
