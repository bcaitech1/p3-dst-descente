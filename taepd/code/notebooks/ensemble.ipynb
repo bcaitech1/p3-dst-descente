{
 "cells": [
  {
   "cell_type": "code",
   "execution_count": 73,
   "id": "183b9325-5a60-41a6-97cd-0b751f0f5f0c",
   "metadata": {},
   "outputs": [],
   "source": [
    "import json\n",
    "import re\n",
    "import pickle\n",
    "\n",
    "import numpy as np\n",
    "import torch"
   ]
  },
  {
   "cell_type": "markdown",
   "id": "38be190d-d6d5-4d8b-8baa-219f8287a044",
   "metadata": {},
   "source": [
    "### hard voting"
   ]
  },
  {
   "cell_type": "code",
   "execution_count": 6,
   "id": "a07902f1-2408-44b8-8cfc-cc901ac94388",
   "metadata": {},
   "outputs": [],
   "source": [
    "def voting(*args):\n",
    "    count={}\n",
    "    for i in args: # list\n",
    "        try: count[str(sorted(i))] += 1\n",
    "        except: count[str(sorted(i))]=1\n",
    "    \n",
    "    new = sorted(count.items(), key=lambda x: -x[1])\n",
    "    if new[0][1] == len(args):\n",
    "        return eval(new[0][0])\n",
    "    elif new[0][1] == len(args)-1:\n",
    "        return eval(new[0][0])\n",
    "    else:\n",
    "        return args[-1]"
   ]
  },
  {
   "cell_type": "code",
   "execution_count": 7,
   "id": "ec4e30f6-d56e-4bf0-af0f-44e7fc261213",
   "metadata": {},
   "outputs": [],
   "source": [
    "def postprocessing(data):\n",
    "    new_dict = dict()\n",
    "    for slot, values in data.items():\n",
    "        lst = []\n",
    "        for value in values:\n",
    "            gen = re.sub('\\s(?=[\\=\\(\\)\\&])|(?<=[\\=\\(\\)\\&])\\s', \"\", value)\n",
    "            gen = gen.replace(\" : \", \":\")\n",
    "            gen = gen.replace(\" , \", \", \")\n",
    "            gen = re.sub('(?<=역)역*', \"\", gen)\n",
    "            lst.append(gen)    \n",
    "        new_dict[slot] = lst\n",
    "\n",
    "    return new_dict"
   ]
  },
  {
   "cell_type": "code",
   "execution_count": 24,
   "id": "ce527cc5-7e9e-4a30-8f94-c8aada4aa9cb",
   "metadata": {},
   "outputs": [],
   "source": [
    "f1 = open('./ensemble/test_preds_mapped.csv', 'r')\n",
    "f2 = open('./ensemble/prediction_ensemble_sorted_and_postprocessed_2.csv', 'r')\n",
    "f3 = open('./ensemble/prediction_ensemble_sorted_and_postprocessed_3.csv', 'r')\n",
    "# f4 = open('./ensemble/trade_predictions_fold_5.csv', 'r')\n",
    "# f5 = open('./ensemble/trade_predictions_fold_4.csv', 'r')\n",
    "\n",
    "res1 = json.load(f1)\n",
    "res2 = json.load(f2)\n",
    "res3 = json.load(f3)\n",
    "# res4 = json.load(f4)\n",
    "# res5 = json.load(f5)"
   ]
  },
  {
   "cell_type": "code",
   "execution_count": 25,
   "id": "faaa5414-9586-4ec0-aba5-bf54f924a083",
   "metadata": {},
   "outputs": [],
   "source": [
    "res1 = postprocessing(res1) # 도균님 - 꿔바로우 처리 안되어있음.\n",
    "res_col = [res1, res2, res3, res4, res5]\n",
    "keys = res1.keys()\n",
    "poll = {}\n",
    "for key in keys:\n",
    "    voted = voting(res1[key], res2[key], res3[key], res4[key], res5[key])\n",
    "    poll[key] = voted\n",
    "poll = postprocessing(poll)\n",
    "\n",
    "with open('./prediction_ensemble_sorted_and_postprocessed_3.csv', 'w') as f:\n",
    "    json.dump(poll, f, ensure_ascii=False, indent=2)"
   ]
  },
  {
   "cell_type": "code",
   "execution_count": 4,
   "id": "a73cc06c-dd1a-4e58-8848-e7853f0784aa",
   "metadata": {},
   "outputs": [],
   "source": [
    "test = json.load(open('ensemble/trade_predictions_fold_4.csv'))"
   ]
  },
  {
   "cell_type": "code",
   "execution_count": 8,
   "id": "fd5a6554-226c-4e97-95ce-5ded0983fc27",
   "metadata": {},
   "outputs": [],
   "source": [
    "test = postprocessing(test)"
   ]
  },
  {
   "cell_type": "code",
   "execution_count": 16,
   "id": "cea502e0-a086-4430-a011-bbb11485bdfe",
   "metadata": {},
   "outputs": [
    {
     "name": "stdout",
     "output_type": "stream",
     "text": [
      "square-silence-9151:숙소_관광_11-0\n"
     ]
    }
   ],
   "source": [
    "keys = test.keys()\n",
    "for key in keys:\n",
    "    print(key)\n",
    "    break"
   ]
  },
  {
   "cell_type": "code",
   "execution_count": 17,
   "id": "6e6f0ab1-96fb-4e77-a897-d1168c9cad12",
   "metadata": {},
   "outputs": [
    {
     "data": {
      "text/plain": [
       "['숙소-가격대-적당', '숙소-스파 유무-yes', '숙소-종류-호텔']"
      ]
     },
     "execution_count": 17,
     "metadata": {},
     "output_type": "execute_result"
    }
   ],
   "source": [
    "test['square-silence-9151:숙소_관광_11-0']"
   ]
  },
  {
   "cell_type": "code",
   "execution_count": null,
   "id": "308ddabd-7f6a-4d3c-ad5f-77cb69856b7e",
   "metadata": {
    "tags": []
   },
   "outputs": [],
   "source": [
    "count={}\n",
    "for i in args: # list\n",
    "    try: count[str(sorted(i))] += 1\n",
    "    except: count[str(sorted(i))]=1\n",
    "\n",
    "new = sorted(count.items(), key=lambda x: -x[1])\n",
    "if new[0][1] == len(args):\n",
    "    return eval(new[0][0])\n",
    "elif new[0][1] == len(args)-1:\n",
    "    return eval(new[0][0])\n",
    "else:\n",
    "    return args[-1]"
   ]
  },
  {
   "cell_type": "markdown",
   "id": "380fae1a-afc3-4434-b432-e037437f462d",
   "metadata": {},
   "source": [
    "### soft voting"
   ]
  },
  {
   "cell_type": "code",
   "execution_count": 116,
   "id": "5d65b256-e330-442a-bd32-f751fbdb4a3c",
   "metadata": {},
   "outputs": [],
   "source": [
    "k2_s_logits = pickle.load(open('/opt/ml/repo/taepd/som-dst_new/outputs/logits/k2_s_logits', 'rb'))\n",
    "k2_g_logits = pickle.load(open('/opt/ml/repo/taepd/som-dst_new/outputs/logits/k2_g_logits', 'rb'))\n",
    "k2_g_idx = pickle.load(open('/opt/ml/repo/taepd/som-dst_new/outputs/logits/k2_g_idx', 'rb'))\n",
    "\n",
    "k3_s_logits = pickle.load(open('/opt/ml/repo/taepd/som-dst_new/outputs/logits/k3_s_logits', 'rb'))\n",
    "k3_g_logits = pickle.load(open('/opt/ml/repo/taepd/som-dst_new/outputs/logits/k3_g_logits', 'rb'))\n",
    "k3_g_idx = pickle.load(open('/opt/ml/repo/taepd/som-dst_new/outputs/logits/k3_g_idx', 'rb'))\n",
    "\n",
    "k8_s_logits = pickle.load(open('/opt/ml/repo/taepd/som-dst_new/outputs/logits/k8_s_logits', 'rb'))\n",
    "k8_g_logits = pickle.load(open('/opt/ml/repo/taepd/som-dst_new/outputs/logits/k8_g_logits', 'rb'))\n",
    "k8_g_idx = pickle.load(open('/opt/ml/repo/taepd/som-dst_new/outputs/logits/k8_g_idx', 'rb'))"
   ]
  },
  {
   "cell_type": "code",
   "execution_count": null,
   "id": "d682e8fe-f69a-4bbf-ba30-1a6a6f4ba854",
   "metadata": {},
   "outputs": [],
   "source": [
    "#  _g_logit, _g_id = torch.topk(g, 100, dim=-1)\n",
    "# g_logit = _g_logit.detach().cpu().numpy()\n",
    "# g_id = _g_id.detach().cpu().numpy()"
   ]
  },
  {
   "cell_type": "code",
   "execution_count": 142,
   "id": "cd8d7275-792f-4419-a224-64330cc119ff",
   "metadata": {},
   "outputs": [],
   "source": [
    "tmp = []\n",
    "def trans_tensor(g_logits, g_idx):\n",
    "    for logit, idx in zip(g_logits, g_idx):\n",
    "        # dummy tensor 생성\n",
    "        f = list(logit.size())[:3]\n",
    "        f.append(35004)\n",
    "        t = torch.zeros(f)\n",
    "\n",
    "        try:\n",
    "            for i, g in zip(idx[0,0], logit[0,0]):\n",
    "                for j, k in zip(i, g):\n",
    "                    t[:,:,:,j] = k\n",
    "        except:\n",
    "            pass\n",
    "    return t"
   ]
  },
  {
   "cell_type": "code",
   "execution_count": 140,
   "id": "55b2cb1d-67a2-4a6a-859b-746617601cc3",
   "metadata": {},
   "outputs": [
    {
     "name": "stdout",
     "output_type": "stream",
     "text": [
      "tensor([], device='cuda:0', size=(1, 0, 9, 100), dtype=torch.int64)\n",
      "torch.Size([1, 4, 9, 100])\n"
     ]
    }
   ],
   "source": [
    "print(k2_g_idx[1])\n",
    "print(k2_g_logits[2].size())"
   ]
  },
  {
   "cell_type": "code",
   "execution_count": 143,
   "id": "63773654-8e70-4200-bfad-dba5aaadded0",
   "metadata": {},
   "outputs": [
    {
     "name": "stdout",
     "output_type": "stream",
     "text": [
      "torch.Size([1, 0, 9, 35004])\n"
     ]
    }
   ],
   "source": [
    "t1 = trans_tensor(k2_g_logits, k2_g_idx)\n",
    "# t2 = trans_tensor(k3_g_logits, k3_g_idx)\n",
    "# t3 = trans_tensor(k8_g_logits, k8_g_idx)\n",
    "\n",
    "\n",
    "print(t1.size())"
   ]
  },
  {
   "cell_type": "code",
   "execution_count": null,
   "id": "9a8abb37-d58f-40c5-aa60-e1d45c04cbc1",
   "metadata": {},
   "outputs": [],
   "source": []
  },
  {
   "cell_type": "code",
   "execution_count": 112,
   "id": "df920cca-75d2-403a-8b5c-ffb0758250bf",
   "metadata": {
    "jupyter": {
     "source_hidden": true
    },
    "tags": []
   },
   "outputs": [
    {
     "name": "stdout",
     "output_type": "stream",
     "text": [
      "torch.Size([1, 3, 9])\n",
      "torch.Size([1, 3, 9])\n",
      "torch.Size([1, 3, 9])\n",
      "torch.Size([1, 3, 9])\n",
      "torch.Size([1, 3, 9])\n",
      "torch.Size([1, 3, 9])\n",
      "torch.Size([1, 3, 9])\n",
      "torch.Size([1, 3, 9])\n",
      "torch.Size([1, 3, 9])\n"
     ]
    }
   ],
   "source": [
    "tmp = []\n",
    "for logit, idx in zip(k3_g_logits, k3_g_idx):\n",
    "    # dummy tensor 생성\n",
    "    f = list(logit.size())[:3]\n",
    "    f.append(35004)\n",
    "    t = torch.zeros(f)\n",
    "    \n",
    "    for i, g in zip(idx[0,0], logit[0,0]):\n",
    "        for j, k in zip(i, g):\n",
    "            t[:,:,:,j] = k\n",
    "#       print(g)\n",
    "        print(t[:,:,:,j].size())\n",
    "\n",
    "#     print(id[0,0,0])\n",
    "    # 100개 후보값\n",
    "#     print(logit[0][0][0])\n",
    "\n",
    "#     print(t.size())\n",
    "\n",
    "#     z = e.detach().cpu().numpy()\n",
    "    \n",
    "#     print(z)\n",
    "    break\n",
    "#     tmp.append(z)"
   ]
  },
  {
   "cell_type": "code",
   "execution_count": 63,
   "id": "0fcfdeda-00c0-4315-acc9-35b26ccf704c",
   "metadata": {},
   "outputs": [
    {
     "ename": "ValueError",
     "evalue": "all the input array dimensions for the concatenation axis must match exactly, but along dimension 1, the array at index 0 has size 3 and the array at index 1 has size 0",
     "output_type": "error",
     "traceback": [
      "\u001b[0;31m---------------------------------------------------------------------------\u001b[0m",
      "\u001b[0;31mValueError\u001b[0m                                Traceback (most recent call last)",
      "\u001b[0;32m<ipython-input-63-6e9a0a82e61d>\u001b[0m in \u001b[0;36m<module>\u001b[0;34m\u001b[0m\n\u001b[0;32m----> 1\u001b[0;31m \u001b[0mzz\u001b[0m \u001b[0;34m=\u001b[0m \u001b[0mnp\u001b[0m\u001b[0;34m.\u001b[0m\u001b[0mconcatenate\u001b[0m\u001b[0;34m(\u001b[0m\u001b[0mtmp\u001b[0m\u001b[0;34m)\u001b[0m\u001b[0;34m\u001b[0m\u001b[0;34m\u001b[0m\u001b[0m\n\u001b[0m\u001b[1;32m      2\u001b[0m \u001b[0mzz\u001b[0m\u001b[0;34m.\u001b[0m\u001b[0mshape\u001b[0m\u001b[0;34m\u001b[0m\u001b[0;34m\u001b[0m\u001b[0m\n",
      "\u001b[0;32m<__array_function__ internals>\u001b[0m in \u001b[0;36mconcatenate\u001b[0;34m(*args, **kwargs)\u001b[0m\n",
      "\u001b[0;31mValueError\u001b[0m: all the input array dimensions for the concatenation axis must match exactly, but along dimension 1, the array at index 0 has size 3 and the array at index 1 has size 0"
     ]
    }
   ],
   "source": [
    "zz = np.concatenate(tmp)\n",
    "zz.shape"
   ]
  },
  {
   "cell_type": "code",
   "execution_count": null,
   "id": "635695cf-2c0d-4dcc-8ca5-10845110c508",
   "metadata": {},
   "outputs": [],
   "source": []
  }
 ],
 "metadata": {
  "kernelspec": {
   "display_name": "Python 3",
   "language": "python",
   "name": "python3"
  },
  "language_info": {
   "codemirror_mode": {
    "name": "ipython",
    "version": 3
   },
   "file_extension": ".py",
   "mimetype": "text/x-python",
   "name": "python",
   "nbconvert_exporter": "python",
   "pygments_lexer": "ipython3",
   "version": "3.7.7"
  }
 },
 "nbformat": 4,
 "nbformat_minor": 5
}
