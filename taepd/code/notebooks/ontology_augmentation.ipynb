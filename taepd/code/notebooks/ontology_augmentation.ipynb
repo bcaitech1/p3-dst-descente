{
 "cells": [
  {
   "cell_type": "markdown",
   "id": "1c8d0166-b126-4790-91b0-dbb0cbc134fc",
   "metadata": {},
   "source": [
    "### data load"
   ]
  },
  {
   "cell_type": "code",
   "execution_count": 2,
   "id": "f650993e-e174-47ca-a651-1b3c8e07daf9",
   "metadata": {},
   "outputs": [],
   "source": [
    "import sys\n",
    "sys.path.append('..')"
   ]
  },
  {
   "cell_type": "code",
   "execution_count": 3,
   "id": "46f9f82d-d510-4448-a4ec-2503947c34af",
   "metadata": {},
   "outputs": [],
   "source": [
    "import json\n",
    "from tqdm import tqdm\n",
    "import random\n",
    "\n",
    "import torch\n",
    "import numpy as np\n",
    "from transformers import BertTokenizer\n",
    "from data_utils import get_examples_from_dialogues, convert_state_dict, load_dataset\n",
    "from data_utils import OntologyDSTFeature, DSTPreprocessor, _truncate_seq_pair"
   ]
  },
  {
   "cell_type": "code",
   "execution_count": 39,
   "id": "90cdd1b5-170a-4109-a73f-c85da11345e1",
   "metadata": {},
   "outputs": [],
   "source": [
    "train_dials = json.load(open('../../input/data/train_dataset/train_dials.json'))\n",
    "slot_meta = json.load(open('../../input/data/train_dataset/slot_meta.json'))\n",
    "ontology = json.load(open('../../input/data/train_dataset/ontology_aug.json'))\n",
    "\n",
    "eval_dials = json.load(open('../../input/data/eval_dataset/eval_dials.json'))\n",
    "eval_meta = json.load(open('../../input/data/eval_dataset/slot_meta.json'))"
   ]
  },
  {
   "cell_type": "markdown",
   "id": "626e9d8b-68f0-41f4-9bba-600d2d48b5a2",
   "metadata": {},
   "source": [
    "### train_dials"
   ]
  },
  {
   "cell_type": "code",
   "execution_count": 3,
   "id": "692e1f73-3d72-417f-b55f-8136d85313df",
   "metadata": {},
   "outputs": [
    {
     "name": "stdout",
     "output_type": "stream",
     "text": [
      "len_train_dials: 7000\n",
      "train_dials[0].keys():  dict_keys(['dialogue_idx', 'domains', 'dialogue'])\n"
     ]
    }
   ],
   "source": [
    "print(\"len_train_dials:\", len(train_dials))\n",
    "print(\"train_dials[0].keys(): \", train_dials[0].keys())"
   ]
  },
  {
   "cell_type": "markdown",
   "id": "60839dc8-03a2-47ad-944c-11eea961fe74",
   "metadata": {},
   "source": [
    "### slot_meta"
   ]
  },
  {
   "cell_type": "code",
   "execution_count": 21,
   "id": "b7293186-7550-4d24-9231-802608480ae5",
   "metadata": {},
   "outputs": [
    {
     "name": "stdout",
     "output_type": "stream",
     "text": [
      "<class 'list'>\n"
     ]
    },
    {
     "data": {
      "text/plain": [
       "['관광-경치 좋은', '관광-교육적', '관광-도보 가능', '관광-문화 예술', '관광-역사적']"
      ]
     },
     "execution_count": 21,
     "metadata": {},
     "output_type": "execute_result"
    }
   ],
   "source": [
    "print(type(slot_meta))\n",
    "slot_meta[:5]"
   ]
  },
  {
   "cell_type": "markdown",
   "id": "41fba11f-a45b-4987-8301-97beda90e05a",
   "metadata": {},
   "source": [
    "### ontology-aug"
   ]
  },
  {
   "cell_type": "code",
   "execution_count": 32,
   "id": "44bfc61b-46f5-46cb-bc62-d1e46a4ca11c",
   "metadata": {},
   "outputs": [
    {
     "name": "stdout",
     "output_type": "stream",
     "text": [
      "<class 'dict'>\n",
      "45\n",
      "dict_keys(['관광-경치 좋은', '관광-교육적', '관광-도보 가능', '관광-문화 예술', '관광-역사적', '관광-이름', '관광-종류', '관광-주차 가능', '관광-지역', '숙소-가격대', '숙소-도보 가능', '숙소-수영장 유무', '숙소-스파 유무', '숙소-예약 기간', '숙소-예약 명수', '숙소-예약 요일', '숙소-이름', '숙소-인터넷 가능', '숙소-조식 가능', '숙소-종류', '숙소-주차 가능', '숙소-지역', '숙소-헬스장 유무', '숙소-흡연 가능', '식당-가격대', '식당-도보 가능', '식당-야외석 유무', '식당-예약 명수', '식당-예약 시간', '식당-예약 요일', '식당-이름', '식당-인터넷 가능', '식당-종류', '식당-주류 판매', '식당-주차 가능', '식당-지역', '식당-흡연 가능', '지하철-도착지', '지하철-출발 시간', '지하철-출발지', '택시-도착 시간', '택시-도착지', '택시-종류', '택시-출발 시간', '택시-출발지'])\n"
     ]
    },
    {
     "data": {
      "text/plain": [
       "1442"
      ]
     },
     "execution_count": 32,
     "metadata": {},
     "output_type": "execute_result"
    }
   ],
   "source": [
    "print(type(ontology))\n",
    "print(len(ontology))\n",
    "print(ontology.keys())\n",
    "len(ontology['식당-예약 시간'])  # 원래 길이 569\n",
    "# ontology\n",
    "arr = set()\n",
    "for i in range(24):\n",
    "    for j in range(60):\n",
    "        arr.add(f'{str(i).zfill(2)}:{str(j).zfill(2)}')\n",
    "arr.add('none')\n",
    "arr.add('dontcare')\n",
    "ontology['식당-예약 시간'] = list(arr)\n",
    "len(ontology['식당-예약 시간'])"
   ]
  },
  {
   "cell_type": "code",
   "execution_count": 37,
   "id": "00fd931b-0f89-4ad6-b1ba-73975df097ca",
   "metadata": {},
   "outputs": [
    {
     "data": {
      "text/plain": [
       "['23:52',\n",
       " '23:53',\n",
       " '23:54',\n",
       " '23:55',\n",
       " '23:56',\n",
       " '23:57',\n",
       " '23:58',\n",
       " '23:59',\n",
       " 'dontcare',\n",
       " 'none']"
      ]
     },
     "execution_count": 37,
     "metadata": {},
     "output_type": "execute_result"
    }
   ],
   "source": [
    "ontology['택시-출발 시간'] = list(arr)\n",
    "sorted(ontology['택시-출발 시간'])\n",
    "\n",
    "ontology['택시-도착 시간'] = list(arr)\n",
    "sorted(ontology['택시-도착 시간'])[-10:]\n",
    "\n",
    "ontology['지하철-출발 시간'] = list(arr)\n",
    "sorted(ontology['지하철-출발 시간'])[-10:]"
   ]
  },
  {
   "cell_type": "code",
   "execution_count": 67,
   "id": "cf33101a-73d7-4dae-8139-0f465763b297",
   "metadata": {
    "tags": []
   },
   "outputs": [
    {
     "name": "stdout",
     "output_type": "stream",
     "text": [
      "['dontcare', 'none', '가락시장역', '가산디지털단지역', '강남구청역', '강남역', '강동구청역', '강동역', '강변역', '강일역', '개롱역', '개화산역', '거여역', '건대입구역', '경복궁역', '경찰병원역', '고덕역', '고려대역', '고속터미널역', '공덕역', '공릉역', '광나루역', '광명사거리역', '광화문역', '광흥창역', '교대역', '구로디지털단지역', '구산역', '구의역', '구파발역', '국회의사당역', '군자역', '굴포천역', '굽은다리역', '금호역', '길동역', '길음역', '김포공항역', '까치산역', '까치울역', '낙성대역', '남구로역', '남부터미널역', '남성역', '남태령역', '남한산성입구역', '내방역', '노량진역', '노원역', '녹번역', '녹사평역', '논현역', '단대오거리역', '답십리역', '당고개역', '당산역', '대림역', '대청역', '대치역', '대흥역', '도곡역', '도림천역', '도봉산역', '독립문역', '독바위역', '돌곶이역', '동대문역', '동대문역사문화공원역', '동대입구역', '동묘앞역', '동작역', '둔촌동역', '둔촌오륜역', '디지털미디어시티역', '뚝섬역', '뚝섬유원지역', '마곡역', '마들역', '마장역', '마천역', '마포구청역', '마포역', '망원역', '매봉역', '먹골역', '면목역', '명동역', '명일역', '모란역', '목동역', '몽촌토성역', '무악재역', '문래역', '문정역', '미사역', '미아사거리역', '미아역', '반포역', '발산역', '방배역', '방이역', '방화역', '버티고개역', '보라매역', '보문역', '복정역', '봉은사역', '봉천역', '봉화산역', '부천시청역', '부천종합운동장역', '부평구청역', '불광역', '사가정역', '사당역', '산성역', '삼각지역', '삼산체육관역', '삼성역', '삼성중앙역', '삼전역', '상계역', '상도역', '상동역', '상봉역', '상수역', '상왕십리역', '상월곡역', '상일동역', '새절역', '서대문역', '서울대입구역', '서울숲역', '서울역', '서초역', '석계역', '석촌고분역', '석촌역', '선릉역', '선정릉역', '성수역', '성신여대입구역', '송정역', '송파나루역', '송파역', '수락산역', '수서역', '수유역', '수진역', '숙대입구역', '숭실대입구역', '시청역', '신금호역', '신길역', '신내역', '신답역', '신당역', '신대방삼거리역', '신대방역', '신도림역', '신림역', '신사역', '신설동역', '신용산역', '신정네거리역', '신정역', '신중동역', '신촌역', '신풍역', '신흥역', '쌍문역', '아차산역', '아현역', '안국역', '안암역', '암사역', '압구정역', '애오개역', '약수역', '양재역', '양천구청역', '양평역', '어린이대공원역', '언주역', '여의나루역', '여의도역', '역삼역', '역촌역', '연신내역', '영등포구청역', '영등포시장역', '영등포역', '오금역', '오목교역', '옥수역', '온수역', '올림픽공원역', '왕십리역', '용답역', '용두역', '용마산역', '용산역', '우장산역', '월곡역', '월드컵경기장역', '을지로3가역', '을지로4가역', '을지로입구역', '응암역', '이대역', '이수역', '이촌역', '이태원역', '일원역', '잠실나루역', '잠실새내역', '잠실역', '잠원역', '장승배기역', '장암역', '장지역', '장한평역', '제기동역', '종각역', '종로3가역', '종로5가역', '종합운동장역', '중계역', '중곡역', '중앙보훈병원역', '중화역', '증산역', '지축역', '창동역', '창신역', '천왕역', '천호역', '철산역', '청구역', '청담역', '청량리역', '총신대입구역', '춘의역', '충무로역', '충정로역', '태릉입구역', '하계역', '하남검단산역', '하남시청역', '하남풍산역', '학동역', '학여울역', '한강진역', '한성대입구역', '한성백제역', '한양대역', '합정역', '행당역', '혜화역', '홍대입구역', '홍제역', '화곡역', '화랑대역', '회기역', '회현역', '효창공원앞역']\n"
     ]
    },
    {
     "data": {
      "text/plain": [
       "266"
      ]
     },
     "execution_count": 67,
     "metadata": {},
     "output_type": "execute_result"
    }
   ],
   "source": [
    "seoul_subway = json.load(open('../../input/data/train_dataset/seoul_subway.json'))\n",
    "arr =[f\"{e['station_nm']}역\" for e in seoul_subway['DATA']]\n",
    "arr = list(set(arr))\n",
    "arr.remove('서울역역')\n",
    "arr.append('서울역')\n",
    "arr\n",
    "ontology['지하철-출발지'].extend(arr)\n",
    "ontology['지하철-출발지'] = sorted(list(set(ontology['지하철-출발지'])))\n",
    "print(ontology['지하철-출발지'])\n",
    "len(ontology['지하철-출발지'])"
   ]
  },
  {
   "cell_type": "code",
   "execution_count": 69,
   "id": "0753f045-cc69-4b0a-839a-e8ebf1110921",
   "metadata": {},
   "outputs": [
    {
     "data": {
      "text/plain": [
       "266"
      ]
     },
     "execution_count": 69,
     "metadata": {},
     "output_type": "execute_result"
    }
   ],
   "source": [
    "ontology['지하철-도착지'].extend(arr)\n",
    "ontology['지하철-도착지'] = sorted(list(set(ontology['지하철-도착지'])))\n",
    "len(ontology['지하철-도착지'])"
   ]
  },
  {
   "cell_type": "code",
   "execution_count": 70,
   "id": "2bc7b354-3aa4-4abe-99b3-129c5b9c0307",
   "metadata": {},
   "outputs": [],
   "source": [
    "with open('ontology_aug.json', 'w') as outfile:\n",
    "    json.dump(ontology, outfile)"
   ]
  },
  {
   "cell_type": "code",
   "execution_count": null,
   "id": "da5e6721-904f-4a8b-9a82-d8882cae4ea9",
   "metadata": {},
   "outputs": [],
   "source": []
  }
 ],
 "metadata": {
  "kernelspec": {
   "display_name": "Python 3",
   "language": "python",
   "name": "python3"
  },
  "language_info": {
   "codemirror_mode": {
    "name": "ipython",
    "version": 3
   },
   "file_extension": ".py",
   "mimetype": "text/x-python",
   "name": "python",
   "nbconvert_exporter": "python",
   "pygments_lexer": "ipython3",
   "version": "3.7.7"
  }
 },
 "nbformat": 4,
 "nbformat_minor": 5
}
