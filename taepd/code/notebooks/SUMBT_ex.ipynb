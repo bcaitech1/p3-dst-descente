{
 "cells": [
  {
   "cell_type": "code",
   "execution_count": 1,
   "id": "467c6bf6-b994-4f43-910c-6bcad6ebf8a7",
   "metadata": {},
   "outputs": [],
   "source": [
    "import sys\n",
    "sys.path.append('..')"
   ]
  },
  {
   "cell_type": "code",
   "execution_count": 2,
   "id": "3c6306d9-20a8-419f-b905-54e5fbf0b393",
   "metadata": {},
   "outputs": [],
   "source": [
    "import json\n",
    "from tqdm import tqdm\n",
    "import random\n",
    "\n",
    "import torch\n",
    "import numpy as np\n",
    "from transformers import BertTokenizer\n",
    "from data_utils import get_examples_from_dialogues, convert_state_dict, load_dataset\n",
    "from data_utils import OntologyDSTFeature, DSTPreprocessor, _truncate_seq_pair"
   ]
  },
  {
   "cell_type": "code",
   "execution_count": 3,
   "id": "775f4e4b-e250-4ba9-ac67-e58c20f6e19f",
   "metadata": {},
   "outputs": [],
   "source": [
    "def seed_everything(seed):\n",
    "    torch.manual_seed(seed)\n",
    "    torch.cuda.manual_seed(seed)\n",
    "    torch.cuda.manual_seed_all(seed)  # if use multi-GPU        \n",
    "    torch.backends.cudnn.deterministic = True\n",
    "    torch.backends.cudnn.benchmark = False\n",
    "    np.random.seed(seed)\n",
    "    random.seed(seed)\n",
    "\n",
    "seed_everything(42)"
   ]
  },
  {
   "cell_type": "markdown",
   "id": "428cd23f-84b0-4b3f-b60b-5634f3d3b821",
   "metadata": {},
   "source": [
    "## Data Loading "
   ]
  },
  {
   "cell_type": "code",
   "execution_count": 19,
   "id": "098a529c-c5d8-4664-aaf0-b189fa17dc1d",
   "metadata": {},
   "outputs": [],
   "source": [
    "train_data_file = \"/opt/ml/repo/taepd/input/data/train_dataset/train_dials.json\"\n",
    "slot_meta = json.load(open(\"/opt/ml/repo/taepd/input/data/train_dataset/slot_meta.json\"))\n",
    "ontology = json.load(open(\"/opt/ml/repo/taepd/input/data/train_dataset/ontology.json\"))\n",
    "\n",
    "eval_data_file = \"/opt/ml/repo/taepd/input/data/eval_dataset/eval_dials.json\"\n",
    "\n",
    "train_data, dev_data, dev_labels = load_dataset(train_data_file)\n",
    "eval_data, eval_dev_data, eval_dev_labels = load_dataset(train_data_file)"
   ]
  },
  {
   "cell_type": "code",
   "execution_count": 5,
   "id": "899dd906-7162-473d-bd4a-fd6aa955ebe2",
   "metadata": {},
   "outputs": [
    {
     "name": "stderr",
     "output_type": "stream",
     "text": [
      "100%|██████████| 6301/6301 [00:00<00:00, 9239.28it/s]\n",
      "100%|██████████| 699/699 [00:00<00:00, 15895.96it/s]\n"
     ]
    }
   ],
   "source": [
    "train_examples = get_examples_from_dialogues(data=train_data,\n",
    "                                             user_first=True,\n",
    "                                             dialogue_level=True)\n",
    "\n",
    "dev_examples = get_examples_from_dialogues(data=dev_data,\n",
    "                                           user_first=True,\n",
    "                                           dialogue_level=True)"
   ]
  },
  {
   "cell_type": "code",
   "execution_count": 20,
   "id": "c11a02f4-6f46-456d-ac0e-bcf7bab98ebd",
   "metadata": {},
   "outputs": [
    {
     "name": "stderr",
     "output_type": "stream",
     "text": [
      "100%|██████████| 6301/6301 [00:01<00:00, 5780.42it/s]\n",
      "100%|██████████| 699/699 [00:00<00:00, 16453.33it/s]\n"
     ]
    }
   ],
   "source": [
    "eval_examples = get_examples_from_dialogues(data=eval_data,\n",
    "                                             user_first=True,\n",
    "                                             dialogue_level=True)\n",
    "\n",
    "eval_dev_examples = get_examples_from_dialogues(data=eval_dev_data,\n",
    "                                           user_first=True,\n",
    "                                           dialogue_level=True)"
   ]
  },
  {
   "cell_type": "code",
   "execution_count": 18,
   "id": "a0c810b9-a07d-47af-adde-3cb13104e527",
   "metadata": {},
   "outputs": [
    {
     "name": "stdout",
     "output_type": "stream",
     "text": [
      "train_example 최대 턴 길이:  17\n"
     ]
    },
    {
     "data": {
      "text/plain": [
       "15"
      ]
     },
     "execution_count": 18,
     "metadata": {},
     "output_type": "execute_result"
    }
   ],
   "source": [
    "print('train_example 최대 턴 길이: ', max([len(e) for e in train_examples]))\n",
    "max([len(e) for e in dev_examples])"
   ]
  },
  {
   "cell_type": "code",
   "execution_count": 21,
   "id": "c1156f2c-a1b9-419a-a735-0fe9e42f32f0",
   "metadata": {},
   "outputs": [
    {
     "name": "stdout",
     "output_type": "stream",
     "text": [
      "eval_example 최대 턴 길이:  17\n"
     ]
    },
    {
     "data": {
      "text/plain": [
       "16"
      ]
     },
     "execution_count": 21,
     "metadata": {},
     "output_type": "execute_result"
    }
   ],
   "source": [
    "print('eval_example 최대 턴 길이: ', max([len(e) for e in eval_examples]))\n",
    "max([len(e) for e in eval_dev_examples])"
   ]
  }
 ],
 "metadata": {
  "kernelspec": {
   "display_name": "Python 3",
   "language": "python",
   "name": "python3"
  },
  "language_info": {
   "codemirror_mode": {
    "name": "ipython",
    "version": 3
   },
   "file_extension": ".py",
   "mimetype": "text/x-python",
   "name": "python",
   "nbconvert_exporter": "python",
   "pygments_lexer": "ipython3",
   "version": "3.7.7"
  }
 },
 "nbformat": 4,
 "nbformat_minor": 5
}
