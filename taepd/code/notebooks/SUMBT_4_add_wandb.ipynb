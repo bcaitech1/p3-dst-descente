{
 "cells": [
  {
   "cell_type": "markdown",
   "metadata": {},
   "source": [
    "### sumbt_baseline(single train)\n",
    "- checkpoint\n",
    "    - add checkpoint\n",
    "    - add checkpoint saving process\n",
    "    - update checkpoint type(available countinous training)\n",
    "- update validation per epoch or minimal loss\n",
    "- add wandb"
   ]
  },
  {
   "cell_type": "code",
   "execution_count": 1,
   "metadata": {},
   "outputs": [],
   "source": [
    "import sys\n",
    "sys.path.append('..')"
   ]
  },
  {
   "cell_type": "code",
   "execution_count": 2,
   "metadata": {
    "id": "Koaz3guQ6B7k",
    "tags": []
   },
   "outputs": [],
   "source": [
    "import os\n",
    "from pathlib import Path\n",
    "import json\n",
    "from tqdm import tqdm\n",
    "import random\n",
    "from collections import defaultdict\n",
    "\n",
    "import numpy as np\n",
    "\n",
    "import torch\n",
    "from transformers import BertTokenizer\n",
    "from data_utils import get_examples_from_dialogues, convert_state_dict, load_dataset\n",
    "from data_utils import OntologyDSTFeature, DSTPreprocessor, _truncate_seq_pair"
   ]
  },
  {
   "cell_type": "markdown",
   "metadata": {},
   "source": [
    "### wandb"
   ]
  },
  {
   "cell_type": "code",
   "execution_count": 3,
   "metadata": {},
   "outputs": [],
   "source": [
    "import wandb\n",
    "# !wandb login  # run once"
   ]
  },
  {
   "cell_type": "code",
   "execution_count": 4,
   "metadata": {},
   "outputs": [],
   "source": [
    "def increment_output_dir(output_path, exist_ok=False):\n",
    "  path = Path(output_path)\n",
    "  if (path.exists() and exist_ok) or (not path.exists()):\n",
    "    return str(path)\n",
    "  else:\n",
    "    dirs = glob.glob(f\"{path}*\")\n",
    "    matches = [re.search(rf\"%s(\\d+)\" %path.stem, d) for d in dirs]\n",
    "    i = [int(m.groups()[0]) for m in matches if m]\n",
    "    n = max(i) + 1 if i else 2\n",
    "    return f\"{path}{n}\""
   ]
  },
  {
   "cell_type": "markdown",
   "metadata": {},
   "source": [
    "### argparse setting"
   ]
  },
  {
   "cell_type": "code",
   "execution_count": 5,
   "metadata": {},
   "outputs": [],
   "source": [
    "from argparse import Namespace\n",
    "\n",
    "args = {\n",
    "    'batch_size': 12,  # 8\n",
    "    'hidden_dim': 300,\n",
    "    'num_rnn_layers': 1,\n",
    "    'zero_init_rnn': False,\n",
    "    'max_seq_length': 64,\n",
    "    'max_label_length': 12,\n",
    "    'attn_head': 8,  # 4\n",
    "    'fix_utterance_encoder': False,\n",
    "    'task_name': 'sumbtgru',\n",
    "    'distance_metric': 'euclidean',\n",
    "    'model_name_or_path': 'dsksd/bert-ko-small-minimal',\n",
    "    'warmup_ratio': 0.1,\n",
    "    'learning_rate': 1e-4,  # 5e-5, \n",
    "    'weight_decay': 0.001,  # 0.01\n",
    "    'num_train_epochs': 25\n",
    "}\n",
    "\n",
    "args = Namespace(**args)"
   ]
  },
  {
   "cell_type": "code",
   "execution_count": 6,
   "metadata": {},
   "outputs": [
    {
     "name": "stderr",
     "output_type": "stream",
     "text": [
      "\u001b[34m\u001b[1mwandb\u001b[0m: Currently logged in as: \u001b[33mtaepd\u001b[0m (use `wandb login --relogin` to force relogin)\n",
      "\u001b[34m\u001b[1mwandb\u001b[0m: wandb version 0.10.29 is available!  To upgrade, please run:\n",
      "\u001b[34m\u001b[1mwandb\u001b[0m:  $ pip install wandb --upgrade\n"
     ]
    },
    {
     "data": {
      "text/html": [
       "\n",
       "                Tracking run with wandb version 0.10.28<br/>\n",
       "                Syncing run <strong style=\"color:#cdcd00\">smooth-deluge-88</strong> to <a href=\"https://wandb.ai\" target=\"_blank\">Weights & Biases</a> <a href=\"https://docs.wandb.com/integrations/jupyter.html\" target=\"_blank\">(Documentation)</a>.<br/>\n",
       "                Project page: <a href=\"https://wandb.ai/taepd/SUMBT-sweep\" target=\"_blank\">https://wandb.ai/taepd/SUMBT-sweep</a><br/>\n",
       "                Run page: <a href=\"https://wandb.ai/taepd/SUMBT-sweep/runs/y5u7vc7c\" target=\"_blank\">https://wandb.ai/taepd/SUMBT-sweep/runs/y5u7vc7c</a><br/>\n",
       "                Run data is saved locally in <code>/opt/ml/repo/taepd/code/notebooks/wandb/run-20210507_181413-y5u7vc7c</code><br/><br/>\n",
       "            "
      ],
      "text/plain": [
       "<IPython.core.display.HTML object>"
      ]
     },
     "metadata": {},
     "output_type": "display_data"
    }
   ],
   "source": [
    "# wandb sweep 생성 시 parameters에 전달하는 config 설정\n",
    "hyperparameter_defaults = dict(\n",
    "    batch_size = args.batch_size,\n",
    "    learning_rate = args.learning_rate,\n",
    "    epochs = args.num_train_epochs,\n",
    "    weight_decay = args.weight_decay,\n",
    "    attn_head = args.attn_head,\n",
    "    distance_metric = args.distance_metric,\n",
    "    \n",
    "#     dropout = 0.1,\n",
    "#     smoothing = 0.2\n",
    "#     model_name = 'BertForSequenceClassification',\n",
    "#     tokenizer_name = 'BertTokenizer',\n",
    "    )\n",
    "\n",
    "wandb.init(config=hyperparameter_defaults, project=\"SUMBT-sweep\")\n",
    "config = wandb.config"
   ]
  },
  {
   "cell_type": "markdown",
   "metadata": {},
   "source": [
    "- wandb sweep config"
   ]
  },
  {
   "cell_type": "code",
   "execution_count": 7,
   "metadata": {},
   "outputs": [],
   "source": [
    "# sweep_config = {\n",
    "#   \"name\": \"SUMBT-sweep\",\n",
    "#   \"method\": \"bayes\",\n",
    "#   \"metric\": {\n",
    "#       \"goal\": \"maximize\",\n",
    "#       \"name\": \"Joint Goal Accuracy\"},\n",
    "#   \"parameters\": {\n",
    "#       \"attn_head\": {\n",
    "#           \"distribution\": \"int_uniform\",\n",
    "#           \"max\": 12,\n",
    "#           \"min\": 4\n",
    "#       },\n",
    "#       \"batch_size\": {\n",
    "#           \"distribution\": \"int_uniform\",\n",
    "#           \"max\": 12,\n",
    "#           \"min\": 8\n",
    "#       },\n",
    "#       \"distance_metric\": {\n",
    "#           \"distribution\": \"categorical\",\n",
    "#           \"values\": [\"euclidean\", \"cosine\"]\n",
    "#       },\n",
    "#       \"learning_rate\": {\n",
    "#           \"distribution\": \"uniform\",\n",
    "#           \"max\": 1e-03,\n",
    "#           \"min\": 5e-05\n",
    "#       },\n",
    "#       \"weight_decay\": {\n",
    "#           \"distribution\": \"uniform\",\n",
    "#           \"max\": 0.02,\n",
    "#           \"min\": 0.005\n",
    "#       }\n",
    "#     }\n",
    "# }\n",
    "\n",
    "# # sweep_id = wandb.sweep(sweep_config, project=\"SUMBT-sweep\")\n",
    "# # sweep_id"
   ]
  },
  {
   "cell_type": "code",
   "execution_count": 8,
   "metadata": {},
   "outputs": [],
   "source": [
    "def seed_everything(seed):\n",
    "    torch.manual_seed(seed)\n",
    "    torch.cuda.manual_seed(seed)\n",
    "    torch.cuda.manual_seed_all(seed)  # if use multi-GPU        \n",
    "    torch.backends.cudnn.deterministic = True\n",
    "    torch.backends.cudnn.benchmark = False\n",
    "    np.random.seed(seed)\n",
    "    random.seed(seed)\n",
    "\n",
    "seed_everything(42)"
   ]
  },
  {
   "cell_type": "markdown",
   "metadata": {
    "id": "DCYa_jbt6B7m"
   },
   "source": [
    "## Data Loading "
   ]
  },
  {
   "cell_type": "code",
   "execution_count": 9,
   "metadata": {
    "id": "y2Jpgv4i6B7n",
    "tags": []
   },
   "outputs": [],
   "source": [
    "train_data_file = \"/opt/ml/repo/taepd/input/data/train_dataset/train_dials.json\"\n",
    "slot_meta = json.load(open(\"/opt/ml/repo/taepd/input/data/train_dataset/slot_meta.json\"))\n",
    "ontology = json.load(open(\"/opt/ml/repo/taepd/input/data/train_dataset/ontology.json\"))\n",
    "train_data, dev_data, dev_labels = load_dataset(train_data_file)"
   ]
  },
  {
   "cell_type": "code",
   "execution_count": 10,
   "metadata": {
    "id": "Vu232Prn6B7n",
    "outputId": "a17014f7-81fd-41c6-c4e6-c4958942a45e",
    "tags": []
   },
   "outputs": [
    {
     "name": "stderr",
     "output_type": "stream",
     "text": [
      "100%|██████████| 6301/6301 [00:00<00:00, 8760.54it/s]\n",
      "100%|██████████| 699/699 [00:00<00:00, 2938.77it/s]\n"
     ]
    }
   ],
   "source": [
    "train_examples = get_examples_from_dialogues(data=train_data,\n",
    "                                             user_first=True,\n",
    "                                             dialogue_level=True)\n",
    "\n",
    "dev_examples = get_examples_from_dialogues(data=dev_data,\n",
    "                                           user_first=True,\n",
    "                                           dialogue_level=True)"
   ]
  },
  {
   "cell_type": "code",
   "execution_count": 11,
   "metadata": {
    "id": "aGKZk4_n6B7o",
    "outputId": "5502faa6-a80f-496a-fe8f-399ecd62350f",
    "tags": []
   },
   "outputs": [
    {
     "data": {
      "text/plain": [
       "6301"
      ]
     },
     "execution_count": 11,
     "metadata": {},
     "output_type": "execute_result"
    }
   ],
   "source": [
    "len(train_data)"
   ]
  },
  {
   "cell_type": "code",
   "execution_count": 12,
   "metadata": {
    "id": "1qqe5Hw36B7o",
    "tags": []
   },
   "outputs": [],
   "source": [
    "max_turn = max([len(e['dialogue']) for e in train_data])\n",
    "tokenizer = BertTokenizer.from_pretrained('dsksd/bert-ko-small-minimal')"
   ]
  },
  {
   "cell_type": "code",
   "execution_count": 13,
   "metadata": {},
   "outputs": [
    {
     "name": "stdout",
     "output_type": "stream",
     "text": [
      "34\n"
     ]
    }
   ],
   "source": [
    "print(max_turn)"
   ]
  },
  {
   "cell_type": "markdown",
   "metadata": {
    "id": "kq2fddAg6B7p"
   },
   "source": [
    "## TODO-1: SUMBT Preprocessor 정의 "
   ]
  },
  {
   "cell_type": "markdown",
   "metadata": {
    "id": "RCoRCk1z6B7p"
   },
   "source": [
    "Ontology-based DST model인 SUMBT의 InputFeature를 만들기 위한 Preprocessor를 정의해야 합니다. <br>\n",
    "\n",
    "1. `_convert_examples_to_features` 함수의 빈칸을 매워 완성하세요.\n",
    "2. `recover_state` 함수의 빈칸을 매워 완성하세요."
   ]
  },
  {
   "cell_type": "code",
   "execution_count": 14,
   "metadata": {
    "id": "p8MjYjqw6B7p",
    "tags": []
   },
   "outputs": [],
   "source": [
    "class SUMBTPreprocessor(DSTPreprocessor):\n",
    "    def __init__(\n",
    "        self,\n",
    "        slot_meta,\n",
    "        src_tokenizer,\n",
    "        trg_tokenizer=None,\n",
    "        ontology=None,\n",
    "        max_seq_length=64,\n",
    "        max_turn_length=12,\n",
    "    ):\n",
    "        self.slot_meta = slot_meta\n",
    "        self.src_tokenizer = src_tokenizer\n",
    "        self.trg_tokenizer = trg_tokenizer if trg_tokenizer else src_tokenizer\n",
    "        self.ontology = ontology\n",
    "        self.max_seq_length = max_seq_length\n",
    "        self.max_turn_length = max_turn_length\n",
    "\n",
    "    def _convert_example_to_feature(self, example):\n",
    "        guid = example[0].guid.rsplit(\"-\", 1)[0]  # dialogue_idx\n",
    "        turns = []\n",
    "        token_types = []\n",
    "        labels = []\n",
    "        num_turn = None\n",
    "        for turn in example[: self.max_turn_length]:\n",
    "            assert len(turn.current_turn) == 2\n",
    "            uttrs = []\n",
    "            for segment_idx, uttr in enumerate(turn.current_turn):\n",
    "                token = self.src_tokenizer.encode(uttr, add_special_tokens=False)\n",
    "                uttrs.append(token)\n",
    "\n",
    "            _truncate_seq_pair(uttrs[0], uttrs[1], self.max_seq_length - 3)\n",
    "            tokens = (\n",
    "                [self.src_tokenizer.cls_token_id]\n",
    "                + uttrs[0]\n",
    "                + [self.src_tokenizer.sep_token_id]\n",
    "                + uttrs[1]\n",
    "                + [self.src_tokenizer.sep_token_id]\n",
    "            )\n",
    "            token_type = [0] * (len(uttrs[0]) + 2) + [1] * (len(uttrs[1]) + 1)\n",
    "            if len(tokens) < self.max_seq_length:\n",
    "                gap = self.max_seq_length - len(tokens)\n",
    "                tokens.extend([self.src_tokenizer.pad_token_id] * gap)\n",
    "                token_type.extend([0] * gap)\n",
    "            turns.append(tokens)\n",
    "            token_types.append(token_type)\n",
    "            label = []\n",
    "            if turn.label:\n",
    "                slot_dict = convert_state_dict(turn.label)\n",
    "            else:\n",
    "                slot_dict = {}\n",
    "            for slot_type in self.slot_meta:\n",
    "                value = slot_dict.get(slot_type, \"none\")\n",
    "                # TODO\n",
    "                # raise Exception('label_idx를 ontology에서 꺼내오는 코드를 작성하세요!')\n",
    "#                 label_idx = self.ontology[slot_type].index(value)  # 이렇게 해도 될듯한데?\n",
    "                if value in self.ontology[slot_type]:\n",
    "                    label_idx = self.ontology[slot_type].index(value)\n",
    "                else:\n",
    "                    label_idx = self.ontology[slot_type].index(\"none\")\n",
    "                label.append(label_idx)\n",
    "            labels.append(label)\n",
    "        num_turn = len(turns)\n",
    "        if len(turns) < self.max_turn_length:\n",
    "            gap = self.max_turn_length - len(turns)\n",
    "            for _ in range(gap):\n",
    "                dummy_turn = [self.src_tokenizer.pad_token_id] * self.max_seq_length\n",
    "                turns.append(dummy_turn)\n",
    "                token_types.append(dummy_turn)\n",
    "                dummy_label = [-1] * len(self.slot_meta)\n",
    "                labels.append(dummy_label)\n",
    "        return OntologyDSTFeature(\n",
    "            guid=guid,\n",
    "            input_ids=turns,\n",
    "            segment_ids=token_types,\n",
    "            num_turn=num_turn,\n",
    "            target_ids=labels,\n",
    "        )\n",
    "\n",
    "    def convert_examples_to_features(self, examples):\n",
    "        return list(map(self._convert_example_to_feature, examples))\n",
    "\n",
    "    def recover_state(self, pred_slots, num_turn):\n",
    "        states = []\n",
    "        for pred_slot in pred_slots[:num_turn]:\n",
    "            state = []\n",
    "            for s, p in zip(self.slot_meta, pred_slot):\n",
    "                v = self.ontology[s][p]\n",
    "                if v != \"none\":\n",
    "                    state.append(f\"{s}-{v}\")\n",
    "            states.append(state)\n",
    "        return states\n",
    "\n",
    "    def collate_fn(self, batch):\n",
    "        guids = [b.guid for b in batch]\n",
    "        input_ids = torch.LongTensor([b.input_ids for b in batch])\n",
    "        segment_ids = torch.LongTensor([b.segment_ids for b in batch])\n",
    "        input_masks = input_ids.ne(self.src_tokenizer.pad_token_id)\n",
    "        target_ids = torch.LongTensor([b.target_ids for b in batch])\n",
    "        num_turns = [b.num_turn for b in batch]\n",
    "        return input_ids, segment_ids, input_masks, target_ids, num_turns, guids"
   ]
  },
  {
   "cell_type": "markdown",
   "metadata": {
    "id": "AhFMIiFy6B7q"
   },
   "source": [
    "## Convert_Examples_to_Features "
   ]
  },
  {
   "cell_type": "code",
   "execution_count": 15,
   "metadata": {
    "id": "EKluwCmH6B7r",
    "tags": []
   },
   "outputs": [],
   "source": [
    "processor = SUMBTPreprocessor(slot_meta,\n",
    "                              tokenizer,\n",
    "                              ontology=ontology,  # predefined ontology\n",
    "                              max_seq_length=64,  # 각 turn마다 최대 길이\n",
    "                              max_turn_length=max_turn)  # 각 dialogue의 최대 turn 길이\n",
    "train_features = processor.convert_examples_to_features(train_examples)\n",
    "dev_features = processor.convert_examples_to_features(dev_examples)"
   ]
  },
  {
   "cell_type": "code",
   "execution_count": 16,
   "metadata": {
    "id": "zrIVLPMd6B7r",
    "outputId": "e2b46db4-4bc0-48b2-b23b-577fe3678543",
    "tags": []
   },
   "outputs": [
    {
     "name": "stdout",
     "output_type": "stream",
     "text": [
      "6301\n",
      "699\n"
     ]
    }
   ],
   "source": [
    "print(len(train_features))  # 대화 level의 features\n",
    "print(len(dev_features))"
   ]
  },
  {
   "cell_type": "code",
   "execution_count": 17,
   "metadata": {},
   "outputs": [
    {
     "name": "stdout",
     "output_type": "stream",
     "text": [
      "snowy-hat-8324:관광_식당_11\n",
      "8\n",
      "34\n",
      "64\n",
      "34\n",
      "34\n",
      "45\n"
     ]
    }
   ],
   "source": [
    "f = train_features[0]\n",
    "\n",
    "print(f.guid)  # 대화 unique_id\n",
    "print(f.num_turn)  # 실제 대화의 turn 길이 == T\n",
    "print(len(f.input_ids))  # input_ids의 턴 길이 (max_turn_length == 현재 34)\n",
    "print(len(f.input_ids[0]))  # input_ids에서 각 턴의 최대 길이 (max_seq_length == 64)\n",
    "print(len(f.segment_ids))  # segment_ids의 턴 길이 (max_turn_length == 34)\n",
    "print(len(f.target_ids))  # target_ids의 갯수 (턴마다의 State == max_turn_length == 34)\n",
    "print(len(f.target_ids[0]))  # 각 턴마다 target의 갯수 == number of Slot Meta (== 45)"
   ]
  },
  {
   "cell_type": "markdown",
   "metadata": {
    "id": "9a3j7tb96B7r"
   },
   "source": [
    "## SUMBT 모델 선언 "
   ]
  },
  {
   "cell_type": "code",
   "execution_count": 18,
   "metadata": {
    "id": "-IjCE6Db6B7r",
    "tags": []
   },
   "outputs": [],
   "source": [
    "\"\"\"\n",
    "Most of code is from https://github.com/SKTBrain/SUMBT\n",
    "\"\"\"\n",
    "\n",
    "import math\n",
    "import os.path\n",
    "\n",
    "import torch\n",
    "import torch.nn as nn\n",
    "import torch.nn.functional as F\n",
    "from torch.nn import CosineEmbeddingLoss, CrossEntropyLoss\n",
    "from transformers import BertModel, BertPreTrainedModel\n",
    "\n",
    "\n",
    "class BertForUtteranceEncoding(BertPreTrainedModel):\n",
    "    def __init__(self, config):\n",
    "        super(BertForUtteranceEncoding, self).__init__(config)\n",
    "\n",
    "        self.config = config\n",
    "        self.bert = BertModel(config)\n",
    "\n",
    "    def forward(self, input_ids, token_type_ids, attention_mask):\n",
    "        return self.bert(\n",
    "            input_ids=input_ids,\n",
    "            attention_mask=attention_mask,\n",
    "            token_type_ids=token_type_ids,\n",
    "            output_attentions=False,\n",
    "            output_hidden_states=False,\n",
    "            return_dict=False,\n",
    "        )\n",
    "\n",
    "\n",
    "class MultiHeadAttention(nn.Module):\n",
    "    def __init__(self, heads, d_model, dropout=0.1):\n",
    "        super().__init__()\n",
    "\n",
    "        self.d_model = d_model\n",
    "        self.d_k = d_model // heads\n",
    "        self.h = heads\n",
    "\n",
    "        self.q_linear = nn.Linear(d_model, d_model)\n",
    "        self.v_linear = nn.Linear(d_model, d_model)\n",
    "        self.k_linear = nn.Linear(d_model, d_model)\n",
    "        self.dropout = nn.Dropout(dropout)\n",
    "        self.out = nn.Linear(d_model, d_model)\n",
    "\n",
    "        self.scores = None\n",
    "\n",
    "    def attention(self, q, k, v, d_k, mask=None, dropout=None):\n",
    "\n",
    "        scores = torch.matmul(q, k.transpose(-2, -1)) / math.sqrt(d_k)\n",
    "\n",
    "        if mask is not None:\n",
    "            mask = mask.unsqueeze(1)\n",
    "            scores = scores.masked_fill(mask == 0, -1e9)\n",
    "        scores = F.softmax(scores, dim=-1)\n",
    "\n",
    "        if dropout is not None:\n",
    "            scores = dropout(scores)\n",
    "\n",
    "        self.scores = scores\n",
    "        output = torch.matmul(scores, v)\n",
    "        return output\n",
    "\n",
    "    def forward(self, q, k, v, mask=None):\n",
    "        bs = q.size(0)\n",
    "\n",
    "        # perform linear operation and split into h heads\n",
    "        k = self.k_linear(k).view(bs, -1, self.h, self.d_k)\n",
    "        q = self.q_linear(q).view(bs, -1, self.h, self.d_k)\n",
    "        v = self.v_linear(v).view(bs, -1, self.h, self.d_k)\n",
    "\n",
    "        # transpose to get dimensions bs * h * sl * d_model\n",
    "        k = k.transpose(1, 2)\n",
    "        q = q.transpose(1, 2)\n",
    "        v = v.transpose(1, 2)\n",
    "\n",
    "        scores = self.attention(q, k, v, self.d_k, mask, self.dropout)\n",
    "\n",
    "        # concatenate heads and put through final linear layer\n",
    "        concat = scores.transpose(1, 2).contiguous().view(bs, -1, self.d_model)\n",
    "        output = self.out(concat)\n",
    "        return output\n",
    "\n",
    "    def get_scores(self):\n",
    "        return self.scores\n",
    "\n",
    "\n",
    "class SUMBT(nn.Module):\n",
    "    def __init__(self, args, num_labels, device):  # num_labels : # of Candidate values per each Slot\n",
    "        super(SUMBT, self).__init__()\n",
    "\n",
    "        self.hidden_dim = args.hidden_dim\n",
    "        self.rnn_num_layers = args.num_rnn_layers\n",
    "        self.zero_init_rnn = args.zero_init_rnn\n",
    "        self.max_seq_length = args.max_seq_length\n",
    "        self.max_label_length = args.max_label_length\n",
    "        self.num_labels = num_labels\n",
    "        self.num_slots = len(num_labels)\n",
    "        self.attn_head = args.attn_head\n",
    "        self.device = device\n",
    "\n",
    "        ### Utterance Encoder\n",
    "        self.utterance_encoder = BertForUtteranceEncoding.from_pretrained(\n",
    "            args.model_name_or_path\n",
    "        )\n",
    "        self.bert_output_dim = self.utterance_encoder.config.hidden_size\n",
    "        self.hidden_dropout_prob = self.utterance_encoder.config.hidden_dropout_prob\n",
    "        if args.fix_utterance_encoder:\n",
    "            for p in self.utterance_encoder.bert.pooler.parameters():\n",
    "                p.requires_grad = False\n",
    "\n",
    "        ### slot, slot-value Encoder (not trainable)\n",
    "        self.sv_encoder = BertForUtteranceEncoding.from_pretrained(\n",
    "            args.model_name_or_path\n",
    "        )\n",
    "        # os.path.join(args.bert_dir, 'bert-base-uncased.model'))\n",
    "        for p in self.sv_encoder.bert.parameters():\n",
    "            p.requires_grad = False\n",
    "\n",
    "        self.slot_lookup = nn.Embedding(self.num_slots, self.bert_output_dim)\n",
    "        self.value_lookup = nn.ModuleList(\n",
    "            [nn.Embedding(num_label, self.bert_output_dim) for num_label in num_labels]\n",
    "        )\n",
    "\n",
    "        ### Attention layer\n",
    "        self.attn = MultiHeadAttention(self.attn_head, self.bert_output_dim, dropout=0)\n",
    "\n",
    "        ### RNN Belief Tracker\n",
    "        self.nbt = nn.GRU(\n",
    "            input_size=self.bert_output_dim,\n",
    "            hidden_size=self.hidden_dim,\n",
    "            num_layers=self.rnn_num_layers,\n",
    "            dropout=self.hidden_dropout_prob,\n",
    "            batch_first=True,\n",
    "        )\n",
    "        self.init_parameter(self.nbt)\n",
    "\n",
    "        if not self.zero_init_rnn:\n",
    "            self.rnn_init_linear = nn.Sequential(\n",
    "                nn.Linear(self.bert_output_dim, self.hidden_dim),\n",
    "                nn.ReLU(),\n",
    "                nn.Dropout(self.hidden_dropout_prob),\n",
    "            )\n",
    "\n",
    "        self.linear = nn.Linear(self.hidden_dim, self.bert_output_dim)\n",
    "        self.layer_norm = nn.LayerNorm(self.bert_output_dim)\n",
    "\n",
    "        ### Measure\n",
    "#         self.metric = torch.nn.PairwiseDistance(p=2.0, eps=1e-06, keepdim=False)\n",
    "        self.distance_metric = args.distance_metric\n",
    "        if self.distance_metric == \"cosine\":\n",
    "            self.metric = torch.nn.CosineSimilarity(dim=-1, eps=1e-08)\n",
    "        elif self.distance_metric == \"euclidean\":\n",
    "            self.metric = torch.nn.PairwiseDistance(p=2.0, eps=1e-06, keepdim=False)\n",
    "\n",
    "        ### Classifier\n",
    "        self.nll = CrossEntropyLoss(ignore_index=-1)\n",
    "\n",
    "        ### Etc.\n",
    "        self.dropout = nn.Dropout(self.hidden_dropout_prob)\n",
    "\n",
    "    def initialize_slot_value_lookup(self, label_ids, slot_ids):\n",
    "\n",
    "        self.sv_encoder.eval()\n",
    "\n",
    "        # Slot encoding\n",
    "        slot_type_ids = torch.zeros(slot_ids.size(), dtype=torch.long).to(\n",
    "            slot_ids.device\n",
    "        )\n",
    "        slot_mask = slot_ids > 0\n",
    "        hid_slot, _ = self.sv_encoder(\n",
    "            slot_ids.view(-1, self.max_label_length),\n",
    "            slot_type_ids.view(-1, self.max_label_length),\n",
    "            slot_mask.view(-1, self.max_label_length),\n",
    "        )\n",
    "        hid_slot = hid_slot[:, 0, :]\n",
    "        hid_slot = hid_slot.detach()\n",
    "        self.slot_lookup = nn.Embedding.from_pretrained(hid_slot, freeze=True)\n",
    "\n",
    "        for s, label_id in enumerate(label_ids):\n",
    "            label_type_ids = torch.zeros(label_id.size(), dtype=torch.long).to(\n",
    "                label_id.device\n",
    "            )\n",
    "            label_mask = label_id > 0\n",
    "            hid_label, _ = self.sv_encoder(\n",
    "                label_id.view(-1, self.max_label_length),\n",
    "                label_type_ids.view(-1, self.max_label_length),\n",
    "                label_mask.view(-1, self.max_label_length),\n",
    "            )\n",
    "            hid_label = hid_label[:, 0, :]\n",
    "            hid_label = hid_label.detach()\n",
    "            self.value_lookup[s] = nn.Embedding.from_pretrained(hid_label, freeze=True)\n",
    "            self.value_lookup[s].padding_idx = -1\n",
    "\n",
    "        print(\"Complete initialization of slot and value lookup\")\n",
    "        self.sv_encoder = None\n",
    "\n",
    "    def forward(\n",
    "        self,\n",
    "        input_ids,\n",
    "        token_type_ids,\n",
    "        attention_mask,\n",
    "        labels=None,\n",
    "        n_gpu=1,\n",
    "        target_slot=None,\n",
    "    ):\n",
    "        # B: Batch size, M: Max turn length, N: Max seq length, \n",
    "        # J: # of Slot Meta, H: Hidden dimension\n",
    "        \n",
    "        # input_ids: [B, M, N]\n",
    "        # token_type_ids: [B, M, N]\n",
    "        # attention_mask: [B, M, N]\n",
    "        # labels: [B, M, J]\n",
    "\n",
    "        # if target_slot is not specified, output values corresponding all slot-types\n",
    "        if target_slot is None:\n",
    "            target_slot = list(range(0, self.num_slots))\n",
    "\n",
    "        ds = input_ids.size(0)  # Batch size (B)\n",
    "        ts = input_ids.size(1)  # Max turn size (M)\n",
    "        bs = ds * ts\n",
    "        slot_dim = len(target_slot)  # J\n",
    "\n",
    "        # Utterance encoding\n",
    "        # Utterence-level로 독립적으로 인코딩하므로 flatten필요\n",
    "        hidden, _ = self.utterance_encoder(\n",
    "            input_ids.view(-1, self.max_seq_length),\n",
    "            token_type_ids.view(-1, self.max_seq_length),\n",
    "            attention_mask.view(-1, self.max_seq_length),\n",
    "        )\n",
    "        hidden = torch.mul(\n",
    "            hidden,\n",
    "            attention_mask.view(-1, self.max_seq_length, 1)\n",
    "            .expand(hidden.size())\n",
    "            .float(),\n",
    "        )\n",
    "        hidden = hidden.repeat(slot_dim, 1, 1)  # [J*M*B, N, H]\n",
    "\n",
    "        hid_slot = self.slot_lookup.weight[target_slot, :]  # Select target slot embedding\n",
    "        hid_slot = hid_slot.repeat(1, bs).view(bs * slot_dim, -1)  # [J*M*B, N, H]\n",
    "\n",
    "        # Attended utterance vector\n",
    "        hidden = self.attn(\n",
    "            hid_slot,  # q^s  [J*M*B, N, H]\n",
    "            hidden,  # U [J*M*B, N, H]\n",
    "            hidden,  # U [J*M*B, N, H]\n",
    "            mask=attention_mask.view(-1, 1, self.max_seq_length).repeat(slot_dim, 1, 1),\n",
    "        )\n",
    "        hidden = hidden.squeeze()  # h [J*M*B, H] Aggregated Slot Context\n",
    "        hidden = hidden.view(slot_dim, ds, ts, -1).view(-1, ts, self.bert_output_dim)  # [J*B, M, H]\n",
    "\n",
    "        # NBT\n",
    "        if self.zero_init_rnn:\n",
    "            h = torch.zeros(\n",
    "                self.rnn_num_layers, input_ids.shape[0] * slot_dim, self.hidden_dim\n",
    "            ).to(\n",
    "                self.device\n",
    "            )  # [1, slot_dim*ds, hidden]\n",
    "        else:\n",
    "            h = hidden[:, 0, :].unsqueeze(0).repeat(self.rnn_num_layers, 1, 1)\n",
    "            h = self.rnn_init_linear(h)\n",
    "\n",
    "        if isinstance(self.nbt, nn.GRU):\n",
    "            rnn_out, _ = self.nbt(hidden, h)  # [J*B, M, H_GRU]\n",
    "        elif isinstance(self.nbt, nn.LSTM):\n",
    "            c = torch.zeros(\n",
    "                self.rnn_num_layers, input_ids.shape[0] * slot_dim, self.hidden_dim\n",
    "            ).to(\n",
    "                self.device\n",
    "            )  # [1, slot_dim*ds, hidden]\n",
    "            rnn_out, _ = self.nbt(hidden, (h, c))  # [slot_dim*ds, turn, hidden]\n",
    "        rnn_out = self.layer_norm(self.linear(self.dropout(rnn_out)))\n",
    "\n",
    "        hidden = rnn_out.view(slot_dim, ds, ts, -1)  # [J, B, M, H_GRU]\n",
    "\n",
    "        # Label (slot-value) encoding\n",
    "        loss = 0\n",
    "        loss_slot = []\n",
    "        pred_slot = []\n",
    "        output = []\n",
    "        for s, slot_id in enumerate(target_slot):  ## note: target_slots are successive\n",
    "            # loss calculation\n",
    "            hid_label = self.value_lookup[slot_id].weight\n",
    "            num_slot_labels = hid_label.size(0)\n",
    "\n",
    "            _hid_label = (\n",
    "                hid_label.unsqueeze(0)\n",
    "                .unsqueeze(0)\n",
    "                .repeat(ds, ts, 1, 1)\n",
    "                .view(ds * ts * num_slot_labels, -1)\n",
    "            )\n",
    "            _hidden = (\n",
    "                hidden[s, :, :, :]\n",
    "                .unsqueeze(2)\n",
    "                .repeat(1, 1, num_slot_labels, 1)\n",
    "                .view(ds * ts * num_slot_labels, -1)\n",
    "            )\n",
    "            _dist = self.metric(_hid_label, _hidden).view(ds, ts, num_slot_labels)\n",
    "            if self.distance_metric == \"euclidean\":\n",
    "                _dist = -_dist\n",
    "            _, pred = torch.max(_dist, -1)  # taget_ids에서 ignore index 즉, padding일 경우 -1로 setting했었음\n",
    "            pred_slot.append(pred.view(ds, ts, 1))\n",
    "            output.append(_dist)\n",
    "\n",
    "            if labels is not None:\n",
    "                _loss = self.nll(_dist.view(ds * ts, -1), labels[:, :, s].view(-1))\n",
    "                loss_slot.append(_loss.item())\n",
    "                loss += _loss\n",
    "\n",
    "        pred_slot = torch.cat(pred_slot, 2)\n",
    "        if labels is None:\n",
    "            return output, pred_slot\n",
    "\n",
    "        # calculate joint accuracy\n",
    "        accuracy = (pred_slot == labels).view(-1, slot_dim)\n",
    "        acc_slot = (\n",
    "            torch.sum(accuracy, 0).float()\n",
    "            / torch.sum(labels.view(-1, slot_dim) > -1, 0).float()\n",
    "        )\n",
    "        acc = (\n",
    "            sum(torch.sum(accuracy, 1) / slot_dim).float()\n",
    "            / torch.sum(labels[:, :, 0].view(-1) > -1, 0).float()\n",
    "        )  # joint accuracy\n",
    "                \n",
    "        if n_gpu == 1:\n",
    "            return loss, loss_slot, acc, acc_slot, pred_slot\n",
    "        else:\n",
    "            return (\n",
    "                loss.unsqueeze(0),\n",
    "                None,\n",
    "                acc.unsqueeze(0),\n",
    "                acc_slot.unsqueeze(0),\n",
    "                pred_slot.unsqueeze(0),\n",
    "            )\n",
    "\n",
    "    @staticmethod\n",
    "    def init_parameter(module):\n",
    "        if isinstance(module, nn.Linear):\n",
    "            torch.nn.init.xavier_normal_(module.weight)\n",
    "            torch.nn.init.constant_(module.bias, 0.0)\n",
    "        elif isinstance(module, nn.GRU) or isinstance(module, nn.LSTM):\n",
    "            torch.nn.init.xavier_normal_(module.weight_ih_l0)\n",
    "            torch.nn.init.xavier_normal_(module.weight_hh_l0)\n",
    "            torch.nn.init.constant_(module.bias_ih_l0, 0.0)\n",
    "            torch.nn.init.constant_(module.bias_hh_l0, 0.0)"
   ]
  },
  {
   "cell_type": "markdown",
   "metadata": {
    "id": "PYm56GEZ6B7u"
   },
   "source": [
    "## TODO-2: Ontology Pre-Encoding "
   ]
  },
  {
   "cell_type": "markdown",
   "metadata": {
    "id": "3WdPyqp16B7w"
   },
   "source": [
    "Ontology의 slot type들과 이에 속하는 slot_value들을 tokenizing하는 `tokenize_ontology`를 작성하세요. <br>\n",
    "[CLS] Pooling하여 `slot_lookup` 과 `value_lookup` embedding matrix들을 초기화하는 <br>\n",
    "`initialize_slot_value_lookup`에 인자로 넘겨주세요. <br>"
   ]
  },
  {
   "cell_type": "code",
   "execution_count": 19,
   "metadata": {
    "id": "zwgNUZNn6B7w",
    "tags": []
   },
   "outputs": [],
   "source": [
    "def tokenize_ontology(ontology, tokenizer, max_seq_length=12):\n",
    "    slot_types = []\n",
    "    slot_values = []\n",
    "    for k, v in ontology.items():\n",
    "        tokens = tokenizer.encode(k)\n",
    "        if len(tokens) < max_seq_length:\n",
    "            gap = max_seq_length - len(tokens)\n",
    "            tokens.extend([tokenizer.pad_token_id] *  gap)\n",
    "        slot_types.append(tokens)\n",
    "        slot_value = []\n",
    "        for vv in v:\n",
    "            tokens = tokenizer.encode(vv)\n",
    "            if len(tokens) < max_seq_length:\n",
    "                gap = max_seq_length - len(tokens)\n",
    "                tokens.extend([tokenizer.pad_token_id] *  gap)\n",
    "            slot_value.append(tokens)\n",
    "        slot_values.append(torch.LongTensor(slot_value))\n",
    "    return torch.LongTensor(slot_types), slot_values"
   ]
  },
  {
   "cell_type": "code",
   "execution_count": 20,
   "metadata": {
    "id": "attmAW3A6B7w",
    "outputId": "9dbf4e3d-f077-4782-9d3b-d7c8c00159ff",
    "tags": []
   },
   "outputs": [
    {
     "name": "stdout",
     "output_type": "stream",
     "text": [
      "[4, 4, 4, 4, 4, 103, 13, 4, 7, 5, 4, 4, 4, 12, 12, 9, 67, 4, 4, 7, 4, 7, 4, 4, 5, 4, 4, 12, 569, 9, 44, 4, 10, 4, 4, 7, 4, 60, 12, 60, 190, 298, 5, 431, 286]\n",
      "Tokenized Slot:  torch.Size([45, 12])\n",
      "Tokenized Value of 관광-경치 좋은 torch.Size([4, 12])\n",
      "Tokenized Value of 관광-교육적 torch.Size([4, 12])\n",
      "Tokenized Value of 관광-도보 가능 torch.Size([4, 12])\n",
      "Tokenized Value of 관광-문화 예술 torch.Size([4, 12])\n",
      "Tokenized Value of 관광-역사적 torch.Size([4, 12])\n",
      "Tokenized Value of 관광-이름 torch.Size([103, 12])\n",
      "Tokenized Value of 관광-종류 torch.Size([13, 12])\n",
      "Tokenized Value of 관광-주차 가능 torch.Size([4, 12])\n",
      "Tokenized Value of 관광-지역 torch.Size([7, 12])\n",
      "Tokenized Value of 숙소-가격대 torch.Size([5, 12])\n",
      "Tokenized Value of 숙소-도보 가능 torch.Size([4, 12])\n",
      "Tokenized Value of 숙소-수영장 유무 torch.Size([4, 12])\n",
      "Tokenized Value of 숙소-스파 유무 torch.Size([4, 12])\n",
      "Tokenized Value of 숙소-예약 기간 torch.Size([12, 12])\n",
      "Tokenized Value of 숙소-예약 명수 torch.Size([12, 12])\n",
      "Tokenized Value of 숙소-예약 요일 torch.Size([9, 12])\n",
      "Tokenized Value of 숙소-이름 torch.Size([67, 12])\n",
      "Tokenized Value of 숙소-인터넷 가능 torch.Size([4, 12])\n",
      "Tokenized Value of 숙소-조식 가능 torch.Size([4, 12])\n",
      "Tokenized Value of 숙소-종류 torch.Size([7, 12])\n",
      "Tokenized Value of 숙소-주차 가능 torch.Size([4, 12])\n",
      "Tokenized Value of 숙소-지역 torch.Size([7, 12])\n",
      "Tokenized Value of 숙소-헬스장 유무 torch.Size([4, 12])\n",
      "Tokenized Value of 숙소-흡연 가능 torch.Size([4, 12])\n",
      "Tokenized Value of 식당-가격대 torch.Size([5, 12])\n",
      "Tokenized Value of 식당-도보 가능 torch.Size([4, 12])\n",
      "Tokenized Value of 식당-야외석 유무 torch.Size([4, 12])\n",
      "Tokenized Value of 식당-예약 명수 torch.Size([12, 12])\n",
      "Tokenized Value of 식당-예약 시간 torch.Size([569, 12])\n",
      "Tokenized Value of 식당-예약 요일 torch.Size([9, 12])\n",
      "Tokenized Value of 식당-이름 torch.Size([44, 12])\n",
      "Tokenized Value of 식당-인터넷 가능 torch.Size([4, 12])\n",
      "Tokenized Value of 식당-종류 torch.Size([10, 12])\n",
      "Tokenized Value of 식당-주류 판매 torch.Size([4, 12])\n",
      "Tokenized Value of 식당-주차 가능 torch.Size([4, 12])\n",
      "Tokenized Value of 식당-지역 torch.Size([7, 12])\n",
      "Tokenized Value of 식당-흡연 가능 torch.Size([4, 12])\n",
      "Tokenized Value of 지하철-도착지 torch.Size([60, 12])\n",
      "Tokenized Value of 지하철-출발 시간 torch.Size([12, 12])\n",
      "Tokenized Value of 지하철-출발지 torch.Size([60, 12])\n",
      "Tokenized Value of 택시-도착 시간 torch.Size([190, 12])\n",
      "Tokenized Value of 택시-도착지 torch.Size([298, 12])\n",
      "Tokenized Value of 택시-종류 torch.Size([5, 12])\n",
      "Tokenized Value of 택시-출발 시간 torch.Size([431, 12])\n",
      "Tokenized Value of 택시-출발지 torch.Size([286, 12])\n"
     ]
    }
   ],
   "source": [
    "slot_type_ids, slot_values_ids = tokenize_ontology(ontology, tokenizer, 12)\n",
    "num_labels = [len(s) for s in slot_values_ids]  # 각 Slot 별 후보 Values의 갯수\n",
    "print(num_labels)\n",
    "print(\"Tokenized Slot: \", slot_type_ids.size())\n",
    "for slot, slot_value_id in zip(slot_meta, slot_values_ids):\n",
    "    print(f\"Tokenized Value of {slot}\", slot_value_id.size())"
   ]
  },
  {
   "cell_type": "markdown",
   "metadata": {
    "id": "xCsCGN0f6B7x"
   },
   "source": [
    "## Model 선언 "
   ]
  },
  {
   "cell_type": "code",
   "execution_count": 21,
   "metadata": {
    "id": "aQSRYG6e6B7x",
    "tags": []
   },
   "outputs": [],
   "source": [
    "# argsparse 있던 위치\n",
    "\n",
    "num_labels = [len(s) for s in slot_values_ids]\n",
    "device = torch.device('cuda' if torch.cuda.is_available() else 'cpu')\n",
    "n_gpu = 1 if torch.cuda.device_count() < 2 else torch.cuda.device_count()\n",
    "n_epochs = args.num_train_epochs"
   ]
  },
  {
   "cell_type": "code",
   "execution_count": 22,
   "metadata": {
    "id": "NZNUF9k86B7x",
    "outputId": "4ef347fd-6fa1-4f26-e8a4-8133614f9380",
    "tags": []
   },
   "outputs": [
    {
     "name": "stderr",
     "output_type": "stream",
     "text": [
      "Some weights of the model checkpoint at dsksd/bert-ko-small-minimal were not used when initializing BertForUtteranceEncoding: ['cls.predictions.bias', 'cls.predictions.transform.dense.weight', 'cls.predictions.transform.dense.bias', 'cls.predictions.transform.LayerNorm.weight', 'cls.predictions.transform.LayerNorm.bias', 'cls.predictions.decoder.weight', 'cls.predictions.decoder.bias', 'cls.seq_relationship.weight', 'cls.seq_relationship.bias']\n",
      "- This IS expected if you are initializing BertForUtteranceEncoding from the checkpoint of a model trained on another task or with another architecture (e.g. initializing a BertForSequenceClassification model from a BertForPreTraining model).\n",
      "- This IS NOT expected if you are initializing BertForUtteranceEncoding from the checkpoint of a model that you expect to be exactly identical (initializing a BertForSequenceClassification model from a BertForSequenceClassification model).\n",
      "Some weights of the model checkpoint at dsksd/bert-ko-small-minimal were not used when initializing BertForUtteranceEncoding: ['cls.predictions.bias', 'cls.predictions.transform.dense.weight', 'cls.predictions.transform.dense.bias', 'cls.predictions.transform.LayerNorm.weight', 'cls.predictions.transform.LayerNorm.bias', 'cls.predictions.decoder.weight', 'cls.predictions.decoder.bias', 'cls.seq_relationship.weight', 'cls.seq_relationship.bias']\n",
      "- This IS expected if you are initializing BertForUtteranceEncoding from the checkpoint of a model trained on another task or with another architecture (e.g. initializing a BertForSequenceClassification model from a BertForPreTraining model).\n",
      "- This IS NOT expected if you are initializing BertForUtteranceEncoding from the checkpoint of a model that you expect to be exactly identical (initializing a BertForSequenceClassification model from a BertForSequenceClassification model).\n",
      "/opt/conda/lib/python3.7/site-packages/torch/nn/modules/rnn.py:61: UserWarning: dropout option adds dropout after all but last recurrent layer, so non-zero dropout expects num_layers greater than 1, but got dropout=0.1 and num_layers=1\n",
      "  \"num_layers={}\".format(dropout, num_layers))\n"
     ]
    },
    {
     "name": "stdout",
     "output_type": "stream",
     "text": [
      "Complete initialization of slot and value lookup\n"
     ]
    },
    {
     "data": {
      "text/plain": [
       "[<wandb.wandb_torch.TorchGraph at 0x7f3a24941ed0>]"
      ]
     },
     "execution_count": 22,
     "metadata": {},
     "output_type": "execute_result"
    }
   ],
   "source": [
    "model = SUMBT(args, num_labels, device)\n",
    "model.initialize_slot_value_lookup(slot_values_ids, slot_type_ids)  # Tokenized Ontology의 Pre-encoding using BERT_SV\n",
    "model.to(device)\n",
    "\n",
    "wandb.watch(model)\n",
    "# print()"
   ]
  },
  {
   "cell_type": "markdown",
   "metadata": {
    "id": "ulJJGp5a6B7x"
   },
   "source": [
    "## 데이터 로더 정의"
   ]
  },
  {
   "cell_type": "code",
   "execution_count": 23,
   "metadata": {
    "id": "yBU7KP5A6B7y",
    "tags": []
   },
   "outputs": [],
   "source": [
    "from data_utils import WOSDataset\n",
    "from torch.utils.data import DataLoader, RandomSampler, SequentialSampler\n",
    "from transformers import AdamW, get_linear_schedule_with_warmup\n",
    "import random\n",
    "\n",
    "\n",
    "train_data = WOSDataset(train_features)\n",
    "train_sampler = RandomSampler(train_data)\n",
    "train_loader = DataLoader(train_data, batch_size=args.batch_size, sampler=train_sampler, collate_fn=processor.collate_fn)\n",
    "\n",
    "dev_data = WOSDataset(dev_features)\n",
    "dev_sampler = SequentialSampler(dev_data)\n",
    "dev_loader = DataLoader(dev_data, batch_size=8, sampler=dev_sampler, collate_fn=processor.collate_fn)"
   ]
  },
  {
   "cell_type": "markdown",
   "metadata": {
    "id": "RVQC_XUG6B7y"
   },
   "source": [
    "## Optimizer & Scheduler 선언 "
   ]
  },
  {
   "cell_type": "code",
   "execution_count": 24,
   "metadata": {
    "id": "wK-LWnHU6B7y",
    "tags": []
   },
   "outputs": [],
   "source": [
    "no_decay = [\"bias\", \"LayerNorm.weight\"]\n",
    "optimizer_grouped_parameters = [\n",
    "        {\n",
    "            \"params\": [p for n, p in model.named_parameters() if not any(nd in n for nd in no_decay)],\n",
    "            \"weight_decay\": args.weight_decay,\n",
    "        },\n",
    "        {\n",
    "            \"params\": [p for n, p in model.named_parameters() if any(nd in n for nd in no_decay)],\n",
    "            \"weight_decay\": 0.0,\n",
    "        },\n",
    "    ]\n",
    "\n",
    "t_total = len(train_loader) * n_epochs\n",
    "optimizer = AdamW(optimizer_grouped_parameters, lr=args.learning_rate, eps=1e-8)\n",
    "scheduler = get_linear_schedule_with_warmup(\n",
    "    optimizer, num_warmup_steps=int(t_total * args.warmup_ratio), num_training_steps=t_total\n",
    ")"
   ]
  },
  {
   "cell_type": "markdown",
   "metadata": {
    "id": "p-f0L44h6B7y"
   },
   "source": [
    "## TODO-3: Inference code 작성 "
   ]
  },
  {
   "cell_type": "code",
   "execution_count": 25,
   "metadata": {
    "id": "jCGuenx36B7y",
    "tags": []
   },
   "outputs": [],
   "source": [
    "from evaluation import _evaluation"
   ]
  },
  {
   "cell_type": "code",
   "execution_count": 26,
   "metadata": {
    "id": "LBXWTFHi6B7y",
    "tags": []
   },
   "outputs": [],
   "source": [
    "def inference(model, eval_loader, processor, device):\n",
    "    model.eval()\n",
    "    predictions = {}\n",
    "    for batch in eval_loader:\n",
    "        input_ids, segment_ids, input_masks, target_ids, num_turns, guids = \\\n",
    "        [b.to(device) if not isinstance(b, list) else b for b in batch]\n",
    "\n",
    "        with torch.no_grad():\n",
    "            _, pred_slot = model(\n",
    "                input_ids, segment_ids, input_masks, labels=None, n_gpu=1\n",
    "            )\n",
    "        \n",
    "        batch_size = input_ids.size(0)\n",
    "        for i in range(batch_size):\n",
    "            guid = guids[i]\n",
    "            states = processor.recover_state(pred_slot.tolist()[i], num_turns[i])\n",
    "            for tid, state in enumerate(states):\n",
    "                predictions[f\"{guid}-{tid}\"] = state\n",
    "    return predictions"
   ]
  },
  {
   "cell_type": "markdown",
   "metadata": {
    "id": "mW-qyUd_6B7y"
   },
   "source": [
    "## Training "
   ]
  },
  {
   "cell_type": "code",
   "execution_count": 27,
   "metadata": {},
   "outputs": [],
   "source": [
    "# model.load_state_dict(torch.load('20epoch.pth'))"
   ]
  },
  {
   "cell_type": "code",
   "execution_count": 28,
   "metadata": {
    "collapsed": true,
    "id": "S7tpx4426B7z",
    "jupyter": {
     "outputs_hidden": true
    },
    "outputId": "9538d5cc-c271-4176-e1a1-af2d1121c40c",
    "tags": []
   },
   "outputs": [
    {
     "name": "stderr",
     "output_type": "stream",
     "text": [
      "  0%|          | 0/526 [00:00<?, ?it/s]"
     ]
    },
    {
     "name": "stdout",
     "output_type": "stream",
     "text": [
      "[0/25] [0/526] 122.008194\n",
      "inferencing\n"
     ]
    },
    {
     "name": "stderr",
     "output_type": "stream",
     "text": [
      "  0%|          | 1/526 [00:31<4:38:30, 31.83s/it]"
     ]
    },
    {
     "name": "stdout",
     "output_type": "stream",
     "text": [
      "{'joint_goal_accuracy': 0.0, 'turn_slot_accuracy': 0.03896223316913063, 'turn_slot_f1': 0.05778458738865145}\n",
      "joint_goal_accuracy: 0.0\n",
      "turn_slot_accuracy: 0.03896223316913063\n",
      "turn_slot_f1: 0.05778458738865145\n"
     ]
    },
    {
     "name": "stderr",
     "output_type": "stream",
     "text": [
      " 19%|█▉        | 100/526 [03:03<10:54,  1.54s/it]"
     ]
    },
    {
     "name": "stdout",
     "output_type": "stream",
     "text": [
      "[0/25] [100/526] 47.043095\n",
      "inferencing\n",
      "{'joint_goal_accuracy': 0.019310344827586208, 'turn_slot_accuracy': 0.8205363984674218, 'turn_slot_f1': 0.019310344827586208}\n",
      "new best JGA score!  0.019310344827586208\n"
     ]
    },
    {
     "name": "stderr",
     "output_type": "stream",
     "text": [
      " 19%|█▉        | 101/526 [03:37<1:19:15, 11.19s/it]"
     ]
    },
    {
     "name": "stdout",
     "output_type": "stream",
     "text": [
      "joint_goal_accuracy: 0.019310344827586208\n",
      "turn_slot_accuracy: 0.8205363984674218\n",
      "turn_slot_f1: 0.019310344827586208\n"
     ]
    },
    {
     "name": "stderr",
     "output_type": "stream",
     "text": [
      " 38%|███▊      | 200/526 [06:09<08:20,  1.53s/it]  "
     ]
    },
    {
     "name": "stdout",
     "output_type": "stream",
     "text": [
      "[0/25] [200/526] 38.849449\n",
      "inferencing\n"
     ]
    },
    {
     "name": "stderr",
     "output_type": "stream",
     "text": [
      " 38%|███▊      | 201/526 [06:41<57:09, 10.55s/it]"
     ]
    },
    {
     "name": "stdout",
     "output_type": "stream",
     "text": [
      "{'joint_goal_accuracy': 0.019310344827586208, 'turn_slot_accuracy': 0.820996168582364, 'turn_slot_f1': 0.022702117045293565}\n",
      "joint_goal_accuracy: 0.019310344827586208\n",
      "turn_slot_accuracy: 0.820996168582364\n",
      "turn_slot_f1: 0.022702117045293565\n"
     ]
    },
    {
     "name": "stderr",
     "output_type": "stream",
     "text": [
      " 57%|█████▋    | 300/526 [09:13<05:46,  1.53s/it]"
     ]
    },
    {
     "name": "stdout",
     "output_type": "stream",
     "text": [
      "[0/25] [300/526] 34.605038\n",
      "inferencing\n"
     ]
    },
    {
     "name": "stderr",
     "output_type": "stream",
     "text": [
      " 57%|█████▋    | 301/526 [09:44<39:34, 10.55s/it]"
     ]
    },
    {
     "name": "stdout",
     "output_type": "stream",
     "text": [
      "{'joint_goal_accuracy': 0.019310344827586208, 'turn_slot_accuracy': 0.8260405035577393, 'turn_slot_f1': 0.07822979014820194}\n",
      "joint_goal_accuracy: 0.019310344827586208\n",
      "turn_slot_accuracy: 0.8260405035577393\n",
      "turn_slot_f1: 0.07822979014820194\n"
     ]
    },
    {
     "name": "stderr",
     "output_type": "stream",
     "text": [
      " 76%|███████▌  | 400/526 [12:16<03:13,  1.54s/it]"
     ]
    },
    {
     "name": "stdout",
     "output_type": "stream",
     "text": [
      "[0/25] [400/526] 27.276615\n",
      "inferencing\n",
      "{'joint_goal_accuracy': 0.020689655172413793, 'turn_slot_accuracy': 0.8402977558839664, 'turn_slot_f1': 0.18674548517773443}\n",
      "new best JGA score!  0.020689655172413793\n"
     ]
    },
    {
     "name": "stderr",
     "output_type": "stream",
     "text": [
      " 76%|███████▌  | 401/526 [12:50<23:18, 11.19s/it]"
     ]
    },
    {
     "name": "stdout",
     "output_type": "stream",
     "text": [
      "joint_goal_accuracy: 0.020689655172413793\n",
      "turn_slot_accuracy: 0.8402977558839664\n",
      "turn_slot_f1: 0.18674548517773443\n"
     ]
    },
    {
     "name": "stderr",
     "output_type": "stream",
     "text": [
      " 95%|█████████▌| 500/526 [15:22<00:39,  1.54s/it]"
     ]
    },
    {
     "name": "stdout",
     "output_type": "stream",
     "text": [
      "[0/25] [500/526] 27.157665\n",
      "inferencing\n",
      "{'joint_goal_accuracy': 0.02108374384236453, 'turn_slot_accuracy': 0.8468877941981428, 'turn_slot_f1': 0.2396193991148409}\n",
      "new best JGA score!  0.02108374384236453\n"
     ]
    },
    {
     "name": "stderr",
     "output_type": "stream",
     "text": [
      " 95%|█████████▌| 501/526 [15:56<04:40, 11.22s/it]"
     ]
    },
    {
     "name": "stdout",
     "output_type": "stream",
     "text": [
      "joint_goal_accuracy: 0.02108374384236453\n",
      "turn_slot_accuracy: 0.8468877941981428\n",
      "turn_slot_f1: 0.2396193991148409\n"
     ]
    },
    {
     "name": "stderr",
     "output_type": "stream",
     "text": [
      "100%|██████████| 526/526 [16:33<00:00,  1.89s/it]\n",
      "  0%|          | 0/526 [00:00<?, ?it/s]"
     ]
    },
    {
     "name": "stdout",
     "output_type": "stream",
     "text": [
      "[1/25] [0/526] 24.498058\n",
      "inferencing\n"
     ]
    },
    {
     "name": "stderr",
     "output_type": "stream",
     "text": [
      "  0%|          | 1/526 [00:31<4:36:44, 31.63s/it]"
     ]
    },
    {
     "name": "stdout",
     "output_type": "stream",
     "text": [
      "{'joint_goal_accuracy': 0.020492610837438422, 'turn_slot_accuracy': 0.8467476737821553, 'turn_slot_f1': 0.19621624814233468}\n",
      "joint_goal_accuracy: 0.020492610837438422\n",
      "turn_slot_accuracy: 0.8467476737821553\n",
      "turn_slot_f1: 0.19621624814233468\n"
     ]
    },
    {
     "name": "stderr",
     "output_type": "stream",
     "text": [
      " 19%|█▉        | 100/526 [03:03<10:54,  1.54s/it]"
     ]
    },
    {
     "name": "stdout",
     "output_type": "stream",
     "text": [
      "[1/25] [100/526] 21.133490\n",
      "inferencing\n",
      "{'joint_goal_accuracy': 0.024039408866995075, 'turn_slot_accuracy': 0.85648166392994, 'turn_slot_f1': 0.2851829567418528}\n",
      "new best JGA score!  0.024039408866995075\n"
     ]
    },
    {
     "name": "stderr",
     "output_type": "stream",
     "text": [
      " 19%|█▉        | 101/526 [03:37<1:19:44, 11.26s/it]"
     ]
    },
    {
     "name": "stdout",
     "output_type": "stream",
     "text": [
      "joint_goal_accuracy: 0.024039408866995075\n",
      "turn_slot_accuracy: 0.85648166392994\n",
      "turn_slot_f1: 0.2851829567418528\n"
     ]
    },
    {
     "name": "stderr",
     "output_type": "stream",
     "text": [
      " 38%|███▊      | 200/526 [06:10<08:20,  1.54s/it]  "
     ]
    },
    {
     "name": "stdout",
     "output_type": "stream",
     "text": [
      "[1/25] [200/526] 22.464117\n",
      "inferencing\n",
      "{'joint_goal_accuracy': 0.0445320197044335, 'turn_slot_accuracy': 0.8789928845101228, 'turn_slot_f1': 0.38845891338614286}\n",
      "new best JGA score!  0.0445320197044335\n"
     ]
    },
    {
     "name": "stderr",
     "output_type": "stream",
     "text": [
      " 38%|███▊      | 201/526 [06:43<1:00:47, 11.22s/it]"
     ]
    },
    {
     "name": "stdout",
     "output_type": "stream",
     "text": [
      "joint_goal_accuracy: 0.0445320197044335\n",
      "turn_slot_accuracy: 0.8789928845101228\n",
      "turn_slot_f1: 0.38845891338614286\n"
     ]
    },
    {
     "name": "stderr",
     "output_type": "stream",
     "text": [
      " 57%|█████▋    | 300/526 [09:15<05:46,  1.53s/it]  "
     ]
    },
    {
     "name": "stdout",
     "output_type": "stream",
     "text": [
      "[1/25] [300/526] 17.755138\n",
      "inferencing\n",
      "{'joint_goal_accuracy': 0.0658128078817734, 'turn_slot_accuracy': 0.8995599343185589, 'turn_slot_f1': 0.5130460160169481}\n",
      "new best JGA score!  0.0658128078817734\n"
     ]
    },
    {
     "name": "stderr",
     "output_type": "stream",
     "text": [
      " 57%|█████▋    | 301/526 [09:49<41:58, 11.19s/it]"
     ]
    },
    {
     "name": "stdout",
     "output_type": "stream",
     "text": [
      "joint_goal_accuracy: 0.0658128078817734\n",
      "turn_slot_accuracy: 0.8995599343185589\n",
      "turn_slot_f1: 0.5130460160169481\n"
     ]
    },
    {
     "name": "stderr",
     "output_type": "stream",
     "text": [
      " 76%|███████▌  | 400/526 [12:21<03:13,  1.54s/it]"
     ]
    },
    {
     "name": "stdout",
     "output_type": "stream",
     "text": [
      "[1/25] [400/526] 17.858919\n",
      "inferencing\n",
      "{'joint_goal_accuracy': 0.12394088669950738, 'turn_slot_accuracy': 0.9168035030104054, 'turn_slot_f1': 0.607562572907826}\n",
      "new best JGA score!  0.12394088669950738\n"
     ]
    },
    {
     "name": "stderr",
     "output_type": "stream",
     "text": [
      " 76%|███████▌  | 401/526 [12:55<23:19, 11.20s/it]"
     ]
    },
    {
     "name": "stdout",
     "output_type": "stream",
     "text": [
      "joint_goal_accuracy: 0.12394088669950738\n",
      "turn_slot_accuracy: 0.9168035030104054\n",
      "turn_slot_f1: 0.607562572907826\n"
     ]
    },
    {
     "name": "stderr",
     "output_type": "stream",
     "text": [
      " 95%|█████████▌| 500/526 [15:27<00:39,  1.54s/it]"
     ]
    },
    {
     "name": "stdout",
     "output_type": "stream",
     "text": [
      "[1/25] [500/526] 14.658987\n",
      "inferencing\n",
      "{'joint_goal_accuracy': 0.16492610837438423, 'turn_slot_accuracy': 0.9315205254515699, 'turn_slot_f1': 0.683943248245405}\n",
      "new best JGA score!  0.16492610837438423\n"
     ]
    },
    {
     "name": "stderr",
     "output_type": "stream",
     "text": [
      " 95%|█████████▌| 501/526 [16:01<04:40, 11.24s/it]"
     ]
    },
    {
     "name": "stdout",
     "output_type": "stream",
     "text": [
      "joint_goal_accuracy: 0.16492610837438423\n",
      "turn_slot_accuracy: 0.9315205254515699\n",
      "turn_slot_f1: 0.683943248245405\n"
     ]
    },
    {
     "name": "stderr",
     "output_type": "stream",
     "text": [
      "100%|██████████| 526/526 [16:38<00:00,  1.90s/it]\n",
      "  0%|          | 0/526 [00:00<?, ?it/s]"
     ]
    },
    {
     "name": "stdout",
     "output_type": "stream",
     "text": [
      "[2/25] [0/526] 13.281662\n",
      "inferencing\n"
     ]
    },
    {
     "name": "stderr",
     "output_type": "stream",
     "text": [
      "  0%|          | 1/526 [00:31<4:36:33, 31.61s/it]"
     ]
    },
    {
     "name": "stdout",
     "output_type": "stream",
     "text": [
      "{'joint_goal_accuracy': 0.15645320197044335, 'turn_slot_accuracy': 0.9298784893267736, 'turn_slot_f1': 0.6827849231209581}\n",
      "joint_goal_accuracy: 0.15645320197044335\n",
      "turn_slot_accuracy: 0.9298784893267736\n",
      "turn_slot_f1: 0.6827849231209581\n"
     ]
    },
    {
     "name": "stderr",
     "output_type": "stream",
     "text": [
      " 19%|█▉        | 100/526 [03:03<10:54,  1.54s/it]"
     ]
    },
    {
     "name": "stdout",
     "output_type": "stream",
     "text": [
      "[2/25] [100/526] 9.981441\n",
      "inferencing\n",
      "{'joint_goal_accuracy': 0.2122167487684729, 'turn_slot_accuracy': 0.9517766830870428, 'turn_slot_f1': 0.7849503714608119}\n",
      "new best JGA score!  0.2122167487684729\n"
     ]
    },
    {
     "name": "stderr",
     "output_type": "stream",
     "text": [
      " 19%|█▉        | 101/526 [03:37<1:19:25, 11.21s/it]"
     ]
    },
    {
     "name": "stdout",
     "output_type": "stream",
     "text": [
      "joint_goal_accuracy: 0.2122167487684729\n",
      "turn_slot_accuracy: 0.9517766830870428\n",
      "turn_slot_f1: 0.7849503714608119\n"
     ]
    },
    {
     "name": "stderr",
     "output_type": "stream",
     "text": [
      " 38%|███▊      | 200/526 [06:09<08:20,  1.54s/it]  "
     ]
    },
    {
     "name": "stdout",
     "output_type": "stream",
     "text": [
      "[2/25] [200/526] 10.284952\n",
      "inferencing\n",
      "{'joint_goal_accuracy': 0.2768472906403941, 'turn_slot_accuracy': 0.9597985769020428, 'turn_slot_f1': 0.8326654255456856}\n",
      "new best JGA score!  0.2768472906403941\n"
     ]
    },
    {
     "name": "stderr",
     "output_type": "stream",
     "text": [
      " 38%|███▊      | 201/526 [06:43<1:00:45, 11.22s/it]"
     ]
    },
    {
     "name": "stdout",
     "output_type": "stream",
     "text": [
      "joint_goal_accuracy: 0.2768472906403941\n",
      "turn_slot_accuracy: 0.9597985769020428\n",
      "turn_slot_f1: 0.8326654255456856\n"
     ]
    },
    {
     "name": "stderr",
     "output_type": "stream",
     "text": [
      " 57%|█████▋    | 300/526 [09:15<05:47,  1.54s/it]  "
     ]
    },
    {
     "name": "stdout",
     "output_type": "stream",
     "text": [
      "[2/25] [300/526] 8.326200\n",
      "inferencing\n",
      "{'joint_goal_accuracy': 0.33911330049261085, 'turn_slot_accuracy': 0.9676803503010573, 'turn_slot_f1': 0.86322111156551}\n",
      "new best JGA score!  0.33911330049261085\n"
     ]
    },
    {
     "name": "stderr",
     "output_type": "stream",
     "text": [
      " 57%|█████▋    | 301/526 [09:49<42:05, 11.22s/it]"
     ]
    },
    {
     "name": "stdout",
     "output_type": "stream",
     "text": [
      "joint_goal_accuracy: 0.33911330049261085\n",
      "turn_slot_accuracy: 0.9676803503010573\n",
      "turn_slot_f1: 0.86322111156551\n"
     ]
    },
    {
     "name": "stderr",
     "output_type": "stream",
     "text": [
      " 76%|███████▌  | 400/526 [12:21<03:13,  1.54s/it]"
     ]
    },
    {
     "name": "stdout",
     "output_type": "stream",
     "text": [
      "[2/25] [400/526] 8.585069\n",
      "inferencing\n",
      "{'joint_goal_accuracy': 0.4, 'turn_slot_accuracy': 0.9713541324575935, 'turn_slot_f1': 0.8790873362271333}\n",
      "new best JGA score!  0.4\n"
     ]
    },
    {
     "name": "stderr",
     "output_type": "stream",
     "text": [
      " 76%|███████▌  | 401/526 [12:55<23:19, 11.20s/it]"
     ]
    },
    {
     "name": "stdout",
     "output_type": "stream",
     "text": [
      "joint_goal_accuracy: 0.4\n",
      "turn_slot_accuracy: 0.9713541324575935\n",
      "turn_slot_f1: 0.8790873362271333\n"
     ]
    },
    {
     "name": "stderr",
     "output_type": "stream",
     "text": [
      " 95%|█████████▌| 500/526 [15:27<00:39,  1.53s/it]"
     ]
    },
    {
     "name": "stdout",
     "output_type": "stream",
     "text": [
      "[2/25] [500/526] 4.307240\n",
      "inferencing\n",
      "{'joint_goal_accuracy': 0.4484729064039409, 'turn_slot_accuracy': 0.975675971538057, 'turn_slot_f1': 0.8962181491156744}\n",
      "new best JGA score!  0.4484729064039409\n"
     ]
    },
    {
     "name": "stderr",
     "output_type": "stream",
     "text": [
      " 95%|█████████▌| 501/526 [16:01<04:40, 11.20s/it]"
     ]
    },
    {
     "name": "stdout",
     "output_type": "stream",
     "text": [
      "joint_goal_accuracy: 0.4484729064039409\n",
      "turn_slot_accuracy: 0.975675971538057\n",
      "turn_slot_f1: 0.8962181491156744\n"
     ]
    },
    {
     "name": "stderr",
     "output_type": "stream",
     "text": [
      "100%|██████████| 526/526 [16:38<00:00,  1.90s/it]\n",
      "  0%|          | 0/526 [00:00<?, ?it/s]"
     ]
    },
    {
     "name": "stdout",
     "output_type": "stream",
     "text": [
      "[3/25] [0/526] 5.330597\n",
      "inferencing\n",
      "{'joint_goal_accuracy': 0.47507389162561575, 'turn_slot_accuracy': 0.9774712643678278, 'turn_slot_f1': 0.9045543668944712}\n",
      "new best JGA score!  0.47507389162561575\n"
     ]
    },
    {
     "name": "stderr",
     "output_type": "stream",
     "text": [
      "  0%|          | 1/526 [00:33<4:55:24, 33.76s/it]"
     ]
    },
    {
     "name": "stdout",
     "output_type": "stream",
     "text": [
      "joint_goal_accuracy: 0.47507389162561575\n",
      "turn_slot_accuracy: 0.9774712643678278\n",
      "turn_slot_f1: 0.9045543668944712\n"
     ]
    },
    {
     "name": "stderr",
     "output_type": "stream",
     "text": [
      " 19%|█▉        | 100/526 [03:05<10:53,  1.53s/it]"
     ]
    },
    {
     "name": "stdout",
     "output_type": "stream",
     "text": [
      "[3/25] [100/526] 4.776783\n",
      "inferencing\n",
      "{'joint_goal_accuracy': 0.5355665024630542, 'turn_slot_accuracy': 0.9815610290093147, 'turn_slot_f1': 0.9219886175702413}\n",
      "new best JGA score!  0.5355665024630542\n"
     ]
    },
    {
     "name": "stderr",
     "output_type": "stream",
     "text": [
      " 19%|█▉        | 101/526 [03:39<1:19:22, 11.21s/it]"
     ]
    },
    {
     "name": "stdout",
     "output_type": "stream",
     "text": [
      "joint_goal_accuracy: 0.5355665024630542\n",
      "turn_slot_accuracy: 0.9815610290093147\n",
      "turn_slot_f1: 0.9219886175702413\n"
     ]
    },
    {
     "name": "stderr",
     "output_type": "stream",
     "text": [
      " 38%|███▊      | 200/526 [06:12<08:20,  1.54s/it]  "
     ]
    },
    {
     "name": "stdout",
     "output_type": "stream",
     "text": [
      "[3/25] [200/526] 5.057821\n",
      "inferencing\n",
      "{'joint_goal_accuracy': 0.578128078817734, 'turn_slot_accuracy': 0.9839124247400234, 'turn_slot_f1': 0.9332587631709873}\n",
      "new best JGA score!  0.578128078817734\n"
     ]
    },
    {
     "name": "stderr",
     "output_type": "stream",
     "text": [
      " 38%|███▊      | 201/526 [06:45<1:00:41, 11.20s/it]"
     ]
    },
    {
     "name": "stdout",
     "output_type": "stream",
     "text": [
      "joint_goal_accuracy: 0.578128078817734\n",
      "turn_slot_accuracy: 0.9839124247400234\n",
      "turn_slot_f1: 0.9332587631709873\n"
     ]
    },
    {
     "name": "stderr",
     "output_type": "stream",
     "text": [
      " 57%|█████▋    | 300/526 [09:17<05:46,  1.53s/it]  "
     ]
    },
    {
     "name": "stdout",
     "output_type": "stream",
     "text": [
      "[3/25] [300/526] 4.524399\n",
      "inferencing\n",
      "{'joint_goal_accuracy': 0.601576354679803, 'turn_slot_accuracy': 0.9857690202517881, 'turn_slot_f1': 0.9412458408379245}\n",
      "new best JGA score!  0.601576354679803\n"
     ]
    },
    {
     "name": "stderr",
     "output_type": "stream",
     "text": [
      " 57%|█████▋    | 301/526 [09:51<41:58, 11.19s/it]"
     ]
    },
    {
     "name": "stdout",
     "output_type": "stream",
     "text": [
      "joint_goal_accuracy: 0.601576354679803\n",
      "turn_slot_accuracy: 0.9857690202517881\n",
      "turn_slot_f1: 0.9412458408379245\n"
     ]
    },
    {
     "name": "stderr",
     "output_type": "stream",
     "text": [
      " 76%|███████▌  | 400/526 [12:23<03:13,  1.54s/it]"
     ]
    },
    {
     "name": "stdout",
     "output_type": "stream",
     "text": [
      "[3/25] [400/526] 3.091749\n",
      "inferencing\n",
      "{'joint_goal_accuracy': 0.661871921182266, 'turn_slot_accuracy': 0.988356869184463, 'turn_slot_f1': 0.9544621912869099}\n",
      "new best JGA score!  0.661871921182266\n"
     ]
    },
    {
     "name": "stderr",
     "output_type": "stream",
     "text": [
      " 76%|███████▌  | 401/526 [12:58<23:39, 11.36s/it]"
     ]
    },
    {
     "name": "stdout",
     "output_type": "stream",
     "text": [
      "joint_goal_accuracy: 0.661871921182266\n",
      "turn_slot_accuracy: 0.988356869184463\n",
      "turn_slot_f1: 0.9544621912869099\n"
     ]
    },
    {
     "name": "stderr",
     "output_type": "stream",
     "text": [
      " 95%|█████████▌| 500/526 [15:30<00:39,  1.54s/it]"
     ]
    },
    {
     "name": "stdout",
     "output_type": "stream",
     "text": [
      "[3/25] [500/526] 2.926061\n",
      "inferencing\n",
      "{'joint_goal_accuracy': 0.6935960591133005, 'turn_slot_accuracy': 0.9899507389162646, 'turn_slot_f1': 0.959832944468408}\n",
      "new best JGA score!  0.6935960591133005\n"
     ]
    },
    {
     "name": "stderr",
     "output_type": "stream",
     "text": [
      " 95%|█████████▌| 501/526 [16:04<04:40, 11.21s/it]"
     ]
    },
    {
     "name": "stdout",
     "output_type": "stream",
     "text": [
      "joint_goal_accuracy: 0.6935960591133005\n",
      "turn_slot_accuracy: 0.9899507389162646\n",
      "turn_slot_f1: 0.959832944468408\n"
     ]
    },
    {
     "name": "stderr",
     "output_type": "stream",
     "text": [
      "100%|██████████| 526/526 [16:41<00:00,  1.90s/it]\n",
      "  0%|          | 0/526 [00:00<?, ?it/s]"
     ]
    },
    {
     "name": "stdout",
     "output_type": "stream",
     "text": [
      "[4/25] [0/526] 2.470419\n",
      "inferencing\n",
      "{'joint_goal_accuracy': 0.7073891625615764, 'turn_slot_accuracy': 0.9901696770662378, 'turn_slot_f1': 0.9620353653032591}\n",
      "new best JGA score!  0.7073891625615764\n"
     ]
    },
    {
     "name": "stderr",
     "output_type": "stream",
     "text": [
      "  0%|          | 1/526 [00:33<4:55:39, 33.79s/it]"
     ]
    },
    {
     "name": "stdout",
     "output_type": "stream",
     "text": [
      "joint_goal_accuracy: 0.7073891625615764\n",
      "turn_slot_accuracy: 0.9901696770662378\n",
      "turn_slot_f1: 0.9620353653032591\n"
     ]
    },
    {
     "name": "stderr",
     "output_type": "stream",
     "text": [
      " 19%|█▉        | 100/526 [03:05<10:54,  1.54s/it]"
     ]
    },
    {
     "name": "stdout",
     "output_type": "stream",
     "text": [
      "[4/25] [100/526] 4.735694\n",
      "inferencing\n"
     ]
    },
    {
     "name": "stderr",
     "output_type": "stream",
     "text": [
      " 19%|█▉        | 101/526 [03:37<1:14:41, 10.54s/it]"
     ]
    },
    {
     "name": "stdout",
     "output_type": "stream",
     "text": [
      "{'joint_goal_accuracy': 0.694384236453202, 'turn_slot_accuracy': 0.989806239737281, 'turn_slot_f1': 0.9614197730780017}\n",
      "joint_goal_accuracy: 0.694384236453202\n",
      "turn_slot_accuracy: 0.989806239737281\n",
      "turn_slot_f1: 0.9614197730780017\n"
     ]
    },
    {
     "name": "stderr",
     "output_type": "stream",
     "text": [
      " 38%|███▊      | 200/526 [06:09<08:19,  1.53s/it]  "
     ]
    },
    {
     "name": "stdout",
     "output_type": "stream",
     "text": [
      "[4/25] [200/526] 2.573931\n",
      "inferencing\n",
      "{'joint_goal_accuracy': 0.7089655172413794, 'turn_slot_accuracy': 0.9901171319102455, 'turn_slot_f1': 0.9614685139994836}\n",
      "new best JGA score!  0.7089655172413794\n"
     ]
    },
    {
     "name": "stderr",
     "output_type": "stream",
     "text": [
      " 38%|███▊      | 201/526 [06:43<1:00:37, 11.19s/it]"
     ]
    },
    {
     "name": "stdout",
     "output_type": "stream",
     "text": [
      "joint_goal_accuracy: 0.7089655172413794\n",
      "turn_slot_accuracy: 0.9901171319102455\n",
      "turn_slot_f1: 0.9614685139994836\n"
     ]
    },
    {
     "name": "stderr",
     "output_type": "stream",
     "text": [
      " 57%|█████▋    | 300/526 [09:15<05:46,  1.53s/it]  "
     ]
    },
    {
     "name": "stdout",
     "output_type": "stream",
     "text": [
      "[4/25] [300/526] 3.882759\n",
      "inferencing\n",
      "{'joint_goal_accuracy': 0.7134975369458129, 'turn_slot_accuracy': 0.99030979748222, 'turn_slot_f1': 0.9644549362310922}\n",
      "new best JGA score!  0.7134975369458129\n"
     ]
    },
    {
     "name": "stderr",
     "output_type": "stream",
     "text": [
      " 57%|█████▋    | 301/526 [09:49<41:57, 11.19s/it]"
     ]
    },
    {
     "name": "stdout",
     "output_type": "stream",
     "text": [
      "joint_goal_accuracy: 0.7134975369458129\n",
      "turn_slot_accuracy: 0.99030979748222\n",
      "turn_slot_f1: 0.9644549362310922\n"
     ]
    },
    {
     "name": "stderr",
     "output_type": "stream",
     "text": [
      " 76%|███████▌  | 400/526 [12:21<03:13,  1.54s/it]"
     ]
    },
    {
     "name": "stdout",
     "output_type": "stream",
     "text": [
      "[4/25] [400/526] 2.227322\n",
      "inferencing\n",
      "{'joint_goal_accuracy': 0.7174384236453202, 'turn_slot_accuracy': 0.9905769020251872, 'turn_slot_f1': 0.9621524281614832}\n",
      "new best JGA score!  0.7174384236453202\n"
     ]
    },
    {
     "name": "stderr",
     "output_type": "stream",
     "text": [
      " 76%|███████▌  | 401/526 [12:55<23:21, 11.21s/it]"
     ]
    },
    {
     "name": "stdout",
     "output_type": "stream",
     "text": [
      "joint_goal_accuracy: 0.7174384236453202\n",
      "turn_slot_accuracy: 0.9905769020251872\n",
      "turn_slot_f1: 0.9621524281614832\n"
     ]
    },
    {
     "name": "stderr",
     "output_type": "stream",
     "text": [
      " 95%|█████████▌| 500/526 [15:27<00:39,  1.54s/it]"
     ]
    },
    {
     "name": "stdout",
     "output_type": "stream",
     "text": [
      "[4/25] [500/526] 1.642575\n",
      "inferencing\n",
      "{'joint_goal_accuracy': 0.744039408866995, 'turn_slot_accuracy': 0.9919518336070147, 'turn_slot_f1': 0.96829394170829}\n",
      "new best JGA score!  0.744039408866995\n"
     ]
    },
    {
     "name": "stderr",
     "output_type": "stream",
     "text": [
      " 95%|█████████▌| 501/526 [16:01<04:40, 11.21s/it]"
     ]
    },
    {
     "name": "stdout",
     "output_type": "stream",
     "text": [
      "joint_goal_accuracy: 0.744039408866995\n",
      "turn_slot_accuracy: 0.9919518336070147\n",
      "turn_slot_f1: 0.96829394170829\n"
     ]
    },
    {
     "name": "stderr",
     "output_type": "stream",
     "text": [
      "100%|██████████| 526/526 [16:38<00:00,  1.90s/it]\n",
      "  0%|          | 0/526 [00:00<?, ?it/s]"
     ]
    },
    {
     "name": "stdout",
     "output_type": "stream",
     "text": [
      "[5/25] [0/526] 2.278442\n",
      "inferencing\n"
     ]
    },
    {
     "name": "stderr",
     "output_type": "stream",
     "text": [
      "  0%|          | 1/526 [00:31<4:36:14, 31.57s/it]"
     ]
    },
    {
     "name": "stdout",
     "output_type": "stream",
     "text": [
      "{'joint_goal_accuracy': 0.7399014778325124, 'turn_slot_accuracy': 0.9913125342090945, 'turn_slot_f1': 0.967544160427625}\n",
      "joint_goal_accuracy: 0.7399014778325124\n",
      "turn_slot_accuracy: 0.9913125342090945\n",
      "turn_slot_f1: 0.967544160427625\n"
     ]
    },
    {
     "name": "stderr",
     "output_type": "stream",
     "text": [
      " 19%|█▉        | 100/526 [03:03<10:54,  1.54s/it]"
     ]
    },
    {
     "name": "stdout",
     "output_type": "stream",
     "text": [
      "[5/25] [100/526] 2.092332\n",
      "inferencing\n",
      "{'joint_goal_accuracy': 0.7574384236453202, 'turn_slot_accuracy': 0.9922627257799731, 'turn_slot_f1': 0.9703481531867019}\n",
      "new best JGA score!  0.7574384236453202\n"
     ]
    },
    {
     "name": "stderr",
     "output_type": "stream",
     "text": [
      " 19%|█▉        | 101/526 [03:37<1:19:22, 11.20s/it]"
     ]
    },
    {
     "name": "stdout",
     "output_type": "stream",
     "text": [
      "joint_goal_accuracy: 0.7574384236453202\n",
      "turn_slot_accuracy: 0.9922627257799731\n",
      "turn_slot_f1: 0.9703481531867019\n"
     ]
    },
    {
     "name": "stderr",
     "output_type": "stream",
     "text": [
      " 38%|███▊      | 200/526 [06:09<08:21,  1.54s/it]  "
     ]
    },
    {
     "name": "stdout",
     "output_type": "stream",
     "text": [
      "[5/25] [200/526] 1.921038\n",
      "inferencing\n"
     ]
    },
    {
     "name": "stderr",
     "output_type": "stream",
     "text": [
      " 38%|███▊      | 201/526 [06:41<57:07, 10.55s/it]"
     ]
    },
    {
     "name": "stdout",
     "output_type": "stream",
     "text": [
      "{'joint_goal_accuracy': 0.747192118226601, 'turn_slot_accuracy': 0.9920218938150032, 'turn_slot_f1': 0.9692436143821753}\n",
      "joint_goal_accuracy: 0.747192118226601\n",
      "turn_slot_accuracy: 0.9920218938150032\n",
      "turn_slot_f1: 0.9692436143821753\n"
     ]
    },
    {
     "name": "stderr",
     "output_type": "stream",
     "text": [
      " 57%|█████▋    | 300/526 [09:13<05:47,  1.54s/it]"
     ]
    },
    {
     "name": "stdout",
     "output_type": "stream",
     "text": [
      "[5/25] [300/526] 1.334854\n",
      "inferencing\n",
      "{'joint_goal_accuracy': 0.7666995073891626, 'turn_slot_accuracy': 0.9927312534209176, 'turn_slot_f1': 0.9719837393841041}\n",
      "new best JGA score!  0.7666995073891626\n"
     ]
    },
    {
     "name": "stderr",
     "output_type": "stream",
     "text": [
      " 57%|█████▋    | 301/526 [09:47<42:00, 11.20s/it]"
     ]
    },
    {
     "name": "stdout",
     "output_type": "stream",
     "text": [
      "joint_goal_accuracy: 0.7666995073891626\n",
      "turn_slot_accuracy: 0.9927312534209176\n",
      "turn_slot_f1: 0.9719837393841041\n"
     ]
    },
    {
     "name": "stderr",
     "output_type": "stream",
     "text": [
      " 76%|███████▌  | 400/526 [12:19<03:13,  1.54s/it]"
     ]
    },
    {
     "name": "stdout",
     "output_type": "stream",
     "text": [
      "[5/25] [400/526] 1.627242\n",
      "inferencing\n"
     ]
    },
    {
     "name": "stderr",
     "output_type": "stream",
     "text": [
      " 76%|███████▌  | 401/526 [12:51<21:58, 10.55s/it]"
     ]
    },
    {
     "name": "stdout",
     "output_type": "stream",
     "text": [
      "{'joint_goal_accuracy': 0.7487684729064039, 'turn_slot_accuracy': 0.9918160919540295, 'turn_slot_f1': 0.9684853551137395}\n",
      "joint_goal_accuracy: 0.7487684729064039\n",
      "turn_slot_accuracy: 0.9918160919540295\n",
      "turn_slot_f1: 0.9684853551137395\n"
     ]
    },
    {
     "name": "stderr",
     "output_type": "stream",
     "text": [
      " 95%|█████████▌| 500/526 [15:23<00:39,  1.54s/it]"
     ]
    },
    {
     "name": "stdout",
     "output_type": "stream",
     "text": [
      "[5/25] [500/526] 1.760462\n",
      "inferencing\n"
     ]
    },
    {
     "name": "stderr",
     "output_type": "stream",
     "text": [
      " 95%|█████████▌| 501/526 [15:54<04:23, 10.55s/it]"
     ]
    },
    {
     "name": "stdout",
     "output_type": "stream",
     "text": [
      "{'joint_goal_accuracy': 0.7550738916256158, 'turn_slot_accuracy': 0.9922408319649781, 'turn_slot_f1': 0.9691750208872085}\n",
      "joint_goal_accuracy: 0.7550738916256158\n",
      "turn_slot_accuracy: 0.9922408319649781\n",
      "turn_slot_f1: 0.9691750208872085\n"
     ]
    },
    {
     "name": "stderr",
     "output_type": "stream",
     "text": [
      "100%|██████████| 526/526 [16:31<00:00,  1.89s/it]\n",
      "  0%|          | 0/526 [00:00<?, ?it/s]"
     ]
    },
    {
     "name": "stdout",
     "output_type": "stream",
     "text": [
      "[6/25] [0/526] 1.738819\n",
      "inferencing\n"
     ]
    },
    {
     "name": "stderr",
     "output_type": "stream",
     "text": [
      "  0%|          | 1/526 [00:31<4:36:15, 31.57s/it]"
     ]
    },
    {
     "name": "stdout",
     "output_type": "stream",
     "text": [
      "{'joint_goal_accuracy': 0.7601970443349754, 'turn_slot_accuracy': 0.9925342090859414, 'turn_slot_f1': 0.9709685495312239}\n",
      "joint_goal_accuracy: 0.7601970443349754\n",
      "turn_slot_accuracy: 0.9925342090859414\n",
      "turn_slot_f1: 0.9709685495312239\n"
     ]
    },
    {
     "name": "stderr",
     "output_type": "stream",
     "text": [
      " 19%|█▉        | 100/526 [03:03<10:54,  1.54s/it]"
     ]
    },
    {
     "name": "stdout",
     "output_type": "stream",
     "text": [
      "[6/25] [100/526] 2.235587\n",
      "inferencing\n"
     ]
    },
    {
     "name": "stderr",
     "output_type": "stream",
     "text": [
      " 19%|█▉        | 101/526 [03:35<1:14:43, 10.55s/it]"
     ]
    },
    {
     "name": "stdout",
     "output_type": "stream",
     "text": [
      "{'joint_goal_accuracy': 0.7466009852216748, 'turn_slot_accuracy': 0.9919474548440157, 'turn_slot_f1': 0.9689321864037441}\n",
      "joint_goal_accuracy: 0.7466009852216748\n",
      "turn_slot_accuracy: 0.9919474548440157\n",
      "turn_slot_f1: 0.9689321864037441\n"
     ]
    },
    {
     "name": "stderr",
     "output_type": "stream",
     "text": [
      " 38%|███▊      | 200/526 [06:07<08:20,  1.53s/it]  "
     ]
    },
    {
     "name": "stdout",
     "output_type": "stream",
     "text": [
      "[6/25] [200/526] 1.868284\n",
      "inferencing\n"
     ]
    },
    {
     "name": "stderr",
     "output_type": "stream",
     "text": [
      " 38%|███▊      | 201/526 [06:39<57:07, 10.55s/it]"
     ]
    },
    {
     "name": "stdout",
     "output_type": "stream",
     "text": [
      "{'joint_goal_accuracy': 0.7566502463054188, 'turn_slot_accuracy': 0.9922671045429755, 'turn_slot_f1': 0.9697538993668888}\n",
      "joint_goal_accuracy: 0.7566502463054188\n",
      "turn_slot_accuracy: 0.9922671045429755\n",
      "turn_slot_f1: 0.9697538993668888\n"
     ]
    },
    {
     "name": "stderr",
     "output_type": "stream",
     "text": [
      " 57%|█████▋    | 300/526 [09:11<05:46,  1.54s/it]"
     ]
    },
    {
     "name": "stdout",
     "output_type": "stream",
     "text": [
      "[6/25] [300/526] 1.040709\n",
      "inferencing\n"
     ]
    },
    {
     "name": "stderr",
     "output_type": "stream",
     "text": [
      " 57%|█████▋    | 301/526 [09:42<39:32, 10.55s/it]"
     ]
    },
    {
     "name": "stdout",
     "output_type": "stream",
     "text": [
      "{'joint_goal_accuracy': 0.7635467980295566, 'turn_slot_accuracy': 0.9927181171319189, 'turn_slot_f1': 0.9719037039018712}\n",
      "joint_goal_accuracy: 0.7635467980295566\n",
      "turn_slot_accuracy: 0.9927181171319189\n",
      "turn_slot_f1: 0.9719037039018712\n"
     ]
    },
    {
     "name": "stderr",
     "output_type": "stream",
     "text": [
      " 76%|███████▌  | 400/526 [12:14<03:13,  1.54s/it]"
     ]
    },
    {
     "name": "stdout",
     "output_type": "stream",
     "text": [
      "[6/25] [400/526] 1.520730\n",
      "inferencing\n"
     ]
    },
    {
     "name": "stderr",
     "output_type": "stream",
     "text": [
      " 76%|███████▌  | 401/526 [12:46<21:58, 10.55s/it]"
     ]
    },
    {
     "name": "stdout",
     "output_type": "stream",
     "text": [
      "{'joint_goal_accuracy': 0.7540886699507389, 'turn_slot_accuracy': 0.9924028461959593, 'turn_slot_f1': 0.9695314321324718}\n",
      "joint_goal_accuracy: 0.7540886699507389\n",
      "turn_slot_accuracy: 0.9924028461959593\n",
      "turn_slot_f1: 0.9695314321324718\n"
     ]
    },
    {
     "name": "stderr",
     "output_type": "stream",
     "text": [
      " 95%|█████████▌| 500/526 [15:18<00:39,  1.54s/it]"
     ]
    },
    {
     "name": "stdout",
     "output_type": "stream",
     "text": [
      "[6/25] [500/526] 1.116300\n",
      "inferencing\n",
      "{'joint_goal_accuracy': 0.7779310344827586, 'turn_slot_accuracy': 0.9929414340448931, 'turn_slot_f1': 0.9729206751901961}\n",
      "new best JGA score!  0.7779310344827586\n"
     ]
    },
    {
     "name": "stderr",
     "output_type": "stream",
     "text": [
      " 95%|█████████▌| 501/526 [15:52<04:40, 11.21s/it]"
     ]
    },
    {
     "name": "stdout",
     "output_type": "stream",
     "text": [
      "joint_goal_accuracy: 0.7779310344827586\n",
      "turn_slot_accuracy: 0.9929414340448931\n",
      "turn_slot_f1: 0.9729206751901961\n"
     ]
    },
    {
     "name": "stderr",
     "output_type": "stream",
     "text": [
      "100%|██████████| 526/526 [16:29<00:00,  1.88s/it]\n",
      "  0%|          | 0/526 [00:00<?, ?it/s]"
     ]
    },
    {
     "name": "stdout",
     "output_type": "stream",
     "text": [
      "[7/25] [0/526] 1.676416\n",
      "inferencing\n"
     ]
    },
    {
     "name": "stderr",
     "output_type": "stream",
     "text": [
      "  0%|          | 1/526 [00:31<4:36:15, 31.57s/it]"
     ]
    },
    {
     "name": "stdout",
     "output_type": "stream",
     "text": [
      "{'joint_goal_accuracy': 0.7710344827586207, 'turn_slot_accuracy': 0.9928626163109018, 'turn_slot_f1': 0.9724253221161883}\n",
      "joint_goal_accuracy: 0.7710344827586207\n",
      "turn_slot_accuracy: 0.9928626163109018\n",
      "turn_slot_f1: 0.9724253221161883\n"
     ]
    },
    {
     "name": "stderr",
     "output_type": "stream",
     "text": [
      " 19%|█▉        | 100/526 [03:03<10:54,  1.54s/it]"
     ]
    },
    {
     "name": "stdout",
     "output_type": "stream",
     "text": [
      "[7/25] [100/526] 1.789270\n",
      "inferencing\n"
     ]
    },
    {
     "name": "stderr",
     "output_type": "stream",
     "text": [
      " 19%|█▉        | 101/526 [03:35<1:14:42, 10.55s/it]"
     ]
    },
    {
     "name": "stdout",
     "output_type": "stream",
     "text": [
      "{'joint_goal_accuracy': 0.7643349753694582, 'turn_slot_accuracy': 0.9926130268199328, 'turn_slot_f1': 0.9715115717293873}\n",
      "joint_goal_accuracy: 0.7643349753694582\n",
      "turn_slot_accuracy: 0.9926130268199328\n",
      "turn_slot_f1: 0.9715115717293873\n"
     ]
    },
    {
     "name": "stderr",
     "output_type": "stream",
     "text": [
      " 38%|███▊      | 200/526 [06:07<08:21,  1.54s/it]  "
     ]
    },
    {
     "name": "stdout",
     "output_type": "stream",
     "text": [
      "[7/25] [200/526] 2.514629\n",
      "inferencing\n"
     ]
    },
    {
     "name": "stderr",
     "output_type": "stream",
     "text": [
      " 38%|███▊      | 201/526 [06:38<57:06, 10.54s/it]"
     ]
    },
    {
     "name": "stdout",
     "output_type": "stream",
     "text": [
      "{'joint_goal_accuracy': 0.7718226600985222, 'turn_slot_accuracy': 0.9929064039408944, 'turn_slot_f1': 0.9719295383591855}\n",
      "joint_goal_accuracy: 0.7718226600985222\n",
      "turn_slot_accuracy: 0.9929064039408944\n",
      "turn_slot_f1: 0.9719295383591855\n"
     ]
    },
    {
     "name": "stderr",
     "output_type": "stream",
     "text": [
      " 57%|█████▋    | 300/526 [09:11<05:47,  1.54s/it]"
     ]
    },
    {
     "name": "stdout",
     "output_type": "stream",
     "text": [
      "[7/25] [300/526] 1.812333\n",
      "inferencing\n"
     ]
    },
    {
     "name": "stderr",
     "output_type": "stream",
     "text": [
      " 57%|█████▋    | 301/526 [09:42<39:32, 10.54s/it]"
     ]
    },
    {
     "name": "stdout",
     "output_type": "stream",
     "text": [
      "{'joint_goal_accuracy': 0.7469950738916256, 'turn_slot_accuracy': 0.992140120415992, 'turn_slot_f1': 0.9706317019854533}\n",
      "joint_goal_accuracy: 0.7469950738916256\n",
      "turn_slot_accuracy: 0.992140120415992\n",
      "turn_slot_f1: 0.9706317019854533\n"
     ]
    },
    {
     "name": "stderr",
     "output_type": "stream",
     "text": [
      " 76%|███████▌  | 400/526 [12:14<03:13,  1.53s/it]"
     ]
    },
    {
     "name": "stdout",
     "output_type": "stream",
     "text": [
      "[7/25] [400/526] 2.397815\n",
      "inferencing\n"
     ]
    },
    {
     "name": "stderr",
     "output_type": "stream",
     "text": [
      " 76%|███████▌  | 401/526 [12:46<21:57, 10.54s/it]"
     ]
    },
    {
     "name": "stdout",
     "output_type": "stream",
     "text": [
      "{'joint_goal_accuracy': 0.7710344827586207, 'turn_slot_accuracy': 0.9928713738369005, 'turn_slot_f1': 0.9722056634936203}\n",
      "joint_goal_accuracy: 0.7710344827586207\n",
      "turn_slot_accuracy: 0.9928713738369005\n",
      "turn_slot_f1: 0.9722056634936203\n"
     ]
    },
    {
     "name": "stderr",
     "output_type": "stream",
     "text": [
      " 95%|█████████▌| 500/526 [15:18<00:39,  1.54s/it]"
     ]
    },
    {
     "name": "stdout",
     "output_type": "stream",
     "text": [
      "[7/25] [500/526] 1.447885\n",
      "inferencing\n"
     ]
    },
    {
     "name": "stderr",
     "output_type": "stream",
     "text": [
      " 95%|█████████▌| 501/526 [15:50<04:23, 10.54s/it]"
     ]
    },
    {
     "name": "stdout",
     "output_type": "stream",
     "text": [
      "{'joint_goal_accuracy': 0.7680788177339901, 'turn_slot_accuracy': 0.9930377668308786, 'turn_slot_f1': 0.9730196804635972}\n",
      "joint_goal_accuracy: 0.7680788177339901\n",
      "turn_slot_accuracy: 0.9930377668308786\n",
      "turn_slot_f1: 0.9730196804635972\n"
     ]
    },
    {
     "name": "stderr",
     "output_type": "stream",
     "text": [
      "100%|██████████| 526/526 [16:27<00:00,  1.88s/it]\n",
      "  0%|          | 0/526 [00:00<?, ?it/s]"
     ]
    },
    {
     "name": "stdout",
     "output_type": "stream",
     "text": [
      "[8/25] [0/526] 1.222326\n",
      "inferencing\n",
      "{'joint_goal_accuracy': 0.7856157635467981, 'turn_slot_accuracy': 0.9936070060208078, 'turn_slot_f1': 0.9749502866807551}\n",
      "new best JGA score!  0.7856157635467981\n"
     ]
    },
    {
     "name": "stderr",
     "output_type": "stream",
     "text": [
      "  0%|          | 1/526 [00:33<4:55:13, 33.74s/it]"
     ]
    },
    {
     "name": "stdout",
     "output_type": "stream",
     "text": [
      "joint_goal_accuracy: 0.7856157635467981\n",
      "turn_slot_accuracy: 0.9936070060208078\n",
      "turn_slot_f1: 0.9749502866807551\n"
     ]
    },
    {
     "name": "stderr",
     "output_type": "stream",
     "text": [
      " 19%|█▉        | 100/526 [03:05<10:54,  1.54s/it]"
     ]
    },
    {
     "name": "stdout",
     "output_type": "stream",
     "text": [
      "[8/25] [100/526] 0.970231\n",
      "inferencing\n",
      "{'joint_goal_accuracy': 0.7925123152709359, 'turn_slot_accuracy': 0.9936858237547982, 'turn_slot_f1': 0.9752485749095764}\n",
      "new best JGA score!  0.7925123152709359\n"
     ]
    },
    {
     "name": "stderr",
     "output_type": "stream",
     "text": [
      " 19%|█▉        | 101/526 [03:39<1:19:25, 11.21s/it]"
     ]
    },
    {
     "name": "stdout",
     "output_type": "stream",
     "text": [
      "joint_goal_accuracy: 0.7925123152709359\n",
      "turn_slot_accuracy: 0.9936858237547982\n",
      "turn_slot_f1: 0.9752485749095764\n"
     ]
    },
    {
     "name": "stderr",
     "output_type": "stream",
     "text": [
      " 38%|███▊      | 200/526 [06:12<08:21,  1.54s/it]  "
     ]
    },
    {
     "name": "stdout",
     "output_type": "stream",
     "text": [
      "[8/25] [200/526] 0.939829\n",
      "inferencing\n"
     ]
    },
    {
     "name": "stderr",
     "output_type": "stream",
     "text": [
      " 38%|███▊      | 201/526 [06:43<57:11, 10.56s/it]"
     ]
    },
    {
     "name": "stdout",
     "output_type": "stream",
     "text": [
      "{'joint_goal_accuracy': 0.7842364532019704, 'turn_slot_accuracy': 0.9932961138478467, 'turn_slot_f1': 0.9737663864739233}\n",
      "joint_goal_accuracy: 0.7842364532019704\n",
      "turn_slot_accuracy: 0.9932961138478467\n",
      "turn_slot_f1: 0.9737663864739233\n"
     ]
    },
    {
     "name": "stderr",
     "output_type": "stream",
     "text": [
      " 57%|█████▋    | 300/526 [09:15<05:47,  1.54s/it]"
     ]
    },
    {
     "name": "stdout",
     "output_type": "stream",
     "text": [
      "[8/25] [300/526] 1.094521\n",
      "inferencing\n"
     ]
    },
    {
     "name": "stderr",
     "output_type": "stream",
     "text": [
      " 57%|█████▋    | 301/526 [09:47<39:35, 10.56s/it]"
     ]
    },
    {
     "name": "stdout",
     "output_type": "stream",
     "text": [
      "{'joint_goal_accuracy': 0.7885714285714286, 'turn_slot_accuracy': 0.9932829775588466, 'turn_slot_f1': 0.9737485052778794}\n",
      "joint_goal_accuracy: 0.7885714285714286\n",
      "turn_slot_accuracy: 0.9932829775588466\n",
      "turn_slot_f1: 0.9737485052778794\n"
     ]
    },
    {
     "name": "stderr",
     "output_type": "stream",
     "text": [
      " 76%|███████▌  | 400/526 [12:19<03:13,  1.54s/it]"
     ]
    },
    {
     "name": "stdout",
     "output_type": "stream",
     "text": [
      "[8/25] [400/526] 0.823849\n",
      "inferencing\n"
     ]
    },
    {
     "name": "stderr",
     "output_type": "stream",
     "text": [
      " 76%|███████▌  | 401/526 [12:51<21:58, 10.55s/it]"
     ]
    },
    {
     "name": "stdout",
     "output_type": "stream",
     "text": [
      "{'joint_goal_accuracy': 0.7806896551724138, 'turn_slot_accuracy': 0.992976464148887, 'turn_slot_f1': 0.9728947687619417}\n",
      "joint_goal_accuracy: 0.7806896551724138\n",
      "turn_slot_accuracy: 0.992976464148887\n",
      "turn_slot_f1: 0.9728947687619417\n"
     ]
    },
    {
     "name": "stderr",
     "output_type": "stream",
     "text": [
      " 95%|█████████▌| 500/526 [15:23<00:39,  1.54s/it]"
     ]
    },
    {
     "name": "stdout",
     "output_type": "stream",
     "text": [
      "[8/25] [500/526] 0.867204\n",
      "inferencing\n"
     ]
    },
    {
     "name": "stderr",
     "output_type": "stream",
     "text": [
      " 95%|█████████▌| 501/526 [15:55<04:23, 10.55s/it]"
     ]
    },
    {
     "name": "stdout",
     "output_type": "stream",
     "text": [
      "{'joint_goal_accuracy': 0.7793103448275862, 'turn_slot_accuracy': 0.9932041598248558, 'turn_slot_f1': 0.9740305154979512}\n",
      "joint_goal_accuracy: 0.7793103448275862\n",
      "turn_slot_accuracy: 0.9932041598248558\n",
      "turn_slot_f1: 0.9740305154979512\n"
     ]
    },
    {
     "name": "stderr",
     "output_type": "stream",
     "text": [
      "100%|██████████| 526/526 [16:32<00:00,  1.89s/it]\n",
      "  0%|          | 0/526 [00:00<?, ?it/s]"
     ]
    },
    {
     "name": "stdout",
     "output_type": "stream",
     "text": [
      "[9/25] [0/526] 1.441202\n",
      "inferencing\n"
     ]
    },
    {
     "name": "stderr",
     "output_type": "stream",
     "text": [
      "  0%|          | 1/526 [00:31<4:36:23, 31.59s/it]"
     ]
    },
    {
     "name": "stdout",
     "output_type": "stream",
     "text": [
      "{'joint_goal_accuracy': 0.7714285714285715, 'turn_slot_accuracy': 0.9928845101258976, 'turn_slot_f1': 0.9730890898775549}\n",
      "joint_goal_accuracy: 0.7714285714285715\n",
      "turn_slot_accuracy: 0.9928845101258976\n",
      "turn_slot_f1: 0.9730890898775549\n"
     ]
    },
    {
     "name": "stderr",
     "output_type": "stream",
     "text": [
      " 19%|█▉        | 100/526 [03:03<10:55,  1.54s/it]"
     ]
    },
    {
     "name": "stdout",
     "output_type": "stream",
     "text": [
      "[9/25] [100/526] 0.801733\n",
      "inferencing\n"
     ]
    },
    {
     "name": "stderr",
     "output_type": "stream",
     "text": [
      " 19%|█▉        | 101/526 [03:35<1:14:44, 10.55s/it]"
     ]
    },
    {
     "name": "stdout",
     "output_type": "stream",
     "text": [
      "{'joint_goal_accuracy': 0.7816748768472906, 'turn_slot_accuracy': 0.9931209633278683, 'turn_slot_f1': 0.974089306257691}\n",
      "joint_goal_accuracy: 0.7816748768472906\n",
      "turn_slot_accuracy: 0.9931209633278683\n",
      "turn_slot_f1: 0.974089306257691\n"
     ]
    },
    {
     "name": "stderr",
     "output_type": "stream",
     "text": [
      " 38%|███▊      | 200/526 [06:07<08:20,  1.54s/it]  "
     ]
    },
    {
     "name": "stdout",
     "output_type": "stream",
     "text": [
      "[9/25] [200/526] 1.522675\n",
      "inferencing\n"
     ]
    },
    {
     "name": "stderr",
     "output_type": "stream",
     "text": [
      " 38%|███▊      | 201/526 [06:39<57:11, 10.56s/it]"
     ]
    },
    {
     "name": "stdout",
     "output_type": "stream",
     "text": [
      "{'joint_goal_accuracy': 0.7883743842364532, 'turn_slot_accuracy': 0.9931297208538675, 'turn_slot_f1': 0.9736677679632126}\n",
      "joint_goal_accuracy: 0.7883743842364532\n",
      "turn_slot_accuracy: 0.9931297208538675\n",
      "turn_slot_f1: 0.9736677679632126\n"
     ]
    },
    {
     "name": "stderr",
     "output_type": "stream",
     "text": [
      " 57%|█████▋    | 300/526 [09:11<05:47,  1.54s/it]"
     ]
    },
    {
     "name": "stdout",
     "output_type": "stream",
     "text": [
      "[9/25] [300/526] 1.399984\n",
      "inferencing\n"
     ]
    },
    {
     "name": "stderr",
     "output_type": "stream",
     "text": [
      " 57%|█████▋    | 301/526 [09:42<39:35, 10.56s/it]"
     ]
    },
    {
     "name": "stdout",
     "output_type": "stream",
     "text": [
      "{'joint_goal_accuracy': 0.7787192118226601, 'turn_slot_accuracy': 0.9931822660098597, 'turn_slot_f1': 0.9745124234253143}\n",
      "joint_goal_accuracy: 0.7787192118226601\n",
      "turn_slot_accuracy: 0.9931822660098597\n",
      "turn_slot_f1: 0.9745124234253143\n"
     ]
    },
    {
     "name": "stderr",
     "output_type": "stream",
     "text": [
      " 76%|███████▌  | 400/526 [12:15<03:13,  1.54s/it]"
     ]
    },
    {
     "name": "stdout",
     "output_type": "stream",
     "text": [
      "[9/25] [400/526] 1.086773\n",
      "inferencing\n"
     ]
    },
    {
     "name": "stderr",
     "output_type": "stream",
     "text": [
      " 76%|███████▌  | 401/526 [12:46<21:59, 10.56s/it]"
     ]
    },
    {
     "name": "stdout",
     "output_type": "stream",
     "text": [
      "{'joint_goal_accuracy': 0.7820689655172414, 'turn_slot_accuracy': 0.9930465243568767, 'turn_slot_f1': 0.9740279397681467}\n",
      "joint_goal_accuracy: 0.7820689655172414\n",
      "turn_slot_accuracy: 0.9930465243568767\n",
      "turn_slot_f1: 0.9740279397681467\n"
     ]
    },
    {
     "name": "stderr",
     "output_type": "stream",
     "text": [
      " 95%|█████████▌| 500/526 [15:18<00:39,  1.54s/it]"
     ]
    },
    {
     "name": "stdout",
     "output_type": "stream",
     "text": [
      "[9/25] [500/526] 1.187544\n",
      "inferencing\n"
     ]
    },
    {
     "name": "stderr",
     "output_type": "stream",
     "text": [
      " 95%|█████████▌| 501/526 [15:50<04:23, 10.55s/it]"
     ]
    },
    {
     "name": "stdout",
     "output_type": "stream",
     "text": [
      "{'joint_goal_accuracy': 0.7824630541871921, 'turn_slot_accuracy': 0.9931603721948625, 'turn_slot_f1': 0.9735151283399259}\n",
      "joint_goal_accuracy: 0.7824630541871921\n",
      "turn_slot_accuracy: 0.9931603721948625\n",
      "turn_slot_f1: 0.9735151283399259\n"
     ]
    },
    {
     "name": "stderr",
     "output_type": "stream",
     "text": [
      "100%|██████████| 526/526 [16:27<00:00,  1.88s/it]\n",
      "  0%|          | 0/526 [00:00<?, ?it/s]"
     ]
    },
    {
     "name": "stdout",
     "output_type": "stream",
     "text": [
      "[10/25] [0/526] 1.087064\n",
      "inferencing\n",
      "{'joint_goal_accuracy': 0.7952709359605912, 'turn_slot_accuracy': 0.9935106732348208, 'turn_slot_f1': 0.9751432713855962}\n",
      "new best JGA score!  0.7952709359605912\n"
     ]
    },
    {
     "name": "stderr",
     "output_type": "stream",
     "text": [
      "  0%|          | 1/526 [00:33<4:55:08, 33.73s/it]"
     ]
    },
    {
     "name": "stdout",
     "output_type": "stream",
     "text": [
      "joint_goal_accuracy: 0.7952709359605912\n",
      "turn_slot_accuracy: 0.9935106732348208\n",
      "turn_slot_f1: 0.9751432713855962\n"
     ]
    },
    {
     "name": "stderr",
     "output_type": "stream",
     "text": [
      " 19%|█▉        | 100/526 [03:05<10:54,  1.54s/it]"
     ]
    },
    {
     "name": "stdout",
     "output_type": "stream",
     "text": [
      "[10/25] [100/526] 1.475111\n",
      "inferencing\n",
      "{'joint_goal_accuracy': 0.7996059113300492, 'turn_slot_accuracy': 0.9937821565407859, 'turn_slot_f1': 0.9766791973058976}\n",
      "new best JGA score!  0.7996059113300492\n"
     ]
    },
    {
     "name": "stderr",
     "output_type": "stream",
     "text": [
      " 19%|█▉        | 101/526 [03:39<1:19:29, 11.22s/it]"
     ]
    },
    {
     "name": "stdout",
     "output_type": "stream",
     "text": [
      "joint_goal_accuracy: 0.7996059113300492\n",
      "turn_slot_accuracy: 0.9937821565407859\n",
      "turn_slot_f1: 0.9766791973058976\n"
     ]
    },
    {
     "name": "stderr",
     "output_type": "stream",
     "text": [
      " 38%|███▊      | 200/526 [06:12<08:20,  1.54s/it]  "
     ]
    },
    {
     "name": "stdout",
     "output_type": "stream",
     "text": [
      "[10/25] [200/526] 0.790311\n",
      "inferencing\n"
     ]
    },
    {
     "name": "stderr",
     "output_type": "stream",
     "text": [
      " 38%|███▊      | 201/526 [06:43<57:09, 10.55s/it]"
     ]
    },
    {
     "name": "stdout",
     "output_type": "stream",
     "text": [
      "{'joint_goal_accuracy': 0.7862068965517242, 'turn_slot_accuracy': 0.9932391899288541, 'turn_slot_f1': 0.9746664421866961}\n",
      "joint_goal_accuracy: 0.7862068965517242\n",
      "turn_slot_accuracy: 0.9932391899288541\n",
      "turn_slot_f1: 0.9746664421866961\n"
     ]
    },
    {
     "name": "stderr",
     "output_type": "stream",
     "text": [
      " 57%|█████▋    | 300/526 [09:16<05:47,  1.54s/it]"
     ]
    },
    {
     "name": "stdout",
     "output_type": "stream",
     "text": [
      "[10/25] [300/526] 0.650152\n",
      "inferencing\n"
     ]
    },
    {
     "name": "stderr",
     "output_type": "stream",
     "text": [
      " 57%|█████▋    | 301/526 [09:47<39:34, 10.55s/it]"
     ]
    },
    {
     "name": "stdout",
     "output_type": "stream",
     "text": [
      "{'joint_goal_accuracy': 0.7860098522167488, 'turn_slot_accuracy': 0.9934012041598352, 'turn_slot_f1': 0.9745176400248993}\n",
      "joint_goal_accuracy: 0.7860098522167488\n",
      "turn_slot_accuracy: 0.9934012041598352\n",
      "turn_slot_f1: 0.9745176400248993\n"
     ]
    },
    {
     "name": "stderr",
     "output_type": "stream",
     "text": [
      " 76%|███████▌  | 400/526 [12:20<03:13,  1.54s/it]"
     ]
    },
    {
     "name": "stdout",
     "output_type": "stream",
     "text": [
      "[10/25] [400/526] 0.524738\n",
      "inferencing\n"
     ]
    },
    {
     "name": "stderr",
     "output_type": "stream",
     "text": [
      " 76%|███████▌  | 401/526 [12:51<21:59, 10.56s/it]"
     ]
    },
    {
     "name": "stdout",
     "output_type": "stream",
     "text": [
      "{'joint_goal_accuracy': 0.7923152709359605, 'turn_slot_accuracy': 0.9936332785988066, 'turn_slot_f1': 0.9757512748795006}\n",
      "joint_goal_accuracy: 0.7923152709359605\n",
      "turn_slot_accuracy: 0.9936332785988066\n",
      "turn_slot_f1: 0.9757512748795006\n"
     ]
    },
    {
     "name": "stderr",
     "output_type": "stream",
     "text": [
      " 95%|█████████▌| 500/526 [15:24<00:39,  1.54s/it]"
     ]
    },
    {
     "name": "stdout",
     "output_type": "stream",
     "text": [
      "[10/25] [500/526] 0.424523\n",
      "inferencing\n"
     ]
    },
    {
     "name": "stderr",
     "output_type": "stream",
     "text": [
      " 95%|█████████▌| 501/526 [15:56<04:27, 10.70s/it]"
     ]
    },
    {
     "name": "stdout",
     "output_type": "stream",
     "text": [
      "{'joint_goal_accuracy': 0.7903448275862069, 'turn_slot_accuracy': 0.9935281882868182, 'turn_slot_f1': 0.9753592919937445}\n",
      "joint_goal_accuracy: 0.7903448275862069\n",
      "turn_slot_accuracy: 0.9935281882868182\n",
      "turn_slot_f1: 0.9753592919937445\n"
     ]
    },
    {
     "name": "stderr",
     "output_type": "stream",
     "text": [
      "100%|██████████| 526/526 [16:33<00:00,  1.89s/it]\n",
      "  0%|          | 0/526 [00:00<?, ?it/s]"
     ]
    },
    {
     "name": "stdout",
     "output_type": "stream",
     "text": [
      "[11/25] [0/526] 1.023458\n",
      "inferencing\n"
     ]
    },
    {
     "name": "stderr",
     "output_type": "stream",
     "text": [
      "  0%|          | 1/526 [00:31<4:36:25, 31.59s/it]"
     ]
    },
    {
     "name": "stdout",
     "output_type": "stream",
     "text": [
      "{'joint_goal_accuracy': 0.7933004926108375, 'turn_slot_accuracy': 0.9935938697318092, 'turn_slot_f1': 0.9759715529389735}\n",
      "joint_goal_accuracy: 0.7933004926108375\n",
      "turn_slot_accuracy: 0.9935938697318092\n",
      "turn_slot_f1: 0.9759715529389735\n"
     ]
    },
    {
     "name": "stderr",
     "output_type": "stream",
     "text": [
      " 19%|█▉        | 100/526 [03:04<10:54,  1.54s/it]"
     ]
    },
    {
     "name": "stdout",
     "output_type": "stream",
     "text": [
      "[11/25] [100/526] 0.635712\n",
      "inferencing\n"
     ]
    },
    {
     "name": "stderr",
     "output_type": "stream",
     "text": [
      " 19%|█▉        | 101/526 [03:35<1:14:44, 10.55s/it]"
     ]
    },
    {
     "name": "stdout",
     "output_type": "stream",
     "text": [
      "{'joint_goal_accuracy': 0.7968472906403941, 'turn_slot_accuracy': 0.9935982484948094, 'turn_slot_f1': 0.9753714179142826}\n",
      "joint_goal_accuracy: 0.7968472906403941\n",
      "turn_slot_accuracy: 0.9935982484948094\n",
      "turn_slot_f1: 0.9753714179142826\n"
     ]
    },
    {
     "name": "stderr",
     "output_type": "stream",
     "text": [
      " 38%|███▊      | 200/526 [06:07<08:21,  1.54s/it]  "
     ]
    },
    {
     "name": "stdout",
     "output_type": "stream",
     "text": [
      "[11/25] [200/526] 0.695252\n",
      "inferencing\n"
     ]
    },
    {
     "name": "stderr",
     "output_type": "stream",
     "text": [
      " 38%|███▊      | 201/526 [06:39<57:10, 10.55s/it]"
     ]
    },
    {
     "name": "stdout",
     "output_type": "stream",
     "text": [
      "{'joint_goal_accuracy': 0.7929064039408867, 'turn_slot_accuracy': 0.9937077175697958, 'turn_slot_f1': 0.9757631097550931}\n",
      "joint_goal_accuracy: 0.7929064039408867\n",
      "turn_slot_accuracy: 0.9937077175697958\n",
      "turn_slot_f1: 0.9757631097550931\n"
     ]
    },
    {
     "name": "stderr",
     "output_type": "stream",
     "text": [
      " 57%|█████▋    | 300/526 [09:11<05:47,  1.54s/it]"
     ]
    },
    {
     "name": "stdout",
     "output_type": "stream",
     "text": [
      "[11/25] [300/526] 1.208681\n",
      "inferencing\n",
      "{'joint_goal_accuracy': 0.8003940886699508, 'turn_slot_accuracy': 0.9936814449917967, 'turn_slot_f1': 0.9766357401190698}\n",
      "new best JGA score!  0.8003940886699508\n"
     ]
    },
    {
     "name": "stderr",
     "output_type": "stream",
     "text": [
      " 57%|█████▋    | 301/526 [09:45<42:03, 11.22s/it]"
     ]
    },
    {
     "name": "stdout",
     "output_type": "stream",
     "text": [
      "joint_goal_accuracy: 0.8003940886699508\n",
      "turn_slot_accuracy: 0.9936814449917967\n",
      "turn_slot_f1: 0.9766357401190698\n"
     ]
    },
    {
     "name": "stderr",
     "output_type": "stream",
     "text": [
      " 76%|███████▌  | 400/526 [12:18<03:13,  1.54s/it]"
     ]
    },
    {
     "name": "stdout",
     "output_type": "stream",
     "text": [
      "[11/25] [400/526] 0.678237\n",
      "inferencing\n"
     ]
    },
    {
     "name": "stderr",
     "output_type": "stream",
     "text": [
      " 76%|███████▌  | 401/526 [12:49<21:59, 10.55s/it]"
     ]
    },
    {
     "name": "stdout",
     "output_type": "stream",
     "text": [
      "{'joint_goal_accuracy': 0.7958620689655173, 'turn_slot_accuracy': 0.9935632183908133, 'turn_slot_f1': 0.9757331700723784}\n",
      "joint_goal_accuracy: 0.7958620689655173\n",
      "turn_slot_accuracy: 0.9935632183908133\n",
      "turn_slot_f1: 0.9757331700723784\n"
     ]
    },
    {
     "name": "stderr",
     "output_type": "stream",
     "text": [
      " 95%|█████████▌| 500/526 [15:21<00:39,  1.54s/it]"
     ]
    },
    {
     "name": "stdout",
     "output_type": "stream",
     "text": [
      "[11/25] [500/526] 0.509508\n",
      "inferencing\n"
     ]
    },
    {
     "name": "stderr",
     "output_type": "stream",
     "text": [
      " 95%|█████████▌| 501/526 [15:53<04:23, 10.55s/it]"
     ]
    },
    {
     "name": "stdout",
     "output_type": "stream",
     "text": [
      "{'joint_goal_accuracy': 0.7933004926108375, 'turn_slot_accuracy': 0.9934362342638285, 'turn_slot_f1': 0.9749380781812141}\n",
      "joint_goal_accuracy: 0.7933004926108375\n",
      "turn_slot_accuracy: 0.9934362342638285\n",
      "turn_slot_f1: 0.9749380781812141\n"
     ]
    },
    {
     "name": "stderr",
     "output_type": "stream",
     "text": [
      "100%|██████████| 526/526 [16:30<00:00,  1.88s/it]\n",
      "  0%|          | 0/526 [00:00<?, ?it/s]"
     ]
    },
    {
     "name": "stdout",
     "output_type": "stream",
     "text": [
      "[12/25] [0/526] 0.810934\n",
      "inferencing\n",
      "{'joint_goal_accuracy': 0.8013793103448276, 'turn_slot_accuracy': 0.9936902025177977, 'turn_slot_f1': 0.9761525975155433}\n",
      "new best JGA score!  0.8013793103448276\n"
     ]
    },
    {
     "name": "stderr",
     "output_type": "stream",
     "text": [
      "  0%|          | 1/526 [00:33<4:55:48, 33.81s/it]"
     ]
    },
    {
     "name": "stdout",
     "output_type": "stream",
     "text": [
      "joint_goal_accuracy: 0.8013793103448276\n",
      "turn_slot_accuracy: 0.9936902025177977\n",
      "turn_slot_f1: 0.9761525975155433\n"
     ]
    },
    {
     "name": "stderr",
     "output_type": "stream",
     "text": [
      " 19%|█▉        | 100/526 [03:05<10:54,  1.54s/it]"
     ]
    },
    {
     "name": "stdout",
     "output_type": "stream",
     "text": [
      "[12/25] [100/526] 0.696397\n",
      "inferencing\n"
     ]
    },
    {
     "name": "stderr",
     "output_type": "stream",
     "text": [
      " 19%|█▉        | 101/526 [03:37<1:14:46, 10.56s/it]"
     ]
    },
    {
     "name": "stdout",
     "output_type": "stream",
     "text": [
      "{'joint_goal_accuracy': 0.7879802955665025, 'turn_slot_accuracy': 0.993388067870836, 'turn_slot_f1': 0.973889545120218}\n",
      "joint_goal_accuracy: 0.7879802955665025\n",
      "turn_slot_accuracy: 0.993388067870836\n",
      "turn_slot_f1: 0.973889545120218\n"
     ]
    },
    {
     "name": "stderr",
     "output_type": "stream",
     "text": [
      " 38%|███▊      | 200/526 [06:09<08:20,  1.54s/it]  "
     ]
    },
    {
     "name": "stdout",
     "output_type": "stream",
     "text": [
      "[12/25] [200/526] 0.737758\n",
      "inferencing\n"
     ]
    },
    {
     "name": "stderr",
     "output_type": "stream",
     "text": [
      " 38%|███▊      | 201/526 [06:41<57:10, 10.55s/it]"
     ]
    },
    {
     "name": "stdout",
     "output_type": "stream",
     "text": [
      "{'joint_goal_accuracy': 0.8007881773399015, 'turn_slot_accuracy': 0.9937602627257878, 'turn_slot_f1': 0.9755836690214654}\n",
      "joint_goal_accuracy: 0.8007881773399015\n",
      "turn_slot_accuracy: 0.9937602627257878\n",
      "turn_slot_f1: 0.9755836690214654\n"
     ]
    },
    {
     "name": "stderr",
     "output_type": "stream",
     "text": [
      " 57%|█████▋    | 300/526 [09:13<05:47,  1.54s/it]"
     ]
    },
    {
     "name": "stdout",
     "output_type": "stream",
     "text": [
      "[12/25] [300/526] 0.830124\n",
      "inferencing\n"
     ]
    },
    {
     "name": "stderr",
     "output_type": "stream",
     "text": [
      " 57%|█████▋    | 301/526 [09:45<39:34, 10.55s/it]"
     ]
    },
    {
     "name": "stdout",
     "output_type": "stream",
     "text": [
      "{'joint_goal_accuracy': 0.8009852216748768, 'turn_slot_accuracy': 0.9937383689107921, 'turn_slot_f1': 0.9763040729508246}\n",
      "joint_goal_accuracy: 0.8009852216748768\n",
      "turn_slot_accuracy: 0.9937383689107921\n",
      "turn_slot_f1: 0.9763040729508246\n"
     ]
    },
    {
     "name": "stderr",
     "output_type": "stream",
     "text": [
      " 76%|███████▌  | 400/526 [12:17<03:14,  1.54s/it]"
     ]
    },
    {
     "name": "stdout",
     "output_type": "stream",
     "text": [
      "[12/25] [400/526] 0.805638\n",
      "inferencing\n",
      "{'joint_goal_accuracy': 0.8084729064039409, 'turn_slot_accuracy': 0.9940711548987496, 'turn_slot_f1': 0.9777086435111988}\n",
      "new best JGA score!  0.8084729064039409\n"
     ]
    },
    {
     "name": "stderr",
     "output_type": "stream",
     "text": [
      " 76%|███████▌  | 401/526 [12:51<23:22, 11.22s/it]"
     ]
    },
    {
     "name": "stdout",
     "output_type": "stream",
     "text": [
      "joint_goal_accuracy: 0.8084729064039409\n",
      "turn_slot_accuracy: 0.9940711548987496\n",
      "turn_slot_f1: 0.9777086435111988\n"
     ]
    },
    {
     "name": "stderr",
     "output_type": "stream",
     "text": [
      " 95%|█████████▌| 500/526 [15:23<00:40,  1.54s/it]"
     ]
    },
    {
     "name": "stdout",
     "output_type": "stream",
     "text": [
      "[12/25] [500/526] 0.425837\n",
      "inferencing\n"
     ]
    },
    {
     "name": "stderr",
     "output_type": "stream",
     "text": [
      " 95%|█████████▌| 501/526 [15:55<04:23, 10.56s/it]"
     ]
    },
    {
     "name": "stdout",
     "output_type": "stream",
     "text": [
      "{'joint_goal_accuracy': 0.8017733990147783, 'turn_slot_accuracy': 0.9937164750957944, 'turn_slot_f1': 0.9758613197500564}\n",
      "joint_goal_accuracy: 0.8017733990147783\n",
      "turn_slot_accuracy: 0.9937164750957944\n",
      "turn_slot_f1: 0.9758613197500564\n"
     ]
    },
    {
     "name": "stderr",
     "output_type": "stream",
     "text": [
      "100%|██████████| 526/526 [16:32<00:00,  1.89s/it]\n",
      "  0%|          | 0/526 [00:00<?, ?it/s]"
     ]
    },
    {
     "name": "stdout",
     "output_type": "stream",
     "text": [
      "[13/25] [0/526] 0.600087\n",
      "inferencing\n"
     ]
    },
    {
     "name": "stderr",
     "output_type": "stream",
     "text": [
      "  0%|          | 1/526 [00:31<4:36:40, 31.62s/it]"
     ]
    },
    {
     "name": "stdout",
     "output_type": "stream",
     "text": [
      "{'joint_goal_accuracy': 0.8049261083743843, 'turn_slot_accuracy': 0.9940142309797579, 'turn_slot_f1': 0.9768718227315708}\n",
      "joint_goal_accuracy: 0.8049261083743843\n",
      "turn_slot_accuracy: 0.9940142309797579\n",
      "turn_slot_f1: 0.9768718227315708\n"
     ]
    },
    {
     "name": "stderr",
     "output_type": "stream",
     "text": [
      " 19%|█▉        | 100/526 [03:03<10:54,  1.54s/it]"
     ]
    },
    {
     "name": "stdout",
     "output_type": "stream",
     "text": [
      "[13/25] [100/526] 0.683605\n",
      "inferencing\n"
     ]
    },
    {
     "name": "stderr",
     "output_type": "stream",
     "text": [
      " 19%|█▉        | 101/526 [03:35<1:14:46, 10.56s/it]"
     ]
    },
    {
     "name": "stdout",
     "output_type": "stream",
     "text": [
      "{'joint_goal_accuracy': 0.7954679802955665, 'turn_slot_accuracy': 0.9936420361248041, 'turn_slot_f1': 0.9758203548645643}\n",
      "joint_goal_accuracy: 0.7954679802955665\n",
      "turn_slot_accuracy: 0.9936420361248041\n",
      "turn_slot_f1: 0.9758203548645643\n"
     ]
    },
    {
     "name": "stderr",
     "output_type": "stream",
     "text": [
      " 38%|███▊      | 200/526 [06:07<08:23,  1.55s/it]  "
     ]
    },
    {
     "name": "stdout",
     "output_type": "stream",
     "text": [
      "[13/25] [200/526] 0.676159\n",
      "inferencing\n"
     ]
    },
    {
     "name": "stderr",
     "output_type": "stream",
     "text": [
      " 38%|███▊      | 201/526 [06:39<57:13, 10.57s/it]"
     ]
    },
    {
     "name": "stdout",
     "output_type": "stream",
     "text": [
      "{'joint_goal_accuracy': 0.797832512315271, 'turn_slot_accuracy': 0.9935062944718198, 'turn_slot_f1': 0.9761369551244178}\n",
      "joint_goal_accuracy: 0.797832512315271\n",
      "turn_slot_accuracy: 0.9935062944718198\n",
      "turn_slot_f1: 0.9761369551244178\n"
     ]
    },
    {
     "name": "stderr",
     "output_type": "stream",
     "text": [
      " 57%|█████▋    | 300/526 [09:11<05:47,  1.54s/it]"
     ]
    },
    {
     "name": "stdout",
     "output_type": "stream",
     "text": [
      "[13/25] [300/526] 0.406438\n",
      "inferencing\n"
     ]
    },
    {
     "name": "stderr",
     "output_type": "stream",
     "text": [
      " 57%|█████▋    | 301/526 [09:43<39:34, 10.56s/it]"
     ]
    },
    {
     "name": "stdout",
     "output_type": "stream",
     "text": [
      "{'joint_goal_accuracy': 0.8023645320197045, 'turn_slot_accuracy': 0.9938215654077827, 'turn_slot_f1': 0.9766674938903182}\n",
      "joint_goal_accuracy: 0.8023645320197045\n",
      "turn_slot_accuracy: 0.9938215654077827\n",
      "turn_slot_f1: 0.9766674938903182\n"
     ]
    },
    {
     "name": "stderr",
     "output_type": "stream",
     "text": [
      " 76%|███████▌  | 400/526 [12:15<03:13,  1.54s/it]"
     ]
    },
    {
     "name": "stdout",
     "output_type": "stream",
     "text": [
      "[13/25] [400/526] 0.533827\n",
      "inferencing\n"
     ]
    },
    {
     "name": "stderr",
     "output_type": "stream",
     "text": [
      " 76%|███████▌  | 401/526 [12:47<21:59, 10.56s/it]"
     ]
    },
    {
     "name": "stdout",
     "output_type": "stream",
     "text": [
      "{'joint_goal_accuracy': 0.8029556650246306, 'turn_slot_accuracy': 0.9938916256157719, 'turn_slot_f1': 0.9766715781989385}\n",
      "joint_goal_accuracy: 0.8029556650246306\n",
      "turn_slot_accuracy: 0.9938916256157719\n",
      "turn_slot_f1: 0.9766715781989385\n"
     ]
    },
    {
     "name": "stderr",
     "output_type": "stream",
     "text": [
      " 95%|█████████▌| 500/526 [15:19<00:39,  1.54s/it]"
     ]
    },
    {
     "name": "stdout",
     "output_type": "stream",
     "text": [
      "[13/25] [500/526] 0.935513\n",
      "inferencing\n"
     ]
    },
    {
     "name": "stderr",
     "output_type": "stream",
     "text": [
      " 95%|█████████▌| 501/526 [15:51<04:23, 10.55s/it]"
     ]
    },
    {
     "name": "stdout",
     "output_type": "stream",
     "text": [
      "{'joint_goal_accuracy': 0.7919211822660098, 'turn_slot_accuracy': 0.9936639299398, 'turn_slot_f1': 0.9753121231959401}\n",
      "joint_goal_accuracy: 0.7919211822660098\n",
      "turn_slot_accuracy: 0.9936639299398\n",
      "turn_slot_f1: 0.9753121231959401\n"
     ]
    },
    {
     "name": "stderr",
     "output_type": "stream",
     "text": [
      "100%|██████████| 526/526 [16:28<00:00,  1.88s/it]\n",
      "  0%|          | 0/526 [00:00<?, ?it/s]"
     ]
    },
    {
     "name": "stdout",
     "output_type": "stream",
     "text": [
      "[14/25] [0/526] 0.788690\n",
      "inferencing\n"
     ]
    },
    {
     "name": "stderr",
     "output_type": "stream",
     "text": [
      "  0%|          | 1/526 [00:31<4:36:31, 31.60s/it]"
     ]
    },
    {
     "name": "stdout",
     "output_type": "stream",
     "text": [
      "{'joint_goal_accuracy': 0.7960591133004926, 'turn_slot_accuracy': 0.9935894909688088, 'turn_slot_f1': 0.9759881100062374}\n",
      "joint_goal_accuracy: 0.7960591133004926\n",
      "turn_slot_accuracy: 0.9935894909688088\n",
      "turn_slot_f1: 0.9759881100062374\n"
     ]
    },
    {
     "name": "stderr",
     "output_type": "stream",
     "text": [
      " 19%|█▉        | 100/526 [03:03<10:54,  1.54s/it]"
     ]
    },
    {
     "name": "stdout",
     "output_type": "stream",
     "text": [
      "[14/25] [100/526] 0.792437\n",
      "inferencing\n"
     ]
    },
    {
     "name": "stderr",
     "output_type": "stream",
     "text": [
      " 19%|█▉        | 101/526 [03:35<1:14:47, 10.56s/it]"
     ]
    },
    {
     "name": "stdout",
     "output_type": "stream",
     "text": [
      "{'joint_goal_accuracy': 0.8072906403940887, 'turn_slot_accuracy': 0.9940886699507481, 'turn_slot_f1': 0.977269965445522}\n",
      "joint_goal_accuracy: 0.8072906403940887\n",
      "turn_slot_accuracy: 0.9940886699507481\n",
      "turn_slot_f1: 0.977269965445522\n"
     ]
    },
    {
     "name": "stderr",
     "output_type": "stream",
     "text": [
      " 38%|███▊      | 200/526 [06:07<08:20,  1.54s/it]  "
     ]
    },
    {
     "name": "stdout",
     "output_type": "stream",
     "text": [
      "[14/25] [200/526] 0.485423\n",
      "inferencing\n"
     ]
    },
    {
     "name": "stderr",
     "output_type": "stream",
     "text": [
      " 38%|███▊      | 201/526 [06:39<57:11, 10.56s/it]"
     ]
    },
    {
     "name": "stdout",
     "output_type": "stream",
     "text": [
      "{'joint_goal_accuracy': 0.8072906403940887, 'turn_slot_accuracy': 0.9938434592227776, 'turn_slot_f1': 0.9773343561729618}\n",
      "joint_goal_accuracy: 0.8072906403940887\n",
      "turn_slot_accuracy: 0.9938434592227776\n",
      "turn_slot_f1: 0.9773343561729618\n"
     ]
    },
    {
     "name": "stderr",
     "output_type": "stream",
     "text": [
      " 57%|█████▋    | 300/526 [09:11<05:47,  1.54s/it]"
     ]
    },
    {
     "name": "stdout",
     "output_type": "stream",
     "text": [
      "[14/25] [300/526] 0.449495\n",
      "inferencing\n"
     ]
    },
    {
     "name": "stderr",
     "output_type": "stream",
     "text": [
      " 57%|█████▋    | 301/526 [09:43<39:35, 10.56s/it]"
     ]
    },
    {
     "name": "stdout",
     "output_type": "stream",
     "text": [
      "{'joint_goal_accuracy': 0.8082758620689655, 'turn_slot_accuracy': 0.9940273672687558, 'turn_slot_f1': 0.9773827591130413}\n",
      "joint_goal_accuracy: 0.8082758620689655\n",
      "turn_slot_accuracy: 0.9940273672687558\n",
      "turn_slot_f1: 0.9773827591130413\n"
     ]
    },
    {
     "name": "stderr",
     "output_type": "stream",
     "text": [
      " 76%|███████▌  | 400/526 [12:15<03:13,  1.54s/it]"
     ]
    },
    {
     "name": "stdout",
     "output_type": "stream",
     "text": [
      "[14/25] [400/526] 0.885672\n",
      "inferencing\n"
     ]
    },
    {
     "name": "stderr",
     "output_type": "stream",
     "text": [
      " 76%|███████▌  | 401/526 [12:46<21:59, 10.56s/it]"
     ]
    },
    {
     "name": "stdout",
     "output_type": "stream",
     "text": [
      "{'joint_goal_accuracy': 0.7976354679802956, 'turn_slot_accuracy': 0.9937515051997895, 'turn_slot_f1': 0.9763095249015579}\n",
      "joint_goal_accuracy: 0.7976354679802956\n",
      "turn_slot_accuracy: 0.9937515051997895\n",
      "turn_slot_f1: 0.9763095249015579\n"
     ]
    },
    {
     "name": "stderr",
     "output_type": "stream",
     "text": [
      " 95%|█████████▌| 500/526 [15:18<00:39,  1.54s/it]"
     ]
    },
    {
     "name": "stdout",
     "output_type": "stream",
     "text": [
      "[14/25] [500/526] 0.604143\n",
      "inferencing\n"
     ]
    },
    {
     "name": "stderr",
     "output_type": "stream",
     "text": [
      " 95%|█████████▌| 501/526 [15:50<04:23, 10.56s/it]"
     ]
    },
    {
     "name": "stdout",
     "output_type": "stream",
     "text": [
      "{'joint_goal_accuracy': 0.7988177339901478, 'turn_slot_accuracy': 0.9937339901477934, 'turn_slot_f1': 0.9760272159330619}\n",
      "joint_goal_accuracy: 0.7988177339901478\n",
      "turn_slot_accuracy: 0.9937339901477934\n",
      "turn_slot_f1: 0.9760272159330619\n"
     ]
    },
    {
     "name": "stderr",
     "output_type": "stream",
     "text": [
      "100%|██████████| 526/526 [16:27<00:00,  1.88s/it]\n",
      "  0%|          | 0/526 [00:00<?, ?it/s]"
     ]
    },
    {
     "name": "stdout",
     "output_type": "stream",
     "text": [
      "[15/25] [0/526] 0.585326\n",
      "inferencing\n"
     ]
    },
    {
     "name": "stderr",
     "output_type": "stream",
     "text": [
      "  0%|          | 1/526 [00:31<4:36:28, 31.60s/it]"
     ]
    },
    {
     "name": "stdout",
     "output_type": "stream",
     "text": [
      "{'joint_goal_accuracy': 0.8011822660098522, 'turn_slot_accuracy': 0.9939354132457676, 'turn_slot_f1': 0.9765069144784264}\n",
      "joint_goal_accuracy: 0.8011822660098522\n",
      "turn_slot_accuracy: 0.9939354132457676\n",
      "turn_slot_f1: 0.9765069144784264\n"
     ]
    },
    {
     "name": "stderr",
     "output_type": "stream",
     "text": [
      " 19%|█▉        | 100/526 [03:03<10:54,  1.54s/it]"
     ]
    },
    {
     "name": "stdout",
     "output_type": "stream",
     "text": [
      "[15/25] [100/526] 0.607741\n",
      "inferencing\n"
     ]
    },
    {
     "name": "stderr",
     "output_type": "stream",
     "text": [
      " 19%|█▉        | 101/526 [03:35<1:14:45, 10.55s/it]"
     ]
    },
    {
     "name": "stdout",
     "output_type": "stream",
     "text": [
      "{'joint_goal_accuracy': 0.7986206896551724, 'turn_slot_accuracy': 0.993847837985779, 'turn_slot_f1': 0.9762064111593483}\n",
      "joint_goal_accuracy: 0.7986206896551724\n",
      "turn_slot_accuracy: 0.993847837985779\n",
      "turn_slot_f1: 0.9762064111593483\n"
     ]
    },
    {
     "name": "stderr",
     "output_type": "stream",
     "text": [
      " 38%|███▊      | 200/526 [06:07<08:20,  1.54s/it]  "
     ]
    },
    {
     "name": "stdout",
     "output_type": "stream",
     "text": [
      "[15/25] [200/526] 0.229082\n",
      "inferencing\n"
     ]
    },
    {
     "name": "stderr",
     "output_type": "stream",
     "text": [
      " 38%|███▊      | 201/526 [06:39<57:11, 10.56s/it]"
     ]
    },
    {
     "name": "stdout",
     "output_type": "stream",
     "text": [
      "{'joint_goal_accuracy': 0.8041379310344827, 'turn_slot_accuracy': 0.9938828680897741, 'turn_slot_f1': 0.9765050122892325}\n",
      "joint_goal_accuracy: 0.8041379310344827\n",
      "turn_slot_accuracy: 0.9938828680897741\n",
      "turn_slot_f1: 0.9765050122892325\n"
     ]
    },
    {
     "name": "stderr",
     "output_type": "stream",
     "text": [
      " 57%|█████▋    | 300/526 [09:11<05:48,  1.54s/it]"
     ]
    },
    {
     "name": "stdout",
     "output_type": "stream",
     "text": [
      "[15/25] [300/526] 0.750695\n",
      "inferencing\n"
     ]
    },
    {
     "name": "stderr",
     "output_type": "stream",
     "text": [
      " 57%|█████▋    | 301/526 [09:43<39:36, 10.56s/it]"
     ]
    },
    {
     "name": "stdout",
     "output_type": "stream",
     "text": [
      "{'joint_goal_accuracy': 0.8070935960591133, 'turn_slot_accuracy': 0.9940186097427557, 'turn_slot_f1': 0.9767224055617089}\n",
      "joint_goal_accuracy: 0.8070935960591133\n",
      "turn_slot_accuracy: 0.9940186097427557\n",
      "turn_slot_f1: 0.9767224055617089\n"
     ]
    },
    {
     "name": "stderr",
     "output_type": "stream",
     "text": [
      " 76%|███████▌  | 400/526 [12:15<03:13,  1.54s/it]"
     ]
    },
    {
     "name": "stdout",
     "output_type": "stream",
     "text": [
      "[15/25] [400/526] 0.717047\n",
      "inferencing\n"
     ]
    },
    {
     "name": "stderr",
     "output_type": "stream",
     "text": [
      " 76%|███████▌  | 401/526 [12:46<21:59, 10.56s/it]"
     ]
    },
    {
     "name": "stdout",
     "output_type": "stream",
     "text": [
      "{'joint_goal_accuracy': 0.8039408866995074, 'turn_slot_accuracy': 0.9939354132457661, 'turn_slot_f1': 0.9759715110279928}\n",
      "joint_goal_accuracy: 0.8039408866995074\n",
      "turn_slot_accuracy: 0.9939354132457661\n",
      "turn_slot_f1: 0.9759715110279928\n"
     ]
    },
    {
     "name": "stderr",
     "output_type": "stream",
     "text": [
      " 95%|█████████▌| 500/526 [15:18<00:40,  1.54s/it]"
     ]
    },
    {
     "name": "stdout",
     "output_type": "stream",
     "text": [
      "[15/25] [500/526] 0.530813\n",
      "inferencing\n",
      "{'joint_goal_accuracy': 0.8173399014778325, 'turn_slot_accuracy': 0.9942463054187273, 'turn_slot_f1': 0.9783984172150603}\n",
      "new best JGA score!  0.8173399014778325\n"
     ]
    },
    {
     "name": "stderr",
     "output_type": "stream",
     "text": [
      " 95%|█████████▌| 501/526 [15:52<04:40, 11.21s/it]"
     ]
    },
    {
     "name": "stdout",
     "output_type": "stream",
     "text": [
      "joint_goal_accuracy: 0.8173399014778325\n",
      "turn_slot_accuracy: 0.9942463054187273\n",
      "turn_slot_f1: 0.9783984172150603\n"
     ]
    },
    {
     "name": "stderr",
     "output_type": "stream",
     "text": [
      "100%|██████████| 526/526 [16:29<00:00,  1.88s/it]\n",
      "  0%|          | 0/526 [00:00<?, ?it/s]"
     ]
    },
    {
     "name": "stdout",
     "output_type": "stream",
     "text": [
      "[16/25] [0/526] 0.424189\n",
      "inferencing\n"
     ]
    },
    {
     "name": "stderr",
     "output_type": "stream",
     "text": [
      "  0%|          | 1/526 [00:31<4:36:33, 31.61s/it]"
     ]
    },
    {
     "name": "stdout",
     "output_type": "stream",
     "text": [
      "{'joint_goal_accuracy': 0.8059113300492611, 'turn_slot_accuracy': 0.993974822112763, 'turn_slot_f1': 0.9767726871069488}\n",
      "joint_goal_accuracy: 0.8059113300492611\n",
      "turn_slot_accuracy: 0.993974822112763\n",
      "turn_slot_f1: 0.9767726871069488\n"
     ]
    },
    {
     "name": "stderr",
     "output_type": "stream",
     "text": [
      " 19%|█▉        | 100/526 [03:03<10:54,  1.54s/it]"
     ]
    },
    {
     "name": "stdout",
     "output_type": "stream",
     "text": [
      "[16/25] [100/526] 0.356144\n",
      "inferencing\n"
     ]
    },
    {
     "name": "stderr",
     "output_type": "stream",
     "text": [
      " 19%|█▉        | 101/526 [03:35<1:14:46, 10.56s/it]"
     ]
    },
    {
     "name": "stdout",
     "output_type": "stream",
     "text": [
      "{'joint_goal_accuracy': 0.809064039408867, 'turn_slot_accuracy': 0.9941018062397462, 'turn_slot_f1': 0.97737617356621}\n",
      "joint_goal_accuracy: 0.809064039408867\n",
      "turn_slot_accuracy: 0.9941018062397462\n",
      "turn_slot_f1: 0.97737617356621\n"
     ]
    },
    {
     "name": "stderr",
     "output_type": "stream",
     "text": [
      " 38%|███▊      | 200/526 [06:07<08:21,  1.54s/it]  "
     ]
    },
    {
     "name": "stdout",
     "output_type": "stream",
     "text": [
      "[16/25] [200/526] 0.544452\n",
      "inferencing\n"
     ]
    },
    {
     "name": "stderr",
     "output_type": "stream",
     "text": [
      " 38%|███▊      | 201/526 [06:39<57:11, 10.56s/it]"
     ]
    },
    {
     "name": "stdout",
     "output_type": "stream",
     "text": [
      "{'joint_goal_accuracy': 0.7958620689655173, 'turn_slot_accuracy': 0.9936201423098072, 'turn_slot_f1': 0.9759096323328994}\n",
      "joint_goal_accuracy: 0.7958620689655173\n",
      "turn_slot_accuracy: 0.9936201423098072\n",
      "turn_slot_f1: 0.9759096323328994\n"
     ]
    },
    {
     "name": "stderr",
     "output_type": "stream",
     "text": [
      " 57%|█████▋    | 300/526 [09:11<05:47,  1.54s/it]"
     ]
    },
    {
     "name": "stdout",
     "output_type": "stream",
     "text": [
      "[16/25] [300/526] 0.666287\n",
      "inferencing\n"
     ]
    },
    {
     "name": "stderr",
     "output_type": "stream",
     "text": [
      " 57%|█████▋    | 301/526 [09:43<39:35, 10.56s/it]"
     ]
    },
    {
     "name": "stdout",
     "output_type": "stream",
     "text": [
      "{'joint_goal_accuracy': 0.8061083743842364, 'turn_slot_accuracy': 0.9939397920087649, 'turn_slot_f1': 0.9771388433918974}\n",
      "joint_goal_accuracy: 0.8061083743842364\n",
      "turn_slot_accuracy: 0.9939397920087649\n",
      "turn_slot_f1: 0.9771388433918974\n"
     ]
    },
    {
     "name": "stderr",
     "output_type": "stream",
     "text": [
      " 76%|███████▌  | 400/526 [12:15<03:13,  1.54s/it]"
     ]
    },
    {
     "name": "stdout",
     "output_type": "stream",
     "text": [
      "[16/25] [400/526] 0.318549\n",
      "inferencing\n"
     ]
    },
    {
     "name": "stderr",
     "output_type": "stream",
     "text": [
      " 76%|███████▌  | 401/526 [12:47<21:59, 10.56s/it]"
     ]
    },
    {
     "name": "stdout",
     "output_type": "stream",
     "text": [
      "{'joint_goal_accuracy': 0.8072906403940887, 'turn_slot_accuracy': 0.9939923371647593, 'turn_slot_f1': 0.9770504200609417}\n",
      "joint_goal_accuracy: 0.8072906403940887\n",
      "turn_slot_accuracy: 0.9939923371647593\n",
      "turn_slot_f1: 0.9770504200609417\n"
     ]
    },
    {
     "name": "stderr",
     "output_type": "stream",
     "text": [
      " 95%|█████████▌| 500/526 [15:19<00:39,  1.54s/it]"
     ]
    },
    {
     "name": "stdout",
     "output_type": "stream",
     "text": [
      "[16/25] [500/526] 0.463944\n",
      "inferencing\n"
     ]
    },
    {
     "name": "stderr",
     "output_type": "stream",
     "text": [
      " 95%|█████████▌| 501/526 [15:50<04:23, 10.56s/it]"
     ]
    },
    {
     "name": "stdout",
     "output_type": "stream",
     "text": [
      "{'joint_goal_accuracy': 0.8045320197044334, 'turn_slot_accuracy': 0.9939748221127618, 'turn_slot_f1': 0.9765643767124269}\n",
      "joint_goal_accuracy: 0.8045320197044334\n",
      "turn_slot_accuracy: 0.9939748221127618\n",
      "turn_slot_f1: 0.9765643767124269\n"
     ]
    },
    {
     "name": "stderr",
     "output_type": "stream",
     "text": [
      "100%|██████████| 526/526 [16:27<00:00,  1.88s/it]\n",
      "  0%|          | 0/526 [00:00<?, ?it/s]"
     ]
    },
    {
     "name": "stdout",
     "output_type": "stream",
     "text": [
      "[17/25] [0/526] 0.298780\n",
      "inferencing\n"
     ]
    },
    {
     "name": "stderr",
     "output_type": "stream",
     "text": [
      "  0%|          | 1/526 [00:31<4:36:32, 31.60s/it]"
     ]
    },
    {
     "name": "stdout",
     "output_type": "stream",
     "text": [
      "{'joint_goal_accuracy': 0.8, 'turn_slot_accuracy': 0.9938171866447821, 'turn_slot_f1': 0.9761759090537561}\n",
      "joint_goal_accuracy: 0.8\n",
      "turn_slot_accuracy: 0.9938171866447821\n",
      "turn_slot_f1: 0.9761759090537561\n"
     ]
    },
    {
     "name": "stderr",
     "output_type": "stream",
     "text": [
      " 19%|█▉        | 100/526 [03:03<10:55,  1.54s/it]"
     ]
    },
    {
     "name": "stdout",
     "output_type": "stream",
     "text": [
      "[17/25] [100/526] 0.358526\n",
      "inferencing\n"
     ]
    },
    {
     "name": "stderr",
     "output_type": "stream",
     "text": [
      " 19%|█▉        | 101/526 [03:35<1:14:48, 10.56s/it]"
     ]
    },
    {
     "name": "stdout",
     "output_type": "stream",
     "text": [
      "{'joint_goal_accuracy': 0.8059113300492611, 'turn_slot_accuracy': 0.9939967159277591, 'turn_slot_f1': 0.9764887475259135}\n",
      "joint_goal_accuracy: 0.8059113300492611\n",
      "turn_slot_accuracy: 0.9939967159277591\n",
      "turn_slot_f1: 0.9764887475259135\n"
     ]
    },
    {
     "name": "stderr",
     "output_type": "stream",
     "text": [
      " 38%|███▊      | 200/526 [06:07<08:20,  1.54s/it]  "
     ]
    },
    {
     "name": "stdout",
     "output_type": "stream",
     "text": [
      "[17/25] [200/526] 0.232151\n",
      "inferencing\n"
     ]
    },
    {
     "name": "stderr",
     "output_type": "stream",
     "text": [
      " 38%|███▊      | 201/526 [06:39<57:10, 10.56s/it]"
     ]
    },
    {
     "name": "stdout",
     "output_type": "stream",
     "text": [
      "{'joint_goal_accuracy': 0.8017733990147783, 'turn_slot_accuracy': 0.993891625615771, 'turn_slot_f1': 0.9768726913590922}\n",
      "joint_goal_accuracy: 0.8017733990147783\n",
      "turn_slot_accuracy: 0.993891625615771\n",
      "turn_slot_f1: 0.9768726913590922\n"
     ]
    },
    {
     "name": "stderr",
     "output_type": "stream",
     "text": [
      " 57%|█████▋    | 300/526 [09:11<05:47,  1.54s/it]"
     ]
    },
    {
     "name": "stdout",
     "output_type": "stream",
     "text": [
      "[17/25] [300/526] 0.537962\n",
      "inferencing\n"
     ]
    },
    {
     "name": "stderr",
     "output_type": "stream",
     "text": [
      " 57%|█████▋    | 301/526 [09:42<39:35, 10.56s/it]"
     ]
    },
    {
     "name": "stdout",
     "output_type": "stream",
     "text": [
      "{'joint_goal_accuracy': 0.8017733990147783, 'turn_slot_accuracy': 0.9937558839627894, 'turn_slot_f1': 0.9764203080868205}\n",
      "joint_goal_accuracy: 0.8017733990147783\n",
      "turn_slot_accuracy: 0.9937558839627894\n",
      "turn_slot_f1: 0.9764203080868205\n"
     ]
    },
    {
     "name": "stderr",
     "output_type": "stream",
     "text": [
      " 76%|███████▌  | 400/526 [12:15<03:13,  1.54s/it]"
     ]
    },
    {
     "name": "stdout",
     "output_type": "stream",
     "text": [
      "[17/25] [400/526] 0.425563\n",
      "inferencing\n"
     ]
    },
    {
     "name": "stderr",
     "output_type": "stream",
     "text": [
      " 76%|███████▌  | 401/526 [12:46<21:59, 10.56s/it]"
     ]
    },
    {
     "name": "stdout",
     "output_type": "stream",
     "text": [
      "{'joint_goal_accuracy': 0.8017733990147783, 'turn_slot_accuracy': 0.9937733990147876, 'turn_slot_f1': 0.9763390665237147}\n",
      "joint_goal_accuracy: 0.8017733990147783\n",
      "turn_slot_accuracy: 0.9937733990147876\n",
      "turn_slot_f1: 0.9763390665237147\n"
     ]
    },
    {
     "name": "stderr",
     "output_type": "stream",
     "text": [
      " 95%|█████████▌| 500/526 [15:18<00:39,  1.54s/it]"
     ]
    },
    {
     "name": "stdout",
     "output_type": "stream",
     "text": [
      "[17/25] [500/526] 0.267676\n",
      "inferencing\n"
     ]
    },
    {
     "name": "stderr",
     "output_type": "stream",
     "text": [
      " 95%|█████████▌| 501/526 [15:50<04:23, 10.56s/it]"
     ]
    },
    {
     "name": "stdout",
     "output_type": "stream",
     "text": [
      "{'joint_goal_accuracy': 0.7998029556650247, 'turn_slot_accuracy': 0.9936770662287999, 'turn_slot_f1': 0.9761353214353539}\n",
      "joint_goal_accuracy: 0.7998029556650247\n",
      "turn_slot_accuracy: 0.9936770662287999\n",
      "turn_slot_f1: 0.9761353214353539\n"
     ]
    },
    {
     "name": "stderr",
     "output_type": "stream",
     "text": [
      "100%|██████████| 526/526 [16:27<00:00,  1.88s/it]\n",
      "  0%|          | 0/526 [00:00<?, ?it/s]"
     ]
    },
    {
     "name": "stdout",
     "output_type": "stream",
     "text": [
      "[18/25] [0/526] 0.396879\n",
      "inferencing\n"
     ]
    },
    {
     "name": "stderr",
     "output_type": "stream",
     "text": [
      "  0%|          | 1/526 [00:32<4:41:09, 32.13s/it]"
     ]
    },
    {
     "name": "stdout",
     "output_type": "stream",
     "text": [
      "{'joint_goal_accuracy': 0.8065024630541872, 'turn_slot_accuracy': 0.9938434592227787, 'turn_slot_f1': 0.9771262359061162}\n",
      "joint_goal_accuracy: 0.8065024630541872\n",
      "turn_slot_accuracy: 0.9938434592227787\n",
      "turn_slot_f1: 0.9771262359061162\n"
     ]
    },
    {
     "name": "stderr",
     "output_type": "stream",
     "text": [
      " 19%|█▉        | 100/526 [03:04<10:56,  1.54s/it]"
     ]
    },
    {
     "name": "stdout",
     "output_type": "stream",
     "text": [
      "[18/25] [100/526] 0.482546\n",
      "inferencing\n"
     ]
    },
    {
     "name": "stderr",
     "output_type": "stream",
     "text": [
      " 19%|█▉        | 101/526 [03:36<1:14:49, 10.56s/it]"
     ]
    },
    {
     "name": "stdout",
     "output_type": "stream",
     "text": [
      "{'joint_goal_accuracy': 0.8104433497536946, 'turn_slot_accuracy': 0.9940054734537568, 'turn_slot_f1': 0.9773248256757503}\n",
      "joint_goal_accuracy: 0.8104433497536946\n",
      "turn_slot_accuracy: 0.9940054734537568\n",
      "turn_slot_f1: 0.9773248256757503\n"
     ]
    },
    {
     "name": "stderr",
     "output_type": "stream",
     "text": [
      " 38%|███▊      | 200/526 [06:08<08:21,  1.54s/it]  "
     ]
    },
    {
     "name": "stdout",
     "output_type": "stream",
     "text": [
      "[18/25] [200/526] 0.385516\n",
      "inferencing\n"
     ]
    },
    {
     "name": "stderr",
     "output_type": "stream",
     "text": [
      " 38%|███▊      | 201/526 [06:40<57:12, 10.56s/it]"
     ]
    },
    {
     "name": "stdout",
     "output_type": "stream",
     "text": [
      "{'joint_goal_accuracy': 0.8100492610837439, 'turn_slot_accuracy': 0.9941368363437395, 'turn_slot_f1': 0.9778369136500686}\n",
      "joint_goal_accuracy: 0.8100492610837439\n",
      "turn_slot_accuracy: 0.9941368363437395\n",
      "turn_slot_f1: 0.9778369136500686\n"
     ]
    },
    {
     "name": "stderr",
     "output_type": "stream",
     "text": [
      " 57%|█████▋    | 300/526 [09:12<05:47,  1.54s/it]"
     ]
    },
    {
     "name": "stdout",
     "output_type": "stream",
     "text": [
      "[18/25] [300/526] 0.609890\n",
      "inferencing\n"
     ]
    },
    {
     "name": "stderr",
     "output_type": "stream",
     "text": [
      " 57%|█████▋    | 301/526 [09:44<39:35, 10.56s/it]"
     ]
    },
    {
     "name": "stdout",
     "output_type": "stream",
     "text": [
      "{'joint_goal_accuracy': 0.8082758620689655, 'turn_slot_accuracy': 0.9940142309797575, 'turn_slot_f1': 0.9770463287975961}\n",
      "joint_goal_accuracy: 0.8082758620689655\n",
      "turn_slot_accuracy: 0.9940142309797575\n",
      "turn_slot_f1: 0.9770463287975961\n"
     ]
    },
    {
     "name": "stderr",
     "output_type": "stream",
     "text": [
      " 76%|███████▌  | 400/526 [12:16<03:13,  1.54s/it]"
     ]
    },
    {
     "name": "stdout",
     "output_type": "stream",
     "text": [
      "[18/25] [400/526] 0.292209\n",
      "inferencing\n"
     ]
    },
    {
     "name": "stderr",
     "output_type": "stream",
     "text": [
      " 76%|███████▌  | 401/526 [12:48<21:59, 10.56s/it]"
     ]
    },
    {
     "name": "stdout",
     "output_type": "stream",
     "text": [
      "{'joint_goal_accuracy': 0.8027586206896552, 'turn_slot_accuracy': 0.9938960043787717, 'turn_slot_f1': 0.9765094297725998}\n",
      "joint_goal_accuracy: 0.8027586206896552\n",
      "turn_slot_accuracy: 0.9938960043787717\n",
      "turn_slot_f1: 0.9765094297725998\n"
     ]
    },
    {
     "name": "stderr",
     "output_type": "stream",
     "text": [
      " 95%|█████████▌| 500/526 [15:20<00:39,  1.54s/it]"
     ]
    },
    {
     "name": "stdout",
     "output_type": "stream",
     "text": [
      "[18/25] [500/526] 0.252667\n",
      "inferencing\n"
     ]
    },
    {
     "name": "stderr",
     "output_type": "stream",
     "text": [
      " 95%|█████████▌| 501/526 [15:51<04:23, 10.56s/it]"
     ]
    },
    {
     "name": "stdout",
     "output_type": "stream",
     "text": [
      "{'joint_goal_accuracy': 0.8094581280788178, 'turn_slot_accuracy': 0.9940799124247512, 'turn_slot_f1': 0.9774333523770709}\n",
      "joint_goal_accuracy: 0.8094581280788178\n",
      "turn_slot_accuracy: 0.9940799124247512\n",
      "turn_slot_f1: 0.9774333523770709\n"
     ]
    },
    {
     "name": "stderr",
     "output_type": "stream",
     "text": [
      "100%|██████████| 526/526 [16:29<00:00,  1.88s/it]\n",
      "  0%|          | 0/526 [00:00<?, ?it/s]"
     ]
    },
    {
     "name": "stdout",
     "output_type": "stream",
     "text": [
      "[19/25] [0/526] 0.395666\n",
      "inferencing\n"
     ]
    },
    {
     "name": "stderr",
     "output_type": "stream",
     "text": [
      "  0%|          | 1/526 [00:31<4:36:38, 31.62s/it]"
     ]
    },
    {
     "name": "stdout",
     "output_type": "stream",
     "text": [
      "{'joint_goal_accuracy': 0.8045320197044334, 'turn_slot_accuracy': 0.9939397920087678, 'turn_slot_f1': 0.9770666487963293}\n",
      "joint_goal_accuracy: 0.8045320197044334\n",
      "turn_slot_accuracy: 0.9939397920087678\n",
      "turn_slot_f1: 0.9770666487963293\n"
     ]
    },
    {
     "name": "stderr",
     "output_type": "stream",
     "text": [
      " 19%|█▉        | 100/526 [03:03<10:53,  1.54s/it]"
     ]
    },
    {
     "name": "stdout",
     "output_type": "stream",
     "text": [
      "[19/25] [100/526] 0.306835\n",
      "inferencing\n"
     ]
    },
    {
     "name": "stderr",
     "output_type": "stream",
     "text": [
      " 19%|█▉        | 101/526 [03:35<1:14:47, 10.56s/it]"
     ]
    },
    {
     "name": "stdout",
     "output_type": "stream",
     "text": [
      "{'joint_goal_accuracy': 0.7976354679802956, 'turn_slot_accuracy': 0.9937164750957953, 'turn_slot_f1': 0.9763303684377849}\n",
      "joint_goal_accuracy: 0.7976354679802956\n",
      "turn_slot_accuracy: 0.9937164750957953\n",
      "turn_slot_f1: 0.9763303684377849\n"
     ]
    },
    {
     "name": "stderr",
     "output_type": "stream",
     "text": [
      " 38%|███▊      | 200/526 [06:07<08:21,  1.54s/it]  "
     ]
    },
    {
     "name": "stdout",
     "output_type": "stream",
     "text": [
      "[19/25] [200/526] 0.305331\n",
      "inferencing\n"
     ]
    },
    {
     "name": "stderr",
     "output_type": "stream",
     "text": [
      " 38%|███▊      | 201/526 [06:39<57:10, 10.56s/it]"
     ]
    },
    {
     "name": "stdout",
     "output_type": "stream",
     "text": [
      "{'joint_goal_accuracy': 0.8082758620689655, 'turn_slot_accuracy': 0.9940930487137489, 'turn_slot_f1': 0.9781193606104085}\n",
      "joint_goal_accuracy: 0.8082758620689655\n",
      "turn_slot_accuracy: 0.9940930487137489\n",
      "turn_slot_f1: 0.9781193606104085\n"
     ]
    },
    {
     "name": "stderr",
     "output_type": "stream",
     "text": [
      " 57%|█████▋    | 300/526 [09:11<05:47,  1.54s/it]"
     ]
    },
    {
     "name": "stdout",
     "output_type": "stream",
     "text": [
      "[19/25] [300/526] 0.393703\n",
      "inferencing\n"
     ]
    },
    {
     "name": "stderr",
     "output_type": "stream",
     "text": [
      " 57%|█████▋    | 301/526 [09:43<39:37, 10.57s/it]"
     ]
    },
    {
     "name": "stdout",
     "output_type": "stream",
     "text": [
      "{'joint_goal_accuracy': 0.8031527093596059, 'turn_slot_accuracy': 0.9938872468527715, 'turn_slot_f1': 0.9771385284638499}\n",
      "joint_goal_accuracy: 0.8031527093596059\n",
      "turn_slot_accuracy: 0.9938872468527715\n",
      "turn_slot_f1: 0.9771385284638499\n"
     ]
    },
    {
     "name": "stderr",
     "output_type": "stream",
     "text": [
      " 76%|███████▌  | 400/526 [12:15<03:13,  1.54s/it]"
     ]
    },
    {
     "name": "stdout",
     "output_type": "stream",
     "text": [
      "[19/25] [400/526] 0.457916\n",
      "inferencing\n"
     ]
    },
    {
     "name": "stderr",
     "output_type": "stream",
     "text": [
      " 76%|███████▌  | 401/526 [12:46<21:59, 10.56s/it]"
     ]
    },
    {
     "name": "stdout",
     "output_type": "stream",
     "text": [
      "{'joint_goal_accuracy': 0.8108374384236453, 'turn_slot_accuracy': 0.9941718664477375, 'turn_slot_f1': 0.9783808819481946}\n",
      "joint_goal_accuracy: 0.8108374384236453\n",
      "turn_slot_accuracy: 0.9941718664477375\n",
      "turn_slot_f1: 0.9783808819481946\n"
     ]
    },
    {
     "name": "stderr",
     "output_type": "stream",
     "text": [
      " 95%|█████████▌| 500/526 [15:18<00:40,  1.54s/it]"
     ]
    },
    {
     "name": "stdout",
     "output_type": "stream",
     "text": [
      "[19/25] [500/526] 0.242483\n",
      "inferencing\n"
     ]
    },
    {
     "name": "stderr",
     "output_type": "stream",
     "text": [
      " 95%|█████████▌| 501/526 [15:50<04:24, 10.57s/it]"
     ]
    },
    {
     "name": "stdout",
     "output_type": "stream",
     "text": [
      "{'joint_goal_accuracy': 0.8025615763546798, 'turn_slot_accuracy': 0.9938522167487782, 'turn_slot_f1': 0.9768990486204779}\n",
      "joint_goal_accuracy: 0.8025615763546798\n",
      "turn_slot_accuracy: 0.9938522167487782\n",
      "turn_slot_f1: 0.9768990486204779\n"
     ]
    },
    {
     "name": "stderr",
     "output_type": "stream",
     "text": [
      "100%|██████████| 526/526 [16:27<00:00,  1.88s/it]\n",
      "  0%|          | 0/526 [00:00<?, ?it/s]"
     ]
    },
    {
     "name": "stdout",
     "output_type": "stream",
     "text": [
      "[20/25] [0/526] 0.449920\n",
      "inferencing\n"
     ]
    },
    {
     "name": "stderr",
     "output_type": "stream",
     "text": [
      "  0%|          | 1/526 [00:31<4:36:35, 31.61s/it]"
     ]
    },
    {
     "name": "stdout",
     "output_type": "stream",
     "text": [
      "{'joint_goal_accuracy': 0.8063054187192118, 'turn_slot_accuracy': 0.9940229885057558, 'turn_slot_f1': 0.9775067647783371}\n",
      "joint_goal_accuracy: 0.8063054187192118\n",
      "turn_slot_accuracy: 0.9940229885057558\n",
      "turn_slot_f1: 0.9775067647783371\n"
     ]
    },
    {
     "name": "stderr",
     "output_type": "stream",
     "text": [
      " 19%|█▉        | 100/526 [03:03<10:54,  1.54s/it]"
     ]
    },
    {
     "name": "stdout",
     "output_type": "stream",
     "text": [
      "[20/25] [100/526] 0.453864\n",
      "inferencing\n"
     ]
    },
    {
     "name": "stderr",
     "output_type": "stream",
     "text": [
      " 19%|█▉        | 101/526 [03:35<1:14:47, 10.56s/it]"
     ]
    },
    {
     "name": "stdout",
     "output_type": "stream",
     "text": [
      "{'joint_goal_accuracy': 0.8104433497536946, 'turn_slot_accuracy': 0.994158730158739, 'turn_slot_f1': 0.9780756254362689}\n",
      "joint_goal_accuracy: 0.8104433497536946\n",
      "turn_slot_accuracy: 0.994158730158739\n",
      "turn_slot_f1: 0.9780756254362689\n"
     ]
    },
    {
     "name": "stderr",
     "output_type": "stream",
     "text": [
      " 38%|███▊      | 200/526 [06:07<08:21,  1.54s/it]  "
     ]
    },
    {
     "name": "stdout",
     "output_type": "stream",
     "text": [
      "[20/25] [200/526] 0.231298\n",
      "inferencing\n"
     ]
    },
    {
     "name": "stderr",
     "output_type": "stream",
     "text": [
      " 38%|███▊      | 201/526 [06:39<57:11, 10.56s/it]"
     ]
    },
    {
     "name": "stdout",
     "output_type": "stream",
     "text": [
      "{'joint_goal_accuracy': 0.8094581280788178, 'turn_slot_accuracy': 0.9940098522167577, 'turn_slot_f1': 0.9775887077176045}\n",
      "joint_goal_accuracy: 0.8094581280788178\n",
      "turn_slot_accuracy: 0.9940098522167577\n",
      "turn_slot_f1: 0.9775887077176045\n"
     ]
    },
    {
     "name": "stderr",
     "output_type": "stream",
     "text": [
      " 57%|█████▋    | 300/526 [09:11<05:47,  1.54s/it]"
     ]
    },
    {
     "name": "stdout",
     "output_type": "stream",
     "text": [
      "[20/25] [300/526] 0.397050\n",
      "inferencing\n"
     ]
    },
    {
     "name": "stderr",
     "output_type": "stream",
     "text": [
      " 57%|█████▋    | 301/526 [09:43<39:36, 10.56s/it]"
     ]
    },
    {
     "name": "stdout",
     "output_type": "stream",
     "text": [
      "{'joint_goal_accuracy': 0.8096551724137931, 'turn_slot_accuracy': 0.9940799124247482, 'turn_slot_f1': 0.9780040705582778}\n",
      "joint_goal_accuracy: 0.8096551724137931\n",
      "turn_slot_accuracy: 0.9940799124247482\n",
      "turn_slot_f1: 0.9780040705582778\n"
     ]
    },
    {
     "name": "stderr",
     "output_type": "stream",
     "text": [
      " 76%|███████▌  | 400/526 [12:15<03:13,  1.54s/it]"
     ]
    },
    {
     "name": "stdout",
     "output_type": "stream",
     "text": [
      "[20/25] [400/526] 0.303242\n",
      "inferencing\n"
     ]
    },
    {
     "name": "stderr",
     "output_type": "stream",
     "text": [
      " 76%|███████▌  | 401/526 [12:47<22:00, 10.56s/it]"
     ]
    },
    {
     "name": "stdout",
     "output_type": "stream",
     "text": [
      "{'joint_goal_accuracy': 0.8147783251231527, 'turn_slot_accuracy': 0.9941105637657448, 'turn_slot_f1': 0.9781515408410569}\n",
      "joint_goal_accuracy: 0.8147783251231527\n",
      "turn_slot_accuracy: 0.9941105637657448\n",
      "turn_slot_f1: 0.9781515408410569\n"
     ]
    },
    {
     "name": "stderr",
     "output_type": "stream",
     "text": [
      " 95%|█████████▌| 500/526 [15:19<00:39,  1.54s/it]"
     ]
    },
    {
     "name": "stdout",
     "output_type": "stream",
     "text": [
      "[20/25] [500/526] 0.267164\n",
      "inferencing\n"
     ]
    },
    {
     "name": "stderr",
     "output_type": "stream",
     "text": [
      " 95%|█████████▌| 501/526 [15:50<04:24, 10.56s/it]"
     ]
    },
    {
     "name": "stdout",
     "output_type": "stream",
     "text": [
      "{'joint_goal_accuracy': 0.8027586206896552, 'turn_slot_accuracy': 0.9937909140667831, 'turn_slot_f1': 0.9765513268146765}\n",
      "joint_goal_accuracy: 0.8027586206896552\n",
      "turn_slot_accuracy: 0.9937909140667831\n",
      "turn_slot_f1: 0.9765513268146765\n"
     ]
    },
    {
     "name": "stderr",
     "output_type": "stream",
     "text": [
      "100%|██████████| 526/526 [16:27<00:00,  1.88s/it]\n",
      "  0%|          | 0/526 [00:00<?, ?it/s]"
     ]
    },
    {
     "name": "stdout",
     "output_type": "stream",
     "text": [
      "[21/25] [0/526] 0.238641\n",
      "inferencing\n"
     ]
    },
    {
     "name": "stderr",
     "output_type": "stream",
     "text": [
      "  0%|          | 1/526 [00:31<4:36:31, 31.60s/it]"
     ]
    },
    {
     "name": "stdout",
     "output_type": "stream",
     "text": [
      "{'joint_goal_accuracy': 0.814384236453202, 'turn_slot_accuracy': 0.9941149425287442, 'turn_slot_f1': 0.9782202557394968}\n",
      "joint_goal_accuracy: 0.814384236453202\n",
      "turn_slot_accuracy: 0.9941149425287442\n",
      "turn_slot_f1: 0.9782202557394968\n"
     ]
    },
    {
     "name": "stderr",
     "output_type": "stream",
     "text": [
      " 19%|█▉        | 100/526 [03:03<10:54,  1.54s/it]"
     ]
    },
    {
     "name": "stdout",
     "output_type": "stream",
     "text": [
      "[21/25] [100/526] 0.240517\n",
      "inferencing\n"
     ]
    },
    {
     "name": "stderr",
     "output_type": "stream",
     "text": [
      " 19%|█▉        | 101/526 [03:35<1:14:48, 10.56s/it]"
     ]
    },
    {
     "name": "stdout",
     "output_type": "stream",
     "text": [
      "{'joint_goal_accuracy': 0.812807881773399, 'turn_slot_accuracy': 0.9940186097427571, 'turn_slot_f1': 0.977517170178765}\n",
      "joint_goal_accuracy: 0.812807881773399\n",
      "turn_slot_accuracy: 0.9940186097427571\n",
      "turn_slot_f1: 0.977517170178765\n"
     ]
    },
    {
     "name": "stderr",
     "output_type": "stream",
     "text": [
      " 38%|███▊      | 200/526 [06:08<08:20,  1.54s/it]  "
     ]
    },
    {
     "name": "stdout",
     "output_type": "stream",
     "text": [
      "[21/25] [200/526] 0.389204\n",
      "inferencing\n"
     ]
    },
    {
     "name": "stderr",
     "output_type": "stream",
     "text": [
      " 38%|███▊      | 201/526 [06:39<57:11, 10.56s/it]"
     ]
    },
    {
     "name": "stdout",
     "output_type": "stream",
     "text": [
      "{'joint_goal_accuracy': 0.8100492610837439, 'turn_slot_accuracy': 0.9940317460317549, 'turn_slot_f1': 0.9777607164803214}\n",
      "joint_goal_accuracy: 0.8100492610837439\n",
      "turn_slot_accuracy: 0.9940317460317549\n",
      "turn_slot_f1: 0.9777607164803214\n"
     ]
    },
    {
     "name": "stderr",
     "output_type": "stream",
     "text": [
      " 57%|█████▋    | 300/526 [09:12<05:47,  1.54s/it]"
     ]
    },
    {
     "name": "stdout",
     "output_type": "stream",
     "text": [
      "[21/25] [300/526] 0.335929\n",
      "inferencing\n"
     ]
    },
    {
     "name": "stderr",
     "output_type": "stream",
     "text": [
      " 57%|█████▋    | 301/526 [09:43<39:35, 10.56s/it]"
     ]
    },
    {
     "name": "stdout",
     "output_type": "stream",
     "text": [
      "{'joint_goal_accuracy': 0.8116256157635467, 'turn_slot_accuracy': 0.994119321291744, 'turn_slot_f1': 0.977838565214782}\n",
      "joint_goal_accuracy: 0.8116256157635467\n",
      "turn_slot_accuracy: 0.994119321291744\n",
      "turn_slot_f1: 0.977838565214782\n"
     ]
    },
    {
     "name": "stderr",
     "output_type": "stream",
     "text": [
      " 76%|███████▌  | 400/526 [12:15<03:13,  1.54s/it]"
     ]
    },
    {
     "name": "stdout",
     "output_type": "stream",
     "text": [
      "[21/25] [400/526] 0.225960\n",
      "inferencing\n"
     ]
    },
    {
     "name": "stderr",
     "output_type": "stream",
     "text": [
      " 76%|███████▌  | 401/526 [12:47<21:59, 10.56s/it]"
     ]
    },
    {
     "name": "stdout",
     "output_type": "stream",
     "text": [
      "{'joint_goal_accuracy': 0.8155665024630542, 'turn_slot_accuracy': 0.994193760262734, 'turn_slot_f1': 0.9782189103495711}\n",
      "joint_goal_accuracy: 0.8155665024630542\n",
      "turn_slot_accuracy: 0.994193760262734\n",
      "turn_slot_f1: 0.9782189103495711\n"
     ]
    },
    {
     "name": "stderr",
     "output_type": "stream",
     "text": [
      " 95%|█████████▌| 500/526 [15:19<00:39,  1.54s/it]"
     ]
    },
    {
     "name": "stdout",
     "output_type": "stream",
     "text": [
      "[21/25] [500/526] 0.243877\n",
      "inferencing\n"
     ]
    },
    {
     "name": "stderr",
     "output_type": "stream",
     "text": [
      " 95%|█████████▌| 501/526 [15:51<04:23, 10.56s/it]"
     ]
    },
    {
     "name": "stdout",
     "output_type": "stream",
     "text": [
      "{'joint_goal_accuracy': 0.8147783251231527, 'turn_slot_accuracy': 0.9941850027367352, 'turn_slot_f1': 0.9781774829750691}\n",
      "joint_goal_accuracy: 0.8147783251231527\n",
      "turn_slot_accuracy: 0.9941850027367352\n",
      "turn_slot_f1: 0.9781774829750691\n"
     ]
    },
    {
     "name": "stderr",
     "output_type": "stream",
     "text": [
      "100%|██████████| 526/526 [16:28<00:00,  1.88s/it]\n",
      "  0%|          | 0/526 [00:00<?, ?it/s]"
     ]
    },
    {
     "name": "stdout",
     "output_type": "stream",
     "text": [
      "[22/25] [0/526] 0.356298\n",
      "inferencing\n"
     ]
    },
    {
     "name": "stderr",
     "output_type": "stream",
     "text": [
      "  0%|          | 1/526 [00:31<4:36:31, 31.60s/it]"
     ]
    },
    {
     "name": "stdout",
     "output_type": "stream",
     "text": [
      "{'joint_goal_accuracy': 0.8122167487684729, 'turn_slot_accuracy': 0.9941455938697399, 'turn_slot_f1': 0.97814983619203}\n",
      "joint_goal_accuracy: 0.8122167487684729\n",
      "turn_slot_accuracy: 0.9941455938697399\n",
      "turn_slot_f1: 0.97814983619203\n"
     ]
    },
    {
     "name": "stderr",
     "output_type": "stream",
     "text": [
      " 19%|█▉        | 100/526 [03:03<10:57,  1.54s/it]"
     ]
    },
    {
     "name": "stdout",
     "output_type": "stream",
     "text": [
      "[22/25] [100/526] 0.284489\n",
      "inferencing\n"
     ]
    },
    {
     "name": "stderr",
     "output_type": "stream",
     "text": [
      " 19%|█▉        | 101/526 [03:35<1:14:49, 10.56s/it]"
     ]
    },
    {
     "name": "stdout",
     "output_type": "stream",
     "text": [
      "{'joint_goal_accuracy': 0.812807881773399, 'turn_slot_accuracy': 0.9941061850027451, 'turn_slot_f1': 0.9779639227224747}\n",
      "joint_goal_accuracy: 0.812807881773399\n",
      "turn_slot_accuracy: 0.9941061850027451\n",
      "turn_slot_f1: 0.9779639227224747\n"
     ]
    },
    {
     "name": "stderr",
     "output_type": "stream",
     "text": [
      " 38%|███▊      | 200/526 [06:07<08:20,  1.54s/it]  "
     ]
    },
    {
     "name": "stdout",
     "output_type": "stream",
     "text": [
      "[22/25] [200/526] 0.271744\n",
      "inferencing\n"
     ]
    },
    {
     "name": "stderr",
     "output_type": "stream",
     "text": [
      " 38%|███▊      | 201/526 [06:39<57:10, 10.56s/it]"
     ]
    },
    {
     "name": "stdout",
     "output_type": "stream",
     "text": [
      "{'joint_goal_accuracy': 0.8133990147783251, 'turn_slot_accuracy': 0.9942068965517328, 'turn_slot_f1': 0.9783620217442323}\n",
      "joint_goal_accuracy: 0.8133990147783251\n",
      "turn_slot_accuracy: 0.9942068965517328\n",
      "turn_slot_f1: 0.9783620217442323\n"
     ]
    },
    {
     "name": "stderr",
     "output_type": "stream",
     "text": [
      " 57%|█████▋    | 300/526 [09:11<05:47,  1.54s/it]"
     ]
    },
    {
     "name": "stdout",
     "output_type": "stream",
     "text": [
      "[22/25] [300/526] 0.140640\n",
      "inferencing\n"
     ]
    },
    {
     "name": "stderr",
     "output_type": "stream",
     "text": [
      " 57%|█████▋    | 301/526 [09:42<39:34, 10.55s/it]"
     ]
    },
    {
     "name": "stdout",
     "output_type": "stream",
     "text": [
      "{'joint_goal_accuracy': 0.8149753694581281, 'turn_slot_accuracy': 0.9941850027367354, 'turn_slot_f1': 0.978490188274681}\n",
      "joint_goal_accuracy: 0.8149753694581281\n",
      "turn_slot_accuracy: 0.9941850027367354\n",
      "turn_slot_f1: 0.978490188274681\n"
     ]
    },
    {
     "name": "stderr",
     "output_type": "stream",
     "text": [
      " 76%|███████▌  | 400/526 [12:14<03:13,  1.53s/it]"
     ]
    },
    {
     "name": "stdout",
     "output_type": "stream",
     "text": [
      "[22/25] [400/526] 0.203453\n",
      "inferencing\n",
      "{'joint_goal_accuracy': 0.8185221674876847, 'turn_slot_accuracy': 0.9942857142857223, 'turn_slot_f1': 0.9787662265935624}\n",
      "new best JGA score!  0.8185221674876847\n"
     ]
    },
    {
     "name": "stderr",
     "output_type": "stream",
     "text": [
      " 76%|███████▌  | 401/526 [12:48<23:24, 11.23s/it]"
     ]
    },
    {
     "name": "stdout",
     "output_type": "stream",
     "text": [
      "joint_goal_accuracy: 0.8185221674876847\n",
      "turn_slot_accuracy: 0.9942857142857223\n",
      "turn_slot_f1: 0.9787662265935624\n"
     ]
    },
    {
     "name": "stderr",
     "output_type": "stream",
     "text": [
      " 95%|█████████▌| 500/526 [15:20<00:39,  1.54s/it]"
     ]
    },
    {
     "name": "stdout",
     "output_type": "stream",
     "text": [
      "[22/25] [500/526] 0.188098\n",
      "inferencing\n"
     ]
    },
    {
     "name": "stderr",
     "output_type": "stream",
     "text": [
      " 95%|█████████▌| 501/526 [15:52<04:24, 10.56s/it]"
     ]
    },
    {
     "name": "stdout",
     "output_type": "stream",
     "text": [
      "{'joint_goal_accuracy': 0.81064039408867, 'turn_slot_accuracy': 0.9940405035577526, 'turn_slot_f1': 0.9779564362025507}\n",
      "joint_goal_accuracy: 0.81064039408867\n",
      "turn_slot_accuracy: 0.9940405035577526\n",
      "turn_slot_f1: 0.9779564362025507\n"
     ]
    },
    {
     "name": "stderr",
     "output_type": "stream",
     "text": [
      "100%|██████████| 526/526 [16:29<00:00,  1.88s/it]\n",
      "  0%|          | 0/526 [00:00<?, ?it/s]"
     ]
    },
    {
     "name": "stdout",
     "output_type": "stream",
     "text": [
      "[23/25] [0/526] 0.264930\n",
      "inferencing\n"
     ]
    },
    {
     "name": "stderr",
     "output_type": "stream",
     "text": [
      "  0%|          | 1/526 [00:31<4:36:31, 31.60s/it]"
     ]
    },
    {
     "name": "stdout",
     "output_type": "stream",
     "text": [
      "{'joint_goal_accuracy': 0.8108374384236453, 'turn_slot_accuracy': 0.9940974274767456, 'turn_slot_f1': 0.9781075194346898}\n",
      "joint_goal_accuracy: 0.8108374384236453\n",
      "turn_slot_accuracy: 0.9940974274767456\n",
      "turn_slot_f1: 0.9781075194346898\n"
     ]
    },
    {
     "name": "stderr",
     "output_type": "stream",
     "text": [
      " 19%|█▉        | 100/526 [03:03<10:57,  1.54s/it]"
     ]
    },
    {
     "name": "stdout",
     "output_type": "stream",
     "text": [
      "[23/25] [100/526] 0.333729\n",
      "inferencing\n"
     ]
    },
    {
     "name": "stderr",
     "output_type": "stream",
     "text": [
      " 19%|█▉        | 101/526 [03:35<1:14:50, 10.57s/it]"
     ]
    },
    {
     "name": "stdout",
     "output_type": "stream",
     "text": [
      "{'joint_goal_accuracy': 0.8098522167487685, 'turn_slot_accuracy': 0.9940361247947535, 'turn_slot_f1': 0.9778023391325661}\n",
      "joint_goal_accuracy: 0.8098522167487685\n",
      "turn_slot_accuracy: 0.9940361247947535\n",
      "turn_slot_f1: 0.9778023391325661\n"
     ]
    },
    {
     "name": "stderr",
     "output_type": "stream",
     "text": [
      " 38%|███▊      | 200/526 [06:07<08:21,  1.54s/it]  "
     ]
    },
    {
     "name": "stdout",
     "output_type": "stream",
     "text": [
      "[23/25] [200/526] 0.151569\n",
      "inferencing\n"
     ]
    },
    {
     "name": "stderr",
     "output_type": "stream",
     "text": [
      " 38%|███▊      | 201/526 [06:39<57:10, 10.56s/it]"
     ]
    },
    {
     "name": "stdout",
     "output_type": "stream",
     "text": [
      "{'joint_goal_accuracy': 0.8098522167487685, 'turn_slot_accuracy': 0.9940273672687543, 'turn_slot_f1': 0.9777329226962548}\n",
      "joint_goal_accuracy: 0.8098522167487685\n",
      "turn_slot_accuracy: 0.9940273672687543\n",
      "turn_slot_f1: 0.9777329226962548\n"
     ]
    },
    {
     "name": "stderr",
     "output_type": "stream",
     "text": [
      " 57%|█████▋    | 300/526 [09:11<05:46,  1.54s/it]"
     ]
    },
    {
     "name": "stdout",
     "output_type": "stream",
     "text": [
      "[23/25] [300/526] 0.315080\n",
      "inferencing\n"
     ]
    },
    {
     "name": "stderr",
     "output_type": "stream",
     "text": [
      " 57%|█████▋    | 301/526 [09:43<39:34, 10.56s/it]"
     ]
    },
    {
     "name": "stdout",
     "output_type": "stream",
     "text": [
      "{'joint_goal_accuracy': 0.8084729064039409, 'turn_slot_accuracy': 0.9939354132457657, 'turn_slot_f1': 0.9774514014373451}\n",
      "joint_goal_accuracy: 0.8084729064039409\n",
      "turn_slot_accuracy: 0.9939354132457657\n",
      "turn_slot_f1: 0.9774514014373451\n"
     ]
    },
    {
     "name": "stderr",
     "output_type": "stream",
     "text": [
      " 76%|███████▌  | 400/526 [12:15<03:13,  1.54s/it]"
     ]
    },
    {
     "name": "stdout",
     "output_type": "stream",
     "text": [
      "[23/25] [400/526] 0.251610\n",
      "inferencing\n"
     ]
    },
    {
     "name": "stderr",
     "output_type": "stream",
     "text": [
      " 76%|███████▌  | 401/526 [12:47<22:00, 10.56s/it]"
     ]
    },
    {
     "name": "stdout",
     "output_type": "stream",
     "text": [
      "{'joint_goal_accuracy': 0.8086699507389162, 'turn_slot_accuracy': 0.9939616858237629, 'turn_slot_f1': 0.9776493975564436}\n",
      "joint_goal_accuracy: 0.8086699507389162\n",
      "turn_slot_accuracy: 0.9939616858237629\n",
      "turn_slot_f1: 0.9776493975564436\n"
     ]
    },
    {
     "name": "stderr",
     "output_type": "stream",
     "text": [
      " 95%|█████████▌| 500/526 [15:19<00:39,  1.54s/it]"
     ]
    },
    {
     "name": "stdout",
     "output_type": "stream",
     "text": [
      "[23/25] [500/526] 0.253947\n",
      "inferencing\n"
     ]
    },
    {
     "name": "stderr",
     "output_type": "stream",
     "text": [
      " 95%|█████████▌| 501/526 [15:50<04:23, 10.56s/it]"
     ]
    },
    {
     "name": "stdout",
     "output_type": "stream",
     "text": [
      "{'joint_goal_accuracy': 0.8084729064039409, 'turn_slot_accuracy': 0.9939310344827664, 'turn_slot_f1': 0.9775654590833345}\n",
      "joint_goal_accuracy: 0.8084729064039409\n",
      "turn_slot_accuracy: 0.9939310344827664\n",
      "turn_slot_f1: 0.9775654590833345\n"
     ]
    },
    {
     "name": "stderr",
     "output_type": "stream",
     "text": [
      "100%|██████████| 526/526 [16:27<00:00,  1.88s/it]\n",
      "  0%|          | 0/526 [00:00<?, ?it/s]"
     ]
    },
    {
     "name": "stdout",
     "output_type": "stream",
     "text": [
      "[24/25] [0/526] 0.127217\n",
      "inferencing\n"
     ]
    },
    {
     "name": "stderr",
     "output_type": "stream",
     "text": [
      "  0%|          | 1/526 [00:31<4:36:32, 31.61s/it]"
     ]
    },
    {
     "name": "stdout",
     "output_type": "stream",
     "text": [
      "{'joint_goal_accuracy': 0.8068965517241379, 'turn_slot_accuracy': 0.9939135194307689, 'turn_slot_f1': 0.9775416095653221}\n",
      "joint_goal_accuracy: 0.8068965517241379\n",
      "turn_slot_accuracy: 0.9939135194307689\n",
      "turn_slot_f1: 0.9775416095653221\n"
     ]
    },
    {
     "name": "stderr",
     "output_type": "stream",
     "text": [
      " 19%|█▉        | 100/526 [03:03<10:54,  1.54s/it]"
     ]
    },
    {
     "name": "stdout",
     "output_type": "stream",
     "text": [
      "[24/25] [100/526] 0.263841\n",
      "inferencing\n"
     ]
    },
    {
     "name": "stderr",
     "output_type": "stream",
     "text": [
      " 19%|█▉        | 101/526 [03:35<1:14:47, 10.56s/it]"
     ]
    },
    {
     "name": "stdout",
     "output_type": "stream",
     "text": [
      "{'joint_goal_accuracy': 0.8088669950738916, 'turn_slot_accuracy': 0.9939529282977639, 'turn_slot_f1': 0.9776728019202116}\n",
      "joint_goal_accuracy: 0.8088669950738916\n",
      "turn_slot_accuracy: 0.9939529282977639\n",
      "turn_slot_f1: 0.9776728019202116\n"
     ]
    },
    {
     "name": "stderr",
     "output_type": "stream",
     "text": [
      " 38%|███▊      | 200/526 [06:07<08:20,  1.53s/it]  "
     ]
    },
    {
     "name": "stdout",
     "output_type": "stream",
     "text": [
      "[24/25] [200/526] 0.287795\n",
      "inferencing\n"
     ]
    },
    {
     "name": "stderr",
     "output_type": "stream",
     "text": [
      " 38%|███▊      | 201/526 [06:39<57:09, 10.55s/it]"
     ]
    },
    {
     "name": "stdout",
     "output_type": "stream",
     "text": [
      "{'joint_goal_accuracy': 0.8100492610837439, 'turn_slot_accuracy': 0.994022988505756, 'turn_slot_f1': 0.9778152955144328}\n",
      "joint_goal_accuracy: 0.8100492610837439\n",
      "turn_slot_accuracy: 0.994022988505756\n",
      "turn_slot_f1: 0.9778152955144328\n"
     ]
    },
    {
     "name": "stderr",
     "output_type": "stream",
     "text": [
      " 57%|█████▋    | 300/526 [09:11<05:47,  1.54s/it]"
     ]
    },
    {
     "name": "stdout",
     "output_type": "stream",
     "text": [
      "[24/25] [300/526] 0.194027\n",
      "inferencing\n"
     ]
    },
    {
     "name": "stderr",
     "output_type": "stream",
     "text": [
      " 57%|█████▋    | 301/526 [09:42<39:35, 10.56s/it]"
     ]
    },
    {
     "name": "stdout",
     "output_type": "stream",
     "text": [
      "{'joint_goal_accuracy': 0.8096551724137931, 'turn_slot_accuracy': 0.9939573070607634, 'turn_slot_f1': 0.9776558358730665}\n",
      "joint_goal_accuracy: 0.8096551724137931\n",
      "turn_slot_accuracy: 0.9939573070607634\n",
      "turn_slot_f1: 0.9776558358730665\n"
     ]
    },
    {
     "name": "stderr",
     "output_type": "stream",
     "text": [
      " 76%|███████▌  | 400/526 [12:14<03:13,  1.54s/it]"
     ]
    },
    {
     "name": "stdout",
     "output_type": "stream",
     "text": [
      "[24/25] [400/526] 0.321451\n",
      "inferencing\n"
     ]
    },
    {
     "name": "stderr",
     "output_type": "stream",
     "text": [
      " 76%|███████▌  | 401/526 [12:46<22:00, 10.56s/it]"
     ]
    },
    {
     "name": "stdout",
     "output_type": "stream",
     "text": [
      "{'joint_goal_accuracy': 0.8094581280788178, 'turn_slot_accuracy': 0.9939660645867623, 'turn_slot_f1': 0.9776605573076544}\n",
      "joint_goal_accuracy: 0.8094581280788178\n",
      "turn_slot_accuracy: 0.9939660645867623\n",
      "turn_slot_f1: 0.9776605573076544\n"
     ]
    },
    {
     "name": "stderr",
     "output_type": "stream",
     "text": [
      " 95%|█████████▌| 500/526 [15:18<00:40,  1.54s/it]"
     ]
    },
    {
     "name": "stdout",
     "output_type": "stream",
     "text": [
      "[24/25] [500/526] 0.152952\n",
      "inferencing\n"
     ]
    },
    {
     "name": "stderr",
     "output_type": "stream",
     "text": [
      " 95%|█████████▌| 501/526 [15:50<04:24, 10.56s/it]"
     ]
    },
    {
     "name": "stdout",
     "output_type": "stream",
     "text": [
      "{'joint_goal_accuracy': 0.8096551724137931, 'turn_slot_accuracy': 0.9939748221127609, 'turn_slot_f1': 0.977674060465985}\n",
      "joint_goal_accuracy: 0.8096551724137931\n",
      "turn_slot_accuracy: 0.9939748221127609\n",
      "turn_slot_f1: 0.977674060465985\n"
     ]
    },
    {
     "name": "stderr",
     "output_type": "stream",
     "text": [
      "100%|██████████| 526/526 [16:27<00:00,  1.88s/it]\n"
     ]
    }
   ],
   "source": [
    "# for checkpoint management\n",
    "chk_list = []\n",
    "output_dir = increment_output_dir(wandb.run.name)\n",
    "\n",
    "if not os.path.exists(f\"checkpoint/{output_dir}\"):\n",
    "    os.makedirs(f\"checkpoint/{output_dir}\")       \n",
    "\n",
    "\n",
    "best_score, best_checkpoint = 0, 0\n",
    "epoch_miss_labels = defaultdict(list)\n",
    "for epoch in range(n_epochs):\n",
    "    batch_loss = []\n",
    "    batch_loss_per_100step = []\n",
    "    for step, batch in enumerate(tqdm(train_loader)):\n",
    "        model.train()\n",
    "        input_ids, segment_ids, input_masks, target_ids, num_turns, guids  = \\\n",
    "        [b.to(device) if not isinstance(b, list) else b for b in batch]\n",
    "\n",
    "        # Forwabatch_size        \n",
    "        if n_gpu == 1:\n",
    "            loss, loss_slot, acc, acc_slot, _ = model(input_ids, segment_ids, input_masks, target_ids, n_gpu)\n",
    "        else:\n",
    "            loss, _, acc, acc_slot, _ = model(input_ids, segment_ids, input_masks, target_ids, n_gpu)\n",
    "\n",
    "        batch_loss.append(loss.item())\n",
    "\n",
    "        loss.backward()\n",
    "        nn.utils.clip_grad_norm_(model.parameters(), 1.0)\n",
    "        optimizer.step()\n",
    "        scheduler.step()\n",
    "        optimizer.zero_grad()\n",
    "#         if step % 100 == 0 or step == len(train_loader):\n",
    "        if step % 100 == 0:\n",
    "#             batch_loss_per_100step.append(loss.item())\n",
    "            print('[%d/%d] [%d/%d] %f' % (epoch+1, n_epochs, step, len(train_loader), loss.item()))\n",
    "#             # epoch를 마쳤거나, 최저 loss 갱신했을 때 추론\n",
    "#             if step == len(train_loader) or min(batch_loss_per_100step) >= loss.item():\n",
    "            print('inferencing')\n",
    "            predictions = inference(model, dev_loader, processor, device)\n",
    "#             eval_result = _evaluation(predictions, dev_labels, slot_meta)\n",
    "            eval_result, batch_miss_labels = _evaluation(predictions, dev_labels, slot_meta)\n",
    "            if epoch >= 5:\n",
    "                epoch_miss_labels[epoch].extend(batch_miss_labels)   \n",
    "        \n",
    "            current_score = eval_result['joint_goal_accuracy']\n",
    "\n",
    "            if best_score < current_score:\n",
    "                best_score = current_score\n",
    "                print('new best JGA score! ', best_score)\n",
    "\n",
    "                # checkpoint 수 관리\n",
    "                if len(chk_list) >= 2:\n",
    "                    os.remove(chk_list.pop(0))\n",
    "\n",
    "                output_path = f\"checkpoint/{output_dir}/{epoch}_{step}_{best_score}.pth\"\n",
    "                chk_list.append(output_path)\n",
    "\n",
    "                torch.save({\n",
    "                            'epoch': epoch,\n",
    "                            'model_state_dict': model.state_dict(),\n",
    "                            'optimizer_state_dict': optimizer.state_dict(),\n",
    "                            'loss': loss,\n",
    "                            }, output_path)\n",
    "            for k, v in eval_result.items():\n",
    "                print(f\"{k}: {v}\")\n",
    "            wandb.log({\n",
    "                \"loss\": loss.item(),\n",
    "                \"Joint Goal Accuracy\": eval_result['joint_goal_accuracy'],\n",
    "                \"Turn Slot_Accuracy\": eval_result['turn_slot_accuracy'],\n",
    "                \"Turn Slot F1\": eval_result['turn_slot_f1']\n",
    "                })"
   ]
  },
  {
   "cell_type": "code",
   "execution_count": null,
   "metadata": {
    "tags": []
   },
   "outputs": [],
   "source": [
    "epoch_miss_labels\n",
    "\n",
    "with open('miss_labels.json', 'w') as outfile:\n",
    "    json.dump(epoch_miss_labels, outfile)\n"
   ]
  },
  {
   "cell_type": "code",
   "execution_count": 32,
   "metadata": {
    "collapsed": true,
    "jupyter": {
     "outputs_hidden": true
    },
    "tags": []
   },
   "outputs": [
    {
     "name": "stderr",
     "output_type": "stream",
     "text": [
      "Some weights of the model checkpoint at dsksd/bert-ko-small-minimal were not used when initializing BertForUtteranceEncoding: ['cls.predictions.bias', 'cls.predictions.transform.dense.weight', 'cls.predictions.transform.dense.bias', 'cls.predictions.transform.LayerNorm.weight', 'cls.predictions.transform.LayerNorm.bias', 'cls.predictions.decoder.weight', 'cls.predictions.decoder.bias', 'cls.seq_relationship.weight', 'cls.seq_relationship.bias']\n",
      "- This IS expected if you are initializing BertForUtteranceEncoding from the checkpoint of a model trained on another task or with another architecture (e.g. initializing a BertForSequenceClassification model from a BertForPreTraining model).\n",
      "- This IS NOT expected if you are initializing BertForUtteranceEncoding from the checkpoint of a model that you expect to be exactly identical (initializing a BertForSequenceClassification model from a BertForSequenceClassification model).\n",
      "Some weights of the model checkpoint at dsksd/bert-ko-small-minimal were not used when initializing BertForUtteranceEncoding: ['cls.predictions.bias', 'cls.predictions.transform.dense.weight', 'cls.predictions.transform.dense.bias', 'cls.predictions.transform.LayerNorm.weight', 'cls.predictions.transform.LayerNorm.bias', 'cls.predictions.decoder.weight', 'cls.predictions.decoder.bias', 'cls.seq_relationship.weight', 'cls.seq_relationship.bias']\n",
      "- This IS expected if you are initializing BertForUtteranceEncoding from the checkpoint of a model trained on another task or with another architecture (e.g. initializing a BertForSequenceClassification model from a BertForPreTraining model).\n",
      "- This IS NOT expected if you are initializing BertForUtteranceEncoding from the checkpoint of a model that you expect to be exactly identical (initializing a BertForSequenceClassification model from a BertForSequenceClassification model).\n"
     ]
    },
    {
     "name": "stdout",
     "output_type": "stream",
     "text": [
      "Complete initialization of slot and value lookup\n"
     ]
    }
   ],
   "source": [
    "# model1 = SUMBT(args, num_labels, device)\n",
    "# model1.initialize_slot_value_lookup(slot_values_ids, slot_type_ids)  # Tokenized Ontology의 Pre-encoding using BERT_SV\n",
    "# model1.to(device)\n",
    "\n",
    "\n",
    "# no_decay = [\"bias\", \"LayerNorm.weight\"]\n",
    "# optimizer_grouped_parameters = [\n",
    "#         {\n",
    "#             \"params\": [p for n, p in model1.named_parameters() if not any(nd in n for nd in no_decay)],\n",
    "#             \"weight_decay\": args.weight_decay,\n",
    "#         },\n",
    "#         {\n",
    "#             \"params\": [p for n, p in model1.named_parameters() if any(nd in n for nd in no_decay)],\n",
    "#             \"weight_decay\": 0.0,\n",
    "#         },\n",
    "#     ]\n",
    "# optimizer = AdamW(optimizer_grouped_parameters, lr=args.learning_rate, eps=1e-8)\n",
    "\n",
    "# PATH = 'checkpoint/laced-lake-76/23_100_0.8232512315270936.pth'\n",
    "\n",
    "# checkpoint = torch.load(PATH)\n",
    "# model1.load_state_dict(checkpoint['model_state_dict'])\n",
    "# optimizer.load_state_dict(checkpoint['optimizer_state_dict'])\n",
    "# epoch = checkpoint['epoch']\n",
    "# loss = checkpoint['loss']\n",
    "\n",
    "# # model1.load_state_dict(torch.load('checkpoint/solar-sweep-3/9_700_0.7885714285714286.pth'))\n"
   ]
  },
  {
   "cell_type": "markdown",
   "metadata": {
    "id": "wHUyY11B6B70"
   },
   "source": [
    "## Inference"
   ]
  },
  {
   "cell_type": "code",
   "execution_count": 29,
   "metadata": {
    "id": "VzusVESG6B70",
    "outputId": "972f9d9f-336e-452d-c535-0aef4638f40f",
    "tags": []
   },
   "outputs": [
    {
     "name": "stderr",
     "output_type": "stream",
     "text": [
      "100%|██████████| 2000/2000 [00:00<00:00, 3165.59it/s]\n"
     ]
    }
   ],
   "source": [
    "eval_data = json.load(open(f\"/opt/ml/repo/taepd/input/data/eval_dataset/eval_dials.json\", \"r\"))\n",
    "\n",
    "eval_examples = get_examples_from_dialogues(\n",
    "    eval_data, user_first=True, dialogue_level=True\n",
    ")\n",
    "\n",
    "# Extracting Featrues\n",
    "eval_features = processor.convert_examples_to_features(eval_examples)\n",
    "eval_data = WOSDataset(eval_features)\n",
    "eval_sampler = SequentialSampler(eval_data)\n",
    "eval_loader = DataLoader(\n",
    "    eval_data,\n",
    "    batch_size=8,\n",
    "    sampler=eval_sampler,\n",
    "    collate_fn=processor.collate_fn,\n",
    ")"
   ]
  },
  {
   "cell_type": "code",
   "execution_count": 30,
   "metadata": {
    "id": "88F6j_5v6B71",
    "outputId": "9fdd691f-2974-47d4-f71c-fd454048f9eb",
    "tags": []
   },
   "outputs": [],
   "source": [
    "predictions = inference(model, eval_loader, processor, device)"
   ]
  },
  {
   "cell_type": "code",
   "execution_count": 31,
   "metadata": {
    "id": "1-IQhzx16B71"
   },
   "outputs": [],
   "source": [
    "json.dump(predictions, open('predictions.csv', 'w'), indent=2, ensure_ascii=False) "
   ]
  },
  {
   "cell_type": "code",
   "execution_count": null,
   "metadata": {},
   "outputs": [],
   "source": []
  }
 ],
 "metadata": {
  "colab": {
   "collapsed_sections": [],
   "name": "SUMBT.ipynb의 사본",
   "provenance": []
  },
  "kernelspec": {
   "display_name": "Python 3",
   "language": "python",
   "name": "python3"
  },
  "language_info": {
   "codemirror_mode": {
    "name": "ipython",
    "version": 3
   },
   "file_extension": ".py",
   "mimetype": "text/x-python",
   "name": "python",
   "nbconvert_exporter": "python",
   "pygments_lexer": "ipython3",
   "version": "3.7.7"
  }
 },
 "nbformat": 4,
 "nbformat_minor": 4
}
