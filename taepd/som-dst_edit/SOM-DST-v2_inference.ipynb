{
 "cells": [
  {
   "cell_type": "markdown",
   "id": "5b345b6a-97c0-4d09-a95f-ba6e5f15705a",
   "metadata": {},
   "source": [
    "### som-dst `train.py`"
   ]
  },
  {
   "cell_type": "markdown",
   "id": "ef13b6c9-24f8-4b8b-951b-50330ba3a185",
   "metadata": {},
   "source": [
    "## 변화된 점\n",
    "- mixed precision 추가"
   ]
  },
  {
   "cell_type": "code",
   "execution_count": 1,
   "id": "5cddb349-4a10-4b01-97e0-17132db414d2",
   "metadata": {},
   "outputs": [],
   "source": [
    "import sys\n",
    "sys.path.append('..')"
   ]
  },
  {
   "cell_type": "code",
   "execution_count": 2,
   "id": "524676c7-43f5-4d9e-89da-a3d4e4e35298",
   "metadata": {},
   "outputs": [
    {
     "data": {
      "text/plain": [
       "<torch.autograd.anomaly_mode.set_detect_anomaly at 0x7fecf3ee5fd0>"
      ]
     },
     "execution_count": 2,
     "metadata": {},
     "output_type": "execute_result"
    }
   ],
   "source": [
    "\"\"\"\n",
    "SOM-DST\n",
    "Copyright (c) 2020-present NAVER Corp.\n",
    "MIT license\n",
    "\"\"\"\n",
    "\n",
    "from model import SomDST\n",
    "# from pytorch_transformers import BertTokenizer, AdamW, WarmupLinearSchedule, BertConfig\n",
    "from transformers import BertModel, BertTokenizer, BertConfig, AdamW, get_linear_schedule_with_warmup, get_cosine_with_hard_restarts_schedule_with_warmup\n",
    "from utils.data_utils import prepare_dataset, MultiWozDataset\n",
    "from utils.data_utils import  domain2id, OP_SET, make_turn_label, postprocessing # make_slot_meta,\n",
    "from utils.eval_utils import compute_prf, compute_acc, per_domain_join_accuracy\n",
    "# from utils.ckpt_utils import download_ckpt, convert_ckpt_compatible\n",
    "from evaluation import model_evaluation\n",
    "\n",
    "import torch\n",
    "import torch.nn as nn\n",
    "from torch.utils.data import TensorDataset, DataLoader, RandomSampler, SequentialSampler\n",
    "import torch.cuda.amp as amp\n",
    "\n",
    "import numpy as np\n",
    "import argparse\n",
    "import random\n",
    "import os\n",
    "import json\n",
    "import time\n",
    "import pickle\n",
    "from tqdm import tqdm\n",
    "from pathlib import Path\n",
    "\n",
    "# 이상 검출을 위한 코드\n",
    "torch.autograd.set_detect_anomaly(True)"
   ]
  },
  {
   "cell_type": "code",
   "execution_count": 3,
   "id": "9e843bb6-b7a1-44ab-8692-3eb00d5f9d8f",
   "metadata": {},
   "outputs": [
    {
     "name": "stdout",
     "output_type": "stream",
     "text": [
      "Device Name : cuda\n"
     ]
    }
   ],
   "source": [
    "device = torch.device('cuda' if torch.cuda.is_available() else 'cpu')\n",
    "print(f'Device Name : {device}')\n",
    "\n",
    "# torch.cuda.empty_cache()"
   ]
  },
  {
   "cell_type": "code",
   "execution_count": 4,
   "id": "acaf50ed-b45e-4431-b4b1-fe2aaa088e4b",
   "metadata": {},
   "outputs": [],
   "source": [
    "def masked_cross_entropy_for_value(logits, target, pad_idx=0):\n",
    "    mask = target.ne(pad_idx)\n",
    "    logits_flat = logits.view(-1, logits.size(-1))\n",
    "    log_probs_flat = torch.log(logits_flat)\n",
    "    target_flat = target.view(-1, 1)\n",
    "    losses_flat = -torch.gather(log_probs_flat, dim=1, index=target_flat)\n",
    "    losses = losses_flat.view(*target.size())\n",
    "    losses = losses * mask.float()\n",
    "    loss = losses.sum() / (mask.sum().float())\n",
    "    return loss"
   ]
  },
  {
   "cell_type": "code",
   "execution_count": 5,
   "id": "5005aefc-c84e-424c-8347-82c49620247d",
   "metadata": {},
   "outputs": [],
   "source": [
    "def increment_output_dir(output_path, exist_ok=False):\n",
    "  path = Path(output_path)\n",
    "  if (path.exists() and exist_ok) or (not path.exists()):\n",
    "    return str(path)\n",
    "  else:\n",
    "    dirs = glob.glob(f\"{path}*\")\n",
    "    matches = [re.search(rf\"%s(\\d+)\" %path.stem, d) for d in dirs]\n",
    "    i = [int(m.groups()[0]) for m in matches if m]\n",
    "    n = max(i) + 1 if i else 2\n",
    "    return f\"{path}{n}\""
   ]
  },
  {
   "cell_type": "code",
   "execution_count": 6,
   "id": "aa0f7560-9e16-47ec-9063-c964a32dce03",
   "metadata": {},
   "outputs": [],
   "source": [
    "import wandb\n",
    "# !wandb login  # run once"
   ]
  },
  {
   "cell_type": "code",
   "execution_count": 7,
   "id": "65d8b467-a6c6-4819-9bdf-067d576d919f",
   "metadata": {},
   "outputs": [
    {
     "name": "stderr",
     "output_type": "stream",
     "text": [
      "\u001b[34m\u001b[1mwandb\u001b[0m: Currently logged in as: \u001b[33mtaepd\u001b[0m (use `wandb login --relogin` to force relogin)\n",
      "\u001b[34m\u001b[1mwandb\u001b[0m: wandb version 0.10.30 is available!  To upgrade, please run:\n",
      "\u001b[34m\u001b[1mwandb\u001b[0m:  $ pip install wandb --upgrade\n"
     ]
    },
    {
     "data": {
      "text/html": [
       "\n",
       "                Tracking run with wandb version 0.10.28<br/>\n",
       "                Syncing run <strong style=\"color:#cdcd00\">rosy-leaf-88</strong> to <a href=\"https://wandb.ai\" target=\"_blank\">Weights & Biases</a> <a href=\"https://docs.wandb.com/integrations/jupyter.html\" target=\"_blank\">(Documentation)</a>.<br/>\n",
       "                Project page: <a href=\"https://wandb.ai/taepd/SOM-DST\" target=\"_blank\">https://wandb.ai/taepd/SOM-DST</a><br/>\n",
       "                Run page: <a href=\"https://wandb.ai/taepd/SOM-DST/runs/2u753wo2\" target=\"_blank\">https://wandb.ai/taepd/SOM-DST/runs/2u753wo2</a><br/>\n",
       "                Run data is saved locally in <code>/opt/ml/repo/taepd/som-dst_edit/wandb/run-20210515_180647-2u753wo2</code><br/><br/>\n",
       "            "
      ],
      "text/plain": [
       "<IPython.core.display.HTML object>"
      ]
     },
     "metadata": {},
     "output_type": "display_data"
    }
   ],
   "source": [
    "# wandb sweep 생성 시 parameters에 전달하는 config 설정\n",
    "# hyperparameter_defaults = dict(\n",
    "#     batch_size = args.batch_size,\n",
    "#     learning_rate = args.learning_rate,\n",
    "#     epochs = args.num_train_epochs,\n",
    "#     weight_decay = args.weight_decay,\n",
    "#     attn_head = args.attn_head,\n",
    "#     distance_metric = args.distance_metric,\n",
    "    \n",
    "#     dropout = 0.1,\n",
    "#     smoothing = 0.2\n",
    "#     model_name = 'BertForSequenceClassification',\n",
    "#     tokenizer_name = 'BertTokenizer',\n",
    "#     )\n",
    "\n",
    "# wandb.init(config=hyperparameter_defaults, project=\"TRADE\")\n",
    "wandb.init(project=\"SOM-DST\")\n",
    "config = wandb.config"
   ]
  },
  {
   "cell_type": "markdown",
   "id": "188c8fa6-550a-477e-af6e-ed7d6df04c0b",
   "metadata": {},
   "source": [
    "### args setting"
   ]
  },
  {
   "cell_type": "code",
   "execution_count": 5,
   "id": "e8a06d10-b4d4-4b14-a7e4-ba07448814c7",
   "metadata": {},
   "outputs": [
    {
     "name": "stdout",
     "output_type": "stream",
     "text": [
      "pytorch version:  1.7.0+cu101\n"
     ]
    }
   ],
   "source": [
    "from argparse import Namespace\n",
    "\n",
    "parser = argparse.ArgumentParser()\n",
    "\n",
    "# Required parameters\n",
    "args = {\n",
    "    \"data_root\":'data',  # default='data/mwz2.1'\n",
    "    \"train_data\":'train_dials.json',\n",
    "    \"dev_data\":'dev_dials.json',\n",
    "    \"test_data\":'test_dials.json',\n",
    "    \"ontology_data\":'ontology.json',\n",
    "    \"slot_meta\":'slot_meta.json',\n",
    "    # \"--vocab_path\":'assets/vocab.txt',\n",
    "    \"bert_config_path\":'assets/bert_config_base_uncased.json',\n",
    "    \"bert_ckpt_path\":'assets/bert-base-uncased-pytorch_model.bin',\n",
    "    \"save_dir\":'outputs',\n",
    "\n",
    "    \"random_seed\":42, \n",
    "    \"num_workers\":4, \n",
    "    \"batch_size\": 32, \n",
    "    \"enc_warmup\":0.1, \n",
    "    \"dec_warmup\":0.1, \n",
    "    \"enc_lr\":4e-5, # default 4e-5\n",
    "    \"dec_lr\":1e-4, \n",
    "    \"n_epochs\": 100, \n",
    "    \"eval_epoch\":1, \n",
    "\n",
    "    \"op_code\":\"3-1\",\n",
    "    \"slot_token\":\"[SLOT]\",\n",
    "    \"dropout\":0.1, \n",
    "    \"hidden_dropout_prob\":0.1, \n",
    "    \"attention_probs_dropout_prob\":0.1, \n",
    "    \"decoder_teacher_forcing\":0.5, \n",
    "    \"word_dropout\":0.1, \n",
    "    \"not_shuffle_state\":False,\n",
    "    \"shuffle_p\":0.5, \n",
    "\n",
    "    \"n_history\":1, \n",
    "    \"max_seq_length\":512, \n",
    "    \"msg\":None,\n",
    "    \"exclude_domain\": False, \n",
    "}\n",
    "\n",
    "args = Namespace(**args)\n",
    "\n",
    "args.train_data_path = os.path.join(args.data_root, args.train_data)\n",
    "args.dev_data_path = os.path.join(args.data_root, args.dev_data)\n",
    "args.test_data_path = os.path.join(args.data_root, args.test_data)\n",
    "args.ontology_data = os.path.join(args.data_root, args.ontology_data)\n",
    "args.slot_meta = os.path.join(args.data_root, args.slot_meta)\n",
    "args.shuffle_state = False if args.not_shuffle_state else True\n",
    "\n",
    "\n",
    "print('pytorch version: ', torch.__version__)\n",
    "# print(args)"
   ]
  },
  {
   "cell_type": "code",
   "execution_count": 6,
   "id": "dbdcdf5a-2d9e-4213-ab0a-dcd5dff2d29a",
   "metadata": {},
   "outputs": [],
   "source": [
    "def worker_init_fn(worker_id):\n",
    "        np.random.seed(args.random_seed + worker_id)\n",
    "\n",
    "n_gpu = 0\n",
    "if torch.cuda.is_available():\n",
    "    n_gpu = torch.cuda.device_count()\n",
    "np.random.seed(args.random_seed)\n",
    "random.seed(args.random_seed)\n",
    "rng = random.Random(args.random_seed)\n",
    "torch.manual_seed(args.random_seed)\n",
    "if n_gpu > 0:\n",
    "    torch.cuda.manual_seed(args.random_seed)\n",
    "    torch.cuda.manual_seed_all(args.random_seed)\n",
    "    torch.backends.cudnn.benchmark = False\n",
    "    torch.backends.cudnn.deterministic = True\n",
    "\n",
    "if not os.path.exists(args.save_dir):\n",
    "    os.mkdir(args.save_dir)"
   ]
  },
  {
   "cell_type": "code",
   "execution_count": 7,
   "id": "7123eec2-5206-4ca0-8b81-8d07120ec9c5",
   "metadata": {},
   "outputs": [
    {
     "name": "stdout",
     "output_type": "stream",
     "text": [
      "{'update': 0, 'carryover': 1, 'dontcare': 2}\n"
     ]
    }
   ],
   "source": [
    "ontology = json.load(open(args.ontology_data))\n",
    "# slot_meta, ontology = make_slot_meta(ontology)\n",
    "slot_meta = json.load(open(args.slot_meta))\n",
    "op2id = OP_SET[args.op_code]\n",
    "print(op2id)\n"
   ]
  },
  {
   "cell_type": "markdown",
   "id": "957398d9-151e-431e-ad7d-91dceafdd1ee",
   "metadata": {},
   "source": [
    "### MODEL CONFIG"
   ]
  },
  {
   "cell_type": "code",
   "execution_count": 13,
   "id": "f8db0727-4e2b-4bce-a7cb-fc5e744ec430",
   "metadata": {
    "collapsed": true,
    "jupyter": {
     "outputs_hidden": true
    },
    "tags": []
   },
   "outputs": [
    {
     "name": "stderr",
     "output_type": "stream",
     "text": [
      "Special tokens have been added in the vocabulary, make sure the associated word embedding are fine-tuned or trained.\n"
     ]
    },
    {
     "data": {
      "text/plain": [
       "SomDST(\n",
       "  (encoder): Encoder(\n",
       "    (bert): BertModel(\n",
       "      (embeddings): BertEmbeddings(\n",
       "        (word_embeddings): Embedding(35003, 768)\n",
       "        (position_embeddings): Embedding(512, 768)\n",
       "        (token_type_embeddings): Embedding(2, 768)\n",
       "        (LayerNorm): LayerNorm((768,), eps=1e-12, elementwise_affine=True)\n",
       "        (dropout): Dropout(p=0.1, inplace=False)\n",
       "      )\n",
       "      (encoder): BertEncoder(\n",
       "        (layer): ModuleList(\n",
       "          (0): BertLayer(\n",
       "            (attention): BertAttention(\n",
       "              (self): BertSelfAttention(\n",
       "                (query): Linear(in_features=768, out_features=768, bias=True)\n",
       "                (key): Linear(in_features=768, out_features=768, bias=True)\n",
       "                (value): Linear(in_features=768, out_features=768, bias=True)\n",
       "                (dropout): Dropout(p=0.1, inplace=False)\n",
       "              )\n",
       "              (output): BertSelfOutput(\n",
       "                (dense): Linear(in_features=768, out_features=768, bias=True)\n",
       "                (LayerNorm): LayerNorm((768,), eps=1e-12, elementwise_affine=True)\n",
       "                (dropout): Dropout(p=0.1, inplace=False)\n",
       "              )\n",
       "            )\n",
       "            (intermediate): BertIntermediate(\n",
       "              (dense): Linear(in_features=768, out_features=3072, bias=True)\n",
       "            )\n",
       "            (output): BertOutput(\n",
       "              (dense): Linear(in_features=3072, out_features=768, bias=True)\n",
       "              (LayerNorm): LayerNorm((768,), eps=1e-12, elementwise_affine=True)\n",
       "              (dropout): Dropout(p=0.1, inplace=False)\n",
       "            )\n",
       "          )\n",
       "          (1): BertLayer(\n",
       "            (attention): BertAttention(\n",
       "              (self): BertSelfAttention(\n",
       "                (query): Linear(in_features=768, out_features=768, bias=True)\n",
       "                (key): Linear(in_features=768, out_features=768, bias=True)\n",
       "                (value): Linear(in_features=768, out_features=768, bias=True)\n",
       "                (dropout): Dropout(p=0.1, inplace=False)\n",
       "              )\n",
       "              (output): BertSelfOutput(\n",
       "                (dense): Linear(in_features=768, out_features=768, bias=True)\n",
       "                (LayerNorm): LayerNorm((768,), eps=1e-12, elementwise_affine=True)\n",
       "                (dropout): Dropout(p=0.1, inplace=False)\n",
       "              )\n",
       "            )\n",
       "            (intermediate): BertIntermediate(\n",
       "              (dense): Linear(in_features=768, out_features=3072, bias=True)\n",
       "            )\n",
       "            (output): BertOutput(\n",
       "              (dense): Linear(in_features=3072, out_features=768, bias=True)\n",
       "              (LayerNorm): LayerNorm((768,), eps=1e-12, elementwise_affine=True)\n",
       "              (dropout): Dropout(p=0.1, inplace=False)\n",
       "            )\n",
       "          )\n",
       "          (2): BertLayer(\n",
       "            (attention): BertAttention(\n",
       "              (self): BertSelfAttention(\n",
       "                (query): Linear(in_features=768, out_features=768, bias=True)\n",
       "                (key): Linear(in_features=768, out_features=768, bias=True)\n",
       "                (value): Linear(in_features=768, out_features=768, bias=True)\n",
       "                (dropout): Dropout(p=0.1, inplace=False)\n",
       "              )\n",
       "              (output): BertSelfOutput(\n",
       "                (dense): Linear(in_features=768, out_features=768, bias=True)\n",
       "                (LayerNorm): LayerNorm((768,), eps=1e-12, elementwise_affine=True)\n",
       "                (dropout): Dropout(p=0.1, inplace=False)\n",
       "              )\n",
       "            )\n",
       "            (intermediate): BertIntermediate(\n",
       "              (dense): Linear(in_features=768, out_features=3072, bias=True)\n",
       "            )\n",
       "            (output): BertOutput(\n",
       "              (dense): Linear(in_features=3072, out_features=768, bias=True)\n",
       "              (LayerNorm): LayerNorm((768,), eps=1e-12, elementwise_affine=True)\n",
       "              (dropout): Dropout(p=0.1, inplace=False)\n",
       "            )\n",
       "          )\n",
       "          (3): BertLayer(\n",
       "            (attention): BertAttention(\n",
       "              (self): BertSelfAttention(\n",
       "                (query): Linear(in_features=768, out_features=768, bias=True)\n",
       "                (key): Linear(in_features=768, out_features=768, bias=True)\n",
       "                (value): Linear(in_features=768, out_features=768, bias=True)\n",
       "                (dropout): Dropout(p=0.1, inplace=False)\n",
       "              )\n",
       "              (output): BertSelfOutput(\n",
       "                (dense): Linear(in_features=768, out_features=768, bias=True)\n",
       "                (LayerNorm): LayerNorm((768,), eps=1e-12, elementwise_affine=True)\n",
       "                (dropout): Dropout(p=0.1, inplace=False)\n",
       "              )\n",
       "            )\n",
       "            (intermediate): BertIntermediate(\n",
       "              (dense): Linear(in_features=768, out_features=3072, bias=True)\n",
       "            )\n",
       "            (output): BertOutput(\n",
       "              (dense): Linear(in_features=3072, out_features=768, bias=True)\n",
       "              (LayerNorm): LayerNorm((768,), eps=1e-12, elementwise_affine=True)\n",
       "              (dropout): Dropout(p=0.1, inplace=False)\n",
       "            )\n",
       "          )\n",
       "          (4): BertLayer(\n",
       "            (attention): BertAttention(\n",
       "              (self): BertSelfAttention(\n",
       "                (query): Linear(in_features=768, out_features=768, bias=True)\n",
       "                (key): Linear(in_features=768, out_features=768, bias=True)\n",
       "                (value): Linear(in_features=768, out_features=768, bias=True)\n",
       "                (dropout): Dropout(p=0.1, inplace=False)\n",
       "              )\n",
       "              (output): BertSelfOutput(\n",
       "                (dense): Linear(in_features=768, out_features=768, bias=True)\n",
       "                (LayerNorm): LayerNorm((768,), eps=1e-12, elementwise_affine=True)\n",
       "                (dropout): Dropout(p=0.1, inplace=False)\n",
       "              )\n",
       "            )\n",
       "            (intermediate): BertIntermediate(\n",
       "              (dense): Linear(in_features=768, out_features=3072, bias=True)\n",
       "            )\n",
       "            (output): BertOutput(\n",
       "              (dense): Linear(in_features=3072, out_features=768, bias=True)\n",
       "              (LayerNorm): LayerNorm((768,), eps=1e-12, elementwise_affine=True)\n",
       "              (dropout): Dropout(p=0.1, inplace=False)\n",
       "            )\n",
       "          )\n",
       "          (5): BertLayer(\n",
       "            (attention): BertAttention(\n",
       "              (self): BertSelfAttention(\n",
       "                (query): Linear(in_features=768, out_features=768, bias=True)\n",
       "                (key): Linear(in_features=768, out_features=768, bias=True)\n",
       "                (value): Linear(in_features=768, out_features=768, bias=True)\n",
       "                (dropout): Dropout(p=0.1, inplace=False)\n",
       "              )\n",
       "              (output): BertSelfOutput(\n",
       "                (dense): Linear(in_features=768, out_features=768, bias=True)\n",
       "                (LayerNorm): LayerNorm((768,), eps=1e-12, elementwise_affine=True)\n",
       "                (dropout): Dropout(p=0.1, inplace=False)\n",
       "              )\n",
       "            )\n",
       "            (intermediate): BertIntermediate(\n",
       "              (dense): Linear(in_features=768, out_features=3072, bias=True)\n",
       "            )\n",
       "            (output): BertOutput(\n",
       "              (dense): Linear(in_features=3072, out_features=768, bias=True)\n",
       "              (LayerNorm): LayerNorm((768,), eps=1e-12, elementwise_affine=True)\n",
       "              (dropout): Dropout(p=0.1, inplace=False)\n",
       "            )\n",
       "          )\n",
       "        )\n",
       "      )\n",
       "      (pooler): BertPooler(\n",
       "        (dense): Linear(in_features=768, out_features=768, bias=True)\n",
       "        (activation): Tanh()\n",
       "      )\n",
       "    )\n",
       "    (dropout): Dropout(p=0.1, inplace=False)\n",
       "    (action_cls): Linear(in_features=768, out_features=3, bias=True)\n",
       "    (domain_cls): Linear(in_features=768, out_features=5, bias=True)\n",
       "  )\n",
       "  (decoder): Decoder(\n",
       "    (embed): Embedding(35003, 768, padding_idx=0)\n",
       "    (gru): GRU(768, 768, batch_first=True)\n",
       "    (w_gen): Linear(in_features=2304, out_features=1, bias=True)\n",
       "    (sigmoid): Sigmoid()\n",
       "    (dropout): Dropout(p=0.1, inplace=False)\n",
       "  )\n",
       ")"
      ]
     },
     "execution_count": 13,
     "metadata": {},
     "output_type": "execute_result"
    }
   ],
   "source": [
    "# model_config = BertConfig.from_json_file(args.bert_config_path)\n",
    "model_config = BertConfig.from_pretrained('dsksd/bert-ko-small-minimal')\n",
    "model_config.dropout = args.dropout\n",
    "model_config.attention_probs_dropout_prob = args.attention_probs_dropout_prob\n",
    "model_config.hidden_dropout_prob = args.hidden_dropout_prob\n",
    "model_config.vocab_size += 3  # 추가되는 special token 고려\n",
    "model = SomDST(model_config, len(op2id), len(domain2id), op2id['update'], args.exclude_domain)\n",
    "\n",
    "# wandb.watch(model)\n",
    "# if not os.path.exists(args.bert_ckpt_path):\n",
    "#     args.bert_ckpt_path = download_ckpt(args.bert_ckpt_path, args.bert_config_path, 'assets')\n",
    "\n",
    "# ckpt = torch.load(args.bert_ckpt_path, map_location='cpu')\n",
    "# model.encoder.bert.load_state_dict(ckpt)\n",
    "\n",
    "\n",
    "# re-initialize added special tokens ([SLOT], [NULL], [EOS])\n",
    "# model.encoder.bert.embeddings.word_embeddings.weight.data[1].normal_(mean=0.0, std=0.02)\n",
    "# model.encoder.bert.embeddings.word_embeddings.weight.data[2].normal_(mean=0.0, std=0.02)\n",
    "# model.encoder.bert.embeddings.word_embeddings.weight.data[3].normal_(mean=0.0, std=0.02)\n",
    "\n",
    "\n",
    "# tokenizer = BertTokenizer(args.vocab_path, do_lower_case=True)\n",
    "tokenizer = model.encoder.tokenizer\n",
    "# tokenizer = BertTokenizer.from_pretrained('dsksd/bert-ko-small-minimal', additional_special_tokens = ['[SLOT]', '[NULL]','[EOS]'])\n",
    "# tokenizer = BertTokenizer.from_pretrained('dsksd/bert-ko-small-minimal')\n",
    "\n",
    "model.to(device)"
   ]
  },
  {
   "cell_type": "code",
   "execution_count": 12,
   "id": "9964b70c-64e7-49b0-99e1-0581043f9c1f",
   "metadata": {},
   "outputs": [
    {
     "data": {
      "text/plain": [
       "[35000, 35001, 35002]"
      ]
     },
     "execution_count": 12,
     "metadata": {},
     "output_type": "execute_result"
    }
   ],
   "source": [
    "tokenizer.all_special_tokens\n",
    "\n",
    "tokenizer.additional_special_tokens_ids\n",
    "\n"
   ]
  },
  {
   "cell_type": "markdown",
   "id": "d989ef64-3b26-4fb8-8f0a-1de8ce848c1c",
   "metadata": {},
   "source": [
    "### DATA PREPERATION"
   ]
  },
  {
   "cell_type": "code",
   "execution_count": 8,
   "id": "68149f73-3337-4932-a0da-396441132b92",
   "metadata": {},
   "outputs": [
    {
     "name": "stdout",
     "output_type": "stream",
     "text": [
      "# test examples 14771\n"
     ]
    }
   ],
   "source": [
    "if not os.path.exists('raw_data'):\n",
    "    os.mkdir('raw_data')\n",
    "# print('Making Train_Data_Raw....')\n",
    "# if not os.path.exists('./raw_data/train_data_raw'):\n",
    "#     train_data_raw = prepare_dataset(data_path=args.train_data_path,\n",
    "#                                     tokenizer=tokenizer,\n",
    "#                                     slot_meta=slot_meta,\n",
    "#                                     n_history=args.n_history,\n",
    "#                                     max_seq_length=args.max_seq_length,\n",
    "#                                     op_code=args.op_code)\n",
    "#     with open('./raw_data/train_data_raw', 'wb') as f:\n",
    "#         pickle.dump(train_data_raw, f)\n",
    "# else:\n",
    "#     with open('./raw_data/train_data_raw', 'rb') as f:\n",
    "#         train_data_raw = pickle.load(f)\n",
    "\n",
    "# train_data = MultiWozDataset(train_data_raw,\n",
    "#                              tokenizer,\n",
    "#                              slot_meta,\n",
    "#                              args.max_seq_length,\n",
    "#                              rng,\n",
    "#                              ontology,\n",
    "#                              args.word_dropout,\n",
    "#                              args.shuffle_state,\n",
    "#                              args.shuffle_p)\n",
    "# print(\"# train examples %d\" % len(train_data_raw))\n",
    "\n",
    "# print('Making Dev_Data_Raw....')\n",
    "# # print(f'max_seq_length : {args.max_seq_length}')\n",
    "# if not os.path.exists('./raw_data/dev_data_raw'):\n",
    "#     dev_data_raw = prepare_dataset(data_path=args.dev_data_path,\n",
    "#                                 tokenizer=tokenizer,\n",
    "#                                 slot_meta=slot_meta,\n",
    "#                                 n_history=args.n_history,\n",
    "#                                 max_seq_length=args.max_seq_length,\n",
    "#                                 op_code=args.op_code)\n",
    "#     with open('./raw_data/dev_data_raw', 'wb') as f:\n",
    "#         pickle.dump(dev_data_raw, f)\n",
    "# else:\n",
    "#     with open('./raw_data/dev_data_raw', 'rb') as f:\n",
    "#         dev_data_raw = pickle.load(f)\n",
    "# print(\"# dev examples %d\" % len(dev_data_raw))\n",
    "\n",
    "if not os.path.exists('./raw_data/test_data_raw'):\n",
    "    test_data_raw = prepare_dataset(data_path=args.test_data_path,\n",
    "                                    tokenizer=tokenizer,\n",
    "                                    slot_meta=slot_meta,\n",
    "                                    n_history=args.n_history,\n",
    "                                    max_seq_length=args.max_seq_length,\n",
    "                                    op_code=args.op_code)\n",
    "    with open('./raw_data/test_data_raw', 'wb') as f:\n",
    "        pickle.dump(test_data_raw, f)\n",
    "else:\n",
    "    with open('./raw_data/test_data_raw', 'rb') as f:\n",
    "        test_data_raw = pickle.load(f)\n",
    "print(\"# test examples %d\" % len(test_data_raw))"
   ]
  },
  {
   "cell_type": "markdown",
   "id": "6fca5d63-89d8-42de-ab0f-59f14f031d6e",
   "metadata": {},
   "source": [
    "### Optimizer & Scheduler"
   ]
  },
  {
   "cell_type": "code",
   "execution_count": 15,
   "id": "6b98d4d5-3301-443b-82ac-a292052255de",
   "metadata": {},
   "outputs": [
    {
     "ename": "NameError",
     "evalue": "name 'train_data_raw' is not defined",
     "output_type": "error",
     "traceback": [
      "\u001b[0;31m---------------------------------------------------------------------------\u001b[0m",
      "\u001b[0;31mNameError\u001b[0m                                 Traceback (most recent call last)",
      "\u001b[0;32m<ipython-input-15-5b93ba4979e3>\u001b[0m in \u001b[0;36m<module>\u001b[0;34m\u001b[0m\n\u001b[1;32m      1\u001b[0m \u001b[0;31m######## STEPS ########\u001b[0m\u001b[0;34m\u001b[0m\u001b[0;34m\u001b[0m\u001b[0;34m\u001b[0m\u001b[0m\n\u001b[0;32m----> 2\u001b[0;31m \u001b[0mnum_train_steps\u001b[0m \u001b[0;34m=\u001b[0m \u001b[0mint\u001b[0m\u001b[0;34m(\u001b[0m\u001b[0mlen\u001b[0m\u001b[0;34m(\u001b[0m\u001b[0mtrain_data_raw\u001b[0m\u001b[0;34m)\u001b[0m \u001b[0;34m/\u001b[0m \u001b[0margs\u001b[0m\u001b[0;34m.\u001b[0m\u001b[0mbatch_size\u001b[0m \u001b[0;34m*\u001b[0m \u001b[0margs\u001b[0m\u001b[0;34m.\u001b[0m\u001b[0mn_epochs\u001b[0m\u001b[0;34m)\u001b[0m\u001b[0;34m\u001b[0m\u001b[0;34m\u001b[0m\u001b[0m\n\u001b[0m\u001b[1;32m      3\u001b[0m \u001b[0;34m\u001b[0m\u001b[0m\n\u001b[1;32m      4\u001b[0m \u001b[0;34m\u001b[0m\u001b[0m\n\u001b[1;32m      5\u001b[0m \u001b[0;31m######## ENC/DEC OPTIMIZER ########\u001b[0m\u001b[0;34m\u001b[0m\u001b[0;34m\u001b[0m\u001b[0;34m\u001b[0m\u001b[0m\n",
      "\u001b[0;31mNameError\u001b[0m: name 'train_data_raw' is not defined"
     ]
    }
   ],
   "source": [
    "######## STEPS ########\n",
    "num_train_steps = int(len(train_data_raw) / args.batch_size * args.n_epochs)\n",
    "\n",
    "\n",
    "######## ENC/DEC OPTIMIZER ########\n",
    "no_decay = ['bias', 'LayerNorm.bias', 'LayerNorm.weight']\n",
    "enc_param_optimizer = list(model.encoder.named_parameters())\n",
    "enc_optimizer_grouped_parameters = [\n",
    "    {'params': [p for n, p in enc_param_optimizer if not any(nd in n for nd in no_decay)], 'weight_decay': 0.01},\n",
    "    {'params': [p for n, p in enc_param_optimizer if any(nd in n for nd in no_decay)], 'weight_decay': 0.0}\n",
    "    ]\n",
    "\n",
    "enc_optimizer = AdamW(enc_optimizer_grouped_parameters, lr=args.enc_lr)\n",
    "# enc_scheduler = WarmupLinearSchedule(enc_optimizer, int(num_train_steps * args.enc_warmup),\n",
    "#                                      t_total=num_train_steps)\n",
    "enc_scheduler = get_linear_schedule_with_warmup(enc_optimizer, num_warmup_steps=int(num_train_steps * args.enc_warmup),\n",
    "                                     num_training_steps=num_train_steps)\n",
    "\n",
    "dec_param_optimizer = list(model.decoder.parameters())\n",
    "dec_optimizer = AdamW(dec_param_optimizer, lr=args.dec_lr)\n",
    "# dec_scheduler = WarmupLinearSchedule(dec_optimizer, int(num_train_steps * args.dec_warmup),\n",
    "#                                      t_total=num_train_steps)\n",
    "dec_scheduler = get_linear_schedule_with_warmup(dec_optimizer, num_warmup_steps=int(num_train_steps * args.dec_warmup),\n",
    "                                    num_training_steps=num_train_steps)\n",
    "\n",
    "if n_gpu > 1:\n",
    "    model = torch.nn.DataParallel(model)"
   ]
  },
  {
   "cell_type": "markdown",
   "id": "d238509d-829c-4c12-bcb5-a88b9424d27e",
   "metadata": {},
   "source": [
    "### Train DataLoading"
   ]
  },
  {
   "cell_type": "code",
   "execution_count": 15,
   "id": "47258933-7366-4b6b-a4c9-b7b85e68fccd",
   "metadata": {},
   "outputs": [
    {
     "name": "stdout",
     "output_type": "stream",
     "text": [
      "Making Train DataLoader...\n"
     ]
    }
   ],
   "source": [
    "print('Making Train DataLoader...')\n",
    "train_sampler = RandomSampler(train_data)\n",
    "train_dataloader = DataLoader(train_data,\n",
    "                              sampler=train_sampler,\n",
    "                              batch_size=args.batch_size,\n",
    "                              collate_fn=train_data.collate_fn,\n",
    "                              num_workers=args.num_workers,\n",
    "                              worker_init_fn=worker_init_fn)"
   ]
  },
  {
   "cell_type": "markdown",
   "id": "12fb4b82-fef3-4b91-a8b2-6995a37a513c",
   "metadata": {},
   "source": [
    "### Train"
   ]
  },
  {
   "cell_type": "code",
   "execution_count": 16,
   "id": "ac6d3d88-89b7-46ab-9395-06ca7d668ad6",
   "metadata": {},
   "outputs": [],
   "source": [
    "def get_lr(scheduler):\n",
    "    return scheduler.get_last_lr()[0]"
   ]
  },
  {
   "cell_type": "code",
   "execution_count": null,
   "id": "0133a089-cc5a-4c0e-933c-15b73c2fb530",
   "metadata": {
    "collapsed": true,
    "jupyter": {
     "outputs_hidden": true
    },
    "tags": []
   },
   "outputs": [
    {
     "name": "stderr",
     "output_type": "stream",
     "text": [
      "  0%|          | 0/1417 [00:00<?, ?it/s]"
     ]
    },
    {
     "name": "stdout",
     "output_type": "stream",
     "text": [
      "Let's Do the Training!\n"
     ]
    },
    {
     "name": "stderr",
     "output_type": "stream",
     "text": [
      "  0%|          | 1/1417 [00:02<48:16,  2.05s/it]"
     ]
    },
    {
     "name": "stdout",
     "output_type": "stream",
     "text": [
      "[1/100] [0/1417] mean_loss : 12.433, state_loss : 0.881, gen_loss : 9.989, dom_loss : 1.563\n"
     ]
    },
    {
     "name": "stderr",
     "output_type": "stream",
     "text": [
      "  7%|▋         | 101/1417 [02:16<28:25,  1.30s/it]"
     ]
    },
    {
     "name": "stdout",
     "output_type": "stream",
     "text": [
      "[1/100] [100/1417] mean_loss : 11.852, state_loss : 0.628, gen_loss : 8.838, dom_loss : 1.522\n"
     ]
    },
    {
     "name": "stderr",
     "output_type": "stream",
     "text": [
      " 14%|█▍        | 201/1417 [04:27<38:43,  1.91s/it]"
     ]
    },
    {
     "name": "stdout",
     "output_type": "stream",
     "text": [
      "[1/100] [200/1417] mean_loss : 10.839, state_loss : 0.354, gen_loss : 8.324, dom_loss : 1.528\n"
     ]
    },
    {
     "name": "stderr",
     "output_type": "stream",
     "text": [
      " 21%|██        | 301/1417 [06:39<23:40,  1.27s/it]"
     ]
    },
    {
     "name": "stdout",
     "output_type": "stream",
     "text": [
      "[1/100] [300/1417] mean_loss : 9.935, state_loss : 0.248, gen_loss : 7.865, dom_loss : 1.537\n"
     ]
    },
    {
     "name": "stderr",
     "output_type": "stream",
     "text": [
      " 28%|██▊       | 401/1417 [08:52<21:57,  1.30s/it]"
     ]
    },
    {
     "name": "stdout",
     "output_type": "stream",
     "text": [
      "[1/100] [400/1417] mean_loss : 9.424, state_loss : 0.206, gen_loss : 7.658, dom_loss : 1.598\n"
     ]
    },
    {
     "name": "stderr",
     "output_type": "stream",
     "text": [
      " 35%|███▌      | 501/1417 [11:03<18:25,  1.21s/it]"
     ]
    },
    {
     "name": "stdout",
     "output_type": "stream",
     "text": [
      "[1/100] [500/1417] mean_loss : 9.054, state_loss : 0.200, gen_loss : 7.630, dom_loss : 1.586\n"
     ]
    },
    {
     "name": "stderr",
     "output_type": "stream",
     "text": [
      " 42%|████▏     | 601/1417 [13:15<18:16,  1.34s/it]"
     ]
    },
    {
     "name": "stdout",
     "output_type": "stream",
     "text": [
      "[1/100] [600/1417] mean_loss : 8.680, state_loss : 0.210, gen_loss : 7.059, dom_loss : 1.464\n"
     ]
    },
    {
     "name": "stderr",
     "output_type": "stream",
     "text": [
      " 49%|████▉     | 701/1417 [15:25<15:25,  1.29s/it]"
     ]
    },
    {
     "name": "stdout",
     "output_type": "stream",
     "text": [
      "[1/100] [700/1417] mean_loss : 8.488, state_loss : 0.181, gen_loss : 6.863, dom_loss : 1.459\n"
     ]
    },
    {
     "name": "stderr",
     "output_type": "stream",
     "text": [
      " 57%|█████▋    | 801/1417 [17:35<15:16,  1.49s/it]"
     ]
    },
    {
     "name": "stdout",
     "output_type": "stream",
     "text": [
      "[1/100] [800/1417] mean_loss : 8.181, state_loss : 0.189, gen_loss : 6.381, dom_loss : 1.414\n"
     ]
    },
    {
     "name": "stderr",
     "output_type": "stream",
     "text": [
      " 64%|██████▎   | 901/1417 [19:48<11:20,  1.32s/it]"
     ]
    },
    {
     "name": "stdout",
     "output_type": "stream",
     "text": [
      "[1/100] [900/1417] mean_loss : 7.920, state_loss : 0.137, gen_loss : 5.936, dom_loss : 1.514\n"
     ]
    },
    {
     "name": "stderr",
     "output_type": "stream",
     "text": [
      " 71%|███████   | 1001/1417 [22:02<13:21,  1.93s/it]"
     ]
    },
    {
     "name": "stdout",
     "output_type": "stream",
     "text": [
      "[1/100] [1000/1417] mean_loss : 7.666, state_loss : 0.147, gen_loss : 6.064, dom_loss : 1.661\n"
     ]
    },
    {
     "name": "stderr",
     "output_type": "stream",
     "text": [
      " 78%|███████▊  | 1101/1417 [24:13<06:46,  1.29s/it]"
     ]
    },
    {
     "name": "stdout",
     "output_type": "stream",
     "text": [
      "[1/100] [1100/1417] mean_loss : 7.347, state_loss : 0.151, gen_loss : 5.585, dom_loss : 1.353\n"
     ]
    },
    {
     "name": "stderr",
     "output_type": "stream",
     "text": [
      " 85%|████████▍ | 1201/1417 [26:27<04:26,  1.23s/it]"
     ]
    },
    {
     "name": "stdout",
     "output_type": "stream",
     "text": [
      "[1/100] [1200/1417] mean_loss : 6.857, state_loss : 0.188, gen_loss : 5.122, dom_loss : 1.464\n"
     ]
    },
    {
     "name": "stderr",
     "output_type": "stream",
     "text": [
      " 92%|█████████▏| 1301/1417 [28:37<02:30,  1.30s/it]"
     ]
    },
    {
     "name": "stdout",
     "output_type": "stream",
     "text": [
      "[1/100] [1300/1417] mean_loss : 6.230, state_loss : 0.171, gen_loss : 3.971, dom_loss : 1.380\n"
     ]
    },
    {
     "name": "stderr",
     "output_type": "stream",
     "text": [
      " 99%|█████████▉| 1401/1417 [30:52<00:21,  1.32s/it]"
     ]
    },
    {
     "name": "stdout",
     "output_type": "stream",
     "text": [
      "[1/100] [1400/1417] mean_loss : 5.016, state_loss : 0.141, gen_loss : 2.810, dom_loss : 1.324\n"
     ]
    },
    {
     "name": "stderr",
     "output_type": "stream",
     "text": [
      "100%|██████████| 1417/1417 [31:13<00:00,  1.32s/it]\n",
      "100%|██████████| 5067/5067 [01:05<00:00, 77.75it/s]\n",
      "  0%|          | 0/1417 [00:00<?, ?it/s]"
     ]
    },
    {
     "name": "stdout",
     "output_type": "stream",
     "text": [
      "------------------------------\n",
      "op_code: 3-1, is_gt_op: False, is_gt_p_state: False, is_gt_gen: False\n",
      "Epoch 1 joint accuracy :  0.0\n",
      "Epoch 1 slot turn accuracy :  0.8140824068591884\n",
      "Epoch 1 slot turn F1:  0.0\n",
      "Epoch 1 op accuracy :  0.8140824068591884\n",
      "Epoch 1 op F1 :  {'update': 0, 'carryover': 0.8975142515919717, 'dontcare': 0}\n",
      "Epoch 1 op hit count :  {'update': 0, 'carryover': 185623, 'dontcare': 0}\n",
      "Epoch 1 op all count :  {'update': 36815, 'carryover': 185623, 'dontcare': 5577}\n",
      "Final Joint Accuracy :  0.0\n",
      "Final slot turn F1 :  0.0\n",
      "Latency Per Prediction : 7.904254 ms\n",
      "-----------------------------\n",
      "\n",
      "관광 0.0 0.936733574640782\n",
      "숙소 0.0 0.859153479994849\n",
      "식당 0.0 0.8675977423474603\n",
      "지하철 0.0 0.9528580603725081\n",
      "택시 0.0 0.9109692671394869\n",
      "Best Score :  {'epoch': 0, 'joint_acc': 0, 'op_acc': 0, 'final_slot_f1': 0}\n",
      "\n",
      "\n"
     ]
    },
    {
     "name": "stderr",
     "output_type": "stream",
     "text": [
      "  0%|          | 1/1417 [00:02<56:05,  2.38s/it]"
     ]
    },
    {
     "name": "stdout",
     "output_type": "stream",
     "text": [
      "[2/100] [0/1417] mean_loss : 4.699, state_loss : 0.154, gen_loss : 3.182, dom_loss : 1.363\n"
     ]
    },
    {
     "name": "stderr",
     "output_type": "stream",
     "text": [
      "  7%|▋         | 101/1417 [02:16<29:19,  1.34s/it]"
     ]
    },
    {
     "name": "stdout",
     "output_type": "stream",
     "text": [
      "[2/100] [100/1417] mean_loss : 4.178, state_loss : 0.188, gen_loss : 2.162, dom_loss : 1.289\n"
     ]
    },
    {
     "name": "stderr",
     "output_type": "stream",
     "text": [
      " 14%|█▍        | 201/1417 [04:32<28:42,  1.42s/it]"
     ]
    },
    {
     "name": "stdout",
     "output_type": "stream",
     "text": [
      "[2/100] [200/1417] mean_loss : 3.911, state_loss : 0.172, gen_loss : 2.432, dom_loss : 1.155\n"
     ]
    },
    {
     "name": "stderr",
     "output_type": "stream",
     "text": [
      " 21%|██        | 301/1417 [06:42<24:29,  1.32s/it]"
     ]
    },
    {
     "name": "stdout",
     "output_type": "stream",
     "text": [
      "[2/100] [300/1417] mean_loss : 3.486, state_loss : 0.156, gen_loss : 2.350, dom_loss : 0.942\n"
     ]
    },
    {
     "name": "stderr",
     "output_type": "stream",
     "text": [
      " 28%|██▊       | 401/1417 [08:55<21:29,  1.27s/it]"
     ]
    },
    {
     "name": "stdout",
     "output_type": "stream",
     "text": [
      "[2/100] [400/1417] mean_loss : 3.164, state_loss : 0.185, gen_loss : 2.279, dom_loss : 0.775\n"
     ]
    },
    {
     "name": "stderr",
     "output_type": "stream",
     "text": [
      " 35%|███▌      | 501/1417 [11:07<18:27,  1.21s/it]"
     ]
    },
    {
     "name": "stdout",
     "output_type": "stream",
     "text": [
      "[2/100] [500/1417] mean_loss : 2.859, state_loss : 0.166, gen_loss : 2.230, dom_loss : 0.468\n"
     ]
    },
    {
     "name": "stderr",
     "output_type": "stream",
     "text": [
      " 42%|████▏     | 601/1417 [13:22<19:13,  1.41s/it]"
     ]
    },
    {
     "name": "stdout",
     "output_type": "stream",
     "text": [
      "[2/100] [600/1417] mean_loss : 2.639, state_loss : 0.183, gen_loss : 2.400, dom_loss : 0.611\n"
     ]
    },
    {
     "name": "stderr",
     "output_type": "stream",
     "text": [
      " 49%|████▉     | 701/1417 [15:33<15:37,  1.31s/it]"
     ]
    },
    {
     "name": "stdout",
     "output_type": "stream",
     "text": [
      "[2/100] [700/1417] mean_loss : 2.300, state_loss : 0.137, gen_loss : 1.981, dom_loss : 0.340\n"
     ]
    },
    {
     "name": "stderr",
     "output_type": "stream",
     "text": [
      " 57%|█████▋    | 801/1417 [17:45<14:32,  1.42s/it]"
     ]
    },
    {
     "name": "stdout",
     "output_type": "stream",
     "text": [
      "[2/100] [800/1417] mean_loss : 2.218, state_loss : 0.182, gen_loss : 1.675, dom_loss : 0.501\n"
     ]
    },
    {
     "name": "stderr",
     "output_type": "stream",
     "text": [
      " 64%|██████▎   | 901/1417 [19:57<10:22,  1.21s/it]"
     ]
    },
    {
     "name": "stdout",
     "output_type": "stream",
     "text": [
      "[2/100] [900/1417] mean_loss : 2.027, state_loss : 0.155, gen_loss : 1.255, dom_loss : 0.496\n"
     ]
    },
    {
     "name": "stderr",
     "output_type": "stream",
     "text": [
      " 71%|███████   | 1001/1417 [22:09<09:13,  1.33s/it]"
     ]
    },
    {
     "name": "stdout",
     "output_type": "stream",
     "text": [
      "[2/100] [1000/1417] mean_loss : 1.960, state_loss : 0.167, gen_loss : 1.481, dom_loss : 0.171\n"
     ]
    },
    {
     "name": "stderr",
     "output_type": "stream",
     "text": [
      " 78%|███████▊  | 1101/1417 [24:19<06:26,  1.22s/it]"
     ]
    },
    {
     "name": "stdout",
     "output_type": "stream",
     "text": [
      "[2/100] [1100/1417] mean_loss : 1.801, state_loss : 0.165, gen_loss : 1.456, dom_loss : 0.135\n"
     ]
    },
    {
     "name": "stderr",
     "output_type": "stream",
     "text": [
      " 85%|████████▍ | 1201/1417 [26:30<04:29,  1.25s/it]"
     ]
    },
    {
     "name": "stdout",
     "output_type": "stream",
     "text": [
      "[2/100] [1200/1417] mean_loss : 1.738, state_loss : 0.150, gen_loss : 1.300, dom_loss : 0.187\n"
     ]
    },
    {
     "name": "stderr",
     "output_type": "stream",
     "text": [
      " 92%|█████████▏| 1301/1417 [28:41<02:26,  1.26s/it]"
     ]
    },
    {
     "name": "stdout",
     "output_type": "stream",
     "text": [
      "[2/100] [1300/1417] mean_loss : 1.635, state_loss : 0.157, gen_loss : 1.153, dom_loss : 0.230\n"
     ]
    },
    {
     "name": "stderr",
     "output_type": "stream",
     "text": [
      " 99%|█████████▉| 1401/1417 [30:56<00:24,  1.52s/it]"
     ]
    },
    {
     "name": "stdout",
     "output_type": "stream",
     "text": [
      "[2/100] [1400/1417] mean_loss : 1.584, state_loss : 0.181, gen_loss : 1.291, dom_loss : 0.140\n"
     ]
    },
    {
     "name": "stderr",
     "output_type": "stream",
     "text": [
      "100%|██████████| 1417/1417 [31:15<00:00,  1.32s/it]\n",
      "100%|██████████| 5067/5067 [01:05<00:00, 77.24it/s]\n",
      "  0%|          | 0/1417 [00:00<?, ?it/s]"
     ]
    },
    {
     "name": "stdout",
     "output_type": "stream",
     "text": [
      "------------------------------\n",
      "op_code: 3-1, is_gt_op: False, is_gt_p_state: False, is_gt_gen: False\n",
      "Epoch 2 joint accuracy :  0.0\n",
      "Epoch 2 slot turn accuracy :  0.8140824068591884\n",
      "Epoch 2 slot turn F1:  0.0\n",
      "Epoch 2 op accuracy :  0.8140824068591884\n",
      "Epoch 2 op F1 :  {'update': 0, 'carryover': 0.8975142515919717, 'dontcare': 0}\n",
      "Epoch 2 op hit count :  {'update': 0, 'carryover': 185623, 'dontcare': 0}\n",
      "Epoch 2 op all count :  {'update': 36815, 'carryover': 185623, 'dontcare': 5577}\n",
      "Final Joint Accuracy :  0.0\n",
      "Final slot turn F1 :  0.0\n",
      "Latency Per Prediction : 7.915276 ms\n",
      "-----------------------------\n",
      "\n",
      "관광 0.0 0.936733574640782\n",
      "숙소 0.0 0.859153479994849\n",
      "식당 0.0 0.8675977423474603\n",
      "지하철 0.0 0.9528580603725081\n",
      "택시 0.0 0.9109692671394869\n",
      "Best Score :  {'epoch': 0, 'joint_acc': 0, 'op_acc': 0, 'final_slot_f1': 0}\n",
      "\n",
      "\n"
     ]
    },
    {
     "name": "stderr",
     "output_type": "stream",
     "text": [
      "  0%|          | 1/1417 [00:02<59:49,  2.54s/it]"
     ]
    },
    {
     "name": "stdout",
     "output_type": "stream",
     "text": [
      "[3/100] [0/1417] mean_loss : 1.454, state_loss : 0.160, gen_loss : 1.111, dom_loss : 0.183\n"
     ]
    },
    {
     "name": "stderr",
     "output_type": "stream",
     "text": [
      "  7%|▋         | 101/1417 [02:17<29:02,  1.32s/it]"
     ]
    },
    {
     "name": "stdout",
     "output_type": "stream",
     "text": [
      "[3/100] [100/1417] mean_loss : 1.512, state_loss : 0.140, gen_loss : 1.119, dom_loss : 0.157\n"
     ]
    },
    {
     "name": "stderr",
     "output_type": "stream",
     "text": [
      " 14%|█▍        | 201/1417 [04:29<34:00,  1.68s/it]"
     ]
    },
    {
     "name": "stdout",
     "output_type": "stream",
     "text": [
      "[3/100] [200/1417] mean_loss : 1.417, state_loss : 0.201, gen_loss : 1.410, dom_loss : 0.320\n"
     ]
    },
    {
     "name": "stderr",
     "output_type": "stream",
     "text": [
      " 21%|██        | 301/1417 [06:40<24:11,  1.30s/it]"
     ]
    },
    {
     "name": "stdout",
     "output_type": "stream",
     "text": [
      "[3/100] [300/1417] mean_loss : 1.377, state_loss : 0.145, gen_loss : 1.108, dom_loss : 0.111\n"
     ]
    },
    {
     "name": "stderr",
     "output_type": "stream",
     "text": [
      " 28%|██▊       | 401/1417 [08:51<20:15,  1.20s/it]"
     ]
    },
    {
     "name": "stdout",
     "output_type": "stream",
     "text": [
      "[3/100] [400/1417] mean_loss : 1.294, state_loss : 0.173, gen_loss : 0.736, dom_loss : 0.055\n"
     ]
    },
    {
     "name": "stderr",
     "output_type": "stream",
     "text": [
      " 35%|███▌      | 501/1417 [11:00<19:34,  1.28s/it]"
     ]
    },
    {
     "name": "stdout",
     "output_type": "stream",
     "text": [
      "[3/100] [500/1417] mean_loss : 1.293, state_loss : 0.151, gen_loss : 0.844, dom_loss : 0.120\n"
     ]
    },
    {
     "name": "stderr",
     "output_type": "stream",
     "text": [
      " 42%|████▏     | 601/1417 [13:13<18:29,  1.36s/it]"
     ]
    },
    {
     "name": "stdout",
     "output_type": "stream",
     "text": [
      "[3/100] [600/1417] mean_loss : 1.244, state_loss : 0.134, gen_loss : 1.080, dom_loss : 0.182\n"
     ]
    },
    {
     "name": "stderr",
     "output_type": "stream",
     "text": [
      " 49%|████▉     | 701/1417 [15:28<15:58,  1.34s/it]"
     ]
    },
    {
     "name": "stdout",
     "output_type": "stream",
     "text": [
      "[3/100] [700/1417] mean_loss : 1.226, state_loss : 0.156, gen_loss : 0.918, dom_loss : 0.402\n"
     ]
    },
    {
     "name": "stderr",
     "output_type": "stream",
     "text": [
      " 57%|█████▋    | 801/1417 [17:39<13:29,  1.31s/it]"
     ]
    },
    {
     "name": "stdout",
     "output_type": "stream",
     "text": [
      "[3/100] [800/1417] mean_loss : 1.199, state_loss : 0.141, gen_loss : 1.239, dom_loss : 0.157\n"
     ]
    },
    {
     "name": "stderr",
     "output_type": "stream",
     "text": [
      " 64%|██████▎   | 901/1417 [19:54<11:25,  1.33s/it]"
     ]
    },
    {
     "name": "stdout",
     "output_type": "stream",
     "text": [
      "[3/100] [900/1417] mean_loss : 1.162, state_loss : 0.159, gen_loss : 0.809, dom_loss : 0.095\n"
     ]
    },
    {
     "name": "stderr",
     "output_type": "stream",
     "text": [
      " 71%|███████   | 1001/1417 [22:06<09:09,  1.32s/it]"
     ]
    },
    {
     "name": "stdout",
     "output_type": "stream",
     "text": [
      "[3/100] [1000/1417] mean_loss : 1.101, state_loss : 0.143, gen_loss : 0.732, dom_loss : 0.288\n"
     ]
    },
    {
     "name": "stderr",
     "output_type": "stream",
     "text": [
      " 78%|███████▊  | 1101/1417 [24:20<07:13,  1.37s/it]"
     ]
    },
    {
     "name": "stdout",
     "output_type": "stream",
     "text": [
      "[3/100] [1100/1417] mean_loss : 1.134, state_loss : 0.182, gen_loss : 0.775, dom_loss : 0.103\n"
     ]
    },
    {
     "name": "stderr",
     "output_type": "stream",
     "text": [
      " 85%|████████▍ | 1201/1417 [26:35<04:49,  1.34s/it]"
     ]
    },
    {
     "name": "stdout",
     "output_type": "stream",
     "text": [
      "[3/100] [1200/1417] mean_loss : 1.116, state_loss : 0.137, gen_loss : 0.990, dom_loss : 0.032\n"
     ]
    },
    {
     "name": "stderr",
     "output_type": "stream",
     "text": [
      " 92%|█████████▏| 1301/1417 [28:45<02:27,  1.27s/it]"
     ]
    },
    {
     "name": "stdout",
     "output_type": "stream",
     "text": [
      "[3/100] [1300/1417] mean_loss : 1.037, state_loss : 0.154, gen_loss : 0.939, dom_loss : 0.179\n"
     ]
    },
    {
     "name": "stderr",
     "output_type": "stream",
     "text": [
      " 99%|█████████▉| 1401/1417 [30:58<00:19,  1.23s/it]"
     ]
    },
    {
     "name": "stdout",
     "output_type": "stream",
     "text": [
      "[3/100] [1400/1417] mean_loss : 1.036, state_loss : 0.148, gen_loss : 0.693, dom_loss : 0.189\n"
     ]
    },
    {
     "name": "stderr",
     "output_type": "stream",
     "text": [
      "100%|██████████| 1417/1417 [31:19<00:00,  1.33s/it]\n",
      "100%|██████████| 5067/5067 [01:06<00:00, 76.57it/s]\n",
      "  0%|          | 0/1417 [00:00<?, ?it/s]"
     ]
    },
    {
     "name": "stdout",
     "output_type": "stream",
     "text": [
      "------------------------------\n",
      "op_code: 3-1, is_gt_op: False, is_gt_p_state: False, is_gt_gen: False\n",
      "Epoch 3 joint accuracy :  0.0\n",
      "Epoch 3 slot turn accuracy :  0.8140824068591884\n",
      "Epoch 3 slot turn F1:  0.0\n",
      "Epoch 3 op accuracy :  0.8140824068591884\n",
      "Epoch 3 op F1 :  {'update': 0, 'carryover': 0.8975142515919717, 'dontcare': 0}\n",
      "Epoch 3 op hit count :  {'update': 0, 'carryover': 185623, 'dontcare': 0}\n",
      "Epoch 3 op all count :  {'update': 36815, 'carryover': 185623, 'dontcare': 5577}\n",
      "Final Joint Accuracy :  0.0\n",
      "Final slot turn F1 :  0.0\n",
      "Latency Per Prediction : 8.002445 ms\n",
      "-----------------------------\n",
      "\n",
      "관광 0.0 0.936733574640782\n",
      "숙소 0.0 0.859153479994849\n",
      "식당 0.0 0.8675977423474603\n",
      "지하철 0.0 0.9528580603725081\n",
      "택시 0.0 0.9109692671394869\n",
      "Best Score :  {'epoch': 0, 'joint_acc': 0, 'op_acc': 0, 'final_slot_f1': 0}\n",
      "\n",
      "\n"
     ]
    },
    {
     "name": "stderr",
     "output_type": "stream",
     "text": [
      "  0%|          | 1/1417 [00:02<52:20,  2.22s/it]"
     ]
    },
    {
     "name": "stdout",
     "output_type": "stream",
     "text": [
      "[4/100] [0/1417] mean_loss : 0.964, state_loss : 0.185, gen_loss : 0.678, dom_loss : 0.101\n"
     ]
    },
    {
     "name": "stderr",
     "output_type": "stream",
     "text": [
      "  7%|▋         | 101/1417 [02:15<29:49,  1.36s/it]"
     ]
    },
    {
     "name": "stdout",
     "output_type": "stream",
     "text": [
      "[4/100] [100/1417] mean_loss : 0.980, state_loss : 0.123, gen_loss : 0.891, dom_loss : 0.061\n"
     ]
    },
    {
     "name": "stderr",
     "output_type": "stream",
     "text": [
      " 14%|█▍        | 201/1417 [04:24<25:56,  1.28s/it]"
     ]
    },
    {
     "name": "stdout",
     "output_type": "stream",
     "text": [
      "[4/100] [200/1417] mean_loss : 0.982, state_loss : 0.122, gen_loss : 0.637, dom_loss : 0.063\n"
     ]
    },
    {
     "name": "stderr",
     "output_type": "stream",
     "text": [
      " 21%|██        | 301/1417 [06:40<23:56,  1.29s/it]"
     ]
    },
    {
     "name": "stdout",
     "output_type": "stream",
     "text": [
      "[4/100] [300/1417] mean_loss : 0.974, state_loss : 0.166, gen_loss : 0.565, dom_loss : 0.180\n"
     ]
    },
    {
     "name": "stderr",
     "output_type": "stream",
     "text": [
      " 28%|██▊       | 401/1417 [08:53<23:21,  1.38s/it]"
     ]
    },
    {
     "name": "stdout",
     "output_type": "stream",
     "text": [
      "[4/100] [400/1417] mean_loss : 0.960, state_loss : 0.135, gen_loss : 0.876, dom_loss : 0.116\n"
     ]
    },
    {
     "name": "stderr",
     "output_type": "stream",
     "text": [
      " 35%|███▌      | 501/1417 [11:05<22:16,  1.46s/it]"
     ]
    },
    {
     "name": "stdout",
     "output_type": "stream",
     "text": [
      "[4/100] [500/1417] mean_loss : 0.952, state_loss : 0.171, gen_loss : 0.487, dom_loss : 0.107\n"
     ]
    },
    {
     "name": "stderr",
     "output_type": "stream",
     "text": [
      " 42%|████▏     | 601/1417 [13:19<17:43,  1.30s/it]"
     ]
    },
    {
     "name": "stdout",
     "output_type": "stream",
     "text": [
      "[4/100] [600/1417] mean_loss : 0.876, state_loss : 0.145, gen_loss : 0.451, dom_loss : 0.067\n"
     ]
    },
    {
     "name": "stderr",
     "output_type": "stream",
     "text": [
      " 49%|████▉     | 701/1417 [15:35<15:41,  1.32s/it]"
     ]
    },
    {
     "name": "stdout",
     "output_type": "stream",
     "text": [
      "[4/100] [700/1417] mean_loss : 0.909, state_loss : 0.147, gen_loss : 0.646, dom_loss : 0.113\n"
     ]
    },
    {
     "name": "stderr",
     "output_type": "stream",
     "text": [
      " 57%|█████▋    | 801/1417 [17:46<12:59,  1.27s/it]"
     ]
    },
    {
     "name": "stdout",
     "output_type": "stream",
     "text": [
      "[4/100] [800/1417] mean_loss : 0.877, state_loss : 0.127, gen_loss : 0.500, dom_loss : 0.052\n"
     ]
    },
    {
     "name": "stderr",
     "output_type": "stream",
     "text": [
      " 64%|██████▎   | 901/1417 [20:00<10:57,  1.27s/it]"
     ]
    },
    {
     "name": "stdout",
     "output_type": "stream",
     "text": [
      "[4/100] [900/1417] mean_loss : 0.906, state_loss : 0.133, gen_loss : 0.824, dom_loss : 0.035\n"
     ]
    },
    {
     "name": "stderr",
     "output_type": "stream",
     "text": [
      " 71%|███████   | 1001/1417 [22:09<09:03,  1.31s/it]"
     ]
    },
    {
     "name": "stdout",
     "output_type": "stream",
     "text": [
      "[4/100] [1000/1417] mean_loss : 0.843, state_loss : 0.112, gen_loss : 0.663, dom_loss : 0.038\n"
     ]
    },
    {
     "name": "stderr",
     "output_type": "stream",
     "text": [
      " 78%|███████▊  | 1101/1417 [24:22<07:05,  1.35s/it]"
     ]
    },
    {
     "name": "stdout",
     "output_type": "stream",
     "text": [
      "[4/100] [1100/1417] mean_loss : 0.879, state_loss : 0.143, gen_loss : 0.726, dom_loss : 0.012\n"
     ]
    },
    {
     "name": "stderr",
     "output_type": "stream",
     "text": [
      " 85%|████████▍ | 1201/1417 [26:33<04:39,  1.29s/it]"
     ]
    },
    {
     "name": "stdout",
     "output_type": "stream",
     "text": [
      "[4/100] [1200/1417] mean_loss : 0.857, state_loss : 0.129, gen_loss : 0.932, dom_loss : 0.054\n"
     ]
    },
    {
     "name": "stderr",
     "output_type": "stream",
     "text": [
      " 92%|█████████▏| 1301/1417 [28:41<02:26,  1.26s/it]"
     ]
    },
    {
     "name": "stdout",
     "output_type": "stream",
     "text": [
      "[4/100] [1300/1417] mean_loss : 0.800, state_loss : 0.136, gen_loss : 0.615, dom_loss : 0.053\n"
     ]
    },
    {
     "name": "stderr",
     "output_type": "stream",
     "text": [
      " 99%|█████████▉| 1401/1417 [30:57<00:20,  1.30s/it]"
     ]
    },
    {
     "name": "stdout",
     "output_type": "stream",
     "text": [
      "[4/100] [1400/1417] mean_loss : 0.857, state_loss : 0.129, gen_loss : 0.840, dom_loss : 0.101\n"
     ]
    },
    {
     "name": "stderr",
     "output_type": "stream",
     "text": [
      "100%|██████████| 1417/1417 [31:18<00:00,  1.33s/it]\n",
      "100%|██████████| 5067/5067 [01:07<00:00, 75.41it/s]\n",
      "  0%|          | 0/1417 [00:00<?, ?it/s]"
     ]
    },
    {
     "name": "stdout",
     "output_type": "stream",
     "text": [
      "------------------------------\n",
      "op_code: 3-1, is_gt_op: False, is_gt_p_state: False, is_gt_gen: False\n",
      "Epoch 4 joint accuracy :  0.0\n",
      "Epoch 4 slot turn accuracy :  0.8131833432011015\n",
      "Epoch 4 slot turn F1:  0.0350657051543624\n",
      "Epoch 4 op accuracy :  0.8131833432011015\n",
      "Epoch 4 op F1 :  {'update': 0, 'carryover': 0.8971667526253726, 'dontcare': 0.06096855103222072}\n",
      "Epoch 4 op hit count :  {'update': 0, 'carryover': 185260, 'dontcare': 158}\n",
      "Epoch 4 op all count :  {'update': 37858, 'carryover': 185496, 'dontcare': 4661}\n",
      "Final Joint Accuracy :  0.0\n",
      "Final slot turn F1 :  0.033080505449966345\n",
      "Latency Per Prediction : 8.070881 ms\n",
      "-----------------------------\n",
      "\n",
      "관광 0.0 0.936733574640782\n",
      "숙소 0.0 0.8621810540760697\n",
      "식당 0.0 0.8719564948708384\n",
      "지하철 0.0 0.9528580603725081\n",
      "택시 0.0 0.9109692671394869\n",
      "Best Score :  {'epoch': 0, 'joint_acc': 0, 'op_acc': 0, 'final_slot_f1': 0}\n",
      "\n",
      "\n"
     ]
    },
    {
     "name": "stderr",
     "output_type": "stream",
     "text": [
      "  0%|          | 1/1417 [00:02<1:08:59,  2.92s/it]"
     ]
    },
    {
     "name": "stdout",
     "output_type": "stream",
     "text": [
      "[5/100] [0/1417] mean_loss : 0.799, state_loss : 0.154, gen_loss : 0.574, dom_loss : 0.071\n"
     ]
    },
    {
     "name": "stderr",
     "output_type": "stream",
     "text": [
      "  7%|▋         | 101/1417 [02:17<29:02,  1.32s/it]"
     ]
    },
    {
     "name": "stdout",
     "output_type": "stream",
     "text": [
      "[5/100] [100/1417] mean_loss : 0.833, state_loss : 0.132, gen_loss : 0.391, dom_loss : 0.259\n"
     ]
    },
    {
     "name": "stderr",
     "output_type": "stream",
     "text": [
      " 14%|█▍        | 201/1417 [04:31<26:30,  1.31s/it]"
     ]
    },
    {
     "name": "stdout",
     "output_type": "stream",
     "text": [
      "[5/100] [200/1417] mean_loss : 0.776, state_loss : 0.118, gen_loss : 0.476, dom_loss : 0.016\n"
     ]
    },
    {
     "name": "stderr",
     "output_type": "stream",
     "text": [
      " 21%|██        | 301/1417 [06:43<23:34,  1.27s/it]"
     ]
    },
    {
     "name": "stdout",
     "output_type": "stream",
     "text": [
      "[5/100] [300/1417] mean_loss : 0.732, state_loss : 0.120, gen_loss : 0.814, dom_loss : 0.057\n"
     ]
    },
    {
     "name": "stderr",
     "output_type": "stream",
     "text": [
      " 28%|██▊       | 401/1417 [08:57<21:53,  1.29s/it]"
     ]
    },
    {
     "name": "stdout",
     "output_type": "stream",
     "text": [
      "[5/100] [400/1417] mean_loss : 0.746, state_loss : 0.124, gen_loss : 0.546, dom_loss : 0.046\n"
     ]
    },
    {
     "name": "stderr",
     "output_type": "stream",
     "text": [
      " 35%|███▌      | 501/1417 [11:08<19:51,  1.30s/it]"
     ]
    },
    {
     "name": "stdout",
     "output_type": "stream",
     "text": [
      "[5/100] [500/1417] mean_loss : 0.729, state_loss : 0.108, gen_loss : 0.638, dom_loss : 0.128\n"
     ]
    },
    {
     "name": "stderr",
     "output_type": "stream",
     "text": [
      " 42%|████▏     | 601/1417 [13:21<17:38,  1.30s/it]"
     ]
    },
    {
     "name": "stdout",
     "output_type": "stream",
     "text": [
      "[5/100] [600/1417] mean_loss : 0.746, state_loss : 0.103, gen_loss : 0.488, dom_loss : 0.013\n"
     ]
    },
    {
     "name": "stderr",
     "output_type": "stream",
     "text": [
      " 49%|████▉     | 701/1417 [15:34<16:03,  1.35s/it]"
     ]
    },
    {
     "name": "stdout",
     "output_type": "stream",
     "text": [
      "[5/100] [700/1417] mean_loss : 0.741, state_loss : 0.120, gen_loss : 0.308, dom_loss : 0.090\n"
     ]
    },
    {
     "name": "stderr",
     "output_type": "stream",
     "text": [
      " 57%|█████▋    | 801/1417 [17:43<13:41,  1.33s/it]"
     ]
    },
    {
     "name": "stdout",
     "output_type": "stream",
     "text": [
      "[5/100] [800/1417] mean_loss : 0.740, state_loss : 0.101, gen_loss : 0.336, dom_loss : 0.094\n"
     ]
    },
    {
     "name": "stderr",
     "output_type": "stream",
     "text": [
      " 64%|██████▎   | 901/1417 [19:57<11:04,  1.29s/it]"
     ]
    },
    {
     "name": "stdout",
     "output_type": "stream",
     "text": [
      "[5/100] [900/1417] mean_loss : 0.718, state_loss : 0.086, gen_loss : 0.296, dom_loss : 0.009\n"
     ]
    },
    {
     "name": "stderr",
     "output_type": "stream",
     "text": [
      " 71%|███████   | 1001/1417 [22:06<09:23,  1.35s/it]"
     ]
    },
    {
     "name": "stdout",
     "output_type": "stream",
     "text": [
      "[5/100] [1000/1417] mean_loss : 0.699, state_loss : 0.097, gen_loss : 0.567, dom_loss : 0.074\n"
     ]
    },
    {
     "name": "stderr",
     "output_type": "stream",
     "text": [
      " 78%|███████▊  | 1101/1417 [24:20<06:47,  1.29s/it]"
     ]
    },
    {
     "name": "stdout",
     "output_type": "stream",
     "text": [
      "[5/100] [1100/1417] mean_loss : 0.730, state_loss : 0.102, gen_loss : 0.385, dom_loss : 0.156\n"
     ]
    },
    {
     "name": "stderr",
     "output_type": "stream",
     "text": [
      " 85%|████████▍ | 1201/1417 [26:32<04:50,  1.34s/it]"
     ]
    },
    {
     "name": "stdout",
     "output_type": "stream",
     "text": [
      "[5/100] [1200/1417] mean_loss : 0.668, state_loss : 0.078, gen_loss : 0.481, dom_loss : 0.010\n"
     ]
    },
    {
     "name": "stderr",
     "output_type": "stream",
     "text": [
      " 92%|█████████▏| 1301/1417 [28:44<02:29,  1.29s/it]"
     ]
    },
    {
     "name": "stdout",
     "output_type": "stream",
     "text": [
      "[5/100] [1300/1417] mean_loss : 0.698, state_loss : 0.070, gen_loss : 0.715, dom_loss : 0.046\n"
     ]
    },
    {
     "name": "stderr",
     "output_type": "stream",
     "text": [
      " 99%|█████████▉| 1401/1417 [30:56<00:20,  1.26s/it]"
     ]
    },
    {
     "name": "stdout",
     "output_type": "stream",
     "text": [
      "[5/100] [1400/1417] mean_loss : 0.635, state_loss : 0.069, gen_loss : 0.499, dom_loss : 0.066\n"
     ]
    },
    {
     "name": "stderr",
     "output_type": "stream",
     "text": [
      "100%|██████████| 1417/1417 [31:16<00:00,  1.32s/it]\n",
      "100%|██████████| 5067/5067 [02:15<00:00, 37.49it/s]\n"
     ]
    },
    {
     "name": "stdout",
     "output_type": "stream",
     "text": [
      "------------------------------\n",
      "op_code: 3-1, is_gt_op: False, is_gt_p_state: False, is_gt_gen: False\n",
      "Epoch 5 joint accuracy :  0.009867771857114663\n",
      "Epoch 5 slot turn accuracy :  0.8785211499243517\n",
      "Epoch 5 slot turn F1:  0.5311875099989883\n",
      "Epoch 5 op accuracy :  0.8821450533860811\n",
      "Epoch 5 op F1 :  {'update': 0.29221872035739416, 'carryover': 0.9369452008981893, 'dontcare': 0.11038274476633538}\n",
      "Epoch 5 op hit count :  {'update': 4775, 'carryover': 196112, 'dontcare': 261}\n",
      "Epoch 5 op all count :  {'update': 24635, 'carryover': 199244, 'dontcare': 4136}\n",
      "Final Joint Accuracy :  0.001430615164520744\n",
      "Final slot turn F1 :  0.5034793437175364\n",
      "Latency Per Prediction : 21.449888 ms\n",
      "-----------------------------\n",
      "\n",
      "관광 0.023692003948667325 0.9512668641000365\n",
      "숙소 0.01466615206483983 0.9318667181268537\n",
      "식당 0.023730070448646643 0.9363737486095681\n",
      "지하철 0.005780346820809248 0.9550417469492581\n",
      "택시 0.00425531914893617 0.9321513002363996\n"
     ]
    },
    {
     "name": "stderr",
     "output_type": "stream",
     "text": [
      "  0%|          | 0/1417 [00:00<?, ?it/s]"
     ]
    },
    {
     "name": "stdout",
     "output_type": "stream",
     "text": [
      "Best Score :  {'epoch': 5, 'joint_acc': 0.009867771857114663, 'slot_acc': 0.8785211499243517, 'slot_f1': 0.5311875099989883, 'op_acc': 0.8821450533860811, 'op_f1': {'update': 0.29221872035739416, 'carryover': 0.9369452008981893, 'dontcare': 0.11038274476633538}, 'final_slot_f1': 0.5034793437175364}\n",
      "\n",
      "\n"
     ]
    },
    {
     "name": "stderr",
     "output_type": "stream",
     "text": [
      "  0%|          | 1/1417 [00:02<51:51,  2.20s/it]"
     ]
    },
    {
     "name": "stdout",
     "output_type": "stream",
     "text": [
      "[6/100] [0/1417] mean_loss : 0.514, state_loss : 0.070, gen_loss : 0.430, dom_loss : 0.013\n"
     ]
    },
    {
     "name": "stderr",
     "output_type": "stream",
     "text": [
      "  7%|▋         | 101/1417 [02:15<29:43,  1.36s/it]"
     ]
    },
    {
     "name": "stdout",
     "output_type": "stream",
     "text": [
      "[6/100] [100/1417] mean_loss : 0.633, state_loss : 0.075, gen_loss : 0.361, dom_loss : 0.067\n"
     ]
    },
    {
     "name": "stderr",
     "output_type": "stream",
     "text": [
      " 14%|█▍        | 201/1417 [04:27<26:44,  1.32s/it]"
     ]
    },
    {
     "name": "stdout",
     "output_type": "stream",
     "text": [
      "[6/100] [200/1417] mean_loss : 0.607, state_loss : 0.071, gen_loss : 0.466, dom_loss : 0.151\n"
     ]
    },
    {
     "name": "stderr",
     "output_type": "stream",
     "text": [
      " 21%|██        | 301/1417 [06:41<22:31,  1.21s/it]"
     ]
    },
    {
     "name": "stdout",
     "output_type": "stream",
     "text": [
      "[6/100] [300/1417] mean_loss : 0.639, state_loss : 0.057, gen_loss : 0.355, dom_loss : 0.004\n"
     ]
    },
    {
     "name": "stderr",
     "output_type": "stream",
     "text": [
      " 28%|██▊       | 401/1417 [08:55<23:25,  1.38s/it]"
     ]
    },
    {
     "name": "stdout",
     "output_type": "stream",
     "text": [
      "[6/100] [400/1417] mean_loss : 0.596, state_loss : 0.062, gen_loss : 0.616, dom_loss : 0.117\n"
     ]
    },
    {
     "name": "stderr",
     "output_type": "stream",
     "text": [
      " 35%|███▌      | 501/1417 [11:03<18:48,  1.23s/it]"
     ]
    },
    {
     "name": "stdout",
     "output_type": "stream",
     "text": [
      "[6/100] [500/1417] mean_loss : 0.609, state_loss : 0.048, gen_loss : 0.473, dom_loss : 0.073\n"
     ]
    },
    {
     "name": "stderr",
     "output_type": "stream",
     "text": [
      " 42%|████▏     | 601/1417 [13:19<17:07,  1.26s/it]"
     ]
    },
    {
     "name": "stdout",
     "output_type": "stream",
     "text": [
      "[6/100] [600/1417] mean_loss : 0.605, state_loss : 0.053, gen_loss : 0.252, dom_loss : 0.136\n"
     ]
    },
    {
     "name": "stderr",
     "output_type": "stream",
     "text": [
      " 49%|████▉     | 701/1417 [15:33<16:09,  1.35s/it]"
     ]
    },
    {
     "name": "stdout",
     "output_type": "stream",
     "text": [
      "[6/100] [700/1417] mean_loss : 0.595, state_loss : 0.040, gen_loss : 0.461, dom_loss : 0.029\n"
     ]
    },
    {
     "name": "stderr",
     "output_type": "stream",
     "text": [
      " 57%|█████▋    | 801/1417 [17:44<12:51,  1.25s/it]"
     ]
    },
    {
     "name": "stdout",
     "output_type": "stream",
     "text": [
      "[6/100] [800/1417] mean_loss : 0.561, state_loss : 0.033, gen_loss : 0.688, dom_loss : 0.203\n"
     ]
    },
    {
     "name": "stderr",
     "output_type": "stream",
     "text": [
      " 64%|██████▎   | 901/1417 [19:57<11:29,  1.34s/it]"
     ]
    },
    {
     "name": "stdout",
     "output_type": "stream",
     "text": [
      "[6/100] [900/1417] mean_loss : 0.569, state_loss : 0.065, gen_loss : 0.727, dom_loss : 0.027\n"
     ]
    },
    {
     "name": "stderr",
     "output_type": "stream",
     "text": [
      " 71%|███████   | 1001/1417 [22:07<08:34,  1.24s/it]"
     ]
    },
    {
     "name": "stdout",
     "output_type": "stream",
     "text": [
      "[6/100] [1000/1417] mean_loss : 0.555, state_loss : 0.049, gen_loss : 0.470, dom_loss : 0.021\n"
     ]
    },
    {
     "name": "stderr",
     "output_type": "stream",
     "text": [
      " 78%|███████▊  | 1101/1417 [24:19<06:53,  1.31s/it]"
     ]
    },
    {
     "name": "stdout",
     "output_type": "stream",
     "text": [
      "[6/100] [1100/1417] mean_loss : 0.591, state_loss : 0.025, gen_loss : 0.527, dom_loss : 0.018\n"
     ]
    },
    {
     "name": "stderr",
     "output_type": "stream",
     "text": [
      " 85%|████████▍ | 1201/1417 [26:32<04:53,  1.36s/it]"
     ]
    },
    {
     "name": "stdout",
     "output_type": "stream",
     "text": [
      "[6/100] [1200/1417] mean_loss : 0.576, state_loss : 0.049, gen_loss : 0.474, dom_loss : 0.010\n"
     ]
    },
    {
     "name": "stderr",
     "output_type": "stream",
     "text": [
      " 92%|█████████▏| 1301/1417 [28:42<02:25,  1.26s/it]"
     ]
    },
    {
     "name": "stdout",
     "output_type": "stream",
     "text": [
      "[6/100] [1300/1417] mean_loss : 0.522, state_loss : 0.022, gen_loss : 0.554, dom_loss : 0.009\n"
     ]
    },
    {
     "name": "stderr",
     "output_type": "stream",
     "text": [
      " 99%|█████████▉| 1401/1417 [30:54<00:20,  1.29s/it]"
     ]
    },
    {
     "name": "stdout",
     "output_type": "stream",
     "text": [
      "[6/100] [1400/1417] mean_loss : 0.568, state_loss : 0.046, gen_loss : 0.250, dom_loss : 0.016\n"
     ]
    },
    {
     "name": "stderr",
     "output_type": "stream",
     "text": [
      "100%|██████████| 1417/1417 [31:14<00:00,  1.32s/it]\n",
      "100%|██████████| 5067/5067 [02:12<00:00, 38.15it/s]\n"
     ]
    },
    {
     "name": "stdout",
     "output_type": "stream",
     "text": [
      "------------------------------\n",
      "op_code: 3-1, is_gt_op: False, is_gt_p_state: False, is_gt_gen: False\n",
      "Epoch 6 joint accuracy :  0.1322281428853365\n",
      "Epoch 6 slot turn accuracy :  0.9367717036159962\n",
      "Epoch 6 slot turn F1:  0.726102469555505\n",
      "Epoch 6 op accuracy :  0.9397627349077988\n",
      "Epoch 6 op F1 :  {'update': 0.5316705236993229, 'carryover': 0.9688776057830067, 'dontcare': 0.2242130750605327}\n",
      "Epoch 6 op hit count :  {'update': 6203, 'carryover': 207614, 'dontcare': 463}\n",
      "Epoch 6 op all count :  {'update': 15267, 'carryover': 209251, 'dontcare': 3497}\n",
      "Final Joint Accuracy :  0.04148783977110158\n",
      "Final slot turn F1 :  0.7004392151495976\n",
      "Latency Per Prediction : 21.086606 ms\n",
      "-----------------------------\n",
      "\n",
      "관광 0.14116485686080948 0.9682351650762425\n",
      "숙소 0.25627170976456964 0.9660791629143697\n",
      "식당 0.1753800519095291 0.9612079265027038\n",
      "지하철 0.3815028901734104 0.9815028901734106\n",
      "택시 0.052127659574468084 0.9493853427895859\n"
     ]
    },
    {
     "name": "stderr",
     "output_type": "stream",
     "text": [
      "  0%|          | 0/1417 [00:00<?, ?it/s]"
     ]
    },
    {
     "name": "stdout",
     "output_type": "stream",
     "text": [
      "Best Score :  {'epoch': 6, 'joint_acc': 0.1322281428853365, 'slot_acc': 0.9367717036159962, 'slot_f1': 0.726102469555505, 'op_acc': 0.9397627349077988, 'op_f1': {'update': 0.5316705236993229, 'carryover': 0.9688776057830067, 'dontcare': 0.2242130750605327}, 'final_slot_f1': 0.7004392151495976}\n",
      "\n",
      "\n"
     ]
    },
    {
     "name": "stderr",
     "output_type": "stream",
     "text": [
      "  0%|          | 1/1417 [00:02<56:56,  2.41s/it]"
     ]
    },
    {
     "name": "stdout",
     "output_type": "stream",
     "text": [
      "[7/100] [0/1417] mean_loss : 0.806, state_loss : 0.049, gen_loss : 0.714, dom_loss : 0.043\n"
     ]
    },
    {
     "name": "stderr",
     "output_type": "stream",
     "text": [
      "  7%|▋         | 101/1417 [02:15<27:47,  1.27s/it]"
     ]
    },
    {
     "name": "stdout",
     "output_type": "stream",
     "text": [
      "[7/100] [100/1417] mean_loss : 0.536, state_loss : 0.031, gen_loss : 0.395, dom_loss : 0.010\n"
     ]
    },
    {
     "name": "stderr",
     "output_type": "stream",
     "text": [
      " 14%|█▍        | 201/1417 [04:26<25:12,  1.24s/it]"
     ]
    },
    {
     "name": "stdout",
     "output_type": "stream",
     "text": [
      "[7/100] [200/1417] mean_loss : 0.547, state_loss : 0.053, gen_loss : 0.533, dom_loss : 0.013\n"
     ]
    },
    {
     "name": "stderr",
     "output_type": "stream",
     "text": [
      " 21%|██        | 301/1417 [06:37<22:25,  1.21s/it]"
     ]
    },
    {
     "name": "stdout",
     "output_type": "stream",
     "text": [
      "[7/100] [300/1417] mean_loss : 0.520, state_loss : 0.049, gen_loss : 0.366, dom_loss : 0.137\n"
     ]
    },
    {
     "name": "stderr",
     "output_type": "stream",
     "text": [
      " 28%|██▊       | 401/1417 [08:50<21:17,  1.26s/it]"
     ]
    },
    {
     "name": "stdout",
     "output_type": "stream",
     "text": [
      "[7/100] [400/1417] mean_loss : 0.483, state_loss : 0.035, gen_loss : 0.305, dom_loss : 0.050\n"
     ]
    },
    {
     "name": "stderr",
     "output_type": "stream",
     "text": [
      " 35%|███▌      | 501/1417 [11:00<20:37,  1.35s/it]"
     ]
    },
    {
     "name": "stdout",
     "output_type": "stream",
     "text": [
      "[7/100] [500/1417] mean_loss : 0.512, state_loss : 0.027, gen_loss : 0.288, dom_loss : 0.055\n"
     ]
    },
    {
     "name": "stderr",
     "output_type": "stream",
     "text": [
      " 42%|████▏     | 601/1417 [13:15<18:00,  1.32s/it]"
     ]
    },
    {
     "name": "stdout",
     "output_type": "stream",
     "text": [
      "[7/100] [600/1417] mean_loss : 0.514, state_loss : 0.037, gen_loss : 0.351, dom_loss : 0.061\n"
     ]
    },
    {
     "name": "stderr",
     "output_type": "stream",
     "text": [
      " 49%|████▉     | 701/1417 [15:26<14:35,  1.22s/it]"
     ]
    },
    {
     "name": "stdout",
     "output_type": "stream",
     "text": [
      "[7/100] [700/1417] mean_loss : 0.531, state_loss : 0.030, gen_loss : 0.484, dom_loss : 0.010\n"
     ]
    },
    {
     "name": "stderr",
     "output_type": "stream",
     "text": [
      " 57%|█████▋    | 801/1417 [17:42<13:42,  1.34s/it]"
     ]
    },
    {
     "name": "stdout",
     "output_type": "stream",
     "text": [
      "[7/100] [800/1417] mean_loss : 0.509, state_loss : 0.040, gen_loss : 0.655, dom_loss : 0.015\n"
     ]
    },
    {
     "name": "stderr",
     "output_type": "stream",
     "text": [
      " 64%|██████▎   | 901/1417 [19:55<11:08,  1.30s/it]"
     ]
    },
    {
     "name": "stdout",
     "output_type": "stream",
     "text": [
      "[7/100] [900/1417] mean_loss : 0.501, state_loss : 0.041, gen_loss : 0.261, dom_loss : 0.119\n"
     ]
    },
    {
     "name": "stderr",
     "output_type": "stream",
     "text": [
      " 71%|███████   | 1001/1417 [22:07<08:25,  1.22s/it]"
     ]
    },
    {
     "name": "stdout",
     "output_type": "stream",
     "text": [
      "[7/100] [1000/1417] mean_loss : 0.507, state_loss : 0.046, gen_loss : 0.321, dom_loss : 0.116\n"
     ]
    },
    {
     "name": "stderr",
     "output_type": "stream",
     "text": [
      " 78%|███████▊  | 1101/1417 [24:18<06:49,  1.30s/it]"
     ]
    },
    {
     "name": "stdout",
     "output_type": "stream",
     "text": [
      "[7/100] [1100/1417] mean_loss : 0.490, state_loss : 0.038, gen_loss : 0.264, dom_loss : 0.052\n"
     ]
    },
    {
     "name": "stderr",
     "output_type": "stream",
     "text": [
      " 85%|████████▍ | 1201/1417 [26:27<04:30,  1.25s/it]"
     ]
    },
    {
     "name": "stdout",
     "output_type": "stream",
     "text": [
      "[7/100] [1200/1417] mean_loss : 0.504, state_loss : 0.039, gen_loss : 0.418, dom_loss : 0.004\n"
     ]
    },
    {
     "name": "stderr",
     "output_type": "stream",
     "text": [
      " 92%|█████████▏| 1301/1417 [28:38<02:27,  1.27s/it]"
     ]
    },
    {
     "name": "stdout",
     "output_type": "stream",
     "text": [
      "[7/100] [1300/1417] mean_loss : 0.472, state_loss : 0.053, gen_loss : 0.337, dom_loss : 0.015\n"
     ]
    },
    {
     "name": "stderr",
     "output_type": "stream",
     "text": [
      " 99%|█████████▉| 1401/1417 [30:52<00:19,  1.24s/it]"
     ]
    },
    {
     "name": "stdout",
     "output_type": "stream",
     "text": [
      "[7/100] [1400/1417] mean_loss : 0.482, state_loss : 0.041, gen_loss : 0.217, dom_loss : 0.132\n"
     ]
    },
    {
     "name": "stderr",
     "output_type": "stream",
     "text": [
      "100%|██████████| 1417/1417 [31:12<00:00,  1.32s/it]\n",
      "100%|██████████| 5067/5067 [02:08<00:00, 39.50it/s]\n"
     ]
    },
    {
     "name": "stdout",
     "output_type": "stream",
     "text": [
      "------------------------------\n",
      "op_code: 3-1, is_gt_op: False, is_gt_p_state: False, is_gt_gen: False\n",
      "Epoch 7 joint accuracy :  0.216696269982238\n",
      "Epoch 7 slot turn accuracy :  0.9545643926934796\n",
      "Epoch 7 slot turn F1:  0.7973952060828456\n",
      "Epoch 7 op accuracy :  0.9571212420235655\n",
      "Epoch 7 op F1 :  {'update': 0.6079945930288694, 'carryover': 0.9780271176394317, 'dontcare': 0.431578947368421}\n",
      "Epoch 7 op hit count :  {'update': 6297, 'carryover': 211203, 'dontcare': 738}\n",
      "Epoch 7 op all count :  {'update': 13329, 'carryover': 212364, 'dontcare': 2322}\n",
      "Final Joint Accuracy :  0.0944206008583691\n",
      "Final slot turn F1 :  0.7704467858083784\n",
      "Latency Per Prediction : 20.180709 ms\n",
      "-----------------------------\n",
      "\n",
      "관광 0.35093780848963474 0.9798837336843419\n",
      "숙소 0.3620223851794674 0.9749989279128628\n",
      "식당 0.25880608083055245 0.9702138178222741\n",
      "지하철 0.5433526011560693 0.9845857418111748\n",
      "택시 0.09042553191489362 0.959479905437342\n"
     ]
    },
    {
     "name": "stderr",
     "output_type": "stream",
     "text": [
      "  0%|          | 0/1417 [00:00<?, ?it/s]"
     ]
    },
    {
     "name": "stdout",
     "output_type": "stream",
     "text": [
      "Best Score :  {'epoch': 7, 'joint_acc': 0.216696269982238, 'slot_acc': 0.9545643926934796, 'slot_f1': 0.7973952060828456, 'op_acc': 0.9571212420235655, 'op_f1': {'update': 0.6079945930288694, 'carryover': 0.9780271176394317, 'dontcare': 0.431578947368421}, 'final_slot_f1': 0.7704467858083784}\n",
      "\n",
      "\n"
     ]
    },
    {
     "name": "stderr",
     "output_type": "stream",
     "text": [
      "  0%|          | 1/1417 [00:02<55:13,  2.34s/it]"
     ]
    },
    {
     "name": "stdout",
     "output_type": "stream",
     "text": [
      "[8/100] [0/1417] mean_loss : 0.454, state_loss : 0.039, gen_loss : 0.399, dom_loss : 0.016\n"
     ]
    },
    {
     "name": "stderr",
     "output_type": "stream",
     "text": [
      "  7%|▋         | 101/1417 [02:12<28:35,  1.30s/it]"
     ]
    },
    {
     "name": "stdout",
     "output_type": "stream",
     "text": [
      "[8/100] [100/1417] mean_loss : 0.448, state_loss : 0.031, gen_loss : 0.399, dom_loss : 0.190\n"
     ]
    },
    {
     "name": "stderr",
     "output_type": "stream",
     "text": [
      " 14%|█▍        | 201/1417 [04:24<26:57,  1.33s/it]"
     ]
    },
    {
     "name": "stdout",
     "output_type": "stream",
     "text": [
      "[8/100] [200/1417] mean_loss : 0.474, state_loss : 0.029, gen_loss : 0.342, dom_loss : 0.035\n"
     ]
    },
    {
     "name": "stderr",
     "output_type": "stream",
     "text": [
      " 21%|██        | 301/1417 [06:37<23:08,  1.24s/it]"
     ]
    },
    {
     "name": "stdout",
     "output_type": "stream",
     "text": [
      "[8/100] [300/1417] mean_loss : 0.442, state_loss : 0.027, gen_loss : 0.276, dom_loss : 0.350\n"
     ]
    },
    {
     "name": "stderr",
     "output_type": "stream",
     "text": [
      " 28%|██▊       | 401/1417 [08:49<20:46,  1.23s/it]"
     ]
    },
    {
     "name": "stdout",
     "output_type": "stream",
     "text": [
      "[8/100] [400/1417] mean_loss : 0.430, state_loss : 0.034, gen_loss : 0.277, dom_loss : 0.005\n"
     ]
    },
    {
     "name": "stderr",
     "output_type": "stream",
     "text": [
      " 35%|███▌      | 501/1417 [11:02<20:20,  1.33s/it]"
     ]
    },
    {
     "name": "stdout",
     "output_type": "stream",
     "text": [
      "[8/100] [500/1417] mean_loss : 0.457, state_loss : 0.042, gen_loss : 0.514, dom_loss : 0.004\n"
     ]
    },
    {
     "name": "stderr",
     "output_type": "stream",
     "text": [
      " 42%|████▏     | 601/1417 [13:17<18:18,  1.35s/it]"
     ]
    },
    {
     "name": "stdout",
     "output_type": "stream",
     "text": [
      "[8/100] [600/1417] mean_loss : 0.473, state_loss : 0.034, gen_loss : 0.638, dom_loss : 0.008\n"
     ]
    },
    {
     "name": "stderr",
     "output_type": "stream",
     "text": [
      " 49%|████▉     | 701/1417 [15:28<15:40,  1.31s/it]"
     ]
    },
    {
     "name": "stdout",
     "output_type": "stream",
     "text": [
      "[8/100] [700/1417] mean_loss : 0.465, state_loss : 0.036, gen_loss : 0.537, dom_loss : 0.036\n"
     ]
    },
    {
     "name": "stderr",
     "output_type": "stream",
     "text": [
      " 57%|█████▋    | 801/1417 [17:38<13:12,  1.29s/it]"
     ]
    },
    {
     "name": "stdout",
     "output_type": "stream",
     "text": [
      "[8/100] [800/1417] mean_loss : 0.438, state_loss : 0.022, gen_loss : 0.095, dom_loss : 0.104\n"
     ]
    },
    {
     "name": "stderr",
     "output_type": "stream",
     "text": [
      " 64%|██████▎   | 901/1417 [19:48<10:45,  1.25s/it]"
     ]
    },
    {
     "name": "stdout",
     "output_type": "stream",
     "text": [
      "[8/100] [900/1417] mean_loss : 0.441, state_loss : 0.039, gen_loss : 0.240, dom_loss : 0.016\n"
     ]
    },
    {
     "name": "stderr",
     "output_type": "stream",
     "text": [
      " 71%|███████   | 1001/1417 [22:03<09:39,  1.39s/it]"
     ]
    },
    {
     "name": "stdout",
     "output_type": "stream",
     "text": [
      "[8/100] [1000/1417] mean_loss : 0.462, state_loss : 0.022, gen_loss : 0.317, dom_loss : 0.022\n"
     ]
    },
    {
     "name": "stderr",
     "output_type": "stream",
     "text": [
      " 78%|███████▊  | 1101/1417 [24:15<07:23,  1.40s/it]"
     ]
    },
    {
     "name": "stdout",
     "output_type": "stream",
     "text": [
      "[8/100] [1100/1417] mean_loss : 0.448, state_loss : 0.019, gen_loss : 0.372, dom_loss : 0.048\n"
     ]
    },
    {
     "name": "stderr",
     "output_type": "stream",
     "text": [
      " 85%|████████▍ | 1201/1417 [26:25<04:56,  1.37s/it]"
     ]
    },
    {
     "name": "stdout",
     "output_type": "stream",
     "text": [
      "[8/100] [1200/1417] mean_loss : 0.423, state_loss : 0.031, gen_loss : 0.271, dom_loss : 0.004\n"
     ]
    },
    {
     "name": "stderr",
     "output_type": "stream",
     "text": [
      " 92%|█████████▏| 1301/1417 [28:39<02:30,  1.30s/it]"
     ]
    },
    {
     "name": "stdout",
     "output_type": "stream",
     "text": [
      "[8/100] [1300/1417] mean_loss : 0.427, state_loss : 0.038, gen_loss : 0.407, dom_loss : 0.046\n"
     ]
    },
    {
     "name": "stderr",
     "output_type": "stream",
     "text": [
      " 99%|█████████▉| 1401/1417 [30:52<00:24,  1.51s/it]"
     ]
    },
    {
     "name": "stdout",
     "output_type": "stream",
     "text": [
      "[8/100] [1400/1417] mean_loss : 0.455, state_loss : 0.014, gen_loss : 0.357, dom_loss : 0.004\n"
     ]
    },
    {
     "name": "stderr",
     "output_type": "stream",
     "text": [
      "100%|██████████| 1417/1417 [31:13<00:00,  1.32s/it]\n",
      "100%|██████████| 5067/5067 [02:08<00:00, 39.37it/s]\n"
     ]
    },
    {
     "name": "stdout",
     "output_type": "stream",
     "text": [
      "------------------------------\n",
      "op_code: 3-1, is_gt_op: False, is_gt_p_state: False, is_gt_gen: False\n",
      "Epoch 8 joint accuracy :  0.2790605881192027\n",
      "Epoch 8 slot turn accuracy :  0.9618972436024135\n",
      "Epoch 8 slot turn F1:  0.8316367506958049\n",
      "Epoch 8 op accuracy :  0.9644673453024349\n",
      "Epoch 8 op F1 :  {'update': 0.6521608040201005, 'carryover': 0.9818432045370052, 'dontcare': 0.5434995112414467}\n",
      "Epoch 8 op hit count :  {'update': 6489, 'carryover': 212599, 'dontcare': 834}\n",
      "Epoch 8 op all count :  {'update': 12365, 'carryover': 213656, 'dontcare': 1994}\n",
      "Final Joint Accuracy :  0.14163090128755365\n",
      "Final slot turn F1 :  0.8038677491977184\n",
      "Latency Per Prediction : 20.306604 ms\n",
      "-----------------------------\n",
      "\n",
      "관광 0.4481737413622902 0.9835910935614929\n",
      "숙소 0.44577383249710534 0.9805480509455815\n",
      "식당 0.3274008157211717 0.9753635726939459\n",
      "지하철 0.4913294797687861 0.9848426461143222\n"
     ]
    },
    {
     "name": "stderr",
     "output_type": "stream",
     "text": [
      "  0%|          | 0/1417 [00:00<?, ?it/s]"
     ]
    },
    {
     "name": "stdout",
     "output_type": "stream",
     "text": [
      "택시 0.1202127659574468 0.9633096926713844\n",
      "Best Score :  {'epoch': 8, 'joint_acc': 0.2790605881192027, 'slot_acc': 0.9618972436024135, 'slot_f1': 0.8316367506958049, 'op_acc': 0.9644673453024349, 'op_f1': {'update': 0.6521608040201005, 'carryover': 0.9818432045370052, 'dontcare': 0.5434995112414467}, 'final_slot_f1': 0.8038677491977184}\n",
      "\n",
      "\n"
     ]
    },
    {
     "name": "stderr",
     "output_type": "stream",
     "text": [
      "  0%|          | 1/1417 [00:02<47:54,  2.03s/it]"
     ]
    },
    {
     "name": "stdout",
     "output_type": "stream",
     "text": [
      "[9/100] [0/1417] mean_loss : 0.328, state_loss : 0.031, gen_loss : 0.253, dom_loss : 0.044\n"
     ]
    },
    {
     "name": "stderr",
     "output_type": "stream",
     "text": [
      "  7%|▋         | 101/1417 [02:15<29:19,  1.34s/it]"
     ]
    },
    {
     "name": "stdout",
     "output_type": "stream",
     "text": [
      "[9/100] [100/1417] mean_loss : 0.426, state_loss : 0.022, gen_loss : 0.319, dom_loss : 0.018\n"
     ]
    },
    {
     "name": "stderr",
     "output_type": "stream",
     "text": [
      " 14%|█▍        | 201/1417 [04:27<25:57,  1.28s/it]"
     ]
    },
    {
     "name": "stdout",
     "output_type": "stream",
     "text": [
      "[9/100] [200/1417] mean_loss : 0.393, state_loss : 0.032, gen_loss : 0.218, dom_loss : 0.006\n"
     ]
    },
    {
     "name": "stderr",
     "output_type": "stream",
     "text": [
      " 21%|██        | 301/1417 [06:40<24:49,  1.33s/it]"
     ]
    },
    {
     "name": "stdout",
     "output_type": "stream",
     "text": [
      "[9/100] [300/1417] mean_loss : 0.430, state_loss : 0.036, gen_loss : 0.234, dom_loss : 0.146\n"
     ]
    },
    {
     "name": "stderr",
     "output_type": "stream",
     "text": [
      " 28%|██▊       | 401/1417 [08:45<21:45,  1.28s/it]"
     ]
    },
    {
     "name": "stdout",
     "output_type": "stream",
     "text": [
      "[9/100] [400/1417] mean_loss : 0.420, state_loss : 0.026, gen_loss : 0.307, dom_loss : 0.017\n"
     ]
    },
    {
     "name": "stderr",
     "output_type": "stream",
     "text": [
      " 35%|███▌      | 501/1417 [10:57<19:40,  1.29s/it]"
     ]
    },
    {
     "name": "stdout",
     "output_type": "stream",
     "text": [
      "[9/100] [500/1417] mean_loss : 0.414, state_loss : 0.026, gen_loss : 0.205, dom_loss : 0.010\n"
     ]
    },
    {
     "name": "stderr",
     "output_type": "stream",
     "text": [
      " 42%|████▏     | 601/1417 [13:10<18:03,  1.33s/it]"
     ]
    },
    {
     "name": "stdout",
     "output_type": "stream",
     "text": [
      "[9/100] [600/1417] mean_loss : 0.438, state_loss : 0.024, gen_loss : 0.400, dom_loss : 0.008\n"
     ]
    },
    {
     "name": "stderr",
     "output_type": "stream",
     "text": [
      " 49%|████▉     | 701/1417 [15:25<15:21,  1.29s/it]"
     ]
    },
    {
     "name": "stdout",
     "output_type": "stream",
     "text": [
      "[9/100] [700/1417] mean_loss : 0.443, state_loss : 0.024, gen_loss : 0.303, dom_loss : 0.002\n"
     ]
    },
    {
     "name": "stderr",
     "output_type": "stream",
     "text": [
      " 57%|█████▋    | 801/1417 [17:39<13:09,  1.28s/it]"
     ]
    },
    {
     "name": "stdout",
     "output_type": "stream",
     "text": [
      "[9/100] [800/1417] mean_loss : 0.431, state_loss : 0.033, gen_loss : 0.519, dom_loss : 0.174\n"
     ]
    },
    {
     "name": "stderr",
     "output_type": "stream",
     "text": [
      " 64%|██████▎   | 901/1417 [19:53<11:05,  1.29s/it]"
     ]
    },
    {
     "name": "stdout",
     "output_type": "stream",
     "text": [
      "[9/100] [900/1417] mean_loss : 0.425, state_loss : 0.026, gen_loss : 0.461, dom_loss : 0.199\n"
     ]
    },
    {
     "name": "stderr",
     "output_type": "stream",
     "text": [
      " 71%|███████   | 1001/1417 [22:07<09:12,  1.33s/it]"
     ]
    },
    {
     "name": "stdout",
     "output_type": "stream",
     "text": [
      "[9/100] [1000/1417] mean_loss : 0.397, state_loss : 0.031, gen_loss : 0.588, dom_loss : 0.011\n"
     ]
    },
    {
     "name": "stderr",
     "output_type": "stream",
     "text": [
      " 78%|███████▊  | 1101/1417 [24:18<06:53,  1.31s/it]"
     ]
    },
    {
     "name": "stdout",
     "output_type": "stream",
     "text": [
      "[9/100] [1100/1417] mean_loss : 0.403, state_loss : 0.032, gen_loss : 0.455, dom_loss : 0.002\n"
     ]
    },
    {
     "name": "stderr",
     "output_type": "stream",
     "text": [
      " 85%|████████▍ | 1201/1417 [26:29<04:25,  1.23s/it]"
     ]
    },
    {
     "name": "stdout",
     "output_type": "stream",
     "text": [
      "[9/100] [1200/1417] mean_loss : 0.367, state_loss : 0.022, gen_loss : 0.051, dom_loss : 0.141\n"
     ]
    },
    {
     "name": "stderr",
     "output_type": "stream",
     "text": [
      " 92%|█████████▏| 1301/1417 [28:41<02:38,  1.37s/it]"
     ]
    },
    {
     "name": "stdout",
     "output_type": "stream",
     "text": [
      "[9/100] [1300/1417] mean_loss : 0.389, state_loss : 0.013, gen_loss : 0.384, dom_loss : 0.002\n"
     ]
    },
    {
     "name": "stderr",
     "output_type": "stream",
     "text": [
      " 99%|█████████▉| 1401/1417 [30:51<00:21,  1.32s/it]"
     ]
    },
    {
     "name": "stdout",
     "output_type": "stream",
     "text": [
      "[9/100] [1400/1417] mean_loss : 0.404, state_loss : 0.024, gen_loss : 0.626, dom_loss : 0.199\n"
     ]
    },
    {
     "name": "stderr",
     "output_type": "stream",
     "text": [
      "100%|██████████| 1417/1417 [31:13<00:00,  1.32s/it]\n",
      "100%|██████████| 5067/5067 [02:07<00:00, 39.83it/s]\n"
     ]
    },
    {
     "name": "stdout",
     "output_type": "stream",
     "text": [
      "------------------------------\n",
      "op_code: 3-1, is_gt_op: False, is_gt_p_state: False, is_gt_gen: False\n",
      "Epoch 9 joint accuracy :  0.3400434181961713\n",
      "Epoch 9 slot turn accuracy :  0.9701817862860015\n",
      "Epoch 9 slot turn F1:  0.8668832554950856\n",
      "Epoch 9 op accuracy :  0.972678284895455\n",
      "Epoch 9 op F1 :  {'update': 0.7134246575342466, 'carryover': 0.9860494420466643, 'dontcare': 0.5992379632836855}\n",
      "Epoch 9 op hit count :  {'update': 6510, 'carryover': 214413, 'dontcare': 865}\n",
      "Epoch 9 op all count :  {'update': 11145, 'carryover': 214999, 'dontcare': 1871}\n",
      "Final Joint Accuracy :  0.18025751072961374\n",
      "Final slot turn F1 :  0.8365771125162383\n",
      "Latency Per Prediction : 19.651835 ms\n",
      "-----------------------------\n",
      "\n",
      "관광 0.5636722606120435 0.9873313589996836\n",
      "숙소 0.5476649942107294 0.9854367683005328\n",
      "식당 0.39117538005190955 0.9812054546203632\n",
      "지하철 0.5433526011560693 0.9858702633269105\n",
      "택시 0.16914893617021276 0.9673995271867519\n"
     ]
    },
    {
     "name": "stderr",
     "output_type": "stream",
     "text": [
      "  0%|          | 0/1417 [00:00<?, ?it/s]"
     ]
    },
    {
     "name": "stdout",
     "output_type": "stream",
     "text": [
      "Best Score :  {'epoch': 9, 'joint_acc': 0.3400434181961713, 'slot_acc': 0.9701817862860015, 'slot_f1': 0.8668832554950856, 'op_acc': 0.972678284895455, 'op_f1': {'update': 0.7134246575342466, 'carryover': 0.9860494420466643, 'dontcare': 0.5992379632836855}, 'final_slot_f1': 0.8365771125162383}\n",
      "\n",
      "\n"
     ]
    },
    {
     "name": "stderr",
     "output_type": "stream",
     "text": [
      "  0%|          | 1/1417 [00:02<50:51,  2.16s/it]"
     ]
    },
    {
     "name": "stdout",
     "output_type": "stream",
     "text": [
      "[10/100] [0/1417] mean_loss : 0.336, state_loss : 0.021, gen_loss : 0.312, dom_loss : 0.002\n"
     ]
    },
    {
     "name": "stderr",
     "output_type": "stream",
     "text": [
      "  7%|▋         | 101/1417 [02:13<27:12,  1.24s/it]"
     ]
    },
    {
     "name": "stdout",
     "output_type": "stream",
     "text": [
      "[10/100] [100/1417] mean_loss : 0.402, state_loss : 0.065, gen_loss : 0.391, dom_loss : 0.098\n"
     ]
    },
    {
     "name": "stderr",
     "output_type": "stream",
     "text": [
      " 14%|█▍        | 201/1417 [04:27<25:22,  1.25s/it]"
     ]
    },
    {
     "name": "stdout",
     "output_type": "stream",
     "text": [
      "[10/100] [200/1417] mean_loss : 0.402, state_loss : 0.023, gen_loss : 0.501, dom_loss : 0.002\n"
     ]
    },
    {
     "name": "stderr",
     "output_type": "stream",
     "text": [
      " 21%|██        | 301/1417 [06:37<24:37,  1.32s/it]"
     ]
    },
    {
     "name": "stdout",
     "output_type": "stream",
     "text": [
      "[10/100] [300/1417] mean_loss : 0.388, state_loss : 0.024, gen_loss : 0.273, dom_loss : 0.012\n"
     ]
    },
    {
     "name": "stderr",
     "output_type": "stream",
     "text": [
      " 28%|██▊       | 401/1417 [08:48<20:49,  1.23s/it]"
     ]
    },
    {
     "name": "stdout",
     "output_type": "stream",
     "text": [
      "[10/100] [400/1417] mean_loss : 0.383, state_loss : 0.022, gen_loss : 0.536, dom_loss : 0.008\n"
     ]
    },
    {
     "name": "stderr",
     "output_type": "stream",
     "text": [
      " 35%|███▌      | 501/1417 [11:01<19:35,  1.28s/it]"
     ]
    },
    {
     "name": "stdout",
     "output_type": "stream",
     "text": [
      "[10/100] [500/1417] mean_loss : 0.422, state_loss : 0.025, gen_loss : 0.667, dom_loss : 0.031\n"
     ]
    },
    {
     "name": "stderr",
     "output_type": "stream",
     "text": [
      " 42%|████▏     | 601/1417 [13:10<18:44,  1.38s/it]"
     ]
    },
    {
     "name": "stdout",
     "output_type": "stream",
     "text": [
      "[10/100] [600/1417] mean_loss : 0.373, state_loss : 0.021, gen_loss : 0.326, dom_loss : 0.011\n"
     ]
    },
    {
     "name": "stderr",
     "output_type": "stream",
     "text": [
      " 49%|████▉     | 701/1417 [15:22<16:15,  1.36s/it]"
     ]
    },
    {
     "name": "stdout",
     "output_type": "stream",
     "text": [
      "[10/100] [700/1417] mean_loss : 0.388, state_loss : 0.027, gen_loss : 0.399, dom_loss : 0.002\n"
     ]
    },
    {
     "name": "stderr",
     "output_type": "stream",
     "text": [
      " 57%|█████▋    | 801/1417 [17:34<14:26,  1.41s/it]"
     ]
    },
    {
     "name": "stdout",
     "output_type": "stream",
     "text": [
      "[10/100] [800/1417] mean_loss : 0.381, state_loss : 0.024, gen_loss : 0.217, dom_loss : 0.005\n"
     ]
    },
    {
     "name": "stderr",
     "output_type": "stream",
     "text": [
      " 64%|██████▎   | 901/1417 [19:53<11:39,  1.36s/it]"
     ]
    },
    {
     "name": "stdout",
     "output_type": "stream",
     "text": [
      "[10/100] [900/1417] mean_loss : 0.400, state_loss : 0.017, gen_loss : 0.334, dom_loss : 0.006\n"
     ]
    },
    {
     "name": "stderr",
     "output_type": "stream",
     "text": [
      " 71%|███████   | 1001/1417 [22:10<08:40,  1.25s/it]"
     ]
    },
    {
     "name": "stdout",
     "output_type": "stream",
     "text": [
      "[10/100] [1000/1417] mean_loss : 0.394, state_loss : 0.014, gen_loss : 0.225, dom_loss : 0.015\n"
     ]
    },
    {
     "name": "stderr",
     "output_type": "stream",
     "text": [
      " 78%|███████▊  | 1101/1417 [24:21<06:16,  1.19s/it]"
     ]
    },
    {
     "name": "stdout",
     "output_type": "stream",
     "text": [
      "[10/100] [1100/1417] mean_loss : 0.385, state_loss : 0.017, gen_loss : 0.543, dom_loss : 0.015\n"
     ]
    },
    {
     "name": "stderr",
     "output_type": "stream",
     "text": [
      " 85%|████████▍ | 1201/1417 [26:33<04:43,  1.31s/it]"
     ]
    },
    {
     "name": "stdout",
     "output_type": "stream",
     "text": [
      "[10/100] [1200/1417] mean_loss : 0.372, state_loss : 0.015, gen_loss : 0.172, dom_loss : 0.002\n"
     ]
    },
    {
     "name": "stderr",
     "output_type": "stream",
     "text": [
      " 92%|█████████▏| 1301/1417 [28:46<02:28,  1.28s/it]"
     ]
    },
    {
     "name": "stdout",
     "output_type": "stream",
     "text": [
      "[10/100] [1300/1417] mean_loss : 0.378, state_loss : 0.030, gen_loss : 0.290, dom_loss : 0.028\n"
     ]
    },
    {
     "name": "stderr",
     "output_type": "stream",
     "text": [
      " 99%|█████████▉| 1401/1417 [30:58<00:21,  1.33s/it]"
     ]
    },
    {
     "name": "stdout",
     "output_type": "stream",
     "text": [
      "[10/100] [1400/1417] mean_loss : 0.384, state_loss : 0.032, gen_loss : 0.627, dom_loss : 0.100\n"
     ]
    },
    {
     "name": "stderr",
     "output_type": "stream",
     "text": [
      "100%|██████████| 1417/1417 [31:18<00:00,  1.33s/it]\n",
      "100%|██████████| 5067/5067 [02:04<00:00, 40.64it/s]\n"
     ]
    },
    {
     "name": "stdout",
     "output_type": "stream",
     "text": [
      "------------------------------\n",
      "op_code: 3-1, is_gt_op: False, is_gt_p_state: False, is_gt_gen: False\n",
      "Epoch 10 joint accuracy :  0.3858298796131833\n",
      "Epoch 10 slot turn accuracy :  0.9736990987435185\n",
      "Epoch 10 slot turn F1:  0.8816996650540585\n",
      "Epoch 10 op accuracy :  0.9761055956463719\n",
      "Epoch 10 op F1 :  {'update': 0.7352576389671891, 'carryover': 0.9878349185359662, 'dontcare': 0.6686412439837097}\n",
      "Epoch 10 op hit count :  {'update': 6521, 'carryover': 215146, 'dontcare': 903}\n",
      "Epoch 10 op all count :  {'update': 10812, 'carryover': 215574, 'dontcare': 1629}\n",
      "Final Joint Accuracy :  0.20314735336194564\n",
      "Final slot turn F1 :  0.849233107198478\n",
      "Latency Per Prediction : 19.492196 ms\n",
      "-----------------------------\n",
      "\n",
      "관광 0.6515301085883515 0.9904464187781183\n",
      "숙소 0.5839444230027017 0.9868948068099013\n",
      "식당 0.4568038561364479 0.9835125448028704\n",
      "지하철 0.42196531791907516 0.9815028901734102\n",
      "택시 0.17553191489361702 0.9678250591016445\n"
     ]
    },
    {
     "name": "stderr",
     "output_type": "stream",
     "text": [
      "  0%|          | 0/1417 [00:00<?, ?it/s]"
     ]
    },
    {
     "name": "stdout",
     "output_type": "stream",
     "text": [
      "Best Score :  {'epoch': 10, 'joint_acc': 0.3858298796131833, 'slot_acc': 0.9736990987435185, 'slot_f1': 0.8816996650540585, 'op_acc': 0.9761055956463719, 'op_f1': {'update': 0.7352576389671891, 'carryover': 0.9878349185359662, 'dontcare': 0.6686412439837097}, 'final_slot_f1': 0.849233107198478}\n",
      "\n",
      "\n"
     ]
    },
    {
     "name": "stderr",
     "output_type": "stream",
     "text": [
      "  0%|          | 1/1417 [00:02<50:32,  2.14s/it]"
     ]
    },
    {
     "name": "stdout",
     "output_type": "stream",
     "text": [
      "[11/100] [0/1417] mean_loss : 0.366, state_loss : 0.012, gen_loss : 0.342, dom_loss : 0.012\n"
     ]
    },
    {
     "name": "stderr",
     "output_type": "stream",
     "text": [
      "  7%|▋         | 101/1417 [02:15<28:40,  1.31s/it]"
     ]
    },
    {
     "name": "stdout",
     "output_type": "stream",
     "text": [
      "[11/100] [100/1417] mean_loss : 0.388, state_loss : 0.029, gen_loss : 0.189, dom_loss : 0.006\n"
     ]
    },
    {
     "name": "stderr",
     "output_type": "stream",
     "text": [
      " 14%|█▍        | 201/1417 [04:29<27:18,  1.35s/it]"
     ]
    },
    {
     "name": "stdout",
     "output_type": "stream",
     "text": [
      "[11/100] [200/1417] mean_loss : 0.356, state_loss : 0.023, gen_loss : 0.283, dom_loss : 0.011\n"
     ]
    },
    {
     "name": "stderr",
     "output_type": "stream",
     "text": [
      " 21%|██        | 301/1417 [06:40<23:22,  1.26s/it]"
     ]
    },
    {
     "name": "stdout",
     "output_type": "stream",
     "text": [
      "[11/100] [300/1417] mean_loss : 0.346, state_loss : 0.017, gen_loss : 0.279, dom_loss : 0.019\n"
     ]
    },
    {
     "name": "stderr",
     "output_type": "stream",
     "text": [
      " 28%|██▊       | 401/1417 [08:55<23:41,  1.40s/it]"
     ]
    },
    {
     "name": "stdout",
     "output_type": "stream",
     "text": [
      "[11/100] [400/1417] mean_loss : 0.375, state_loss : 0.032, gen_loss : 0.326, dom_loss : 0.085\n"
     ]
    },
    {
     "name": "stderr",
     "output_type": "stream",
     "text": [
      " 35%|███▌      | 501/1417 [11:07<20:29,  1.34s/it]"
     ]
    },
    {
     "name": "stdout",
     "output_type": "stream",
     "text": [
      "[11/100] [500/1417] mean_loss : 0.361, state_loss : 0.027, gen_loss : 0.122, dom_loss : 0.002\n"
     ]
    },
    {
     "name": "stderr",
     "output_type": "stream",
     "text": [
      " 42%|████▏     | 601/1417 [13:18<18:40,  1.37s/it]"
     ]
    },
    {
     "name": "stdout",
     "output_type": "stream",
     "text": [
      "[11/100] [600/1417] mean_loss : 0.358, state_loss : 0.020, gen_loss : 0.506, dom_loss : 0.008\n"
     ]
    },
    {
     "name": "stderr",
     "output_type": "stream",
     "text": [
      " 49%|████▉     | 701/1417 [15:31<15:26,  1.29s/it]"
     ]
    },
    {
     "name": "stdout",
     "output_type": "stream",
     "text": [
      "[11/100] [700/1417] mean_loss : 0.367, state_loss : 0.023, gen_loss : 0.305, dom_loss : 0.001\n"
     ]
    },
    {
     "name": "stderr",
     "output_type": "stream",
     "text": [
      " 57%|█████▋    | 801/1417 [17:39<13:29,  1.31s/it]"
     ]
    },
    {
     "name": "stdout",
     "output_type": "stream",
     "text": [
      "[11/100] [800/1417] mean_loss : 0.360, state_loss : 0.020, gen_loss : 0.256, dom_loss : 0.007\n"
     ]
    },
    {
     "name": "stderr",
     "output_type": "stream",
     "text": [
      " 64%|██████▎   | 901/1417 [19:50<11:43,  1.36s/it]"
     ]
    },
    {
     "name": "stdout",
     "output_type": "stream",
     "text": [
      "[11/100] [900/1417] mean_loss : 0.371, state_loss : 0.041, gen_loss : 0.326, dom_loss : 0.259\n"
     ]
    },
    {
     "name": "stderr",
     "output_type": "stream",
     "text": [
      " 71%|███████   | 1001/1417 [22:05<10:31,  1.52s/it]"
     ]
    },
    {
     "name": "stdout",
     "output_type": "stream",
     "text": [
      "[11/100] [1000/1417] mean_loss : 0.373, state_loss : 0.013, gen_loss : 0.317, dom_loss : 0.055\n"
     ]
    },
    {
     "name": "stderr",
     "output_type": "stream",
     "text": [
      " 78%|███████▊  | 1101/1417 [24:14<06:37,  1.26s/it]"
     ]
    },
    {
     "name": "stdout",
     "output_type": "stream",
     "text": [
      "[11/100] [1100/1417] mean_loss : 0.379, state_loss : 0.029, gen_loss : 0.222, dom_loss : 0.021\n"
     ]
    },
    {
     "name": "stderr",
     "output_type": "stream",
     "text": [
      " 85%|████████▍ | 1201/1417 [26:27<04:24,  1.23s/it]"
     ]
    },
    {
     "name": "stdout",
     "output_type": "stream",
     "text": [
      "[11/100] [1200/1417] mean_loss : 0.366, state_loss : 0.010, gen_loss : 0.324, dom_loss : 0.003\n"
     ]
    },
    {
     "name": "stderr",
     "output_type": "stream",
     "text": [
      " 92%|█████████▏| 1301/1417 [28:37<02:35,  1.34s/it]"
     ]
    },
    {
     "name": "stdout",
     "output_type": "stream",
     "text": [
      "[11/100] [1300/1417] mean_loss : 0.368, state_loss : 0.013, gen_loss : 0.567, dom_loss : 0.078\n"
     ]
    },
    {
     "name": "stderr",
     "output_type": "stream",
     "text": [
      " 99%|█████████▉| 1401/1417 [30:52<00:21,  1.33s/it]"
     ]
    },
    {
     "name": "stdout",
     "output_type": "stream",
     "text": [
      "[11/100] [1400/1417] mean_loss : 0.344, state_loss : 0.029, gen_loss : 0.302, dom_loss : 0.019\n"
     ]
    },
    {
     "name": "stderr",
     "output_type": "stream",
     "text": [
      "100%|██████████| 1417/1417 [31:14<00:00,  1.32s/it]\n",
      "100%|██████████| 5067/5067 [02:07<00:00, 39.75it/s]\n"
     ]
    },
    {
     "name": "stdout",
     "output_type": "stream",
     "text": [
      "------------------------------\n",
      "op_code: 3-1, is_gt_op: False, is_gt_p_state: False, is_gt_gen: False\n",
      "Epoch 11 joint accuracy :  0.37418590882178804\n",
      "Epoch 11 slot turn accuracy :  0.9714580181128553\n",
      "Epoch 11 slot turn F1:  0.8780710737420374\n",
      "Epoch 11 op accuracy :  0.9737429555073247\n",
      "Epoch 11 op F1 :  {'update': 0.7167309677769929, 'carryover': 0.9865182385425719, 'dontcare': 0.6639190708130386}\n",
      "Epoch 11 op hit count :  {'update': 6595, 'carryover': 214547, 'dontcare': 886}\n",
      "Epoch 11 op all count :  {'update': 11071, 'carryover': 215359, 'dontcare': 1585}\n",
      "Final Joint Accuracy :  0.2017167381974249\n",
      "Final slot turn F1 :  0.8462515696985148\n",
      "Latency Per Prediction : 20.032296 ms\n",
      "-----------------------------\n",
      "\n",
      "관광 0.623395853899309 0.9895140945486586\n",
      "숙소 0.6090312620609803 0.9877696299155181\n",
      "식당 0.43529847979236186 0.9827297820623734\n",
      "지하철 0.5375722543352601 0.9858702633269105\n"
     ]
    },
    {
     "name": "stderr",
     "output_type": "stream",
     "text": [
      "  0%|          | 0/1417 [00:00<?, ?it/s]"
     ]
    },
    {
     "name": "stdout",
     "output_type": "stream",
     "text": [
      "택시 0.15319148936170213 0.9654137115839152\n",
      "Best Score :  {'epoch': 10, 'joint_acc': 0.3858298796131833, 'slot_acc': 0.9736990987435185, 'slot_f1': 0.8816996650540585, 'op_acc': 0.9761055956463719, 'op_f1': {'update': 0.7352576389671891, 'carryover': 0.9878349185359662, 'dontcare': 0.6686412439837097}, 'final_slot_f1': 0.849233107198478}\n",
      "\n",
      "\n"
     ]
    },
    {
     "name": "stderr",
     "output_type": "stream",
     "text": [
      "  0%|          | 1/1417 [00:02<59:07,  2.51s/it]"
     ]
    },
    {
     "name": "stdout",
     "output_type": "stream",
     "text": [
      "[12/100] [0/1417] mean_loss : 0.384, state_loss : 0.035, gen_loss : 0.305, dom_loss : 0.044\n"
     ]
    },
    {
     "name": "stderr",
     "output_type": "stream",
     "text": [
      "  7%|▋         | 101/1417 [02:16<28:44,  1.31s/it]"
     ]
    },
    {
     "name": "stdout",
     "output_type": "stream",
     "text": [
      "[12/100] [100/1417] mean_loss : 0.341, state_loss : 0.013, gen_loss : 0.435, dom_loss : 0.001\n"
     ]
    },
    {
     "name": "stderr",
     "output_type": "stream",
     "text": [
      " 14%|█▍        | 201/1417 [04:27<27:28,  1.36s/it]"
     ]
    },
    {
     "name": "stdout",
     "output_type": "stream",
     "text": [
      "[12/100] [200/1417] mean_loss : 0.337, state_loss : 0.013, gen_loss : 0.211, dom_loss : 0.006\n"
     ]
    },
    {
     "name": "stderr",
     "output_type": "stream",
     "text": [
      " 21%|██        | 301/1417 [06:39<24:43,  1.33s/it]"
     ]
    },
    {
     "name": "stdout",
     "output_type": "stream",
     "text": [
      "[12/100] [300/1417] mean_loss : 0.314, state_loss : 0.024, gen_loss : 0.336, dom_loss : 0.003\n"
     ]
    },
    {
     "name": "stderr",
     "output_type": "stream",
     "text": [
      " 28%|██▊       | 401/1417 [08:53<22:22,  1.32s/it]"
     ]
    },
    {
     "name": "stdout",
     "output_type": "stream",
     "text": [
      "[12/100] [400/1417] mean_loss : 0.323, state_loss : 0.015, gen_loss : 0.275, dom_loss : 0.011\n"
     ]
    },
    {
     "name": "stderr",
     "output_type": "stream",
     "text": [
      " 35%|███▌      | 501/1417 [11:00<20:17,  1.33s/it]"
     ]
    },
    {
     "name": "stdout",
     "output_type": "stream",
     "text": [
      "[12/100] [500/1417] mean_loss : 0.351, state_loss : 0.015, gen_loss : 0.489, dom_loss : 0.021\n"
     ]
    },
    {
     "name": "stderr",
     "output_type": "stream",
     "text": [
      " 42%|████▏     | 601/1417 [13:12<17:42,  1.30s/it]"
     ]
    },
    {
     "name": "stdout",
     "output_type": "stream",
     "text": [
      "[12/100] [600/1417] mean_loss : 0.334, state_loss : 0.016, gen_loss : 0.456, dom_loss : 0.001\n"
     ]
    },
    {
     "name": "stderr",
     "output_type": "stream",
     "text": [
      " 49%|████▉     | 701/1417 [15:23<14:59,  1.26s/it]"
     ]
    },
    {
     "name": "stdout",
     "output_type": "stream",
     "text": [
      "[12/100] [700/1417] mean_loss : 0.344, state_loss : 0.056, gen_loss : 0.195, dom_loss : 0.002\n"
     ]
    },
    {
     "name": "stderr",
     "output_type": "stream",
     "text": [
      " 57%|█████▋    | 801/1417 [17:40<13:00,  1.27s/it]"
     ]
    },
    {
     "name": "stdout",
     "output_type": "stream",
     "text": [
      "[12/100] [800/1417] mean_loss : 0.309, state_loss : 0.019, gen_loss : 0.269, dom_loss : 0.007\n"
     ]
    },
    {
     "name": "stderr",
     "output_type": "stream",
     "text": [
      " 64%|██████▎   | 901/1417 [19:54<11:40,  1.36s/it]"
     ]
    },
    {
     "name": "stdout",
     "output_type": "stream",
     "text": [
      "[12/100] [900/1417] mean_loss : 0.345, state_loss : 0.019, gen_loss : 0.277, dom_loss : 0.057\n"
     ]
    },
    {
     "name": "stderr",
     "output_type": "stream",
     "text": [
      " 71%|███████   | 1001/1417 [22:02<08:53,  1.28s/it]"
     ]
    },
    {
     "name": "stdout",
     "output_type": "stream",
     "text": [
      "[12/100] [1000/1417] mean_loss : 0.325, state_loss : 0.021, gen_loss : 0.116, dom_loss : 0.001\n"
     ]
    },
    {
     "name": "stderr",
     "output_type": "stream",
     "text": [
      " 78%|███████▊  | 1101/1417 [24:17<06:55,  1.31s/it]"
     ]
    },
    {
     "name": "stdout",
     "output_type": "stream",
     "text": [
      "[12/100] [1100/1417] mean_loss : 0.326, state_loss : 0.022, gen_loss : 0.201, dom_loss : 0.053\n"
     ]
    },
    {
     "name": "stderr",
     "output_type": "stream",
     "text": [
      " 85%|████████▍ | 1201/1417 [26:29<04:34,  1.27s/it]"
     ]
    },
    {
     "name": "stdout",
     "output_type": "stream",
     "text": [
      "[12/100] [1200/1417] mean_loss : 0.338, state_loss : 0.019, gen_loss : 0.295, dom_loss : 0.001\n"
     ]
    },
    {
     "name": "stderr",
     "output_type": "stream",
     "text": [
      " 92%|█████████▏| 1301/1417 [28:41<02:21,  1.22s/it]"
     ]
    },
    {
     "name": "stdout",
     "output_type": "stream",
     "text": [
      "[12/100] [1300/1417] mean_loss : 0.317, state_loss : 0.014, gen_loss : 0.362, dom_loss : 0.002\n"
     ]
    },
    {
     "name": "stderr",
     "output_type": "stream",
     "text": [
      " 99%|█████████▉| 1401/1417 [30:52<00:21,  1.32s/it]"
     ]
    },
    {
     "name": "stdout",
     "output_type": "stream",
     "text": [
      "[12/100] [1400/1417] mean_loss : 0.318, state_loss : 0.025, gen_loss : 0.223, dom_loss : 0.011\n"
     ]
    },
    {
     "name": "stderr",
     "output_type": "stream",
     "text": [
      "100%|██████████| 1417/1417 [31:12<00:00,  1.32s/it]\n",
      "100%|██████████| 5067/5067 [02:05<00:00, 40.23it/s]\n"
     ]
    },
    {
     "name": "stdout",
     "output_type": "stream",
     "text": [
      "------------------------------\n",
      "op_code: 3-1, is_gt_op: False, is_gt_p_state: False, is_gt_gen: False\n",
      "Epoch 12 joint accuracy :  0.4624037892243931\n",
      "Epoch 12 slot turn accuracy :  0.9776681358682687\n",
      "Epoch 12 slot turn F1:  0.9027278001351636\n",
      "Epoch 12 op accuracy :  0.9796460759160711\n",
      "Epoch 12 op F1 :  {'update': 0.7731334678581724, 'carryover': 0.9896154410685455, 'dontcare': 0.6912928759894459}\n",
      "Epoch 12 op hit count :  {'update': 6705, 'carryover': 215752, 'dontcare': 917}\n",
      "Epoch 12 op all count :  {'update': 10144, 'carryover': 216302, 'dontcare': 1569}\n",
      "Final Joint Accuracy :  0.2832618025751073\n",
      "Final slot turn F1 :  0.876740910352705\n",
      "Latency Per Prediction : 19.761427 ms\n",
      "-----------------------------\n",
      "\n",
      "관광 0.6900296150049359 0.991707798617978\n",
      "숙소 0.672327286761868 0.9908229340880875\n",
      "식당 0.5109380793474231 0.9854982902813852\n",
      "지하철 0.6358381502890174 0.9885677585099552\n",
      "택시 0.225531914893617 0.9714657210401813\n"
     ]
    },
    {
     "name": "stderr",
     "output_type": "stream",
     "text": [
      "  0%|          | 0/1417 [00:00<?, ?it/s]"
     ]
    },
    {
     "name": "stdout",
     "output_type": "stream",
     "text": [
      "Best Score :  {'epoch': 12, 'joint_acc': 0.4624037892243931, 'slot_acc': 0.9776681358682687, 'slot_f1': 0.9027278001351636, 'op_acc': 0.9796460759160711, 'op_f1': {'update': 0.7731334678581724, 'carryover': 0.9896154410685455, 'dontcare': 0.6912928759894459}, 'final_slot_f1': 0.876740910352705}\n",
      "\n",
      "\n"
     ]
    },
    {
     "name": "stderr",
     "output_type": "stream",
     "text": [
      "  0%|          | 1/1417 [00:02<52:57,  2.24s/it]"
     ]
    },
    {
     "name": "stdout",
     "output_type": "stream",
     "text": [
      "[13/100] [0/1417] mean_loss : 0.187, state_loss : 0.016, gen_loss : 0.168, dom_loss : 0.002\n"
     ]
    },
    {
     "name": "stderr",
     "output_type": "stream",
     "text": [
      "  7%|▋         | 101/1417 [02:15<28:32,  1.30s/it]"
     ]
    },
    {
     "name": "stdout",
     "output_type": "stream",
     "text": [
      "[13/100] [100/1417] mean_loss : 0.316, state_loss : 0.014, gen_loss : 0.203, dom_loss : 0.001\n"
     ]
    },
    {
     "name": "stderr",
     "output_type": "stream",
     "text": [
      " 14%|█▍        | 201/1417 [04:25<24:58,  1.23s/it]"
     ]
    },
    {
     "name": "stdout",
     "output_type": "stream",
     "text": [
      "[13/100] [200/1417] mean_loss : 0.290, state_loss : 0.023, gen_loss : 0.228, dom_loss : 0.022\n"
     ]
    },
    {
     "name": "stderr",
     "output_type": "stream",
     "text": [
      " 21%|██        | 301/1417 [06:39<26:05,  1.40s/it]"
     ]
    },
    {
     "name": "stdout",
     "output_type": "stream",
     "text": [
      "[13/100] [300/1417] mean_loss : 0.309, state_loss : 0.019, gen_loss : 0.231, dom_loss : 0.001\n"
     ]
    },
    {
     "name": "stderr",
     "output_type": "stream",
     "text": [
      " 28%|██▊       | 401/1417 [08:51<30:44,  1.82s/it]"
     ]
    },
    {
     "name": "stdout",
     "output_type": "stream",
     "text": [
      "[13/100] [400/1417] mean_loss : 0.302, state_loss : 0.021, gen_loss : 0.235, dom_loss : 0.002\n"
     ]
    },
    {
     "name": "stderr",
     "output_type": "stream",
     "text": [
      " 35%|███▌      | 501/1417 [10:59<19:58,  1.31s/it]"
     ]
    },
    {
     "name": "stdout",
     "output_type": "stream",
     "text": [
      "[13/100] [500/1417] mean_loss : 0.307, state_loss : 0.012, gen_loss : 0.377, dom_loss : 0.003\n"
     ]
    },
    {
     "name": "stderr",
     "output_type": "stream",
     "text": [
      " 42%|████▏     | 601/1417 [13:11<17:42,  1.30s/it]"
     ]
    },
    {
     "name": "stdout",
     "output_type": "stream",
     "text": [
      "[13/100] [600/1417] mean_loss : 0.305, state_loss : 0.011, gen_loss : 0.384, dom_loss : 0.007\n"
     ]
    },
    {
     "name": "stderr",
     "output_type": "stream",
     "text": [
      " 49%|████▉     | 701/1417 [15:24<15:37,  1.31s/it]"
     ]
    },
    {
     "name": "stdout",
     "output_type": "stream",
     "text": [
      "[13/100] [700/1417] mean_loss : 0.333, state_loss : 0.014, gen_loss : 0.318, dom_loss : 0.002\n"
     ]
    },
    {
     "name": "stderr",
     "output_type": "stream",
     "text": [
      " 57%|█████▋    | 801/1417 [17:37<14:02,  1.37s/it]"
     ]
    },
    {
     "name": "stdout",
     "output_type": "stream",
     "text": [
      "[13/100] [800/1417] mean_loss : 0.323, state_loss : 0.014, gen_loss : 0.327, dom_loss : 0.002\n"
     ]
    },
    {
     "name": "stderr",
     "output_type": "stream",
     "text": [
      " 64%|██████▎   | 901/1417 [19:49<11:32,  1.34s/it]"
     ]
    },
    {
     "name": "stdout",
     "output_type": "stream",
     "text": [
      "[13/100] [900/1417] mean_loss : 0.315, state_loss : 0.028, gen_loss : 0.109, dom_loss : 0.004\n"
     ]
    },
    {
     "name": "stderr",
     "output_type": "stream",
     "text": [
      " 71%|███████   | 1001/1417 [22:02<09:13,  1.33s/it]"
     ]
    },
    {
     "name": "stdout",
     "output_type": "stream",
     "text": [
      "[13/100] [1000/1417] mean_loss : 0.333, state_loss : 0.011, gen_loss : 0.266, dom_loss : 0.005\n"
     ]
    },
    {
     "name": "stderr",
     "output_type": "stream",
     "text": [
      " 78%|███████▊  | 1101/1417 [24:14<07:19,  1.39s/it]"
     ]
    },
    {
     "name": "stdout",
     "output_type": "stream",
     "text": [
      "[13/100] [1100/1417] mean_loss : 0.314, state_loss : 0.013, gen_loss : 0.222, dom_loss : 0.017\n"
     ]
    },
    {
     "name": "stderr",
     "output_type": "stream",
     "text": [
      " 85%|████████▍ | 1201/1417 [26:29<04:29,  1.25s/it]"
     ]
    },
    {
     "name": "stdout",
     "output_type": "stream",
     "text": [
      "[13/100] [1200/1417] mean_loss : 0.329, state_loss : 0.009, gen_loss : 0.335, dom_loss : 0.001\n"
     ]
    },
    {
     "name": "stderr",
     "output_type": "stream",
     "text": [
      " 92%|█████████▏| 1301/1417 [28:40<02:30,  1.30s/it]"
     ]
    },
    {
     "name": "stdout",
     "output_type": "stream",
     "text": [
      "[13/100] [1300/1417] mean_loss : 0.320, state_loss : 0.009, gen_loss : 0.239, dom_loss : 0.004\n"
     ]
    },
    {
     "name": "stderr",
     "output_type": "stream",
     "text": [
      " 99%|█████████▉| 1401/1417 [30:51<00:19,  1.23s/it]"
     ]
    },
    {
     "name": "stdout",
     "output_type": "stream",
     "text": [
      "[13/100] [1400/1417] mean_loss : 0.290, state_loss : 0.011, gen_loss : 0.047, dom_loss : 0.105\n"
     ]
    },
    {
     "name": "stderr",
     "output_type": "stream",
     "text": [
      "100%|██████████| 1417/1417 [31:11<00:00,  1.32s/it]\n",
      "100%|██████████| 5067/5067 [02:10<00:00, 38.77it/s]\n"
     ]
    },
    {
     "name": "stdout",
     "output_type": "stream",
     "text": [
      "------------------------------\n",
      "op_code: 3-1, is_gt_op: False, is_gt_p_state: False, is_gt_gen: False\n",
      "Epoch 13 joint accuracy :  0.4624037892243931\n",
      "Epoch 13 slot turn accuracy :  0.97847510032236\n",
      "Epoch 13 slot turn F1:  0.9035615849104227\n",
      "Epoch 13 op accuracy :  0.9803346271078774\n",
      "Epoch 13 op F1 :  {'update': 0.7773946584068727, 'carryover': 0.9899840478198688, 'dontcare': 0.6982791586998089}\n",
      "Epoch 13 op hit count :  {'update': 6651, 'carryover': 215967, 'dontcare': 913}\n",
      "Epoch 13 op all count :  {'update': 9959, 'carryover': 216485, 'dontcare': 1571}\n",
      "Final Joint Accuracy :  0.28183118741058655\n",
      "Final slot turn F1 :  0.8752699131923902\n",
      "Latency Per Prediction : 20.653882 ms\n",
      "-----------------------------\n",
      "\n",
      "관광 0.6752221125370188 0.9914335856093137\n",
      "숙소 0.6896950984175994 0.9915176465543125\n",
      "식당 0.5354097144975899 0.9864788036089489\n",
      "지하철 0.3468208092485549 0.9785484906872184\n"
     ]
    },
    {
     "name": "stderr",
     "output_type": "stream",
     "text": [
      "  0%|          | 0/1417 [00:00<?, ?it/s]"
     ]
    },
    {
     "name": "stdout",
     "output_type": "stream",
     "text": [
      "택시 0.25 0.9711820330969195\n",
      "Best Score :  {'epoch': 12, 'joint_acc': 0.4624037892243931, 'slot_acc': 0.9776681358682687, 'slot_f1': 0.9027278001351636, 'op_acc': 0.9796460759160711, 'op_f1': {'update': 0.7731334678581724, 'carryover': 0.9896154410685455, 'dontcare': 0.6912928759894459}, 'final_slot_f1': 0.876740910352705}\n",
      "\n",
      "\n"
     ]
    },
    {
     "name": "stderr",
     "output_type": "stream",
     "text": [
      "  0%|          | 1/1417 [00:02<56:57,  2.41s/it]"
     ]
    },
    {
     "name": "stdout",
     "output_type": "stream",
     "text": [
      "[14/100] [0/1417] mean_loss : 0.192, state_loss : 0.010, gen_loss : 0.169, dom_loss : 0.013\n"
     ]
    },
    {
     "name": "stderr",
     "output_type": "stream",
     "text": [
      "  7%|▋         | 101/1417 [02:14<29:03,  1.32s/it]"
     ]
    },
    {
     "name": "stdout",
     "output_type": "stream",
     "text": [
      "[14/100] [100/1417] mean_loss : 0.292, state_loss : 0.032, gen_loss : 0.293, dom_loss : 0.016\n"
     ]
    },
    {
     "name": "stderr",
     "output_type": "stream",
     "text": [
      " 14%|█▍        | 201/1417 [04:26<25:59,  1.28s/it]"
     ]
    },
    {
     "name": "stdout",
     "output_type": "stream",
     "text": [
      "[14/100] [200/1417] mean_loss : 0.298, state_loss : 0.015, gen_loss : 0.169, dom_loss : 0.123\n"
     ]
    },
    {
     "name": "stderr",
     "output_type": "stream",
     "text": [
      " 21%|██        | 301/1417 [06:41<28:13,  1.52s/it]"
     ]
    },
    {
     "name": "stdout",
     "output_type": "stream",
     "text": [
      "[14/100] [300/1417] mean_loss : 0.269, state_loss : 0.023, gen_loss : 0.197, dom_loss : 0.003\n"
     ]
    },
    {
     "name": "stderr",
     "output_type": "stream",
     "text": [
      " 28%|██▊       | 401/1417 [08:51<21:12,  1.25s/it]"
     ]
    },
    {
     "name": "stdout",
     "output_type": "stream",
     "text": [
      "[14/100] [400/1417] mean_loss : 0.300, state_loss : 0.027, gen_loss : 0.337, dom_loss : 0.023\n"
     ]
    },
    {
     "name": "stderr",
     "output_type": "stream",
     "text": [
      " 35%|███▌      | 501/1417 [11:04<19:19,  1.27s/it]"
     ]
    },
    {
     "name": "stdout",
     "output_type": "stream",
     "text": [
      "[14/100] [500/1417] mean_loss : 0.288, state_loss : 0.013, gen_loss : 0.304, dom_loss : 0.001\n"
     ]
    },
    {
     "name": "stderr",
     "output_type": "stream",
     "text": [
      " 42%|████▏     | 601/1417 [13:18<18:37,  1.37s/it]"
     ]
    },
    {
     "name": "stdout",
     "output_type": "stream",
     "text": [
      "[14/100] [600/1417] mean_loss : 0.291, state_loss : 0.014, gen_loss : 0.402, dom_loss : 0.005\n"
     ]
    },
    {
     "name": "stderr",
     "output_type": "stream",
     "text": [
      " 49%|████▉     | 701/1417 [15:29<16:01,  1.34s/it]"
     ]
    },
    {
     "name": "stdout",
     "output_type": "stream",
     "text": [
      "[14/100] [700/1417] mean_loss : 0.308, state_loss : 0.010, gen_loss : 0.311, dom_loss : 0.011\n"
     ]
    },
    {
     "name": "stderr",
     "output_type": "stream",
     "text": [
      " 57%|█████▋    | 801/1417 [17:40<13:28,  1.31s/it]"
     ]
    },
    {
     "name": "stdout",
     "output_type": "stream",
     "text": [
      "[14/100] [800/1417] mean_loss : 0.296, state_loss : 0.019, gen_loss : 0.327, dom_loss : 0.001\n"
     ]
    },
    {
     "name": "stderr",
     "output_type": "stream",
     "text": [
      " 64%|██████▎   | 901/1417 [19:51<11:04,  1.29s/it]"
     ]
    },
    {
     "name": "stdout",
     "output_type": "stream",
     "text": [
      "[14/100] [900/1417] mean_loss : 0.302, state_loss : 0.016, gen_loss : 0.305, dom_loss : 0.002\n"
     ]
    },
    {
     "name": "stderr",
     "output_type": "stream",
     "text": [
      " 71%|███████   | 1001/1417 [22:05<09:23,  1.35s/it]"
     ]
    },
    {
     "name": "stdout",
     "output_type": "stream",
     "text": [
      "[14/100] [1000/1417] mean_loss : 0.295, state_loss : 0.033, gen_loss : 0.120, dom_loss : 0.093\n"
     ]
    },
    {
     "name": "stderr",
     "output_type": "stream",
     "text": [
      " 78%|███████▊  | 1101/1417 [24:18<08:03,  1.53s/it]"
     ]
    },
    {
     "name": "stdout",
     "output_type": "stream",
     "text": [
      "[14/100] [1100/1417] mean_loss : 0.309, state_loss : 0.016, gen_loss : 0.398, dom_loss : 0.007\n"
     ]
    },
    {
     "name": "stderr",
     "output_type": "stream",
     "text": [
      " 85%|████████▍ | 1201/1417 [26:29<04:59,  1.38s/it]"
     ]
    },
    {
     "name": "stdout",
     "output_type": "stream",
     "text": [
      "[14/100] [1200/1417] mean_loss : 0.336, state_loss : 0.015, gen_loss : 0.293, dom_loss : 0.002\n"
     ]
    },
    {
     "name": "stderr",
     "output_type": "stream",
     "text": [
      " 92%|█████████▏| 1301/1417 [28:42<02:23,  1.23s/it]"
     ]
    },
    {
     "name": "stdout",
     "output_type": "stream",
     "text": [
      "[14/100] [1300/1417] mean_loss : 0.304, state_loss : 0.012, gen_loss : 0.090, dom_loss : 0.001\n"
     ]
    },
    {
     "name": "stderr",
     "output_type": "stream",
     "text": [
      " 99%|█████████▉| 1401/1417 [30:52<00:20,  1.31s/it]"
     ]
    },
    {
     "name": "stdout",
     "output_type": "stream",
     "text": [
      "[14/100] [1400/1417] mean_loss : 0.309, state_loss : 0.019, gen_loss : 0.343, dom_loss : 0.186\n"
     ]
    },
    {
     "name": "stderr",
     "output_type": "stream",
     "text": [
      "100%|██████████| 1417/1417 [31:15<00:00,  1.32s/it]\n",
      "100%|██████████| 5067/5067 [02:04<00:00, 40.66it/s]\n"
     ]
    },
    {
     "name": "stdout",
     "output_type": "stream",
     "text": [
      "------------------------------\n",
      "op_code: 3-1, is_gt_op: False, is_gt_p_state: False, is_gt_gen: False\n",
      "Epoch 14 joint accuracy :  0.4866785079928952\n",
      "Epoch 14 slot turn accuracy :  0.9799881586737846\n",
      "Epoch 14 slot turn F1:  0.9136477454838146\n",
      "Epoch 14 op accuracy :  0.9819397846633023\n",
      "Epoch 14 op F1 :  {'update': 0.7895637801782657, 'carryover': 0.9908425453920615, 'dontcare': 0.7421576128538638}\n",
      "Epoch 14 op hit count :  {'update': 6688, 'carryover': 216239, 'dontcare': 970}\n",
      "Epoch 14 op all count :  {'update': 9920, 'carryover': 216599, 'dontcare': 1496}\n",
      "Final Joint Accuracy :  0.31187410586552217\n",
      "Final slot turn F1 :  0.888762419366361\n",
      "Latency Per Prediction : 19.493794 ms\n",
      "-----------------------------\n",
      "\n",
      "관광 0.7107601184600197 0.9922671931556535\n",
      "숙소 0.7116943265148591 0.9919636348042356\n",
      "식당 0.5272525027808677 0.9866847938038121\n",
      "지하철 0.5953757225433526 0.9876685934489402\n",
      "택시 0.25 0.9735224586288339\n"
     ]
    },
    {
     "name": "stderr",
     "output_type": "stream",
     "text": [
      "  0%|          | 0/1417 [00:00<?, ?it/s]"
     ]
    },
    {
     "name": "stdout",
     "output_type": "stream",
     "text": [
      "Best Score :  {'epoch': 14, 'joint_acc': 0.4866785079928952, 'slot_acc': 0.9799881586737846, 'slot_f1': 0.9136477454838146, 'op_acc': 0.9819397846633023, 'op_f1': {'update': 0.7895637801782657, 'carryover': 0.9908425453920615, 'dontcare': 0.7421576128538638}, 'final_slot_f1': 0.888762419366361}\n",
      "\n",
      "\n"
     ]
    },
    {
     "name": "stderr",
     "output_type": "stream",
     "text": [
      "  0%|          | 1/1417 [00:02<54:53,  2.33s/it]"
     ]
    },
    {
     "name": "stdout",
     "output_type": "stream",
     "text": [
      "[15/100] [0/1417] mean_loss : 0.384, state_loss : 0.059, gen_loss : 0.304, dom_loss : 0.022\n"
     ]
    },
    {
     "name": "stderr",
     "output_type": "stream",
     "text": [
      "  7%|▋         | 101/1417 [02:14<30:48,  1.40s/it]"
     ]
    },
    {
     "name": "stdout",
     "output_type": "stream",
     "text": [
      "[15/100] [100/1417] mean_loss : 0.300, state_loss : 0.035, gen_loss : 0.374, dom_loss : 0.000\n"
     ]
    },
    {
     "name": "stderr",
     "output_type": "stream",
     "text": [
      " 14%|█▍        | 201/1417 [04:27<25:08,  1.24s/it]"
     ]
    },
    {
     "name": "stdout",
     "output_type": "stream",
     "text": [
      "[15/100] [200/1417] mean_loss : 0.272, state_loss : 0.010, gen_loss : 0.201, dom_loss : 0.001\n"
     ]
    },
    {
     "name": "stderr",
     "output_type": "stream",
     "text": [
      " 21%|██        | 301/1417 [06:38<29:53,  1.61s/it]"
     ]
    },
    {
     "name": "stdout",
     "output_type": "stream",
     "text": [
      "[15/100] [300/1417] mean_loss : 0.306, state_loss : 0.028, gen_loss : 0.392, dom_loss : 0.011\n"
     ]
    },
    {
     "name": "stderr",
     "output_type": "stream",
     "text": [
      " 28%|██▊       | 401/1417 [08:48<20:41,  1.22s/it]"
     ]
    },
    {
     "name": "stdout",
     "output_type": "stream",
     "text": [
      "[15/100] [400/1417] mean_loss : 0.318, state_loss : 0.016, gen_loss : 0.167, dom_loss : 0.007\n"
     ]
    },
    {
     "name": "stderr",
     "output_type": "stream",
     "text": [
      " 35%|███▌      | 501/1417 [11:01<19:35,  1.28s/it]"
     ]
    },
    {
     "name": "stdout",
     "output_type": "stream",
     "text": [
      "[15/100] [500/1417] mean_loss : 0.279, state_loss : 0.024, gen_loss : 0.283, dom_loss : 0.000\n"
     ]
    },
    {
     "name": "stderr",
     "output_type": "stream",
     "text": [
      " 42%|████▏     | 601/1417 [13:08<17:42,  1.30s/it]"
     ]
    },
    {
     "name": "stdout",
     "output_type": "stream",
     "text": [
      "[15/100] [600/1417] mean_loss : 0.285, state_loss : 0.021, gen_loss : 0.236, dom_loss : 0.001\n"
     ]
    },
    {
     "name": "stderr",
     "output_type": "stream",
     "text": [
      " 49%|████▉     | 701/1417 [15:19<16:00,  1.34s/it]"
     ]
    },
    {
     "name": "stdout",
     "output_type": "stream",
     "text": [
      "[15/100] [700/1417] mean_loss : 0.297, state_loss : 0.017, gen_loss : 0.323, dom_loss : 0.001\n"
     ]
    },
    {
     "name": "stderr",
     "output_type": "stream",
     "text": [
      " 57%|█████▋    | 801/1417 [17:28<12:20,  1.20s/it]"
     ]
    },
    {
     "name": "stdout",
     "output_type": "stream",
     "text": [
      "[15/100] [800/1417] mean_loss : 0.280, state_loss : 0.007, gen_loss : 0.144, dom_loss : 0.001\n"
     ]
    },
    {
     "name": "stderr",
     "output_type": "stream",
     "text": [
      " 64%|██████▎   | 901/1417 [19:47<11:04,  1.29s/it]"
     ]
    },
    {
     "name": "stdout",
     "output_type": "stream",
     "text": [
      "[15/100] [900/1417] mean_loss : 0.283, state_loss : 0.020, gen_loss : 0.337, dom_loss : 0.004\n"
     ]
    },
    {
     "name": "stderr",
     "output_type": "stream",
     "text": [
      " 71%|███████   | 1001/1417 [22:01<09:37,  1.39s/it]"
     ]
    },
    {
     "name": "stdout",
     "output_type": "stream",
     "text": [
      "[15/100] [1000/1417] mean_loss : 0.291, state_loss : 0.014, gen_loss : 0.272, dom_loss : 0.001\n"
     ]
    },
    {
     "name": "stderr",
     "output_type": "stream",
     "text": [
      " 78%|███████▊  | 1101/1417 [24:12<06:52,  1.31s/it]"
     ]
    },
    {
     "name": "stdout",
     "output_type": "stream",
     "text": [
      "[15/100] [1100/1417] mean_loss : 0.248, state_loss : 0.012, gen_loss : 0.057, dom_loss : 0.000\n"
     ]
    },
    {
     "name": "stderr",
     "output_type": "stream",
     "text": [
      " 85%|████████▍ | 1201/1417 [26:26<04:37,  1.28s/it]"
     ]
    },
    {
     "name": "stdout",
     "output_type": "stream",
     "text": [
      "[15/100] [1200/1417] mean_loss : 0.298, state_loss : 0.017, gen_loss : 0.198, dom_loss : 0.011\n"
     ]
    },
    {
     "name": "stderr",
     "output_type": "stream",
     "text": [
      " 92%|█████████▏| 1301/1417 [28:40<02:40,  1.38s/it]"
     ]
    },
    {
     "name": "stdout",
     "output_type": "stream",
     "text": [
      "[15/100] [1300/1417] mean_loss : 0.256, state_loss : 0.018, gen_loss : 0.244, dom_loss : 0.001\n"
     ]
    },
    {
     "name": "stderr",
     "output_type": "stream",
     "text": [
      " 99%|█████████▉| 1401/1417 [30:51<00:20,  1.28s/it]"
     ]
    },
    {
     "name": "stdout",
     "output_type": "stream",
     "text": [
      "[15/100] [1400/1417] mean_loss : 0.271, state_loss : 0.010, gen_loss : 0.291, dom_loss : 0.000\n"
     ]
    },
    {
     "name": "stderr",
     "output_type": "stream",
     "text": [
      "100%|██████████| 1417/1417 [31:11<00:00,  1.32s/it]\n",
      "100%|██████████| 5067/5067 [02:06<00:00, 40.19it/s]\n"
     ]
    },
    {
     "name": "stdout",
     "output_type": "stream",
     "text": [
      "------------------------------\n",
      "op_code: 3-1, is_gt_op: False, is_gt_p_state: False, is_gt_gen: False\n",
      "Epoch 15 joint accuracy :  0.5129267811328202\n",
      "Epoch 15 slot turn accuracy :  0.9814617459377762\n",
      "Epoch 15 slot turn F1:  0.915349268490086\n",
      "Epoch 15 op accuracy :  0.983224787842914\n",
      "Epoch 15 op F1 :  {'update': 0.8103821196827686, 'carryover': 0.991476121463552, 'dontcare': 0.7049368541905855}\n",
      "Epoch 15 op hit count :  {'update': 6744, 'carryover': 216525, 'dontcare': 921}\n",
      "Epoch 15 op all count :  {'update': 9467, 'carryover': 216941, 'dontcare': 1607}\n",
      "Final Joint Accuracy :  0.34763948497854075\n",
      "Final slot turn F1 :  0.8921277205594189\n",
      "Latency Per Prediction : 19.780189 ms\n",
      "-----------------------------\n",
      "\n",
      "관광 0.702862783810464 0.9923549413184284\n",
      "숙소 0.7309918950212273 0.992392469659936\n",
      "식당 0.5810159436410827 0.9882667985003942\n",
      "지하철 0.6127167630057804 0.9885677585099549\n",
      "택시 0.28191489361702127 0.9746572104018841\n"
     ]
    },
    {
     "name": "stderr",
     "output_type": "stream",
     "text": [
      "  0%|          | 0/1417 [00:00<?, ?it/s]"
     ]
    },
    {
     "name": "stdout",
     "output_type": "stream",
     "text": [
      "Best Score :  {'epoch': 15, 'joint_acc': 0.5129267811328202, 'slot_acc': 0.9814617459377762, 'slot_f1': 0.915349268490086, 'op_acc': 0.983224787842914, 'op_f1': {'update': 0.8103821196827686, 'carryover': 0.991476121463552, 'dontcare': 0.7049368541905855}, 'final_slot_f1': 0.8921277205594189}\n",
      "\n",
      "\n"
     ]
    },
    {
     "name": "stderr",
     "output_type": "stream",
     "text": [
      "  0%|          | 1/1417 [00:02<54:27,  2.31s/it]"
     ]
    },
    {
     "name": "stdout",
     "output_type": "stream",
     "text": [
      "[16/100] [0/1417] mean_loss : 0.192, state_loss : 0.027, gen_loss : 0.164, dom_loss : 0.002\n"
     ]
    },
    {
     "name": "stderr",
     "output_type": "stream",
     "text": [
      "  7%|▋         | 101/1417 [02:16<28:48,  1.31s/it]"
     ]
    },
    {
     "name": "stdout",
     "output_type": "stream",
     "text": [
      "[16/100] [100/1417] mean_loss : 0.273, state_loss : 0.014, gen_loss : 0.076, dom_loss : 0.001\n"
     ]
    },
    {
     "name": "stderr",
     "output_type": "stream",
     "text": [
      " 14%|█▍        | 201/1417 [04:30<24:27,  1.21s/it]"
     ]
    },
    {
     "name": "stdout",
     "output_type": "stream",
     "text": [
      "[16/100] [200/1417] mean_loss : 0.246, state_loss : 0.021, gen_loss : 0.210, dom_loss : 0.001\n"
     ]
    },
    {
     "name": "stderr",
     "output_type": "stream",
     "text": [
      " 21%|██        | 301/1417 [06:40<25:39,  1.38s/it]"
     ]
    },
    {
     "name": "stdout",
     "output_type": "stream",
     "text": [
      "[16/100] [300/1417] mean_loss : 0.282, state_loss : 0.014, gen_loss : 0.137, dom_loss : 0.007\n"
     ]
    },
    {
     "name": "stderr",
     "output_type": "stream",
     "text": [
      " 28%|██▊       | 401/1417 [08:53<21:39,  1.28s/it]"
     ]
    },
    {
     "name": "stdout",
     "output_type": "stream",
     "text": [
      "[16/100] [400/1417] mean_loss : 0.282, state_loss : 0.009, gen_loss : 0.210, dom_loss : 0.012\n"
     ]
    },
    {
     "name": "stderr",
     "output_type": "stream",
     "text": [
      " 35%|███▌      | 501/1417 [11:03<19:39,  1.29s/it]"
     ]
    },
    {
     "name": "stdout",
     "output_type": "stream",
     "text": [
      "[16/100] [500/1417] mean_loss : 0.244, state_loss : 0.023, gen_loss : 0.313, dom_loss : 0.001\n"
     ]
    },
    {
     "name": "stderr",
     "output_type": "stream",
     "text": [
      " 42%|████▏     | 601/1417 [13:13<19:11,  1.41s/it]"
     ]
    },
    {
     "name": "stdout",
     "output_type": "stream",
     "text": [
      "[16/100] [600/1417] mean_loss : 0.271, state_loss : 0.017, gen_loss : 0.273, dom_loss : 0.029\n"
     ]
    },
    {
     "name": "stderr",
     "output_type": "stream",
     "text": [
      " 49%|████▉     | 701/1417 [15:27<15:13,  1.28s/it]"
     ]
    },
    {
     "name": "stdout",
     "output_type": "stream",
     "text": [
      "[16/100] [700/1417] mean_loss : 0.237, state_loss : 0.019, gen_loss : 0.325, dom_loss : 0.047\n"
     ]
    },
    {
     "name": "stderr",
     "output_type": "stream",
     "text": [
      " 57%|█████▋    | 801/1417 [17:38<13:09,  1.28s/it]"
     ]
    },
    {
     "name": "stdout",
     "output_type": "stream",
     "text": [
      "[16/100] [800/1417] mean_loss : 0.248, state_loss : 0.012, gen_loss : 0.183, dom_loss : 0.001\n"
     ]
    },
    {
     "name": "stderr",
     "output_type": "stream",
     "text": [
      " 64%|██████▎   | 901/1417 [19:53<10:39,  1.24s/it]"
     ]
    },
    {
     "name": "stdout",
     "output_type": "stream",
     "text": [
      "[16/100] [900/1417] mean_loss : 0.272, state_loss : 0.021, gen_loss : 0.173, dom_loss : 0.000\n"
     ]
    },
    {
     "name": "stderr",
     "output_type": "stream",
     "text": [
      " 71%|███████   | 1001/1417 [22:09<10:15,  1.48s/it]"
     ]
    },
    {
     "name": "stdout",
     "output_type": "stream",
     "text": [
      "[16/100] [1000/1417] mean_loss : 0.269, state_loss : 0.009, gen_loss : 0.094, dom_loss : 0.007\n"
     ]
    },
    {
     "name": "stderr",
     "output_type": "stream",
     "text": [
      " 78%|███████▊  | 1101/1417 [24:19<06:38,  1.26s/it]"
     ]
    },
    {
     "name": "stdout",
     "output_type": "stream",
     "text": [
      "[16/100] [1100/1417] mean_loss : 0.256, state_loss : 0.032, gen_loss : 0.291, dom_loss : 0.009\n"
     ]
    },
    {
     "name": "stderr",
     "output_type": "stream",
     "text": [
      " 85%|████████▍ | 1201/1417 [26:29<04:32,  1.26s/it]"
     ]
    },
    {
     "name": "stdout",
     "output_type": "stream",
     "text": [
      "[16/100] [1200/1417] mean_loss : 0.273, state_loss : 0.021, gen_loss : 0.286, dom_loss : 0.077\n"
     ]
    },
    {
     "name": "stderr",
     "output_type": "stream",
     "text": [
      " 92%|█████████▏| 1301/1417 [28:41<02:22,  1.23s/it]"
     ]
    },
    {
     "name": "stdout",
     "output_type": "stream",
     "text": [
      "[16/100] [1300/1417] mean_loss : 0.256, state_loss : 0.022, gen_loss : 0.181, dom_loss : 0.006\n"
     ]
    },
    {
     "name": "stderr",
     "output_type": "stream",
     "text": [
      " 99%|█████████▉| 1401/1417 [30:55<00:21,  1.33s/it]"
     ]
    },
    {
     "name": "stdout",
     "output_type": "stream",
     "text": [
      "[16/100] [1400/1417] mean_loss : 0.261, state_loss : 0.007, gen_loss : 0.211, dom_loss : 0.003\n"
     ]
    },
    {
     "name": "stderr",
     "output_type": "stream",
     "text": [
      "100%|██████████| 1417/1417 [31:18<00:00,  1.33s/it]\n",
      "100%|██████████| 5067/5067 [02:07<00:00, 39.75it/s]\n"
     ]
    },
    {
     "name": "stdout",
     "output_type": "stream",
     "text": [
      "------------------------------\n",
      "op_code: 3-1, is_gt_op: False, is_gt_p_state: False, is_gt_gen: False\n",
      "Epoch 16 joint accuracy :  0.5279257943556345\n",
      "Epoch 16 slot turn accuracy :  0.9827730631756806\n",
      "Epoch 16 slot turn F1:  0.9226176613132158\n",
      "Epoch 16 op accuracy :  0.984325592614532\n",
      "Epoch 16 op F1 :  {'update': 0.8194469766028564, 'carryover': 0.9920596055889394, 'dontcare': 0.7247956403269755}\n",
      "Epoch 16 op hit count :  {'update': 6742, 'carryover': 216768, 'dontcare': 931}\n",
      "Epoch 16 op all count :  {'update': 9294, 'carryover': 217196, 'dontcare': 1525}\n",
      "Final Joint Accuracy :  0.35336194563662376\n",
      "Final slot turn F1 :  0.8979773580299263\n",
      "Latency Per Prediction : 19.967617 ms\n",
      "-----------------------------\n",
      "\n",
      "관광 0.7384007897334649 0.9930788636613006\n",
      "숙소 0.7502894635275955 0.9931129122175066\n",
      "식당 0.5995550611790879 0.9892473118279554\n",
      "지하철 0.6242774566473989 0.9889531149646755\n",
      "택시 0.3 0.9760992907801352\n"
     ]
    },
    {
     "name": "stderr",
     "output_type": "stream",
     "text": [
      "  0%|          | 0/1417 [00:00<?, ?it/s]"
     ]
    },
    {
     "name": "stdout",
     "output_type": "stream",
     "text": [
      "Best Score :  {'epoch': 16, 'joint_acc': 0.5279257943556345, 'slot_acc': 0.9827730631756806, 'slot_f1': 0.9226176613132158, 'op_acc': 0.984325592614532, 'op_f1': {'update': 0.8194469766028564, 'carryover': 0.9920596055889394, 'dontcare': 0.7247956403269755}, 'final_slot_f1': 0.8979773580299263}\n",
      "\n",
      "\n"
     ]
    },
    {
     "name": "stderr",
     "output_type": "stream",
     "text": [
      "  0%|          | 1/1417 [00:02<50:23,  2.13s/it]"
     ]
    },
    {
     "name": "stdout",
     "output_type": "stream",
     "text": [
      "[17/100] [0/1417] mean_loss : 0.382, state_loss : 0.027, gen_loss : 0.284, dom_loss : 0.071\n"
     ]
    },
    {
     "name": "stderr",
     "output_type": "stream",
     "text": [
      "  7%|▋         | 101/1417 [02:16<29:43,  1.36s/it]"
     ]
    },
    {
     "name": "stdout",
     "output_type": "stream",
     "text": [
      "[17/100] [100/1417] mean_loss : 0.266, state_loss : 0.026, gen_loss : 0.149, dom_loss : 0.066\n"
     ]
    },
    {
     "name": "stderr",
     "output_type": "stream",
     "text": [
      " 14%|█▍        | 201/1417 [04:27<25:26,  1.26s/it]"
     ]
    },
    {
     "name": "stdout",
     "output_type": "stream",
     "text": [
      "[17/100] [200/1417] mean_loss : 0.256, state_loss : 0.014, gen_loss : 0.172, dom_loss : 0.000\n"
     ]
    },
    {
     "name": "stderr",
     "output_type": "stream",
     "text": [
      " 21%|██        | 301/1417 [06:40<22:40,  1.22s/it]"
     ]
    },
    {
     "name": "stdout",
     "output_type": "stream",
     "text": [
      "[17/100] [300/1417] mean_loss : 0.237, state_loss : 0.025, gen_loss : 0.187, dom_loss : 0.013\n"
     ]
    },
    {
     "name": "stderr",
     "output_type": "stream",
     "text": [
      " 28%|██▊       | 401/1417 [08:53<24:30,  1.45s/it]"
     ]
    },
    {
     "name": "stdout",
     "output_type": "stream",
     "text": [
      "[17/100] [400/1417] mean_loss : 0.260, state_loss : 0.016, gen_loss : 0.159, dom_loss : 0.003\n"
     ]
    },
    {
     "name": "stderr",
     "output_type": "stream",
     "text": [
      " 35%|███▌      | 501/1417 [11:03<21:36,  1.42s/it]"
     ]
    },
    {
     "name": "stdout",
     "output_type": "stream",
     "text": [
      "[17/100] [500/1417] mean_loss : 0.251, state_loss : 0.011, gen_loss : 0.138, dom_loss : 0.038\n"
     ]
    },
    {
     "name": "stderr",
     "output_type": "stream",
     "text": [
      " 42%|████▏     | 601/1417 [13:19<17:04,  1.25s/it]"
     ]
    },
    {
     "name": "stdout",
     "output_type": "stream",
     "text": [
      "[17/100] [600/1417] mean_loss : 0.308, state_loss : 0.040, gen_loss : 0.384, dom_loss : 0.002\n"
     ]
    },
    {
     "name": "stderr",
     "output_type": "stream",
     "text": [
      " 49%|████▉     | 701/1417 [15:34<15:55,  1.34s/it]"
     ]
    },
    {
     "name": "stdout",
     "output_type": "stream",
     "text": [
      "[17/100] [700/1417] mean_loss : 0.319, state_loss : 0.016, gen_loss : 0.202, dom_loss : 0.001\n"
     ]
    },
    {
     "name": "stderr",
     "output_type": "stream",
     "text": [
      " 57%|█████▋    | 801/1417 [17:46<12:48,  1.25s/it]"
     ]
    },
    {
     "name": "stdout",
     "output_type": "stream",
     "text": [
      "[17/100] [800/1417] mean_loss : 0.296, state_loss : 0.009, gen_loss : 0.109, dom_loss : 0.001\n"
     ]
    },
    {
     "name": "stderr",
     "output_type": "stream",
     "text": [
      " 64%|██████▎   | 901/1417 [19:58<10:37,  1.23s/it]"
     ]
    },
    {
     "name": "stdout",
     "output_type": "stream",
     "text": [
      "[17/100] [900/1417] mean_loss : 0.251, state_loss : 0.010, gen_loss : 0.192, dom_loss : 0.025\n"
     ]
    },
    {
     "name": "stderr",
     "output_type": "stream",
     "text": [
      " 71%|███████   | 1001/1417 [22:09<09:08,  1.32s/it]"
     ]
    },
    {
     "name": "stdout",
     "output_type": "stream",
     "text": [
      "[17/100] [1000/1417] mean_loss : 0.266, state_loss : 0.014, gen_loss : 0.218, dom_loss : 0.002\n"
     ]
    },
    {
     "name": "stderr",
     "output_type": "stream",
     "text": [
      " 78%|███████▊  | 1101/1417 [24:23<07:18,  1.39s/it]"
     ]
    },
    {
     "name": "stdout",
     "output_type": "stream",
     "text": [
      "[17/100] [1100/1417] mean_loss : 0.244, state_loss : 0.010, gen_loss : 0.143, dom_loss : 0.001\n"
     ]
    },
    {
     "name": "stderr",
     "output_type": "stream",
     "text": [
      " 85%|████████▍ | 1201/1417 [26:36<04:41,  1.30s/it]"
     ]
    },
    {
     "name": "stdout",
     "output_type": "stream",
     "text": [
      "[17/100] [1200/1417] mean_loss : 0.251, state_loss : 0.024, gen_loss : 0.178, dom_loss : 0.016\n"
     ]
    },
    {
     "name": "stderr",
     "output_type": "stream",
     "text": [
      " 92%|█████████▏| 1301/1417 [28:51<02:40,  1.38s/it]"
     ]
    },
    {
     "name": "stdout",
     "output_type": "stream",
     "text": [
      "[17/100] [1300/1417] mean_loss : 0.248, state_loss : 0.021, gen_loss : 0.186, dom_loss : 0.010\n"
     ]
    },
    {
     "name": "stderr",
     "output_type": "stream",
     "text": [
      " 99%|█████████▉| 1401/1417 [31:06<00:20,  1.31s/it]"
     ]
    },
    {
     "name": "stdout",
     "output_type": "stream",
     "text": [
      "[17/100] [1400/1417] mean_loss : 0.259, state_loss : 0.023, gen_loss : 0.246, dom_loss : 0.000\n"
     ]
    },
    {
     "name": "stderr",
     "output_type": "stream",
     "text": [
      "100%|██████████| 1417/1417 [31:26<00:00,  1.33s/it]\n",
      "100%|██████████| 5067/5067 [02:07<00:00, 39.75it/s]\n"
     ]
    },
    {
     "name": "stdout",
     "output_type": "stream",
     "text": [
      "------------------------------\n",
      "op_code: 3-1, is_gt_op: False, is_gt_p_state: False, is_gt_gen: False\n",
      "Epoch 17 joint accuracy :  0.5431221630155911\n",
      "Epoch 17 slot turn accuracy :  0.9833125013705354\n",
      "Epoch 17 slot turn F1:  0.925685598661887\n",
      "Epoch 17 op accuracy :  0.984860645133006\n",
      "Epoch 17 op F1 :  {'update': 0.819896246566982, 'carryover': 0.992299843983767, 'dontcare': 0.7662285941855834}\n",
      "Epoch 17 op hit count :  {'update': 6717, 'carryover': 216884, 'dontcare': 962}\n",
      "Epoch 17 op all count :  {'update': 9311, 'carryover': 217278, 'dontcare': 1426}\n",
      "Final Joint Accuracy :  0.3719599427753934\n",
      "Final slot turn F1 :  0.9034352419450206\n",
      "Latency Per Prediction : 19.963893 ms\n",
      "-----------------------------\n",
      "\n",
      "관광 0.7448173741362291 0.9932872655478858\n",
      "숙소 0.7664994210729448 0.9933444830395848\n",
      "식당 0.6221727845754542 0.9895933753553343\n",
      "지하철 0.5953757225433526 0.9880539499036607\n",
      "택시 0.31382978723404253 0.9770685579196138\n"
     ]
    },
    {
     "name": "stderr",
     "output_type": "stream",
     "text": [
      "  0%|          | 0/1417 [00:00<?, ?it/s]"
     ]
    },
    {
     "name": "stdout",
     "output_type": "stream",
     "text": [
      "Best Score :  {'epoch': 17, 'joint_acc': 0.5431221630155911, 'slot_acc': 0.9833125013705354, 'slot_f1': 0.925685598661887, 'op_acc': 0.984860645133006, 'op_f1': {'update': 0.819896246566982, 'carryover': 0.992299843983767, 'dontcare': 0.7662285941855834}, 'final_slot_f1': 0.9034352419450206}\n",
      "\n",
      "\n"
     ]
    },
    {
     "name": "stderr",
     "output_type": "stream",
     "text": [
      "  0%|          | 1/1417 [00:02<1:00:29,  2.56s/it]"
     ]
    },
    {
     "name": "stdout",
     "output_type": "stream",
     "text": [
      "[18/100] [0/1417] mean_loss : 0.338, state_loss : 0.022, gen_loss : 0.311, dom_loss : 0.005\n"
     ]
    },
    {
     "name": "stderr",
     "output_type": "stream",
     "text": [
      "  7%|▋         | 101/1417 [02:16<29:08,  1.33s/it]"
     ]
    },
    {
     "name": "stdout",
     "output_type": "stream",
     "text": [
      "[18/100] [100/1417] mean_loss : 0.230, state_loss : 0.027, gen_loss : 0.164, dom_loss : 0.003\n"
     ]
    },
    {
     "name": "stderr",
     "output_type": "stream",
     "text": [
      " 14%|█▍        | 201/1417 [04:28<29:05,  1.44s/it]"
     ]
    },
    {
     "name": "stdout",
     "output_type": "stream",
     "text": [
      "[18/100] [200/1417] mean_loss : 0.257, state_loss : 0.017, gen_loss : 0.118, dom_loss : 0.001\n"
     ]
    },
    {
     "name": "stderr",
     "output_type": "stream",
     "text": [
      " 21%|██        | 301/1417 [06:43<25:36,  1.38s/it]"
     ]
    },
    {
     "name": "stdout",
     "output_type": "stream",
     "text": [
      "[18/100] [300/1417] mean_loss : 0.258, state_loss : 0.012, gen_loss : 0.079, dom_loss : 0.000\n"
     ]
    },
    {
     "name": "stderr",
     "output_type": "stream",
     "text": [
      " 28%|██▊       | 401/1417 [08:54<22:22,  1.32s/it]"
     ]
    },
    {
     "name": "stdout",
     "output_type": "stream",
     "text": [
      "[18/100] [400/1417] mean_loss : 0.269, state_loss : 0.013, gen_loss : 0.302, dom_loss : 0.006\n"
     ]
    },
    {
     "name": "stderr",
     "output_type": "stream",
     "text": [
      " 35%|███▌      | 501/1417 [11:10<20:01,  1.31s/it]"
     ]
    },
    {
     "name": "stdout",
     "output_type": "stream",
     "text": [
      "[18/100] [500/1417] mean_loss : 0.236, state_loss : 0.014, gen_loss : 0.098, dom_loss : 0.002\n"
     ]
    },
    {
     "name": "stderr",
     "output_type": "stream",
     "text": [
      " 42%|████▏     | 601/1417 [13:19<17:51,  1.31s/it]"
     ]
    },
    {
     "name": "stdout",
     "output_type": "stream",
     "text": [
      "[18/100] [600/1417] mean_loss : 0.245, state_loss : 0.010, gen_loss : 0.168, dom_loss : 0.000\n"
     ]
    },
    {
     "name": "stderr",
     "output_type": "stream",
     "text": [
      " 49%|████▉     | 701/1417 [15:30<16:23,  1.37s/it]"
     ]
    },
    {
     "name": "stdout",
     "output_type": "stream",
     "text": [
      "[18/100] [700/1417] mean_loss : 0.229, state_loss : 0.021, gen_loss : 0.117, dom_loss : 0.016\n"
     ]
    },
    {
     "name": "stderr",
     "output_type": "stream",
     "text": [
      " 57%|█████▋    | 801/1417 [17:44<14:06,  1.37s/it]"
     ]
    },
    {
     "name": "stdout",
     "output_type": "stream",
     "text": [
      "[18/100] [800/1417] mean_loss : 0.239, state_loss : 0.022, gen_loss : 0.113, dom_loss : 0.001\n"
     ]
    },
    {
     "name": "stderr",
     "output_type": "stream",
     "text": [
      " 64%|██████▎   | 901/1417 [19:58<11:31,  1.34s/it]"
     ]
    },
    {
     "name": "stdout",
     "output_type": "stream",
     "text": [
      "[18/100] [900/1417] mean_loss : 0.224, state_loss : 0.012, gen_loss : 0.228, dom_loss : 0.001\n"
     ]
    },
    {
     "name": "stderr",
     "output_type": "stream",
     "text": [
      " 71%|███████   | 1001/1417 [22:12<08:35,  1.24s/it]"
     ]
    },
    {
     "name": "stdout",
     "output_type": "stream",
     "text": [
      "[18/100] [1000/1417] mean_loss : 0.265, state_loss : 0.016, gen_loss : 0.255, dom_loss : 0.003\n"
     ]
    },
    {
     "name": "stderr",
     "output_type": "stream",
     "text": [
      " 78%|███████▊  | 1101/1417 [24:29<07:01,  1.33s/it]"
     ]
    },
    {
     "name": "stdout",
     "output_type": "stream",
     "text": [
      "[18/100] [1100/1417] mean_loss : 0.270, state_loss : 0.017, gen_loss : 0.270, dom_loss : 0.004\n"
     ]
    },
    {
     "name": "stderr",
     "output_type": "stream",
     "text": [
      " 85%|████████▍ | 1201/1417 [26:41<05:01,  1.40s/it]"
     ]
    },
    {
     "name": "stdout",
     "output_type": "stream",
     "text": [
      "[18/100] [1200/1417] mean_loss : 0.224, state_loss : 0.028, gen_loss : 0.184, dom_loss : 0.007\n"
     ]
    },
    {
     "name": "stderr",
     "output_type": "stream",
     "text": [
      " 92%|█████████▏| 1301/1417 [28:55<02:29,  1.29s/it]"
     ]
    },
    {
     "name": "stdout",
     "output_type": "stream",
     "text": [
      "[18/100] [1300/1417] mean_loss : 0.233, state_loss : 0.030, gen_loss : 0.244, dom_loss : 0.006\n"
     ]
    },
    {
     "name": "stderr",
     "output_type": "stream",
     "text": [
      " 99%|█████████▉| 1401/1417 [31:08<00:23,  1.46s/it]"
     ]
    },
    {
     "name": "stdout",
     "output_type": "stream",
     "text": [
      "[18/100] [1400/1417] mean_loss : 0.301, state_loss : 0.024, gen_loss : 0.267, dom_loss : 0.011\n"
     ]
    },
    {
     "name": "stderr",
     "output_type": "stream",
     "text": [
      "100%|██████████| 1417/1417 [31:30<00:00,  1.33s/it]\n",
      "100%|██████████| 5067/5067 [02:07<00:00, 39.82it/s]\n"
     ]
    },
    {
     "name": "stdout",
     "output_type": "stream",
     "text": [
      "------------------------------\n",
      "op_code: 3-1, is_gt_op: False, is_gt_p_state: False, is_gt_gen: False\n",
      "Epoch 18 joint accuracy :  0.4012236037102822\n",
      "Epoch 18 slot turn accuracy :  0.9741508234107511\n",
      "Epoch 18 slot turn F1:  0.8999470034150916\n",
      "Epoch 18 op accuracy :  0.9753577424826277\n",
      "Epoch 18 op F1 :  {'update': 0.7291206363234645, 'carryover': 0.9872994283823773, 'dontcare': 0.7003745318352058}\n",
      "Epoch 18 op hit count :  {'update': 6600, 'carryover': 214864, 'dontcare': 935}\n",
      "Epoch 18 op all count :  {'update': 10922, 'carryover': 215556, 'dontcare': 1537}\n",
      "Final Joint Accuracy :  0.2603719599427754\n",
      "Final slot turn F1 :  0.8877899080229049\n",
      "Latency Per Prediction : 19.907509 ms\n",
      "-----------------------------\n",
      "\n",
      "관광 0.6554787759131293 0.9903696391356911\n",
      "숙소 0.5140872250096488 0.9849050130794644\n",
      "식당 0.6169818316648128 0.9880443290899397\n",
      "지하철 0.630057803468208 0.9888246628131019\n"
     ]
    },
    {
     "name": "stderr",
     "output_type": "stream",
     "text": [
      "  0%|          | 0/1417 [00:00<?, ?it/s]"
     ]
    },
    {
     "name": "stdout",
     "output_type": "stream",
     "text": [
      "택시 0.33617021276595743 0.9784633569739886\n",
      "Best Score :  {'epoch': 17, 'joint_acc': 0.5431221630155911, 'slot_acc': 0.9833125013705354, 'slot_f1': 0.925685598661887, 'op_acc': 0.984860645133006, 'op_f1': {'update': 0.819896246566982, 'carryover': 0.992299843983767, 'dontcare': 0.7662285941855834}, 'final_slot_f1': 0.9034352419450206}\n",
      "\n",
      "\n"
     ]
    },
    {
     "name": "stderr",
     "output_type": "stream",
     "text": [
      "  0%|          | 1/1417 [00:02<1:09:58,  2.96s/it]"
     ]
    },
    {
     "name": "stdout",
     "output_type": "stream",
     "text": [
      "[19/100] [0/1417] mean_loss : 0.237, state_loss : 0.049, gen_loss : 0.181, dom_loss : 0.006\n"
     ]
    },
    {
     "name": "stderr",
     "output_type": "stream",
     "text": [
      "  7%|▋         | 101/1417 [02:15<29:34,  1.35s/it]"
     ]
    },
    {
     "name": "stdout",
     "output_type": "stream",
     "text": [
      "[19/100] [100/1417] mean_loss : 0.259, state_loss : 0.039, gen_loss : 0.383, dom_loss : 0.004\n"
     ]
    },
    {
     "name": "stderr",
     "output_type": "stream",
     "text": [
      " 14%|█▍        | 201/1417 [04:29<26:27,  1.31s/it]"
     ]
    },
    {
     "name": "stdout",
     "output_type": "stream",
     "text": [
      "[19/100] [200/1417] mean_loss : 0.231, state_loss : 0.009, gen_loss : 0.125, dom_loss : 0.001\n"
     ]
    },
    {
     "name": "stderr",
     "output_type": "stream",
     "text": [
      " 21%|██        | 301/1417 [06:43<25:56,  1.39s/it]"
     ]
    },
    {
     "name": "stdout",
     "output_type": "stream",
     "text": [
      "[19/100] [300/1417] mean_loss : 0.220, state_loss : 0.028, gen_loss : 0.136, dom_loss : 0.008\n"
     ]
    },
    {
     "name": "stderr",
     "output_type": "stream",
     "text": [
      " 28%|██▊       | 401/1417 [08:55<21:14,  1.25s/it]"
     ]
    },
    {
     "name": "stdout",
     "output_type": "stream",
     "text": [
      "[19/100] [400/1417] mean_loss : 0.235, state_loss : 0.012, gen_loss : 0.131, dom_loss : 0.003\n"
     ]
    },
    {
     "name": "stderr",
     "output_type": "stream",
     "text": [
      " 35%|███▌      | 501/1417 [11:08<19:39,  1.29s/it]"
     ]
    },
    {
     "name": "stdout",
     "output_type": "stream",
     "text": [
      "[19/100] [500/1417] mean_loss : 0.225, state_loss : 0.018, gen_loss : 0.128, dom_loss : 0.000\n"
     ]
    },
    {
     "name": "stderr",
     "output_type": "stream",
     "text": [
      " 42%|████▏     | 601/1417 [13:17<18:51,  1.39s/it]"
     ]
    },
    {
     "name": "stdout",
     "output_type": "stream",
     "text": [
      "[19/100] [600/1417] mean_loss : 0.214, state_loss : 0.022, gen_loss : 0.090, dom_loss : 0.036\n"
     ]
    },
    {
     "name": "stderr",
     "output_type": "stream",
     "text": [
      " 49%|████▉     | 701/1417 [15:29<14:53,  1.25s/it]"
     ]
    },
    {
     "name": "stdout",
     "output_type": "stream",
     "text": [
      "[19/100] [700/1417] mean_loss : 0.219, state_loss : 0.016, gen_loss : 0.086, dom_loss : 0.001\n"
     ]
    },
    {
     "name": "stderr",
     "output_type": "stream",
     "text": [
      " 57%|█████▋    | 801/1417 [17:42<13:51,  1.35s/it]"
     ]
    },
    {
     "name": "stdout",
     "output_type": "stream",
     "text": [
      "[19/100] [800/1417] mean_loss : 0.235, state_loss : 0.011, gen_loss : 0.213, dom_loss : 0.002\n"
     ]
    },
    {
     "name": "stderr",
     "output_type": "stream",
     "text": [
      " 64%|██████▎   | 901/1417 [19:56<10:57,  1.27s/it]"
     ]
    },
    {
     "name": "stdout",
     "output_type": "stream",
     "text": [
      "[19/100] [900/1417] mean_loss : 0.222, state_loss : 0.012, gen_loss : 0.476, dom_loss : 0.000\n"
     ]
    },
    {
     "name": "stderr",
     "output_type": "stream",
     "text": [
      " 71%|███████   | 1001/1417 [22:07<08:43,  1.26s/it]"
     ]
    },
    {
     "name": "stdout",
     "output_type": "stream",
     "text": [
      "[19/100] [1000/1417] mean_loss : 0.201, state_loss : 0.019, gen_loss : 0.213, dom_loss : 0.084\n"
     ]
    },
    {
     "name": "stderr",
     "output_type": "stream",
     "text": [
      " 78%|███████▊  | 1101/1417 [24:18<07:11,  1.36s/it]"
     ]
    },
    {
     "name": "stdout",
     "output_type": "stream",
     "text": [
      "[19/100] [1100/1417] mean_loss : 0.224, state_loss : 0.013, gen_loss : 0.079, dom_loss : 0.019\n"
     ]
    },
    {
     "name": "stderr",
     "output_type": "stream",
     "text": [
      " 85%|████████▍ | 1201/1417 [26:32<05:13,  1.45s/it]"
     ]
    },
    {
     "name": "stdout",
     "output_type": "stream",
     "text": [
      "[19/100] [1200/1417] mean_loss : 0.220, state_loss : 0.014, gen_loss : 0.299, dom_loss : 0.004\n"
     ]
    },
    {
     "name": "stderr",
     "output_type": "stream",
     "text": [
      " 92%|█████████▏| 1301/1417 [28:45<02:36,  1.35s/it]"
     ]
    },
    {
     "name": "stdout",
     "output_type": "stream",
     "text": [
      "[19/100] [1300/1417] mean_loss : 0.225, state_loss : 0.015, gen_loss : 0.106, dom_loss : 0.032\n"
     ]
    },
    {
     "name": "stderr",
     "output_type": "stream",
     "text": [
      " 99%|█████████▉| 1401/1417 [30:58<00:21,  1.34s/it]"
     ]
    },
    {
     "name": "stdout",
     "output_type": "stream",
     "text": [
      "[19/100] [1400/1417] mean_loss : 0.229, state_loss : 0.017, gen_loss : 0.354, dom_loss : 0.004\n"
     ]
    },
    {
     "name": "stderr",
     "output_type": "stream",
     "text": [
      "100%|██████████| 1417/1417 [31:19<00:00,  1.33s/it]\n",
      "100%|██████████| 5067/5067 [02:05<00:00, 40.27it/s]\n"
     ]
    },
    {
     "name": "stdout",
     "output_type": "stream",
     "text": [
      "------------------------------\n",
      "op_code: 3-1, is_gt_op: False, is_gt_p_state: False, is_gt_gen: False\n",
      "Epoch 19 joint accuracy :  0.6005525952239984\n",
      "Epoch 19 slot turn accuracy :  0.9863298467206187\n",
      "Epoch 19 slot turn F1:  0.9405092975011453\n",
      "Epoch 19 op accuracy :  0.9872639957897587\n",
      "Epoch 19 op F1 :  {'update': 0.8500565113650635, 'carryover': 0.9935331136572414, 'dontcare': 0.7630522088353415}\n",
      "Epoch 19 op hit count :  {'update': 6769, 'carryover': 217392, 'dontcare': 950}\n",
      "Epoch 19 op all count :  {'update': 8760, 'carryover': 217857, 'dontcare': 1398}\n",
      "Final Joint Accuracy :  0.4406294706723891\n",
      "Final slot turn F1 :  0.9216713109430021\n",
      "Latency Per Prediction : 19.753918 ms\n",
      "-----------------------------\n",
      "\n",
      "관광 0.7492596248766041 0.993583415597246\n",
      "숙소 0.7803936703975299 0.9942107294480902\n",
      "식당 0.7519466073414905 0.9934083137642673\n",
      "지하철 0.5202312138728323 0.9865125240847782\n"
     ]
    },
    {
     "name": "stderr",
     "output_type": "stream",
     "text": [
      "  0%|          | 0/1417 [00:00<?, ?it/s]"
     ]
    },
    {
     "name": "stdout",
     "output_type": "stream",
     "text": [
      "택시 0.3553191489361702 0.9806619385342727\n",
      "Best Score :  {'epoch': 19, 'joint_acc': 0.6005525952239984, 'slot_acc': 0.9863298467206187, 'slot_f1': 0.9405092975011453, 'op_acc': 0.9872639957897587, 'op_f1': {'update': 0.8500565113650635, 'carryover': 0.9935331136572414, 'dontcare': 0.7630522088353415}, 'final_slot_f1': 0.9216713109430021}\n",
      "\n",
      "\n"
     ]
    },
    {
     "name": "stderr",
     "output_type": "stream",
     "text": [
      "  0%|          | 1/1417 [00:02<49:40,  2.11s/it]"
     ]
    },
    {
     "name": "stdout",
     "output_type": "stream",
     "text": [
      "[20/100] [0/1417] mean_loss : 0.192, state_loss : 0.025, gen_loss : 0.165, dom_loss : 0.002\n"
     ]
    },
    {
     "name": "stderr",
     "output_type": "stream",
     "text": [
      "  7%|▋         | 101/1417 [02:15<28:06,  1.28s/it]"
     ]
    },
    {
     "name": "stdout",
     "output_type": "stream",
     "text": [
      "[20/100] [100/1417] mean_loss : 0.206, state_loss : 0.010, gen_loss : 0.159, dom_loss : 0.001\n"
     ]
    },
    {
     "name": "stderr",
     "output_type": "stream",
     "text": [
      " 14%|█▍        | 201/1417 [04:23<24:00,  1.18s/it]"
     ]
    },
    {
     "name": "stdout",
     "output_type": "stream",
     "text": [
      "[20/100] [200/1417] mean_loss : 0.222, state_loss : 0.010, gen_loss : 0.123, dom_loss : 0.000\n"
     ]
    },
    {
     "name": "stderr",
     "output_type": "stream",
     "text": [
      " 21%|██        | 301/1417 [06:32<23:13,  1.25s/it]"
     ]
    },
    {
     "name": "stdout",
     "output_type": "stream",
     "text": [
      "[20/100] [300/1417] mean_loss : 0.203, state_loss : 0.031, gen_loss : 0.296, dom_loss : 0.000\n"
     ]
    },
    {
     "name": "stderr",
     "output_type": "stream",
     "text": [
      " 28%|██▊       | 401/1417 [08:46<20:53,  1.23s/it]"
     ]
    },
    {
     "name": "stdout",
     "output_type": "stream",
     "text": [
      "[20/100] [400/1417] mean_loss : 0.212, state_loss : 0.007, gen_loss : 0.267, dom_loss : 0.002\n"
     ]
    },
    {
     "name": "stderr",
     "output_type": "stream",
     "text": [
      " 35%|███▌      | 501/1417 [10:58<19:06,  1.25s/it]"
     ]
    },
    {
     "name": "stdout",
     "output_type": "stream",
     "text": [
      "[20/100] [500/1417] mean_loss : 0.222, state_loss : 0.006, gen_loss : 0.057, dom_loss : 0.000\n"
     ]
    },
    {
     "name": "stderr",
     "output_type": "stream",
     "text": [
      " 42%|████▏     | 601/1417 [13:10<18:56,  1.39s/it]"
     ]
    },
    {
     "name": "stdout",
     "output_type": "stream",
     "text": [
      "[20/100] [600/1417] mean_loss : 0.208, state_loss : 0.019, gen_loss : 0.323, dom_loss : 0.005\n"
     ]
    },
    {
     "name": "stderr",
     "output_type": "stream",
     "text": [
      " 49%|████▉     | 701/1417 [15:22<14:54,  1.25s/it]"
     ]
    },
    {
     "name": "stdout",
     "output_type": "stream",
     "text": [
      "[20/100] [700/1417] mean_loss : 0.204, state_loss : 0.014, gen_loss : 0.252, dom_loss : 0.000\n"
     ]
    },
    {
     "name": "stderr",
     "output_type": "stream",
     "text": [
      " 57%|█████▋    | 801/1417 [17:34<13:14,  1.29s/it]"
     ]
    },
    {
     "name": "stdout",
     "output_type": "stream",
     "text": [
      "[20/100] [800/1417] mean_loss : 0.211, state_loss : 0.005, gen_loss : 0.294, dom_loss : 0.003\n"
     ]
    },
    {
     "name": "stderr",
     "output_type": "stream",
     "text": [
      " 64%|██████▎   | 901/1417 [19:46<14:10,  1.65s/it]"
     ]
    },
    {
     "name": "stdout",
     "output_type": "stream",
     "text": [
      "[20/100] [900/1417] mean_loss : 0.211, state_loss : 0.009, gen_loss : 0.131, dom_loss : 0.000\n"
     ]
    },
    {
     "name": "stderr",
     "output_type": "stream",
     "text": [
      " 71%|███████   | 1001/1417 [21:55<10:35,  1.53s/it]"
     ]
    },
    {
     "name": "stdout",
     "output_type": "stream",
     "text": [
      "[20/100] [1000/1417] mean_loss : 0.206, state_loss : 0.008, gen_loss : 0.178, dom_loss : 0.000\n"
     ]
    },
    {
     "name": "stderr",
     "output_type": "stream",
     "text": [
      " 78%|███████▊  | 1101/1417 [24:07<07:03,  1.34s/it]"
     ]
    },
    {
     "name": "stdout",
     "output_type": "stream",
     "text": [
      "[20/100] [1100/1417] mean_loss : 0.201, state_loss : 0.004, gen_loss : 0.051, dom_loss : 0.020\n"
     ]
    },
    {
     "name": "stderr",
     "output_type": "stream",
     "text": [
      " 85%|████████▍ | 1201/1417 [26:18<04:27,  1.24s/it]"
     ]
    },
    {
     "name": "stdout",
     "output_type": "stream",
     "text": [
      "[20/100] [1200/1417] mean_loss : 0.194, state_loss : 0.020, gen_loss : 0.061, dom_loss : 0.154\n"
     ]
    },
    {
     "name": "stderr",
     "output_type": "stream",
     "text": [
      " 92%|█████████▏| 1301/1417 [28:33<02:26,  1.26s/it]"
     ]
    },
    {
     "name": "stdout",
     "output_type": "stream",
     "text": [
      "[20/100] [1300/1417] mean_loss : 0.209, state_loss : 0.020, gen_loss : 0.277, dom_loss : 0.002\n"
     ]
    },
    {
     "name": "stderr",
     "output_type": "stream",
     "text": [
      " 99%|█████████▉| 1401/1417 [30:45<00:21,  1.37s/it]"
     ]
    },
    {
     "name": "stdout",
     "output_type": "stream",
     "text": [
      "[20/100] [1400/1417] mean_loss : 0.186, state_loss : 0.013, gen_loss : 0.116, dom_loss : 0.000\n"
     ]
    },
    {
     "name": "stderr",
     "output_type": "stream",
     "text": [
      "100%|██████████| 1417/1417 [31:09<00:00,  1.32s/it]\n",
      "100%|██████████| 5067/5067 [02:07<00:00, 39.68it/s]\n"
     ]
    },
    {
     "name": "stdout",
     "output_type": "stream",
     "text": [
      "------------------------------\n",
      "op_code: 3-1, is_gt_op: False, is_gt_p_state: False, is_gt_gen: False\n",
      "Epoch 20 joint accuracy :  0.6356818630353266\n",
      "Epoch 20 slot turn accuracy :  0.9876148499002336\n",
      "Epoch 20 slot turn F1:  0.9463620499178148\n",
      "Epoch 20 op accuracy :  0.9885095278819447\n",
      "Epoch 20 op F1 :  {'update': 0.8632435180477884, 'carryover': 0.9941961257254842, 'dontcare': 0.779701973419251}\n",
      "Epoch 20 op hit count :  {'update': 6792, 'carryover': 217635, 'dontcare': 968}\n",
      "Epoch 20 op all count :  {'update': 8583, 'carryover': 218023, 'dontcare': 1409}\n",
      "Final Joint Accuracy :  0.48783977110157367\n",
      "Final slot turn F1 :  0.9303415188751737\n",
      "Latency Per Prediction : 19.991030 ms\n",
      "-----------------------------\n",
      "\n",
      "관광 0.7813425468904245 0.9944389601842791\n",
      "숙소 0.7896565032805867 0.9940906556884958\n",
      "식당 0.7660363366703745 0.9937626168994355\n",
      "지하철 0.630057803468208 0.9892100192678224\n",
      "택시 0.42127659574468085 0.982836879432618\n"
     ]
    },
    {
     "name": "stderr",
     "output_type": "stream",
     "text": [
      "  0%|          | 0/1417 [00:00<?, ?it/s]"
     ]
    },
    {
     "name": "stdout",
     "output_type": "stream",
     "text": [
      "Best Score :  {'epoch': 20, 'joint_acc': 0.6356818630353266, 'slot_acc': 0.9876148499002336, 'slot_f1': 0.9463620499178148, 'op_acc': 0.9885095278819447, 'op_f1': {'update': 0.8632435180477884, 'carryover': 0.9941961257254842, 'dontcare': 0.779701973419251}, 'final_slot_f1': 0.9303415188751737}\n",
      "\n",
      "\n"
     ]
    },
    {
     "name": "stderr",
     "output_type": "stream",
     "text": [
      "  0%|          | 1/1417 [00:02<55:03,  2.33s/it]"
     ]
    },
    {
     "name": "stdout",
     "output_type": "stream",
     "text": [
      "[21/100] [0/1417] mean_loss : 0.170, state_loss : 0.013, gen_loss : 0.157, dom_loss : 0.001\n"
     ]
    },
    {
     "name": "stderr",
     "output_type": "stream",
     "text": [
      "  7%|▋         | 101/1417 [02:13<28:19,  1.29s/it]"
     ]
    },
    {
     "name": "stdout",
     "output_type": "stream",
     "text": [
      "[21/100] [100/1417] mean_loss : 0.197, state_loss : 0.013, gen_loss : 0.363, dom_loss : 0.000\n"
     ]
    },
    {
     "name": "stderr",
     "output_type": "stream",
     "text": [
      " 14%|█▍        | 201/1417 [04:27<26:08,  1.29s/it]"
     ]
    },
    {
     "name": "stdout",
     "output_type": "stream",
     "text": [
      "[21/100] [200/1417] mean_loss : 0.185, state_loss : 0.018, gen_loss : 0.164, dom_loss : 0.002\n"
     ]
    },
    {
     "name": "stderr",
     "output_type": "stream",
     "text": [
      " 21%|██        | 301/1417 [06:42<24:47,  1.33s/it]"
     ]
    },
    {
     "name": "stdout",
     "output_type": "stream",
     "text": [
      "[21/100] [300/1417] mean_loss : 0.215, state_loss : 0.032, gen_loss : 0.199, dom_loss : 0.039\n"
     ]
    },
    {
     "name": "stderr",
     "output_type": "stream",
     "text": [
      " 28%|██▊       | 401/1417 [08:55<25:00,  1.48s/it]"
     ]
    },
    {
     "name": "stdout",
     "output_type": "stream",
     "text": [
      "[21/100] [400/1417] mean_loss : 0.194, state_loss : 0.012, gen_loss : 0.146, dom_loss : 0.001\n"
     ]
    },
    {
     "name": "stderr",
     "output_type": "stream",
     "text": [
      " 35%|███▌      | 501/1417 [11:09<20:21,  1.33s/it]"
     ]
    },
    {
     "name": "stdout",
     "output_type": "stream",
     "text": [
      "[21/100] [500/1417] mean_loss : 0.200, state_loss : 0.015, gen_loss : 0.206, dom_loss : 0.000\n"
     ]
    },
    {
     "name": "stderr",
     "output_type": "stream",
     "text": [
      " 42%|████▏     | 601/1417 [13:22<17:56,  1.32s/it]"
     ]
    },
    {
     "name": "stdout",
     "output_type": "stream",
     "text": [
      "[21/100] [600/1417] mean_loss : 0.217, state_loss : 0.009, gen_loss : 0.332, dom_loss : 0.003\n"
     ]
    },
    {
     "name": "stderr",
     "output_type": "stream",
     "text": [
      " 49%|████▉     | 701/1417 [15:35<16:24,  1.38s/it]"
     ]
    },
    {
     "name": "stdout",
     "output_type": "stream",
     "text": [
      "[21/100] [700/1417] mean_loss : 0.202, state_loss : 0.013, gen_loss : 0.145, dom_loss : 0.001\n"
     ]
    },
    {
     "name": "stderr",
     "output_type": "stream",
     "text": [
      " 57%|█████▋    | 801/1417 [17:48<13:42,  1.33s/it]"
     ]
    },
    {
     "name": "stdout",
     "output_type": "stream",
     "text": [
      "[21/100] [800/1417] mean_loss : 0.222, state_loss : 0.015, gen_loss : 0.265, dom_loss : 0.014\n"
     ]
    },
    {
     "name": "stderr",
     "output_type": "stream",
     "text": [
      " 64%|██████▎   | 901/1417 [19:58<11:07,  1.29s/it]"
     ]
    },
    {
     "name": "stdout",
     "output_type": "stream",
     "text": [
      "[21/100] [900/1417] mean_loss : 0.184, state_loss : 0.004, gen_loss : 0.126, dom_loss : 0.002\n"
     ]
    },
    {
     "name": "stderr",
     "output_type": "stream",
     "text": [
      " 71%|███████   | 1001/1417 [22:12<09:24,  1.36s/it]"
     ]
    },
    {
     "name": "stdout",
     "output_type": "stream",
     "text": [
      "[21/100] [1000/1417] mean_loss : 0.207, state_loss : 0.008, gen_loss : 0.174, dom_loss : 0.001\n"
     ]
    },
    {
     "name": "stderr",
     "output_type": "stream",
     "text": [
      " 78%|███████▊  | 1101/1417 [24:24<06:36,  1.26s/it]"
     ]
    },
    {
     "name": "stdout",
     "output_type": "stream",
     "text": [
      "[21/100] [1100/1417] mean_loss : 0.204, state_loss : 0.023, gen_loss : 0.234, dom_loss : 0.055\n"
     ]
    },
    {
     "name": "stderr",
     "output_type": "stream",
     "text": [
      " 85%|████████▍ | 1201/1417 [26:37<04:47,  1.33s/it]"
     ]
    },
    {
     "name": "stdout",
     "output_type": "stream",
     "text": [
      "[21/100] [1200/1417] mean_loss : 0.207, state_loss : 0.013, gen_loss : 0.310, dom_loss : 0.023\n"
     ]
    },
    {
     "name": "stderr",
     "output_type": "stream",
     "text": [
      " 92%|█████████▏| 1301/1417 [28:54<02:29,  1.29s/it]"
     ]
    },
    {
     "name": "stdout",
     "output_type": "stream",
     "text": [
      "[21/100] [1300/1417] mean_loss : 0.193, state_loss : 0.010, gen_loss : 0.185, dom_loss : 0.078\n"
     ]
    },
    {
     "name": "stderr",
     "output_type": "stream",
     "text": [
      " 99%|█████████▉| 1401/1417 [31:06<00:20,  1.30s/it]"
     ]
    },
    {
     "name": "stdout",
     "output_type": "stream",
     "text": [
      "[21/100] [1400/1417] mean_loss : 0.207, state_loss : 0.005, gen_loss : 0.131, dom_loss : 0.000\n"
     ]
    },
    {
     "name": "stderr",
     "output_type": "stream",
     "text": [
      "100%|██████████| 1417/1417 [31:26<00:00,  1.33s/it]\n",
      "100%|██████████| 5067/5067 [02:14<00:00, 37.73it/s]\n"
     ]
    },
    {
     "name": "stdout",
     "output_type": "stream",
     "text": [
      "------------------------------\n",
      "op_code: 3-1, is_gt_op: False, is_gt_p_state: False, is_gt_gen: False\n",
      "Epoch 21 joint accuracy :  0.6439707913953029\n",
      "Epoch 21 slot turn accuracy :  0.9875666074600449\n",
      "Epoch 21 slot turn F1:  0.9473014550070421\n",
      "Epoch 21 op accuracy :  0.9884788281472795\n",
      "Epoch 21 op F1 :  {'update': 0.8589159067882473, 'carryover': 0.9941499628804751, 'dontcare': 0.8112058465286236}\n",
      "Epoch 21 op hit count :  {'update': 6782, 'carryover': 217607, 'dontcare': 999}\n",
      "Epoch 21 op all count :  {'update': 8670, 'carryover': 217978, 'dontcare': 1367}\n",
      "Final Joint Accuracy :  0.5064377682403434\n",
      "Final slot turn F1 :  0.9320083240827282\n",
      "Latency Per Prediction : 20.840319 ms\n",
      "-----------------------------\n",
      "\n",
      "관광 0.7833168805528135 0.9946912361522512\n",
      "숙소 0.7873407950598225 0.9936017839529999\n",
      "식당 0.7827215424545791 0.9942157953281431\n",
      "지하철 0.6069364161849711 0.9877970456005136\n",
      "택시 0.4351063829787234 0.9834515366430201\n"
     ]
    },
    {
     "name": "stderr",
     "output_type": "stream",
     "text": [
      "  0%|          | 0/1417 [00:00<?, ?it/s]"
     ]
    },
    {
     "name": "stdout",
     "output_type": "stream",
     "text": [
      "Best Score :  {'epoch': 21, 'joint_acc': 0.6439707913953029, 'slot_acc': 0.9875666074600449, 'slot_f1': 0.9473014550070421, 'op_acc': 0.9884788281472795, 'op_f1': {'update': 0.8589159067882473, 'carryover': 0.9941499628804751, 'dontcare': 0.8112058465286236}, 'final_slot_f1': 0.9320083240827282}\n",
      "\n",
      "\n"
     ]
    },
    {
     "name": "stderr",
     "output_type": "stream",
     "text": [
      "  0%|          | 1/1417 [00:02<52:24,  2.22s/it]"
     ]
    },
    {
     "name": "stdout",
     "output_type": "stream",
     "text": [
      "[22/100] [0/1417] mean_loss : 0.285, state_loss : 0.012, gen_loss : 0.268, dom_loss : 0.004\n"
     ]
    },
    {
     "name": "stderr",
     "output_type": "stream",
     "text": [
      "  7%|▋         | 101/1417 [02:14<27:54,  1.27s/it]"
     ]
    },
    {
     "name": "stdout",
     "output_type": "stream",
     "text": [
      "[22/100] [100/1417] mean_loss : 0.202, state_loss : 0.035, gen_loss : 0.210, dom_loss : 0.014\n"
     ]
    },
    {
     "name": "stderr",
     "output_type": "stream",
     "text": [
      " 14%|█▍        | 201/1417 [04:28<25:14,  1.25s/it]"
     ]
    },
    {
     "name": "stdout",
     "output_type": "stream",
     "text": [
      "[22/100] [200/1417] mean_loss : 0.186, state_loss : 0.016, gen_loss : 0.059, dom_loss : 0.009\n"
     ]
    },
    {
     "name": "stderr",
     "output_type": "stream",
     "text": [
      " 21%|██        | 301/1417 [06:38<23:20,  1.25s/it]"
     ]
    },
    {
     "name": "stdout",
     "output_type": "stream",
     "text": [
      "[22/100] [300/1417] mean_loss : 0.181, state_loss : 0.022, gen_loss : 0.179, dom_loss : 0.001\n"
     ]
    },
    {
     "name": "stderr",
     "output_type": "stream",
     "text": [
      " 28%|██▊       | 401/1417 [08:52<21:53,  1.29s/it]"
     ]
    },
    {
     "name": "stdout",
     "output_type": "stream",
     "text": [
      "[22/100] [400/1417] mean_loss : 0.190, state_loss : 0.015, gen_loss : 0.112, dom_loss : 0.008\n"
     ]
    },
    {
     "name": "stderr",
     "output_type": "stream",
     "text": [
      " 35%|███▌      | 501/1417 [11:04<21:35,  1.41s/it]"
     ]
    },
    {
     "name": "stdout",
     "output_type": "stream",
     "text": [
      "[22/100] [500/1417] mean_loss : 0.178, state_loss : 0.005, gen_loss : 0.104, dom_loss : 0.012\n"
     ]
    },
    {
     "name": "stderr",
     "output_type": "stream",
     "text": [
      " 42%|████▏     | 601/1417 [13:15<17:31,  1.29s/it]"
     ]
    },
    {
     "name": "stdout",
     "output_type": "stream",
     "text": [
      "[22/100] [600/1417] mean_loss : 0.191, state_loss : 0.012, gen_loss : 0.110, dom_loss : 0.174\n"
     ]
    },
    {
     "name": "stderr",
     "output_type": "stream",
     "text": [
      " 49%|████▉     | 701/1417 [15:28<15:29,  1.30s/it]"
     ]
    },
    {
     "name": "stdout",
     "output_type": "stream",
     "text": [
      "[22/100] [700/1417] mean_loss : 0.198, state_loss : 0.010, gen_loss : 0.153, dom_loss : 0.006\n"
     ]
    },
    {
     "name": "stderr",
     "output_type": "stream",
     "text": [
      " 57%|█████▋    | 801/1417 [17:38<13:29,  1.31s/it]"
     ]
    },
    {
     "name": "stdout",
     "output_type": "stream",
     "text": [
      "[22/100] [800/1417] mean_loss : 0.185, state_loss : 0.021, gen_loss : 0.267, dom_loss : 0.055\n"
     ]
    },
    {
     "name": "stderr",
     "output_type": "stream",
     "text": [
      " 64%|██████▎   | 901/1417 [19:50<11:47,  1.37s/it]"
     ]
    },
    {
     "name": "stdout",
     "output_type": "stream",
     "text": [
      "[22/100] [900/1417] mean_loss : 0.182, state_loss : 0.015, gen_loss : 0.094, dom_loss : 0.000\n"
     ]
    },
    {
     "name": "stderr",
     "output_type": "stream",
     "text": [
      " 71%|███████   | 1001/1417 [21:58<08:54,  1.28s/it]"
     ]
    },
    {
     "name": "stdout",
     "output_type": "stream",
     "text": [
      "[22/100] [1000/1417] mean_loss : 0.200, state_loss : 0.014, gen_loss : 0.175, dom_loss : 0.057\n"
     ]
    },
    {
     "name": "stderr",
     "output_type": "stream",
     "text": [
      " 78%|███████▊  | 1101/1417 [24:10<06:34,  1.25s/it]"
     ]
    },
    {
     "name": "stdout",
     "output_type": "stream",
     "text": [
      "[22/100] [1100/1417] mean_loss : 0.184, state_loss : 0.017, gen_loss : 0.221, dom_loss : 0.007\n"
     ]
    },
    {
     "name": "stderr",
     "output_type": "stream",
     "text": [
      " 85%|████████▍ | 1201/1417 [26:23<04:37,  1.29s/it]"
     ]
    },
    {
     "name": "stdout",
     "output_type": "stream",
     "text": [
      "[22/100] [1200/1417] mean_loss : 0.202, state_loss : 0.017, gen_loss : 0.163, dom_loss : 0.000\n"
     ]
    },
    {
     "name": "stderr",
     "output_type": "stream",
     "text": [
      " 92%|█████████▏| 1301/1417 [28:36<02:39,  1.38s/it]"
     ]
    },
    {
     "name": "stdout",
     "output_type": "stream",
     "text": [
      "[22/100] [1300/1417] mean_loss : 0.195, state_loss : 0.022, gen_loss : 0.186, dom_loss : 0.016\n"
     ]
    },
    {
     "name": "stderr",
     "output_type": "stream",
     "text": [
      " 99%|█████████▉| 1401/1417 [30:50<00:20,  1.31s/it]"
     ]
    },
    {
     "name": "stdout",
     "output_type": "stream",
     "text": [
      "[22/100] [1400/1417] mean_loss : 0.180, state_loss : 0.014, gen_loss : 0.123, dom_loss : 0.005\n"
     ]
    },
    {
     "name": "stderr",
     "output_type": "stream",
     "text": [
      "100%|██████████| 1417/1417 [31:09<00:00,  1.32s/it]\n",
      "100%|██████████| 5067/5067 [02:05<00:00, 40.53it/s]\n"
     ]
    },
    {
     "name": "stdout",
     "output_type": "stream",
     "text": [
      "------------------------------\n",
      "op_code: 3-1, is_gt_op: False, is_gt_p_state: False, is_gt_gen: False\n",
      "Epoch 22 joint accuracy :  0.6532464969409907\n",
      "Epoch 22 slot turn accuracy :  0.9879964037453759\n",
      "Epoch 22 slot turn F1:  0.9475478417255191\n",
      "Epoch 22 op accuracy :  0.9889261671381344\n",
      "Epoch 22 op F1 :  {'update': 0.8623373309517735, 'carryover': 0.9944098102349799, 'dontcare': 0.8183306055646481}\n",
      "Epoch 22 op hit count :  {'update': 6759, 'carryover': 217731, 'dontcare': 1000}\n",
      "Epoch 22 op all count :  {'update': 8607, 'carryover': 218042, 'dontcare': 1366}\n",
      "Final Joint Accuracy :  0.5135908440629471\n",
      "Final slot turn F1 :  0.9318023397351943\n",
      "Latency Per Prediction : 19.620766 ms\n",
      "-----------------------------\n",
      "\n",
      "관광 0.773938795656466 0.9943292749808132\n",
      "숙소 0.7888846005403319 0.9941163857798381\n",
      "식당 0.7905079718205413 0.9944135459152155\n",
      "지하철 0.6127167630057804 0.9884393063583813\n",
      "택시 0.44574468085106383 0.9843262411347455\n"
     ]
    },
    {
     "name": "stderr",
     "output_type": "stream",
     "text": [
      "  0%|          | 0/1417 [00:00<?, ?it/s]"
     ]
    },
    {
     "name": "stdout",
     "output_type": "stream",
     "text": [
      "Best Score :  {'epoch': 22, 'joint_acc': 0.6532464969409907, 'slot_acc': 0.9879964037453759, 'slot_f1': 0.9475478417255191, 'op_acc': 0.9889261671381344, 'op_f1': {'update': 0.8623373309517735, 'carryover': 0.9944098102349799, 'dontcare': 0.8183306055646481}, 'final_slot_f1': 0.9318023397351943}\n",
      "\n",
      "\n"
     ]
    },
    {
     "name": "stderr",
     "output_type": "stream",
     "text": [
      "  0%|          | 1/1417 [00:02<56:46,  2.41s/it]"
     ]
    },
    {
     "name": "stdout",
     "output_type": "stream",
     "text": [
      "[23/100] [0/1417] mean_loss : 0.559, state_loss : 0.016, gen_loss : 0.543, dom_loss : 0.000\n"
     ]
    },
    {
     "name": "stderr",
     "output_type": "stream",
     "text": [
      "  7%|▋         | 101/1417 [02:14<27:33,  1.26s/it]"
     ]
    },
    {
     "name": "stdout",
     "output_type": "stream",
     "text": [
      "[23/100] [100/1417] mean_loss : 0.188, state_loss : 0.009, gen_loss : 0.029, dom_loss : 0.096\n"
     ]
    },
    {
     "name": "stderr",
     "output_type": "stream",
     "text": [
      " 14%|█▍        | 201/1417 [04:25<25:41,  1.27s/it]"
     ]
    },
    {
     "name": "stdout",
     "output_type": "stream",
     "text": [
      "[23/100] [200/1417] mean_loss : 0.181, state_loss : 0.005, gen_loss : 0.183, dom_loss : 0.000\n"
     ]
    },
    {
     "name": "stderr",
     "output_type": "stream",
     "text": [
      " 21%|██        | 301/1417 [06:37<23:37,  1.27s/it]"
     ]
    },
    {
     "name": "stdout",
     "output_type": "stream",
     "text": [
      "[23/100] [300/1417] mean_loss : 0.183, state_loss : 0.011, gen_loss : 0.297, dom_loss : 0.005\n"
     ]
    },
    {
     "name": "stderr",
     "output_type": "stream",
     "text": [
      " 28%|██▊       | 401/1417 [08:52<32:31,  1.92s/it]"
     ]
    },
    {
     "name": "stdout",
     "output_type": "stream",
     "text": [
      "[23/100] [400/1417] mean_loss : 0.207, state_loss : 0.023, gen_loss : 0.254, dom_loss : 0.112\n"
     ]
    },
    {
     "name": "stderr",
     "output_type": "stream",
     "text": [
      " 35%|███▌      | 501/1417 [11:05<20:27,  1.34s/it]"
     ]
    },
    {
     "name": "stdout",
     "output_type": "stream",
     "text": [
      "[23/100] [500/1417] mean_loss : 0.199, state_loss : 0.007, gen_loss : 0.070, dom_loss : 0.000\n"
     ]
    },
    {
     "name": "stderr",
     "output_type": "stream",
     "text": [
      " 42%|████▏     | 601/1417 [13:18<16:19,  1.20s/it]"
     ]
    },
    {
     "name": "stdout",
     "output_type": "stream",
     "text": [
      "[23/100] [600/1417] mean_loss : 0.193, state_loss : 0.007, gen_loss : 0.136, dom_loss : 0.001\n"
     ]
    },
    {
     "name": "stderr",
     "output_type": "stream",
     "text": [
      " 49%|████▉     | 701/1417 [15:29<14:57,  1.25s/it]"
     ]
    },
    {
     "name": "stdout",
     "output_type": "stream",
     "text": [
      "[23/100] [700/1417] mean_loss : 0.187, state_loss : 0.011, gen_loss : 0.054, dom_loss : 0.000\n"
     ]
    },
    {
     "name": "stderr",
     "output_type": "stream",
     "text": [
      " 57%|█████▋    | 801/1417 [17:41<13:09,  1.28s/it]"
     ]
    },
    {
     "name": "stdout",
     "output_type": "stream",
     "text": [
      "[23/100] [800/1417] mean_loss : 0.168, state_loss : 0.030, gen_loss : 0.117, dom_loss : 0.005\n"
     ]
    },
    {
     "name": "stderr",
     "output_type": "stream",
     "text": [
      " 64%|██████▎   | 901/1417 [19:53<11:19,  1.32s/it]"
     ]
    },
    {
     "name": "stdout",
     "output_type": "stream",
     "text": [
      "[23/100] [900/1417] mean_loss : 0.173, state_loss : 0.018, gen_loss : 0.202, dom_loss : 0.000\n"
     ]
    },
    {
     "name": "stderr",
     "output_type": "stream",
     "text": [
      " 71%|███████   | 1001/1417 [22:05<09:13,  1.33s/it]"
     ]
    },
    {
     "name": "stdout",
     "output_type": "stream",
     "text": [
      "[23/100] [1000/1417] mean_loss : 0.174, state_loss : 0.012, gen_loss : 0.231, dom_loss : 0.238\n"
     ]
    },
    {
     "name": "stderr",
     "output_type": "stream",
     "text": [
      " 78%|███████▊  | 1101/1417 [24:19<06:39,  1.26s/it]"
     ]
    },
    {
     "name": "stdout",
     "output_type": "stream",
     "text": [
      "[23/100] [1100/1417] mean_loss : 0.174, state_loss : 0.009, gen_loss : 0.228, dom_loss : 0.035\n"
     ]
    },
    {
     "name": "stderr",
     "output_type": "stream",
     "text": [
      " 85%|████████▍ | 1201/1417 [26:31<04:28,  1.25s/it]"
     ]
    },
    {
     "name": "stdout",
     "output_type": "stream",
     "text": [
      "[23/100] [1200/1417] mean_loss : 0.176, state_loss : 0.013, gen_loss : 0.341, dom_loss : 0.001\n"
     ]
    },
    {
     "name": "stderr",
     "output_type": "stream",
     "text": [
      " 92%|█████████▏| 1301/1417 [28:45<02:33,  1.32s/it]"
     ]
    },
    {
     "name": "stdout",
     "output_type": "stream",
     "text": [
      "[23/100] [1300/1417] mean_loss : 0.176, state_loss : 0.008, gen_loss : 0.158, dom_loss : 0.001\n"
     ]
    },
    {
     "name": "stderr",
     "output_type": "stream",
     "text": [
      " 99%|█████████▉| 1401/1417 [30:55<00:20,  1.28s/it]"
     ]
    },
    {
     "name": "stdout",
     "output_type": "stream",
     "text": [
      "[23/100] [1400/1417] mean_loss : 0.171, state_loss : 0.032, gen_loss : 0.259, dom_loss : 0.001\n"
     ]
    },
    {
     "name": "stderr",
     "output_type": "stream",
     "text": [
      "100%|██████████| 1417/1417 [31:18<00:00,  1.33s/it]\n",
      "100%|██████████| 5067/5067 [02:05<00:00, 40.26it/s]\n"
     ]
    },
    {
     "name": "stdout",
     "output_type": "stream",
     "text": [
      "------------------------------\n",
      "op_code: 3-1, is_gt_op: False, is_gt_p_state: False, is_gt_gen: False\n",
      "Epoch 23 joint accuracy :  0.6749555950266429\n",
      "Epoch 23 slot turn accuracy :  0.9893164923360377\n",
      "Epoch 23 slot turn F1:  0.9551243358960931\n",
      "Epoch 23 op accuracy :  0.9900664429971782\n",
      "Epoch 23 op F1 :  {'update': 0.8783592644978783, 'carryover': 0.9949635623093642, 'dontcare': 0.8249594813614263}\n",
      "Epoch 23 op hit count :  {'update': 6831, 'carryover': 217901, 'dontcare': 1018}\n",
      "Epoch 23 op all count :  {'update': 8415, 'carryover': 218237, 'dontcare': 1363}\n",
      "Final Joint Accuracy :  0.5364806866952789\n",
      "Final slot turn F1 :  0.9407314653377754\n",
      "Latency Per Prediction : 19.771366 ms\n",
      "-----------------------------\n",
      "\n",
      "관광 0.782329713721619 0.9946802676319039\n",
      "숙소 0.8054805094558085 0.9946910244864722\n",
      "식당 0.8175750834260289 0.9951386314011474\n",
      "지하철 0.6416184971098265 0.989595375722543\n"
     ]
    },
    {
     "name": "stderr",
     "output_type": "stream",
     "text": [
      "  0%|          | 0/1417 [00:00<?, ?it/s]"
     ]
    },
    {
     "name": "stdout",
     "output_type": "stream",
     "text": [
      "택시 0.5180851063829788 0.9860047281323826\n",
      "Best Score :  {'epoch': 23, 'joint_acc': 0.6749555950266429, 'slot_acc': 0.9893164923360377, 'slot_f1': 0.9551243358960931, 'op_acc': 0.9900664429971782, 'op_f1': {'update': 0.8783592644978783, 'carryover': 0.9949635623093642, 'dontcare': 0.8249594813614263}, 'final_slot_f1': 0.9407314653377754}\n",
      "\n",
      "\n"
     ]
    },
    {
     "name": "stderr",
     "output_type": "stream",
     "text": [
      "  0%|          | 1/1417 [00:02<48:58,  2.08s/it]"
     ]
    },
    {
     "name": "stdout",
     "output_type": "stream",
     "text": [
      "[24/100] [0/1417] mean_loss : 0.290, state_loss : 0.009, gen_loss : 0.280, dom_loss : 0.001\n"
     ]
    },
    {
     "name": "stderr",
     "output_type": "stream",
     "text": [
      "  7%|▋         | 101/1417 [02:11<26:30,  1.21s/it]"
     ]
    },
    {
     "name": "stdout",
     "output_type": "stream",
     "text": [
      "[24/100] [100/1417] mean_loss : 0.179, state_loss : 0.004, gen_loss : 0.036, dom_loss : 0.000\n"
     ]
    },
    {
     "name": "stderr",
     "output_type": "stream",
     "text": [
      " 14%|█▍        | 201/1417 [04:23<31:20,  1.55s/it]"
     ]
    },
    {
     "name": "stdout",
     "output_type": "stream",
     "text": [
      "[24/100] [200/1417] mean_loss : 0.179, state_loss : 0.011, gen_loss : 0.120, dom_loss : 0.001\n"
     ]
    },
    {
     "name": "stderr",
     "output_type": "stream",
     "text": [
      " 21%|██        | 301/1417 [06:33<24:40,  1.33s/it]"
     ]
    },
    {
     "name": "stdout",
     "output_type": "stream",
     "text": [
      "[24/100] [300/1417] mean_loss : 0.185, state_loss : 0.009, gen_loss : 0.137, dom_loss : 0.000\n"
     ]
    },
    {
     "name": "stderr",
     "output_type": "stream",
     "text": [
      " 28%|██▊       | 401/1417 [08:48<22:59,  1.36s/it]"
     ]
    },
    {
     "name": "stdout",
     "output_type": "stream",
     "text": [
      "[24/100] [400/1417] mean_loss : 0.163, state_loss : 0.019, gen_loss : 0.046, dom_loss : 0.008\n"
     ]
    },
    {
     "name": "stderr",
     "output_type": "stream",
     "text": [
      " 35%|███▌      | 501/1417 [11:02<20:13,  1.33s/it]"
     ]
    },
    {
     "name": "stdout",
     "output_type": "stream",
     "text": [
      "[24/100] [500/1417] mean_loss : 0.170, state_loss : 0.018, gen_loss : 0.069, dom_loss : 0.042\n"
     ]
    },
    {
     "name": "stderr",
     "output_type": "stream",
     "text": [
      " 42%|████▏     | 601/1417 [13:11<17:45,  1.31s/it]"
     ]
    },
    {
     "name": "stdout",
     "output_type": "stream",
     "text": [
      "[24/100] [600/1417] mean_loss : 0.159, state_loss : 0.009, gen_loss : 0.120, dom_loss : 0.001\n"
     ]
    },
    {
     "name": "stderr",
     "output_type": "stream",
     "text": [
      " 49%|████▉     | 701/1417 [15:24<16:12,  1.36s/it]"
     ]
    },
    {
     "name": "stdout",
     "output_type": "stream",
     "text": [
      "[24/100] [700/1417] mean_loss : 0.171, state_loss : 0.006, gen_loss : 0.204, dom_loss : 0.001\n"
     ]
    },
    {
     "name": "stderr",
     "output_type": "stream",
     "text": [
      " 57%|█████▋    | 801/1417 [17:34<12:20,  1.20s/it]"
     ]
    },
    {
     "name": "stdout",
     "output_type": "stream",
     "text": [
      "[24/100] [800/1417] mean_loss : 0.183, state_loss : 0.007, gen_loss : 0.180, dom_loss : 0.001\n"
     ]
    },
    {
     "name": "stderr",
     "output_type": "stream",
     "text": [
      " 64%|██████▎   | 901/1417 [19:49<11:25,  1.33s/it]"
     ]
    },
    {
     "name": "stdout",
     "output_type": "stream",
     "text": [
      "[24/100] [900/1417] mean_loss : 0.190, state_loss : 0.015, gen_loss : 0.271, dom_loss : 0.002\n"
     ]
    },
    {
     "name": "stderr",
     "output_type": "stream",
     "text": [
      " 71%|███████   | 1001/1417 [22:02<10:50,  1.56s/it]"
     ]
    },
    {
     "name": "stdout",
     "output_type": "stream",
     "text": [
      "[24/100] [1000/1417] mean_loss : 0.167, state_loss : 0.008, gen_loss : 0.140, dom_loss : 0.000\n"
     ]
    },
    {
     "name": "stderr",
     "output_type": "stream",
     "text": [
      " 78%|███████▊  | 1101/1417 [24:14<06:58,  1.33s/it]"
     ]
    },
    {
     "name": "stdout",
     "output_type": "stream",
     "text": [
      "[24/100] [1100/1417] mean_loss : 0.178, state_loss : 0.014, gen_loss : 0.235, dom_loss : 0.013\n"
     ]
    },
    {
     "name": "stderr",
     "output_type": "stream",
     "text": [
      " 85%|████████▍ | 1201/1417 [26:27<04:45,  1.32s/it]"
     ]
    },
    {
     "name": "stdout",
     "output_type": "stream",
     "text": [
      "[24/100] [1200/1417] mean_loss : 0.171, state_loss : 0.017, gen_loss : 0.134, dom_loss : 0.002\n"
     ]
    },
    {
     "name": "stderr",
     "output_type": "stream",
     "text": [
      " 92%|█████████▏| 1301/1417 [28:35<02:33,  1.32s/it]"
     ]
    },
    {
     "name": "stdout",
     "output_type": "stream",
     "text": [
      "[24/100] [1300/1417] mean_loss : 0.162, state_loss : 0.005, gen_loss : 0.083, dom_loss : 0.003\n"
     ]
    },
    {
     "name": "stderr",
     "output_type": "stream",
     "text": [
      " 99%|█████████▉| 1401/1417 [30:46<00:20,  1.26s/it]"
     ]
    },
    {
     "name": "stdout",
     "output_type": "stream",
     "text": [
      "[24/100] [1400/1417] mean_loss : 0.190, state_loss : 0.019, gen_loss : 0.170, dom_loss : 0.033\n"
     ]
    },
    {
     "name": "stderr",
     "output_type": "stream",
     "text": [
      "100%|██████████| 1417/1417 [31:07<00:00,  1.32s/it]\n",
      "100%|██████████| 5067/5067 [02:05<00:00, 40.41it/s]\n"
     ]
    },
    {
     "name": "stdout",
     "output_type": "stream",
     "text": [
      "------------------------------\n",
      "op_code: 3-1, is_gt_op: False, is_gt_p_state: False, is_gt_gen: False\n",
      "Epoch 24 joint accuracy :  0.6283797118610618\n",
      "Epoch 24 slot turn accuracy :  0.9872113676731868\n",
      "Epoch 24 slot turn F1:  0.9451696207072224\n",
      "Epoch 24 op accuracy :  0.9878911475122325\n",
      "Epoch 24 op F1 :  {'update': 0.8545615365175638, 'carryover': 0.9938732712893543, 'dontcare': 0.7802287581699346}\n",
      "Epoch 24 op hit count :  {'update': 6763, 'carryover': 217536, 'dontcare': 955}\n",
      "Epoch 24 op all count :  {'update': 8676, 'carryover': 218001, 'dontcare': 1338}\n",
      "Final Joint Accuracy :  0.474964234620887\n",
      "Final slot turn F1 :  0.9296392347980571\n",
      "Latency Per Prediction : 19.671017 ms\n",
      "-----------------------------\n",
      "\n",
      "관광 0.769990128331688 0.9942195897773474\n",
      "숙소 0.8000771902740255 0.994416570178825\n",
      "식당 0.778642936596218 0.9938862110163574\n",
      "지하철 0.5664739884393064 0.9877970456005135\n"
     ]
    },
    {
     "name": "stderr",
     "output_type": "stream",
     "text": [
      "  0%|          | 0/1417 [00:00<?, ?it/s]"
     ]
    },
    {
     "name": "stdout",
     "output_type": "stream",
     "text": [
      "택시 0.3840425531914894 0.9821276595744608\n",
      "Best Score :  {'epoch': 23, 'joint_acc': 0.6749555950266429, 'slot_acc': 0.9893164923360377, 'slot_f1': 0.9551243358960931, 'op_acc': 0.9900664429971782, 'op_f1': {'update': 0.8783592644978783, 'carryover': 0.9949635623093642, 'dontcare': 0.8249594813614263}, 'final_slot_f1': 0.9407314653377754}\n",
      "\n",
      "\n"
     ]
    },
    {
     "name": "stderr",
     "output_type": "stream",
     "text": [
      "  0%|          | 1/1417 [00:02<50:12,  2.13s/it]"
     ]
    },
    {
     "name": "stdout",
     "output_type": "stream",
     "text": [
      "[25/100] [0/1417] mean_loss : 0.074, state_loss : 0.006, gen_loss : 0.066, dom_loss : 0.003\n"
     ]
    },
    {
     "name": "stderr",
     "output_type": "stream",
     "text": [
      "  7%|▋         | 101/1417 [02:13<26:49,  1.22s/it]"
     ]
    },
    {
     "name": "stdout",
     "output_type": "stream",
     "text": [
      "[25/100] [100/1417] mean_loss : 0.169, state_loss : 0.008, gen_loss : 0.190, dom_loss : 0.003\n"
     ]
    },
    {
     "name": "stderr",
     "output_type": "stream",
     "text": [
      " 14%|█▍        | 201/1417 [04:23<26:54,  1.33s/it]"
     ]
    },
    {
     "name": "stdout",
     "output_type": "stream",
     "text": [
      "[25/100] [200/1417] mean_loss : 0.159, state_loss : 0.005, gen_loss : 0.198, dom_loss : 0.000\n"
     ]
    },
    {
     "name": "stderr",
     "output_type": "stream",
     "text": [
      " 21%|██        | 301/1417 [06:35<23:43,  1.28s/it]"
     ]
    },
    {
     "name": "stdout",
     "output_type": "stream",
     "text": [
      "[25/100] [300/1417] mean_loss : 0.151, state_loss : 0.017, gen_loss : 0.156, dom_loss : 0.001\n"
     ]
    },
    {
     "name": "stderr",
     "output_type": "stream",
     "text": [
      " 28%|██▊       | 401/1417 [08:47<21:09,  1.25s/it]"
     ]
    },
    {
     "name": "stdout",
     "output_type": "stream",
     "text": [
      "[25/100] [400/1417] mean_loss : 0.163, state_loss : 0.006, gen_loss : 0.147, dom_loss : 0.014\n"
     ]
    },
    {
     "name": "stderr",
     "output_type": "stream",
     "text": [
      " 35%|███▌      | 501/1417 [10:58<19:13,  1.26s/it]"
     ]
    },
    {
     "name": "stdout",
     "output_type": "stream",
     "text": [
      "[25/100] [500/1417] mean_loss : 0.159, state_loss : 0.009, gen_loss : 0.109, dom_loss : 0.000\n"
     ]
    },
    {
     "name": "stderr",
     "output_type": "stream",
     "text": [
      " 42%|████▏     | 601/1417 [13:10<16:46,  1.23s/it]"
     ]
    },
    {
     "name": "stdout",
     "output_type": "stream",
     "text": [
      "[25/100] [600/1417] mean_loss : 0.171, state_loss : 0.004, gen_loss : 0.152, dom_loss : 0.005\n"
     ]
    },
    {
     "name": "stderr",
     "output_type": "stream",
     "text": [
      " 49%|████▉     | 701/1417 [15:18<16:19,  1.37s/it]"
     ]
    },
    {
     "name": "stdout",
     "output_type": "stream",
     "text": [
      "[25/100] [700/1417] mean_loss : 0.156, state_loss : 0.004, gen_loss : 0.190, dom_loss : 0.000\n"
     ]
    },
    {
     "name": "stderr",
     "output_type": "stream",
     "text": [
      " 57%|█████▋    | 801/1417 [17:33<15:15,  1.49s/it]"
     ]
    },
    {
     "name": "stdout",
     "output_type": "stream",
     "text": [
      "[25/100] [800/1417] mean_loss : 0.161, state_loss : 0.011, gen_loss : 0.108, dom_loss : 0.018\n"
     ]
    },
    {
     "name": "stderr",
     "output_type": "stream",
     "text": [
      " 64%|██████▎   | 901/1417 [19:45<12:12,  1.42s/it]"
     ]
    },
    {
     "name": "stdout",
     "output_type": "stream",
     "text": [
      "[25/100] [900/1417] mean_loss : 0.154, state_loss : 0.027, gen_loss : 0.232, dom_loss : 0.000\n"
     ]
    },
    {
     "name": "stderr",
     "output_type": "stream",
     "text": [
      " 71%|███████   | 1001/1417 [21:57<09:05,  1.31s/it]"
     ]
    },
    {
     "name": "stdout",
     "output_type": "stream",
     "text": [
      "[25/100] [1000/1417] mean_loss : 0.175, state_loss : 0.027, gen_loss : 0.306, dom_loss : 0.001\n"
     ]
    },
    {
     "name": "stderr",
     "output_type": "stream",
     "text": [
      " 78%|███████▊  | 1101/1417 [24:11<06:36,  1.25s/it]"
     ]
    },
    {
     "name": "stdout",
     "output_type": "stream",
     "text": [
      "[25/100] [1100/1417] mean_loss : 0.156, state_loss : 0.016, gen_loss : 0.152, dom_loss : 0.001\n"
     ]
    },
    {
     "name": "stderr",
     "output_type": "stream",
     "text": [
      " 85%|████████▍ | 1201/1417 [26:23<04:52,  1.35s/it]"
     ]
    },
    {
     "name": "stdout",
     "output_type": "stream",
     "text": [
      "[25/100] [1200/1417] mean_loss : 0.159, state_loss : 0.002, gen_loss : 0.156, dom_loss : 0.002\n"
     ]
    },
    {
     "name": "stderr",
     "output_type": "stream",
     "text": [
      " 92%|█████████▏| 1301/1417 [28:37<02:25,  1.25s/it]"
     ]
    },
    {
     "name": "stdout",
     "output_type": "stream",
     "text": [
      "[25/100] [1300/1417] mean_loss : 0.165, state_loss : 0.012, gen_loss : 0.344, dom_loss : 0.131\n"
     ]
    },
    {
     "name": "stderr",
     "output_type": "stream",
     "text": [
      " 99%|█████████▉| 1401/1417 [30:51<00:22,  1.38s/it]"
     ]
    },
    {
     "name": "stdout",
     "output_type": "stream",
     "text": [
      "[25/100] [1400/1417] mean_loss : 0.156, state_loss : 0.009, gen_loss : 0.059, dom_loss : 0.001\n"
     ]
    },
    {
     "name": "stderr",
     "output_type": "stream",
     "text": [
      "100%|██████████| 1417/1417 [31:12<00:00,  1.32s/it]\n",
      "100%|██████████| 5067/5067 [02:04<00:00, 40.64it/s]\n"
     ]
    },
    {
     "name": "stdout",
     "output_type": "stream",
     "text": [
      "------------------------------\n",
      "op_code: 3-1, is_gt_op: False, is_gt_p_state: False, is_gt_gen: False\n",
      "Epoch 25 joint accuracy :  0.6550226958752714\n",
      "Epoch 25 slot turn accuracy :  0.9880139464509003\n",
      "Epoch 25 slot turn F1:  0.9497518302529716\n",
      "Epoch 25 op accuracy :  0.9888340679341354\n",
      "Epoch 25 op F1 :  {'update': 0.8604990793066226, 'carryover': 0.9943447595380792, 'dontcare': 0.8294668294668294}\n",
      "Epoch 25 op hit count :  {'update': 6776, 'carryover': 217674, 'dontcare': 1019}\n",
      "Epoch 25 op all count :  {'update': 8676, 'carryover': 218009, 'dontcare': 1330}\n",
      "Final Joint Accuracy :  0.5150214592274678\n",
      "Final slot turn F1 :  0.935188907975774\n",
      "Latency Per Prediction : 19.537003 ms\n",
      "-----------------------------\n",
      "\n",
      "관광 0.7384007897334649 0.9933750137106587\n",
      "숙소 0.81551524507912 0.9946652943951295\n",
      "식당 0.7968112717834631 0.9946854529724385\n",
      "지하철 0.5953757225433526 0.9890815671162492\n"
     ]
    },
    {
     "name": "stderr",
     "output_type": "stream",
     "text": [
      "  0%|          | 0/1417 [00:00<?, ?it/s]"
     ]
    },
    {
     "name": "stdout",
     "output_type": "stream",
     "text": [
      "택시 0.4734042553191489 0.9839007092198526\n",
      "Best Score :  {'epoch': 23, 'joint_acc': 0.6749555950266429, 'slot_acc': 0.9893164923360377, 'slot_f1': 0.9551243358960931, 'op_acc': 0.9900664429971782, 'op_f1': {'update': 0.8783592644978783, 'carryover': 0.9949635623093642, 'dontcare': 0.8249594813614263}, 'final_slot_f1': 0.9407314653377754}\n",
      "\n",
      "\n"
     ]
    },
    {
     "name": "stderr",
     "output_type": "stream",
     "text": [
      "  0%|          | 1/1417 [00:02<57:01,  2.42s/it]"
     ]
    },
    {
     "name": "stdout",
     "output_type": "stream",
     "text": [
      "[26/100] [0/1417] mean_loss : 0.103, state_loss : 0.019, gen_loss : 0.077, dom_loss : 0.007\n"
     ]
    },
    {
     "name": "stderr",
     "output_type": "stream",
     "text": [
      "  7%|▋         | 101/1417 [02:19<32:58,  1.50s/it]"
     ]
    },
    {
     "name": "stdout",
     "output_type": "stream",
     "text": [
      "[26/100] [100/1417] mean_loss : 0.159, state_loss : 0.006, gen_loss : 0.060, dom_loss : 0.000\n"
     ]
    },
    {
     "name": "stderr",
     "output_type": "stream",
     "text": [
      " 14%|█▍        | 201/1417 [04:32<26:14,  1.29s/it]"
     ]
    },
    {
     "name": "stdout",
     "output_type": "stream",
     "text": [
      "[26/100] [200/1417] mean_loss : 0.168, state_loss : 0.008, gen_loss : 0.145, dom_loss : 0.003\n"
     ]
    },
    {
     "name": "stderr",
     "output_type": "stream",
     "text": [
      " 21%|██        | 301/1417 [06:45<22:52,  1.23s/it]"
     ]
    },
    {
     "name": "stdout",
     "output_type": "stream",
     "text": [
      "[26/100] [300/1417] mean_loss : 0.156, state_loss : 0.028, gen_loss : 0.137, dom_loss : 0.000\n"
     ]
    },
    {
     "name": "stderr",
     "output_type": "stream",
     "text": [
      " 28%|██▊       | 401/1417 [08:57<20:48,  1.23s/it]"
     ]
    },
    {
     "name": "stdout",
     "output_type": "stream",
     "text": [
      "[26/100] [400/1417] mean_loss : 0.148, state_loss : 0.020, gen_loss : 0.074, dom_loss : 0.001\n"
     ]
    },
    {
     "name": "stderr",
     "output_type": "stream",
     "text": [
      " 35%|███▌      | 501/1417 [11:12<20:01,  1.31s/it]"
     ]
    },
    {
     "name": "stdout",
     "output_type": "stream",
     "text": [
      "[26/100] [500/1417] mean_loss : 0.158, state_loss : 0.007, gen_loss : 0.120, dom_loss : 0.008\n"
     ]
    },
    {
     "name": "stderr",
     "output_type": "stream",
     "text": [
      " 42%|████▏     | 601/1417 [13:25<18:31,  1.36s/it]"
     ]
    },
    {
     "name": "stdout",
     "output_type": "stream",
     "text": [
      "[26/100] [600/1417] mean_loss : 0.154, state_loss : 0.008, gen_loss : 0.231, dom_loss : 0.002\n"
     ]
    },
    {
     "name": "stderr",
     "output_type": "stream",
     "text": [
      " 49%|████▉     | 701/1417 [15:39<16:01,  1.34s/it]"
     ]
    },
    {
     "name": "stdout",
     "output_type": "stream",
     "text": [
      "[26/100] [700/1417] mean_loss : 0.163, state_loss : 0.013, gen_loss : 0.133, dom_loss : 0.002\n"
     ]
    },
    {
     "name": "stderr",
     "output_type": "stream",
     "text": [
      " 57%|█████▋    | 801/1417 [17:49<13:03,  1.27s/it]"
     ]
    },
    {
     "name": "stdout",
     "output_type": "stream",
     "text": [
      "[26/100] [800/1417] mean_loss : 0.159, state_loss : 0.009, gen_loss : 0.147, dom_loss : 0.000\n"
     ]
    },
    {
     "name": "stderr",
     "output_type": "stream",
     "text": [
      " 64%|██████▎   | 901/1417 [19:59<11:20,  1.32s/it]"
     ]
    },
    {
     "name": "stdout",
     "output_type": "stream",
     "text": [
      "[26/100] [900/1417] mean_loss : 0.148, state_loss : 0.008, gen_loss : 0.264, dom_loss : 0.000\n"
     ]
    },
    {
     "name": "stderr",
     "output_type": "stream",
     "text": [
      " 71%|███████   | 1001/1417 [22:09<08:51,  1.28s/it]"
     ]
    },
    {
     "name": "stdout",
     "output_type": "stream",
     "text": [
      "[26/100] [1000/1417] mean_loss : 0.156, state_loss : 0.008, gen_loss : 0.188, dom_loss : 0.003\n"
     ]
    },
    {
     "name": "stderr",
     "output_type": "stream",
     "text": [
      " 78%|███████▊  | 1101/1417 [24:16<07:04,  1.34s/it]"
     ]
    },
    {
     "name": "stdout",
     "output_type": "stream",
     "text": [
      "[26/100] [1100/1417] mean_loss : 0.147, state_loss : 0.019, gen_loss : 0.037, dom_loss : 0.000\n"
     ]
    },
    {
     "name": "stderr",
     "output_type": "stream",
     "text": [
      " 85%|████████▍ | 1201/1417 [26:25<04:56,  1.37s/it]"
     ]
    },
    {
     "name": "stdout",
     "output_type": "stream",
     "text": [
      "[26/100] [1200/1417] mean_loss : 0.143, state_loss : 0.025, gen_loss : 0.170, dom_loss : 0.277\n"
     ]
    },
    {
     "name": "stderr",
     "output_type": "stream",
     "text": [
      " 92%|█████████▏| 1301/1417 [28:36<02:35,  1.34s/it]"
     ]
    },
    {
     "name": "stdout",
     "output_type": "stream",
     "text": [
      "[26/100] [1300/1417] mean_loss : 0.151, state_loss : 0.010, gen_loss : 0.134, dom_loss : 0.006\n"
     ]
    },
    {
     "name": "stderr",
     "output_type": "stream",
     "text": [
      " 99%|█████████▉| 1401/1417 [30:48<00:20,  1.25s/it]"
     ]
    },
    {
     "name": "stdout",
     "output_type": "stream",
     "text": [
      "[26/100] [1400/1417] mean_loss : 0.137, state_loss : 0.008, gen_loss : 0.221, dom_loss : 0.004\n"
     ]
    },
    {
     "name": "stderr",
     "output_type": "stream",
     "text": [
      "100%|██████████| 1417/1417 [31:08<00:00,  1.32s/it]\n",
      "100%|██████████| 5067/5067 [02:09<00:00, 39.11it/s]\n"
     ]
    },
    {
     "name": "stdout",
     "output_type": "stream",
     "text": [
      "------------------------------\n",
      "op_code: 3-1, is_gt_op: False, is_gt_p_state: False, is_gt_gen: False\n",
      "Epoch 26 joint accuracy :  0.69449378330373\n",
      "Epoch 26 slot turn accuracy :  0.9901059140846064\n",
      "Epoch 26 slot turn F1:  0.9586939849196741\n",
      "Epoch 26 op accuracy :  0.9907242944543189\n",
      "Epoch 26 op F1 :  {'update': 0.8852586542201478, 'carryover': 0.9953146787713641, 'dontcare': 0.8323032550473837}\n",
      "Epoch 26 op hit count :  {'update': 6828, 'carryover': 218062, 'dontcare': 1010}\n",
      "Epoch 26 op all count :  {'update': 8285, 'carryover': 218412, 'dontcare': 1318}\n",
      "Final Joint Accuracy :  0.5593705293276109\n",
      "Final slot turn F1 :  0.9462060183371259\n",
      "Latency Per Prediction : 20.483247 ms\n",
      "-----------------------------\n",
      "\n",
      "관광 0.7778874629812438 0.994680267631905\n",
      "숙소 0.8328830567348514 0.995248509798878\n",
      "식당 0.8457545420837969 0.996020269435177\n",
      "지하철 0.6127167630057804 0.9889531149646754\n"
     ]
    },
    {
     "name": "stderr",
     "output_type": "stream",
     "text": [
      "  0%|          | 0/1417 [00:00<?, ?it/s]"
     ]
    },
    {
     "name": "stdout",
     "output_type": "stream",
     "text": [
      "택시 0.502127659574468 0.9860992907801366\n",
      "Best Score :  {'epoch': 26, 'joint_acc': 0.69449378330373, 'slot_acc': 0.9901059140846064, 'slot_f1': 0.9586939849196741, 'op_acc': 0.9907242944543189, 'op_f1': {'update': 0.8852586542201478, 'carryover': 0.9953146787713641, 'dontcare': 0.8323032550473837}, 'final_slot_f1': 0.9462060183371259}\n",
      "\n",
      "\n"
     ]
    },
    {
     "name": "stderr",
     "output_type": "stream",
     "text": [
      "  0%|          | 1/1417 [00:02<58:08,  2.46s/it]"
     ]
    },
    {
     "name": "stdout",
     "output_type": "stream",
     "text": [
      "[27/100] [0/1417] mean_loss : 0.399, state_loss : 0.010, gen_loss : 0.390, dom_loss : 0.000\n"
     ]
    },
    {
     "name": "stderr",
     "output_type": "stream",
     "text": [
      "  7%|▋         | 101/1417 [02:13<27:43,  1.26s/it]"
     ]
    },
    {
     "name": "stdout",
     "output_type": "stream",
     "text": [
      "[27/100] [100/1417] mean_loss : 0.148, state_loss : 0.009, gen_loss : 0.119, dom_loss : 0.019\n"
     ]
    },
    {
     "name": "stderr",
     "output_type": "stream",
     "text": [
      " 14%|█▍        | 201/1417 [04:29<28:15,  1.39s/it]"
     ]
    },
    {
     "name": "stdout",
     "output_type": "stream",
     "text": [
      "[27/100] [200/1417] mean_loss : 0.142, state_loss : 0.016, gen_loss : 0.041, dom_loss : 0.007\n"
     ]
    },
    {
     "name": "stderr",
     "output_type": "stream",
     "text": [
      " 21%|██        | 301/1417 [06:37<22:05,  1.19s/it]"
     ]
    },
    {
     "name": "stdout",
     "output_type": "stream",
     "text": [
      "[27/100] [300/1417] mean_loss : 0.136, state_loss : 0.010, gen_loss : 0.106, dom_loss : 0.001\n"
     ]
    },
    {
     "name": "stderr",
     "output_type": "stream",
     "text": [
      " 28%|██▊       | 401/1417 [08:50<20:55,  1.24s/it]"
     ]
    },
    {
     "name": "stdout",
     "output_type": "stream",
     "text": [
      "[27/100] [400/1417] mean_loss : 0.151, state_loss : 0.006, gen_loss : 0.232, dom_loss : 0.052\n"
     ]
    },
    {
     "name": "stderr",
     "output_type": "stream",
     "text": [
      " 35%|███▌      | 501/1417 [11:02<21:01,  1.38s/it]"
     ]
    },
    {
     "name": "stdout",
     "output_type": "stream",
     "text": [
      "[27/100] [500/1417] mean_loss : 0.132, state_loss : 0.006, gen_loss : 0.023, dom_loss : 0.000\n"
     ]
    },
    {
     "name": "stderr",
     "output_type": "stream",
     "text": [
      " 42%|████▏     | 601/1417 [13:15<17:03,  1.25s/it]"
     ]
    },
    {
     "name": "stdout",
     "output_type": "stream",
     "text": [
      "[27/100] [600/1417] mean_loss : 0.140, state_loss : 0.013, gen_loss : 0.077, dom_loss : 0.031\n"
     ]
    },
    {
     "name": "stderr",
     "output_type": "stream",
     "text": [
      " 49%|████▉     | 701/1417 [15:25<15:33,  1.30s/it]"
     ]
    },
    {
     "name": "stdout",
     "output_type": "stream",
     "text": [
      "[27/100] [700/1417] mean_loss : 0.125, state_loss : 0.006, gen_loss : 0.075, dom_loss : 0.019\n"
     ]
    },
    {
     "name": "stderr",
     "output_type": "stream",
     "text": [
      " 57%|█████▋    | 801/1417 [17:38<13:25,  1.31s/it]"
     ]
    },
    {
     "name": "stdout",
     "output_type": "stream",
     "text": [
      "[27/100] [800/1417] mean_loss : 0.150, state_loss : 0.006, gen_loss : 0.145, dom_loss : 0.102\n"
     ]
    },
    {
     "name": "stderr",
     "output_type": "stream",
     "text": [
      " 60%|██████    | 855/1417 [18:47<11:53,  1.27s/it]"
     ]
    }
   ],
   "source": [
    "######## TRAINING ########\n",
    "print(\"Let's Do the Training!\")\n",
    "\n",
    "loss_fnc = nn.CrossEntropyLoss()\n",
    "best_score = {'epoch': 0, 'joint_acc': 0, 'op_acc': 0, 'final_slot_f1': 0}\n",
    "output_dir = increment_output_dir(wandb.run.name)\n",
    "if not os.path.exists(f\"checkpoint/{output_dir}\"):\n",
    "    os.makedirs(f\"checkpoint/{output_dir}\")  \n",
    "\n",
    "for epoch in range(args.n_epochs):\n",
    "    batch_loss = []\n",
    "    model.train()\n",
    "    for step, batch in enumerate(tqdm(train_dataloader)):\n",
    "        batch = [b.to(device) if not isinstance(b, int) else b for b in batch]\n",
    "        input_ids, input_mask, segment_ids, state_position_ids, op_ids,\\\n",
    "        domain_ids, gen_ids, max_value, max_update = batch\n",
    "\n",
    "        if rng.random() < args.decoder_teacher_forcing:  # teacher forcing\n",
    "            teacher = gen_ids\n",
    "        else:\n",
    "            teacher = None\n",
    "#         with amp.autocast():\n",
    "        domain_scores, state_scores, gen_scores = model(input_ids=input_ids,\n",
    "                                                        token_type_ids=segment_ids,\n",
    "                                                        state_positions=state_position_ids,\n",
    "                                                        attention_mask=input_mask,\n",
    "                                                        max_value=max_value,\n",
    "                                                        op_ids=op_ids,\n",
    "                                                        max_update=max_update,\n",
    "                                                        teacher=teacher)\n",
    "\n",
    "        loss_s = loss_fnc(state_scores.view(-1, len(op2id)), op_ids.view(-1))\n",
    "        loss_g = masked_cross_entropy_for_value(gen_scores.contiguous(),\n",
    "                                                gen_ids.contiguous(),\n",
    "                                                tokenizer.vocab['[PAD]'])\n",
    "        loss = loss_s + loss_g\n",
    "        if args.exclude_domain is not True:\n",
    "            loss_d = loss_fnc(domain_scores.view(-1, len(domain2id)), domain_ids.view(-1))\n",
    "            loss = loss + loss_d\n",
    "        batch_loss.append(loss.item())  # loss_s + loss_g\n",
    "\n",
    "        loss.backward()\n",
    "        enc_optimizer.step()\n",
    "        enc_scheduler.step()\n",
    "        dec_optimizer.step()\n",
    "        dec_scheduler.step()\n",
    "        model.zero_grad()\n",
    "\n",
    "        if step % 100 == 0:\n",
    "            if args.exclude_domain is not True:\n",
    "                print(\"[%d/%d] [%d/%d] mean_loss : %.3f, state_loss : %.3f, gen_loss : %.3f, dom_loss : %.3f\" \\\n",
    "                      % (epoch+1, args.n_epochs, step,\n",
    "                         len(train_dataloader), np.mean(batch_loss),\n",
    "                         loss_s.item(), loss_g.item(), loss_d.item()))\n",
    "                wandb.log({\n",
    "                    \"train/mean_loss\": np.mean(batch_loss),\n",
    "                    \"train/state_loss\": loss_s.item(),\n",
    "                    \"train/gen_loss\": loss_g.item(),\n",
    "                    \"train/dom_loss\": loss_d.item(),\n",
    "                    \"train/epoch\": epoch+1,\n",
    "                    \"train/enc_learning rate\": get_lr(enc_scheduler),\n",
    "                    \"train/dec_learning rate\": get_lr(dec_scheduler)\n",
    "                })\n",
    "            else:\n",
    "                print(\"[%d/%d] [%d/%d] mean_loss : %.3f, state_loss : %.3f, gen_loss : %.3f\" \\\n",
    "                      % (epoch+1, args.n_epochs, step,\n",
    "                         len(train_dataloader), np.mean(batch_loss),\n",
    "                         loss_s.item(), loss_g.item()))\n",
    "                wandb.log({\n",
    "                    \"train/mean_loss\": np.mean(batch_loss),\n",
    "                    \"train/state_loss\": loss_s.item(),\n",
    "                    \"train/gen_loss\": loss_g.item(),\n",
    "                    \"train/epoch\": epoch+1,\n",
    "                    \"train/enc_learning rate\": get_lr(enc_scheduler),\n",
    "                    \"train/dec_learning rate\": get_lr(dec_scheduler)\n",
    "                })\n",
    "            batch_loss = []\n",
    "\n",
    "    if (epoch+1) % args.eval_epoch == 0:\n",
    "        eval_res = model_evaluation(model, dev_data_raw, tokenizer, slot_meta, epoch+1, args.op_code)\n",
    "        wandb.log({\n",
    "            'eval/epoch': epoch+1,\n",
    "            'eval/joint_acc': eval_res['joint_acc'],\n",
    "            'eval/slot_acc':eval_res['slot_acc'],\n",
    "            'eval/slot_f1': eval_res['slot_f1'],\n",
    "            'eval/op_acc': eval_res['op_acc'],\n",
    "            'eval/op_f1': eval_res['op_f1'],\n",
    "            'eval/final_slot_f1':eval_res['final_slot_f1'],\n",
    "        })\n",
    "        if eval_res['joint_acc'] > best_score['joint_acc']:\n",
    "            best_score = eval_res\n",
    "            model_to_save = model.module if hasattr(model, 'module') else model\n",
    "            output_path = f\"checkpoint/{output_dir}/model_best.bin\"\n",
    "#             save_path = os.path.join(args.save_dir, 'model_best.bin')\n",
    "#             torch.save(model_to_save.state_dict(), save_path)\n",
    "            torch.save({\n",
    "                    'epoch': epoch,\n",
    "                    'model_state_dict': model.state_dict(),\n",
    "                    'enc_optimizer_state_dict': enc_optimizer.state_dict(),\n",
    "                    'dec_optimizer_state_dict': dec_optimizer.state_dict(),\n",
    "                    'loss': loss,\n",
    "                    }, output_path)        \n",
    "        print(\"Best Score : \", best_score)\n",
    "        print(\"\\n\")\n",
    "\n",
    "torch.save({\n",
    "            'epoch': epoch,\n",
    "            'model_state_dict': model.state_dict(),\n",
    "            'enc_optimizer_state_dict': enc_optimizer.state_dict(),\n",
    "            'dec_optimizer_state_dict': dec_optimizer.state_dict(),\n",
    "            'loss': loss,\n",
    "            }, f\"checkpoint/{output_dir}/model_last.bin\")  "
   ]
  },
  {
   "cell_type": "code",
   "execution_count": 16,
   "id": "aae7f3d0-49e1-4c6e-b4cb-ec876fd9f5a1",
   "metadata": {},
   "outputs": [
    {
     "name": "stdout",
     "output_type": "stream",
     "text": [
      "Test using best model...\n"
     ]
    },
    {
     "name": "stderr",
     "output_type": "stream",
     "text": [
      "Special tokens have been added in the vocabulary, make sure the associated word embedding are fine-tuned or trained.\n",
      "100%|██████████| 14771/14771 [09:18<00:00, 26.43it/s]\n"
     ]
    },
    {
     "name": "stdout",
     "output_type": "stream",
     "text": [
      "------------------------------\n",
      "op_code: 3-1, is_gt_op: False, is_gt_p_state: False, is_gt_gen: False\n",
      "Epoch 999 joint accuracy :  0.013675445128968925\n",
      "Epoch 999 slot turn accuracy :  0.8021934872385144\n",
      "Epoch 999 slot turn F1:  0.013675445128968925\n",
      "Epoch 999 op accuracy :  0.8032661596672228\n",
      "Epoch 999 op F1 :  {'update': 0.011294256552066988, 'carryover': 0.8908142714059814, 'dontcare': 0}\n",
      "Epoch 999 op hit count :  {'update': 727, 'carryover': 533200, 'dontcare': 0}\n",
      "Epoch 999 op all count :  {'update': 106882, 'carryover': 557813, 'dontcare': 0}\n",
      "Final Joint Accuracy :  0.0\n",
      "Final slot turn F1 :  0.0\n",
      "Latency Per Prediction : 30.681906 ms\n",
      "-----------------------------\n",
      "\n"
     ]
    },
    {
     "ename": "ZeroDivisionError",
     "evalue": "division by zero",
     "output_type": "error",
     "traceback": [
      "\u001b[0;31m---------------------------------------------------------------------------\u001b[0m",
      "\u001b[0;31mZeroDivisionError\u001b[0m                         Traceback (most recent call last)",
      "\u001b[0;32m<ipython-input-16-e4fdab56e966>\u001b[0m in \u001b[0;36m<module>\u001b[0;34m\u001b[0m\n\u001b[1;32m     29\u001b[0m \u001b[0;34m\u001b[0m\u001b[0m\n\u001b[1;32m     30\u001b[0m model_evaluation(model, test_data_raw, tokenizer, slot_meta, 999, args.op_code,\n\u001b[0;32m---> 31\u001b[0;31m                  is_gt_op=False, is_gt_p_state=False, is_gt_gen=False)\n\u001b[0m\u001b[1;32m     32\u001b[0m \u001b[0;31m# model_evaluation(model, test_data_raw, tokenizer, slot_meta, best_epoch, args.op_code,\u001b[0m\u001b[0;34m\u001b[0m\u001b[0;34m\u001b[0m\u001b[0;34m\u001b[0m\u001b[0m\n\u001b[1;32m     33\u001b[0m \u001b[0;31m#                  is_gt_op=False, is_gt_p_state=False, is_gt_gen=True)\u001b[0m\u001b[0;34m\u001b[0m\u001b[0;34m\u001b[0m\u001b[0;34m\u001b[0m\u001b[0m\n",
      "\u001b[0;32m~/repo/taepd/som-dst_edit/evaluation.py\u001b[0m in \u001b[0;36mmodel_evaluation\u001b[0;34m(model, test_data, tokenizer, slot_meta, epoch, op_code, is_gt_op, is_gt_p_state, is_gt_gen)\u001b[0m\n\u001b[1;32m    228\u001b[0m     \u001b[0mprint\u001b[0m\u001b[0;34m(\u001b[0m\u001b[0;34m\"-----------------------------\\n\"\u001b[0m\u001b[0;34m)\u001b[0m\u001b[0;34m\u001b[0m\u001b[0;34m\u001b[0m\u001b[0m\n\u001b[1;32m    229\u001b[0m     \u001b[0mjson\u001b[0m\u001b[0;34m.\u001b[0m\u001b[0mdump\u001b[0m\u001b[0;34m(\u001b[0m\u001b[0mresults\u001b[0m\u001b[0;34m,\u001b[0m \u001b[0mopen\u001b[0m\u001b[0;34m(\u001b[0m\u001b[0;34m'preds_%s.json'\u001b[0m \u001b[0;34m%\u001b[0m \u001b[0mstr\u001b[0m\u001b[0;34m(\u001b[0m\u001b[0mepoch\u001b[0m\u001b[0;34m)\u001b[0m\u001b[0;34m.\u001b[0m\u001b[0mzfill\u001b[0m\u001b[0;34m(\u001b[0m\u001b[0;36m2\u001b[0m\u001b[0;34m)\u001b[0m\u001b[0;34m,\u001b[0m \u001b[0;34m'w'\u001b[0m\u001b[0;34m)\u001b[0m\u001b[0;34m,\u001b[0m \u001b[0mensure_ascii\u001b[0m\u001b[0;34m=\u001b[0m\u001b[0;32mFalse\u001b[0m\u001b[0;34m)\u001b[0m\u001b[0;34m\u001b[0m\u001b[0;34m\u001b[0m\u001b[0m\n\u001b[0;32m--> 230\u001b[0;31m     \u001b[0mper_domain_join_accuracy\u001b[0m\u001b[0;34m(\u001b[0m\u001b[0mresults\u001b[0m\u001b[0;34m,\u001b[0m \u001b[0mslot_meta\u001b[0m\u001b[0;34m)\u001b[0m\u001b[0;34m\u001b[0m\u001b[0;34m\u001b[0m\u001b[0m\n\u001b[0m\u001b[1;32m    231\u001b[0m \u001b[0;34m\u001b[0m\u001b[0m\n\u001b[1;32m    232\u001b[0m     scores = {'epoch': epoch, 'joint_acc': joint_acc_score,\n",
      "\u001b[0;32m~/repo/taepd/som-dst_edit/utils/eval_utils.py\u001b[0m in \u001b[0;36mper_domain_join_accuracy\u001b[0;34m(data, slot_temp)\u001b[0m\n\u001b[1;32m     21\u001b[0m                 \u001b[0mtemp_acc\u001b[0m \u001b[0;34m=\u001b[0m \u001b[0mcompute_acc\u001b[0m\u001b[0;34m(\u001b[0m\u001b[0mset\u001b[0m\u001b[0;34m(\u001b[0m\u001b[0mgg\u001b[0m\u001b[0;34m)\u001b[0m\u001b[0;34m,\u001b[0m \u001b[0mset\u001b[0m\u001b[0;34m(\u001b[0m\u001b[0mpp\u001b[0m\u001b[0;34m)\u001b[0m\u001b[0;34m,\u001b[0m \u001b[0mslot_temp\u001b[0m\u001b[0;34m)\u001b[0m\u001b[0;34m\u001b[0m\u001b[0;34m\u001b[0m\u001b[0m\n\u001b[1;32m     22\u001b[0m                 \u001b[0macc\u001b[0m \u001b[0;34m+=\u001b[0m \u001b[0mtemp_acc\u001b[0m\u001b[0;34m\u001b[0m\u001b[0;34m\u001b[0m\u001b[0m\n\u001b[0;32m---> 23\u001b[0;31m         \u001b[0mprint\u001b[0m\u001b[0;34m(\u001b[0m\u001b[0mdom\u001b[0m\u001b[0;34m,\u001b[0m \u001b[0mjt\u001b[0m \u001b[0;34m/\u001b[0m \u001b[0mcount\u001b[0m\u001b[0;34m,\u001b[0m \u001b[0macc\u001b[0m \u001b[0;34m/\u001b[0m \u001b[0mcount\u001b[0m\u001b[0;34m)\u001b[0m\u001b[0;34m\u001b[0m\u001b[0;34m\u001b[0m\u001b[0m\n\u001b[0m\u001b[1;32m     24\u001b[0m \u001b[0;34m\u001b[0m\u001b[0m\n\u001b[1;32m     25\u001b[0m \u001b[0;34m\u001b[0m\u001b[0m\n",
      "\u001b[0;31mZeroDivisionError\u001b[0m: division by zero"
     ]
    }
   ],
   "source": [
    "###### TEST DATA EVALUATION ######\n",
    "print(\"Test using best model...\")\n",
    "# best_epoch = best_score['epoch']\n",
    "ckpt_path = os.path.join('checkpoint/rosy-leaf-88/model_best.bin')\n",
    "# ckpt_path = os.path.join(output_path)\n",
    "model = SomDST(model_config, len(op2id), len(domain2id), op2id['update'], args.exclude_domain)\n",
    "\n",
    "ckpt = torch.load(ckpt_path, map_location='cpu')\n",
    "# model.load_state_dict(ckpt)\n",
    "model.load_state_dict(ckpt['model_state_dict'])\n",
    "model.to(device)\n",
    "\n",
    "######## ENC/DEC OPTIMIZER ########\n",
    "no_decay = ['bias', 'LayerNorm.bias', 'LayerNorm.weight']\n",
    "enc_param_optimizer = list(model.encoder.named_parameters())\n",
    "enc_optimizer_grouped_parameters = [\n",
    "    {'params': [p for n, p in enc_param_optimizer if not any(nd in n for nd in no_decay)], 'weight_decay': 0.01},\n",
    "    {'params': [p for n, p in enc_param_optimizer if any(nd in n for nd in no_decay)], 'weight_decay': 0.0}\n",
    "    ]\n",
    "\n",
    "enc_optimizer = AdamW(enc_optimizer_grouped_parameters, lr=args.enc_lr)\n",
    "\n",
    "dec_param_optimizer = list(model.decoder.parameters())\n",
    "dec_optimizer = AdamW(dec_param_optimizer, lr=args.dec_lr)\n",
    "\n",
    "\n",
    "enc_optimizer.load_state_dict(ckpt['enc_optimizer_state_dict'])\n",
    "dec_optimizer.load_state_dict(ckpt['dec_optimizer_state_dict'])\n",
    "\n",
    "model_evaluation(model, test_data_raw, tokenizer, slot_meta, 999, args.op_code,\n",
    "                 is_gt_op=False, is_gt_p_state=False, is_gt_gen=False)\n",
    "# model_evaluation(model, test_data_raw, tokenizer, slot_meta, best_epoch, args.op_code,\n",
    "#                  is_gt_op=False, is_gt_p_state=False, is_gt_gen=True)\n",
    "# model_evaluation(model, test_data_raw, tokenizer, slot_meta, best_epoch, args.op_code,\n",
    "#                  is_gt_op=False, is_gt_p_state=True, is_gt_gen=False)\n",
    "# model_evaluation(model, test_data_raw, tokenizer, slot_meta, best_epoch, args.op_code,\n",
    "#                  is_gt_op=False, is_gt_p_state=True, is_gt_gen=True)\n",
    "# model_evaluation(model, test_data_raw, tokenizer, slot_meta, best_epoch, args.op_code,\n",
    "#                  is_gt_op=True, is_gt_p_state=False, is_gt_gen=False)\n",
    "# model_evaluation(model, test_data_raw, tokenizer, slot_meta, best_epoch, args.op_code,\n",
    "#                  is_gt_op=True, is_gt_p_state=True, is_gt_gen=False)\n",
    "# model_evaluation(model, test_data_raw, tokenizer, slot_meta, best_epoch, args.op_code,\n",
    "#                  is_gt_op=True, is_gt_p_state=False, is_gt_gen=True)\n",
    "# model_evaluation(model, test_data_raw, tokenizer, slot_meta, best_epoch, args.op_code,\n",
    "#                  is_gt_op=True, is_gt_p_state=True, is_gt_gen=True)"
   ]
  },
  {
   "cell_type": "code",
   "execution_count": 17,
   "id": "07645e69-ecad-4732-b488-b85e1043fe80",
   "metadata": {},
   "outputs": [],
   "source": [
    "pred = json.load(open('preds_999.json'))"
   ]
  },
  {
   "cell_type": "code",
   "execution_count": 18,
   "id": "96a7b688-b037-4bea-ae47-b6d48afa49f8",
   "metadata": {
    "tags": []
   },
   "outputs": [],
   "source": [
    "predictions = {}\n",
    "for k, v in pred.items():\n",
    "    predictions[k] = v[0]\n",
    "predictions\n",
    "\n",
    "json.dump(\n",
    "        predictions,\n",
    "#         open(f\"{args.output_dir}/predictions.csv\", \"w\"),\n",
    "        open(f\"predictions.csv\", \"w\"),\n",
    "        indent=2,\n",
    "        ensure_ascii=False,\n",
    "    )"
   ]
  },
  {
   "cell_type": "code",
   "execution_count": 21,
   "id": "ba0623e6-5e4d-4bc7-9c3c-a904022239ab",
   "metadata": {},
   "outputs": [],
   "source": [
    "pred = json.load(open('prediction_ensemble_sorted_and_postprocessed.csv'))\n",
    "json.dump(pred, open('prediction_ensemble_sorted_and_postprocessed_edit.csv', 'w'), indent=2, ensure_ascii=False) "
   ]
  }
 ],
 "metadata": {
  "kernelspec": {
   "display_name": "Python 3",
   "language": "python",
   "name": "python3"
  },
  "language_info": {
   "codemirror_mode": {
    "name": "ipython",
    "version": 3
   },
   "file_extension": ".py",
   "mimetype": "text/x-python",
   "name": "python",
   "nbconvert_exporter": "python",
   "pygments_lexer": "ipython3",
   "version": "3.7.7"
  }
 },
 "nbformat": 4,
 "nbformat_minor": 5
}
