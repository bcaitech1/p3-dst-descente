{
 "cells": [
  {
   "cell_type": "markdown",
   "id": "5b345b6a-97c0-4d09-a95f-ba6e5f15705a",
   "metadata": {},
   "source": [
    "### som-dst `train.py`"
   ]
  },
  {
   "cell_type": "markdown",
   "id": "ef13b6c9-24f8-4b8b-951b-50330ba3a185",
   "metadata": {},
   "source": [
    "## 변화된 점\n",
    "- mixed precision 추가"
   ]
  },
  {
   "cell_type": "code",
   "execution_count": 1,
   "id": "5cddb349-4a10-4b01-97e0-17132db414d2",
   "metadata": {},
   "outputs": [],
   "source": [
    "import sys\n",
    "sys.path.append('..')"
   ]
  },
  {
   "cell_type": "code",
   "execution_count": 2,
   "id": "524676c7-43f5-4d9e-89da-a3d4e4e35298",
   "metadata": {},
   "outputs": [],
   "source": [
    "\"\"\"\n",
    "SOM-DST\n",
    "Copyright (c) 2020-present NAVER Corp.\n",
    "MIT license\n",
    "\"\"\"\n",
    "\n",
    "from model import SomDST\n",
    "# from pytorch_transformers import BertTokenizer, AdamW, WarmupLinearSchedule, BertConfig\n",
    "from transformers import BertModel, BertTokenizer, BertConfig, AdamW, get_linear_schedule_with_warmup, get_cosine_with_hard_restarts_schedule_with_warmup\n",
    "from utils.data_utils import prepare_dataset, MultiWozDataset\n",
    "from utils.data_utils import  domain2id, OP_SET, make_turn_label, postprocessing # make_slot_meta,\n",
    "from utils.eval_utils import compute_prf, compute_acc, per_domain_join_accuracy\n",
    "# from utils.ckpt_utils import download_ckpt, convert_ckpt_compatible\n",
    "from evaluation import model_evaluation\n",
    "\n",
    "import torch\n",
    "import torch.nn as nn\n",
    "from torch.utils.data import TensorDataset, DataLoader, RandomSampler, SequentialSampler\n",
    "import torch.cuda.amp as amp\n",
    "\n",
    "import numpy as np\n",
    "import argparse\n",
    "import random\n",
    "import os\n",
    "import json\n",
    "import time\n",
    "import pickle\n",
    "from tqdm import tqdm"
   ]
  },
  {
   "cell_type": "code",
   "execution_count": 3,
   "id": "9e843bb6-b7a1-44ab-8692-3eb00d5f9d8f",
   "metadata": {},
   "outputs": [
    {
     "name": "stdout",
     "output_type": "stream",
     "text": [
      "Device Name : cuda\n"
     ]
    }
   ],
   "source": [
    "device = torch.device('cuda' if torch.cuda.is_available() else 'cpu')\n",
    "print(f'Device Name : {device}')\n",
    "\n",
    "# torch.cuda.empty_cache()"
   ]
  },
  {
   "cell_type": "code",
   "execution_count": 4,
   "id": "acaf50ed-b45e-4431-b4b1-fe2aaa088e4b",
   "metadata": {},
   "outputs": [],
   "source": [
    "def masked_cross_entropy_for_value(logits, target, pad_idx=0):\n",
    "    mask = target.ne(pad_idx)\n",
    "    logits_flat = logits.view(-1, logits.size(-1))\n",
    "    log_probs_flat = torch.log(logits_flat)\n",
    "    target_flat = target.view(-1, 1)\n",
    "    losses_flat = -torch.gather(log_probs_flat, dim=1, index=target_flat)\n",
    "    losses = losses_flat.view(*target.size())\n",
    "    losses = losses * mask.float()\n",
    "    loss = losses.sum() / (mask.sum().float())\n",
    "    return loss"
   ]
  },
  {
   "cell_type": "code",
   "execution_count": 5,
   "id": "aa0f7560-9e16-47ec-9063-c964a32dce03",
   "metadata": {},
   "outputs": [],
   "source": [
    "import wandb\n",
    "# !wandb login  # run once"
   ]
  },
  {
   "cell_type": "code",
   "execution_count": 6,
   "id": "65d8b467-a6c6-4819-9bdf-067d576d919f",
   "metadata": {},
   "outputs": [
    {
     "name": "stderr",
     "output_type": "stream",
     "text": [
      "\u001b[34m\u001b[1mwandb\u001b[0m: Currently logged in as: \u001b[33mtaepd\u001b[0m (use `wandb login --relogin` to force relogin)\n",
      "\u001b[34m\u001b[1mwandb\u001b[0m: wandb version 0.10.30 is available!  To upgrade, please run:\n",
      "\u001b[34m\u001b[1mwandb\u001b[0m:  $ pip install wandb --upgrade\n"
     ]
    },
    {
     "data": {
      "text/html": [
       "\n",
       "                Tracking run with wandb version 0.10.28<br/>\n",
       "                Syncing run <strong style=\"color:#cdcd00\">crisp-spaceship-19</strong> to <a href=\"https://wandb.ai\" target=\"_blank\">Weights & Biases</a> <a href=\"https://docs.wandb.com/integrations/jupyter.html\" target=\"_blank\">(Documentation)</a>.<br/>\n",
       "                Project page: <a href=\"https://wandb.ai/taepd/SOM-DST\" target=\"_blank\">https://wandb.ai/taepd/SOM-DST</a><br/>\n",
       "                Run page: <a href=\"https://wandb.ai/taepd/SOM-DST/runs/15q6avys\" target=\"_blank\">https://wandb.ai/taepd/SOM-DST/runs/15q6avys</a><br/>\n",
       "                Run data is saved locally in <code>/opt/ml/repo/taepd/som-dst_edit/wandb/run-20210513_054051-15q6avys</code><br/><br/>\n",
       "            "
      ],
      "text/plain": [
       "<IPython.core.display.HTML object>"
      ]
     },
     "metadata": {},
     "output_type": "display_data"
    }
   ],
   "source": [
    "# wandb sweep 생성 시 parameters에 전달하는 config 설정\n",
    "# hyperparameter_defaults = dict(\n",
    "#     batch_size = args.batch_size,\n",
    "#     learning_rate = args.learning_rate,\n",
    "#     epochs = args.num_train_epochs,\n",
    "#     weight_decay = args.weight_decay,\n",
    "#     attn_head = args.attn_head,\n",
    "#     distance_metric = args.distance_metric,\n",
    "    \n",
    "#     dropout = 0.1,\n",
    "#     smoothing = 0.2\n",
    "#     model_name = 'BertForSequenceClassification',\n",
    "#     tokenizer_name = 'BertTokenizer',\n",
    "#     )\n",
    "\n",
    "# wandb.init(config=hyperparameter_defaults, project=\"TRADE\")\n",
    "wandb.init(project=\"SOM-DST\")\n",
    "config = wandb.config"
   ]
  },
  {
   "cell_type": "markdown",
   "id": "188c8fa6-550a-477e-af6e-ed7d6df04c0b",
   "metadata": {},
   "source": [
    "### args setting"
   ]
  },
  {
   "cell_type": "code",
   "execution_count": 7,
   "id": "e8a06d10-b4d4-4b14-a7e4-ba07448814c7",
   "metadata": {},
   "outputs": [
    {
     "name": "stdout",
     "output_type": "stream",
     "text": [
      "pytorch version:  1.7.0+cu101\n"
     ]
    }
   ],
   "source": [
    "from argparse import Namespace\n",
    "\n",
    "parser = argparse.ArgumentParser()\n",
    "\n",
    "# Required parameters\n",
    "args = {\n",
    "    \"data_root\":'data',  # default='data/mwz2.1'\n",
    "    \"train_data\":'train_dials.json',\n",
    "    \"dev_data\":'dev_dials.json',\n",
    "    \"test_data\":'test_dials.json',\n",
    "    \"ontology_data\":'ontology.json',\n",
    "    \"slot_meta\":'slot_meta.json',\n",
    "    # \"--vocab_path\":'assets/vocab.txt',\n",
    "    \"bert_config_path\":'assets/bert_config_base_uncased.json',\n",
    "    \"bert_ckpt_path\":'assets/bert-base-uncased-pytorch_model.bin',\n",
    "    \"save_dir\":'outputs',\n",
    "\n",
    "    \"random_seed\":42, \n",
    "    \"num_workers\":4, \n",
    "    \"batch_size\":32, \n",
    "    \"enc_warmup\":0.1, \n",
    "    \"dec_warmup\":0.1, \n",
    "    \"enc_lr\":4e-5, \n",
    "    \"dec_lr\":1e-4, \n",
    "    \"n_epochs\":30, \n",
    "    \"eval_epoch\":1, \n",
    "\n",
    "    \"op_code\":\"4\",\n",
    "    \"slot_token\":\"[SLOT]\",\n",
    "    \"dropout\":0.1, \n",
    "    \"hidden_dropout_prob\":0.1, \n",
    "    \"attention_probs_dropout_prob\":0.1, \n",
    "    \"decoder_teacher_forcing\":0.5, \n",
    "    \"word_dropout\":0.1, \n",
    "    \"not_shuffle_state\":False,\n",
    "    \"shuffle_p\":0.5, \n",
    "\n",
    "    \"n_history\":1, \n",
    "    \"max_seq_length\":512, \n",
    "    \"msg\":None,\n",
    "    \"exclude_domain\": False, \n",
    "}\n",
    "\n",
    "args = Namespace(**args)\n",
    "\n",
    "args.train_data_path = os.path.join(args.data_root, args.train_data)\n",
    "args.dev_data_path = os.path.join(args.data_root, args.dev_data)\n",
    "args.test_data_path = os.path.join(args.data_root, args.test_data)\n",
    "args.ontology_data = os.path.join(args.data_root, args.ontology_data)\n",
    "args.slot_meta = os.path.join(args.data_root, args.slot_meta)\n",
    "args.shuffle_state = False if args.not_shuffle_state else True\n",
    "\n",
    "\n",
    "print('pytorch version: ', torch.__version__)\n",
    "# print(args)"
   ]
  },
  {
   "cell_type": "code",
   "execution_count": 8,
   "id": "dbdcdf5a-2d9e-4213-ab0a-dcd5dff2d29a",
   "metadata": {},
   "outputs": [],
   "source": [
    "def worker_init_fn(worker_id):\n",
    "        np.random.seed(args.random_seed + worker_id)\n",
    "\n",
    "n_gpu = 0\n",
    "if torch.cuda.is_available():\n",
    "    n_gpu = torch.cuda.device_count()\n",
    "np.random.seed(args.random_seed)\n",
    "random.seed(args.random_seed)\n",
    "rng = random.Random(args.random_seed)\n",
    "torch.manual_seed(args.random_seed)\n",
    "if n_gpu > 0:\n",
    "    torch.cuda.manual_seed(args.random_seed)\n",
    "    torch.cuda.manual_seed_all(args.random_seed)\n",
    "    torch.backends.cudnn.benchmark = False\n",
    "    torch.backends.cudnn.deterministic = True\n",
    "\n",
    "if not os.path.exists(args.save_dir):\n",
    "    os.mkdir(args.save_dir)"
   ]
  },
  {
   "cell_type": "code",
   "execution_count": 9,
   "id": "7123eec2-5206-4ca0-8b81-8d07120ec9c5",
   "metadata": {},
   "outputs": [
    {
     "name": "stdout",
     "output_type": "stream",
     "text": [
      "{'delete': 0, 'update': 1, 'dontcare': 2, 'carryover': 3}\n"
     ]
    }
   ],
   "source": [
    "ontology = json.load(open(args.ontology_data))\n",
    "# slot_meta, ontology = make_slot_meta(ontology)\n",
    "slot_meta = json.load(open(args.slot_meta))\n",
    "op2id = OP_SET[args.op_code]\n",
    "print(op2id)\n"
   ]
  },
  {
   "cell_type": "markdown",
   "id": "957398d9-151e-431e-ad7d-91dceafdd1ee",
   "metadata": {},
   "source": [
    "### MODEL CONFIG"
   ]
  },
  {
   "cell_type": "code",
   "execution_count": 10,
   "id": "f8db0727-4e2b-4bce-a7cb-fc5e744ec430",
   "metadata": {
    "collapsed": true,
    "jupyter": {
     "outputs_hidden": true
    },
    "tags": []
   },
   "outputs": [
    {
     "name": "stderr",
     "output_type": "stream",
     "text": [
      "Special tokens have been added in the vocabulary, make sure the associated word embedding are fine-tuned or trained.\n"
     ]
    },
    {
     "data": {
      "text/plain": [
       "SomDST(\n",
       "  (encoder): Encoder(\n",
       "    (bert): BertModel(\n",
       "      (embeddings): BertEmbeddings(\n",
       "        (word_embeddings): Embedding(35003, 768)\n",
       "        (position_embeddings): Embedding(512, 768)\n",
       "        (token_type_embeddings): Embedding(2, 768)\n",
       "        (LayerNorm): LayerNorm((768,), eps=1e-12, elementwise_affine=True)\n",
       "        (dropout): Dropout(p=0.1, inplace=False)\n",
       "      )\n",
       "      (encoder): BertEncoder(\n",
       "        (layer): ModuleList(\n",
       "          (0): BertLayer(\n",
       "            (attention): BertAttention(\n",
       "              (self): BertSelfAttention(\n",
       "                (query): Linear(in_features=768, out_features=768, bias=True)\n",
       "                (key): Linear(in_features=768, out_features=768, bias=True)\n",
       "                (value): Linear(in_features=768, out_features=768, bias=True)\n",
       "                (dropout): Dropout(p=0.1, inplace=False)\n",
       "              )\n",
       "              (output): BertSelfOutput(\n",
       "                (dense): Linear(in_features=768, out_features=768, bias=True)\n",
       "                (LayerNorm): LayerNorm((768,), eps=1e-12, elementwise_affine=True)\n",
       "                (dropout): Dropout(p=0.1, inplace=False)\n",
       "              )\n",
       "            )\n",
       "            (intermediate): BertIntermediate(\n",
       "              (dense): Linear(in_features=768, out_features=3072, bias=True)\n",
       "            )\n",
       "            (output): BertOutput(\n",
       "              (dense): Linear(in_features=3072, out_features=768, bias=True)\n",
       "              (LayerNorm): LayerNorm((768,), eps=1e-12, elementwise_affine=True)\n",
       "              (dropout): Dropout(p=0.1, inplace=False)\n",
       "            )\n",
       "          )\n",
       "          (1): BertLayer(\n",
       "            (attention): BertAttention(\n",
       "              (self): BertSelfAttention(\n",
       "                (query): Linear(in_features=768, out_features=768, bias=True)\n",
       "                (key): Linear(in_features=768, out_features=768, bias=True)\n",
       "                (value): Linear(in_features=768, out_features=768, bias=True)\n",
       "                (dropout): Dropout(p=0.1, inplace=False)\n",
       "              )\n",
       "              (output): BertSelfOutput(\n",
       "                (dense): Linear(in_features=768, out_features=768, bias=True)\n",
       "                (LayerNorm): LayerNorm((768,), eps=1e-12, elementwise_affine=True)\n",
       "                (dropout): Dropout(p=0.1, inplace=False)\n",
       "              )\n",
       "            )\n",
       "            (intermediate): BertIntermediate(\n",
       "              (dense): Linear(in_features=768, out_features=3072, bias=True)\n",
       "            )\n",
       "            (output): BertOutput(\n",
       "              (dense): Linear(in_features=3072, out_features=768, bias=True)\n",
       "              (LayerNorm): LayerNorm((768,), eps=1e-12, elementwise_affine=True)\n",
       "              (dropout): Dropout(p=0.1, inplace=False)\n",
       "            )\n",
       "          )\n",
       "          (2): BertLayer(\n",
       "            (attention): BertAttention(\n",
       "              (self): BertSelfAttention(\n",
       "                (query): Linear(in_features=768, out_features=768, bias=True)\n",
       "                (key): Linear(in_features=768, out_features=768, bias=True)\n",
       "                (value): Linear(in_features=768, out_features=768, bias=True)\n",
       "                (dropout): Dropout(p=0.1, inplace=False)\n",
       "              )\n",
       "              (output): BertSelfOutput(\n",
       "                (dense): Linear(in_features=768, out_features=768, bias=True)\n",
       "                (LayerNorm): LayerNorm((768,), eps=1e-12, elementwise_affine=True)\n",
       "                (dropout): Dropout(p=0.1, inplace=False)\n",
       "              )\n",
       "            )\n",
       "            (intermediate): BertIntermediate(\n",
       "              (dense): Linear(in_features=768, out_features=3072, bias=True)\n",
       "            )\n",
       "            (output): BertOutput(\n",
       "              (dense): Linear(in_features=3072, out_features=768, bias=True)\n",
       "              (LayerNorm): LayerNorm((768,), eps=1e-12, elementwise_affine=True)\n",
       "              (dropout): Dropout(p=0.1, inplace=False)\n",
       "            )\n",
       "          )\n",
       "          (3): BertLayer(\n",
       "            (attention): BertAttention(\n",
       "              (self): BertSelfAttention(\n",
       "                (query): Linear(in_features=768, out_features=768, bias=True)\n",
       "                (key): Linear(in_features=768, out_features=768, bias=True)\n",
       "                (value): Linear(in_features=768, out_features=768, bias=True)\n",
       "                (dropout): Dropout(p=0.1, inplace=False)\n",
       "              )\n",
       "              (output): BertSelfOutput(\n",
       "                (dense): Linear(in_features=768, out_features=768, bias=True)\n",
       "                (LayerNorm): LayerNorm((768,), eps=1e-12, elementwise_affine=True)\n",
       "                (dropout): Dropout(p=0.1, inplace=False)\n",
       "              )\n",
       "            )\n",
       "            (intermediate): BertIntermediate(\n",
       "              (dense): Linear(in_features=768, out_features=3072, bias=True)\n",
       "            )\n",
       "            (output): BertOutput(\n",
       "              (dense): Linear(in_features=3072, out_features=768, bias=True)\n",
       "              (LayerNorm): LayerNorm((768,), eps=1e-12, elementwise_affine=True)\n",
       "              (dropout): Dropout(p=0.1, inplace=False)\n",
       "            )\n",
       "          )\n",
       "          (4): BertLayer(\n",
       "            (attention): BertAttention(\n",
       "              (self): BertSelfAttention(\n",
       "                (query): Linear(in_features=768, out_features=768, bias=True)\n",
       "                (key): Linear(in_features=768, out_features=768, bias=True)\n",
       "                (value): Linear(in_features=768, out_features=768, bias=True)\n",
       "                (dropout): Dropout(p=0.1, inplace=False)\n",
       "              )\n",
       "              (output): BertSelfOutput(\n",
       "                (dense): Linear(in_features=768, out_features=768, bias=True)\n",
       "                (LayerNorm): LayerNorm((768,), eps=1e-12, elementwise_affine=True)\n",
       "                (dropout): Dropout(p=0.1, inplace=False)\n",
       "              )\n",
       "            )\n",
       "            (intermediate): BertIntermediate(\n",
       "              (dense): Linear(in_features=768, out_features=3072, bias=True)\n",
       "            )\n",
       "            (output): BertOutput(\n",
       "              (dense): Linear(in_features=3072, out_features=768, bias=True)\n",
       "              (LayerNorm): LayerNorm((768,), eps=1e-12, elementwise_affine=True)\n",
       "              (dropout): Dropout(p=0.1, inplace=False)\n",
       "            )\n",
       "          )\n",
       "          (5): BertLayer(\n",
       "            (attention): BertAttention(\n",
       "              (self): BertSelfAttention(\n",
       "                (query): Linear(in_features=768, out_features=768, bias=True)\n",
       "                (key): Linear(in_features=768, out_features=768, bias=True)\n",
       "                (value): Linear(in_features=768, out_features=768, bias=True)\n",
       "                (dropout): Dropout(p=0.1, inplace=False)\n",
       "              )\n",
       "              (output): BertSelfOutput(\n",
       "                (dense): Linear(in_features=768, out_features=768, bias=True)\n",
       "                (LayerNorm): LayerNorm((768,), eps=1e-12, elementwise_affine=True)\n",
       "                (dropout): Dropout(p=0.1, inplace=False)\n",
       "              )\n",
       "            )\n",
       "            (intermediate): BertIntermediate(\n",
       "              (dense): Linear(in_features=768, out_features=3072, bias=True)\n",
       "            )\n",
       "            (output): BertOutput(\n",
       "              (dense): Linear(in_features=3072, out_features=768, bias=True)\n",
       "              (LayerNorm): LayerNorm((768,), eps=1e-12, elementwise_affine=True)\n",
       "              (dropout): Dropout(p=0.1, inplace=False)\n",
       "            )\n",
       "          )\n",
       "        )\n",
       "      )\n",
       "      (pooler): BertPooler(\n",
       "        (dense): Linear(in_features=768, out_features=768, bias=True)\n",
       "        (activation): Tanh()\n",
       "      )\n",
       "    )\n",
       "    (dropout): Dropout(p=0.1, inplace=False)\n",
       "    (action_cls): Linear(in_features=768, out_features=4, bias=True)\n",
       "    (domain_cls): Linear(in_features=768, out_features=5, bias=True)\n",
       "  )\n",
       "  (decoder): Decoder(\n",
       "    (embed): Embedding(35003, 768, padding_idx=0)\n",
       "    (gru): GRU(768, 768, batch_first=True)\n",
       "    (w_gen): Linear(in_features=2304, out_features=1, bias=True)\n",
       "    (sigmoid): Sigmoid()\n",
       "    (dropout): Dropout(p=0.1, inplace=False)\n",
       "  )\n",
       ")"
      ]
     },
     "execution_count": 10,
     "metadata": {},
     "output_type": "execute_result"
    }
   ],
   "source": [
    "# model_config = BertConfig.from_json_file(args.bert_config_path)\n",
    "model_config = BertConfig.from_pretrained('dsksd/bert-ko-small-minimal')\n",
    "model_config.dropout = args.dropout\n",
    "model_config.attention_probs_dropout_prob = args.attention_probs_dropout_prob\n",
    "model_config.hidden_dropout_prob = args.hidden_dropout_prob\n",
    "model_config.vocab_size += 3  # 추가되는 special token 고려\n",
    "model = SomDST(model_config, len(op2id), len(domain2id), op2id['update'], args.exclude_domain)\n",
    "\n",
    "wandb.watch(model)\n",
    "# if not os.path.exists(args.bert_ckpt_path):\n",
    "#     args.bert_ckpt_path = download_ckpt(args.bert_ckpt_path, args.bert_config_path, 'assets')\n",
    "\n",
    "# ckpt = torch.load(args.bert_ckpt_path, map_location='cpu')\n",
    "# model.encoder.bert.load_state_dict(ckpt)\n",
    "\n",
    "\n",
    "# re-initialize added special tokens ([SLOT], [NULL], [EOS])\n",
    "# model.encoder.bert.embeddings.word_embeddings.weight.data[1].normal_(mean=0.0, std=0.02)\n",
    "# model.encoder.bert.embeddings.word_embeddings.weight.data[2].normal_(mean=0.0, std=0.02)\n",
    "# model.encoder.bert.embeddings.word_embeddings.weight.data[3].normal_(mean=0.0, std=0.02)\n",
    "\n",
    "\n",
    "# tokenizer = BertTokenizer(args.vocab_path, do_lower_case=True)\n",
    "tokenizer = model.encoder.tokenizer\n",
    "# tokenizer = BertTokenizer.from_pretrained('dsksd/bert-ko-small-minimal', additional_special_tokens = ['[SLOT]', '[NULL]','[EOS]'])\n",
    "# tokenizer = BertTokenizer.from_pretrained('dsksd/bert-ko-small-minimal')\n",
    "\n",
    "model.to(device)"
   ]
  },
  {
   "cell_type": "code",
   "execution_count": 11,
   "id": "9964b70c-64e7-49b0-99e1-0581043f9c1f",
   "metadata": {},
   "outputs": [
    {
     "data": {
      "text/plain": [
       "[35000, 35001, 35002]"
      ]
     },
     "execution_count": 11,
     "metadata": {},
     "output_type": "execute_result"
    }
   ],
   "source": [
    "tokenizer.all_special_tokens\n",
    "\n",
    "tokenizer.additional_special_tokens_ids\n",
    "\n"
   ]
  },
  {
   "cell_type": "markdown",
   "id": "d989ef64-3b26-4fb8-8f0a-1de8ce848c1c",
   "metadata": {},
   "source": [
    "### DATA PREPERATION"
   ]
  },
  {
   "cell_type": "code",
   "execution_count": 12,
   "id": "68149f73-3337-4932-a0da-396441132b92",
   "metadata": {},
   "outputs": [
    {
     "name": "stdout",
     "output_type": "stream",
     "text": [
      "Making Train_Data_Raw....\n",
      "# train examples 45320\n",
      "Making Dev_Data_Raw....\n",
      "# dev examples 5067\n",
      "# test examples 14771\n"
     ]
    }
   ],
   "source": [
    "if not os.path.exists('raw_data'):\n",
    "    os.mkdir('raw_data')\n",
    "print('Making Train_Data_Raw....')\n",
    "if not os.path.exists('./raw_data/train_data_raw'):\n",
    "    train_data_raw = prepare_dataset(data_path=args.train_data_path,\n",
    "                                    tokenizer=tokenizer,\n",
    "                                    slot_meta=slot_meta,\n",
    "                                    n_history=args.n_history,\n",
    "                                    max_seq_length=args.max_seq_length,\n",
    "                                    op_code=args.op_code)\n",
    "    with open('./raw_data/train_data_raw', 'wb') as f:\n",
    "        pickle.dump(train_data_raw, f)\n",
    "else:\n",
    "    with open('./raw_data/train_data_raw', 'rb') as f:\n",
    "        train_data_raw = pickle.load(f)\n",
    "\n",
    "train_data = MultiWozDataset(train_data_raw,\n",
    "                             tokenizer,\n",
    "                             slot_meta,\n",
    "                             args.max_seq_length,\n",
    "                             rng,\n",
    "                             ontology,\n",
    "                             args.word_dropout,\n",
    "                             args.shuffle_state,\n",
    "                             args.shuffle_p)\n",
    "print(\"# train examples %d\" % len(train_data_raw))\n",
    "\n",
    "print('Making Dev_Data_Raw....')\n",
    "# print(f'max_seq_length : {args.max_seq_length}')\n",
    "if not os.path.exists('./raw_data/dev_data_raw'):\n",
    "    dev_data_raw = prepare_dataset(data_path=args.dev_data_path,\n",
    "                                tokenizer=tokenizer,\n",
    "                                slot_meta=slot_meta,\n",
    "                                n_history=args.n_history,\n",
    "                                max_seq_length=args.max_seq_length,\n",
    "                                op_code=args.op_code)\n",
    "    with open('./raw_data/dev_data_raw', 'wb') as f:\n",
    "        pickle.dump(dev_data_raw, f)\n",
    "else:\n",
    "    with open('./raw_data/dev_data_raw', 'rb') as f:\n",
    "        dev_data_raw = pickle.load(f)\n",
    "print(\"# dev examples %d\" % len(dev_data_raw))\n",
    "\n",
    "if not os.path.exists('./raw_data/test_data_raw'):\n",
    "    test_data_raw = prepare_dataset(data_path=args.test_data_path,\n",
    "                                    tokenizer=tokenizer,\n",
    "                                    slot_meta=slot_meta,\n",
    "                                    n_history=args.n_history,\n",
    "                                    max_seq_length=args.max_seq_length,\n",
    "                                    op_code=args.op_code)\n",
    "    with open('./raw_data/test_data_raw', 'wb') as f:\n",
    "        pickle.dump(test_data_raw, f)\n",
    "else:\n",
    "    with open('./raw_data/test_data_raw', 'rb') as f:\n",
    "        test_data_raw = pickle.load(f)\n",
    "print(\"# test examples %d\" % len(test_data_raw))"
   ]
  },
  {
   "cell_type": "markdown",
   "id": "6fca5d63-89d8-42de-ab0f-59f14f031d6e",
   "metadata": {},
   "source": [
    "### Optimizer & Scheduler"
   ]
  },
  {
   "cell_type": "code",
   "execution_count": 13,
   "id": "6b98d4d5-3301-443b-82ac-a292052255de",
   "metadata": {},
   "outputs": [],
   "source": [
    "######## STEPS ########\n",
    "num_train_steps = int(len(train_data_raw) / args.batch_size * args.n_epochs)\n",
    "\n",
    "\n",
    "######## ENC/DEC OPTIMIZER ########\n",
    "no_decay = ['bias', 'LayerNorm.bias', 'LayerNorm.weight']\n",
    "enc_param_optimizer = list(model.encoder.named_parameters())\n",
    "enc_optimizer_grouped_parameters = [\n",
    "    {'params': [p for n, p in enc_param_optimizer if not any(nd in n for nd in no_decay)], 'weight_decay': 0.01},\n",
    "    {'params': [p for n, p in enc_param_optimizer if any(nd in n for nd in no_decay)], 'weight_decay': 0.0}\n",
    "    ]\n",
    "\n",
    "enc_optimizer = AdamW(enc_optimizer_grouped_parameters, lr=args.enc_lr)\n",
    "# enc_scheduler = WarmupLinearSchedule(enc_optimizer, int(num_train_steps * args.enc_warmup),\n",
    "#                                      t_total=num_train_steps)\n",
    "enc_scheduler = get_linear_schedule_with_warmup(enc_optimizer, num_warmup_steps=int(num_train_steps * args.enc_warmup),\n",
    "                                     num_training_steps=num_train_steps)\n",
    "\n",
    "dec_param_optimizer = list(model.decoder.parameters())\n",
    "dec_optimizer = AdamW(dec_param_optimizer, lr=args.dec_lr)\n",
    "# dec_scheduler = WarmupLinearSchedule(dec_optimizer, int(num_train_steps * args.dec_warmup),\n",
    "#                                      t_total=num_train_steps)\n",
    "dec_scheduler = get_linear_schedule_with_warmup(dec_optimizer, num_warmup_steps=int(num_train_steps * args.dec_warmup),\n",
    "                                    num_training_steps=num_train_steps)\n",
    "\n",
    "if n_gpu > 1:\n",
    "    model = torch.nn.DataParallel(model)"
   ]
  },
  {
   "cell_type": "markdown",
   "id": "d238509d-829c-4c12-bcb5-a88b9424d27e",
   "metadata": {},
   "source": [
    "### Train DataLoading"
   ]
  },
  {
   "cell_type": "code",
   "execution_count": 14,
   "id": "47258933-7366-4b6b-a4c9-b7b85e68fccd",
   "metadata": {},
   "outputs": [
    {
     "name": "stdout",
     "output_type": "stream",
     "text": [
      "Making Train DataLoader...\n"
     ]
    }
   ],
   "source": [
    "print('Making Train DataLoader...')\n",
    "train_sampler = RandomSampler(train_data)\n",
    "train_dataloader = DataLoader(train_data,\n",
    "                              sampler=train_sampler,\n",
    "                              batch_size=args.batch_size,\n",
    "                              collate_fn=train_data.collate_fn,\n",
    "                              num_workers=args.num_workers,\n",
    "                              worker_init_fn=worker_init_fn)"
   ]
  },
  {
   "cell_type": "markdown",
   "id": "12fb4b82-fef3-4b91-a8b2-6995a37a513c",
   "metadata": {},
   "source": [
    "### Train"
   ]
  },
  {
   "cell_type": "code",
   "execution_count": 15,
   "id": "ac6d3d88-89b7-46ab-9395-06ca7d668ad6",
   "metadata": {},
   "outputs": [],
   "source": [
    "def get_lr(scheduler):\n",
    "    return scheduler.get_last_lr()[0]"
   ]
  },
  {
   "cell_type": "code",
   "execution_count": null,
   "id": "0133a089-cc5a-4c0e-933c-15b73c2fb530",
   "metadata": {
    "tags": []
   },
   "outputs": [
    {
     "name": "stderr",
     "output_type": "stream",
     "text": [
      "  0%|          | 0/1417 [00:00<?, ?it/s]"
     ]
    },
    {
     "name": "stdout",
     "output_type": "stream",
     "text": [
      "Let's Do the Training!\n"
     ]
    },
    {
     "name": "stderr",
     "output_type": "stream",
     "text": [
      "  0%|          | 1/1417 [00:01<31:58,  1.36s/it]"
     ]
    },
    {
     "name": "stdout",
     "output_type": "stream",
     "text": [
      "[1/30] [0/1417] mean_loss : 14.114, state_loss : 1.666, gen_loss : 10.777, dom_loss : 1.672\n"
     ]
    },
    {
     "name": "stderr",
     "output_type": "stream",
     "text": [
      "  7%|▋         | 101/1417 [00:47<10:00,  2.19it/s]"
     ]
    },
    {
     "name": "stdout",
     "output_type": "stream",
     "text": [
      "[1/30] [100/1417] mean_loss : 13.001, state_loss : 0.458, gen_loss : 10.375, dom_loss : 1.551\n"
     ]
    },
    {
     "name": "stderr",
     "output_type": "stream",
     "text": [
      " 14%|█▍        | 201/1417 [01:34<09:32,  2.12it/s]"
     ]
    },
    {
     "name": "stdout",
     "output_type": "stream",
     "text": [
      "[1/30] [200/1417] mean_loss : 10.829, state_loss : 0.218, gen_loss : 8.661, dom_loss : 1.554\n"
     ]
    },
    {
     "name": "stderr",
     "output_type": "stream",
     "text": [
      " 21%|██        | 301/1417 [02:20<09:01,  2.06it/s]"
     ]
    },
    {
     "name": "stdout",
     "output_type": "stream",
     "text": [
      "[1/30] [300/1417] mean_loss : 9.904, state_loss : 0.193, gen_loss : 7.618, dom_loss : 1.415\n"
     ]
    },
    {
     "name": "stderr",
     "output_type": "stream",
     "text": [
      " 28%|██▊       | 401/1417 [03:07<08:35,  1.97it/s]"
     ]
    },
    {
     "name": "stdout",
     "output_type": "stream",
     "text": [
      "[1/30] [400/1417] mean_loss : 9.098, state_loss : 0.190, gen_loss : 7.121, dom_loss : 1.398\n"
     ]
    },
    {
     "name": "stderr",
     "output_type": "stream",
     "text": [
      " 35%|███▌      | 501/1417 [03:54<07:23,  2.06it/s]"
     ]
    },
    {
     "name": "stdout",
     "output_type": "stream",
     "text": [
      "[1/30] [500/1417] mean_loss : 8.167, state_loss : 0.230, gen_loss : 6.323, dom_loss : 1.347\n"
     ]
    },
    {
     "name": "stderr",
     "output_type": "stream",
     "text": [
      " 42%|████▏     | 601/1417 [04:41<06:28,  2.10it/s]"
     ]
    },
    {
     "name": "stdout",
     "output_type": "stream",
     "text": [
      "[1/30] [600/1417] mean_loss : 6.790, state_loss : 0.176, gen_loss : 4.179, dom_loss : 1.472\n"
     ]
    },
    {
     "name": "stderr",
     "output_type": "stream",
     "text": [
      " 49%|████▉     | 701/1417 [05:27<05:25,  2.20it/s]"
     ]
    },
    {
     "name": "stdout",
     "output_type": "stream",
     "text": [
      "[1/30] [700/1417] mean_loss : 5.067, state_loss : 0.149, gen_loss : 2.718, dom_loss : 1.384\n"
     ]
    },
    {
     "name": "stderr",
     "output_type": "stream",
     "text": [
      " 57%|█████▋    | 801/1417 [06:14<04:48,  2.14it/s]"
     ]
    },
    {
     "name": "stdout",
     "output_type": "stream",
     "text": [
      "[1/30] [800/1417] mean_loss : 4.477, state_loss : 0.144, gen_loss : 2.602, dom_loss : 1.493\n"
     ]
    },
    {
     "name": "stderr",
     "output_type": "stream",
     "text": [
      " 64%|██████▎   | 901/1417 [07:01<03:57,  2.17it/s]"
     ]
    },
    {
     "name": "stdout",
     "output_type": "stream",
     "text": [
      "[1/30] [900/1417] mean_loss : 4.198, state_loss : 0.164, gen_loss : 2.682, dom_loss : 1.616\n"
     ]
    },
    {
     "name": "stderr",
     "output_type": "stream",
     "text": [
      " 71%|███████   | 1001/1417 [07:47<03:04,  2.26it/s]"
     ]
    },
    {
     "name": "stdout",
     "output_type": "stream",
     "text": [
      "[1/30] [1000/1417] mean_loss : 3.920, state_loss : 0.162, gen_loss : 2.091, dom_loss : 1.317\n"
     ]
    },
    {
     "name": "stderr",
     "output_type": "stream",
     "text": [
      " 78%|███████▊  | 1101/1417 [08:37<02:30,  2.10it/s]"
     ]
    },
    {
     "name": "stdout",
     "output_type": "stream",
     "text": [
      "[1/30] [1100/1417] mean_loss : 3.601, state_loss : 0.185, gen_loss : 1.925, dom_loss : 1.298\n"
     ]
    },
    {
     "name": "stderr",
     "output_type": "stream",
     "text": [
      " 85%|████████▍ | 1201/1417 [09:22<01:40,  2.15it/s]"
     ]
    },
    {
     "name": "stdout",
     "output_type": "stream",
     "text": [
      "[1/30] [1200/1417] mean_loss : 3.359, state_loss : 0.172, gen_loss : 1.922, dom_loss : 1.373\n"
     ]
    },
    {
     "name": "stderr",
     "output_type": "stream",
     "text": [
      " 92%|█████████▏| 1301/1417 [10:07<00:58,  1.98it/s]"
     ]
    },
    {
     "name": "stdout",
     "output_type": "stream",
     "text": [
      "[1/30] [1300/1417] mean_loss : 3.094, state_loss : 0.148, gen_loss : 1.411, dom_loss : 1.081\n"
     ]
    },
    {
     "name": "stderr",
     "output_type": "stream",
     "text": [
      " 99%|█████████▉| 1401/1417 [10:53<00:07,  2.06it/s]"
     ]
    },
    {
     "name": "stdout",
     "output_type": "stream",
     "text": [
      "[1/30] [1400/1417] mean_loss : 2.703, state_loss : 0.161, gen_loss : 1.080, dom_loss : 0.717\n"
     ]
    },
    {
     "name": "stderr",
     "output_type": "stream",
     "text": [
      "100%|██████████| 1417/1417 [11:00<00:00,  2.14it/s]\n",
      "100%|██████████| 5067/5067 [01:05<00:00, 77.95it/s]\n",
      "  0%|          | 0/1417 [00:00<?, ?it/s]"
     ]
    },
    {
     "name": "stdout",
     "output_type": "stream",
     "text": [
      "------------------------------\n",
      "op_code: 4, is_gt_op: False, is_gt_p_state: False, is_gt_gen: False\n",
      "Epoch 1 joint accuracy :  0.0\n",
      "Epoch 1 slot turn accuracy :  0.8140824068591884\n",
      "Epoch 1 slot turn F1:  0.0\n",
      "Epoch 1 op accuracy :  0.8140824068591884\n",
      "Epoch 1 op F1 :  {'delete': 0, 'update': 0, 'dontcare': 0, 'carryover': 0.8975142515919717}\n",
      "Epoch 1 op hit count :  {'delete': 0, 'update': 0, 'dontcare': 0, 'carryover': 185623}\n",
      "Epoch 1 op all count :  {'delete': 0, 'update': 36815, 'dontcare': 5577, 'carryover': 185623}\n",
      "Final Joint Accuracy :  0.0\n",
      "Final slot turn F1 :  0.0\n",
      "Latency Per Prediction : 7.907981 ms\n",
      "-----------------------------\n",
      "\n",
      "관광 0.0 0.936733574640782\n",
      "숙소 0.0 0.859153479994849\n",
      "식당 0.0 0.8675977423474603\n",
      "지하철 0.0 0.9528580603725081\n",
      "택시 0.0 0.9109692671394869\n",
      "Best Score :  {'epoch': 0, 'joint_acc': 0, 'op_acc': 0, 'final_slot_f1': 0}\n",
      "\n",
      "\n"
     ]
    },
    {
     "name": "stderr",
     "output_type": "stream",
     "text": [
      "  0%|          | 1/1417 [00:01<29:22,  1.24s/it]"
     ]
    },
    {
     "name": "stdout",
     "output_type": "stream",
     "text": [
      "[2/30] [0/1417] mean_loss : 2.232, state_loss : 0.153, gen_loss : 1.376, dom_loss : 0.703\n"
     ]
    },
    {
     "name": "stderr",
     "output_type": "stream",
     "text": [
      "  7%|▋         | 101/1417 [00:47<09:20,  2.35it/s]"
     ]
    },
    {
     "name": "stdout",
     "output_type": "stream",
     "text": [
      "[2/30] [100/1417] mean_loss : 2.077, state_loss : 0.176, gen_loss : 1.238, dom_loss : 0.478\n"
     ]
    },
    {
     "name": "stderr",
     "output_type": "stream",
     "text": [
      " 14%|█▍        | 201/1417 [01:34<09:31,  2.13it/s]"
     ]
    },
    {
     "name": "stdout",
     "output_type": "stream",
     "text": [
      "[2/30] [200/1417] mean_loss : 1.729, state_loss : 0.141, gen_loss : 1.124, dom_loss : 0.310\n"
     ]
    },
    {
     "name": "stderr",
     "output_type": "stream",
     "text": [
      " 21%|██        | 301/1417 [02:19<08:07,  2.29it/s]"
     ]
    },
    {
     "name": "stdout",
     "output_type": "stream",
     "text": [
      "[2/30] [300/1417] mean_loss : 1.639, state_loss : 0.163, gen_loss : 0.800, dom_loss : 0.139\n"
     ]
    },
    {
     "name": "stderr",
     "output_type": "stream",
     "text": [
      " 28%|██▊       | 401/1417 [03:08<08:00,  2.11it/s]"
     ]
    },
    {
     "name": "stdout",
     "output_type": "stream",
     "text": [
      "[2/30] [400/1417] mean_loss : 1.484, state_loss : 0.138, gen_loss : 1.233, dom_loss : 0.218\n"
     ]
    },
    {
     "name": "stderr",
     "output_type": "stream",
     "text": [
      " 35%|███▌      | 501/1417 [03:55<06:45,  2.26it/s]"
     ]
    },
    {
     "name": "stdout",
     "output_type": "stream",
     "text": [
      "[2/30] [500/1417] mean_loss : 1.344, state_loss : 0.156, gen_loss : 0.627, dom_loss : 0.122\n"
     ]
    },
    {
     "name": "stderr",
     "output_type": "stream",
     "text": [
      " 42%|████▏     | 601/1417 [04:41<06:28,  2.10it/s]"
     ]
    },
    {
     "name": "stdout",
     "output_type": "stream",
     "text": [
      "[2/30] [600/1417] mean_loss : 1.259, state_loss : 0.156, gen_loss : 1.017, dom_loss : 0.105\n"
     ]
    },
    {
     "name": "stderr",
     "output_type": "stream",
     "text": [
      " 49%|████▉     | 701/1417 [05:27<05:46,  2.06it/s]"
     ]
    },
    {
     "name": "stdout",
     "output_type": "stream",
     "text": [
      "[2/30] [700/1417] mean_loss : 1.197, state_loss : 0.158, gen_loss : 1.106, dom_loss : 0.085\n"
     ]
    },
    {
     "name": "stderr",
     "output_type": "stream",
     "text": [
      " 57%|█████▋    | 801/1417 [06:17<04:30,  2.27it/s]"
     ]
    },
    {
     "name": "stdout",
     "output_type": "stream",
     "text": [
      "[2/30] [800/1417] mean_loss : 1.134, state_loss : 0.133, gen_loss : 0.981, dom_loss : 0.181\n"
     ]
    },
    {
     "name": "stderr",
     "output_type": "stream",
     "text": [
      " 64%|██████▎   | 901/1417 [07:03<03:44,  2.30it/s]"
     ]
    },
    {
     "name": "stdout",
     "output_type": "stream",
     "text": [
      "[2/30] [900/1417] mean_loss : 1.108, state_loss : 0.158, gen_loss : 0.667, dom_loss : 0.156\n"
     ]
    },
    {
     "name": "stderr",
     "output_type": "stream",
     "text": [
      " 71%|███████   | 1001/1417 [07:49<03:03,  2.27it/s]"
     ]
    },
    {
     "name": "stdout",
     "output_type": "stream",
     "text": [
      "[2/30] [1000/1417] mean_loss : 1.099, state_loss : 0.152, gen_loss : 0.561, dom_loss : 0.203\n"
     ]
    },
    {
     "name": "stderr",
     "output_type": "stream",
     "text": [
      " 78%|███████▊  | 1101/1417 [08:36<02:36,  2.01it/s]"
     ]
    },
    {
     "name": "stdout",
     "output_type": "stream",
     "text": [
      "[2/30] [1100/1417] mean_loss : 1.048, state_loss : 0.138, gen_loss : 0.923, dom_loss : 0.331\n"
     ]
    },
    {
     "name": "stderr",
     "output_type": "stream",
     "text": [
      " 85%|████████▍ | 1201/1417 [09:22<01:41,  2.13it/s]"
     ]
    },
    {
     "name": "stdout",
     "output_type": "stream",
     "text": [
      "[2/30] [1200/1417] mean_loss : 1.003, state_loss : 0.141, gen_loss : 0.740, dom_loss : 0.028\n"
     ]
    },
    {
     "name": "stderr",
     "output_type": "stream",
     "text": [
      " 92%|█████████▏| 1301/1417 [10:09<00:49,  2.36it/s]"
     ]
    },
    {
     "name": "stdout",
     "output_type": "stream",
     "text": [
      "[2/30] [1300/1417] mean_loss : 0.982, state_loss : 0.154, gen_loss : 0.538, dom_loss : 0.059\n"
     ]
    },
    {
     "name": "stderr",
     "output_type": "stream",
     "text": [
      " 99%|█████████▉| 1401/1417 [10:55<00:07,  2.19it/s]"
     ]
    },
    {
     "name": "stdout",
     "output_type": "stream",
     "text": [
      "[2/30] [1400/1417] mean_loss : 0.983, state_loss : 0.121, gen_loss : 0.592, dom_loss : 0.247\n"
     ]
    },
    {
     "name": "stderr",
     "output_type": "stream",
     "text": [
      "100%|██████████| 1417/1417 [11:03<00:00,  2.14it/s]\n",
      "100%|██████████| 5067/5067 [01:05<00:00, 77.32it/s]\n",
      "  0%|          | 0/1417 [00:00<?, ?it/s]"
     ]
    },
    {
     "name": "stdout",
     "output_type": "stream",
     "text": [
      "------------------------------\n",
      "op_code: 4, is_gt_op: False, is_gt_p_state: False, is_gt_gen: False\n",
      "Epoch 2 joint accuracy :  0.0\n",
      "Epoch 2 slot turn accuracy :  0.8140824068591884\n",
      "Epoch 2 slot turn F1:  0.0\n",
      "Epoch 2 op accuracy :  0.8140824068591884\n",
      "Epoch 2 op F1 :  {'delete': 0, 'update': 0, 'dontcare': 0, 'carryover': 0.8975142515919717}\n",
      "Epoch 2 op hit count :  {'delete': 0, 'update': 0, 'dontcare': 0, 'carryover': 185623}\n",
      "Epoch 2 op all count :  {'delete': 0, 'update': 36815, 'dontcare': 5577, 'carryover': 185623}\n",
      "Final Joint Accuracy :  0.0\n",
      "Final slot turn F1 :  0.0\n",
      "Latency Per Prediction : 7.949001 ms\n",
      "-----------------------------\n",
      "\n",
      "관광 0.0 0.936733574640782\n",
      "숙소 0.0 0.859153479994849\n",
      "식당 0.0 0.8675977423474603\n",
      "지하철 0.0 0.9528580603725081\n",
      "택시 0.0 0.9109692671394869\n",
      "Best Score :  {'epoch': 0, 'joint_acc': 0, 'op_acc': 0, 'final_slot_f1': 0}\n",
      "\n",
      "\n"
     ]
    },
    {
     "name": "stderr",
     "output_type": "stream",
     "text": [
      "  0%|          | 1/1417 [00:01<32:12,  1.37s/it]"
     ]
    },
    {
     "name": "stdout",
     "output_type": "stream",
     "text": [
      "[3/30] [0/1417] mean_loss : 1.429, state_loss : 0.127, gen_loss : 1.120, dom_loss : 0.183\n"
     ]
    },
    {
     "name": "stderr",
     "output_type": "stream",
     "text": [
      "  7%|▋         | 101/1417 [00:48<10:23,  2.11it/s]"
     ]
    },
    {
     "name": "stdout",
     "output_type": "stream",
     "text": [
      "[3/30] [100/1417] mean_loss : 0.938, state_loss : 0.154, gen_loss : 0.536, dom_loss : 0.206\n"
     ]
    },
    {
     "name": "stderr",
     "output_type": "stream",
     "text": [
      " 14%|█▍        | 201/1417 [01:34<09:39,  2.10it/s]"
     ]
    },
    {
     "name": "stdout",
     "output_type": "stream",
     "text": [
      "[3/30] [200/1417] mean_loss : 0.864, state_loss : 0.149, gen_loss : 0.443, dom_loss : 0.169\n"
     ]
    },
    {
     "name": "stderr",
     "output_type": "stream",
     "text": [
      " 21%|██        | 301/1417 [02:20<09:04,  2.05it/s]"
     ]
    },
    {
     "name": "stdout",
     "output_type": "stream",
     "text": [
      "[3/30] [300/1417] mean_loss : 0.858, state_loss : 0.118, gen_loss : 0.630, dom_loss : 0.101\n"
     ]
    },
    {
     "name": "stderr",
     "output_type": "stream",
     "text": [
      " 28%|██▊       | 401/1417 [03:07<08:03,  2.10it/s]"
     ]
    },
    {
     "name": "stdout",
     "output_type": "stream",
     "text": [
      "[3/30] [400/1417] mean_loss : 0.831, state_loss : 0.147, gen_loss : 0.565, dom_loss : 0.047\n"
     ]
    },
    {
     "name": "stderr",
     "output_type": "stream",
     "text": [
      " 35%|███▌      | 501/1417 [03:53<07:03,  2.16it/s]"
     ]
    },
    {
     "name": "stdout",
     "output_type": "stream",
     "text": [
      "[3/30] [500/1417] mean_loss : 0.777, state_loss : 0.119, gen_loss : 0.567, dom_loss : 0.080\n"
     ]
    },
    {
     "name": "stderr",
     "output_type": "stream",
     "text": [
      " 42%|████▏     | 601/1417 [04:39<06:00,  2.27it/s]"
     ]
    },
    {
     "name": "stdout",
     "output_type": "stream",
     "text": [
      "[3/30] [600/1417] mean_loss : 0.832, state_loss : 0.135, gen_loss : 0.178, dom_loss : 0.092\n"
     ]
    },
    {
     "name": "stderr",
     "output_type": "stream",
     "text": [
      " 49%|████▉     | 701/1417 [05:27<06:00,  1.98it/s]"
     ]
    },
    {
     "name": "stdout",
     "output_type": "stream",
     "text": [
      "[3/30] [700/1417] mean_loss : 0.854, state_loss : 0.129, gen_loss : 0.498, dom_loss : 0.098\n"
     ]
    },
    {
     "name": "stderr",
     "output_type": "stream",
     "text": [
      " 57%|█████▋    | 801/1417 [06:13<04:50,  2.12it/s]"
     ]
    },
    {
     "name": "stdout",
     "output_type": "stream",
     "text": [
      "[3/30] [800/1417] mean_loss : 0.816, state_loss : 0.127, gen_loss : 0.682, dom_loss : 0.005\n"
     ]
    },
    {
     "name": "stderr",
     "output_type": "stream",
     "text": [
      " 64%|██████▎   | 901/1417 [06:58<03:49,  2.25it/s]"
     ]
    },
    {
     "name": "stdout",
     "output_type": "stream",
     "text": [
      "[3/30] [900/1417] mean_loss : 0.766, state_loss : 0.111, gen_loss : 0.754, dom_loss : 0.113\n"
     ]
    },
    {
     "name": "stderr",
     "output_type": "stream",
     "text": [
      " 71%|███████   | 1001/1417 [07:43<03:21,  2.07it/s]"
     ]
    },
    {
     "name": "stdout",
     "output_type": "stream",
     "text": [
      "[3/30] [1000/1417] mean_loss : 0.766, state_loss : 0.107, gen_loss : 0.502, dom_loss : 0.135\n"
     ]
    },
    {
     "name": "stderr",
     "output_type": "stream",
     "text": [
      " 78%|███████▊  | 1101/1417 [08:29<02:19,  2.27it/s]"
     ]
    },
    {
     "name": "stdout",
     "output_type": "stream",
     "text": [
      "[3/30] [1100/1417] mean_loss : 0.778, state_loss : 0.108, gen_loss : 0.532, dom_loss : 0.044\n"
     ]
    },
    {
     "name": "stderr",
     "output_type": "stream",
     "text": [
      " 85%|████████▍ | 1201/1417 [09:16<01:42,  2.12it/s]"
     ]
    },
    {
     "name": "stdout",
     "output_type": "stream",
     "text": [
      "[3/30] [1200/1417] mean_loss : 0.756, state_loss : 0.105, gen_loss : 0.414, dom_loss : 0.024\n"
     ]
    },
    {
     "name": "stderr",
     "output_type": "stream",
     "text": [
      " 92%|█████████▏| 1301/1417 [10:02<00:52,  2.22it/s]"
     ]
    },
    {
     "name": "stdout",
     "output_type": "stream",
     "text": [
      "[3/30] [1300/1417] mean_loss : 0.750, state_loss : 0.085, gen_loss : 0.443, dom_loss : 0.316\n"
     ]
    },
    {
     "name": "stderr",
     "output_type": "stream",
     "text": [
      " 99%|█████████▉| 1401/1417 [10:47<00:07,  2.03it/s]"
     ]
    },
    {
     "name": "stdout",
     "output_type": "stream",
     "text": [
      "[3/30] [1400/1417] mean_loss : 0.750, state_loss : 0.087, gen_loss : 0.680, dom_loss : 0.017\n"
     ]
    },
    {
     "name": "stderr",
     "output_type": "stream",
     "text": [
      "100%|██████████| 1417/1417 [10:55<00:00,  2.16it/s]\n",
      "100%|██████████| 5067/5067 [01:40<00:00, 50.54it/s]\n"
     ]
    },
    {
     "name": "stdout",
     "output_type": "stream",
     "text": [
      "------------------------------\n",
      "op_code: 4, is_gt_op: False, is_gt_p_state: False, is_gt_gen: False\n",
      "Epoch 3 joint accuracy :  0.00019735543714229328\n",
      "Epoch 3 slot turn accuracy :  0.8239633357454517\n",
      "Epoch 3 slot turn F1:  0.31863268098197217\n",
      "Epoch 3 op accuracy :  0.825349209481829\n",
      "Epoch 3 op F1 :  {'delete': 0, 'update': 0.1568769321844373, 'dontcare': 0.09492635024549918, 'carryover': 0.9033600662034051}\n",
      "Epoch 3 op hit count :  {'delete': 0, 'update': 2385, 'dontcare': 232, 'carryover': 185575}\n",
      "Epoch 3 op all count :  {'delete': 9881, 'update': 26270, 'dontcare': 4391, 'carryover': 187473}\n",
      "Final Joint Accuracy :  0.0\n",
      "Final slot turn F1 :  0.329649466153481\n",
      "Latency Per Prediction : 14.665365 ms\n",
      "-----------------------------\n",
      "\n",
      "관광 0.0 0.9383349786113863\n",
      "숙소 0.0030876109610189118 0.9160855954371967\n",
      "식당 0.0037078235076010383 0.9107980060149077\n",
      "지하철 0.0 0.9528580603725081\n",
      "택시 0.0 0.9193380614657202\n"
     ]
    },
    {
     "name": "stderr",
     "output_type": "stream",
     "text": [
      "  0%|          | 0/1417 [00:00<?, ?it/s]"
     ]
    },
    {
     "name": "stdout",
     "output_type": "stream",
     "text": [
      "Best Score :  {'epoch': 3, 'joint_acc': 0.00019735543714229328, 'slot_acc': 0.8239633357454517, 'slot_f1': 0.31863268098197217, 'op_acc': 0.825349209481829, 'op_f1': {'delete': 0, 'update': 0.1568769321844373, 'dontcare': 0.09492635024549918, 'carryover': 0.9033600662034051}, 'final_slot_f1': 0.329649466153481}\n",
      "\n",
      "\n"
     ]
    },
    {
     "name": "stderr",
     "output_type": "stream",
     "text": [
      "  0%|          | 1/1417 [00:01<30:58,  1.31s/it]"
     ]
    },
    {
     "name": "stdout",
     "output_type": "stream",
     "text": [
      "[4/30] [0/1417] mean_loss : 1.012, state_loss : 0.102, gen_loss : 0.759, dom_loss : 0.151\n"
     ]
    },
    {
     "name": "stderr",
     "output_type": "stream",
     "text": [
      "  7%|▋         | 101/1417 [00:47<09:18,  2.36it/s]"
     ]
    },
    {
     "name": "stdout",
     "output_type": "stream",
     "text": [
      "[4/30] [100/1417] mean_loss : 0.684, state_loss : 0.061, gen_loss : 0.496, dom_loss : 0.514\n"
     ]
    },
    {
     "name": "stderr",
     "output_type": "stream",
     "text": [
      " 14%|█▍        | 201/1417 [01:35<09:16,  2.19it/s]"
     ]
    },
    {
     "name": "stdout",
     "output_type": "stream",
     "text": [
      "[4/30] [200/1417] mean_loss : 0.670, state_loss : 0.079, gen_loss : 0.449, dom_loss : 0.281\n"
     ]
    },
    {
     "name": "stderr",
     "output_type": "stream",
     "text": [
      " 21%|██        | 301/1417 [02:21<07:59,  2.33it/s]"
     ]
    },
    {
     "name": "stdout",
     "output_type": "stream",
     "text": [
      "[4/30] [300/1417] mean_loss : 0.683, state_loss : 0.071, gen_loss : 0.224, dom_loss : 0.046\n"
     ]
    },
    {
     "name": "stderr",
     "output_type": "stream",
     "text": [
      " 28%|██▊       | 401/1417 [03:07<07:40,  2.20it/s]"
     ]
    },
    {
     "name": "stdout",
     "output_type": "stream",
     "text": [
      "[4/30] [400/1417] mean_loss : 0.660, state_loss : 0.068, gen_loss : 0.372, dom_loss : 0.026\n"
     ]
    },
    {
     "name": "stderr",
     "output_type": "stream",
     "text": [
      " 35%|███▌      | 501/1417 [03:53<07:36,  2.01it/s]"
     ]
    },
    {
     "name": "stdout",
     "output_type": "stream",
     "text": [
      "[4/30] [500/1417] mean_loss : 0.692, state_loss : 0.084, gen_loss : 1.004, dom_loss : 0.128\n"
     ]
    },
    {
     "name": "stderr",
     "output_type": "stream",
     "text": [
      " 42%|████▏     | 601/1417 [04:40<06:40,  2.04it/s]"
     ]
    },
    {
     "name": "stdout",
     "output_type": "stream",
     "text": [
      "[4/30] [600/1417] mean_loss : 0.637, state_loss : 0.066, gen_loss : 0.599, dom_loss : 0.152\n"
     ]
    },
    {
     "name": "stderr",
     "output_type": "stream",
     "text": [
      " 49%|████▉     | 701/1417 [05:27<05:36,  2.13it/s]"
     ]
    },
    {
     "name": "stdout",
     "output_type": "stream",
     "text": [
      "[4/30] [700/1417] mean_loss : 0.615, state_loss : 0.060, gen_loss : 0.427, dom_loss : 0.227\n"
     ]
    },
    {
     "name": "stderr",
     "output_type": "stream",
     "text": [
      " 57%|█████▋    | 801/1417 [06:13<04:51,  2.11it/s]"
     ]
    },
    {
     "name": "stdout",
     "output_type": "stream",
     "text": [
      "[4/30] [800/1417] mean_loss : 0.623, state_loss : 0.063, gen_loss : 0.394, dom_loss : 0.015\n"
     ]
    },
    {
     "name": "stderr",
     "output_type": "stream",
     "text": [
      " 64%|██████▎   | 901/1417 [06:58<03:51,  2.22it/s]"
     ]
    },
    {
     "name": "stdout",
     "output_type": "stream",
     "text": [
      "[4/30] [900/1417] mean_loss : 0.609, state_loss : 0.060, gen_loss : 1.254, dom_loss : 0.027\n"
     ]
    },
    {
     "name": "stderr",
     "output_type": "stream",
     "text": [
      " 71%|███████   | 1001/1417 [07:45<03:39,  1.90it/s]"
     ]
    },
    {
     "name": "stdout",
     "output_type": "stream",
     "text": [
      "[4/30] [1000/1417] mean_loss : 0.599, state_loss : 0.058, gen_loss : 0.375, dom_loss : 0.279\n"
     ]
    },
    {
     "name": "stderr",
     "output_type": "stream",
     "text": [
      " 78%|███████▊  | 1101/1417 [08:32<02:31,  2.09it/s]"
     ]
    },
    {
     "name": "stdout",
     "output_type": "stream",
     "text": [
      "[4/30] [1100/1417] mean_loss : 0.560, state_loss : 0.043, gen_loss : 0.376, dom_loss : 0.060\n"
     ]
    },
    {
     "name": "stderr",
     "output_type": "stream",
     "text": [
      " 85%|████████▍ | 1201/1417 [09:19<01:43,  2.08it/s]"
     ]
    },
    {
     "name": "stdout",
     "output_type": "stream",
     "text": [
      "[4/30] [1200/1417] mean_loss : 0.574, state_loss : 0.062, gen_loss : 0.753, dom_loss : 0.080\n"
     ]
    },
    {
     "name": "stderr",
     "output_type": "stream",
     "text": [
      " 92%|█████████▏| 1301/1417 [10:06<00:59,  1.94it/s]"
     ]
    },
    {
     "name": "stdout",
     "output_type": "stream",
     "text": [
      "[4/30] [1300/1417] mean_loss : 0.574, state_loss : 0.046, gen_loss : 0.361, dom_loss : 0.113\n"
     ]
    },
    {
     "name": "stderr",
     "output_type": "stream",
     "text": [
      " 99%|█████████▉| 1401/1417 [10:53<00:07,  2.13it/s]"
     ]
    },
    {
     "name": "stdout",
     "output_type": "stream",
     "text": [
      "[4/30] [1400/1417] mean_loss : 0.544, state_loss : 0.046, gen_loss : 0.671, dom_loss : 0.013\n"
     ]
    },
    {
     "name": "stderr",
     "output_type": "stream",
     "text": [
      "100%|██████████| 1417/1417 [11:00<00:00,  2.15it/s]\n",
      "100%|██████████| 5067/5067 [02:05<00:00, 40.46it/s]\n"
     ]
    },
    {
     "name": "stdout",
     "output_type": "stream",
     "text": [
      "------------------------------\n",
      "op_code: 4, is_gt_op: False, is_gt_p_state: False, is_gt_gen: False\n",
      "Epoch 4 joint accuracy :  0.12551805802249852\n",
      "Epoch 4 slot turn accuracy :  0.9099796066048386\n",
      "Epoch 4 slot turn F1:  0.6946555617476208\n",
      "Epoch 4 op accuracy :  0.913330263359877\n",
      "Epoch 4 op F1 :  {'delete': 0, 'update': 0.5485375158965663, 'dontcare': 0.4087719298245614, 'carryover': 0.9537950908613806}\n",
      "Epoch 4 op hit count :  {'delete': 0, 'update': 5823, 'dontcare': 699, 'carryover': 201731}\n",
      "Epoch 4 op all count :  {'delete': 8372, 'update': 14332, 'dontcare': 2519, 'carryover': 202792}\n",
      "Final Joint Accuracy :  0.032904148783977114\n",
      "Final slot turn F1 :  0.6755556014451948\n",
      "Latency Per Prediction : 19.581614 ms\n",
      "-----------------------------\n",
      "\n",
      "관광 0.27788746298124384 0.974421410551732\n",
      "숙소 0.2377460439984562 0.9591834984347559\n",
      "식당 0.1631442343344457 0.9549375849709615\n",
      "지하철 0.27167630057803466 0.9762363519588947\n",
      "택시 0.04680851063829787 0.9506146572103923\n"
     ]
    },
    {
     "name": "stderr",
     "output_type": "stream",
     "text": [
      "  0%|          | 0/1417 [00:00<?, ?it/s]"
     ]
    },
    {
     "name": "stdout",
     "output_type": "stream",
     "text": [
      "Best Score :  {'epoch': 4, 'joint_acc': 0.12551805802249852, 'slot_acc': 0.9099796066048386, 'slot_f1': 0.6946555617476208, 'op_acc': 0.913330263359877, 'op_f1': {'delete': 0, 'update': 0.5485375158965663, 'dontcare': 0.4087719298245614, 'carryover': 0.9537950908613806}, 'final_slot_f1': 0.6755556014451948}\n",
      "\n",
      "\n"
     ]
    },
    {
     "name": "stderr",
     "output_type": "stream",
     "text": [
      "  0%|          | 1/1417 [00:01<30:23,  1.29s/it]"
     ]
    },
    {
     "name": "stdout",
     "output_type": "stream",
     "text": [
      "[5/30] [0/1417] mean_loss : 0.771, state_loss : 0.047, gen_loss : 0.716, dom_loss : 0.009\n"
     ]
    },
    {
     "name": "stderr",
     "output_type": "stream",
     "text": [
      "  7%|▋         | 101/1417 [00:47<09:41,  2.26it/s]"
     ]
    },
    {
     "name": "stdout",
     "output_type": "stream",
     "text": [
      "[5/30] [100/1417] mean_loss : 0.514, state_loss : 0.027, gen_loss : 0.546, dom_loss : 0.108\n"
     ]
    },
    {
     "name": "stderr",
     "output_type": "stream",
     "text": [
      " 14%|█▍        | 201/1417 [01:33<09:05,  2.23it/s]"
     ]
    },
    {
     "name": "stdout",
     "output_type": "stream",
     "text": [
      "[5/30] [200/1417] mean_loss : 0.482, state_loss : 0.047, gen_loss : 0.236, dom_loss : 0.023\n"
     ]
    },
    {
     "name": "stderr",
     "output_type": "stream",
     "text": [
      " 21%|██        | 301/1417 [02:19<08:34,  2.17it/s]"
     ]
    },
    {
     "name": "stdout",
     "output_type": "stream",
     "text": [
      "[5/30] [300/1417] mean_loss : 0.471, state_loss : 0.033, gen_loss : 0.335, dom_loss : 0.014\n"
     ]
    },
    {
     "name": "stderr",
     "output_type": "stream",
     "text": [
      " 28%|██▊       | 401/1417 [03:06<07:47,  2.17it/s]"
     ]
    },
    {
     "name": "stdout",
     "output_type": "stream",
     "text": [
      "[5/30] [400/1417] mean_loss : 0.497, state_loss : 0.061, gen_loss : 0.330, dom_loss : 0.002\n"
     ]
    },
    {
     "name": "stderr",
     "output_type": "stream",
     "text": [
      " 35%|███▌      | 501/1417 [03:52<07:04,  2.16it/s]"
     ]
    },
    {
     "name": "stdout",
     "output_type": "stream",
     "text": [
      "[5/30] [500/1417] mean_loss : 0.503, state_loss : 0.036, gen_loss : 0.391, dom_loss : 0.018\n"
     ]
    },
    {
     "name": "stderr",
     "output_type": "stream",
     "text": [
      " 42%|████▏     | 601/1417 [04:39<05:56,  2.29it/s]"
     ]
    },
    {
     "name": "stdout",
     "output_type": "stream",
     "text": [
      "[5/30] [600/1417] mean_loss : 0.514, state_loss : 0.029, gen_loss : 0.618, dom_loss : 0.025\n"
     ]
    },
    {
     "name": "stderr",
     "output_type": "stream",
     "text": [
      " 49%|████▉     | 701/1417 [05:26<05:32,  2.15it/s]"
     ]
    },
    {
     "name": "stdout",
     "output_type": "stream",
     "text": [
      "[5/30] [700/1417] mean_loss : 0.493, state_loss : 0.028, gen_loss : 0.349, dom_loss : 0.113\n"
     ]
    },
    {
     "name": "stderr",
     "output_type": "stream",
     "text": [
      " 57%|█████▋    | 801/1417 [06:12<04:29,  2.29it/s]"
     ]
    },
    {
     "name": "stdout",
     "output_type": "stream",
     "text": [
      "[5/30] [800/1417] mean_loss : 0.467, state_loss : 0.025, gen_loss : 0.343, dom_loss : 0.002\n"
     ]
    },
    {
     "name": "stderr",
     "output_type": "stream",
     "text": [
      " 64%|██████▎   | 901/1417 [06:59<04:05,  2.10it/s]"
     ]
    },
    {
     "name": "stdout",
     "output_type": "stream",
     "text": [
      "[5/30] [900/1417] mean_loss : 0.485, state_loss : 0.027, gen_loss : 0.539, dom_loss : 0.036\n"
     ]
    },
    {
     "name": "stderr",
     "output_type": "stream",
     "text": [
      " 71%|███████   | 1001/1417 [07:45<03:31,  1.97it/s]"
     ]
    },
    {
     "name": "stdout",
     "output_type": "stream",
     "text": [
      "[5/30] [1000/1417] mean_loss : 0.464, state_loss : 0.027, gen_loss : 0.460, dom_loss : 0.011\n"
     ]
    },
    {
     "name": "stderr",
     "output_type": "stream",
     "text": [
      " 78%|███████▊  | 1101/1417 [08:32<02:22,  2.21it/s]"
     ]
    },
    {
     "name": "stdout",
     "output_type": "stream",
     "text": [
      "[5/30] [1100/1417] mean_loss : 0.463, state_loss : 0.055, gen_loss : 0.405, dom_loss : 0.003\n"
     ]
    },
    {
     "name": "stderr",
     "output_type": "stream",
     "text": [
      " 85%|████████▍ | 1201/1417 [09:19<01:43,  2.09it/s]"
     ]
    },
    {
     "name": "stdout",
     "output_type": "stream",
     "text": [
      "[5/30] [1200/1417] mean_loss : 0.454, state_loss : 0.028, gen_loss : 0.254, dom_loss : 0.090\n"
     ]
    },
    {
     "name": "stderr",
     "output_type": "stream",
     "text": [
      " 92%|█████████▏| 1301/1417 [10:04<00:51,  2.26it/s]"
     ]
    },
    {
     "name": "stdout",
     "output_type": "stream",
     "text": [
      "[5/30] [1300/1417] mean_loss : 0.454, state_loss : 0.026, gen_loss : 0.156, dom_loss : 0.162\n"
     ]
    },
    {
     "name": "stderr",
     "output_type": "stream",
     "text": [
      " 99%|█████████▉| 1401/1417 [10:51<00:06,  2.35it/s]"
     ]
    },
    {
     "name": "stdout",
     "output_type": "stream",
     "text": [
      "[5/30] [1400/1417] mean_loss : 0.466, state_loss : 0.052, gen_loss : 0.358, dom_loss : 0.007\n"
     ]
    },
    {
     "name": "stderr",
     "output_type": "stream",
     "text": [
      "100%|██████████| 1417/1417 [10:58<00:00,  2.15it/s]\n",
      "100%|██████████| 5067/5067 [02:11<00:00, 38.49it/s]\n"
     ]
    },
    {
     "name": "stdout",
     "output_type": "stream",
     "text": [
      "------------------------------\n",
      "op_code: 4, is_gt_op: False, is_gt_p_state: False, is_gt_gen: False\n",
      "Epoch 5 joint accuracy :  0.26228537596210777\n",
      "Epoch 5 slot turn accuracy :  0.9272810999276471\n",
      "Epoch 5 slot turn F1:  0.7731265445444843\n",
      "Epoch 5 op accuracy :  0.9297809354647819\n",
      "Epoch 5 op F1 :  {'delete': 0, 'update': 0.6390730205125528, 'dontcare': 0.5270494523730501, 'carryover': 0.9628567203209397}\n",
      "Epoch 5 op hit count :  {'delete': 0, 'update': 6122, 'dontcare': 794, 'carryover': 205088}\n",
      "Epoch 5 op all count :  {'delete': 7859, 'update': 12243, 'dontcare': 2032, 'carryover': 205881}\n",
      "Final Joint Accuracy :  0.11587982832618025\n",
      "Final slot turn F1 :  0.7491135462793441\n",
      "Latency Per Prediction : 20.827664 ms\n",
      "-----------------------------\n",
      "\n",
      "관광 0.4629812438302073 0.9822748711198958\n",
      "숙소 0.46931686607487455 0.9728804837257187\n",
      "식당 0.3018168335187245 0.9656408354962287\n",
      "지하철 0.49710982658959535 0.9835581245985867\n",
      "택시 0.12340425531914893 0.958156028368783\n"
     ]
    },
    {
     "name": "stderr",
     "output_type": "stream",
     "text": [
      "  0%|          | 0/1417 [00:00<?, ?it/s]"
     ]
    },
    {
     "name": "stdout",
     "output_type": "stream",
     "text": [
      "Best Score :  {'epoch': 5, 'joint_acc': 0.26228537596210777, 'slot_acc': 0.9272810999276471, 'slot_f1': 0.7731265445444843, 'op_acc': 0.9297809354647819, 'op_f1': {'delete': 0, 'update': 0.6390730205125528, 'dontcare': 0.5270494523730501, 'carryover': 0.9628567203209397}, 'final_slot_f1': 0.7491135462793441}\n",
      "\n",
      "\n"
     ]
    },
    {
     "name": "stderr",
     "output_type": "stream",
     "text": [
      "  0%|          | 1/1417 [00:01<27:47,  1.18s/it]"
     ]
    },
    {
     "name": "stdout",
     "output_type": "stream",
     "text": [
      "[6/30] [0/1417] mean_loss : 0.517, state_loss : 0.047, gen_loss : 0.467, dom_loss : 0.003\n"
     ]
    },
    {
     "name": "stderr",
     "output_type": "stream",
     "text": [
      "  7%|▋         | 101/1417 [00:49<11:00,  1.99it/s]"
     ]
    },
    {
     "name": "stdout",
     "output_type": "stream",
     "text": [
      "[6/30] [100/1417] mean_loss : 0.443, state_loss : 0.032, gen_loss : 0.327, dom_loss : 0.236\n"
     ]
    },
    {
     "name": "stderr",
     "output_type": "stream",
     "text": [
      " 14%|█▍        | 201/1417 [01:36<09:22,  2.16it/s]"
     ]
    },
    {
     "name": "stdout",
     "output_type": "stream",
     "text": [
      "[6/30] [200/1417] mean_loss : 0.411, state_loss : 0.020, gen_loss : 0.275, dom_loss : 0.006\n"
     ]
    },
    {
     "name": "stderr",
     "output_type": "stream",
     "text": [
      " 21%|██        | 301/1417 [02:22<09:01,  2.06it/s]"
     ]
    },
    {
     "name": "stdout",
     "output_type": "stream",
     "text": [
      "[6/30] [300/1417] mean_loss : 0.429, state_loss : 0.037, gen_loss : 0.771, dom_loss : 0.254\n"
     ]
    },
    {
     "name": "stderr",
     "output_type": "stream",
     "text": [
      " 28%|██▊       | 401/1417 [03:07<07:22,  2.30it/s]"
     ]
    },
    {
     "name": "stdout",
     "output_type": "stream",
     "text": [
      "[6/30] [400/1417] mean_loss : 0.414, state_loss : 0.029, gen_loss : 0.317, dom_loss : 0.003\n"
     ]
    },
    {
     "name": "stderr",
     "output_type": "stream",
     "text": [
      " 35%|███▌      | 501/1417 [03:53<06:59,  2.18it/s]"
     ]
    },
    {
     "name": "stdout",
     "output_type": "stream",
     "text": [
      "[6/30] [500/1417] mean_loss : 0.412, state_loss : 0.029, gen_loss : 0.225, dom_loss : 0.049\n"
     ]
    },
    {
     "name": "stderr",
     "output_type": "stream",
     "text": [
      " 42%|████▏     | 601/1417 [04:38<06:15,  2.18it/s]"
     ]
    },
    {
     "name": "stdout",
     "output_type": "stream",
     "text": [
      "[6/30] [600/1417] mean_loss : 0.427, state_loss : 0.014, gen_loss : 0.405, dom_loss : 0.008\n"
     ]
    },
    {
     "name": "stderr",
     "output_type": "stream",
     "text": [
      " 49%|████▉     | 701/1417 [05:24<05:32,  2.16it/s]"
     ]
    },
    {
     "name": "stdout",
     "output_type": "stream",
     "text": [
      "[6/30] [700/1417] mean_loss : 0.422, state_loss : 0.035, gen_loss : 0.201, dom_loss : 0.003\n"
     ]
    },
    {
     "name": "stderr",
     "output_type": "stream",
     "text": [
      " 57%|█████▋    | 801/1417 [06:10<04:53,  2.10it/s]"
     ]
    },
    {
     "name": "stdout",
     "output_type": "stream",
     "text": [
      "[6/30] [800/1417] mean_loss : 0.442, state_loss : 0.035, gen_loss : 0.234, dom_loss : 0.178\n"
     ]
    },
    {
     "name": "stderr",
     "output_type": "stream",
     "text": [
      " 64%|██████▎   | 901/1417 [06:56<03:58,  2.17it/s]"
     ]
    },
    {
     "name": "stdout",
     "output_type": "stream",
     "text": [
      "[6/30] [900/1417] mean_loss : 0.395, state_loss : 0.030, gen_loss : 0.489, dom_loss : 0.052\n"
     ]
    },
    {
     "name": "stderr",
     "output_type": "stream",
     "text": [
      " 71%|███████   | 1001/1417 [07:43<03:08,  2.21it/s]"
     ]
    },
    {
     "name": "stdout",
     "output_type": "stream",
     "text": [
      "[6/30] [1000/1417] mean_loss : 0.397, state_loss : 0.024, gen_loss : 0.429, dom_loss : 0.025\n"
     ]
    },
    {
     "name": "stderr",
     "output_type": "stream",
     "text": [
      " 78%|███████▊  | 1101/1417 [08:29<02:22,  2.22it/s]"
     ]
    },
    {
     "name": "stdout",
     "output_type": "stream",
     "text": [
      "[6/30] [1100/1417] mean_loss : 0.411, state_loss : 0.010, gen_loss : 0.271, dom_loss : 0.043\n"
     ]
    },
    {
     "name": "stderr",
     "output_type": "stream",
     "text": [
      " 85%|████████▍ | 1201/1417 [09:15<01:36,  2.25it/s]"
     ]
    },
    {
     "name": "stdout",
     "output_type": "stream",
     "text": [
      "[6/30] [1200/1417] mean_loss : 0.405, state_loss : 0.033, gen_loss : 0.525, dom_loss : 0.289\n"
     ]
    },
    {
     "name": "stderr",
     "output_type": "stream",
     "text": [
      " 92%|█████████▏| 1301/1417 [10:06<00:56,  2.04it/s]"
     ]
    },
    {
     "name": "stdout",
     "output_type": "stream",
     "text": [
      "[6/30] [1300/1417] mean_loss : 0.393, state_loss : 0.016, gen_loss : 0.206, dom_loss : 0.002\n"
     ]
    },
    {
     "name": "stderr",
     "output_type": "stream",
     "text": [
      " 99%|█████████▉| 1401/1417 [10:52<00:07,  2.07it/s]"
     ]
    },
    {
     "name": "stdout",
     "output_type": "stream",
     "text": [
      "[6/30] [1400/1417] mean_loss : 0.395, state_loss : 0.024, gen_loss : 0.378, dom_loss : 0.002\n"
     ]
    },
    {
     "name": "stderr",
     "output_type": "stream",
     "text": [
      "100%|██████████| 1417/1417 [11:00<00:00,  2.15it/s]\n",
      "100%|██████████| 5067/5067 [02:07<00:00, 39.70it/s]\n"
     ]
    },
    {
     "name": "stdout",
     "output_type": "stream",
     "text": [
      "------------------------------\n",
      "op_code: 4, is_gt_op: False, is_gt_p_state: False, is_gt_gen: False\n",
      "Epoch 6 joint accuracy :  0.31182159068482335\n",
      "Epoch 6 slot turn accuracy :  0.9305484288314435\n",
      "Epoch 6 slot turn F1:  0.7931678885837442\n",
      "Epoch 6 op accuracy :  0.9325702256430566\n",
      "Epoch 6 op F1 :  {'delete': 0, 'update': 0.6597604402719327, 'dontcare': 0.5923076923076923, 'carryover': 0.9642822817895194}\n",
      "Epoch 6 op hit count :  {'delete': 0, 'update': 6114, 'dontcare': 847, 'carryover': 205679}\n",
      "Epoch 6 op all count :  {'delete': 8041, 'update': 11599, 'dontcare': 1825, 'carryover': 206550}\n",
      "Final Joint Accuracy :  0.15021459227467812\n",
      "Final slot turn F1 :  0.7679511321705635\n",
      "Latency Per Prediction : 19.690318 ms\n",
      "-----------------------------\n",
      "\n",
      "관광 0.5518262586377097 0.9852034660524416\n",
      "숙소 0.5422616750289464 0.9767228440327642\n",
      "식당 0.40526510938079346 0.9728752111399466\n",
      "지하철 0.5260115606936416 0.9842003853564539\n",
      "택시 0.18936170212765957 0.9644208037824954\n"
     ]
    },
    {
     "name": "stderr",
     "output_type": "stream",
     "text": [
      "  0%|          | 0/1417 [00:00<?, ?it/s]"
     ]
    },
    {
     "name": "stdout",
     "output_type": "stream",
     "text": [
      "Best Score :  {'epoch': 6, 'joint_acc': 0.31182159068482335, 'slot_acc': 0.9305484288314435, 'slot_f1': 0.7931678885837442, 'op_acc': 0.9325702256430566, 'op_f1': {'delete': 0, 'update': 0.6597604402719327, 'dontcare': 0.5923076923076923, 'carryover': 0.9642822817895194}, 'final_slot_f1': 0.7679511321705635}\n",
      "\n",
      "\n"
     ]
    },
    {
     "name": "stderr",
     "output_type": "stream",
     "text": [
      "  0%|          | 1/1417 [00:01<33:14,  1.41s/it]"
     ]
    },
    {
     "name": "stdout",
     "output_type": "stream",
     "text": [
      "[7/30] [0/1417] mean_loss : 0.609, state_loss : 0.037, gen_loss : 0.555, dom_loss : 0.017\n"
     ]
    },
    {
     "name": "stderr",
     "output_type": "stream",
     "text": [
      "  7%|▋         | 101/1417 [00:46<10:19,  2.12it/s]"
     ]
    },
    {
     "name": "stdout",
     "output_type": "stream",
     "text": [
      "[7/30] [100/1417] mean_loss : 0.425, state_loss : 0.028, gen_loss : 0.293, dom_loss : 0.006\n"
     ]
    },
    {
     "name": "stderr",
     "output_type": "stream",
     "text": [
      " 14%|█▍        | 201/1417 [01:33<09:12,  2.20it/s]"
     ]
    },
    {
     "name": "stdout",
     "output_type": "stream",
     "text": [
      "[7/30] [200/1417] mean_loss : 0.383, state_loss : 0.045, gen_loss : 0.256, dom_loss : 0.117\n"
     ]
    },
    {
     "name": "stderr",
     "output_type": "stream",
     "text": [
      " 21%|██        | 301/1417 [02:19<08:23,  2.22it/s]"
     ]
    },
    {
     "name": "stdout",
     "output_type": "stream",
     "text": [
      "[7/30] [300/1417] mean_loss : 0.370, state_loss : 0.038, gen_loss : 0.290, dom_loss : 0.058\n"
     ]
    },
    {
     "name": "stderr",
     "output_type": "stream",
     "text": [
      " 28%|██▊       | 401/1417 [03:06<07:37,  2.22it/s]"
     ]
    },
    {
     "name": "stdout",
     "output_type": "stream",
     "text": [
      "[7/30] [400/1417] mean_loss : 0.352, state_loss : 0.026, gen_loss : 0.665, dom_loss : 0.051\n"
     ]
    },
    {
     "name": "stderr",
     "output_type": "stream",
     "text": [
      " 35%|███▌      | 501/1417 [03:52<06:49,  2.24it/s]"
     ]
    },
    {
     "name": "stdout",
     "output_type": "stream",
     "text": [
      "[7/30] [500/1417] mean_loss : 0.386, state_loss : 0.014, gen_loss : 0.262, dom_loss : 0.007\n"
     ]
    },
    {
     "name": "stderr",
     "output_type": "stream",
     "text": [
      " 42%|████▏     | 601/1417 [04:38<06:27,  2.10it/s]"
     ]
    },
    {
     "name": "stdout",
     "output_type": "stream",
     "text": [
      "[7/30] [600/1417] mean_loss : 0.370, state_loss : 0.028, gen_loss : 0.136, dom_loss : 0.017\n"
     ]
    },
    {
     "name": "stderr",
     "output_type": "stream",
     "text": [
      " 49%|████▉     | 701/1417 [05:25<05:06,  2.34it/s]"
     ]
    },
    {
     "name": "stdout",
     "output_type": "stream",
     "text": [
      "[7/30] [700/1417] mean_loss : 0.337, state_loss : 0.023, gen_loss : 0.162, dom_loss : 0.001\n"
     ]
    },
    {
     "name": "stderr",
     "output_type": "stream",
     "text": [
      " 57%|█████▋    | 801/1417 [06:11<04:56,  2.08it/s]"
     ]
    },
    {
     "name": "stdout",
     "output_type": "stream",
     "text": [
      "[7/30] [800/1417] mean_loss : 0.354, state_loss : 0.018, gen_loss : 0.183, dom_loss : 0.003\n"
     ]
    },
    {
     "name": "stderr",
     "output_type": "stream",
     "text": [
      " 64%|██████▎   | 901/1417 [06:57<03:43,  2.30it/s]"
     ]
    },
    {
     "name": "stdout",
     "output_type": "stream",
     "text": [
      "[7/30] [900/1417] mean_loss : 0.370, state_loss : 0.030, gen_loss : 0.322, dom_loss : 0.003\n"
     ]
    },
    {
     "name": "stderr",
     "output_type": "stream",
     "text": [
      " 71%|███████   | 1001/1417 [07:43<03:13,  2.15it/s]"
     ]
    },
    {
     "name": "stdout",
     "output_type": "stream",
     "text": [
      "[7/30] [1000/1417] mean_loss : 0.365, state_loss : 0.032, gen_loss : 0.222, dom_loss : 0.004\n"
     ]
    },
    {
     "name": "stderr",
     "output_type": "stream",
     "text": [
      " 78%|███████▊  | 1101/1417 [08:29<02:21,  2.23it/s]"
     ]
    },
    {
     "name": "stdout",
     "output_type": "stream",
     "text": [
      "[7/30] [1100/1417] mean_loss : 0.336, state_loss : 0.018, gen_loss : 0.161, dom_loss : 0.004\n"
     ]
    },
    {
     "name": "stderr",
     "output_type": "stream",
     "text": [
      " 85%|████████▍ | 1201/1417 [09:16<01:41,  2.13it/s]"
     ]
    },
    {
     "name": "stdout",
     "output_type": "stream",
     "text": [
      "[7/30] [1200/1417] mean_loss : 0.363, state_loss : 0.016, gen_loss : 0.153, dom_loss : 0.014\n"
     ]
    },
    {
     "name": "stderr",
     "output_type": "stream",
     "text": [
      " 92%|█████████▏| 1301/1417 [10:02<00:53,  2.16it/s]"
     ]
    },
    {
     "name": "stdout",
     "output_type": "stream",
     "text": [
      "[7/30] [1300/1417] mean_loss : 0.366, state_loss : 0.026, gen_loss : 0.229, dom_loss : 0.007\n"
     ]
    },
    {
     "name": "stderr",
     "output_type": "stream",
     "text": [
      " 99%|█████████▉| 1401/1417 [10:49<00:06,  2.31it/s]"
     ]
    },
    {
     "name": "stdout",
     "output_type": "stream",
     "text": [
      "[7/30] [1400/1417] mean_loss : 0.403, state_loss : 0.022, gen_loss : 0.323, dom_loss : 0.011\n"
     ]
    },
    {
     "name": "stderr",
     "output_type": "stream",
     "text": [
      "100%|██████████| 1417/1417 [10:56<00:00,  2.16it/s]\n",
      "100%|██████████| 5067/5067 [02:04<00:00, 40.58it/s]\n"
     ]
    },
    {
     "name": "stdout",
     "output_type": "stream",
     "text": [
      "------------------------------\n",
      "op_code: 4, is_gt_op: False, is_gt_p_state: False, is_gt_gen: False\n",
      "Epoch 7 joint accuracy :  0.36096309453325437\n",
      "Epoch 7 slot turn accuracy :  0.937890051093135\n",
      "Epoch 7 slot turn F1:  0.8110898787912727\n",
      "Epoch 7 op accuracy :  0.9399381619630329\n",
      "Epoch 7 op F1 :  {'delete': 0, 'update': 0.6997371511660422, 'dontcare': 0.5830698981383913, 'carryover': 0.9683130427469038}\n",
      "Epoch 7 op hit count :  {'delete': 0, 'update': 6256, 'dontcare': 830, 'carryover': 207234}\n",
      "Epoch 7 op all count :  {'delete': 7271, 'update': 11031, 'dontcare': 1841, 'carryover': 207872}\n",
      "Final Joint Accuracy :  0.2117310443490701\n",
      "Final slot turn F1 :  0.7909475398202361\n",
      "Latency Per Prediction : 19.553648 ms\n",
      "-----------------------------\n",
      "\n",
      "관광 0.6031589338598223 0.986947460787548\n",
      "숙소 0.5912774990351216 0.9785496805180328\n",
      "식당 0.40304041527623286 0.9724385119268297\n",
      "지하철 0.5491329479768786 0.9865125240847782\n",
      "택시 0.20212765957446807 0.9660283687943176\n"
     ]
    },
    {
     "name": "stderr",
     "output_type": "stream",
     "text": [
      "  0%|          | 0/1417 [00:00<?, ?it/s]"
     ]
    },
    {
     "name": "stdout",
     "output_type": "stream",
     "text": [
      "Best Score :  {'epoch': 7, 'joint_acc': 0.36096309453325437, 'slot_acc': 0.937890051093135, 'slot_f1': 0.8110898787912727, 'op_acc': 0.9399381619630329, 'op_f1': {'delete': 0, 'update': 0.6997371511660422, 'dontcare': 0.5830698981383913, 'carryover': 0.9683130427469038}, 'final_slot_f1': 0.7909475398202361}\n",
      "\n",
      "\n"
     ]
    },
    {
     "name": "stderr",
     "output_type": "stream",
     "text": [
      "  0%|          | 1/1417 [00:01<31:58,  1.35s/it]"
     ]
    },
    {
     "name": "stdout",
     "output_type": "stream",
     "text": [
      "[8/30] [0/1417] mean_loss : 0.205, state_loss : 0.019, gen_loss : 0.184, dom_loss : 0.002\n"
     ]
    },
    {
     "name": "stderr",
     "output_type": "stream",
     "text": [
      "  7%|▋         | 101/1417 [00:49<11:57,  1.83it/s]"
     ]
    },
    {
     "name": "stdout",
     "output_type": "stream",
     "text": [
      "[8/30] [100/1417] mean_loss : 0.353, state_loss : 0.034, gen_loss : 0.304, dom_loss : 0.001\n"
     ]
    },
    {
     "name": "stderr",
     "output_type": "stream",
     "text": [
      " 14%|█▍        | 201/1417 [01:35<09:26,  2.15it/s]"
     ]
    },
    {
     "name": "stdout",
     "output_type": "stream",
     "text": [
      "[8/30] [200/1417] mean_loss : 0.316, state_loss : 0.030, gen_loss : 0.181, dom_loss : 0.019\n"
     ]
    },
    {
     "name": "stderr",
     "output_type": "stream",
     "text": [
      " 21%|██        | 301/1417 [02:22<08:16,  2.25it/s]"
     ]
    },
    {
     "name": "stdout",
     "output_type": "stream",
     "text": [
      "[8/30] [300/1417] mean_loss : 0.356, state_loss : 0.033, gen_loss : 0.182, dom_loss : 0.095\n"
     ]
    },
    {
     "name": "stderr",
     "output_type": "stream",
     "text": [
      " 28%|██▊       | 401/1417 [03:08<07:23,  2.29it/s]"
     ]
    },
    {
     "name": "stdout",
     "output_type": "stream",
     "text": [
      "[8/30] [400/1417] mean_loss : 0.355, state_loss : 0.015, gen_loss : 0.304, dom_loss : 0.016\n"
     ]
    },
    {
     "name": "stderr",
     "output_type": "stream",
     "text": [
      " 35%|███▌      | 501/1417 [03:54<07:03,  2.16it/s]"
     ]
    },
    {
     "name": "stdout",
     "output_type": "stream",
     "text": [
      "[8/30] [500/1417] mean_loss : 0.322, state_loss : 0.027, gen_loss : 0.133, dom_loss : 0.022\n"
     ]
    },
    {
     "name": "stderr",
     "output_type": "stream",
     "text": [
      " 42%|████▏     | 601/1417 [04:40<06:01,  2.26it/s]"
     ]
    },
    {
     "name": "stdout",
     "output_type": "stream",
     "text": [
      "[8/30] [600/1417] mean_loss : 0.337, state_loss : 0.022, gen_loss : 0.516, dom_loss : 0.114\n"
     ]
    },
    {
     "name": "stderr",
     "output_type": "stream",
     "text": [
      " 49%|████▉     | 701/1417 [05:28<06:37,  1.80it/s]"
     ]
    },
    {
     "name": "stdout",
     "output_type": "stream",
     "text": [
      "[8/30] [700/1417] mean_loss : 0.325, state_loss : 0.021, gen_loss : 0.292, dom_loss : 0.002\n"
     ]
    },
    {
     "name": "stderr",
     "output_type": "stream",
     "text": [
      " 57%|█████▋    | 801/1417 [06:14<04:53,  2.10it/s]"
     ]
    },
    {
     "name": "stdout",
     "output_type": "stream",
     "text": [
      "[8/30] [800/1417] mean_loss : 0.336, state_loss : 0.014, gen_loss : 0.182, dom_loss : 0.021\n"
     ]
    },
    {
     "name": "stderr",
     "output_type": "stream",
     "text": [
      " 64%|██████▎   | 901/1417 [07:00<04:11,  2.05it/s]"
     ]
    },
    {
     "name": "stdout",
     "output_type": "stream",
     "text": [
      "[8/30] [900/1417] mean_loss : 0.332, state_loss : 0.022, gen_loss : 0.201, dom_loss : 0.079\n"
     ]
    },
    {
     "name": "stderr",
     "output_type": "stream",
     "text": [
      " 71%|███████   | 1001/1417 [07:47<03:07,  2.21it/s]"
     ]
    },
    {
     "name": "stdout",
     "output_type": "stream",
     "text": [
      "[8/30] [1000/1417] mean_loss : 0.321, state_loss : 0.014, gen_loss : 0.149, dom_loss : 0.024\n"
     ]
    },
    {
     "name": "stderr",
     "output_type": "stream",
     "text": [
      " 78%|███████▊  | 1101/1417 [08:33<02:26,  2.16it/s]"
     ]
    },
    {
     "name": "stdout",
     "output_type": "stream",
     "text": [
      "[8/30] [1100/1417] mean_loss : 0.321, state_loss : 0.026, gen_loss : 0.297, dom_loss : 0.007\n"
     ]
    },
    {
     "name": "stderr",
     "output_type": "stream",
     "text": [
      " 85%|████████▍ | 1201/1417 [09:20<01:42,  2.11it/s]"
     ]
    },
    {
     "name": "stdout",
     "output_type": "stream",
     "text": [
      "[8/30] [1200/1417] mean_loss : 0.314, state_loss : 0.020, gen_loss : 0.181, dom_loss : 0.128\n"
     ]
    },
    {
     "name": "stderr",
     "output_type": "stream",
     "text": [
      " 92%|█████████▏| 1301/1417 [10:07<00:51,  2.26it/s]"
     ]
    },
    {
     "name": "stdout",
     "output_type": "stream",
     "text": [
      "[8/30] [1300/1417] mean_loss : 0.322, state_loss : 0.022, gen_loss : 0.123, dom_loss : 0.012\n"
     ]
    },
    {
     "name": "stderr",
     "output_type": "stream",
     "text": [
      " 99%|█████████▉| 1401/1417 [10:53<00:07,  2.26it/s]"
     ]
    },
    {
     "name": "stdout",
     "output_type": "stream",
     "text": [
      "[8/30] [1400/1417] mean_loss : 0.352, state_loss : 0.009, gen_loss : 0.147, dom_loss : 0.007\n"
     ]
    },
    {
     "name": "stderr",
     "output_type": "stream",
     "text": [
      "100%|██████████| 1417/1417 [11:01<00:00,  2.14it/s]\n",
      "100%|██████████| 5067/5067 [02:04<00:00, 40.67it/s]\n"
     ]
    },
    {
     "name": "stdout",
     "output_type": "stream",
     "text": [
      "------------------------------\n",
      "op_code: 4, is_gt_op: False, is_gt_p_state: False, is_gt_gen: False\n",
      "Epoch 8 joint accuracy :  0.39550029603315573\n",
      "Epoch 8 slot turn accuracy :  0.9414950770782687\n",
      "Epoch 8 slot turn F1:  0.8250331777240453\n",
      "Epoch 8 op accuracy :  0.9434774028024531\n",
      "Epoch 8 op F1 :  {'delete': 0, 'update': 0.7161081816635484, 'dontcare': 0.6477941176470587, 'carryover': 0.9701962266439901}\n",
      "Epoch 8 op hit count :  {'delete': 0, 'update': 6315, 'dontcare': 881, 'carryover': 207931}\n",
      "Epoch 8 op all count :  {'delete': 7036, 'update': 10809, 'dontcare': 1692, 'carryover': 208478}\n",
      "Final Joint Accuracy :  0.23319027181688126\n",
      "Final slot turn F1 :  0.8064463817319336\n",
      "Latency Per Prediction : 19.475394 ms\n",
      "-----------------------------\n",
      "\n",
      "관광 0.6604146100691016 0.9885159591971131\n",
      "숙소 0.6159783867232729 0.9804365538831022\n",
      "식당 0.4660734149054505 0.9757920322992587\n",
      "지하철 0.5664739884393064 0.9861271676300575\n",
      "택시 0.23191489361702128 0.9676832151300138\n"
     ]
    },
    {
     "name": "stderr",
     "output_type": "stream",
     "text": [
      "  0%|          | 0/1417 [00:00<?, ?it/s]"
     ]
    },
    {
     "name": "stdout",
     "output_type": "stream",
     "text": [
      "Best Score :  {'epoch': 8, 'joint_acc': 0.39550029603315573, 'slot_acc': 0.9414950770782687, 'slot_f1': 0.8250331777240453, 'op_acc': 0.9434774028024531, 'op_f1': {'delete': 0, 'update': 0.7161081816635484, 'dontcare': 0.6477941176470587, 'carryover': 0.9701962266439901}, 'final_slot_f1': 0.8064463817319336}\n",
      "\n",
      "\n"
     ]
    },
    {
     "name": "stderr",
     "output_type": "stream",
     "text": [
      "  0%|          | 1/1417 [00:01<31:45,  1.35s/it]"
     ]
    },
    {
     "name": "stdout",
     "output_type": "stream",
     "text": [
      "[9/30] [0/1417] mean_loss : 0.385, state_loss : 0.013, gen_loss : 0.363, dom_loss : 0.009\n"
     ]
    },
    {
     "name": "stderr",
     "output_type": "stream",
     "text": [
      "  7%|▋         | 101/1417 [00:47<10:33,  2.08it/s]"
     ]
    },
    {
     "name": "stdout",
     "output_type": "stream",
     "text": [
      "[9/30] [100/1417] mean_loss : 0.309, state_loss : 0.023, gen_loss : 0.282, dom_loss : 0.006\n"
     ]
    },
    {
     "name": "stderr",
     "output_type": "stream",
     "text": [
      " 14%|█▍        | 201/1417 [01:33<09:30,  2.13it/s]"
     ]
    },
    {
     "name": "stdout",
     "output_type": "stream",
     "text": [
      "[9/30] [200/1417] mean_loss : 0.320, state_loss : 0.021, gen_loss : 0.188, dom_loss : 0.007\n"
     ]
    },
    {
     "name": "stderr",
     "output_type": "stream",
     "text": [
      " 21%|██        | 301/1417 [02:19<08:36,  2.16it/s]"
     ]
    },
    {
     "name": "stdout",
     "output_type": "stream",
     "text": [
      "[9/30] [300/1417] mean_loss : 0.322, state_loss : 0.018, gen_loss : 0.296, dom_loss : 0.040\n"
     ]
    },
    {
     "name": "stderr",
     "output_type": "stream",
     "text": [
      " 28%|██▊       | 401/1417 [03:05<08:04,  2.10it/s]"
     ]
    },
    {
     "name": "stdout",
     "output_type": "stream",
     "text": [
      "[9/30] [400/1417] mean_loss : 0.297, state_loss : 0.020, gen_loss : 0.308, dom_loss : 0.046\n"
     ]
    },
    {
     "name": "stderr",
     "output_type": "stream",
     "text": [
      " 35%|███▌      | 501/1417 [03:52<06:33,  2.33it/s]"
     ]
    },
    {
     "name": "stdout",
     "output_type": "stream",
     "text": [
      "[9/30] [500/1417] mean_loss : 0.326, state_loss : 0.021, gen_loss : 0.099, dom_loss : 0.003\n"
     ]
    },
    {
     "name": "stderr",
     "output_type": "stream",
     "text": [
      " 42%|████▏     | 601/1417 [04:39<06:13,  2.18it/s]"
     ]
    },
    {
     "name": "stdout",
     "output_type": "stream",
     "text": [
      "[9/30] [600/1417] mean_loss : 0.318, state_loss : 0.021, gen_loss : 0.189, dom_loss : 0.089\n"
     ]
    },
    {
     "name": "stderr",
     "output_type": "stream",
     "text": [
      " 49%|████▉     | 701/1417 [05:26<05:29,  2.17it/s]"
     ]
    },
    {
     "name": "stdout",
     "output_type": "stream",
     "text": [
      "[9/30] [700/1417] mean_loss : 0.301, state_loss : 0.012, gen_loss : 0.336, dom_loss : 0.023\n"
     ]
    },
    {
     "name": "stderr",
     "output_type": "stream",
     "text": [
      " 57%|█████▋    | 801/1417 [06:12<04:38,  2.21it/s]"
     ]
    },
    {
     "name": "stdout",
     "output_type": "stream",
     "text": [
      "[9/30] [800/1417] mean_loss : 0.301, state_loss : 0.020, gen_loss : 0.104, dom_loss : 0.038\n"
     ]
    },
    {
     "name": "stderr",
     "output_type": "stream",
     "text": [
      " 64%|██████▎   | 901/1417 [06:59<03:55,  2.19it/s]"
     ]
    },
    {
     "name": "stdout",
     "output_type": "stream",
     "text": [
      "[9/30] [900/1417] mean_loss : 0.314, state_loss : 0.037, gen_loss : 0.236, dom_loss : 0.008\n"
     ]
    },
    {
     "name": "stderr",
     "output_type": "stream",
     "text": [
      " 71%|███████   | 1001/1417 [07:46<03:04,  2.25it/s]"
     ]
    },
    {
     "name": "stdout",
     "output_type": "stream",
     "text": [
      "[9/30] [1000/1417] mean_loss : 0.307, state_loss : 0.023, gen_loss : 0.381, dom_loss : 0.001\n"
     ]
    },
    {
     "name": "stderr",
     "output_type": "stream",
     "text": [
      " 78%|███████▊  | 1101/1417 [08:33<02:30,  2.10it/s]"
     ]
    },
    {
     "name": "stdout",
     "output_type": "stream",
     "text": [
      "[9/30] [1100/1417] mean_loss : 0.292, state_loss : 0.011, gen_loss : 0.309, dom_loss : 0.005\n"
     ]
    },
    {
     "name": "stderr",
     "output_type": "stream",
     "text": [
      " 85%|████████▍ | 1201/1417 [09:19<01:35,  2.26it/s]"
     ]
    },
    {
     "name": "stdout",
     "output_type": "stream",
     "text": [
      "[9/30] [1200/1417] mean_loss : 0.293, state_loss : 0.029, gen_loss : 0.175, dom_loss : 0.007\n"
     ]
    },
    {
     "name": "stderr",
     "output_type": "stream",
     "text": [
      " 92%|█████████▏| 1301/1417 [10:06<00:57,  2.01it/s]"
     ]
    },
    {
     "name": "stdout",
     "output_type": "stream",
     "text": [
      "[9/30] [1300/1417] mean_loss : 0.312, state_loss : 0.028, gen_loss : 0.390, dom_loss : 0.088\n"
     ]
    },
    {
     "name": "stderr",
     "output_type": "stream",
     "text": [
      " 99%|█████████▉| 1401/1417 [10:52<00:06,  2.29it/s]"
     ]
    },
    {
     "name": "stdout",
     "output_type": "stream",
     "text": [
      "[9/30] [1400/1417] mean_loss : 0.308, state_loss : 0.015, gen_loss : 0.453, dom_loss : 0.026\n"
     ]
    },
    {
     "name": "stderr",
     "output_type": "stream",
     "text": [
      "100%|██████████| 1417/1417 [11:00<00:00,  2.15it/s]\n",
      "100%|██████████| 5067/5067 [02:04<00:00, 40.57it/s]\n"
     ]
    },
    {
     "name": "stdout",
     "output_type": "stream",
     "text": [
      "------------------------------\n",
      "op_code: 4, is_gt_op: False, is_gt_p_state: False, is_gt_gen: False\n",
      "Epoch 9 joint accuracy :  0.4274718768502072\n",
      "Epoch 9 slot turn accuracy :  0.9451878165910221\n",
      "Epoch 9 slot turn F1:  0.8403108299822242\n",
      "Epoch 9 op accuracy :  0.9467929741464456\n",
      "Epoch 9 op F1 :  {'delete': 0, 'update': 0.745863435096714, 'dontcare': 0.7056574923547401, 'carryover': 0.971976772365453}\n",
      "Epoch 9 op hit count :  {'delete': 0, 'update': 6401, 'dontcare': 923, 'carryover': 208559}\n",
      "Epoch 9 op all count :  {'delete': 7106, 'update': 10255, 'dontcare': 1539, 'carryover': 209115}\n",
      "Final Joint Accuracy :  0.2861230329041488\n",
      "Final slot turn F1 :  0.8288262581968127\n",
      "Latency Per Prediction : 19.553097 ms\n",
      "-----------------------------\n",
      "\n",
      "관광 0.6584402764067128 0.9889985740923622\n",
      "숙소 0.6395214203010421 0.9819889360607196\n",
      "식당 0.5038932146829811 0.97857701973386\n",
      "지하철 0.6705202312138728 0.9889531149646755\n",
      "택시 0.26595744680851063 0.9714184397163037\n"
     ]
    },
    {
     "name": "stderr",
     "output_type": "stream",
     "text": [
      "  0%|          | 0/1417 [00:00<?, ?it/s]"
     ]
    },
    {
     "name": "stdout",
     "output_type": "stream",
     "text": [
      "Best Score :  {'epoch': 9, 'joint_acc': 0.4274718768502072, 'slot_acc': 0.9451878165910221, 'slot_f1': 0.8403108299822242, 'op_acc': 0.9467929741464456, 'op_f1': {'delete': 0, 'update': 0.745863435096714, 'dontcare': 0.7056574923547401, 'carryover': 0.971976772365453}, 'final_slot_f1': 0.8288262581968127}\n",
      "\n",
      "\n"
     ]
    },
    {
     "name": "stderr",
     "output_type": "stream",
     "text": [
      "  0%|          | 1/1417 [00:01<29:42,  1.26s/it]"
     ]
    },
    {
     "name": "stdout",
     "output_type": "stream",
     "text": [
      "[10/30] [0/1417] mean_loss : 0.378, state_loss : 0.013, gen_loss : 0.363, dom_loss : 0.002\n"
     ]
    },
    {
     "name": "stderr",
     "output_type": "stream",
     "text": [
      "  7%|▋         | 101/1417 [00:47<10:14,  2.14it/s]"
     ]
    },
    {
     "name": "stdout",
     "output_type": "stream",
     "text": [
      "[10/30] [100/1417] mean_loss : 0.291, state_loss : 0.014, gen_loss : 0.133, dom_loss : 0.003\n"
     ]
    },
    {
     "name": "stderr",
     "output_type": "stream",
     "text": [
      " 14%|█▍        | 201/1417 [01:34<10:20,  1.96it/s]"
     ]
    },
    {
     "name": "stdout",
     "output_type": "stream",
     "text": [
      "[10/30] [200/1417] mean_loss : 0.283, state_loss : 0.017, gen_loss : 0.254, dom_loss : 0.004\n"
     ]
    },
    {
     "name": "stderr",
     "output_type": "stream",
     "text": [
      " 21%|██        | 301/1417 [02:20<08:54,  2.09it/s]"
     ]
    },
    {
     "name": "stdout",
     "output_type": "stream",
     "text": [
      "[10/30] [300/1417] mean_loss : 0.269, state_loss : 0.046, gen_loss : 0.220, dom_loss : 0.010\n"
     ]
    },
    {
     "name": "stderr",
     "output_type": "stream",
     "text": [
      " 28%|██▊       | 401/1417 [03:08<07:34,  2.24it/s]"
     ]
    },
    {
     "name": "stdout",
     "output_type": "stream",
     "text": [
      "[10/30] [400/1417] mean_loss : 0.305, state_loss : 0.013, gen_loss : 0.181, dom_loss : 0.001\n"
     ]
    },
    {
     "name": "stderr",
     "output_type": "stream",
     "text": [
      " 35%|███▌      | 501/1417 [03:56<07:56,  1.92it/s]"
     ]
    },
    {
     "name": "stdout",
     "output_type": "stream",
     "text": [
      "[10/30] [500/1417] mean_loss : 0.291, state_loss : 0.012, gen_loss : 0.344, dom_loss : 0.000\n"
     ]
    },
    {
     "name": "stderr",
     "output_type": "stream",
     "text": [
      " 42%|████▏     | 601/1417 [04:42<06:20,  2.14it/s]"
     ]
    },
    {
     "name": "stdout",
     "output_type": "stream",
     "text": [
      "[10/30] [600/1417] mean_loss : 0.282, state_loss : 0.017, gen_loss : 0.162, dom_loss : 0.003\n"
     ]
    },
    {
     "name": "stderr",
     "output_type": "stream",
     "text": [
      " 49%|████▉     | 701/1417 [05:29<05:03,  2.36it/s]"
     ]
    },
    {
     "name": "stdout",
     "output_type": "stream",
     "text": [
      "[10/30] [700/1417] mean_loss : 0.269, state_loss : 0.028, gen_loss : 0.316, dom_loss : 0.085\n"
     ]
    },
    {
     "name": "stderr",
     "output_type": "stream",
     "text": [
      " 57%|█████▋    | 801/1417 [06:15<04:45,  2.16it/s]"
     ]
    },
    {
     "name": "stdout",
     "output_type": "stream",
     "text": [
      "[10/30] [800/1417] mean_loss : 0.283, state_loss : 0.020, gen_loss : 0.255, dom_loss : 0.002\n"
     ]
    },
    {
     "name": "stderr",
     "output_type": "stream",
     "text": [
      " 64%|██████▎   | 901/1417 [07:01<03:49,  2.25it/s]"
     ]
    },
    {
     "name": "stdout",
     "output_type": "stream",
     "text": [
      "[10/30] [900/1417] mean_loss : 0.280, state_loss : 0.023, gen_loss : 0.389, dom_loss : 0.054\n"
     ]
    },
    {
     "name": "stderr",
     "output_type": "stream",
     "text": [
      " 71%|███████   | 1001/1417 [07:47<03:03,  2.27it/s]"
     ]
    },
    {
     "name": "stdout",
     "output_type": "stream",
     "text": [
      "[10/30] [1000/1417] mean_loss : 0.287, state_loss : 0.022, gen_loss : 0.260, dom_loss : 0.006\n"
     ]
    },
    {
     "name": "stderr",
     "output_type": "stream",
     "text": [
      " 78%|███████▊  | 1101/1417 [08:34<02:13,  2.38it/s]"
     ]
    },
    {
     "name": "stdout",
     "output_type": "stream",
     "text": [
      "[10/30] [1100/1417] mean_loss : 0.284, state_loss : 0.018, gen_loss : 0.190, dom_loss : 0.004\n"
     ]
    },
    {
     "name": "stderr",
     "output_type": "stream",
     "text": [
      " 85%|████████▍ | 1201/1417 [09:20<01:50,  1.95it/s]"
     ]
    },
    {
     "name": "stdout",
     "output_type": "stream",
     "text": [
      "[10/30] [1200/1417] mean_loss : 0.268, state_loss : 0.021, gen_loss : 0.522, dom_loss : 0.026\n"
     ]
    },
    {
     "name": "stderr",
     "output_type": "stream",
     "text": [
      " 92%|█████████▏| 1301/1417 [10:07<00:59,  1.96it/s]"
     ]
    },
    {
     "name": "stdout",
     "output_type": "stream",
     "text": [
      "[10/30] [1300/1417] mean_loss : 0.311, state_loss : 0.018, gen_loss : 0.108, dom_loss : 0.015\n"
     ]
    },
    {
     "name": "stderr",
     "output_type": "stream",
     "text": [
      " 99%|█████████▉| 1401/1417 [10:53<00:07,  2.13it/s]"
     ]
    },
    {
     "name": "stdout",
     "output_type": "stream",
     "text": [
      "[10/30] [1400/1417] mean_loss : 0.282, state_loss : 0.012, gen_loss : 0.133, dom_loss : 0.003\n"
     ]
    },
    {
     "name": "stderr",
     "output_type": "stream",
     "text": [
      "100%|██████████| 1417/1417 [11:01<00:00,  2.14it/s]\n",
      "100%|██████████| 5067/5067 [02:06<00:00, 40.14it/s]\n"
     ]
    },
    {
     "name": "stdout",
     "output_type": "stream",
     "text": [
      "------------------------------\n",
      "op_code: 4, is_gt_op: False, is_gt_p_state: False, is_gt_gen: False\n",
      "Epoch 10 joint accuracy :  0.4361555160844681\n",
      "Epoch 10 slot turn accuracy :  0.943823871236551\n",
      "Epoch 10 slot turn F1:  0.83477079614944\n",
      "Epoch 10 op accuracy :  0.9456307699054977\n",
      "Epoch 10 op F1 :  {'delete': 0, 'update': 0.7241933631875072, 'dontcare': 0.7057471264367817, 'carryover': 0.9713204345981924}\n",
      "Epoch 10 op hit count :  {'delete': 0, 'update': 6307, 'dontcare': 921, 'carryover': 208390}\n",
      "Epoch 10 op all count :  {'delete': 6916, 'update': 10698, 'dontcare': 1544, 'carryover': 208857}\n",
      "Final Joint Accuracy :  0.28183118741058655\n",
      "Final slot turn F1 :  0.8207127856879352\n",
      "Latency Per Prediction : 19.729384 ms\n",
      "-----------------------------\n",
      "\n",
      "관광 0.6801579466929911 0.9894153778655334\n",
      "숙소 0.6437668853724431 0.9801363694841106\n",
      "식당 0.5131627734519837 0.9774317142503997\n",
      "지하철 0.6473988439306358 0.9884393063583812\n",
      "택시 0.25 0.9711111111111032\n"
     ]
    },
    {
     "name": "stderr",
     "output_type": "stream",
     "text": [
      "  0%|          | 0/1417 [00:00<?, ?it/s]"
     ]
    },
    {
     "name": "stdout",
     "output_type": "stream",
     "text": [
      "Best Score :  {'epoch': 10, 'joint_acc': 0.4361555160844681, 'slot_acc': 0.943823871236551, 'slot_f1': 0.83477079614944, 'op_acc': 0.9456307699054977, 'op_f1': {'delete': 0, 'update': 0.7241933631875072, 'dontcare': 0.7057471264367817, 'carryover': 0.9713204345981924}, 'final_slot_f1': 0.8207127856879352}\n",
      "\n",
      "\n"
     ]
    },
    {
     "name": "stderr",
     "output_type": "stream",
     "text": [
      "  0%|          | 1/1417 [00:01<30:45,  1.30s/it]"
     ]
    },
    {
     "name": "stdout",
     "output_type": "stream",
     "text": [
      "[11/30] [0/1417] mean_loss : 0.291, state_loss : 0.027, gen_loss : 0.258, dom_loss : 0.006\n"
     ]
    },
    {
     "name": "stderr",
     "output_type": "stream",
     "text": [
      "  7%|▋         | 101/1417 [00:46<09:36,  2.28it/s]"
     ]
    },
    {
     "name": "stdout",
     "output_type": "stream",
     "text": [
      "[11/30] [100/1417] mean_loss : 0.268, state_loss : 0.017, gen_loss : 0.255, dom_loss : 0.123\n"
     ]
    },
    {
     "name": "stderr",
     "output_type": "stream",
     "text": [
      " 14%|█▍        | 201/1417 [01:33<09:19,  2.17it/s]"
     ]
    },
    {
     "name": "stdout",
     "output_type": "stream",
     "text": [
      "[11/30] [200/1417] mean_loss : 0.274, state_loss : 0.017, gen_loss : 0.238, dom_loss : 0.024\n"
     ]
    },
    {
     "name": "stderr",
     "output_type": "stream",
     "text": [
      " 21%|██        | 301/1417 [02:19<08:27,  2.20it/s]"
     ]
    },
    {
     "name": "stdout",
     "output_type": "stream",
     "text": [
      "[11/30] [300/1417] mean_loss : 0.302, state_loss : 0.015, gen_loss : 0.207, dom_loss : 0.000\n"
     ]
    },
    {
     "name": "stderr",
     "output_type": "stream",
     "text": [
      " 28%|██▊       | 401/1417 [03:04<07:45,  2.18it/s]"
     ]
    },
    {
     "name": "stdout",
     "output_type": "stream",
     "text": [
      "[11/30] [400/1417] mean_loss : 0.266, state_loss : 0.015, gen_loss : 0.132, dom_loss : 0.007\n"
     ]
    },
    {
     "name": "stderr",
     "output_type": "stream",
     "text": [
      " 35%|███▌      | 501/1417 [03:51<07:26,  2.05it/s]"
     ]
    },
    {
     "name": "stdout",
     "output_type": "stream",
     "text": [
      "[11/30] [500/1417] mean_loss : 0.269, state_loss : 0.023, gen_loss : 0.205, dom_loss : 0.003\n"
     ]
    },
    {
     "name": "stderr",
     "output_type": "stream",
     "text": [
      " 42%|████▏     | 601/1417 [04:38<06:12,  2.19it/s]"
     ]
    },
    {
     "name": "stdout",
     "output_type": "stream",
     "text": [
      "[11/30] [600/1417] mean_loss : 0.252, state_loss : 0.016, gen_loss : 0.091, dom_loss : 0.025\n"
     ]
    },
    {
     "name": "stderr",
     "output_type": "stream",
     "text": [
      " 49%|████▉     | 701/1417 [05:25<05:53,  2.03it/s]"
     ]
    },
    {
     "name": "stdout",
     "output_type": "stream",
     "text": [
      "[11/30] [700/1417] mean_loss : 0.279, state_loss : 0.022, gen_loss : 0.226, dom_loss : 0.001\n"
     ]
    },
    {
     "name": "stderr",
     "output_type": "stream",
     "text": [
      " 57%|█████▋    | 801/1417 [06:12<04:09,  2.47it/s]"
     ]
    },
    {
     "name": "stdout",
     "output_type": "stream",
     "text": [
      "[11/30] [800/1417] mean_loss : 0.265, state_loss : 0.015, gen_loss : 0.104, dom_loss : 0.001\n"
     ]
    },
    {
     "name": "stderr",
     "output_type": "stream",
     "text": [
      " 64%|██████▎   | 901/1417 [07:00<03:58,  2.16it/s]"
     ]
    },
    {
     "name": "stdout",
     "output_type": "stream",
     "text": [
      "[11/30] [900/1417] mean_loss : 0.267, state_loss : 0.014, gen_loss : 0.160, dom_loss : 0.002\n"
     ]
    },
    {
     "name": "stderr",
     "output_type": "stream",
     "text": [
      " 71%|███████   | 1001/1417 [07:46<03:24,  2.03it/s]"
     ]
    },
    {
     "name": "stdout",
     "output_type": "stream",
     "text": [
      "[11/30] [1000/1417] mean_loss : 0.266, state_loss : 0.014, gen_loss : 0.133, dom_loss : 0.001\n"
     ]
    },
    {
     "name": "stderr",
     "output_type": "stream",
     "text": [
      " 78%|███████▊  | 1101/1417 [08:32<02:16,  2.32it/s]"
     ]
    },
    {
     "name": "stdout",
     "output_type": "stream",
     "text": [
      "[11/30] [1100/1417] mean_loss : 0.251, state_loss : 0.008, gen_loss : 0.289, dom_loss : 0.000\n"
     ]
    },
    {
     "name": "stderr",
     "output_type": "stream",
     "text": [
      " 85%|████████▍ | 1201/1417 [09:19<01:46,  2.03it/s]"
     ]
    },
    {
     "name": "stdout",
     "output_type": "stream",
     "text": [
      "[11/30] [1200/1417] mean_loss : 0.257, state_loss : 0.010, gen_loss : 0.223, dom_loss : 0.006\n"
     ]
    },
    {
     "name": "stderr",
     "output_type": "stream",
     "text": [
      " 92%|█████████▏| 1301/1417 [10:06<00:53,  2.17it/s]"
     ]
    },
    {
     "name": "stdout",
     "output_type": "stream",
     "text": [
      "[11/30] [1300/1417] mean_loss : 0.267, state_loss : 0.017, gen_loss : 0.258, dom_loss : 0.110\n"
     ]
    },
    {
     "name": "stderr",
     "output_type": "stream",
     "text": [
      " 99%|█████████▉| 1401/1417 [10:54<00:07,  2.20it/s]"
     ]
    },
    {
     "name": "stdout",
     "output_type": "stream",
     "text": [
      "[11/30] [1400/1417] mean_loss : 0.252, state_loss : 0.023, gen_loss : 0.148, dom_loss : 0.001\n"
     ]
    },
    {
     "name": "stderr",
     "output_type": "stream",
     "text": [
      "100%|██████████| 1417/1417 [11:02<00:00,  2.14it/s]\n",
      "100%|██████████| 5067/5067 [02:05<00:00, 40.27it/s]\n"
     ]
    },
    {
     "name": "stdout",
     "output_type": "stream",
     "text": [
      "------------------------------\n",
      "op_code: 4, is_gt_op: False, is_gt_p_state: False, is_gt_gen: False\n",
      "Epoch 11 joint accuracy :  0.44523386619301364\n",
      "Epoch 11 slot turn accuracy :  0.9445255794574982\n",
      "Epoch 11 slot turn F1:  0.8377940434377736\n",
      "Epoch 11 op accuracy :  0.9462272218933039\n",
      "Epoch 11 op F1 :  {'delete': 0, 'update': 0.732038271962888, 'dontcare': 0.708841463414634, 'carryover': 0.9716309412861137}\n",
      "Epoch 11 op hit count :  {'delete': 0, 'update': 6312, 'dontcare': 930, 'carryover': 208512}\n",
      "Epoch 11 op all count :  {'delete': 6961, 'update': 10547, 'dontcare': 1554, 'carryover': 208953}\n",
      "Final Joint Accuracy :  0.29756795422031473\n",
      "Final slot turn F1 :  0.823961293110915\n",
      "Latency Per Prediction : 19.317526 ms\n",
      "-----------------------------\n",
      "\n",
      "관광 0.6959526159921027 0.9898760557200919\n",
      "숙소 0.6657661134697028 0.9815515245079126\n",
      "식당 0.5116796440489433 0.9773493181724558\n",
      "지하철 0.6589595375722543 0.9888246628131021\n",
      "택시 0.2691489361702128 0.971631205673752\n"
     ]
    },
    {
     "name": "stderr",
     "output_type": "stream",
     "text": [
      "  0%|          | 0/1417 [00:00<?, ?it/s]"
     ]
    },
    {
     "name": "stdout",
     "output_type": "stream",
     "text": [
      "Best Score :  {'epoch': 11, 'joint_acc': 0.44523386619301364, 'slot_acc': 0.9445255794574982, 'slot_f1': 0.8377940434377736, 'op_acc': 0.9462272218933039, 'op_f1': {'delete': 0, 'update': 0.732038271962888, 'dontcare': 0.708841463414634, 'carryover': 0.9716309412861137}, 'final_slot_f1': 0.823961293110915}\n",
      "\n",
      "\n"
     ]
    },
    {
     "name": "stderr",
     "output_type": "stream",
     "text": [
      "  0%|          | 1/1417 [00:01<30:24,  1.29s/it]"
     ]
    },
    {
     "name": "stdout",
     "output_type": "stream",
     "text": [
      "[12/30] [0/1417] mean_loss : 0.216, state_loss : 0.012, gen_loss : 0.203, dom_loss : 0.001\n"
     ]
    },
    {
     "name": "stderr",
     "output_type": "stream",
     "text": [
      "  7%|▋         | 101/1417 [00:47<09:44,  2.25it/s]"
     ]
    },
    {
     "name": "stdout",
     "output_type": "stream",
     "text": [
      "[12/30] [100/1417] mean_loss : 0.268, state_loss : 0.019, gen_loss : 0.139, dom_loss : 0.072\n"
     ]
    },
    {
     "name": "stderr",
     "output_type": "stream",
     "text": [
      " 14%|█▍        | 201/1417 [01:34<09:08,  2.22it/s]"
     ]
    },
    {
     "name": "stdout",
     "output_type": "stream",
     "text": [
      "[12/30] [200/1417] mean_loss : 0.296, state_loss : 0.019, gen_loss : 0.136, dom_loss : 0.002\n"
     ]
    },
    {
     "name": "stderr",
     "output_type": "stream",
     "text": [
      " 21%|██        | 301/1417 [02:19<08:03,  2.31it/s]"
     ]
    },
    {
     "name": "stdout",
     "output_type": "stream",
     "text": [
      "[12/30] [300/1417] mean_loss : 0.233, state_loss : 0.029, gen_loss : 0.202, dom_loss : 0.050\n"
     ]
    },
    {
     "name": "stderr",
     "output_type": "stream",
     "text": [
      " 28%|██▊       | 401/1417 [03:05<08:03,  2.10it/s]"
     ]
    },
    {
     "name": "stdout",
     "output_type": "stream",
     "text": [
      "[12/30] [400/1417] mean_loss : 0.250, state_loss : 0.023, gen_loss : 0.056, dom_loss : 0.003\n"
     ]
    },
    {
     "name": "stderr",
     "output_type": "stream",
     "text": [
      " 35%|███▌      | 501/1417 [03:52<06:52,  2.22it/s]"
     ]
    },
    {
     "name": "stdout",
     "output_type": "stream",
     "text": [
      "[12/30] [500/1417] mean_loss : 0.265, state_loss : 0.016, gen_loss : 0.192, dom_loss : 0.000\n"
     ]
    },
    {
     "name": "stderr",
     "output_type": "stream",
     "text": [
      " 42%|████▏     | 601/1417 [04:39<06:03,  2.25it/s]"
     ]
    },
    {
     "name": "stdout",
     "output_type": "stream",
     "text": [
      "[12/30] [600/1417] mean_loss : 0.243, state_loss : 0.007, gen_loss : 0.270, dom_loss : 0.006\n"
     ]
    },
    {
     "name": "stderr",
     "output_type": "stream",
     "text": [
      " 49%|████▉     | 701/1417 [05:25<05:32,  2.15it/s]"
     ]
    },
    {
     "name": "stdout",
     "output_type": "stream",
     "text": [
      "[12/30] [700/1417] mean_loss : 0.260, state_loss : 0.010, gen_loss : 0.139, dom_loss : 0.034\n"
     ]
    },
    {
     "name": "stderr",
     "output_type": "stream",
     "text": [
      " 57%|█████▋    | 801/1417 [06:12<04:43,  2.17it/s]"
     ]
    },
    {
     "name": "stdout",
     "output_type": "stream",
     "text": [
      "[12/30] [800/1417] mean_loss : 0.239, state_loss : 0.016, gen_loss : 0.211, dom_loss : 0.002\n"
     ]
    },
    {
     "name": "stderr",
     "output_type": "stream",
     "text": [
      " 64%|██████▎   | 901/1417 [06:58<03:58,  2.17it/s]"
     ]
    },
    {
     "name": "stdout",
     "output_type": "stream",
     "text": [
      "[12/30] [900/1417] mean_loss : 0.232, state_loss : 0.013, gen_loss : 0.113, dom_loss : 0.108\n"
     ]
    },
    {
     "name": "stderr",
     "output_type": "stream",
     "text": [
      " 71%|███████   | 1001/1417 [07:45<03:19,  2.09it/s]"
     ]
    },
    {
     "name": "stdout",
     "output_type": "stream",
     "text": [
      "[12/30] [1000/1417] mean_loss : 0.263, state_loss : 0.023, gen_loss : 0.180, dom_loss : 0.087\n"
     ]
    },
    {
     "name": "stderr",
     "output_type": "stream",
     "text": [
      " 78%|███████▊  | 1101/1417 [08:30<02:21,  2.23it/s]"
     ]
    },
    {
     "name": "stdout",
     "output_type": "stream",
     "text": [
      "[12/30] [1100/1417] mean_loss : 0.223, state_loss : 0.020, gen_loss : 0.107, dom_loss : 0.001\n"
     ]
    },
    {
     "name": "stderr",
     "output_type": "stream",
     "text": [
      " 85%|████████▍ | 1201/1417 [09:18<01:44,  2.07it/s]"
     ]
    },
    {
     "name": "stdout",
     "output_type": "stream",
     "text": [
      "[12/30] [1200/1417] mean_loss : 0.260, state_loss : 0.011, gen_loss : 0.334, dom_loss : 0.006\n"
     ]
    },
    {
     "name": "stderr",
     "output_type": "stream",
     "text": [
      " 92%|█████████▏| 1301/1417 [10:04<00:52,  2.22it/s]"
     ]
    },
    {
     "name": "stdout",
     "output_type": "stream",
     "text": [
      "[12/30] [1300/1417] mean_loss : 0.256, state_loss : 0.016, gen_loss : 0.218, dom_loss : 0.015\n"
     ]
    },
    {
     "name": "stderr",
     "output_type": "stream",
     "text": [
      " 99%|█████████▉| 1401/1417 [10:50<00:07,  2.06it/s]"
     ]
    },
    {
     "name": "stdout",
     "output_type": "stream",
     "text": [
      "[12/30] [1400/1417] mean_loss : 0.239, state_loss : 0.010, gen_loss : 0.098, dom_loss : 0.002\n"
     ]
    },
    {
     "name": "stderr",
     "output_type": "stream",
     "text": [
      "100%|██████████| 1417/1417 [10:58<00:00,  2.15it/s]\n",
      "100%|██████████| 5067/5067 [02:09<00:00, 39.12it/s]\n"
     ]
    },
    {
     "name": "stdout",
     "output_type": "stream",
     "text": [
      "------------------------------\n",
      "op_code: 4, is_gt_op: False, is_gt_p_state: False, is_gt_gen: False\n",
      "Epoch 12 joint accuracy :  0.46457469903295834\n",
      "Epoch 12 slot turn accuracy :  0.9465736903273969\n",
      "Epoch 12 slot turn F1:  0.8458562045930212\n",
      "Epoch 12 op accuracy :  0.9481130627371065\n",
      "Epoch 12 op F1 :  {'delete': 0, 'update': 0.7422099642039788, 'dontcare': 0.7194133539174064, 'carryover': 0.9726742629686101}\n",
      "Epoch 12 op hit count :  {'delete': 0, 'update': 6324, 'dontcare': 932, 'carryover': 208928}\n",
      "Epoch 12 op all count :  {'delete': 6803, 'update': 10358, 'dontcare': 1541, 'carryover': 209313}\n",
      "Final Joint Accuracy :  0.32045779685264664\n",
      "Final slot turn F1 :  0.8346304326582039\n",
      "Latency Per Prediction : 20.242796 ms\n",
      "-----------------------------\n",
      "\n",
      "관광 0.6875616979269497 0.9897005593945474\n",
      "숙소 0.6831339251254342 0.9822205068827992\n",
      "식당 0.5276232851316277 0.9789148436534426\n",
      "지하철 0.6589595375722543 0.9884393063583813\n",
      "택시 0.31063829787234043 0.9732387706855723\n"
     ]
    },
    {
     "name": "stderr",
     "output_type": "stream",
     "text": [
      "  0%|          | 0/1417 [00:00<?, ?it/s]"
     ]
    },
    {
     "name": "stdout",
     "output_type": "stream",
     "text": [
      "Best Score :  {'epoch': 12, 'joint_acc': 0.46457469903295834, 'slot_acc': 0.9465736903273969, 'slot_f1': 0.8458562045930212, 'op_acc': 0.9481130627371065, 'op_f1': {'delete': 0, 'update': 0.7422099642039788, 'dontcare': 0.7194133539174064, 'carryover': 0.9726742629686101}, 'final_slot_f1': 0.8346304326582039}\n",
      "\n",
      "\n"
     ]
    },
    {
     "name": "stderr",
     "output_type": "stream",
     "text": [
      "  0%|          | 1/1417 [00:01<32:49,  1.39s/it]"
     ]
    },
    {
     "name": "stdout",
     "output_type": "stream",
     "text": [
      "[13/30] [0/1417] mean_loss : 0.352, state_loss : 0.015, gen_loss : 0.337, dom_loss : 0.000\n"
     ]
    },
    {
     "name": "stderr",
     "output_type": "stream",
     "text": [
      "  7%|▋         | 101/1417 [00:48<10:13,  2.14it/s]"
     ]
    },
    {
     "name": "stdout",
     "output_type": "stream",
     "text": [
      "[13/30] [100/1417] mean_loss : 0.240, state_loss : 0.011, gen_loss : 0.089, dom_loss : 0.001\n"
     ]
    },
    {
     "name": "stderr",
     "output_type": "stream",
     "text": [
      " 14%|█▍        | 201/1417 [01:34<09:03,  2.24it/s]"
     ]
    },
    {
     "name": "stdout",
     "output_type": "stream",
     "text": [
      "[13/30] [200/1417] mean_loss : 0.223, state_loss : 0.018, gen_loss : 0.182, dom_loss : 0.001\n"
     ]
    },
    {
     "name": "stderr",
     "output_type": "stream",
     "text": [
      " 21%|██        | 301/1417 [02:20<08:59,  2.07it/s]"
     ]
    },
    {
     "name": "stdout",
     "output_type": "stream",
     "text": [
      "[13/30] [300/1417] mean_loss : 0.250, state_loss : 0.016, gen_loss : 0.261, dom_loss : 0.001\n"
     ]
    },
    {
     "name": "stderr",
     "output_type": "stream",
     "text": [
      " 28%|██▊       | 401/1417 [03:06<07:33,  2.24it/s]"
     ]
    },
    {
     "name": "stdout",
     "output_type": "stream",
     "text": [
      "[13/30] [400/1417] mean_loss : 0.258, state_loss : 0.012, gen_loss : 0.532, dom_loss : 0.001\n"
     ]
    },
    {
     "name": "stderr",
     "output_type": "stream",
     "text": [
      " 35%|███▌      | 501/1417 [03:53<07:15,  2.11it/s]"
     ]
    },
    {
     "name": "stdout",
     "output_type": "stream",
     "text": [
      "[13/30] [500/1417] mean_loss : 0.250, state_loss : 0.022, gen_loss : 0.215, dom_loss : 0.012\n"
     ]
    },
    {
     "name": "stderr",
     "output_type": "stream",
     "text": [
      " 42%|████▏     | 601/1417 [04:38<06:18,  2.16it/s]"
     ]
    },
    {
     "name": "stdout",
     "output_type": "stream",
     "text": [
      "[13/30] [600/1417] mean_loss : 0.227, state_loss : 0.007, gen_loss : 0.142, dom_loss : 0.001\n"
     ]
    },
    {
     "name": "stderr",
     "output_type": "stream",
     "text": [
      " 49%|████▉     | 701/1417 [05:25<05:16,  2.26it/s]"
     ]
    },
    {
     "name": "stdout",
     "output_type": "stream",
     "text": [
      "[13/30] [700/1417] mean_loss : 0.241, state_loss : 0.021, gen_loss : 0.157, dom_loss : 0.110\n"
     ]
    },
    {
     "name": "stderr",
     "output_type": "stream",
     "text": [
      " 57%|█████▋    | 801/1417 [06:11<04:30,  2.28it/s]"
     ]
    },
    {
     "name": "stdout",
     "output_type": "stream",
     "text": [
      "[13/30] [800/1417] mean_loss : 0.222, state_loss : 0.026, gen_loss : 0.148, dom_loss : 0.006\n"
     ]
    },
    {
     "name": "stderr",
     "output_type": "stream",
     "text": [
      " 64%|██████▎   | 901/1417 [06:58<03:47,  2.26it/s]"
     ]
    },
    {
     "name": "stdout",
     "output_type": "stream",
     "text": [
      "[13/30] [900/1417] mean_loss : 0.218, state_loss : 0.010, gen_loss : 0.189, dom_loss : 0.001\n"
     ]
    },
    {
     "name": "stderr",
     "output_type": "stream",
     "text": [
      " 71%|███████   | 1001/1417 [07:45<03:25,  2.02it/s]"
     ]
    },
    {
     "name": "stdout",
     "output_type": "stream",
     "text": [
      "[13/30] [1000/1417] mean_loss : 0.243, state_loss : 0.028, gen_loss : 0.197, dom_loss : 0.001\n"
     ]
    },
    {
     "name": "stderr",
     "output_type": "stream",
     "text": [
      " 78%|███████▊  | 1101/1417 [08:31<02:35,  2.03it/s]"
     ]
    },
    {
     "name": "stdout",
     "output_type": "stream",
     "text": [
      "[13/30] [1100/1417] mean_loss : 0.230, state_loss : 0.006, gen_loss : 0.315, dom_loss : 0.001\n"
     ]
    },
    {
     "name": "stderr",
     "output_type": "stream",
     "text": [
      " 85%|████████▍ | 1201/1417 [09:17<01:39,  2.17it/s]"
     ]
    },
    {
     "name": "stdout",
     "output_type": "stream",
     "text": [
      "[13/30] [1200/1417] mean_loss : 0.222, state_loss : 0.014, gen_loss : 0.111, dom_loss : 0.001\n"
     ]
    },
    {
     "name": "stderr",
     "output_type": "stream",
     "text": [
      " 92%|█████████▏| 1301/1417 [10:04<00:51,  2.27it/s]"
     ]
    },
    {
     "name": "stdout",
     "output_type": "stream",
     "text": [
      "[13/30] [1300/1417] mean_loss : 0.230, state_loss : 0.025, gen_loss : 0.289, dom_loss : 0.055\n"
     ]
    },
    {
     "name": "stderr",
     "output_type": "stream",
     "text": [
      " 99%|█████████▉| 1401/1417 [10:50<00:07,  2.20it/s]"
     ]
    },
    {
     "name": "stdout",
     "output_type": "stream",
     "text": [
      "[13/30] [1400/1417] mean_loss : 0.223, state_loss : 0.008, gen_loss : 0.140, dom_loss : 0.001\n"
     ]
    },
    {
     "name": "stderr",
     "output_type": "stream",
     "text": [
      "100%|██████████| 1417/1417 [10:58<00:00,  2.15it/s]\n",
      "100%|██████████| 5067/5067 [02:04<00:00, 40.74it/s]\n"
     ]
    },
    {
     "name": "stdout",
     "output_type": "stream",
     "text": [
      "------------------------------\n",
      "op_code: 4, is_gt_op: False, is_gt_p_state: False, is_gt_gen: False\n",
      "Epoch 13 joint accuracy :  0.4689165186500888\n",
      "Epoch 13 slot turn accuracy :  0.9477841370085385\n",
      "Epoch 13 slot turn F1:  0.8509743680656429\n",
      "Epoch 13 op accuracy :  0.9489858123369157\n",
      "Epoch 13 op F1 :  {'delete': 0, 'update': 0.759742581337147, 'dontcare': 0.7196620583717358, 'carryover': 0.9731655774637399}\n",
      "Epoch 13 op hit count :  {'delete': 0, 'update': 6375, 'dontcare': 937, 'carryover': 209071}\n",
      "Epoch 13 op all count :  {'delete': 6972, 'update': 10014, 'dontcare': 1475, 'carryover': 209554}\n",
      "Final Joint Accuracy :  0.3261802575107296\n",
      "Final slot turn F1 :  0.8414513839364369\n",
      "Latency Per Prediction : 19.448761 ms\n",
      "-----------------------------\n",
      "\n",
      "관광 0.6609081934846989 0.9886695184819636\n",
      "숙소 0.6881512929370899 0.983078176594194\n",
      "식당 0.5728587319243604 0.9807357969760614\n",
      "지하철 0.6705202312138728 0.9890815671162491\n",
      "택시 0.3351063829787234 0.9751773049645325\n"
     ]
    },
    {
     "name": "stderr",
     "output_type": "stream",
     "text": [
      "  0%|          | 0/1417 [00:00<?, ?it/s]"
     ]
    },
    {
     "name": "stdout",
     "output_type": "stream",
     "text": [
      "Best Score :  {'epoch': 13, 'joint_acc': 0.4689165186500888, 'slot_acc': 0.9477841370085385, 'slot_f1': 0.8509743680656429, 'op_acc': 0.9489858123369157, 'op_f1': {'delete': 0, 'update': 0.759742581337147, 'dontcare': 0.7196620583717358, 'carryover': 0.9731655774637399}, 'final_slot_f1': 0.8414513839364369}\n",
      "\n",
      "\n"
     ]
    },
    {
     "name": "stderr",
     "output_type": "stream",
     "text": [
      "  0%|          | 1/1417 [00:01<33:28,  1.42s/it]"
     ]
    },
    {
     "name": "stdout",
     "output_type": "stream",
     "text": [
      "[14/30] [0/1417] mean_loss : 0.204, state_loss : 0.015, gen_loss : 0.189, dom_loss : 0.001\n"
     ]
    },
    {
     "name": "stderr",
     "output_type": "stream",
     "text": [
      "  7%|▋         | 101/1417 [00:47<10:24,  2.11it/s]"
     ]
    },
    {
     "name": "stdout",
     "output_type": "stream",
     "text": [
      "[14/30] [100/1417] mean_loss : 0.216, state_loss : 0.012, gen_loss : 0.417, dom_loss : 0.002\n"
     ]
    },
    {
     "name": "stderr",
     "output_type": "stream",
     "text": [
      " 14%|█▍        | 201/1417 [01:33<09:17,  2.18it/s]"
     ]
    },
    {
     "name": "stdout",
     "output_type": "stream",
     "text": [
      "[14/30] [200/1417] mean_loss : 0.210, state_loss : 0.017, gen_loss : 0.117, dom_loss : 0.007\n"
     ]
    },
    {
     "name": "stderr",
     "output_type": "stream",
     "text": [
      " 21%|██        | 301/1417 [02:19<08:32,  2.18it/s]"
     ]
    },
    {
     "name": "stdout",
     "output_type": "stream",
     "text": [
      "[14/30] [300/1417] mean_loss : 0.224, state_loss : 0.026, gen_loss : 0.143, dom_loss : 0.000\n"
     ]
    },
    {
     "name": "stderr",
     "output_type": "stream",
     "text": [
      " 28%|██▊       | 401/1417 [03:05<08:10,  2.07it/s]"
     ]
    },
    {
     "name": "stdout",
     "output_type": "stream",
     "text": [
      "[14/30] [400/1417] mean_loss : 0.225, state_loss : 0.014, gen_loss : 0.111, dom_loss : 0.000\n"
     ]
    },
    {
     "name": "stderr",
     "output_type": "stream",
     "text": [
      " 35%|███▌      | 501/1417 [03:50<07:09,  2.13it/s]"
     ]
    },
    {
     "name": "stdout",
     "output_type": "stream",
     "text": [
      "[14/30] [500/1417] mean_loss : 0.204, state_loss : 0.026, gen_loss : 0.106, dom_loss : 0.132\n"
     ]
    },
    {
     "name": "stderr",
     "output_type": "stream",
     "text": [
      " 42%|████▏     | 601/1417 [04:37<06:10,  2.20it/s]"
     ]
    },
    {
     "name": "stdout",
     "output_type": "stream",
     "text": [
      "[14/30] [600/1417] mean_loss : 0.233, state_loss : 0.015, gen_loss : 0.288, dom_loss : 0.014\n"
     ]
    },
    {
     "name": "stderr",
     "output_type": "stream",
     "text": [
      " 49%|████▉     | 701/1417 [05:23<05:31,  2.16it/s]"
     ]
    },
    {
     "name": "stdout",
     "output_type": "stream",
     "text": [
      "[14/30] [700/1417] mean_loss : 0.218, state_loss : 0.011, gen_loss : 0.071, dom_loss : 0.002\n"
     ]
    },
    {
     "name": "stderr",
     "output_type": "stream",
     "text": [
      " 57%|█████▋    | 801/1417 [06:10<05:01,  2.04it/s]"
     ]
    },
    {
     "name": "stdout",
     "output_type": "stream",
     "text": [
      "[14/30] [800/1417] mean_loss : 0.213, state_loss : 0.010, gen_loss : 0.097, dom_loss : 0.024\n"
     ]
    },
    {
     "name": "stderr",
     "output_type": "stream",
     "text": [
      " 64%|██████▎   | 901/1417 [06:56<04:03,  2.12it/s]"
     ]
    },
    {
     "name": "stdout",
     "output_type": "stream",
     "text": [
      "[14/30] [900/1417] mean_loss : 0.233, state_loss : 0.008, gen_loss : 0.239, dom_loss : 0.008\n"
     ]
    },
    {
     "name": "stderr",
     "output_type": "stream",
     "text": [
      " 71%|███████   | 1001/1417 [07:43<03:19,  2.08it/s]"
     ]
    },
    {
     "name": "stdout",
     "output_type": "stream",
     "text": [
      "[14/30] [1000/1417] mean_loss : 0.226, state_loss : 0.015, gen_loss : 0.166, dom_loss : 0.000\n"
     ]
    },
    {
     "name": "stderr",
     "output_type": "stream",
     "text": [
      " 78%|███████▊  | 1101/1417 [08:29<02:17,  2.30it/s]"
     ]
    },
    {
     "name": "stdout",
     "output_type": "stream",
     "text": [
      "[14/30] [1100/1417] mean_loss : 0.201, state_loss : 0.015, gen_loss : 0.090, dom_loss : 0.000\n"
     ]
    },
    {
     "name": "stderr",
     "output_type": "stream",
     "text": [
      " 85%|████████▍ | 1201/1417 [09:15<01:39,  2.17it/s]"
     ]
    },
    {
     "name": "stdout",
     "output_type": "stream",
     "text": [
      "[14/30] [1200/1417] mean_loss : 0.217, state_loss : 0.027, gen_loss : 0.316, dom_loss : 0.001\n"
     ]
    },
    {
     "name": "stderr",
     "output_type": "stream",
     "text": [
      " 92%|█████████▏| 1301/1417 [10:02<00:55,  2.08it/s]"
     ]
    },
    {
     "name": "stdout",
     "output_type": "stream",
     "text": [
      "[14/30] [1300/1417] mean_loss : 0.221, state_loss : 0.007, gen_loss : 0.275, dom_loss : 0.002\n"
     ]
    },
    {
     "name": "stderr",
     "output_type": "stream",
     "text": [
      " 99%|█████████▉| 1401/1417 [10:49<00:07,  2.10it/s]"
     ]
    },
    {
     "name": "stdout",
     "output_type": "stream",
     "text": [
      "[14/30] [1400/1417] mean_loss : 0.225, state_loss : 0.013, gen_loss : 0.170, dom_loss : 0.017\n"
     ]
    },
    {
     "name": "stderr",
     "output_type": "stream",
     "text": [
      "100%|██████████| 1417/1417 [10:56<00:00,  2.16it/s]\n",
      "100%|██████████| 5067/5067 [02:14<00:00, 37.66it/s]\n"
     ]
    },
    {
     "name": "stdout",
     "output_type": "stream",
     "text": [
      "------------------------------\n",
      "op_code: 4, is_gt_op: False, is_gt_p_state: False, is_gt_gen: False\n",
      "Epoch 14 joint accuracy :  0.4987171896585751\n",
      "Epoch 14 slot turn accuracy :  0.9481086770607225\n",
      "Epoch 14 slot turn F1:  0.853037513381507\n",
      "Epoch 14 op accuracy :  0.949419994298623\n",
      "Epoch 14 op F1 :  {'delete': 0, 'update': 0.7535353535353535, 'dontcare': 0.7455760912308298, 'carryover': 0.9733574044174782}\n",
      "Epoch 14 op hit count :  {'delete': 0, 'update': 6341, 'dontcare': 948, 'carryover': 209193}\n",
      "Epoch 14 op all count :  {'delete': 6819, 'update': 10138, 'dontcare': 1458, 'carryover': 209600}\n",
      "Final Joint Accuracy :  0.3605150214592275\n",
      "Final slot turn F1 :  0.8438448392400747\n",
      "Latency Per Prediction : 21.370960 ms\n",
      "-----------------------------\n",
      "\n",
      "관광 0.730009871668312 0.9907316003071235\n",
      "숙소 0.7035893477421845 0.9823405806423943\n",
      "식당 0.5991842788283278 0.9808264326617991\n",
      "지하철 0.6820809248554913 0.989595375722543\n",
      "택시 0.33297872340425533 0.9749408983451469\n"
     ]
    },
    {
     "name": "stderr",
     "output_type": "stream",
     "text": [
      "  0%|          | 0/1417 [00:00<?, ?it/s]"
     ]
    },
    {
     "name": "stdout",
     "output_type": "stream",
     "text": [
      "Best Score :  {'epoch': 14, 'joint_acc': 0.4987171896585751, 'slot_acc': 0.9481086770607225, 'slot_f1': 0.853037513381507, 'op_acc': 0.949419994298623, 'op_f1': {'delete': 0, 'update': 0.7535353535353535, 'dontcare': 0.7455760912308298, 'carryover': 0.9733574044174782}, 'final_slot_f1': 0.8438448392400747}\n",
      "\n",
      "\n"
     ]
    },
    {
     "name": "stderr",
     "output_type": "stream",
     "text": [
      "  0%|          | 1/1417 [00:01<34:42,  1.47s/it]"
     ]
    },
    {
     "name": "stdout",
     "output_type": "stream",
     "text": [
      "[15/30] [0/1417] mean_loss : 0.178, state_loss : 0.016, gen_loss : 0.162, dom_loss : 0.000\n"
     ]
    },
    {
     "name": "stderr",
     "output_type": "stream",
     "text": [
      "  7%|▋         | 101/1417 [00:48<10:38,  2.06it/s]"
     ]
    },
    {
     "name": "stdout",
     "output_type": "stream",
     "text": [
      "[15/30] [100/1417] mean_loss : 0.207, state_loss : 0.028, gen_loss : 0.286, dom_loss : 0.004\n"
     ]
    },
    {
     "name": "stderr",
     "output_type": "stream",
     "text": [
      " 14%|█▍        | 201/1417 [01:34<09:16,  2.19it/s]"
     ]
    },
    {
     "name": "stdout",
     "output_type": "stream",
     "text": [
      "[15/30] [200/1417] mean_loss : 0.212, state_loss : 0.009, gen_loss : 0.135, dom_loss : 0.000\n"
     ]
    },
    {
     "name": "stderr",
     "output_type": "stream",
     "text": [
      " 21%|██        | 301/1417 [02:21<09:09,  2.03it/s]"
     ]
    },
    {
     "name": "stdout",
     "output_type": "stream",
     "text": [
      "[15/30] [300/1417] mean_loss : 0.203, state_loss : 0.009, gen_loss : 0.119, dom_loss : 0.002\n"
     ]
    },
    {
     "name": "stderr",
     "output_type": "stream",
     "text": [
      " 28%|██▊       | 401/1417 [03:08<08:17,  2.04it/s]"
     ]
    },
    {
     "name": "stdout",
     "output_type": "stream",
     "text": [
      "[15/30] [400/1417] mean_loss : 0.192, state_loss : 0.020, gen_loss : 0.138, dom_loss : 0.004\n"
     ]
    },
    {
     "name": "stderr",
     "output_type": "stream",
     "text": [
      " 35%|███▌      | 501/1417 [03:54<07:21,  2.08it/s]"
     ]
    },
    {
     "name": "stdout",
     "output_type": "stream",
     "text": [
      "[15/30] [500/1417] mean_loss : 0.195, state_loss : 0.011, gen_loss : 0.096, dom_loss : 0.001\n"
     ]
    },
    {
     "name": "stderr",
     "output_type": "stream",
     "text": [
      " 42%|████▏     | 601/1417 [04:41<06:41,  2.03it/s]"
     ]
    },
    {
     "name": "stdout",
     "output_type": "stream",
     "text": [
      "[15/30] [600/1417] mean_loss : 0.205, state_loss : 0.015, gen_loss : 0.175, dom_loss : 0.254\n"
     ]
    },
    {
     "name": "stderr",
     "output_type": "stream",
     "text": [
      " 49%|████▉     | 701/1417 [05:26<05:32,  2.15it/s]"
     ]
    },
    {
     "name": "stdout",
     "output_type": "stream",
     "text": [
      "[15/30] [700/1417] mean_loss : 0.207, state_loss : 0.009, gen_loss : 0.166, dom_loss : 0.005\n"
     ]
    },
    {
     "name": "stderr",
     "output_type": "stream",
     "text": [
      " 57%|█████▋    | 801/1417 [06:12<04:36,  2.23it/s]"
     ]
    },
    {
     "name": "stdout",
     "output_type": "stream",
     "text": [
      "[15/30] [800/1417] mean_loss : 0.195, state_loss : 0.009, gen_loss : 0.097, dom_loss : 0.001\n"
     ]
    },
    {
     "name": "stderr",
     "output_type": "stream",
     "text": [
      " 64%|██████▎   | 901/1417 [06:59<04:08,  2.07it/s]"
     ]
    },
    {
     "name": "stdout",
     "output_type": "stream",
     "text": [
      "[15/30] [900/1417] mean_loss : 0.207, state_loss : 0.022, gen_loss : 0.278, dom_loss : 0.002\n"
     ]
    },
    {
     "name": "stderr",
     "output_type": "stream",
     "text": [
      " 71%|███████   | 1001/1417 [07:45<03:11,  2.18it/s]"
     ]
    },
    {
     "name": "stdout",
     "output_type": "stream",
     "text": [
      "[15/30] [1000/1417] mean_loss : 0.223, state_loss : 0.017, gen_loss : 0.090, dom_loss : 0.003\n"
     ]
    },
    {
     "name": "stderr",
     "output_type": "stream",
     "text": [
      " 78%|███████▊  | 1101/1417 [08:31<02:22,  2.22it/s]"
     ]
    },
    {
     "name": "stdout",
     "output_type": "stream",
     "text": [
      "[15/30] [1100/1417] mean_loss : 0.191, state_loss : 0.013, gen_loss : 0.056, dom_loss : 0.005\n"
     ]
    },
    {
     "name": "stderr",
     "output_type": "stream",
     "text": [
      " 85%|████████▍ | 1201/1417 [09:18<01:46,  2.03it/s]"
     ]
    },
    {
     "name": "stdout",
     "output_type": "stream",
     "text": [
      "[15/30] [1200/1417] mean_loss : 0.190, state_loss : 0.009, gen_loss : 0.205, dom_loss : 0.000\n"
     ]
    },
    {
     "name": "stderr",
     "output_type": "stream",
     "text": [
      " 92%|█████████▏| 1301/1417 [10:05<00:53,  2.17it/s]"
     ]
    },
    {
     "name": "stdout",
     "output_type": "stream",
     "text": [
      "[15/30] [1300/1417] mean_loss : 0.200, state_loss : 0.010, gen_loss : 0.157, dom_loss : 0.003\n"
     ]
    },
    {
     "name": "stderr",
     "output_type": "stream",
     "text": [
      " 99%|█████████▉| 1401/1417 [10:51<00:06,  2.31it/s]"
     ]
    },
    {
     "name": "stdout",
     "output_type": "stream",
     "text": [
      "[15/30] [1400/1417] mean_loss : 0.185, state_loss : 0.007, gen_loss : 0.089, dom_loss : 0.001\n"
     ]
    },
    {
     "name": "stderr",
     "output_type": "stream",
     "text": [
      "100%|██████████| 1417/1417 [10:58<00:00,  2.15it/s]\n",
      "100%|██████████| 5067/5067 [02:03<00:00, 41.11it/s]\n"
     ]
    },
    {
     "name": "stdout",
     "output_type": "stream",
     "text": [
      "------------------------------\n",
      "op_code: 4, is_gt_op: False, is_gt_p_state: False, is_gt_gen: False\n",
      "Epoch 15 joint accuracy :  0.5083876060785475\n",
      "Epoch 15 slot turn accuracy :  0.9489112558384353\n",
      "Epoch 15 slot turn F1:  0.855729756194659\n",
      "Epoch 15 op accuracy :  0.9501173168431936\n",
      "Epoch 15 op F1 :  {'delete': 0, 'update': 0.761790615449152, 'dontcare': 0.7396726422447389, 'carryover': 0.9737373361490729}\n",
      "Epoch 15 op hit count :  {'delete': 0, 'update': 6356, 'dontcare': 949, 'carryover': 209336}\n",
      "Epoch 15 op all count :  {'delete': 6813, 'update': 10003, 'dontcare': 1488, 'carryover': 209711}\n",
      "Final Joint Accuracy :  0.36623748211731044\n",
      "Final slot turn F1 :  0.8470860966783841\n",
      "Latency Per Prediction : 19.244762 ms\n",
      "-----------------------------\n",
      "\n",
      "관광 0.7077986179664363 0.9901612372491019\n",
      "숙소 0.7151678888460054 0.9828208756807749\n",
      "식당 0.6203188728216537 0.9810406624644642\n",
      "지하철 0.6705202312138728 0.9892100192678224\n",
      "택시 0.3670212765957447 0.9769267139479844\n"
     ]
    },
    {
     "name": "stderr",
     "output_type": "stream",
     "text": [
      "  0%|          | 0/1417 [00:00<?, ?it/s]"
     ]
    },
    {
     "name": "stdout",
     "output_type": "stream",
     "text": [
      "Best Score :  {'epoch': 15, 'joint_acc': 0.5083876060785475, 'slot_acc': 0.9489112558384353, 'slot_f1': 0.855729756194659, 'op_acc': 0.9501173168431936, 'op_f1': {'delete': 0, 'update': 0.761790615449152, 'dontcare': 0.7396726422447389, 'carryover': 0.9737373361490729}, 'final_slot_f1': 0.8470860966783841}\n",
      "\n",
      "\n"
     ]
    },
    {
     "name": "stderr",
     "output_type": "stream",
     "text": [
      "  0%|          | 1/1417 [00:01<32:52,  1.39s/it]"
     ]
    },
    {
     "name": "stdout",
     "output_type": "stream",
     "text": [
      "[16/30] [0/1417] mean_loss : 0.112, state_loss : 0.009, gen_loss : 0.064, dom_loss : 0.039\n"
     ]
    },
    {
     "name": "stderr",
     "output_type": "stream",
     "text": [
      "  7%|▋         | 101/1417 [00:48<10:10,  2.15it/s]"
     ]
    },
    {
     "name": "stdout",
     "output_type": "stream",
     "text": [
      "[16/30] [100/1417] mean_loss : 0.183, state_loss : 0.009, gen_loss : 0.097, dom_loss : 0.012\n"
     ]
    },
    {
     "name": "stderr",
     "output_type": "stream",
     "text": [
      " 14%|█▍        | 201/1417 [01:33<09:28,  2.14it/s]"
     ]
    },
    {
     "name": "stdout",
     "output_type": "stream",
     "text": [
      "[16/30] [200/1417] mean_loss : 0.191, state_loss : 0.010, gen_loss : 0.325, dom_loss : 0.000\n"
     ]
    },
    {
     "name": "stderr",
     "output_type": "stream",
     "text": [
      " 21%|██        | 301/1417 [02:19<08:37,  2.16it/s]"
     ]
    },
    {
     "name": "stdout",
     "output_type": "stream",
     "text": [
      "[16/30] [300/1417] mean_loss : 0.182, state_loss : 0.009, gen_loss : 0.233, dom_loss : 0.003\n"
     ]
    },
    {
     "name": "stderr",
     "output_type": "stream",
     "text": [
      " 28%|██▊       | 401/1417 [03:05<07:29,  2.26it/s]"
     ]
    },
    {
     "name": "stdout",
     "output_type": "stream",
     "text": [
      "[16/30] [400/1417] mean_loss : 0.195, state_loss : 0.012, gen_loss : 0.202, dom_loss : 0.059\n"
     ]
    },
    {
     "name": "stderr",
     "output_type": "stream",
     "text": [
      " 35%|███▌      | 501/1417 [03:51<06:30,  2.35it/s]"
     ]
    },
    {
     "name": "stdout",
     "output_type": "stream",
     "text": [
      "[16/30] [500/1417] mean_loss : 0.188, state_loss : 0.007, gen_loss : 0.152, dom_loss : 0.000\n"
     ]
    },
    {
     "name": "stderr",
     "output_type": "stream",
     "text": [
      " 42%|████▏     | 601/1417 [04:37<06:23,  2.13it/s]"
     ]
    },
    {
     "name": "stdout",
     "output_type": "stream",
     "text": [
      "[16/30] [600/1417] mean_loss : 0.207, state_loss : 0.013, gen_loss : 0.115, dom_loss : 0.126\n"
     ]
    },
    {
     "name": "stderr",
     "output_type": "stream",
     "text": [
      " 49%|████▉     | 701/1417 [05:23<05:45,  2.07it/s]"
     ]
    },
    {
     "name": "stdout",
     "output_type": "stream",
     "text": [
      "[16/30] [700/1417] mean_loss : 0.193, state_loss : 0.009, gen_loss : 0.257, dom_loss : 0.003\n"
     ]
    },
    {
     "name": "stderr",
     "output_type": "stream",
     "text": [
      " 57%|█████▋    | 801/1417 [06:10<04:46,  2.15it/s]"
     ]
    },
    {
     "name": "stdout",
     "output_type": "stream",
     "text": [
      "[16/30] [800/1417] mean_loss : 0.201, state_loss : 0.010, gen_loss : 0.159, dom_loss : 0.000\n"
     ]
    },
    {
     "name": "stderr",
     "output_type": "stream",
     "text": [
      " 64%|██████▎   | 901/1417 [06:55<03:36,  2.38it/s]"
     ]
    },
    {
     "name": "stdout",
     "output_type": "stream",
     "text": [
      "[16/30] [900/1417] mean_loss : 0.185, state_loss : 0.013, gen_loss : 0.080, dom_loss : 0.000\n"
     ]
    },
    {
     "name": "stderr",
     "output_type": "stream",
     "text": [
      " 71%|███████   | 1001/1417 [07:41<03:21,  2.06it/s]"
     ]
    },
    {
     "name": "stdout",
     "output_type": "stream",
     "text": [
      "[16/30] [1000/1417] mean_loss : 0.186, state_loss : 0.006, gen_loss : 0.181, dom_loss : 0.001\n"
     ]
    },
    {
     "name": "stderr",
     "output_type": "stream",
     "text": [
      " 78%|███████▊  | 1101/1417 [08:28<02:25,  2.18it/s]"
     ]
    },
    {
     "name": "stdout",
     "output_type": "stream",
     "text": [
      "[16/30] [1100/1417] mean_loss : 0.172, state_loss : 0.009, gen_loss : 0.104, dom_loss : 0.000\n"
     ]
    },
    {
     "name": "stderr",
     "output_type": "stream",
     "text": [
      " 85%|████████▍ | 1201/1417 [09:16<01:38,  2.18it/s]"
     ]
    },
    {
     "name": "stdout",
     "output_type": "stream",
     "text": [
      "[16/30] [1200/1417] mean_loss : 0.201, state_loss : 0.006, gen_loss : 0.457, dom_loss : 0.006\n"
     ]
    },
    {
     "name": "stderr",
     "output_type": "stream",
     "text": [
      " 92%|█████████▏| 1301/1417 [10:03<00:53,  2.16it/s]"
     ]
    },
    {
     "name": "stdout",
     "output_type": "stream",
     "text": [
      "[16/30] [1300/1417] mean_loss : 0.188, state_loss : 0.018, gen_loss : 0.152, dom_loss : 0.006\n"
     ]
    },
    {
     "name": "stderr",
     "output_type": "stream",
     "text": [
      " 99%|█████████▉| 1401/1417 [10:49<00:07,  2.08it/s]"
     ]
    },
    {
     "name": "stdout",
     "output_type": "stream",
     "text": [
      "[16/30] [1400/1417] mean_loss : 0.192, state_loss : 0.013, gen_loss : 0.077, dom_loss : 0.018\n"
     ]
    },
    {
     "name": "stderr",
     "output_type": "stream",
     "text": [
      "100%|██████████| 1417/1417 [10:56<00:00,  2.16it/s]\n",
      "100%|██████████| 5067/5067 [02:05<00:00, 40.42it/s]\n"
     ]
    },
    {
     "name": "stdout",
     "output_type": "stream",
     "text": [
      "------------------------------\n",
      "op_code: 4, is_gt_op: False, is_gt_p_state: False, is_gt_gen: False\n",
      "Epoch 16 joint accuracy :  0.5239786856127886\n",
      "Epoch 16 slot turn accuracy :  0.9487358287831972\n",
      "Epoch 16 slot turn F1:  0.8548361466644551\n",
      "Epoch 16 op accuracy :  0.9497620770563369\n",
      "Epoch 16 op F1 :  {'delete': 0, 'update': 0.7568086382723455, 'dontcare': 0.7270615563298489, 'carryover': 0.9735307250097673}\n",
      "Epoch 16 op hit count :  {'delete': 0, 'update': 6308, 'dontcare': 939, 'carryover': 209313}\n",
      "Epoch 16 op all count :  {'delete': 6769, 'update': 10019, 'dontcare': 1548, 'carryover': 209679}\n",
      "Final Joint Accuracy :  0.3948497854077253\n",
      "Final slot turn F1 :  0.8491153988776032\n",
      "Latency Per Prediction : 19.243377 ms\n",
      "-----------------------------\n",
      "\n",
      "관광 0.7186574531095755 0.9905012613798473\n",
      "숙소 0.7059050559629486 0.9822205068827989\n",
      "식당 0.646273637374861 0.9808346722695994\n",
      "지하철 0.6589595375722543 0.9890815671162487\n",
      "택시 0.41382978723404257 0.9792198581560235\n"
     ]
    },
    {
     "name": "stderr",
     "output_type": "stream",
     "text": [
      "  0%|          | 0/1417 [00:00<?, ?it/s]"
     ]
    },
    {
     "name": "stdout",
     "output_type": "stream",
     "text": [
      "Best Score :  {'epoch': 16, 'joint_acc': 0.5239786856127886, 'slot_acc': 0.9487358287831972, 'slot_f1': 0.8548361466644551, 'op_acc': 0.9497620770563369, 'op_f1': {'delete': 0, 'update': 0.7568086382723455, 'dontcare': 0.7270615563298489, 'carryover': 0.9735307250097673}, 'final_slot_f1': 0.8491153988776032}\n",
      "\n",
      "\n"
     ]
    },
    {
     "name": "stderr",
     "output_type": "stream",
     "text": [
      "  0%|          | 1/1417 [00:01<34:13,  1.45s/it]"
     ]
    },
    {
     "name": "stdout",
     "output_type": "stream",
     "text": [
      "[17/30] [0/1417] mean_loss : 0.189, state_loss : 0.009, gen_loss : 0.179, dom_loss : 0.000\n"
     ]
    },
    {
     "name": "stderr",
     "output_type": "stream",
     "text": [
      "  7%|▋         | 101/1417 [00:47<09:36,  2.28it/s]"
     ]
    },
    {
     "name": "stdout",
     "output_type": "stream",
     "text": [
      "[17/30] [100/1417] mean_loss : 0.175, state_loss : 0.012, gen_loss : 0.090, dom_loss : 0.051\n"
     ]
    },
    {
     "name": "stderr",
     "output_type": "stream",
     "text": [
      " 14%|█▍        | 201/1417 [01:34<08:43,  2.32it/s]"
     ]
    },
    {
     "name": "stdout",
     "output_type": "stream",
     "text": [
      "[17/30] [200/1417] mean_loss : 0.173, state_loss : 0.005, gen_loss : 0.148, dom_loss : 0.001\n"
     ]
    },
    {
     "name": "stderr",
     "output_type": "stream",
     "text": [
      " 21%|██        | 301/1417 [02:22<08:25,  2.21it/s]"
     ]
    },
    {
     "name": "stdout",
     "output_type": "stream",
     "text": [
      "[17/30] [300/1417] mean_loss : 0.175, state_loss : 0.013, gen_loss : 0.132, dom_loss : 0.001\n"
     ]
    },
    {
     "name": "stderr",
     "output_type": "stream",
     "text": [
      " 28%|██▊       | 401/1417 [03:08<07:57,  2.13it/s]"
     ]
    },
    {
     "name": "stdout",
     "output_type": "stream",
     "text": [
      "[17/30] [400/1417] mean_loss : 0.168, state_loss : 0.007, gen_loss : 0.168, dom_loss : 0.000\n"
     ]
    },
    {
     "name": "stderr",
     "output_type": "stream",
     "text": [
      " 35%|███▌      | 501/1417 [03:55<07:19,  2.09it/s]"
     ]
    },
    {
     "name": "stdout",
     "output_type": "stream",
     "text": [
      "[17/30] [500/1417] mean_loss : 0.181, state_loss : 0.005, gen_loss : 0.154, dom_loss : 0.045\n"
     ]
    },
    {
     "name": "stderr",
     "output_type": "stream",
     "text": [
      " 42%|████▏     | 601/1417 [04:42<06:38,  2.05it/s]"
     ]
    },
    {
     "name": "stdout",
     "output_type": "stream",
     "text": [
      "[17/30] [600/1417] mean_loss : 0.173, state_loss : 0.015, gen_loss : 0.193, dom_loss : 0.001\n"
     ]
    },
    {
     "name": "stderr",
     "output_type": "stream",
     "text": [
      " 49%|████▉     | 701/1417 [05:29<06:03,  1.97it/s]"
     ]
    },
    {
     "name": "stdout",
     "output_type": "stream",
     "text": [
      "[17/30] [700/1417] mean_loss : 0.180, state_loss : 0.014, gen_loss : 0.090, dom_loss : 0.001\n"
     ]
    },
    {
     "name": "stderr",
     "output_type": "stream",
     "text": [
      " 57%|█████▋    | 801/1417 [06:16<05:16,  1.95it/s]"
     ]
    },
    {
     "name": "stdout",
     "output_type": "stream",
     "text": [
      "[17/30] [800/1417] mean_loss : 0.175, state_loss : 0.010, gen_loss : 0.114, dom_loss : 0.001\n"
     ]
    },
    {
     "name": "stderr",
     "output_type": "stream",
     "text": [
      " 64%|██████▎   | 901/1417 [07:01<03:56,  2.18it/s]"
     ]
    },
    {
     "name": "stdout",
     "output_type": "stream",
     "text": [
      "[17/30] [900/1417] mean_loss : 0.191, state_loss : 0.018, gen_loss : 0.144, dom_loss : 0.000\n"
     ]
    },
    {
     "name": "stderr",
     "output_type": "stream",
     "text": [
      " 71%|███████   | 1001/1417 [07:47<03:17,  2.10it/s]"
     ]
    },
    {
     "name": "stdout",
     "output_type": "stream",
     "text": [
      "[17/30] [1000/1417] mean_loss : 0.176, state_loss : 0.010, gen_loss : 0.149, dom_loss : 0.000\n"
     ]
    },
    {
     "name": "stderr",
     "output_type": "stream",
     "text": [
      " 78%|███████▊  | 1101/1417 [08:33<02:17,  2.30it/s]"
     ]
    },
    {
     "name": "stdout",
     "output_type": "stream",
     "text": [
      "[17/30] [1100/1417] mean_loss : 0.186, state_loss : 0.022, gen_loss : 0.060, dom_loss : 0.000\n"
     ]
    },
    {
     "name": "stderr",
     "output_type": "stream",
     "text": [
      " 85%|████████▍ | 1201/1417 [09:18<01:33,  2.31it/s]"
     ]
    },
    {
     "name": "stdout",
     "output_type": "stream",
     "text": [
      "[17/30] [1200/1417] mean_loss : 0.175, state_loss : 0.009, gen_loss : 0.124, dom_loss : 0.054\n"
     ]
    },
    {
     "name": "stderr",
     "output_type": "stream",
     "text": [
      " 92%|█████████▏| 1301/1417 [10:05<00:56,  2.04it/s]"
     ]
    },
    {
     "name": "stdout",
     "output_type": "stream",
     "text": [
      "[17/30] [1300/1417] mean_loss : 0.165, state_loss : 0.010, gen_loss : 0.100, dom_loss : 0.065\n"
     ]
    },
    {
     "name": "stderr",
     "output_type": "stream",
     "text": [
      " 99%|█████████▉| 1401/1417 [10:52<00:07,  2.25it/s]"
     ]
    },
    {
     "name": "stdout",
     "output_type": "stream",
     "text": [
      "[17/30] [1400/1417] mean_loss : 0.169, state_loss : 0.008, gen_loss : 0.284, dom_loss : 0.006\n"
     ]
    },
    {
     "name": "stderr",
     "output_type": "stream",
     "text": [
      "100%|██████████| 1417/1417 [10:59<00:00,  2.15it/s]\n",
      "100%|██████████| 5067/5067 [02:03<00:00, 41.14it/s]\n"
     ]
    },
    {
     "name": "stdout",
     "output_type": "stream",
     "text": [
      "------------------------------\n",
      "op_code: 4, is_gt_op: False, is_gt_p_state: False, is_gt_gen: False\n",
      "Epoch 17 joint accuracy :  0.5443062956384448\n",
      "Epoch 17 slot turn accuracy :  0.950963752384715\n",
      "Epoch 17 slot turn F1:  0.865502536802823\n",
      "Epoch 17 op accuracy :  0.9518891301010933\n",
      "Epoch 17 op F1 :  {'delete': 0, 'update': 0.7833639143730887, 'dontcare': 0.7286761868004631, 'carryover': 0.97467754305236}\n",
      "Epoch 17 op hit count :  {'delete': 0, 'update': 6404, 'dontcare': 944, 'carryover': 209697}\n",
      "Epoch 17 op all count :  {'delete': 6799, 'update': 9602, 'dontcare': 1569, 'carryover': 210045}\n",
      "Final Joint Accuracy :  0.402002861230329\n",
      "Final slot turn F1 :  0.8593130569399999\n",
      "Latency Per Prediction : 19.223045 ms\n",
      "-----------------------------\n",
      "\n",
      "관광 0.7398815399802566 0.9912909948448024\n",
      "숙소 0.7394828251640293 0.9838415026373326\n",
      "식당 0.6881720430107527 0.983364231862559\n",
      "지하철 0.653179190751445 0.9888246628131019\n",
      "택시 0.3638297872340426 0.9779196217494028\n"
     ]
    },
    {
     "name": "stderr",
     "output_type": "stream",
     "text": [
      "  0%|          | 0/1417 [00:00<?, ?it/s]"
     ]
    },
    {
     "name": "stdout",
     "output_type": "stream",
     "text": [
      "Best Score :  {'epoch': 17, 'joint_acc': 0.5443062956384448, 'slot_acc': 0.950963752384715, 'slot_f1': 0.865502536802823, 'op_acc': 0.9518891301010933, 'op_f1': {'delete': 0, 'update': 0.7833639143730887, 'dontcare': 0.7286761868004631, 'carryover': 0.97467754305236}, 'final_slot_f1': 0.8593130569399999}\n",
      "\n",
      "\n"
     ]
    },
    {
     "name": "stderr",
     "output_type": "stream",
     "text": [
      "  0%|          | 1/1417 [00:01<39:25,  1.67s/it]"
     ]
    },
    {
     "name": "stdout",
     "output_type": "stream",
     "text": [
      "[18/30] [0/1417] mean_loss : 0.231, state_loss : 0.033, gen_loss : 0.197, dom_loss : 0.002\n"
     ]
    },
    {
     "name": "stderr",
     "output_type": "stream",
     "text": [
      "  7%|▋         | 101/1417 [00:49<10:42,  2.05it/s]"
     ]
    },
    {
     "name": "stdout",
     "output_type": "stream",
     "text": [
      "[18/30] [100/1417] mean_loss : 0.177, state_loss : 0.010, gen_loss : 0.039, dom_loss : 0.001\n"
     ]
    },
    {
     "name": "stderr",
     "output_type": "stream",
     "text": [
      " 14%|█▍        | 201/1417 [01:36<09:08,  2.22it/s]"
     ]
    },
    {
     "name": "stdout",
     "output_type": "stream",
     "text": [
      "[18/30] [200/1417] mean_loss : 0.156, state_loss : 0.006, gen_loss : 0.133, dom_loss : 0.002\n"
     ]
    },
    {
     "name": "stderr",
     "output_type": "stream",
     "text": [
      " 21%|██        | 301/1417 [02:22<08:40,  2.14it/s]"
     ]
    },
    {
     "name": "stdout",
     "output_type": "stream",
     "text": [
      "[18/30] [300/1417] mean_loss : 0.158, state_loss : 0.015, gen_loss : 0.129, dom_loss : 0.001\n"
     ]
    },
    {
     "name": "stderr",
     "output_type": "stream",
     "text": [
      " 26%|██▋       | 372/1417 [02:55<08:24,  2.07it/s]"
     ]
    }
   ],
   "source": [
    "######## TRAINING ########\n",
    "print(\"Let's Do the Training!\")\n",
    "\n",
    "loss_fnc = nn.CrossEntropyLoss()\n",
    "best_score = {'epoch': 0, 'joint_acc': 0, 'op_acc': 0, 'final_slot_f1': 0}\n",
    "\n",
    "for epoch in range(args.n_epochs):\n",
    "    batch_loss = []\n",
    "    model.train()\n",
    "    for step, batch in enumerate(tqdm(train_dataloader)):\n",
    "        batch = [b.to(device) if not isinstance(b, int) else b for b in batch]\n",
    "        input_ids, input_mask, segment_ids, state_position_ids, op_ids,\\\n",
    "        domain_ids, gen_ids, max_value, max_update = batch\n",
    "\n",
    "        if rng.random() < args.decoder_teacher_forcing:  # teacher forcing\n",
    "            teacher = gen_ids\n",
    "        else:\n",
    "            teacher = None\n",
    "        with amp.autocast():\n",
    "            domain_scores, state_scores, gen_scores = model(input_ids=input_ids,\n",
    "                                                            token_type_ids=segment_ids,\n",
    "                                                            state_positions=state_position_ids,\n",
    "                                                            attention_mask=input_mask,\n",
    "                                                            max_value=max_value,\n",
    "                                                            op_ids=op_ids,\n",
    "                                                            max_update=max_update,\n",
    "                                                            teacher=teacher)\n",
    "\n",
    "            loss_s = loss_fnc(state_scores.view(-1, len(op2id)), op_ids.view(-1))\n",
    "            loss_g = masked_cross_entropy_for_value(gen_scores.contiguous(),\n",
    "                                                    gen_ids.contiguous(),\n",
    "                                                    tokenizer.vocab['[PAD]'])\n",
    "            loss = loss_s + loss_g\n",
    "            if args.exclude_domain is not True:  # exclude domain True로 해야!\n",
    "                loss_d = loss_fnc(domain_scores.view(-1, len(domain2id)), domain_ids.view(-1))\n",
    "                loss = loss + loss_d\n",
    "            batch_loss.append(loss.item())  # loss_s + loss_g\n",
    "\n",
    "            loss.backward()\n",
    "        enc_optimizer.step()\n",
    "        enc_scheduler.step()\n",
    "        dec_optimizer.step()\n",
    "        dec_scheduler.step()\n",
    "        model.zero_grad()\n",
    "\n",
    "        if step % 100 == 0:\n",
    "            if args.exclude_domain is not True:\n",
    "                print(\"[%d/%d] [%d/%d] mean_loss : %.3f, state_loss : %.3f, gen_loss : %.3f, dom_loss : %.3f\" \\\n",
    "                      % (epoch+1, args.n_epochs, step,\n",
    "                         len(train_dataloader), np.mean(batch_loss),\n",
    "                         loss_s.item(), loss_g.item(), loss_d.item()))\n",
    "                wandb.log({\n",
    "                    \"train/mean_loss\": np.mean(batch_loss),\n",
    "                    \"train/state_loss\": loss_s.item(),\n",
    "                    \"train/gen_loss\": loss_g.item(),\n",
    "                    \"train/dom_loss\": loss_d.item(),\n",
    "                    \"train/epoch\": epoch+1,\n",
    "                    \"train/enc_learning rate\": get_lr(enc_scheduler),\n",
    "                    \"train/dec_learning rate\": get_lr(dec_scheduler)\n",
    "                })\n",
    "            else:\n",
    "                print(\"[%d/%d] [%d/%d] mean_loss : %.3f, state_loss : %.3f, gen_loss : %.3f\" \\\n",
    "                      % (epoch+1, args.n_epochs, step,\n",
    "                         len(train_dataloader), np.mean(batch_loss),\n",
    "                         loss_s.item(), loss_g.item()))\n",
    "                wandb.log({\n",
    "                    \"train/mean_loss\": np.mean(batch_loss),\n",
    "                    \"train/state_loss\": loss_s.item(),\n",
    "                    \"train/gen_loss\": loss_g.item(),\n",
    "                    \"train/epoch\": epoch+1,\n",
    "                    \"train/enc_learning rate\": get_lr(enc_scheduler),\n",
    "                    \"train/dec_learning rate\": get_lr(dec_scheduler)\n",
    "                })\n",
    "            batch_loss = []\n",
    "\n",
    "    if (epoch+1) % args.eval_epoch == 0:\n",
    "        eval_res = model_evaluation(model, dev_data_raw, tokenizer, slot_meta, epoch+1, args.op_code)\n",
    "        wandb.log({\n",
    "            'eval/epoch': epoch+1,\n",
    "            'eval/joint_acc': eval_res['joint_acc'],\n",
    "            'eval/slot_acc':eval_res['slot_acc'],\n",
    "            'eval/slot_f1': eval_res['slot_f1'],\n",
    "            'eval/op_acc': eval_res['op_acc'],\n",
    "            'eval/op_f1': eval_res['op_f1'],\n",
    "            'eval/final_slot_f1':eval_res['final_slot_f1'],\n",
    "        })\n",
    "        if eval_res['joint_acc'] > best_score['joint_acc']:\n",
    "            best_score = eval_res\n",
    "            model_to_save = model.module if hasattr(model, 'module') else model\n",
    "            save_path = os.path.join(args.save_dir, 'model_best.bin')\n",
    "            torch.save(model_to_save.state_dict(), save_path)\n",
    "        print(\"Best Score : \", best_score)\n",
    "        print(\"\\n\")"
   ]
  },
  {
   "cell_type": "code",
   "execution_count": 16,
   "id": "aae7f3d0-49e1-4c6e-b4cb-ec876fd9f5a1",
   "metadata": {},
   "outputs": [
    {
     "name": "stdout",
     "output_type": "stream",
     "text": [
      "Test using best model...\n"
     ]
    },
    {
     "name": "stderr",
     "output_type": "stream",
     "text": [
      "Special tokens have been added in the vocabulary, make sure the associated word embedding are fine-tuned or trained.\n",
      "100%|██████████| 14771/14771 [06:21<00:00, 38.74it/s]\n"
     ]
    },
    {
     "name": "stdout",
     "output_type": "stream",
     "text": [
      "------------------------------\n",
      "op_code: 4, is_gt_op: False, is_gt_p_state: False, is_gt_gen: False\n",
      "Epoch 29 joint accuracy :  0.01408164646943335\n",
      "Epoch 29 slot turn accuracy :  0.8013329421764989\n",
      "Epoch 29 slot turn F1:  0.01408164646943335\n",
      "Epoch 29 op accuracy :  0.8013329421764989\n",
      "Epoch 29 op F1 :  {'delete': 1.862648313371952e-05, 'update': 0, 'dontcare': 0, 'carryover': 0.8903370099114662}\n",
      "Epoch 29 op hit count :  {'delete': 1, 'update': 0, 'dontcare': 0, 'carryover': 532641}\n",
      "Epoch 29 op all count :  {'delete': 107373, 'update': 0, 'dontcare': 0, 'carryover': 557322}\n",
      "Final Joint Accuracy :  0.0\n",
      "Final slot turn F1 :  0.0\n",
      "Latency Per Prediction : 20.806579 ms\n",
      "-----------------------------\n",
      "\n"
     ]
    },
    {
     "ename": "ZeroDivisionError",
     "evalue": "division by zero",
     "output_type": "error",
     "traceback": [
      "\u001b[0;31m---------------------------------------------------------------------------\u001b[0m",
      "\u001b[0;31mZeroDivisionError\u001b[0m                         Traceback (most recent call last)",
      "\u001b[0;32m<ipython-input-16-14c6d3bb19f8>\u001b[0m in \u001b[0;36m<module>\u001b[0;34m\u001b[0m\n\u001b[1;32m      9\u001b[0m \u001b[0;34m\u001b[0m\u001b[0m\n\u001b[1;32m     10\u001b[0m model_evaluation(model, test_data_raw, tokenizer, slot_meta, 29, args.op_code,\n\u001b[0;32m---> 11\u001b[0;31m                  is_gt_op=False, is_gt_p_state=False, is_gt_gen=False)\n\u001b[0m\u001b[1;32m     12\u001b[0m \u001b[0;31m# model_evaluation(model, test_data_raw, tokenizer, slot_meta, best_epoch, args.op_code,\u001b[0m\u001b[0;34m\u001b[0m\u001b[0;34m\u001b[0m\u001b[0;34m\u001b[0m\u001b[0m\n\u001b[1;32m     13\u001b[0m \u001b[0;31m#                  is_gt_op=False, is_gt_p_state=False, is_gt_gen=True)\u001b[0m\u001b[0;34m\u001b[0m\u001b[0;34m\u001b[0m\u001b[0;34m\u001b[0m\u001b[0m\n",
      "\u001b[0;32m~/repo/taepd/som-dst_edit/evaluation.py\u001b[0m in \u001b[0;36mmodel_evaluation\u001b[0;34m(model, test_data, tokenizer, slot_meta, epoch, op_code, is_gt_op, is_gt_p_state, is_gt_gen)\u001b[0m\n\u001b[1;32m    227\u001b[0m     \u001b[0mprint\u001b[0m\u001b[0;34m(\u001b[0m\u001b[0;34m\"-----------------------------\\n\"\u001b[0m\u001b[0;34m)\u001b[0m\u001b[0;34m\u001b[0m\u001b[0;34m\u001b[0m\u001b[0m\n\u001b[1;32m    228\u001b[0m     \u001b[0mjson\u001b[0m\u001b[0;34m.\u001b[0m\u001b[0mdump\u001b[0m\u001b[0;34m(\u001b[0m\u001b[0mresults\u001b[0m\u001b[0;34m,\u001b[0m \u001b[0mopen\u001b[0m\u001b[0;34m(\u001b[0m\u001b[0;34m'preds_%d.json'\u001b[0m \u001b[0;34m%\u001b[0m \u001b[0mepoch\u001b[0m\u001b[0;34m,\u001b[0m \u001b[0;34m'w'\u001b[0m\u001b[0;34m)\u001b[0m\u001b[0;34m,\u001b[0m \u001b[0mensure_ascii\u001b[0m\u001b[0;34m=\u001b[0m\u001b[0;32mFalse\u001b[0m\u001b[0;34m)\u001b[0m\u001b[0;34m\u001b[0m\u001b[0;34m\u001b[0m\u001b[0m\n\u001b[0;32m--> 229\u001b[0;31m     \u001b[0mper_domain_join_accuracy\u001b[0m\u001b[0;34m(\u001b[0m\u001b[0mresults\u001b[0m\u001b[0;34m,\u001b[0m \u001b[0mslot_meta\u001b[0m\u001b[0;34m)\u001b[0m\u001b[0;34m\u001b[0m\u001b[0;34m\u001b[0m\u001b[0m\n\u001b[0m\u001b[1;32m    230\u001b[0m \u001b[0;34m\u001b[0m\u001b[0m\n\u001b[1;32m    231\u001b[0m     scores = {'epoch': epoch, 'joint_acc': joint_acc_score,\n",
      "\u001b[0;32m~/repo/taepd/som-dst_edit/utils/eval_utils.py\u001b[0m in \u001b[0;36mper_domain_join_accuracy\u001b[0;34m(data, slot_temp)\u001b[0m\n\u001b[1;32m     21\u001b[0m                 \u001b[0mtemp_acc\u001b[0m \u001b[0;34m=\u001b[0m \u001b[0mcompute_acc\u001b[0m\u001b[0;34m(\u001b[0m\u001b[0mset\u001b[0m\u001b[0;34m(\u001b[0m\u001b[0mgg\u001b[0m\u001b[0;34m)\u001b[0m\u001b[0;34m,\u001b[0m \u001b[0mset\u001b[0m\u001b[0;34m(\u001b[0m\u001b[0mpp\u001b[0m\u001b[0;34m)\u001b[0m\u001b[0;34m,\u001b[0m \u001b[0mslot_temp\u001b[0m\u001b[0;34m)\u001b[0m\u001b[0;34m\u001b[0m\u001b[0;34m\u001b[0m\u001b[0m\n\u001b[1;32m     22\u001b[0m                 \u001b[0macc\u001b[0m \u001b[0;34m+=\u001b[0m \u001b[0mtemp_acc\u001b[0m\u001b[0;34m\u001b[0m\u001b[0;34m\u001b[0m\u001b[0m\n\u001b[0;32m---> 23\u001b[0;31m         \u001b[0mprint\u001b[0m\u001b[0;34m(\u001b[0m\u001b[0mdom\u001b[0m\u001b[0;34m,\u001b[0m \u001b[0mjt\u001b[0m \u001b[0;34m/\u001b[0m \u001b[0mcount\u001b[0m\u001b[0;34m,\u001b[0m \u001b[0macc\u001b[0m \u001b[0;34m/\u001b[0m \u001b[0mcount\u001b[0m\u001b[0;34m)\u001b[0m\u001b[0;34m\u001b[0m\u001b[0;34m\u001b[0m\u001b[0m\n\u001b[0m\u001b[1;32m     24\u001b[0m \u001b[0;34m\u001b[0m\u001b[0m\n\u001b[1;32m     25\u001b[0m \u001b[0;34m\u001b[0m\u001b[0m\n",
      "\u001b[0;31mZeroDivisionError\u001b[0m: division by zero"
     ]
    }
   ],
   "source": [
    "###### TEST DATA EVALUATION ######\n",
    "print(\"Test using best model...\")\n",
    "# best_epoch = best_score['epoch']\n",
    "ckpt_path = os.path.join(args.save_dir, 'model_best.bin')\n",
    "model = SomDST(model_config, len(op2id), len(domain2id), op2id['update'], args.exclude_domain)\n",
    "ckpt = torch.load(ckpt_path, map_location='cpu')\n",
    "model.load_state_dict(ckpt)\n",
    "model.to(device)\n",
    "\n",
    "model_evaluation(model, test_data_raw, tokenizer, slot_meta, 29, args.op_code,\n",
    "                 is_gt_op=False, is_gt_p_state=False, is_gt_gen=False)\n",
    "# model_evaluation(model, test_data_raw, tokenizer, slot_meta, best_epoch, args.op_code,\n",
    "#                  is_gt_op=False, is_gt_p_state=False, is_gt_gen=True)\n",
    "# model_evaluation(model, test_data_raw, tokenizer, slot_meta, best_epoch, args.op_code,\n",
    "#                  is_gt_op=False, is_gt_p_state=True, is_gt_gen=False)\n",
    "# model_evaluation(model, test_data_raw, tokenizer, slot_meta, best_epoch, args.op_code,\n",
    "#                  is_gt_op=False, is_gt_p_state=True, is_gt_gen=True)\n",
    "# model_evaluation(model, test_data_raw, tokenizer, slot_meta, best_epoch, args.op_code,\n",
    "#                  is_gt_op=True, is_gt_p_state=False, is_gt_gen=False)\n",
    "# model_evaluation(model, test_data_raw, tokenizer, slot_meta, best_epoch, args.op_code,\n",
    "#                  is_gt_op=True, is_gt_p_state=True, is_gt_gen=False)\n",
    "# model_evaluation(model, test_data_raw, tokenizer, slot_meta, best_epoch, args.op_code,\n",
    "#                  is_gt_op=True, is_gt_p_state=False, is_gt_gen=True)\n",
    "# model_evaluation(model, test_data_raw, tokenizer, slot_meta, best_epoch, args.op_code,\n",
    "#                  is_gt_op=True, is_gt_p_state=True, is_gt_gen=True)"
   ]
  },
  {
   "cell_type": "code",
   "execution_count": 20,
   "id": "07645e69-ecad-4732-b488-b85e1043fe80",
   "metadata": {},
   "outputs": [],
   "source": [
    "pred = json.load(open('preds_29.json'))"
   ]
  },
  {
   "cell_type": "code",
   "execution_count": 24,
   "id": "96a7b688-b037-4bea-ae47-b6d48afa49f8",
   "metadata": {},
   "outputs": [],
   "source": [
    "predictions = {}\n",
    "for k, v in pred.items():\n",
    "    predictions[k] = v[0]\n",
    "predictions\n",
    "\n",
    "json.dump(\n",
    "        predictions,\n",
    "#         open(f\"{args.output_dir}/predictions.csv\", \"w\"),\n",
    "        open(f\"predictions.csv\", \"w\"),\n",
    "        indent=2,\n",
    "        ensure_ascii=False,\n",
    "    )"
   ]
  }
 ],
 "metadata": {
  "kernelspec": {
   "display_name": "Python 3",
   "language": "python",
   "name": "python3"
  },
  "language_info": {
   "codemirror_mode": {
    "name": "ipython",
    "version": 3
   },
   "file_extension": ".py",
   "mimetype": "text/x-python",
   "name": "python",
   "nbconvert_exporter": "python",
   "pygments_lexer": "ipython3",
   "version": "3.7.7"
  }
 },
 "nbformat": 4,
 "nbformat_minor": 5
}
