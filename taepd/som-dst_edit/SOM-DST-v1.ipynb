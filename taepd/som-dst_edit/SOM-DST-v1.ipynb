{
 "cells": [
  {
   "cell_type": "markdown",
   "id": "5b345b6a-97c0-4d09-a95f-ba6e5f15705a",
   "metadata": {},
   "source": [
    "### som-dst `train.py`"
   ]
  },
  {
   "cell_type": "code",
   "execution_count": 1,
   "id": "5cddb349-4a10-4b01-97e0-17132db414d2",
   "metadata": {},
   "outputs": [],
   "source": [
    "import sys\n",
    "sys.path.append('..')"
   ]
  },
  {
   "cell_type": "code",
   "execution_count": 2,
   "id": "524676c7-43f5-4d9e-89da-a3d4e4e35298",
   "metadata": {},
   "outputs": [],
   "source": [
    "\"\"\"\n",
    "SOM-DST\n",
    "Copyright (c) 2020-present NAVER Corp.\n",
    "MIT license\n",
    "\"\"\"\n",
    "\n",
    "from model import SomDST\n",
    "# from pytorch_transformers import BertTokenizer, AdamW, WarmupLinearSchedule, BertConfig\n",
    "from transformers import BertModel, BertTokenizer, BertConfig, AdamW, get_linear_schedule_with_warmup, get_cosine_with_hard_restarts_schedule_with_warmup\n",
    "from utils.data_utils import prepare_dataset, MultiWozDataset\n",
    "from utils.data_utils import  domain2id, OP_SET, make_turn_label, postprocessing # make_slot_meta,\n",
    "from utils.eval_utils import compute_prf, compute_acc, per_domain_join_accuracy\n",
    "# from utils.ckpt_utils import download_ckpt, convert_ckpt_compatible\n",
    "from evaluation import model_evaluation\n",
    "\n",
    "import torch\n",
    "import torch.nn as nn\n",
    "from torch.utils.data import TensorDataset, DataLoader, RandomSampler, SequentialSampler\n",
    "import torch.cuda.amp as amp\n",
    "\n",
    "import numpy as np\n",
    "import argparse\n",
    "import random\n",
    "import os\n",
    "import json\n",
    "import time\n",
    "import pickle\n",
    "from tqdm import tqdm"
   ]
  },
  {
   "cell_type": "code",
   "execution_count": 3,
   "id": "9e843bb6-b7a1-44ab-8692-3eb00d5f9d8f",
   "metadata": {},
   "outputs": [
    {
     "name": "stdout",
     "output_type": "stream",
     "text": [
      "Device Name : cuda\n"
     ]
    }
   ],
   "source": [
    "device = torch.device('cuda' if torch.cuda.is_available() else 'cpu')\n",
    "print(f'Device Name : {device}')\n",
    "\n",
    "# torch.cuda.empty_cache()"
   ]
  },
  {
   "cell_type": "code",
   "execution_count": 4,
   "id": "acaf50ed-b45e-4431-b4b1-fe2aaa088e4b",
   "metadata": {},
   "outputs": [],
   "source": [
    "def masked_cross_entropy_for_value(logits, target, pad_idx=0):\n",
    "    mask = target.ne(pad_idx)\n",
    "    logits_flat = logits.view(-1, logits.size(-1))\n",
    "    log_probs_flat = torch.log(logits_flat)\n",
    "    target_flat = target.view(-1, 1)\n",
    "    losses_flat = -torch.gather(log_probs_flat, dim=1, index=target_flat)\n",
    "    losses = losses_flat.view(*target.size())\n",
    "    losses = losses * mask.float()\n",
    "    loss = losses.sum() / (mask.sum().float())\n",
    "    return loss"
   ]
  },
  {
   "cell_type": "code",
   "execution_count": 5,
   "id": "aa0f7560-9e16-47ec-9063-c964a32dce03",
   "metadata": {},
   "outputs": [],
   "source": [
    "import wandb\n",
    "# !wandb login  # run once"
   ]
  },
  {
   "cell_type": "code",
   "execution_count": 6,
   "id": "65d8b467-a6c6-4819-9bdf-067d576d919f",
   "metadata": {},
   "outputs": [
    {
     "name": "stderr",
     "output_type": "stream",
     "text": [
      "\u001b[34m\u001b[1mwandb\u001b[0m: Currently logged in as: \u001b[33mtaepd\u001b[0m (use `wandb login --relogin` to force relogin)\n",
      "\u001b[34m\u001b[1mwandb\u001b[0m: wandb version 0.10.30 is available!  To upgrade, please run:\n",
      "\u001b[34m\u001b[1mwandb\u001b[0m:  $ pip install wandb --upgrade\n"
     ]
    },
    {
     "data": {
      "text/html": [
       "\n",
       "                Tracking run with wandb version 0.10.28<br/>\n",
       "                Syncing run <strong style=\"color:#cdcd00\">giddy-cosmos-17</strong> to <a href=\"https://wandb.ai\" target=\"_blank\">Weights & Biases</a> <a href=\"https://docs.wandb.com/integrations/jupyter.html\" target=\"_blank\">(Documentation)</a>.<br/>\n",
       "                Project page: <a href=\"https://wandb.ai/taepd/SOM-DST\" target=\"_blank\">https://wandb.ai/taepd/SOM-DST</a><br/>\n",
       "                Run page: <a href=\"https://wandb.ai/taepd/SOM-DST/runs/jid20spw\" target=\"_blank\">https://wandb.ai/taepd/SOM-DST/runs/jid20spw</a><br/>\n",
       "                Run data is saved locally in <code>/opt/ml/repo/taepd/som-dst_edit/wandb/run-20210513_035258-jid20spw</code><br/><br/>\n",
       "            "
      ],
      "text/plain": [
       "<IPython.core.display.HTML object>"
      ]
     },
     "metadata": {},
     "output_type": "display_data"
    }
   ],
   "source": [
    "# wandb sweep 생성 시 parameters에 전달하는 config 설정\n",
    "# hyperparameter_defaults = dict(\n",
    "#     batch_size = args.batch_size,\n",
    "#     learning_rate = args.learning_rate,\n",
    "#     epochs = args.num_train_epochs,\n",
    "#     weight_decay = args.weight_decay,\n",
    "#     attn_head = args.attn_head,\n",
    "#     distance_metric = args.distance_metric,\n",
    "    \n",
    "#     dropout = 0.1,\n",
    "#     smoothing = 0.2\n",
    "#     model_name = 'BertForSequenceClassification',\n",
    "#     tokenizer_name = 'BertTokenizer',\n",
    "#     )\n",
    "\n",
    "# wandb.init(config=hyperparameter_defaults, project=\"TRADE\")\n",
    "wandb.init(project=\"SOM-DST\")\n",
    "config = wandb.config"
   ]
  },
  {
   "cell_type": "markdown",
   "id": "188c8fa6-550a-477e-af6e-ed7d6df04c0b",
   "metadata": {},
   "source": [
    "### args setting"
   ]
  },
  {
   "cell_type": "code",
   "execution_count": 7,
   "id": "e8a06d10-b4d4-4b14-a7e4-ba07448814c7",
   "metadata": {},
   "outputs": [
    {
     "name": "stdout",
     "output_type": "stream",
     "text": [
      "pytorch version:  1.7.0+cu101\n"
     ]
    }
   ],
   "source": [
    "from argparse import Namespace\n",
    "\n",
    "parser = argparse.ArgumentParser()\n",
    "\n",
    "# Required parameters\n",
    "args = {\n",
    "    \"data_root\":'data',  # default='data/mwz2.1'\n",
    "    \"train_data\":'train_dials.json',\n",
    "    \"dev_data\":'dev_dials.json',\n",
    "    \"test_data\":'test_dials.json',\n",
    "    \"ontology_data\":'ontology.json',\n",
    "    \"slot_meta\":'slot_meta.json',\n",
    "    # \"--vocab_path\":'assets/vocab.txt',\n",
    "    \"bert_config_path\":'assets/bert_config_base_uncased.json',\n",
    "    \"bert_ckpt_path\":'assets/bert-base-uncased-pytorch_model.bin',\n",
    "    \"save_dir\":'outputs',\n",
    "\n",
    "    \"random_seed\":42, \n",
    "    \"num_workers\":4, \n",
    "    \"batch_size\":32, \n",
    "    \"enc_warmup\":0.1, \n",
    "    \"dec_warmup\":0.1, \n",
    "    \"enc_lr\":4e-5, \n",
    "    \"dec_lr\":1e-4, \n",
    "    \"n_epochs\":30, \n",
    "    \"eval_epoch\":1, \n",
    "\n",
    "    \"op_code\":\"4\",\n",
    "    \"slot_token\":\"[SLOT]\",\n",
    "    \"dropout\":0.1, \n",
    "    \"hidden_dropout_prob\":0.1, \n",
    "    \"attention_probs_dropout_prob\":0.1, \n",
    "    \"decoder_teacher_forcing\":0.5, \n",
    "    \"word_dropout\":0.1, \n",
    "    \"not_shuffle_state\":False,\n",
    "    \"shuffle_p\":0.5, \n",
    "\n",
    "    \"n_history\":1, \n",
    "    \"max_seq_length\":512, \n",
    "    \"msg\":None,\n",
    "    \"exclude_domain\": False, \n",
    "}\n",
    "\n",
    "args = Namespace(**args)\n",
    "\n",
    "args.train_data_path = os.path.join(args.data_root, args.train_data)\n",
    "args.dev_data_path = os.path.join(args.data_root, args.dev_data)\n",
    "args.test_data_path = os.path.join(args.data_root, args.test_data)\n",
    "args.ontology_data = os.path.join(args.data_root, args.ontology_data)\n",
    "args.slot_meta = os.path.join(args.data_root, args.slot_meta)\n",
    "args.shuffle_state = False if args.not_shuffle_state else True\n",
    "\n",
    "\n",
    "print('pytorch version: ', torch.__version__)\n",
    "# print(args)"
   ]
  },
  {
   "cell_type": "code",
   "execution_count": 8,
   "id": "dbdcdf5a-2d9e-4213-ab0a-dcd5dff2d29a",
   "metadata": {},
   "outputs": [],
   "source": [
    "def worker_init_fn(worker_id):\n",
    "        np.random.seed(args.random_seed + worker_id)\n",
    "\n",
    "n_gpu = 0\n",
    "if torch.cuda.is_available():\n",
    "    n_gpu = torch.cuda.device_count()\n",
    "np.random.seed(args.random_seed)\n",
    "random.seed(args.random_seed)\n",
    "rng = random.Random(args.random_seed)\n",
    "torch.manual_seed(args.random_seed)\n",
    "if n_gpu > 0:\n",
    "    torch.cuda.manual_seed(args.random_seed)\n",
    "    torch.cuda.manual_seed_all(args.random_seed)\n",
    "    torch.backends.cudnn.benchmark = False\n",
    "    torch.backends.cudnn.deterministic = True\n",
    "\n",
    "if not os.path.exists(args.save_dir):\n",
    "    os.mkdir(args.save_dir)"
   ]
  },
  {
   "cell_type": "code",
   "execution_count": 9,
   "id": "7123eec2-5206-4ca0-8b81-8d07120ec9c5",
   "metadata": {},
   "outputs": [
    {
     "name": "stdout",
     "output_type": "stream",
     "text": [
      "{'delete': 0, 'update': 1, 'dontcare': 2, 'carryover': 3}\n"
     ]
    }
   ],
   "source": [
    "ontology = json.load(open(args.ontology_data))\n",
    "# slot_meta, ontology = make_slot_meta(ontology)\n",
    "slot_meta = json.load(open(args.slot_meta))\n",
    "op2id = OP_SET[args.op_code]\n",
    "print(op2id)\n"
   ]
  },
  {
   "cell_type": "markdown",
   "id": "957398d9-151e-431e-ad7d-91dceafdd1ee",
   "metadata": {},
   "source": [
    "### MODEL CONFIG"
   ]
  },
  {
   "cell_type": "code",
   "execution_count": 10,
   "id": "f8db0727-4e2b-4bce-a7cb-fc5e744ec430",
   "metadata": {
    "tags": []
   },
   "outputs": [
    {
     "ename": "KeyboardInterrupt",
     "evalue": "",
     "output_type": "error",
     "traceback": [
      "\u001b[0;31m---------------------------------------------------------------------------\u001b[0m",
      "\u001b[0;31mKeyboardInterrupt\u001b[0m                         Traceback (most recent call last)",
      "\u001b[0;32m<ipython-input-10-04b2b4d6c9ec>\u001b[0m in \u001b[0;36m<module>\u001b[0;34m\u001b[0m\n\u001b[1;32m      5\u001b[0m \u001b[0mmodel_config\u001b[0m\u001b[0;34m.\u001b[0m\u001b[0mhidden_dropout_prob\u001b[0m \u001b[0;34m=\u001b[0m \u001b[0margs\u001b[0m\u001b[0;34m.\u001b[0m\u001b[0mhidden_dropout_prob\u001b[0m\u001b[0;34m\u001b[0m\u001b[0;34m\u001b[0m\u001b[0m\n\u001b[1;32m      6\u001b[0m \u001b[0mmodel_config\u001b[0m\u001b[0;34m.\u001b[0m\u001b[0mvocab_size\u001b[0m \u001b[0;34m+=\u001b[0m \u001b[0;36m3\u001b[0m  \u001b[0;31m# 추가되는 special token 고려\u001b[0m\u001b[0;34m\u001b[0m\u001b[0;34m\u001b[0m\u001b[0m\n\u001b[0;32m----> 7\u001b[0;31m \u001b[0mmodel\u001b[0m \u001b[0;34m=\u001b[0m \u001b[0mSomDST\u001b[0m\u001b[0;34m(\u001b[0m\u001b[0mmodel_config\u001b[0m\u001b[0;34m,\u001b[0m \u001b[0mlen\u001b[0m\u001b[0;34m(\u001b[0m\u001b[0mop2id\u001b[0m\u001b[0;34m)\u001b[0m\u001b[0;34m,\u001b[0m \u001b[0mlen\u001b[0m\u001b[0;34m(\u001b[0m\u001b[0mdomain2id\u001b[0m\u001b[0;34m)\u001b[0m\u001b[0;34m,\u001b[0m \u001b[0mop2id\u001b[0m\u001b[0;34m[\u001b[0m\u001b[0;34m'update'\u001b[0m\u001b[0;34m]\u001b[0m\u001b[0;34m,\u001b[0m \u001b[0margs\u001b[0m\u001b[0;34m.\u001b[0m\u001b[0mexclude_domain\u001b[0m\u001b[0;34m)\u001b[0m\u001b[0;34m\u001b[0m\u001b[0;34m\u001b[0m\u001b[0m\n\u001b[0m\u001b[1;32m      8\u001b[0m \u001b[0;34m\u001b[0m\u001b[0m\n\u001b[1;32m      9\u001b[0m \u001b[0mwandb\u001b[0m\u001b[0;34m.\u001b[0m\u001b[0mwatch\u001b[0m\u001b[0;34m(\u001b[0m\u001b[0mmodel\u001b[0m\u001b[0;34m)\u001b[0m\u001b[0;34m\u001b[0m\u001b[0;34m\u001b[0m\u001b[0m\n",
      "\u001b[0;32m~/repo/taepd/som-dst_edit/model.py\u001b[0m in \u001b[0;36m__init__\u001b[0;34m(self, config, n_op, n_domain, update_id, exclude_domain)\u001b[0m\n\u001b[1;32m     15\u001b[0m         \u001b[0msuper\u001b[0m\u001b[0;34m(\u001b[0m\u001b[0mSomDST\u001b[0m\u001b[0;34m,\u001b[0m \u001b[0mself\u001b[0m\u001b[0;34m)\u001b[0m\u001b[0;34m.\u001b[0m\u001b[0m__init__\u001b[0m\u001b[0;34m(\u001b[0m\u001b[0mconfig\u001b[0m\u001b[0;34m)\u001b[0m\u001b[0;34m\u001b[0m\u001b[0;34m\u001b[0m\u001b[0m\n\u001b[1;32m     16\u001b[0m         \u001b[0mself\u001b[0m\u001b[0;34m.\u001b[0m\u001b[0mhidden_size\u001b[0m \u001b[0;34m=\u001b[0m \u001b[0mconfig\u001b[0m\u001b[0;34m.\u001b[0m\u001b[0mhidden_size\u001b[0m\u001b[0;34m\u001b[0m\u001b[0;34m\u001b[0m\u001b[0m\n\u001b[0;32m---> 17\u001b[0;31m         \u001b[0mself\u001b[0m\u001b[0;34m.\u001b[0m\u001b[0mencoder\u001b[0m \u001b[0;34m=\u001b[0m \u001b[0mEncoder\u001b[0m\u001b[0;34m(\u001b[0m\u001b[0mconfig\u001b[0m\u001b[0;34m,\u001b[0m \u001b[0mn_op\u001b[0m\u001b[0;34m,\u001b[0m \u001b[0mn_domain\u001b[0m\u001b[0;34m,\u001b[0m \u001b[0mupdate_id\u001b[0m\u001b[0;34m,\u001b[0m \u001b[0mexclude_domain\u001b[0m\u001b[0;34m)\u001b[0m\u001b[0;34m\u001b[0m\u001b[0;34m\u001b[0m\u001b[0m\n\u001b[0m\u001b[1;32m     18\u001b[0m         \u001b[0mself\u001b[0m\u001b[0;34m.\u001b[0m\u001b[0mdecoder\u001b[0m \u001b[0;34m=\u001b[0m \u001b[0mDecoder\u001b[0m\u001b[0;34m(\u001b[0m\u001b[0mconfig\u001b[0m\u001b[0;34m,\u001b[0m \u001b[0mself\u001b[0m\u001b[0;34m.\u001b[0m\u001b[0mencoder\u001b[0m\u001b[0;34m.\u001b[0m\u001b[0mbert\u001b[0m\u001b[0;34m.\u001b[0m\u001b[0membeddings\u001b[0m\u001b[0;34m.\u001b[0m\u001b[0mword_embeddings\u001b[0m\u001b[0;34m.\u001b[0m\u001b[0mweight\u001b[0m\u001b[0;34m)\u001b[0m\u001b[0;34m\u001b[0m\u001b[0;34m\u001b[0m\u001b[0m\n\u001b[1;32m     19\u001b[0m         \u001b[0mself\u001b[0m\u001b[0;34m.\u001b[0m\u001b[0minit_weights\u001b[0m\u001b[0;34m\u001b[0m\u001b[0;34m\u001b[0m\u001b[0m\n",
      "\u001b[0;32m~/repo/taepd/som-dst_edit/model.py\u001b[0m in \u001b[0;36m__init__\u001b[0;34m(self, config, n_op, n_domain, update_id, exclude_domain)\u001b[0m\n\u001b[1;32m     45\u001b[0m         \u001b[0mself\u001b[0m\u001b[0;34m.\u001b[0m\u001b[0mhidden_size\u001b[0m \u001b[0;34m=\u001b[0m \u001b[0mconfig\u001b[0m\u001b[0;34m.\u001b[0m\u001b[0mhidden_size\u001b[0m\u001b[0;34m\u001b[0m\u001b[0;34m\u001b[0m\u001b[0m\n\u001b[1;32m     46\u001b[0m         \u001b[0mself\u001b[0m\u001b[0;34m.\u001b[0m\u001b[0mexclude_domain\u001b[0m \u001b[0;34m=\u001b[0m \u001b[0mexclude_domain\u001b[0m\u001b[0;34m\u001b[0m\u001b[0;34m\u001b[0m\u001b[0m\n\u001b[0;32m---> 47\u001b[0;31m         \u001b[0mself\u001b[0m\u001b[0;34m.\u001b[0m\u001b[0mbert\u001b[0m \u001b[0;34m=\u001b[0m \u001b[0mBertModel\u001b[0m\u001b[0;34m.\u001b[0m\u001b[0mfrom_pretrained\u001b[0m\u001b[0;34m(\u001b[0m\u001b[0;34m'dsksd/bert-ko-small-minimal'\u001b[0m\u001b[0;34m)\u001b[0m\u001b[0;34m\u001b[0m\u001b[0;34m\u001b[0m\u001b[0m\n\u001b[0m\u001b[1;32m     48\u001b[0m         \u001b[0mself\u001b[0m\u001b[0;34m.\u001b[0m\u001b[0mtokenizer\u001b[0m \u001b[0;34m=\u001b[0m \u001b[0mBertTokenizer\u001b[0m\u001b[0;34m.\u001b[0m\u001b[0mfrom_pretrained\u001b[0m\u001b[0;34m(\u001b[0m\u001b[0;34m'dsksd/bert-ko-small-minimal'\u001b[0m\u001b[0;34m,\u001b[0m \u001b[0madditional_special_tokens\u001b[0m \u001b[0;34m=\u001b[0m \u001b[0;34m[\u001b[0m\u001b[0;34m'[SLOT]'\u001b[0m\u001b[0;34m,\u001b[0m \u001b[0;34m'[NULL]'\u001b[0m\u001b[0;34m,\u001b[0m\u001b[0;34m'[EOS]'\u001b[0m\u001b[0;34m]\u001b[0m\u001b[0;34m)\u001b[0m\u001b[0;34m\u001b[0m\u001b[0;34m\u001b[0m\u001b[0m\n\u001b[1;32m     49\u001b[0m         \u001b[0mself\u001b[0m\u001b[0;34m.\u001b[0m\u001b[0mbert\u001b[0m\u001b[0;34m.\u001b[0m\u001b[0mresize_token_embeddings\u001b[0m\u001b[0;34m(\u001b[0m\u001b[0mlen\u001b[0m\u001b[0;34m(\u001b[0m\u001b[0mself\u001b[0m\u001b[0;34m.\u001b[0m\u001b[0mtokenizer\u001b[0m\u001b[0;34m)\u001b[0m\u001b[0;34m)\u001b[0m\u001b[0;34m\u001b[0m\u001b[0;34m\u001b[0m\u001b[0m\n",
      "\u001b[0;32m/opt/conda/lib/python3.7/site-packages/transformers/modeling_utils.py\u001b[0m in \u001b[0;36mfrom_pretrained\u001b[0;34m(cls, pretrained_model_name_or_path, *model_args, **kwargs)\u001b[0m\n\u001b[1;32m    945\u001b[0m \u001b[0;34m\u001b[0m\u001b[0m\n\u001b[1;32m    946\u001b[0m         \u001b[0;31m# Instantiate model.\u001b[0m\u001b[0;34m\u001b[0m\u001b[0;34m\u001b[0m\u001b[0;34m\u001b[0m\u001b[0m\n\u001b[0;32m--> 947\u001b[0;31m         \u001b[0mmodel\u001b[0m \u001b[0;34m=\u001b[0m \u001b[0mcls\u001b[0m\u001b[0;34m(\u001b[0m\u001b[0mconfig\u001b[0m\u001b[0;34m,\u001b[0m \u001b[0;34m*\u001b[0m\u001b[0mmodel_args\u001b[0m\u001b[0;34m,\u001b[0m \u001b[0;34m**\u001b[0m\u001b[0mmodel_kwargs\u001b[0m\u001b[0;34m)\u001b[0m\u001b[0;34m\u001b[0m\u001b[0;34m\u001b[0m\u001b[0m\n\u001b[0m\u001b[1;32m    948\u001b[0m \u001b[0;34m\u001b[0m\u001b[0m\n\u001b[1;32m    949\u001b[0m         \u001b[0;32mif\u001b[0m \u001b[0mstate_dict\u001b[0m \u001b[0;32mis\u001b[0m \u001b[0;32mNone\u001b[0m \u001b[0;32mand\u001b[0m \u001b[0;32mnot\u001b[0m \u001b[0mfrom_tf\u001b[0m\u001b[0;34m:\u001b[0m\u001b[0;34m\u001b[0m\u001b[0;34m\u001b[0m\u001b[0m\n",
      "\u001b[0;32m/opt/conda/lib/python3.7/site-packages/transformers/modeling_bert.py\u001b[0m in \u001b[0;36m__init__\u001b[0;34m(self, config, add_pooling_layer)\u001b[0m\n\u001b[1;32m    743\u001b[0m         \u001b[0mself\u001b[0m\u001b[0;34m.\u001b[0m\u001b[0mpooler\u001b[0m \u001b[0;34m=\u001b[0m \u001b[0mBertPooler\u001b[0m\u001b[0;34m(\u001b[0m\u001b[0mconfig\u001b[0m\u001b[0;34m)\u001b[0m \u001b[0;32mif\u001b[0m \u001b[0madd_pooling_layer\u001b[0m \u001b[0;32melse\u001b[0m \u001b[0;32mNone\u001b[0m\u001b[0;34m\u001b[0m\u001b[0;34m\u001b[0m\u001b[0m\n\u001b[1;32m    744\u001b[0m \u001b[0;34m\u001b[0m\u001b[0m\n\u001b[0;32m--> 745\u001b[0;31m         \u001b[0mself\u001b[0m\u001b[0;34m.\u001b[0m\u001b[0minit_weights\u001b[0m\u001b[0;34m(\u001b[0m\u001b[0;34m)\u001b[0m\u001b[0;34m\u001b[0m\u001b[0;34m\u001b[0m\u001b[0m\n\u001b[0m\u001b[1;32m    746\u001b[0m \u001b[0;34m\u001b[0m\u001b[0m\n\u001b[1;32m    747\u001b[0m     \u001b[0;32mdef\u001b[0m \u001b[0mget_input_embeddings\u001b[0m\u001b[0;34m(\u001b[0m\u001b[0mself\u001b[0m\u001b[0;34m)\u001b[0m\u001b[0;34m:\u001b[0m\u001b[0;34m\u001b[0m\u001b[0;34m\u001b[0m\u001b[0m\n",
      "\u001b[0;32m/opt/conda/lib/python3.7/site-packages/transformers/modeling_utils.py\u001b[0m in \u001b[0;36minit_weights\u001b[0;34m(self)\u001b[0m\n\u001b[1;32m    671\u001b[0m         \"\"\"\n\u001b[1;32m    672\u001b[0m         \u001b[0;31m# Initialize weights\u001b[0m\u001b[0;34m\u001b[0m\u001b[0;34m\u001b[0m\u001b[0;34m\u001b[0m\u001b[0m\n\u001b[0;32m--> 673\u001b[0;31m         \u001b[0mself\u001b[0m\u001b[0;34m.\u001b[0m\u001b[0mapply\u001b[0m\u001b[0;34m(\u001b[0m\u001b[0mself\u001b[0m\u001b[0;34m.\u001b[0m\u001b[0m_init_weights\u001b[0m\u001b[0;34m)\u001b[0m\u001b[0;34m\u001b[0m\u001b[0;34m\u001b[0m\u001b[0m\n\u001b[0m\u001b[1;32m    674\u001b[0m \u001b[0;34m\u001b[0m\u001b[0m\n\u001b[1;32m    675\u001b[0m         \u001b[0;31m# Prune heads if needed\u001b[0m\u001b[0;34m\u001b[0m\u001b[0;34m\u001b[0m\u001b[0;34m\u001b[0m\u001b[0m\n",
      "\u001b[0;32m/opt/conda/lib/python3.7/site-packages/torch/nn/modules/module.py\u001b[0m in \u001b[0;36mapply\u001b[0;34m(self, fn)\u001b[0m\n\u001b[1;32m    443\u001b[0m         \"\"\"\n\u001b[1;32m    444\u001b[0m         \u001b[0;32mfor\u001b[0m \u001b[0mmodule\u001b[0m \u001b[0;32min\u001b[0m \u001b[0mself\u001b[0m\u001b[0;34m.\u001b[0m\u001b[0mchildren\u001b[0m\u001b[0;34m(\u001b[0m\u001b[0;34m)\u001b[0m\u001b[0;34m:\u001b[0m\u001b[0;34m\u001b[0m\u001b[0;34m\u001b[0m\u001b[0m\n\u001b[0;32m--> 445\u001b[0;31m             \u001b[0mmodule\u001b[0m\u001b[0;34m.\u001b[0m\u001b[0mapply\u001b[0m\u001b[0;34m(\u001b[0m\u001b[0mfn\u001b[0m\u001b[0;34m)\u001b[0m\u001b[0;34m\u001b[0m\u001b[0;34m\u001b[0m\u001b[0m\n\u001b[0m\u001b[1;32m    446\u001b[0m         \u001b[0mfn\u001b[0m\u001b[0;34m(\u001b[0m\u001b[0mself\u001b[0m\u001b[0;34m)\u001b[0m\u001b[0;34m\u001b[0m\u001b[0;34m\u001b[0m\u001b[0m\n\u001b[1;32m    447\u001b[0m         \u001b[0;32mreturn\u001b[0m \u001b[0mself\u001b[0m\u001b[0;34m\u001b[0m\u001b[0;34m\u001b[0m\u001b[0m\n",
      "\u001b[0;32m/opt/conda/lib/python3.7/site-packages/torch/nn/modules/module.py\u001b[0m in \u001b[0;36mapply\u001b[0;34m(self, fn)\u001b[0m\n\u001b[1;32m    443\u001b[0m         \"\"\"\n\u001b[1;32m    444\u001b[0m         \u001b[0;32mfor\u001b[0m \u001b[0mmodule\u001b[0m \u001b[0;32min\u001b[0m \u001b[0mself\u001b[0m\u001b[0;34m.\u001b[0m\u001b[0mchildren\u001b[0m\u001b[0;34m(\u001b[0m\u001b[0;34m)\u001b[0m\u001b[0;34m:\u001b[0m\u001b[0;34m\u001b[0m\u001b[0;34m\u001b[0m\u001b[0m\n\u001b[0;32m--> 445\u001b[0;31m             \u001b[0mmodule\u001b[0m\u001b[0;34m.\u001b[0m\u001b[0mapply\u001b[0m\u001b[0;34m(\u001b[0m\u001b[0mfn\u001b[0m\u001b[0;34m)\u001b[0m\u001b[0;34m\u001b[0m\u001b[0;34m\u001b[0m\u001b[0m\n\u001b[0m\u001b[1;32m    446\u001b[0m         \u001b[0mfn\u001b[0m\u001b[0;34m(\u001b[0m\u001b[0mself\u001b[0m\u001b[0;34m)\u001b[0m\u001b[0;34m\u001b[0m\u001b[0;34m\u001b[0m\u001b[0m\n\u001b[1;32m    447\u001b[0m         \u001b[0;32mreturn\u001b[0m \u001b[0mself\u001b[0m\u001b[0;34m\u001b[0m\u001b[0;34m\u001b[0m\u001b[0m\n",
      "\u001b[0;32m/opt/conda/lib/python3.7/site-packages/torch/nn/modules/module.py\u001b[0m in \u001b[0;36mapply\u001b[0;34m(self, fn)\u001b[0m\n\u001b[1;32m    444\u001b[0m         \u001b[0;32mfor\u001b[0m \u001b[0mmodule\u001b[0m \u001b[0;32min\u001b[0m \u001b[0mself\u001b[0m\u001b[0;34m.\u001b[0m\u001b[0mchildren\u001b[0m\u001b[0;34m(\u001b[0m\u001b[0;34m)\u001b[0m\u001b[0;34m:\u001b[0m\u001b[0;34m\u001b[0m\u001b[0;34m\u001b[0m\u001b[0m\n\u001b[1;32m    445\u001b[0m             \u001b[0mmodule\u001b[0m\u001b[0;34m.\u001b[0m\u001b[0mapply\u001b[0m\u001b[0;34m(\u001b[0m\u001b[0mfn\u001b[0m\u001b[0;34m)\u001b[0m\u001b[0;34m\u001b[0m\u001b[0;34m\u001b[0m\u001b[0m\n\u001b[0;32m--> 446\u001b[0;31m         \u001b[0mfn\u001b[0m\u001b[0;34m(\u001b[0m\u001b[0mself\u001b[0m\u001b[0;34m)\u001b[0m\u001b[0;34m\u001b[0m\u001b[0;34m\u001b[0m\u001b[0m\n\u001b[0m\u001b[1;32m    447\u001b[0m         \u001b[0;32mreturn\u001b[0m \u001b[0mself\u001b[0m\u001b[0;34m\u001b[0m\u001b[0;34m\u001b[0m\u001b[0m\n\u001b[1;32m    448\u001b[0m \u001b[0;34m\u001b[0m\u001b[0m\n",
      "\u001b[0;32m/opt/conda/lib/python3.7/site-packages/transformers/modeling_bert.py\u001b[0m in \u001b[0;36m_init_weights\u001b[0;34m(self, module)\u001b[0m\n\u001b[1;32m    606\u001b[0m             \u001b[0;31m# Slightly different from the TF version which uses truncated_normal for initialization\u001b[0m\u001b[0;34m\u001b[0m\u001b[0;34m\u001b[0m\u001b[0;34m\u001b[0m\u001b[0m\n\u001b[1;32m    607\u001b[0m             \u001b[0;31m# cf https://github.com/pytorch/pytorch/pull/5617\u001b[0m\u001b[0;34m\u001b[0m\u001b[0;34m\u001b[0m\u001b[0;34m\u001b[0m\u001b[0m\n\u001b[0;32m--> 608\u001b[0;31m             \u001b[0mmodule\u001b[0m\u001b[0;34m.\u001b[0m\u001b[0mweight\u001b[0m\u001b[0;34m.\u001b[0m\u001b[0mdata\u001b[0m\u001b[0;34m.\u001b[0m\u001b[0mnormal_\u001b[0m\u001b[0;34m(\u001b[0m\u001b[0mmean\u001b[0m\u001b[0;34m=\u001b[0m\u001b[0;36m0.0\u001b[0m\u001b[0;34m,\u001b[0m \u001b[0mstd\u001b[0m\u001b[0;34m=\u001b[0m\u001b[0mself\u001b[0m\u001b[0;34m.\u001b[0m\u001b[0mconfig\u001b[0m\u001b[0;34m.\u001b[0m\u001b[0minitializer_range\u001b[0m\u001b[0;34m)\u001b[0m\u001b[0;34m\u001b[0m\u001b[0;34m\u001b[0m\u001b[0m\n\u001b[0m\u001b[1;32m    609\u001b[0m         \u001b[0;32melif\u001b[0m \u001b[0misinstance\u001b[0m\u001b[0;34m(\u001b[0m\u001b[0mmodule\u001b[0m\u001b[0;34m,\u001b[0m \u001b[0mnn\u001b[0m\u001b[0;34m.\u001b[0m\u001b[0mLayerNorm\u001b[0m\u001b[0;34m)\u001b[0m\u001b[0;34m:\u001b[0m\u001b[0;34m\u001b[0m\u001b[0;34m\u001b[0m\u001b[0m\n\u001b[1;32m    610\u001b[0m             \u001b[0mmodule\u001b[0m\u001b[0;34m.\u001b[0m\u001b[0mbias\u001b[0m\u001b[0;34m.\u001b[0m\u001b[0mdata\u001b[0m\u001b[0;34m.\u001b[0m\u001b[0mzero_\u001b[0m\u001b[0;34m(\u001b[0m\u001b[0;34m)\u001b[0m\u001b[0;34m\u001b[0m\u001b[0;34m\u001b[0m\u001b[0m\n",
      "\u001b[0;31mKeyboardInterrupt\u001b[0m: "
     ]
    }
   ],
   "source": [
    "# model_config = BertConfig.from_json_file(args.bert_config_path)\n",
    "model_config = BertConfig.from_pretrained('dsksd/bert-ko-small-minimal')\n",
    "model_config.dropout = args.dropout\n",
    "model_config.attention_probs_dropout_prob = args.attention_probs_dropout_prob\n",
    "model_config.hidden_dropout_prob = args.hidden_dropout_prob\n",
    "model_config.vocab_size += 3  # 추가되는 special token 고려\n",
    "model = SomDST(model_config, len(op2id), len(domain2id), op2id['update'], args.exclude_domain)\n",
    "\n",
    "wandb.watch(model)\n",
    "# if not os.path.exists(args.bert_ckpt_path):\n",
    "#     args.bert_ckpt_path = download_ckpt(args.bert_ckpt_path, args.bert_config_path, 'assets')\n",
    "\n",
    "# ckpt = torch.load(args.bert_ckpt_path, map_location='cpu')\n",
    "# model.encoder.bert.load_state_dict(ckpt)\n",
    "\n",
    "\n",
    "# re-initialize added special tokens ([SLOT], [NULL], [EOS])\n",
    "# model.encoder.bert.embeddings.word_embeddings.weight.data[1].normal_(mean=0.0, std=0.02)\n",
    "# model.encoder.bert.embeddings.word_embeddings.weight.data[2].normal_(mean=0.0, std=0.02)\n",
    "# model.encoder.bert.embeddings.word_embeddings.weight.data[3].normal_(mean=0.0, std=0.02)\n",
    "\n",
    "\n",
    "# tokenizer = BertTokenizer(args.vocab_path, do_lower_case=True)\n",
    "tokenizer = model.encoder.tokenizer\n",
    "# tokenizer = BertTokenizer.from_pretrained('dsksd/bert-ko-small-minimal', additional_special_tokens = ['[SLOT]', '[NULL]','[EOS]'])\n",
    "# tokenizer = BertTokenizer.from_pretrained('dsksd/bert-ko-small-minimal')\n",
    "\n",
    "model.to(device)"
   ]
  },
  {
   "cell_type": "code",
   "execution_count": null,
   "id": "9964b70c-64e7-49b0-99e1-0581043f9c1f",
   "metadata": {},
   "outputs": [
    {
     "data": {
      "text/html": [
       "<br/>Waiting for W&B process to finish, PID 5234<br/>Program ended successfully."
      ],
      "text/plain": [
       "<IPython.core.display.HTML object>"
      ]
     },
     "metadata": {},
     "output_type": "display_data"
    },
    {
     "data": {
      "application/vnd.jupyter.widget-view+json": {
       "model_id": "",
       "version_major": 2,
       "version_minor": 0
      },
      "text/plain": [
       "VBox(children=(Label(value=' 0.00MB of 0.00MB uploaded (0.00MB deduped)\\r'), FloatProgress(value=1.0, max=1.0)…"
      ]
     },
     "metadata": {},
     "output_type": "display_data"
    }
   ],
   "source": [
    "tokenizer.all_special_tokens\n",
    "\n",
    "tokenizer.additional_special_tokens_ids\n",
    "\n"
   ]
  },
  {
   "cell_type": "markdown",
   "id": "d989ef64-3b26-4fb8-8f0a-1de8ce848c1c",
   "metadata": {},
   "source": [
    "### DATA PREPERATION"
   ]
  },
  {
   "cell_type": "code",
   "execution_count": 12,
   "id": "68149f73-3337-4932-a0da-396441132b92",
   "metadata": {},
   "outputs": [
    {
     "name": "stdout",
     "output_type": "stream",
     "text": [
      "Making Train_Data_Raw....\n",
      "# train examples 45320\n",
      "Making Dev_Data_Raw....\n",
      "# dev examples 5067\n",
      "# test examples 14771\n"
     ]
    }
   ],
   "source": [
    "if not os.path.exists('raw_data'):\n",
    "    os.mkdir('raw_data')\n",
    "print('Making Train_Data_Raw....')\n",
    "if not os.path.exists('./raw_data/train_data_raw'):\n",
    "    train_data_raw = prepare_dataset(data_path=args.train_data_path,\n",
    "                                    tokenizer=tokenizer,\n",
    "                                    slot_meta=slot_meta,\n",
    "                                    n_history=args.n_history,\n",
    "                                    max_seq_length=args.max_seq_length,\n",
    "                                    op_code=args.op_code)\n",
    "    with open('./raw_data/train_data_raw', 'wb') as f:\n",
    "        pickle.dump(train_data_raw, f)\n",
    "else:\n",
    "    with open('./raw_data/train_data_raw', 'rb') as f:\n",
    "        train_data_raw = pickle.load(f)\n",
    "\n",
    "train_data = MultiWozDataset(train_data_raw,\n",
    "                             tokenizer,\n",
    "                             slot_meta,\n",
    "                             args.max_seq_length,\n",
    "                             rng,\n",
    "                             ontology,\n",
    "                             args.word_dropout,\n",
    "                             args.shuffle_state,\n",
    "                             args.shuffle_p)\n",
    "print(\"# train examples %d\" % len(train_data_raw))\n",
    "\n",
    "print('Making Dev_Data_Raw....')\n",
    "# print(f'max_seq_length : {args.max_seq_length}')\n",
    "if not os.path.exists('./raw_data/dev_data_raw'):\n",
    "    dev_data_raw = prepare_dataset(data_path=args.dev_data_path,\n",
    "                                tokenizer=tokenizer,\n",
    "                                slot_meta=slot_meta,\n",
    "                                n_history=args.n_history,\n",
    "                                max_seq_length=args.max_seq_length,\n",
    "                                op_code=args.op_code)\n",
    "    with open('./raw_data/dev_data_raw', 'wb') as f:\n",
    "        pickle.dump(dev_data_raw, f)\n",
    "else:\n",
    "    with open('./raw_data/dev_data_raw', 'rb') as f:\n",
    "        dev_data_raw = pickle.load(f)\n",
    "print(\"# dev examples %d\" % len(dev_data_raw))\n",
    "\n",
    "if not os.path.exists('./raw_data/test_data_raw'):\n",
    "    test_data_raw = prepare_dataset(data_path=args.test_data_path,\n",
    "                                    tokenizer=tokenizer,\n",
    "                                    slot_meta=slot_meta,\n",
    "                                    n_history=args.n_history,\n",
    "                                    max_seq_length=args.max_seq_length,\n",
    "                                    op_code=args.op_code)\n",
    "    with open('./raw_data/test_data_raw', 'wb') as f:\n",
    "        pickle.dump(test_data_raw, f)\n",
    "else:\n",
    "    with open('./raw_data/test_data_raw', 'rb') as f:\n",
    "        test_data_raw = pickle.load(f)\n",
    "print(\"# test examples %d\" % len(test_data_raw))"
   ]
  },
  {
   "cell_type": "markdown",
   "id": "6fca5d63-89d8-42de-ab0f-59f14f031d6e",
   "metadata": {},
   "source": [
    "### Optimizer & Scheduler"
   ]
  },
  {
   "cell_type": "code",
   "execution_count": 13,
   "id": "6b98d4d5-3301-443b-82ac-a292052255de",
   "metadata": {},
   "outputs": [],
   "source": [
    "######## STEPS ########\n",
    "num_train_steps = int(len(train_data_raw) / args.batch_size * args.n_epochs)\n",
    "\n",
    "\n",
    "######## ENC/DEC OPTIMIZER ########\n",
    "no_decay = ['bias', 'LayerNorm.bias', 'LayerNorm.weight']\n",
    "enc_param_optimizer = list(model.encoder.named_parameters())\n",
    "enc_optimizer_grouped_parameters = [\n",
    "    {'params': [p for n, p in enc_param_optimizer if not any(nd in n for nd in no_decay)], 'weight_decay': 0.01},\n",
    "    {'params': [p for n, p in enc_param_optimizer if any(nd in n for nd in no_decay)], 'weight_decay': 0.0}\n",
    "    ]\n",
    "\n",
    "enc_optimizer = AdamW(enc_optimizer_grouped_parameters, lr=args.enc_lr)\n",
    "# enc_scheduler = WarmupLinearSchedule(enc_optimizer, int(num_train_steps * args.enc_warmup),\n",
    "#                                      t_total=num_train_steps)\n",
    "enc_scheduler = get_linear_schedule_with_warmup(enc_optimizer, num_warmup_steps=int(num_train_steps * args.enc_warmup),\n",
    "                                     num_training_steps=num_train_steps)\n",
    "\n",
    "dec_param_optimizer = list(model.decoder.parameters())\n",
    "dec_optimizer = AdamW(dec_param_optimizer, lr=args.dec_lr)\n",
    "# dec_scheduler = WarmupLinearSchedule(dec_optimizer, int(num_train_steps * args.dec_warmup),\n",
    "#                                      t_total=num_train_steps)\n",
    "dec_scheduler = get_linear_schedule_with_warmup(dec_optimizer, num_warmup_steps=int(num_train_steps * args.dec_warmup),\n",
    "                                    num_training_steps=num_train_steps)\n",
    "\n",
    "if n_gpu > 1:\n",
    "    model = torch.nn.DataParallel(model)"
   ]
  },
  {
   "cell_type": "markdown",
   "id": "d238509d-829c-4c12-bcb5-a88b9424d27e",
   "metadata": {},
   "source": [
    "### Train DataLoading"
   ]
  },
  {
   "cell_type": "code",
   "execution_count": 14,
   "id": "47258933-7366-4b6b-a4c9-b7b85e68fccd",
   "metadata": {},
   "outputs": [
    {
     "name": "stdout",
     "output_type": "stream",
     "text": [
      "Making Train DataLoader...\n"
     ]
    }
   ],
   "source": [
    "print('Making Train DataLoader...')\n",
    "train_sampler = RandomSampler(train_data)\n",
    "train_dataloader = DataLoader(train_data,\n",
    "                              sampler=train_sampler,\n",
    "                              batch_size=args.batch_size,\n",
    "                              collate_fn=train_data.collate_fn,\n",
    "                              num_workers=args.num_workers,\n",
    "                              worker_init_fn=worker_init_fn)"
   ]
  },
  {
   "cell_type": "markdown",
   "id": "12fb4b82-fef3-4b91-a8b2-6995a37a513c",
   "metadata": {},
   "source": [
    "### Train"
   ]
  },
  {
   "cell_type": "code",
   "execution_count": 15,
   "id": "ac6d3d88-89b7-46ab-9395-06ca7d668ad6",
   "metadata": {},
   "outputs": [],
   "source": [
    "def get_lr(scheduler):\n",
    "    return scheduler.get_last_lr()[0]"
   ]
  },
  {
   "cell_type": "code",
   "execution_count": 1,
   "id": "0133a089-cc5a-4c0e-933c-15b73c2fb530",
   "metadata": {
    "tags": []
   },
   "outputs": [
    {
     "name": "stdout",
     "output_type": "stream",
     "text": [
      "Let's Do the Training!\n"
     ]
    },
    {
     "ename": "NameError",
     "evalue": "name 'nn' is not defined",
     "output_type": "error",
     "traceback": [
      "\u001b[0;31m---------------------------------------------------------------------------\u001b[0m",
      "\u001b[0;31mNameError\u001b[0m                                 Traceback (most recent call last)",
      "\u001b[0;32m<ipython-input-1-904c751447bd>\u001b[0m in \u001b[0;36m<module>\u001b[0;34m\u001b[0m\n\u001b[1;32m      2\u001b[0m \u001b[0mprint\u001b[0m\u001b[0;34m(\u001b[0m\u001b[0;34m\"Let's Do the Training!\"\u001b[0m\u001b[0;34m)\u001b[0m\u001b[0;34m\u001b[0m\u001b[0;34m\u001b[0m\u001b[0m\n\u001b[1;32m      3\u001b[0m \u001b[0;34m\u001b[0m\u001b[0m\n\u001b[0;32m----> 4\u001b[0;31m \u001b[0mloss_fnc\u001b[0m \u001b[0;34m=\u001b[0m \u001b[0mnn\u001b[0m\u001b[0;34m.\u001b[0m\u001b[0mCrossEntropyLoss\u001b[0m\u001b[0;34m(\u001b[0m\u001b[0;34m)\u001b[0m\u001b[0;34m\u001b[0m\u001b[0;34m\u001b[0m\u001b[0m\n\u001b[0m\u001b[1;32m      5\u001b[0m \u001b[0mbest_score\u001b[0m \u001b[0;34m=\u001b[0m \u001b[0;34m{\u001b[0m\u001b[0;34m'epoch'\u001b[0m\u001b[0;34m:\u001b[0m \u001b[0;36m0\u001b[0m\u001b[0;34m,\u001b[0m \u001b[0;34m'joint_acc'\u001b[0m\u001b[0;34m:\u001b[0m \u001b[0;36m0\u001b[0m\u001b[0;34m,\u001b[0m \u001b[0;34m'op_acc'\u001b[0m\u001b[0;34m:\u001b[0m \u001b[0;36m0\u001b[0m\u001b[0;34m,\u001b[0m \u001b[0;34m'final_slot_f1'\u001b[0m\u001b[0;34m:\u001b[0m \u001b[0;36m0\u001b[0m\u001b[0;34m}\u001b[0m\u001b[0;34m\u001b[0m\u001b[0;34m\u001b[0m\u001b[0m\n\u001b[1;32m      6\u001b[0m \u001b[0;34m\u001b[0m\u001b[0m\n",
      "\u001b[0;31mNameError\u001b[0m: name 'nn' is not defined"
     ]
    }
   ],
   "source": [
    "######## TRAINING ########\n",
    "print(\"Let's Do the Training!\")\n",
    "\n",
    "loss_fnc = nn.CrossEntropyLoss()\n",
    "best_score = {'epoch': 0, 'joint_acc': 0, 'op_acc': 0, 'final_slot_f1': 0}\n",
    "\n",
    "for epoch in range(args.n_epochs):\n",
    "    batch_loss = []\n",
    "    model.train()\n",
    "    for step, batch in enumerate(tqdm(train_dataloader)):\n",
    "        batch = [b.to(device) if not isinstance(b, int) else b for b in batch]\n",
    "        input_ids, input_mask, segment_ids, state_position_ids, op_ids,\\\n",
    "        domain_ids, gen_ids, max_value, max_update = batch\n",
    "\n",
    "        if rng.random() < args.decoder_teacher_forcing:  # teacher forcing\n",
    "            teacher = gen_ids\n",
    "        else:\n",
    "            teacher = None\n",
    "\n",
    "        domain_scores, state_scores, gen_scores = model(input_ids=input_ids,\n",
    "                                                        token_type_ids=segment_ids,\n",
    "                                                        state_positions=state_position_ids,\n",
    "                                                        attention_mask=input_mask,\n",
    "                                                        max_value=max_value,\n",
    "                                                        op_ids=op_ids,\n",
    "                                                        max_update=max_update,\n",
    "                                                        teacher=teacher)\n",
    "\n",
    "        loss_s = loss_fnc(state_scores.view(-1, len(op2id)), op_ids.view(-1))\n",
    "        loss_g = masked_cross_entropy_for_value(gen_scores.contiguous(),\n",
    "                                                gen_ids.contiguous(),\n",
    "                                                tokenizer.vocab['[PAD]'])\n",
    "        loss = loss_s + loss_g\n",
    "        if args.exclude_domain is not True:  # exclude domain True로 해야!\n",
    "            loss_d = loss_fnc(domain_scores.view(-1, len(domain2id)), domain_ids.view(-1))\n",
    "            loss = loss + loss_d\n",
    "        batch_loss.append(loss.item())  # loss_s + loss_g\n",
    "\n",
    "        loss.backward()\n",
    "        enc_optimizer.step()\n",
    "        enc_scheduler.step()\n",
    "        dec_optimizer.step()\n",
    "        dec_scheduler.step()\n",
    "        model.zero_grad()\n",
    "\n",
    "        if step % 100 == 0:\n",
    "            if args.exclude_domain is not True:\n",
    "                print(\"[%d/%d] [%d/%d] mean_loss : %.3f, state_loss : %.3f, gen_loss : %.3f, dom_loss : %.3f\" \\\n",
    "                      % (epoch+1, args.n_epochs, step,\n",
    "                         len(train_dataloader), np.mean(batch_loss),\n",
    "                         loss_s.item(), loss_g.item(), loss_d.item()))\n",
    "                wandb.log({\n",
    "                    \"train/mean_loss\": np.mean(batch_loss),\n",
    "                    \"train/state_loss\": loss_s.item(),\n",
    "                    \"train/gen_loss\": loss_g.item(),\n",
    "                    \"train/dom_loss\": loss_d.item(),\n",
    "                    \"train/epoch\": epoch+1,\n",
    "                    \"train/enc_learning rate\": get_lr(enc_scheduler),\n",
    "                    \"train/dec_learning rate\": get_lr(dec_scheduler)\n",
    "                })\n",
    "            else:\n",
    "                print(\"[%d/%d] [%d/%d] mean_loss : %.3f, state_loss : %.3f, gen_loss : %.3f\" \\\n",
    "                      % (epoch+1, args.n_epochs, step,\n",
    "                         len(train_dataloader), np.mean(batch_loss),\n",
    "                         loss_s.item(), loss_g.item()))\n",
    "                wandb.log({\n",
    "                    \"train/mean_loss\": np.mean(batch_loss),\n",
    "                    \"train/state_loss\": loss_s.item(),\n",
    "                    \"train/gen_loss\": loss_g.item(),\n",
    "                    \"train/epoch\": epoch+1,\n",
    "                    \"train/enc_learning rate\": get_lr(enc_scheduler),\n",
    "                    \"train/dec_learning rate\": get_lr(dec_scheduler)\n",
    "                })\n",
    "            batch_loss = []\n",
    "\n",
    "    if (epoch+1) % args.eval_epoch == 0:\n",
    "        eval_res = model_evaluation(model, dev_data_raw, tokenizer, slot_meta, epoch+1, args.op_code)\n",
    "        wandb.log({\n",
    "            'eval/epoch': epoch+1,\n",
    "            'eval/joint_acc': eval_res['joint_acc'],\n",
    "            'eval/slot_acc':eval_res['slot_acc'],\n",
    "            'eval/slot_f1': eval_res['slot_f1'],\n",
    "            'eval/op_acc': eval_res['op_acc'],\n",
    "            'eval/op_f1': eval_res['op_f1'],\n",
    "            'eval/final_slot_f1':eval_res['final_slot_f1'],\n",
    "        })\n",
    "        if eval_res['joint_acc'] > best_score['joint_acc']:\n",
    "            best_score = eval_res\n",
    "            model_to_save = model.module if hasattr(model, 'module') else model\n",
    "            save_path = os.path.join(args.save_dir, 'model_best.bin')\n",
    "            torch.save(model_to_save.state_dict(), save_path)\n",
    "        print(\"Best Score : \", best_score)\n",
    "        print(\"\\n\")"
   ]
  },
  {
   "cell_type": "code",
   "execution_count": 11,
   "id": "71489eda-5a4f-49a4-a2af-7040dc6ab3d7",
   "metadata": {
    "collapsed": true,
    "jupyter": {
     "outputs_hidden": true
    },
    "tags": []
   },
   "outputs": [
    {
     "name": "stderr",
     "output_type": "stream",
     "text": [
      "Special tokens have been added in the vocabulary, make sure the associated word embedding are fine-tuned or trained.\n"
     ]
    },
    {
     "data": {
      "text/plain": [
       "SomDST(\n",
       "  (encoder): Encoder(\n",
       "    (bert): BertModel(\n",
       "      (embeddings): BertEmbeddings(\n",
       "        (word_embeddings): Embedding(35003, 768)\n",
       "        (position_embeddings): Embedding(512, 768)\n",
       "        (token_type_embeddings): Embedding(2, 768)\n",
       "        (LayerNorm): LayerNorm((768,), eps=1e-12, elementwise_affine=True)\n",
       "        (dropout): Dropout(p=0.1, inplace=False)\n",
       "      )\n",
       "      (encoder): BertEncoder(\n",
       "        (layer): ModuleList(\n",
       "          (0): BertLayer(\n",
       "            (attention): BertAttention(\n",
       "              (self): BertSelfAttention(\n",
       "                (query): Linear(in_features=768, out_features=768, bias=True)\n",
       "                (key): Linear(in_features=768, out_features=768, bias=True)\n",
       "                (value): Linear(in_features=768, out_features=768, bias=True)\n",
       "                (dropout): Dropout(p=0.1, inplace=False)\n",
       "              )\n",
       "              (output): BertSelfOutput(\n",
       "                (dense): Linear(in_features=768, out_features=768, bias=True)\n",
       "                (LayerNorm): LayerNorm((768,), eps=1e-12, elementwise_affine=True)\n",
       "                (dropout): Dropout(p=0.1, inplace=False)\n",
       "              )\n",
       "            )\n",
       "            (intermediate): BertIntermediate(\n",
       "              (dense): Linear(in_features=768, out_features=3072, bias=True)\n",
       "            )\n",
       "            (output): BertOutput(\n",
       "              (dense): Linear(in_features=3072, out_features=768, bias=True)\n",
       "              (LayerNorm): LayerNorm((768,), eps=1e-12, elementwise_affine=True)\n",
       "              (dropout): Dropout(p=0.1, inplace=False)\n",
       "            )\n",
       "          )\n",
       "          (1): BertLayer(\n",
       "            (attention): BertAttention(\n",
       "              (self): BertSelfAttention(\n",
       "                (query): Linear(in_features=768, out_features=768, bias=True)\n",
       "                (key): Linear(in_features=768, out_features=768, bias=True)\n",
       "                (value): Linear(in_features=768, out_features=768, bias=True)\n",
       "                (dropout): Dropout(p=0.1, inplace=False)\n",
       "              )\n",
       "              (output): BertSelfOutput(\n",
       "                (dense): Linear(in_features=768, out_features=768, bias=True)\n",
       "                (LayerNorm): LayerNorm((768,), eps=1e-12, elementwise_affine=True)\n",
       "                (dropout): Dropout(p=0.1, inplace=False)\n",
       "              )\n",
       "            )\n",
       "            (intermediate): BertIntermediate(\n",
       "              (dense): Linear(in_features=768, out_features=3072, bias=True)\n",
       "            )\n",
       "            (output): BertOutput(\n",
       "              (dense): Linear(in_features=3072, out_features=768, bias=True)\n",
       "              (LayerNorm): LayerNorm((768,), eps=1e-12, elementwise_affine=True)\n",
       "              (dropout): Dropout(p=0.1, inplace=False)\n",
       "            )\n",
       "          )\n",
       "          (2): BertLayer(\n",
       "            (attention): BertAttention(\n",
       "              (self): BertSelfAttention(\n",
       "                (query): Linear(in_features=768, out_features=768, bias=True)\n",
       "                (key): Linear(in_features=768, out_features=768, bias=True)\n",
       "                (value): Linear(in_features=768, out_features=768, bias=True)\n",
       "                (dropout): Dropout(p=0.1, inplace=False)\n",
       "              )\n",
       "              (output): BertSelfOutput(\n",
       "                (dense): Linear(in_features=768, out_features=768, bias=True)\n",
       "                (LayerNorm): LayerNorm((768,), eps=1e-12, elementwise_affine=True)\n",
       "                (dropout): Dropout(p=0.1, inplace=False)\n",
       "              )\n",
       "            )\n",
       "            (intermediate): BertIntermediate(\n",
       "              (dense): Linear(in_features=768, out_features=3072, bias=True)\n",
       "            )\n",
       "            (output): BertOutput(\n",
       "              (dense): Linear(in_features=3072, out_features=768, bias=True)\n",
       "              (LayerNorm): LayerNorm((768,), eps=1e-12, elementwise_affine=True)\n",
       "              (dropout): Dropout(p=0.1, inplace=False)\n",
       "            )\n",
       "          )\n",
       "          (3): BertLayer(\n",
       "            (attention): BertAttention(\n",
       "              (self): BertSelfAttention(\n",
       "                (query): Linear(in_features=768, out_features=768, bias=True)\n",
       "                (key): Linear(in_features=768, out_features=768, bias=True)\n",
       "                (value): Linear(in_features=768, out_features=768, bias=True)\n",
       "                (dropout): Dropout(p=0.1, inplace=False)\n",
       "              )\n",
       "              (output): BertSelfOutput(\n",
       "                (dense): Linear(in_features=768, out_features=768, bias=True)\n",
       "                (LayerNorm): LayerNorm((768,), eps=1e-12, elementwise_affine=True)\n",
       "                (dropout): Dropout(p=0.1, inplace=False)\n",
       "              )\n",
       "            )\n",
       "            (intermediate): BertIntermediate(\n",
       "              (dense): Linear(in_features=768, out_features=3072, bias=True)\n",
       "            )\n",
       "            (output): BertOutput(\n",
       "              (dense): Linear(in_features=3072, out_features=768, bias=True)\n",
       "              (LayerNorm): LayerNorm((768,), eps=1e-12, elementwise_affine=True)\n",
       "              (dropout): Dropout(p=0.1, inplace=False)\n",
       "            )\n",
       "          )\n",
       "          (4): BertLayer(\n",
       "            (attention): BertAttention(\n",
       "              (self): BertSelfAttention(\n",
       "                (query): Linear(in_features=768, out_features=768, bias=True)\n",
       "                (key): Linear(in_features=768, out_features=768, bias=True)\n",
       "                (value): Linear(in_features=768, out_features=768, bias=True)\n",
       "                (dropout): Dropout(p=0.1, inplace=False)\n",
       "              )\n",
       "              (output): BertSelfOutput(\n",
       "                (dense): Linear(in_features=768, out_features=768, bias=True)\n",
       "                (LayerNorm): LayerNorm((768,), eps=1e-12, elementwise_affine=True)\n",
       "                (dropout): Dropout(p=0.1, inplace=False)\n",
       "              )\n",
       "            )\n",
       "            (intermediate): BertIntermediate(\n",
       "              (dense): Linear(in_features=768, out_features=3072, bias=True)\n",
       "            )\n",
       "            (output): BertOutput(\n",
       "              (dense): Linear(in_features=3072, out_features=768, bias=True)\n",
       "              (LayerNorm): LayerNorm((768,), eps=1e-12, elementwise_affine=True)\n",
       "              (dropout): Dropout(p=0.1, inplace=False)\n",
       "            )\n",
       "          )\n",
       "          (5): BertLayer(\n",
       "            (attention): BertAttention(\n",
       "              (self): BertSelfAttention(\n",
       "                (query): Linear(in_features=768, out_features=768, bias=True)\n",
       "                (key): Linear(in_features=768, out_features=768, bias=True)\n",
       "                (value): Linear(in_features=768, out_features=768, bias=True)\n",
       "                (dropout): Dropout(p=0.1, inplace=False)\n",
       "              )\n",
       "              (output): BertSelfOutput(\n",
       "                (dense): Linear(in_features=768, out_features=768, bias=True)\n",
       "                (LayerNorm): LayerNorm((768,), eps=1e-12, elementwise_affine=True)\n",
       "                (dropout): Dropout(p=0.1, inplace=False)\n",
       "              )\n",
       "            )\n",
       "            (intermediate): BertIntermediate(\n",
       "              (dense): Linear(in_features=768, out_features=3072, bias=True)\n",
       "            )\n",
       "            (output): BertOutput(\n",
       "              (dense): Linear(in_features=3072, out_features=768, bias=True)\n",
       "              (LayerNorm): LayerNorm((768,), eps=1e-12, elementwise_affine=True)\n",
       "              (dropout): Dropout(p=0.1, inplace=False)\n",
       "            )\n",
       "          )\n",
       "        )\n",
       "      )\n",
       "      (pooler): BertPooler(\n",
       "        (dense): Linear(in_features=768, out_features=768, bias=True)\n",
       "        (activation): Tanh()\n",
       "      )\n",
       "    )\n",
       "    (dropout): Dropout(p=0.1, inplace=False)\n",
       "    (action_cls): Linear(in_features=768, out_features=4, bias=True)\n",
       "    (domain_cls): Linear(in_features=768, out_features=5, bias=True)\n",
       "  )\n",
       "  (decoder): Decoder(\n",
       "    (embed): Embedding(35000, 768, padding_idx=0)\n",
       "    (gru): GRU(768, 768, batch_first=True)\n",
       "    (w_gen): Linear(in_features=2304, out_features=1, bias=True)\n",
       "    (sigmoid): Sigmoid()\n",
       "    (dropout): Dropout(p=0.1, inplace=False)\n",
       "  )\n",
       ")"
      ]
     },
     "execution_count": 11,
     "metadata": {},
     "output_type": "execute_result"
    }
   ],
   "source": [
    "# model_config = BertConfig.from_json_file(args.bert_config_path)\n",
    "model_config = BertConfig.from_pretrained('dsksd/bert-ko-small-minimal')\n",
    "model_config.dropout = args.dropout\n",
    "model_config.attention_probs_dropout_prob = args.attention_probs_dropout_prob\n",
    "model_config.hidden_dropout_prob = args.hidden_dropout_prob\n",
    "model_config.vocab_size\n",
    "model = SomDST(model_config, len(op2id), len(domain2id), op2id['update'], args.exclude_domain)\n",
    "\n",
    "wandb.watch(model)\n",
    "# if not os.path.exists(args.bert_ckpt_path):\n",
    "#     args.bert_ckpt_path = download_ckpt(args.bert_ckpt_path, args.bert_config_path, 'assets')\n",
    "\n",
    "# ckpt = torch.load(args.bert_ckpt_path, map_location='cpu')\n",
    "# model.encoder.bert.load_state_dict(ckpt)\n",
    "\n",
    "\n",
    "# re-initialize added special tokens ([SLOT], [NULL], [EOS])\n",
    "# model.encoder.bert.embeddings.word_embeddings.weight.data[1].normal_(mean=0.0, std=0.02)\n",
    "# model.encoder.bert.embeddings.word_embeddings.weight.data[2].normal_(mean=0.0, std=0.02)\n",
    "# model.encoder.bert.embeddings.word_embeddings.weight.data[3].normal_(mean=0.0, std=0.02)\n",
    "\n",
    "\n",
    "# tokenizer = BertTokenizer(args.vocab_path, do_lower_case=True)\n",
    "tokenizer = model.encoder.tokenizer\n",
    "# tokenizer = BertTokenizer.from_pretrained('dsksd/bert-ko-small-minimal', additional_special_tokens = ['[SLOT]', '[NULL]','[EOS]'])\n",
    "# tokenizer = BertTokenizer.from_pretrained('dsksd/bert-ko-small-minimal')\n",
    "\n",
    "model.to(device)"
   ]
  },
  {
   "cell_type": "code",
   "execution_count": 16,
   "id": "aae7f3d0-49e1-4c6e-b4cb-ec876fd9f5a1",
   "metadata": {},
   "outputs": [
    {
     "name": "stdout",
     "output_type": "stream",
     "text": [
      "Test using best model...\n"
     ]
    },
    {
     "name": "stderr",
     "output_type": "stream",
     "text": [
      "Special tokens have been added in the vocabulary, make sure the associated word embedding are fine-tuned or trained.\n",
      "100%|██████████| 14771/14771 [06:21<00:00, 38.74it/s]\n"
     ]
    },
    {
     "name": "stdout",
     "output_type": "stream",
     "text": [
      "------------------------------\n",
      "op_code: 4, is_gt_op: False, is_gt_p_state: False, is_gt_gen: False\n",
      "Epoch 29 joint accuracy :  0.01408164646943335\n",
      "Epoch 29 slot turn accuracy :  0.8013329421764989\n",
      "Epoch 29 slot turn F1:  0.01408164646943335\n",
      "Epoch 29 op accuracy :  0.8013329421764989\n",
      "Epoch 29 op F1 :  {'delete': 1.862648313371952e-05, 'update': 0, 'dontcare': 0, 'carryover': 0.8903370099114662}\n",
      "Epoch 29 op hit count :  {'delete': 1, 'update': 0, 'dontcare': 0, 'carryover': 532641}\n",
      "Epoch 29 op all count :  {'delete': 107373, 'update': 0, 'dontcare': 0, 'carryover': 557322}\n",
      "Final Joint Accuracy :  0.0\n",
      "Final slot turn F1 :  0.0\n",
      "Latency Per Prediction : 20.806579 ms\n",
      "-----------------------------\n",
      "\n"
     ]
    },
    {
     "ename": "ZeroDivisionError",
     "evalue": "division by zero",
     "output_type": "error",
     "traceback": [
      "\u001b[0;31m---------------------------------------------------------------------------\u001b[0m",
      "\u001b[0;31mZeroDivisionError\u001b[0m                         Traceback (most recent call last)",
      "\u001b[0;32m<ipython-input-16-14c6d3bb19f8>\u001b[0m in \u001b[0;36m<module>\u001b[0;34m\u001b[0m\n\u001b[1;32m      9\u001b[0m \u001b[0;34m\u001b[0m\u001b[0m\n\u001b[1;32m     10\u001b[0m model_evaluation(model, test_data_raw, tokenizer, slot_meta, 29, args.op_code,\n\u001b[0;32m---> 11\u001b[0;31m                  is_gt_op=False, is_gt_p_state=False, is_gt_gen=False)\n\u001b[0m\u001b[1;32m     12\u001b[0m \u001b[0;31m# model_evaluation(model, test_data_raw, tokenizer, slot_meta, best_epoch, args.op_code,\u001b[0m\u001b[0;34m\u001b[0m\u001b[0;34m\u001b[0m\u001b[0;34m\u001b[0m\u001b[0m\n\u001b[1;32m     13\u001b[0m \u001b[0;31m#                  is_gt_op=False, is_gt_p_state=False, is_gt_gen=True)\u001b[0m\u001b[0;34m\u001b[0m\u001b[0;34m\u001b[0m\u001b[0;34m\u001b[0m\u001b[0m\n",
      "\u001b[0;32m~/repo/taepd/som-dst_edit/evaluation.py\u001b[0m in \u001b[0;36mmodel_evaluation\u001b[0;34m(model, test_data, tokenizer, slot_meta, epoch, op_code, is_gt_op, is_gt_p_state, is_gt_gen)\u001b[0m\n\u001b[1;32m    227\u001b[0m     \u001b[0mprint\u001b[0m\u001b[0;34m(\u001b[0m\u001b[0;34m\"-----------------------------\\n\"\u001b[0m\u001b[0;34m)\u001b[0m\u001b[0;34m\u001b[0m\u001b[0;34m\u001b[0m\u001b[0m\n\u001b[1;32m    228\u001b[0m     \u001b[0mjson\u001b[0m\u001b[0;34m.\u001b[0m\u001b[0mdump\u001b[0m\u001b[0;34m(\u001b[0m\u001b[0mresults\u001b[0m\u001b[0;34m,\u001b[0m \u001b[0mopen\u001b[0m\u001b[0;34m(\u001b[0m\u001b[0;34m'preds_%d.json'\u001b[0m \u001b[0;34m%\u001b[0m \u001b[0mepoch\u001b[0m\u001b[0;34m,\u001b[0m \u001b[0;34m'w'\u001b[0m\u001b[0;34m)\u001b[0m\u001b[0;34m,\u001b[0m \u001b[0mensure_ascii\u001b[0m\u001b[0;34m=\u001b[0m\u001b[0;32mFalse\u001b[0m\u001b[0;34m)\u001b[0m\u001b[0;34m\u001b[0m\u001b[0;34m\u001b[0m\u001b[0m\n\u001b[0;32m--> 229\u001b[0;31m     \u001b[0mper_domain_join_accuracy\u001b[0m\u001b[0;34m(\u001b[0m\u001b[0mresults\u001b[0m\u001b[0;34m,\u001b[0m \u001b[0mslot_meta\u001b[0m\u001b[0;34m)\u001b[0m\u001b[0;34m\u001b[0m\u001b[0;34m\u001b[0m\u001b[0m\n\u001b[0m\u001b[1;32m    230\u001b[0m \u001b[0;34m\u001b[0m\u001b[0m\n\u001b[1;32m    231\u001b[0m     scores = {'epoch': epoch, 'joint_acc': joint_acc_score,\n",
      "\u001b[0;32m~/repo/taepd/som-dst_edit/utils/eval_utils.py\u001b[0m in \u001b[0;36mper_domain_join_accuracy\u001b[0;34m(data, slot_temp)\u001b[0m\n\u001b[1;32m     21\u001b[0m                 \u001b[0mtemp_acc\u001b[0m \u001b[0;34m=\u001b[0m \u001b[0mcompute_acc\u001b[0m\u001b[0;34m(\u001b[0m\u001b[0mset\u001b[0m\u001b[0;34m(\u001b[0m\u001b[0mgg\u001b[0m\u001b[0;34m)\u001b[0m\u001b[0;34m,\u001b[0m \u001b[0mset\u001b[0m\u001b[0;34m(\u001b[0m\u001b[0mpp\u001b[0m\u001b[0;34m)\u001b[0m\u001b[0;34m,\u001b[0m \u001b[0mslot_temp\u001b[0m\u001b[0;34m)\u001b[0m\u001b[0;34m\u001b[0m\u001b[0;34m\u001b[0m\u001b[0m\n\u001b[1;32m     22\u001b[0m                 \u001b[0macc\u001b[0m \u001b[0;34m+=\u001b[0m \u001b[0mtemp_acc\u001b[0m\u001b[0;34m\u001b[0m\u001b[0;34m\u001b[0m\u001b[0m\n\u001b[0;32m---> 23\u001b[0;31m         \u001b[0mprint\u001b[0m\u001b[0;34m(\u001b[0m\u001b[0mdom\u001b[0m\u001b[0;34m,\u001b[0m \u001b[0mjt\u001b[0m \u001b[0;34m/\u001b[0m \u001b[0mcount\u001b[0m\u001b[0;34m,\u001b[0m \u001b[0macc\u001b[0m \u001b[0;34m/\u001b[0m \u001b[0mcount\u001b[0m\u001b[0;34m)\u001b[0m\u001b[0;34m\u001b[0m\u001b[0;34m\u001b[0m\u001b[0m\n\u001b[0m\u001b[1;32m     24\u001b[0m \u001b[0;34m\u001b[0m\u001b[0m\n\u001b[1;32m     25\u001b[0m \u001b[0;34m\u001b[0m\u001b[0m\n",
      "\u001b[0;31mZeroDivisionError\u001b[0m: division by zero"
     ]
    }
   ],
   "source": [
    "###### TEST DATA EVALUATION ######\n",
    "print(\"Test using best model...\")\n",
    "# best_epoch = best_score['epoch']\n",
    "ckpt_path = os.path.join(args.save_dir, 'model_best.bin')\n",
    "model = SomDST(model_config, len(op2id), len(domain2id), op2id['update'], args.exclude_domain)\n",
    "ckpt = torch.load(ckpt_path, map_location='cpu')\n",
    "model.load_state_dict(ckpt)\n",
    "model.to(device)\n",
    "\n",
    "model_evaluation(model, test_data_raw, tokenizer, slot_meta, 29, args.op_code,\n",
    "                 is_gt_op=False, is_gt_p_state=False, is_gt_gen=False)\n",
    "# model_evaluation(model, test_data_raw, tokenizer, slot_meta, best_epoch, args.op_code,\n",
    "#                  is_gt_op=False, is_gt_p_state=False, is_gt_gen=True)\n",
    "# model_evaluation(model, test_data_raw, tokenizer, slot_meta, best_epoch, args.op_code,\n",
    "#                  is_gt_op=False, is_gt_p_state=True, is_gt_gen=False)\n",
    "# model_evaluation(model, test_data_raw, tokenizer, slot_meta, best_epoch, args.op_code,\n",
    "#                  is_gt_op=False, is_gt_p_state=True, is_gt_gen=True)\n",
    "# model_evaluation(model, test_data_raw, tokenizer, slot_meta, best_epoch, args.op_code,\n",
    "#                  is_gt_op=True, is_gt_p_state=False, is_gt_gen=False)\n",
    "# model_evaluation(model, test_data_raw, tokenizer, slot_meta, best_epoch, args.op_code,\n",
    "#                  is_gt_op=True, is_gt_p_state=True, is_gt_gen=False)\n",
    "# model_evaluation(model, test_data_raw, tokenizer, slot_meta, best_epoch, args.op_code,\n",
    "#                  is_gt_op=True, is_gt_p_state=False, is_gt_gen=True)\n",
    "# model_evaluation(model, test_data_raw, tokenizer, slot_meta, best_epoch, args.op_code,\n",
    "#                  is_gt_op=True, is_gt_p_state=True, is_gt_gen=True)"
   ]
  },
  {
   "cell_type": "code",
   "execution_count": 20,
   "id": "07645e69-ecad-4732-b488-b85e1043fe80",
   "metadata": {},
   "outputs": [],
   "source": [
    "pred = json.load(open('preds_29.json'))"
   ]
  },
  {
   "cell_type": "code",
   "execution_count": 24,
   "id": "96a7b688-b037-4bea-ae47-b6d48afa49f8",
   "metadata": {},
   "outputs": [],
   "source": [
    "predictions = {}\n",
    "for k, v in pred.items():\n",
    "    predictions[k] = v[0]\n",
    "predictions\n",
    "\n",
    "json.dump(\n",
    "        predictions,\n",
    "#         open(f\"{args.output_dir}/predictions.csv\", \"w\"),\n",
    "        open(f\"predictions.csv\", \"w\"),\n",
    "        indent=2,\n",
    "        ensure_ascii=False,\n",
    "    )"
   ]
  }
 ],
 "metadata": {
  "kernelspec": {
   "display_name": "Python 3",
   "language": "python",
   "name": "python3"
  },
  "language_info": {
   "codemirror_mode": {
    "name": "ipython",
    "version": 3
   },
   "file_extension": ".py",
   "mimetype": "text/x-python",
   "name": "python",
   "nbconvert_exporter": "python",
   "pygments_lexer": "ipython3",
   "version": "3.7.7"
  }
 },
 "nbformat": 4,
 "nbformat_minor": 5
}
